{
 "cells": [
  {
   "cell_type": "markdown",
   "metadata": {},
   "source": [
    "## Optimal controller -- maximum possible performance\n",
    "\n",
    "This notebook uses Alice's matching code to determine the maximum possible performance\n",
    "\n",
    "Inputs:\n",
    "\n",
    "1. a picked peak file, with the peak *boundaries*\n",
    "1. the length of time an MS1 scan takes\n",
    "1. the length of time an MS2 scan takes\n",
    "1. N (for top-N)\n",
    "1. the minimum intensity for fragmentation\n",
    "\n",
    "The code then creates a bipartite graph with two types of nodes:\n",
    "\n",
    "1. scans (of either MS1 or MS2)\n",
    "1. peaks\n",
    "\n",
    "An edge is added between a scan and a peak *iff*:\n",
    "\n",
    "1. the scan start time is within the start and end RT of the peak\n",
    "1. the peak had an intensity >= the min intensity at the time of the last MS1 scan\n",
    "\n",
    "i.e. this is showing the best possible top-N performance if, by magic, one could not fragment anything that didn't turn into a peak."
   ]
  },
  {
   "cell_type": "code",
   "execution_count": 7,
   "metadata": {},
   "outputs": [],
   "source": [
    "import sys\n",
    "import os\n",
    "import bisect\n",
    "\n",
    "from mass_spec_utils.data_import.mzml import MZMLFile\n",
    "from mass_spec_utils.data_import.mzmine import load_picked_boxes"
   ]
  },
  {
   "cell_type": "code",
   "execution_count": 8,
   "metadata": {},
   "outputs": [],
   "source": [
    "pymzm_folder = '/Users/simon/git/pymzm'\n",
    "# pymzm_folder = '/home/simon/git/pymzm'\n",
    "vimms_folder = '/Users/simon/git/vimms'\n",
    "# vimms_folder = '/home/simon/git/vimms/'\n"
   ]
  },
  {
   "cell_type": "code",
   "execution_count": 9,
   "metadata": {},
   "outputs": [],
   "source": [
    "sys.path.append(pymzm_folder)\n",
    "sys.path.append(vimms_folder)"
   ]
  },
  {
   "cell_type": "markdown",
   "metadata": {},
   "source": [
    "Local package import"
   ]
  },
  {
   "cell_type": "code",
   "execution_count": 10,
   "metadata": {},
   "outputs": [],
   "source": [
    "from vimms.Roi import Roi"
   ]
  },
  {
   "cell_type": "markdown",
   "metadata": {},
   "source": [
    "## Define parameters"
   ]
  },
  {
   "cell_type": "code",
   "execution_count": 11,
   "metadata": {},
   "outputs": [],
   "source": [
    "min_rt = 0 # start value\n",
    "max_rt = 26*60 # end value\n",
    "topn_time_dict = {1: 0.60,2:0.20} # how long do the different scan types take\n",
    "N = 10 # top-N value\n",
    "min_ms1_intensity = 1e5 # min intensity for fragmentation\n",
    "data_folder = '/Users/simon/University of Glasgow/Vinny Davies - CLDS Metabolomics Project/Experimental_Results/20200715_TopN_vs_ROI/from_controllers/QCB'\n",
    "pp_file_path = os.path.join(data_folder,'Fullscan_QCB_box.csv')\n",
    "mzml_file_path = os.path.join(data_folder,'Fullscan_QCB.mzML')\n",
    "verbose = True\n",
    "\n"
   ]
  },
  {
   "cell_type": "markdown",
   "metadata": {},
   "source": [
    "### 1. Load the picked peak boxes"
   ]
  },
  {
   "cell_type": "code",
   "execution_count": 12,
   "metadata": {},
   "outputs": [
    {
     "name": "stdout",
     "output_type": "stream",
     "text": [
      "Loaded 6278 picked peak boxes\n"
     ]
    }
   ],
   "source": [
    "boxes = load_picked_boxes(pp_file_path)\n",
    "print(\"Loaded {} picked peak boxes\".format(len(boxes)))"
   ]
  },
  {
   "cell_type": "markdown",
   "metadata": {},
   "source": [
    "### 2. Load the mzml file"
   ]
  },
  {
   "cell_type": "code",
   "execution_count": 13,
   "metadata": {},
   "outputs": [
    {
     "name": "stdout",
     "output_type": "stream",
     "text": [
      "Loaded 3697 scans\n"
     ]
    }
   ],
   "source": [
    "mzfile  = MZMLFile(mzml_file_path)"
   ]
  },
  {
   "cell_type": "markdown",
   "metadata": {},
   "source": [
    "### 3. Set up the scan times"
   ]
  },
  {
   "cell_type": "code",
   "execution_count": 14,
   "metadata": {},
   "outputs": [
    {
     "name": "stdout",
     "output_type": "stream",
     "text": [
      "Created 6601 scan times and levels\n"
     ]
    }
   ],
   "source": [
    "scan_levels = []\n",
    "scan_start_times = []\n",
    "time = 0\n",
    "while True:\n",
    "    # add an MS1\n",
    "    scan_levels.append(1)\n",
    "    scan_start_times.append(time)\n",
    "    time += topn_time_dict[1]\n",
    "    if time > max_rt:\n",
    "        break\n",
    "    # add N MS2\n",
    "    for n in range(N):\n",
    "        scan_levels.append(2)\n",
    "        scan_start_times.append(time)\n",
    "        time += topn_time_dict[2]\n",
    "        if time > max_rt:\n",
    "            break\n",
    "print(\"Created {} scan times and levels\".format(len(scan_levels)))"
   ]
  },
  {
   "cell_type": "markdown",
   "metadata": {},
   "source": [
    "### 4. Add ROIs to the peak boxes"
   ]
  },
  {
   "cell_type": "code",
   "execution_count": 15,
   "metadata": {},
   "outputs": [
    {
     "name": "stdout",
     "output_type": "stream",
     "text": [
      "0 3697\n",
      "100 3697\n",
      "200 3697\n",
      "300 3697\n",
      "400 3697\n",
      "500 3697\n",
      "600 3697\n",
      "700 3697\n",
      "800 3697\n",
      "900 3697\n",
      "1000 3697\n",
      "1100 3697\n",
      "1200 3697\n",
      "1300 3697\n",
      "1400 3697\n",
      "1500 3697\n",
      "1600 3697\n",
      "1700 3697\n",
      "1800 3697\n",
      "1900 3697\n",
      "2000 3697\n",
      "2100 3697\n",
      "2200 3697\n",
      "2300 3697\n",
      "2400 3697\n",
      "2500 3697\n",
      "2600 3697\n",
      "2700 3697\n",
      "2800 3697\n",
      "2900 3697\n",
      "3000 3697\n",
      "3100 3697\n",
      "3200 3697\n",
      "3300 3697\n",
      "3400 3697\n",
      "3500 3697\n",
      "3600 3697\n",
      "Of 6278 boxes, 6278 have roi\n"
     ]
    }
   ],
   "source": [
    "# reset in case we run more than once\n",
    "for box in boxes:\n",
    "    box.roi = None\n",
    "    \n",
    "for i,scan in enumerate(mzfile.scans):\n",
    "    if scan.ms_level == 2:\n",
    "        continue # skip MS2 scans\n",
    "    if verbose and i%100 == 0:\n",
    "        print(i,len(mzfile.scans))\n",
    "        \n",
    "    scan_rt = scan.rt_in_seconds\n",
    "    \n",
    "    # find the boxes that are active at this scan\n",
    "    ok_boxes = list(filter(lambda x: x.rt_range_in_seconds[0] <= scan_rt and x.rt_range_in_seconds[1] >= scan_rt,boxes))\n",
    "    if len(ok_boxes) == 0:\n",
    "        continue # no boxes now, onto the next scan\n",
    "    \n",
    "    mz_list,intensity_list = zip(*scan.peaks)\n",
    "    for box in ok_boxes:\n",
    "        \n",
    "        min_idx = bisect.bisect_right(mz_list,box.mz_range[0])\n",
    "        max_idx = bisect.bisect_right(mz_list,box.mz_range[1])\n",
    "        sub_peaks = []\n",
    "        for i in range(min_idx,max_idx):\n",
    "            sub_peaks.append((mz_list[i],intensity_list[i]))\n",
    "        if len(sub_peaks) > 0:\n",
    "            sub_peaks.sort(key = lambda x: x[1],reverse = True) # sort by descending intensity\n",
    "            peak_mz = sub_peaks[0][0]\n",
    "            peak_intensity = sub_peaks[0][1]\n",
    "            peak_rt = scan_rt\n",
    "\n",
    "            if box.roi is None:\n",
    "                box.roi = Roi(peak_mz,peak_rt,peak_intensity)\n",
    "            else:\n",
    "                box.roi.add(peak_mz,peak_rt,peak_intensity)\n",
    "                \n",
    "n_with_roi = 0\n",
    "for box in boxes:\n",
    "    if box.roi is not None:\n",
    "        n_with_roi += 1\n",
    "print(\"Of {} boxes, {} have roi\".format(len(boxes),n_with_roi))"
   ]
  },
  {
   "cell_type": "code",
   "execution_count": 16,
   "metadata": {},
   "outputs": [
    {
     "name": "stdout",
     "output_type": "stream",
     "text": [
      "2346: [247.10794067382812, 247.11643981933594] [7.6004010712, 7.72969039975] [456.02406427200003, 463.781423985]\n",
      "[247.11607360839844, 247.10842895507812, 247.10824584960938, 247.11618041992188, 247.11611938476562, 247.11643981933594, 247.1160888671875, 247.11622619628906, 247.10818481445312, 247.10826110839844, 247.10797119140625, 247.1082305908203, 247.10801696777344, 247.1080322265625, 247.108154296875, 247.10812377929688, 247.1079559326172, 247.108154296875]\n"
     ]
    }
   ],
   "source": [
    "# a little test\n",
    "box_pos = 2345\n",
    "print(boxes[box_pos],boxes[box_pos].rt_range_in_seconds)\n",
    "print(boxes[box_pos].roi.mz_list)"
   ]
  },
  {
   "cell_type": "markdown",
   "metadata": {},
   "source": [
    "### 5. Make the graph edges\n",
    "\n",
    "1. Loop over the boxes\n",
    "1. Find all MS1 scans at which the intensity exceeds the minmum\n",
    "1. Add edges to all ms2 scans within the block\n",
    "\n",
    "Note:\n",
    " - This method ignores the intensity *at the MS2 scan time*\n"
   ]
  },
  {
   "cell_type": "code",
   "execution_count": 17,
   "metadata": {},
   "outputs": [
    {
     "name": "stdout",
     "output_type": "stream",
     "text": [
      "23842 possible edges found\n"
     ]
    }
   ],
   "source": [
    "def get_intensity(roi,rt):\n",
    "    if rt < roi.rt_list[0] or rt > roi.rt_list[-1]:\n",
    "        return 0\n",
    "    else:\n",
    "        pos = bisect.bisect_right(roi.rt_list,rt)\n",
    "        before_pos = pos - 1\n",
    "        after_pos = pos\n",
    "        prop = (rt - roi.rt_list[before_pos])/(roi.rt_list[after_pos] - roi.rt_list[before_pos])\n",
    "        return roi.intensity_list[before_pos] + prop*(roi.intensity_list[after_pos] - roi.intensity_list[before_pos])\n",
    "\n",
    "edges = []\n",
    "\n",
    "for box in boxes:\n",
    "    peak_id = box.peak_id\n",
    "    rt_start = box.rt_range_in_seconds[0]\n",
    "    rt_end = box.rt_range_in_seconds[1]\n",
    "    spo = bisect.bisect_right(scan_start_times,rt_start)\n",
    "    can_fragment = False # until we see an MS1\n",
    "    while spo < len(scan_start_times) and scan_start_times[spo] < rt_end:\n",
    "        if scan_levels[spo] == 1:\n",
    "            if get_intensity(box.roi,scan_start_times[spo]) >= min_ms1_intensity:\n",
    "                can_fragment = True\n",
    "            else:\n",
    "                can_fragment = False\n",
    "        if scan_levels[spo] == 2:\n",
    "            if can_fragment:\n",
    "                edges.append((spo,peak_id,box))\n",
    "        spo += 1\n",
    "print(\"{} possible edges found\".format(len(edges)))"
   ]
  },
  {
   "cell_type": "code",
   "execution_count": 19,
   "metadata": {},
   "outputs": [],
   "source": [
    "# add AM code here\n"
   ]
  },
  {
   "cell_type": "code",
   "execution_count": null,
   "metadata": {},
   "outputs": [],
   "source": []
  },
  {
   "cell_type": "code",
   "execution_count": null,
   "metadata": {},
   "outputs": [],
   "source": []
  },
  {
   "cell_type": "code",
   "execution_count": null,
   "metadata": {},
   "outputs": [],
   "source": []
  },
  {
   "cell_type": "code",
   "execution_count": null,
   "metadata": {},
   "outputs": [],
   "source": []
  },
  {
   "cell_type": "code",
   "execution_count": null,
   "metadata": {},
   "outputs": [],
   "source": []
  },
  {
   "cell_type": "code",
   "execution_count": null,
   "metadata": {},
   "outputs": [],
   "source": []
  },
  {
   "cell_type": "code",
   "execution_count": null,
   "metadata": {},
   "outputs": [],
   "source": []
  },
  {
   "cell_type": "code",
   "execution_count": null,
   "metadata": {},
   "outputs": [],
   "source": []
  },
  {
   "cell_type": "code",
   "execution_count": null,
   "metadata": {},
   "outputs": [],
   "source": []
  },
  {
   "cell_type": "code",
   "execution_count": null,
   "metadata": {},
   "outputs": [],
   "source": []
  },
  {
   "cell_type": "code",
   "execution_count": null,
   "metadata": {},
   "outputs": [],
   "source": []
  },
  {
   "cell_type": "code",
   "execution_count": null,
   "metadata": {},
   "outputs": [],
   "source": []
  },
  {
   "cell_type": "code",
   "execution_count": null,
   "metadata": {},
   "outputs": [],
   "source": []
  },
  {
   "cell_type": "code",
   "execution_count": null,
   "metadata": {},
   "outputs": [],
   "source": [
    "import csv\n",
    "orig_edges = []\n",
    "with open('/home/simon/git/vimms/experimental/graph_optimal/qca_5e3_edges.csv','w') as f:\n",
    "    writer = csv.writer(f)\n",
    "    for scan,peak in edges:\n",
    "        writer.writerow(['S{}'.format(scan),'B{}'.format(peak)])\n",
    "        orig_edges.append(['B{}'.format(peak),'S{}'.format(scan)])"
   ]
  },
  {
   "cell_type": "code",
   "execution_count": null,
   "metadata": {},
   "outputs": [],
   "source": [
    "edges = set(edges)"
   ]
  },
  {
   "cell_type": "code",
   "execution_count": null,
   "metadata": {},
   "outputs": [],
   "source": [
    "print(len(edges))"
   ]
  },
  {
   "cell_type": "code",
   "execution_count": null,
   "metadata": {},
   "outputs": [],
   "source": []
  },
  {
   "cell_type": "markdown",
   "metadata": {},
   "source": [
    "Check the initial results"
   ]
  },
  {
   "cell_type": "code",
   "execution_count": null,
   "metadata": {},
   "outputs": [],
   "source": [
    "res_file = '/home/simon/git/vimms/experimental/graph_optimal/qcb_edgesResults.txt'\n",
    "matches = []\n",
    "with open(res_file,'r') as f:\n",
    "    reader = csv.reader(f,delimiter = ',')\n",
    "    for line in reader:\n",
    "        if len(line) < 2:\n",
    "            continue\n",
    "        if '.' in line[0]:\n",
    "            continue\n",
    "        matches.append(line)\n",
    "unique_boxes = set([x[0] for x in matches])\n",
    "dashes = list(filter(lambda x: x[1] == '-',matches))\n",
    "matches = list(filter(lambda x: not x[1] == '-',matches))\n",
    "print(len(unique_boxes))\n",
    "print(len(dashes))\n",
    "\n",
    "original_unique_boxes = set((x[0] for x in orig_edges))\n",
    "print(len(original_unique_boxes))"
   ]
  },
  {
   "cell_type": "code",
   "execution_count": null,
   "metadata": {},
   "outputs": [],
   "source": [
    "unique_boxes = set([x[0] for x in matches])\n",
    "unique_scans = set([x[1] for x in matches])\n",
    "print(len(unique_boxes))\n",
    "print(len(unique_scans))"
   ]
  },
  {
   "cell_type": "code",
   "execution_count": null,
   "metadata": {},
   "outputs": [],
   "source": [
    "# make a schedule\n",
    "schedule = []\n",
    "box_dict = {b.peak_id:b for b in boxes}\n",
    "count = 0\n",
    "for i,(level,time) in enumerate(zip(scan_levels,scan_start_times)):\n",
    "    s_id = 'S{}'.format(i)\n",
    "    if level == 1:\n",
    "        schedule.append(('MS1',None,time,None,pp_file))\n",
    "        match = list(filter(lambda x: x[1] == s_id,matches))\n",
    "        assert len(match) == 0\n",
    "    else:\n",
    "        # find it in the matching\n",
    "        match = list(filter(lambda x: x[1] == s_id,matches))\n",
    "        assert len(match) <= 1\n",
    "        if len(match) == 0:\n",
    "            schedule.append(('MS2',-1,time,None,pp_file)) # set precursor to -1 to indicate empty\n",
    "        else:\n",
    "            count += 1\n",
    "            box_id = int(match[0][0][1:])\n",
    "            box = box_dict[box_id]\n",
    "            mz = box.mz\n",
    "            schedule.append(['MS2',mz,time,box_id,pp_file])\n",
    "print(count)"
   ]
  },
  {
   "cell_type": "code",
   "execution_count": null,
   "metadata": {},
   "outputs": [],
   "source": [
    "with open('/home/simon/git/vimms/experimental/graph_optimal/qcb_schedule.csv','w') as f:\n",
    "    writer = csv.writer(f)\n",
    "    for row in schedule:\n",
    "        writer.writerow(row)"
   ]
  },
  {
   "cell_type": "code",
   "execution_count": null,
   "metadata": {},
   "outputs": [],
   "source": []
  },
  {
   "cell_type": "code",
   "execution_count": null,
   "metadata": {},
   "outputs": [],
   "source": []
  },
  {
   "cell_type": "markdown",
   "metadata": {},
   "source": [
    "# score by distance from apex\n",
    "\n",
    "- Compute a score from 1 to 10 where 10 is as close to the apex as possible and then decay as the scans get further away"
   ]
  },
  {
   "cell_type": "code",
   "execution_count": null,
   "metadata": {},
   "outputs": [],
   "source": [
    "# Match the boxes back to the original signal"
   ]
  },
  {
   "cell_type": "code",
   "execution_count": null,
   "metadata": {},
   "outputs": [],
   "source": [
    "from ms2_matching import MZMLFile"
   ]
  },
  {
   "cell_type": "code",
   "execution_count": null,
   "metadata": {},
   "outputs": [],
   "source": [
    "# loop over scans, adding intensity values to the boxes"
   ]
  },
  {
   "cell_type": "code",
   "execution_count": null,
   "metadata": {},
   "outputs": [],
   "source": [
    "sub_boxes = [boxes[0]]\n",
    "print(sub_boxes)"
   ]
  },
  {
   "cell_type": "code",
   "execution_count": null,
   "metadata": {},
   "outputs": [],
   "source": [
    "print(boxes[0].roi)\n",
    "print(boxes[0])"
   ]
  },
  {
   "cell_type": "code",
   "execution_count": null,
   "metadata": {},
   "outputs": [],
   "source": [
    "import pylab as plt\n",
    "%matplotlib inline\n",
    "plt.figure(figsize = (10,10))\n",
    "plt.plot(boxes[1].roi.rt_list,boxes[1].roi.intensity_list,'ro')\n",
    "plt.xlim([520,530])\n",
    "plt.plot(527,get_intensity(boxes[1].roi,527),'bo')\n",
    "plt.ylim([0,6e6])"
   ]
  },
  {
   "cell_type": "code",
   "execution_count": null,
   "metadata": {},
   "outputs": [],
   "source": [
    "import bisect\n"
   ]
  },
  {
   "cell_type": "code",
   "execution_count": null,
   "metadata": {},
   "outputs": [],
   "source": []
  },
  {
   "cell_type": "code",
   "execution_count": null,
   "metadata": {},
   "outputs": [],
   "source": [
    "count = 0\n",
    "total = 0\n",
    "no_roi = 0\n",
    "for level,precursor,time,box_id,_ in schedule:\n",
    "    if level == 'MS2' and precursor > -1:\n",
    "        total +=1\n",
    "        box = box_dict[box_id]\n",
    "        if not box.roi is None:\n",
    "            intensity = get_intensity(box.roi,time)\n",
    "            if intensity >= 5e3:\n",
    "                count += 1\n",
    "        else:\n",
    "            no_roi += 1\n",
    "print(count,total,no_roi)"
   ]
  },
  {
   "cell_type": "code",
   "execution_count": null,
   "metadata": {},
   "outputs": [],
   "source": []
  }
 ],
 "metadata": {
  "kernelspec": {
   "display_name": "Python 3",
   "language": "python",
   "name": "python3"
  },
  "language_info": {
   "codemirror_mode": {
    "name": "ipython",
    "version": 3
   },
   "file_extension": ".py",
   "mimetype": "text/x-python",
   "name": "python",
   "nbconvert_exporter": "python",
   "pygments_lexer": "ipython3",
   "version": "3.7.5"
  }
 },
 "nbformat": 4,
 "nbformat_minor": 4
}
