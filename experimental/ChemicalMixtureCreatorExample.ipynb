{
 "cells": [
  {
   "cell_type": "markdown",
   "metadata": {},
   "source": [
    "# Example notebook to show how the new chemical mixture creator works"
   ]
  },
  {
   "cell_type": "code",
   "execution_count": 137,
   "metadata": {},
   "outputs": [],
   "source": [
    "import os\n",
    "import sys\n",
    "from pathlib import Path"
   ]
  },
  {
   "cell_type": "code",
   "execution_count": 147,
   "metadata": {},
   "outputs": [],
   "source": [
    "vimms_path = '/Users/simon/git/vimms'\n",
    "sys.path.append(vimms_path)\n",
    "# path to fixtures so we can load HMDB\n",
    "BASE_DIR = os.path.abspath(Path(vimms_path,'tests','integration', 'fixtures'))"
   ]
  },
  {
   "cell_type": "code",
   "execution_count": 148,
   "metadata": {},
   "outputs": [
    {
     "name": "stdout",
     "output_type": "stream",
     "text": [
      "The autoreload extension is already loaded. To reload it, use:\n",
      "  %reload_ext autoreload\n"
     ]
    }
   ],
   "source": [
    "%load_ext autoreload\n",
    "%autoreload 2\n",
    "\n",
    "from vimms.Common import *\n",
    "from vimms.Controller import AIF\n",
    "from vimms.Environment import Environment\n",
    "from vimms.MassSpec import IndependentMassSpectrometer\n",
    "\n",
    "# Noise for the MS\n",
    "from vimms.Noise import GaussianPeakNoise,  UniformSpikeNoise\n",
    "\n",
    "# Chemical creator import\n",
    "from vimms.Chemicals import ChemicalMixtureCreator\n",
    "from vimms.ChemicalSamplers import UniformRTAndIntensitySampler, UniformMS2Sampler, CRPMS2Sampler, GaussianChromatogramSampler\n",
    "\n",
    "\n"
   ]
  },
  {
   "cell_type": "markdown",
   "metadata": {},
   "source": [
    "Load HMDB"
   ]
  },
  {
   "cell_type": "code",
   "execution_count": 141,
   "metadata": {},
   "outputs": [],
   "source": [
    "HMDB = load_obj(Path(BASE_DIR, 'hmdb_compounds.p'))"
   ]
  },
  {
   "cell_type": "code",
   "execution_count": 143,
   "metadata": {},
   "outputs": [],
   "source": [
    "N_CHEMS = 10\n",
    "MZ_RANGE = [(0, 1050)]\n",
    "RT_RANGE = [(300, 500)]"
   ]
  },
  {
   "cell_type": "code",
   "execution_count": 151,
   "metadata": {},
   "outputs": [],
   "source": [
    "# sample RT and log intensity uniformly. See class def for min and max log intensity\n",
    "# returns actual intensity, but samples in log space\n",
    "uu = UniformRTAndIntensitySampler(min_rt = 300, max_rt = 500)\n",
    "\n",
    "# a sampler that samples MS2 uniform between 50 and the mass of the formula.\n",
    "# number ofo MS2 peaks is poisson with mean poiss_peak_mean\n",
    "us = UniformMS2Sampler(poiss_peak_mean=5)\n",
    "\n",
    "# OR a CRP MS2 sampler\n",
    "us = CRPMS2Sampler()\n",
    "\n",
    "# generates Gaussian chromatograms\n",
    "cs = GaussianChromatogramSampler()\n",
    "\n",
    "# The chemical mixture creator object\n",
    "\n",
    "cm = ChemicalMixtureCreator(HMDB, rt_and_intensity_sampler=uu, \n",
    "                            adduct_prior_dict=ADDUCT_DICT_POS_MH,\n",
    "                            chromatogram_sampler=cs,\n",
    "                            ms2_sampler = us)\n",
    "\n",
    "d = cm.sample(MZ_RANGE,RT_RANGE,N_CHEMS,2)"
   ]
  },
  {
   "cell_type": "markdown",
   "metadata": {},
   "source": [
    "Print the sampled chemicals, and their children"
   ]
  },
  {
   "cell_type": "code",
   "execution_count": 152,
   "metadata": {},
   "outputs": [
    {
     "name": "stdout",
     "output_type": "stream",
     "text": [
      "KnownChemical - 'C5H10NO7P' rt=303.83 max_intensity=276339.40\n",
      "\t MSN Fragment mz=55.1608 ms_level=2\n",
      "\t MSN Fragment mz=93.0238 ms_level=2\n",
      "\t MSN Fragment mz=93.8821 ms_level=2\n",
      "\t MSN Fragment mz=96.7493 ms_level=2\n",
      "\t MSN Fragment mz=97.3165 ms_level=2\n",
      "\t MSN Fragment mz=121.1201 ms_level=2\n",
      "\t MSN Fragment mz=145.3962 ms_level=2\n",
      "\t MSN Fragment mz=151.4234 ms_level=2\n",
      "\t MSN Fragment mz=185.1501 ms_level=2\n",
      "\t MSN Fragment mz=209.1331 ms_level=2\n",
      "KnownChemical - 'C11H16O7' rt=343.72 max_intensity=3215141.93\n",
      "\t MSN Fragment mz=124.7622 ms_level=2\n",
      "\t MSN Fragment mz=134.9777 ms_level=2\n",
      "\t MSN Fragment mz=183.3021 ms_level=2\n",
      "\t MSN Fragment mz=208.5835 ms_level=2\n",
      "\t MSN Fragment mz=234.4510 ms_level=2\n",
      "\t MSN Fragment mz=256.8066 ms_level=2\n",
      "KnownChemical - 'C9H20' rt=358.40 max_intensity=32827.53\n",
      "\t MSN Fragment mz=52.4349 ms_level=2\n",
      "\t MSN Fragment mz=61.8455 ms_level=2\n",
      "\t MSN Fragment mz=63.3213 ms_level=2\n",
      "\t MSN Fragment mz=65.2004 ms_level=2\n",
      "\t MSN Fragment mz=65.8141 ms_level=2\n",
      "\t MSN Fragment mz=91.9011 ms_level=2\n",
      "\t MSN Fragment mz=98.0113 ms_level=2\n",
      "\t MSN Fragment mz=104.5153 ms_level=2\n",
      "\t MSN Fragment mz=104.6563 ms_level=2\n",
      "\t MSN Fragment mz=105.5608 ms_level=2\n",
      "KnownChemical - 'C29H31N7O' rt=380.02 max_intensity=23192.87\n",
      "\t MSN Fragment mz=127.6591 ms_level=2\n",
      "\t MSN Fragment mz=139.2556 ms_level=2\n",
      "\t MSN Fragment mz=220.9893 ms_level=2\n",
      "\t MSN Fragment mz=309.7438 ms_level=2\n",
      "\t MSN Fragment mz=310.6814 ms_level=2\n",
      "\t MSN Fragment mz=403.6967 ms_level=2\n",
      "\t MSN Fragment mz=404.0828 ms_level=2\n",
      "\t MSN Fragment mz=429.3619 ms_level=2\n",
      "\t MSN Fragment mz=451.0723 ms_level=2\n",
      "KnownChemical - 'C3H7O6P' rt=388.24 max_intensity=185519.60\n",
      "\t MSN Fragment mz=82.9985 ms_level=2\n",
      "\t MSN Fragment mz=84.3250 ms_level=2\n",
      "\t MSN Fragment mz=110.3493 ms_level=2\n",
      "\t MSN Fragment mz=138.5273 ms_level=2\n",
      "\t MSN Fragment mz=150.6885 ms_level=2\n",
      "\t MSN Fragment mz=158.7469 ms_level=2\n",
      "\t MSN Fragment mz=160.6658 ms_level=2\n",
      "KnownChemical - 'C14H18O6' rt=391.67 max_intensity=442838.14\n",
      "\t MSN Fragment mz=149.0456 ms_level=2\n",
      "\t MSN Fragment mz=178.2933 ms_level=2\n",
      "\t MSN Fragment mz=182.7153 ms_level=2\n",
      "\t MSN Fragment mz=184.8060 ms_level=2\n",
      "\t MSN Fragment mz=206.8771 ms_level=2\n",
      "\t MSN Fragment mz=211.1737 ms_level=2\n",
      "\t MSN Fragment mz=219.1765 ms_level=2\n",
      "\t MSN Fragment mz=242.7009 ms_level=2\n",
      "\t MSN Fragment mz=254.7459 ms_level=2\n",
      "\t MSN Fragment mz=272.5099 ms_level=2\n",
      "\t MSN Fragment mz=281.4023 ms_level=2\n",
      "KnownChemical - 'C30H62O2' rt=419.98 max_intensity=9719290.80\n",
      "\t MSN Fragment mz=120.6917 ms_level=2\n",
      "\t MSN Fragment mz=130.5553 ms_level=2\n",
      "\t MSN Fragment mz=156.3188 ms_level=2\n",
      "\t MSN Fragment mz=254.7459 ms_level=2\n",
      "\t MSN Fragment mz=256.7800 ms_level=2\n",
      "\t MSN Fragment mz=289.5798 ms_level=2\n",
      "\t MSN Fragment mz=361.5997 ms_level=2\n",
      "\t MSN Fragment mz=389.3559 ms_level=2\n",
      "\t MSN Fragment mz=448.6496 ms_level=2\n",
      "KnownChemical - 'C10H13N4O8PS' rt=452.77 max_intensity=28778.07\n",
      "\t MSN Fragment mz=64.4908 ms_level=2\n",
      "\t MSN Fragment mz=67.3576 ms_level=2\n",
      "\t MSN Fragment mz=141.2105 ms_level=2\n",
      "\t MSN Fragment mz=157.0104 ms_level=2\n",
      "\t MSN Fragment mz=168.6214 ms_level=2\n",
      "\t MSN Fragment mz=236.0580 ms_level=2\n",
      "\t MSN Fragment mz=301.8285 ms_level=2\n",
      "\t MSN Fragment mz=304.5702 ms_level=2\n",
      "KnownChemical - 'C23H24N2O4S' rt=464.55 max_intensity=61662.39\n",
      "\t MSN Fragment mz=96.4143 ms_level=2\n",
      "\t MSN Fragment mz=143.7299 ms_level=2\n",
      "\t MSN Fragment mz=370.6320 ms_level=2\n",
      "\t MSN Fragment mz=390.5537 ms_level=2\n",
      "\t MSN Fragment mz=420.4053 ms_level=2\n",
      "KnownChemical - 'C19H25N3O10S' rt=481.26 max_intensity=1881579.77\n",
      "\t MSN Fragment mz=88.4486 ms_level=2\n",
      "\t MSN Fragment mz=160.7219 ms_level=2\n",
      "\t MSN Fragment mz=251.7064 ms_level=2\n",
      "\t MSN Fragment mz=270.4283 ms_level=2\n",
      "\t MSN Fragment mz=433.3998 ms_level=2\n",
      "\t MSN Fragment mz=435.9672 ms_level=2\n",
      "\t MSN Fragment mz=482.3523 ms_level=2\n"
     ]
    }
   ],
   "source": [
    "d.sort(key=lambda x: x.rt)\n",
    "for chem in d:\n",
    "    print(chem)\n",
    "    for child in chem.children:\n",
    "        print('\\t',child)"
   ]
  },
  {
   "cell_type": "markdown",
   "metadata": {},
   "source": [
    "Create and run an example controller. In this case, AIF."
   ]
  },
  {
   "cell_type": "code",
   "execution_count": 156,
   "metadata": {},
   "outputs": [],
   "source": [
    "controller = AIF(MZ_RANGE[0][0],MZ_RANGE[0][1])\n",
    "ionisation_mode = POSITIVE\n",
    "scan_time_dict = {1:0.6,2:0.06}\n",
    "\n",
    "\n",
    "mz_noise = GaussianPeakNoise(0.001)\n",
    "intensity_noise = GaussianPeakNoise(0.1,log_space=True)\n",
    "\n",
    "# This is new: spike noise which ensures no scans are empty\n",
    "# first argument is density: how many spikes to sample per unit m/z. Second is max spike intensity\n",
    "spike_noise = UniformSpikeNoise(0.01,1e3)\n",
    "\n",
    "\n",
    "# note the None in the call in place of a peak sampler object - this isn't used anywhere in this example\n",
    "mass_spec = IndependentMassSpectrometer(ionisation_mode, d, None,\n",
    "                                        scan_duration_dict = scan_time_dict, \n",
    "                                        mz_noise = mz_noise,\n",
    "                                        intensity_noise = intensity_noise,\n",
    "                                        spike_noise = spike_noise)\n"
   ]
  },
  {
   "cell_type": "code",
   "execution_count": 157,
   "metadata": {},
   "outputs": [],
   "source": [
    "env = Environment(mass_spec, controller, 300, 600, progress_bar=True)"
   ]
  },
  {
   "cell_type": "code",
   "execution_count": 158,
   "metadata": {},
   "outputs": [
    {
     "name": "stderr",
     "output_type": "stream",
     "text": [
      "(600.000s) ms_level=1: 100%|█████████▉| 299.99999999999994/300 [00:07<00:00, 41.59it/s] \n"
     ]
    }
   ],
   "source": [
    "set_log_level_warning()\n",
    "# run the simulation\n",
    "env.run()\n",
    "env.write_mzML('.','test.mzML')"
   ]
  },
  {
   "cell_type": "code",
   "execution_count": null,
   "metadata": {},
   "outputs": [],
   "source": []
  }
 ],
 "metadata": {
  "kernelspec": {
   "display_name": "Python 3",
   "language": "python",
   "name": "python3"
  },
  "language_info": {
   "codemirror_mode": {
    "name": "ipython",
    "version": 3
   },
   "file_extension": ".py",
   "mimetype": "text/x-python",
   "name": "python",
   "nbconvert_exporter": "python",
   "pygments_lexer": "ipython3",
   "version": "3.7.5"
  }
 },
 "nbformat": 4,
 "nbformat_minor": 4
}
