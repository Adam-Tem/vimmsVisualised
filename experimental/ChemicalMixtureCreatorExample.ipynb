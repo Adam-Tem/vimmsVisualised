{
 "cells": [
  {
   "cell_type": "markdown",
   "metadata": {},
   "source": [
    "# Example notebook to show how the new chemical mixture creator works"
   ]
  },
  {
   "cell_type": "code",
   "execution_count": 10,
   "metadata": {},
   "outputs": [],
   "source": [
    "import os\n",
    "import sys\n",
    "from pathlib import Path"
   ]
  },
  {
   "cell_type": "code",
   "execution_count": 11,
   "metadata": {},
   "outputs": [],
   "source": [
    "vimms_path = '/Users/simon/git/vimms'\n",
    "sys.path.append(vimms_path)\n",
    "# path to fixtures so we can load HMDB\n",
    "BASE_DIR = os.path.abspath(Path(vimms_path,'tests','integration', 'fixtures'))"
   ]
  },
  {
   "cell_type": "code",
   "execution_count": 28,
   "metadata": {},
   "outputs": [
    {
     "name": "stdout",
     "output_type": "stream",
     "text": [
      "The autoreload extension is already loaded. To reload it, use:\n",
      "  %reload_ext autoreload\n"
     ]
    }
   ],
   "source": [
    "%load_ext autoreload\n",
    "%autoreload 2\n",
    "\n",
    "from vimms.Common import *\n",
    "from vimms.Controller import AIF\n",
    "from vimms.Environment import Environment\n",
    "from vimms.MassSpec import IndependentMassSpectrometer\n",
    "\n",
    "# Noise for the MS\n",
    "from vimms.Noise import GaussianPeakNoise,  UniformSpikeNoise\n",
    "\n",
    "# Chemical creator import\n",
    "from vimms.Chemicals import ChemicalMixtureCreator\n",
    "from vimms.ChemicalSamplers import UniformRTAndIntensitySampler, UniformMS2Sampler, CRPMS2Sampler, GaussianChromatogramSampler, DatabaseFormulaSampler, UniformMZFormulaSampler\n",
    "\n",
    "\n"
   ]
  },
  {
   "cell_type": "markdown",
   "metadata": {},
   "source": [
    "Load HMDB"
   ]
  },
  {
   "cell_type": "code",
   "execution_count": 20,
   "metadata": {},
   "outputs": [],
   "source": [
    "HMDB = load_obj(Path(BASE_DIR, 'hmdb_compounds.p'))"
   ]
  },
  {
   "cell_type": "code",
   "execution_count": 29,
   "metadata": {},
   "outputs": [],
   "source": [
    "N_CHEMS = 10\n",
    "MZ_RANGE = [(0, 1050)]\n",
    "RT_RANGE = [(300, 500)]"
   ]
  },
  {
   "cell_type": "code",
   "execution_count": 41,
   "metadata": {},
   "outputs": [
    {
     "ename": "TypeError",
     "evalue": "isinstance() arg 2 must be a type or tuple of types",
     "output_type": "error",
     "traceback": [
      "\u001b[0;31m---------------------------------------------------------------------------\u001b[0m",
      "\u001b[0;31mTypeError\u001b[0m                                 Traceback (most recent call last)",
      "\u001b[0;32m<ipython-input-41-7c890ceed1d7>\u001b[0m in \u001b[0;36m<module>\u001b[0;34m\u001b[0m\n\u001b[1;32m     25\u001b[0m                             ms2_sampler = us)\n\u001b[1;32m     26\u001b[0m \u001b[0;34m\u001b[0m\u001b[0m\n\u001b[0;32m---> 27\u001b[0;31m \u001b[0md\u001b[0m \u001b[0;34m=\u001b[0m \u001b[0mcm\u001b[0m\u001b[0;34m.\u001b[0m\u001b[0msample\u001b[0m\u001b[0;34m(\u001b[0m\u001b[0mMZ_RANGE\u001b[0m\u001b[0;34m,\u001b[0m\u001b[0mRT_RANGE\u001b[0m\u001b[0;34m,\u001b[0m\u001b[0mN_CHEMS\u001b[0m\u001b[0;34m,\u001b[0m\u001b[0;36m2\u001b[0m\u001b[0;34m)\u001b[0m\u001b[0;34m\u001b[0m\u001b[0;34m\u001b[0m\u001b[0m\n\u001b[0m",
      "\u001b[0;32m~/git/vimms/vimms/Chemicals.py\u001b[0m in \u001b[0;36msample\u001b[0;34m(self, mz_range, rt_range, n_chemicals, ms_levels, include_adducts_isotopes)\u001b[0m\n\u001b[1;32m    610\u001b[0m             \u001b[0mmax_intensity\u001b[0m \u001b[0;34m=\u001b[0m \u001b[0mintensity_list\u001b[0m\u001b[0;34m[\u001b[0m\u001b[0mi\u001b[0m\u001b[0;34m]\u001b[0m\u001b[0;34m\u001b[0m\u001b[0;34m\u001b[0m\u001b[0m\n\u001b[1;32m    611\u001b[0m             \u001b[0mchromatogram\u001b[0m \u001b[0;34m=\u001b[0m \u001b[0mchromatogram_list\u001b[0m\u001b[0;34m[\u001b[0m\u001b[0mi\u001b[0m\u001b[0;34m]\u001b[0m\u001b[0;34m\u001b[0m\u001b[0;34m\u001b[0m\u001b[0m\n\u001b[0;32m--> 612\u001b[0;31m             \u001b[0;32mif\u001b[0m \u001b[0misinstance\u001b[0m\u001b[0;34m(\u001b[0m\u001b[0mformula\u001b[0m\u001b[0;34m,\u001b[0m\u001b[0;34m'vimms.Common.Formula'\u001b[0m\u001b[0;34m)\u001b[0m\u001b[0;34m:\u001b[0m\u001b[0;34m\u001b[0m\u001b[0;34m\u001b[0m\u001b[0m\n\u001b[0m\u001b[1;32m    613\u001b[0m                 \u001b[0misotopes\u001b[0m \u001b[0;34m=\u001b[0m \u001b[0mIsotopes\u001b[0m\u001b[0;34m(\u001b[0m\u001b[0mformula\u001b[0m\u001b[0;34m)\u001b[0m\u001b[0;34m\u001b[0m\u001b[0;34m\u001b[0m\u001b[0m\n\u001b[1;32m    614\u001b[0m                 \u001b[0madducts\u001b[0m \u001b[0;34m=\u001b[0m \u001b[0mAdducts\u001b[0m\u001b[0;34m(\u001b[0m\u001b[0mformula\u001b[0m\u001b[0;34m,\u001b[0m \u001b[0mself\u001b[0m\u001b[0;34m.\u001b[0m\u001b[0madduct_proportion_cutoff\u001b[0m\u001b[0;34m,\u001b[0m \u001b[0madduct_prior_dict\u001b[0m\u001b[0;34m=\u001b[0m\u001b[0mself\u001b[0m\u001b[0;34m.\u001b[0m\u001b[0madduct_prior_dict\u001b[0m\u001b[0;34m)\u001b[0m\u001b[0;34m\u001b[0m\u001b[0;34m\u001b[0m\u001b[0m\n",
      "\u001b[0;31mTypeError\u001b[0m: isinstance() arg 2 must be a type or tuple of types"
     ]
    }
   ],
   "source": [
    "# sample RT and log intensity uniformly. See class def for min and max log intensity\n",
    "# returns actual intensity, but samples in log space\n",
    "uu = UniformRTAndIntensitySampler(min_rt = 300, max_rt = 500)\n",
    "\n",
    "# a sampler that samples MS2 uniform between 50 and the mass of the formula.\n",
    "# number ofo MS2 peaks is poisson with mean poiss_peak_mean\n",
    "us = UniformMS2Sampler(poiss_peak_mean=5)\n",
    "\n",
    "# OR a CRP MS2 sampler\n",
    "us = CRPMS2Sampler()\n",
    "\n",
    "# generates Gaussian chromatograms\n",
    "cs = GaussianChromatogramSampler()\n",
    "\n",
    "# generates formulas from HMDB\n",
    "hf = DatabaseFormulaSampler(HMDB)\n",
    "\n",
    "hf = UniformMZFormulaSampler()\n",
    "\n",
    "# The chemical mixture creator object\n",
    "\n",
    "cm = ChemicalMixtureCreator(hf, rt_and_intensity_sampler=uu, \n",
    "                            adduct_prior_dict=ADDUCT_DICT_POS_MH,\n",
    "                            chromatogram_sampler=cs,\n",
    "                            ms2_sampler = us)\n",
    "\n",
    "d = cm.sample(MZ_RANGE,RT_RANGE,N_CHEMS,2)"
   ]
  },
  {
   "cell_type": "markdown",
   "metadata": {},
   "source": [
    "Print the sampled chemicals, and their children"
   ]
  },
  {
   "cell_type": "code",
   "execution_count": 24,
   "metadata": {},
   "outputs": [
    {
     "name": "stdout",
     "output_type": "stream",
     "text": [
      "KnownChemical - 'C39H47N5O5' rt=302.28 max_intensity=747000.03\n",
      "\t MSN Fragment mz=148.5030 ms_level=2\n",
      "\t MSN Fragment mz=296.5924 ms_level=2\n",
      "\t MSN Fragment mz=429.7184 ms_level=2\n",
      "\t MSN Fragment mz=488.3322 ms_level=2\n",
      "\t MSN Fragment mz=591.4519 ms_level=2\n",
      "\t MSN Fragment mz=619.0704 ms_level=2\n",
      "KnownChemical - 'C43H78O5' rt=308.07 max_intensity=744866.57\n",
      "\t MSN Fragment mz=151.2526 ms_level=2\n",
      "\t MSN Fragment mz=368.8561 ms_level=2\n",
      "\t MSN Fragment mz=477.6754 ms_level=2\n",
      "\t MSN Fragment mz=568.7815 ms_level=2\n",
      "\t MSN Fragment mz=632.9913 ms_level=2\n",
      "KnownChemical - 'C30H48O2' rt=343.78 max_intensity=1647865.15\n",
      "\t MSN Fragment mz=51.8405 ms_level=2\n",
      "\t MSN Fragment mz=129.4820 ms_level=2\n",
      "\t MSN Fragment mz=162.4652 ms_level=2\n",
      "\t MSN Fragment mz=219.3370 ms_level=2\n",
      "\t MSN Fragment mz=235.9387 ms_level=2\n",
      "\t MSN Fragment mz=339.6910 ms_level=2\n",
      "\t MSN Fragment mz=430.3538 ms_level=2\n",
      "KnownChemical - 'C28H38O13' rt=347.21 max_intensity=7685937.64\n",
      "\t MSN Fragment mz=208.0096 ms_level=2\n",
      "\t MSN Fragment mz=270.2632 ms_level=2\n",
      "\t MSN Fragment mz=374.4745 ms_level=2\n",
      "\t MSN Fragment mz=425.8032 ms_level=2\n",
      "\t MSN Fragment mz=452.3674 ms_level=2\n",
      "\t MSN Fragment mz=462.0328 ms_level=2\n",
      "\t MSN Fragment mz=492.0066 ms_level=2\n",
      "\t MSN Fragment mz=521.7934 ms_level=2\n",
      "\t MSN Fragment mz=525.8507 ms_level=2\n",
      "KnownChemical - 'C27H42N2O6S' rt=360.96 max_intensity=3941566.54\n",
      "\t MSN Fragment mz=54.3575 ms_level=2\n",
      "\t MSN Fragment mz=202.7126 ms_level=2\n",
      "\t MSN Fragment mz=268.4487 ms_level=2\n",
      "\t MSN Fragment mz=381.7287 ms_level=2\n",
      "\t MSN Fragment mz=444.8283 ms_level=2\n",
      "\t MSN Fragment mz=462.3672 ms_level=2\n",
      "\t MSN Fragment mz=488.7960 ms_level=2\n",
      "\t MSN Fragment mz=512.2791 ms_level=2\n",
      "KnownChemical - 'C37H36N2O11' rt=369.93 max_intensity=12134.24\n",
      "\t MSN Fragment mz=52.7112 ms_level=2\n",
      "\t MSN Fragment mz=166.1020 ms_level=2\n",
      "\t MSN Fragment mz=203.1307 ms_level=2\n",
      "\t MSN Fragment mz=477.6366 ms_level=2\n",
      "\t MSN Fragment mz=573.4424 ms_level=2\n",
      "KnownChemical - 'C10H13N3' rt=372.69 max_intensity=9717552.83\n",
      "\t MSN Fragment mz=50.4657 ms_level=2\n",
      "\t MSN Fragment mz=83.9550 ms_level=2\n",
      "\t MSN Fragment mz=96.8137 ms_level=2\n",
      "\t MSN Fragment mz=119.5446 ms_level=2\n",
      "\t MSN Fragment mz=119.6944 ms_level=2\n",
      "\t MSN Fragment mz=121.8963 ms_level=2\n",
      "\t MSN Fragment mz=123.7647 ms_level=2\n",
      "\t MSN Fragment mz=137.1257 ms_level=2\n",
      "\t MSN Fragment mz=163.2732 ms_level=2\n",
      "KnownChemical - 'C17H20FN3O4' rt=415.57 max_intensity=51815.55\n",
      "\t MSN Fragment mz=53.2189 ms_level=2\n",
      "\t MSN Fragment mz=85.8338 ms_level=2\n",
      "\t MSN Fragment mz=87.5944 ms_level=2\n",
      "\t MSN Fragment mz=98.5620 ms_level=2\n",
      "\t MSN Fragment mz=101.1373 ms_level=2\n",
      "\t MSN Fragment mz=143.3015 ms_level=2\n",
      "\t MSN Fragment mz=149.8258 ms_level=2\n",
      "\t MSN Fragment mz=230.4687 ms_level=2\n",
      "\t MSN Fragment mz=305.4756 ms_level=2\n",
      "KnownChemical - 'C8H8Cl2N4' rt=436.49 max_intensity=708641.91\n",
      "\t MSN Fragment mz=63.9085 ms_level=2\n",
      "\t MSN Fragment mz=88.3839 ms_level=2\n",
      "\t MSN Fragment mz=92.1907 ms_level=2\n",
      "\t MSN Fragment mz=132.2674 ms_level=2\n",
      "\t MSN Fragment mz=164.3569 ms_level=2\n",
      "\t MSN Fragment mz=170.5350 ms_level=2\n",
      "\t MSN Fragment mz=223.2119 ms_level=2\n",
      "KnownChemical - 'C32H51NO12' rt=467.93 max_intensity=1205812.80\n",
      "\t MSN Fragment mz=57.2799 ms_level=2\n",
      "\t MSN Fragment mz=214.7281 ms_level=2\n",
      "\t MSN Fragment mz=224.8833 ms_level=2\n",
      "\t MSN Fragment mz=435.8550 ms_level=2\n",
      "\t MSN Fragment mz=455.2661 ms_level=2\n",
      "\t MSN Fragment mz=464.5761 ms_level=2\n",
      "\t MSN Fragment mz=482.2520 ms_level=2\n",
      "\t MSN Fragment mz=488.8044 ms_level=2\n",
      "\t MSN Fragment mz=597.1573 ms_level=2\n",
      "\t MSN Fragment mz=637.4523 ms_level=2\n"
     ]
    }
   ],
   "source": [
    "d.sort(key=lambda x: x.rt)\n",
    "for chem in d:\n",
    "    print(chem)\n",
    "    for child in chem.children:\n",
    "        print('\\t',child)"
   ]
  },
  {
   "cell_type": "markdown",
   "metadata": {},
   "source": [
    "Create and run an example controller. In this case, AIF."
   ]
  },
  {
   "cell_type": "code",
   "execution_count": 25,
   "metadata": {},
   "outputs": [],
   "source": [
    "controller = AIF(MZ_RANGE[0][0],MZ_RANGE[0][1])\n",
    "ionisation_mode = POSITIVE\n",
    "scan_time_dict = {1:0.6,2:0.06}\n",
    "\n",
    "\n",
    "mz_noise = GaussianPeakNoise(0.001)\n",
    "intensity_noise = GaussianPeakNoise(0.1,log_space=True)\n",
    "\n",
    "# This is new: spike noise which ensures no scans are empty\n",
    "# first argument is density: how many spikes to sample per unit m/z. Second is max spike intensity\n",
    "spike_noise = UniformSpikeNoise(0.01,1e3)\n",
    "\n",
    "\n",
    "# note the None in the call in place of a peak sampler object - this isn't used anywhere in this example\n",
    "mass_spec = IndependentMassSpectrometer(ionisation_mode, d, None,\n",
    "                                        scan_duration_dict = scan_time_dict, \n",
    "                                        mz_noise = mz_noise,\n",
    "                                        intensity_noise = intensity_noise,\n",
    "                                        spike_noise = spike_noise)\n"
   ]
  },
  {
   "cell_type": "code",
   "execution_count": 26,
   "metadata": {},
   "outputs": [],
   "source": [
    "env = Environment(mass_spec, controller, 300, 600, progress_bar=True)"
   ]
  },
  {
   "cell_type": "code",
   "execution_count": 27,
   "metadata": {},
   "outputs": [
    {
     "name": "stderr",
     "output_type": "stream",
     "text": [
      "(600.000s) ms_level=1: 100%|█████████▉| 299.99999999999994/300 [00:07<00:00, 38.00it/s] \n"
     ]
    }
   ],
   "source": [
    "set_log_level_warning()\n",
    "# run the simulation\n",
    "env.run()\n",
    "env.write_mzML('.','test.mzML')"
   ]
  },
  {
   "cell_type": "code",
   "execution_count": null,
   "metadata": {},
   "outputs": [],
   "source": []
  },
  {
   "cell_type": "code",
   "execution_count": null,
   "metadata": {},
   "outputs": [],
   "source": []
  },
  {
   "cell_type": "markdown",
   "metadata": {},
   "source": [
    "# Example using new multi-sample"
   ]
  },
  {
   "cell_type": "code",
   "execution_count": 75,
   "metadata": {},
   "outputs": [
    {
     "name": "stdout",
     "output_type": "stream",
     "text": [
      "case\n",
      "control\n",
      "{'case': {KnownChemical - 'C7H6O' rt=323.60 max_intensity=7702245.43: 2.0856609373408466, KnownChemical - 'C38H72O5' rt=334.92 max_intensity=4252674.08: 1.926187748635194, KnownChemical - 'C7H15N3O2' rt=387.11 max_intensity=13741.42: 1.5277630778057516, KnownChemical - 'C20H38O11' rt=397.28 max_intensity=11464.92: 3.2462958877115655, KnownChemical - 'C15H24O3' rt=407.53 max_intensity=229194.77: 1.1634138911252168, KnownChemical - 'C6H12N2O4S2' rt=416.33 max_intensity=4755875.87: 2.1876134346996587, KnownChemical - 'C16H28O8' rt=420.18 max_intensity=470558.48: 1.9208286963102386, KnownChemical - 'C10H13N3O3' rt=484.29 max_intensity=59737.55: 1.6579801825069636, KnownChemical - 'C29H48O' rt=489.55 max_intensity=109775.90: 1.0, KnownChemical - 'C12H16ClNO' rt=489.66 max_intensity=7272711.45: 1.3554483999640674}, 'control': {KnownChemical - 'C7H6O' rt=323.60 max_intensity=7702245.43: 1.0, KnownChemical - 'C38H72O5' rt=334.92 max_intensity=4252674.08: 1.0, KnownChemical - 'C7H15N3O2' rt=387.11 max_intensity=13741.42: 1.0, KnownChemical - 'C20H38O11' rt=397.28 max_intensity=11464.92: 1.0, KnownChemical - 'C15H24O3' rt=407.53 max_intensity=229194.77: 1.0, KnownChemical - 'C6H12N2O4S2' rt=416.33 max_intensity=4755875.87: 1.0, KnownChemical - 'C16H28O8' rt=420.18 max_intensity=470558.48: 1.0, KnownChemical - 'C10H13N3O3' rt=484.29 max_intensity=59737.55: 1.0, KnownChemical - 'C29H48O' rt=489.55 max_intensity=109775.90: 1.0, KnownChemical - 'C12H16ClNO' rt=489.66 max_intensity=7272711.45: 1.0}}\n"
     ]
    }
   ],
   "source": [
    "n_control = 5\n",
    "n_case = 5\n",
    "group_list = ['control' for i in range(n_control)] + ['case' for i in range(n_case)]\n",
    "group_dict = {'case': {'missing_probability':0.0, 'changing_probability':0.9}}\n",
    "from vimms.Chemicals import MultipleMixtureCreator\n",
    "from vimms.Noise import GaussianPeakNoise\n",
    "mmc = MultipleMixtureCreator(d,group_list,group_dict,intensity_noise = GaussianPeakNoise(sigma=0.05,log_space=True))\n",
    "print(mmc.group_multipliers)\n",
    "chem_lists = mmc.generate_chemical_lists()"
   ]
  },
  {
   "cell_type": "markdown",
   "metadata": {},
   "source": [
    "Check the chemical lists produced with a heatmap\n"
   ]
  },
  {
   "cell_type": "code",
   "execution_count": 78,
   "metadata": {},
   "outputs": [
    {
     "data": {
      "text/plain": [
       "<matplotlib.image.AxesImage at 0x128f2a5d0>"
      ]
     },
     "execution_count": 78,
     "metadata": {},
     "output_type": "execute_result"
    },
    {
     "data": {
      "image/png": "[encoded data removed]",
      "text/plain": [
       "<Figure size 432x288 with 1 Axes>"
      ]
     },
     "metadata": {
      "needs_background": "light"
     },
     "output_type": "display_data"
    }
   ],
   "source": [
    "import pylab as plt\n",
    "%matplotlib inline\n",
    "intensities = []\n",
    "for cl in chem_lists:\n",
    "    new_intensities = [0 for c in d]\n",
    "    for c in cl:\n",
    "        c_pos = d.index(c.original_chemical)\n",
    "        new_intensities[c_pos] = c.max_intensity\n",
    "    intensities.append(new_intensities)\n",
    "intensities = np.array(intensities).T\n",
    "plt.imshow(np.log(intensities+1))"
   ]
  },
  {
   "cell_type": "code",
   "execution_count": null,
   "metadata": {},
   "outputs": [],
   "source": []
  }
 ],
 "metadata": {
  "kernelspec": {
   "display_name": "Python 3",
   "language": "python",
   "name": "python3"
  },
  "language_info": {
   "codemirror_mode": {
    "name": "ipython",
    "version": 3
   },
   "file_extension": ".py",
   "mimetype": "text/x-python",
   "name": "python",
   "nbconvert_exporter": "python",
   "pygments_lexer": "ipython3",
   "version": "3.7.5"
  }
 },
 "nbformat": 4,
 "nbformat_minor": 4
}
