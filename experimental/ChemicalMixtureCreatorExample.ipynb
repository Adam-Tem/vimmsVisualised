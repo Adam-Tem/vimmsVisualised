{
 "cells": [
  {
   "cell_type": "markdown",
   "metadata": {},
   "source": [
    "# Example notebook to show how the new chemical mixture creator works"
   ]
  },
  {
   "cell_type": "code",
   "execution_count": 10,
   "metadata": {},
   "outputs": [],
   "source": [
    "import os\n",
    "import sys\n",
    "from pathlib import Path"
   ]
  },
  {
   "cell_type": "code",
   "execution_count": 11,
   "metadata": {},
   "outputs": [],
   "source": [
    "vimms_path = '/Users/simon/git/vimms'\n",
    "sys.path.append(vimms_path)\n",
    "# path to fixtures so we can load HMDB\n",
    "BASE_DIR = os.path.abspath(Path(vimms_path,'tests','integration', 'fixtures'))"
   ]
  },
  {
   "cell_type": "code",
   "execution_count": 28,
   "metadata": {},
   "outputs": [
    {
     "name": "stdout",
     "output_type": "stream",
     "text": [
      "The autoreload extension is already loaded. To reload it, use:\n",
      "  %reload_ext autoreload\n"
     ]
    }
   ],
   "source": [
    "%load_ext autoreload\n",
    "%autoreload 2\n",
    "\n",
    "from vimms.Common import *\n",
    "from vimms.Controller import AIF\n",
    "from vimms.Environment import Environment\n",
    "from vimms.MassSpec import IndependentMassSpectrometer\n",
    "\n",
    "# Noise for the MS\n",
    "from vimms.Noise import GaussianPeakNoise,  UniformSpikeNoise\n",
    "\n",
    "# Chemical creator import\n",
    "from vimms.Chemicals import ChemicalMixtureCreator\n",
    "from vimms.ChemicalSamplers import UniformRTAndIntensitySampler, UniformMS2Sampler, CRPMS2Sampler, GaussianChromatogramSampler, DatabaseFormulaSampler, UniformMZFormulaSampler\n",
    "\n",
    "\n"
   ]
  },
  {
   "cell_type": "markdown",
   "metadata": {},
   "source": [
    "Load HMDB"
   ]
  },
  {
   "cell_type": "code",
   "execution_count": 20,
   "metadata": {},
   "outputs": [],
   "source": [
    "HMDB = load_obj(Path(BASE_DIR, 'hmdb_compounds.p'))"
   ]
  },
  {
   "cell_type": "code",
   "execution_count": 29,
   "metadata": {},
   "outputs": [],
   "source": [
    "N_CHEMS = 10\n",
    "MZ_RANGE = [(0, 1050)]\n",
    "RT_RANGE = [(300, 500)]"
   ]
  },
  {
   "cell_type": "code",
   "execution_count": 48,
   "metadata": {},
   "outputs": [],
   "source": [
    "# sample RT and log intensity uniformly. See class def for min and max log intensity\n",
    "# returns actual intensity, but samples in log space\n",
    "uu = UniformRTAndIntensitySampler(min_rt = 300, max_rt = 500)\n",
    "\n",
    "# a sampler that samples MS2 uniform between 50 and the mass of the formula.\n",
    "# number ofo MS2 peaks is poisson with mean poiss_peak_mean\n",
    "us = UniformMS2Sampler(poiss_peak_mean=5)\n",
    "\n",
    "# OR a CRP MS2 sampler\n",
    "us = CRPMS2Sampler()\n",
    "\n",
    "# generates Gaussian chromatograms\n",
    "cs = GaussianChromatogramSampler()\n",
    "\n",
    "# generates formulas from HMDB\n",
    "hf = DatabaseFormulaSampler(HMDB)\n",
    "\n",
    "# or, samples them from a uniform - so just mz rather then formulas\n",
    "# resulting in UnknownChemical objects instead of known_chemical ones\n",
    "hf = UniformMZFormulaSampler()\n",
    "\n",
    "# The chemical mixture creator object\n",
    "\n",
    "cm = ChemicalMixtureCreator(hf, rt_and_intensity_sampler=uu, \n",
    "                            adduct_prior_dict=ADDUCT_DICT_POS_MH,\n",
    "                            chromatogram_sampler=cs,\n",
    "                            ms2_sampler = us)\n",
    "\n",
    "d = cm.sample(MZ_RANGE,RT_RANGE,N_CHEMS,2)"
   ]
  },
  {
   "cell_type": "markdown",
   "metadata": {},
   "source": [
    "Print the sampled chemicals, and their children"
   ]
  },
  {
   "cell_type": "code",
   "execution_count": 49,
   "metadata": {},
   "outputs": [
    {
     "name": "stdout",
     "output_type": "stream",
     "text": [
      "UnknownChemical mz=170.1128 rt=302.77 max_intensity=208136.98\n",
      "\t MSN Fragment mz=81.0270 ms_level=2\n",
      "\t MSN Fragment mz=103.2964 ms_level=2\n",
      "\t MSN Fragment mz=113.9660 ms_level=2\n",
      "\t MSN Fragment mz=142.2127 ms_level=2\n",
      "\t MSN Fragment mz=156.7425 ms_level=2\n",
      "\t MSN Fragment mz=161.2597 ms_level=2\n",
      "UnknownChemical mz=350.6249 rt=321.02 max_intensity=11554.85\n",
      "\t MSN Fragment mz=141.1161 ms_level=2\n",
      "\t MSN Fragment mz=161.0885 ms_level=2\n",
      "\t MSN Fragment mz=226.5223 ms_level=2\n",
      "\t MSN Fragment mz=297.9579 ms_level=2\n",
      "\t MSN Fragment mz=325.8475 ms_level=2\n",
      "UnknownChemical mz=819.6273 rt=332.69 max_intensity=2022351.57\n",
      "\t MSN Fragment mz=179.8126 ms_level=2\n",
      "\t MSN Fragment mz=351.4586 ms_level=2\n",
      "\t MSN Fragment mz=585.9261 ms_level=2\n",
      "\t MSN Fragment mz=590.5982 ms_level=2\n",
      "\t MSN Fragment mz=639.7693 ms_level=2\n",
      "\t MSN Fragment mz=794.9073 ms_level=2\n",
      "UnknownChemical mz=1010.8578 rt=359.78 max_intensity=8474135.92\n",
      "\t MSN Fragment mz=124.4046 ms_level=2\n",
      "\t MSN Fragment mz=208.6555 ms_level=2\n",
      "\t MSN Fragment mz=337.4706 ms_level=2\n",
      "\t MSN Fragment mz=486.0382 ms_level=2\n",
      "\t MSN Fragment mz=525.0104 ms_level=2\n",
      "\t MSN Fragment mz=803.2978 ms_level=2\n",
      "UnknownChemical mz=58.0920 rt=366.85 max_intensity=4596601.93\n",
      "\t MSN Fragment mz=50.2650 ms_level=2\n",
      "\t MSN Fragment mz=50.6290 ms_level=2\n",
      "\t MSN Fragment mz=51.5223 ms_level=2\n",
      "\t MSN Fragment mz=53.9391 ms_level=2\n",
      "\t MSN Fragment mz=57.2561 ms_level=2\n",
      "\t MSN Fragment mz=57.5605 ms_level=2\n",
      "\t MSN Fragment mz=57.7930 ms_level=2\n",
      "UnknownChemical mz=7.4264 rt=386.64 max_intensity=830406.84\n",
      "\t MSN Fragment mz=14.6489 ms_level=2\n",
      "\t MSN Fragment mz=18.7665 ms_level=2\n",
      "\t MSN Fragment mz=32.8945 ms_level=2\n",
      "\t MSN Fragment mz=36.5296 ms_level=2\n",
      "\t MSN Fragment mz=39.0068 ms_level=2\n",
      "\t MSN Fragment mz=41.1789 ms_level=2\n",
      "\t MSN Fragment mz=41.1797 ms_level=2\n",
      "\t MSN Fragment mz=41.9451 ms_level=2\n",
      "\t MSN Fragment mz=47.4354 ms_level=2\n",
      "\t MSN Fragment mz=47.5701 ms_level=2\n",
      "UnknownChemical mz=516.3157 rt=389.31 max_intensity=16141.43\n",
      "\t MSN Fragment mz=59.3491 ms_level=2\n",
      "\t MSN Fragment mz=103.0961 ms_level=2\n",
      "\t MSN Fragment mz=281.3148 ms_level=2\n",
      "\t MSN Fragment mz=299.6521 ms_level=2\n",
      "\t MSN Fragment mz=360.1644 ms_level=2\n",
      "\t MSN Fragment mz=426.2793 ms_level=2\n",
      "\t MSN Fragment mz=459.8179 ms_level=2\n",
      "UnknownChemical mz=131.9326 rt=421.00 max_intensity=9623592.15\n",
      "\t MSN Fragment mz=65.8745 ms_level=2\n",
      "\t MSN Fragment mz=68.6026 ms_level=2\n",
      "\t MSN Fragment mz=85.8165 ms_level=2\n",
      "\t MSN Fragment mz=87.3133 ms_level=2\n",
      "\t MSN Fragment mz=116.4227 ms_level=2\n",
      "\t MSN Fragment mz=120.6083 ms_level=2\n",
      "UnknownChemical mz=774.6046 rt=448.63 max_intensity=106699.87\n",
      "\t MSN Fragment mz=80.0158 ms_level=2\n",
      "\t MSN Fragment mz=100.7811 ms_level=2\n",
      "\t MSN Fragment mz=383.2148 ms_level=2\n",
      "\t MSN Fragment mz=569.9455 ms_level=2\n",
      "\t MSN Fragment mz=720.3012 ms_level=2\n",
      "\t MSN Fragment mz=727.0932 ms_level=2\n",
      "UnknownChemical mz=964.6002 rt=475.83 max_intensity=639262.87\n",
      "\t MSN Fragment mz=54.8206 ms_level=2\n",
      "\t MSN Fragment mz=94.5244 ms_level=2\n",
      "\t MSN Fragment mz=111.0680 ms_level=2\n",
      "\t MSN Fragment mz=454.3776 ms_level=2\n",
      "\t MSN Fragment mz=651.8604 ms_level=2\n",
      "\t MSN Fragment mz=724.3269 ms_level=2\n",
      "\t MSN Fragment mz=899.8557 ms_level=2\n"
     ]
    }
   ],
   "source": [
    "d.sort(key=lambda x: x.rt)\n",
    "for chem in d:\n",
    "    print(chem)\n",
    "    for child in chem.children:\n",
    "        print('\\t',child)"
   ]
  },
  {
   "cell_type": "markdown",
   "metadata": {},
   "source": [
    "Create and run an example controller. In this case, AIF."
   ]
  },
  {
   "cell_type": "code",
   "execution_count": 50,
   "metadata": {},
   "outputs": [],
   "source": [
    "controller = AIF(MZ_RANGE[0][0],MZ_RANGE[0][1])\n",
    "ionisation_mode = POSITIVE\n",
    "scan_time_dict = {1:0.6,2:0.06}\n",
    "\n",
    "\n",
    "mz_noise = GaussianPeakNoise(0.001)\n",
    "intensity_noise = GaussianPeakNoise(0.1,log_space=True)\n",
    "\n",
    "# This is new: spike noise which ensures no scans are empty\n",
    "# first argument is density: how many spikes to sample per unit m/z. Second is max spike intensity\n",
    "spike_noise = UniformSpikeNoise(0.01,1e3)\n",
    "\n",
    "\n",
    "# note the None in the call in place of a peak sampler object - this isn't used anywhere in this example\n",
    "mass_spec = IndependentMassSpectrometer(ionisation_mode, d, None,\n",
    "                                        scan_duration_dict = scan_time_dict, \n",
    "                                        mz_noise = mz_noise,\n",
    "                                        intensity_noise = intensity_noise,\n",
    "                                        spike_noise = spike_noise)\n"
   ]
  },
  {
   "cell_type": "code",
   "execution_count": 51,
   "metadata": {},
   "outputs": [],
   "source": [
    "env = Environment(mass_spec, controller, 300, 600, progress_bar=True)"
   ]
  },
  {
   "cell_type": "code",
   "execution_count": 52,
   "metadata": {},
   "outputs": [
    {
     "name": "stderr",
     "output_type": "stream",
     "text": [
      "(600.000s) ms_level=1: 100%|█████████▉| 299.99999999999994/300 [00:03<00:00, 98.13it/s]  \n"
     ]
    }
   ],
   "source": [
    "set_log_level_warning()\n",
    "# run the simulation\n",
    "env.run()\n",
    "env.write_mzML('.','test.mzML')"
   ]
  },
  {
   "cell_type": "code",
   "execution_count": null,
   "metadata": {},
   "outputs": [],
   "source": []
  },
  {
   "cell_type": "code",
   "execution_count": null,
   "metadata": {},
   "outputs": [],
   "source": []
  },
  {
   "cell_type": "markdown",
   "metadata": {},
   "source": [
    "# Example using new multi-sample"
   ]
  },
  {
   "cell_type": "code",
   "execution_count": null,
   "metadata": {},
   "outputs": [],
   "source": [
    "# make a 5 v 5 case control experiment\n",
    "n_control = 5\n",
    "n_case = 5\n",
    "\n",
    "# create a list of groups -- this is the order the chemical lists will return in\n",
    "group_list = ['control' for i in range(n_control)] + ['case' for i in range(n_case)]\n",
    "\n",
    "# create a dictionary describing what we want to happen in the groups\n",
    "# e.g. in the 'case' group, things are not missing, and 90% of them are changing\n",
    "group_dict = {'case': {'missing_probability':0.0, 'changing_probability':0.9}}\n",
    "\n",
    "\n",
    "from vimms.Chemicals import MultipleMixtureCreator\n",
    "from vimms.Noise import GaussianPeakNoise\n",
    "\n",
    "# use the intensity peak noise to add some sample noise\n",
    "intensity_noise = GaussianPeakNoise(sigma=0.1,log_space=True)\n",
    "\n",
    "mmc = MultipleMixtureCreator(d,group_list,group_dict,intensity_noise = intensity_noise)\n",
    "chem_lists = mmc.generate_chemical_lists()"
   ]
  },
  {
   "cell_type": "markdown",
   "metadata": {},
   "source": [
    "Check the chemical lists produced with a heatmap\n"
   ]
  },
  {
   "cell_type": "code",
   "execution_count": 78,
   "metadata": {},
   "outputs": [
    {
     "data": {
      "text/plain": [
       "<matplotlib.image.AxesImage at 0x128f2a5d0>"
      ]
     },
     "execution_count": 78,
     "metadata": {},
     "output_type": "execute_result"
    },
    {
     "data": {
      "image/png": "[encoded data removed]",
      "text/plain": [
       "<Figure size 432x288 with 1 Axes>"
      ]
     },
     "metadata": {
      "needs_background": "light"
     },
     "output_type": "display_data"
    }
   ],
   "source": [
    "import pylab as plt\n",
    "%matplotlib inline\n",
    "intensities = []\n",
    "for cl in chem_lists:\n",
    "    new_intensities = [0 for c in d]\n",
    "    for c in cl:\n",
    "        c_pos = d.index(c.original_chemical)\n",
    "        new_intensities[c_pos] = c.max_intensity\n",
    "    intensities.append(new_intensities)\n",
    "intensities = np.array(intensities).T\n",
    "plt.imshow(np.log(intensities+1))"
   ]
  },
  {
   "cell_type": "code",
   "execution_count": null,
   "metadata": {},
   "outputs": [],
   "source": []
  }
 ],
 "metadata": {
  "kernelspec": {
   "display_name": "Python 3",
   "language": "python",
   "name": "python3"
  },
  "language_info": {
   "codemirror_mode": {
    "name": "ipython",
    "version": 3
   },
   "file_extension": ".py",
   "mimetype": "text/x-python",
   "name": "python",
   "nbconvert_exporter": "python",
   "pygments_lexer": "ipython3",
   "version": "3.7.5"
  }
 },
 "nbformat": 4,
 "nbformat_minor": 4
}
