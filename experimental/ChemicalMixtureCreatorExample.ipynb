{
 "cells": [
  {
   "cell_type": "markdown",
   "metadata": {},
   "source": [
    "# Example notebook to show how the new chemical mixture creator works"
   ]
  },
  {
   "cell_type": "code",
   "execution_count": 8,
   "metadata": {},
   "outputs": [],
   "source": [
    "import os\n",
    "import sys\n",
    "from pathlib import Path"
   ]
  },
  {
   "cell_type": "code",
   "execution_count": 9,
   "metadata": {},
   "outputs": [],
   "source": [
    "vimms_path = '/Users/simon/git/vimms'\n",
    "sys.path.append(vimms_path)\n",
    "# path to fixtures so we can load HMDB\n",
    "BASE_DIR = os.path.abspath(Path(vimms_path,'tests','integration', 'fixtures'))"
   ]
  },
  {
   "cell_type": "code",
   "execution_count": 10,
   "metadata": {},
   "outputs": [
    {
     "name": "stdout",
     "output_type": "stream",
     "text": [
      "The autoreload extension is already loaded. To reload it, use:\n",
      "  %reload_ext autoreload\n"
     ]
    }
   ],
   "source": [
    "%load_ext autoreload\n",
    "%autoreload 2\n",
    "\n",
    "from vimms.Common import *\n",
    "from vimms.Controller import AIF\n",
    "from vimms.Environment import Environment\n",
    "from vimms.MassSpec import IndependentMassSpectrometer\n",
    "\n",
    "# Noise for the MS\n",
    "from vimms.Noise import GaussianPeakNoise,  UniformSpikeNoise\n",
    "\n",
    "# Chemical creator import\n",
    "from vimms.Chemicals import ChemicalMixtureCreator\n",
    "from vimms.ChemicalSamplers import UniformRTAndIntensitySampler, UniformMS2Sampler, CRPMS2Sampler, GaussianChromatogramSampler, DatabaseFormulaSampler, UniformMZFormulaSampler, MGFMS2Sampler\n",
    "\n",
    "\n"
   ]
  },
  {
   "cell_type": "markdown",
   "metadata": {},
   "source": [
    "Load HMDB"
   ]
  },
  {
   "cell_type": "code",
   "execution_count": 11,
   "metadata": {},
   "outputs": [],
   "source": [
    "HMDB = load_obj(Path(BASE_DIR, 'hmdb_compounds.p'))"
   ]
  },
  {
   "cell_type": "code",
   "execution_count": 12,
   "metadata": {},
   "outputs": [],
   "source": [
    "N_CHEMS = 10\n",
    "MZ_RANGE = [(0, 1050)]\n",
    "RT_RANGE = [(300, 500)]"
   ]
  },
  {
   "cell_type": "code",
   "execution_count": 13,
   "metadata": {},
   "outputs": [
    {
     "name": "stderr",
     "output_type": "stream",
     "text": [
      "2020-08-26 22:18:47.219 | DEBUG    | vimms.ChemicalSamplers:__init__:142 - Loaded 9 spectra from /Users/simon/git/vimms/tests/integration/fixtures/small_mgf.mgf\n",
      "2020-08-26 22:18:47.231 | DEBUG    | vimms.Chemicals:sample:604 - Sampled rt and intensity values and chromatograms\n"
     ]
    },
    {
     "ename": "KeyboardInterrupt",
     "evalue": "",
     "output_type": "error",
     "traceback": [
      "\u001b[0;31m---------------------------------------------------------------------------\u001b[0m",
      "\u001b[0;31mKeyboardInterrupt\u001b[0m                         Traceback (most recent call last)",
      "\u001b[0;32m<ipython-input-13-651d0f099e82>\u001b[0m in \u001b[0;36m<module>\u001b[0;34m\u001b[0m\n\u001b[1;32m     31\u001b[0m                             ms2_sampler = us)\n\u001b[1;32m     32\u001b[0m \u001b[0;34m\u001b[0m\u001b[0m\n\u001b[0;32m---> 33\u001b[0;31m \u001b[0md\u001b[0m \u001b[0;34m=\u001b[0m \u001b[0mcm\u001b[0m\u001b[0;34m.\u001b[0m\u001b[0msample\u001b[0m\u001b[0;34m(\u001b[0m\u001b[0mMZ_RANGE\u001b[0m\u001b[0;34m,\u001b[0m\u001b[0mRT_RANGE\u001b[0m\u001b[0;34m,\u001b[0m\u001b[0mN_CHEMS\u001b[0m\u001b[0;34m,\u001b[0m\u001b[0;36m2\u001b[0m\u001b[0;34m)\u001b[0m\u001b[0;34m\u001b[0m\u001b[0;34m\u001b[0m\u001b[0m\n\u001b[0m",
      "\u001b[0;32m~/git/vimms/vimms/Chemicals.py\u001b[0m in \u001b[0;36msample\u001b[0;34m(self, mz_range, rt_range, n_chemicals, ms_levels, include_adducts_isotopes)\u001b[0m\n\u001b[1;32m    623\u001b[0m             \u001b[0;32mif\u001b[0m \u001b[0mms_levels\u001b[0m \u001b[0;34m==\u001b[0m \u001b[0;36m2\u001b[0m\u001b[0;34m:\u001b[0m\u001b[0;34m\u001b[0m\u001b[0;34m\u001b[0m\u001b[0m\n\u001b[1;32m    624\u001b[0m                 \u001b[0mparent\u001b[0m \u001b[0;34m=\u001b[0m \u001b[0mchemicals\u001b[0m\u001b[0;34m[\u001b[0m\u001b[0;34m-\u001b[0m\u001b[0;36m1\u001b[0m\u001b[0;34m]\u001b[0m\u001b[0;34m\u001b[0m\u001b[0;34m\u001b[0m\u001b[0m\n\u001b[0;32m--> 625\u001b[0;31m                 \u001b[0mchild_mz\u001b[0m\u001b[0;34m,\u001b[0m \u001b[0mchild_intensity\u001b[0m\u001b[0;34m,\u001b[0m \u001b[0mparent_proportion\u001b[0m \u001b[0;34m=\u001b[0m \u001b[0mself\u001b[0m\u001b[0;34m.\u001b[0m\u001b[0mms2_sampler\u001b[0m\u001b[0;34m.\u001b[0m\u001b[0msample\u001b[0m\u001b[0;34m(\u001b[0m\u001b[0mformula\u001b[0m\u001b[0;34m)\u001b[0m\u001b[0;34m\u001b[0m\u001b[0;34m\u001b[0m\u001b[0m\n\u001b[0m\u001b[1;32m    626\u001b[0m \u001b[0;34m\u001b[0m\u001b[0m\n\u001b[1;32m    627\u001b[0m                 \u001b[0mchildren\u001b[0m \u001b[0;34m=\u001b[0m \u001b[0;34m[\u001b[0m\u001b[0;34m]\u001b[0m\u001b[0;34m\u001b[0m\u001b[0;34m\u001b[0m\u001b[0m\n",
      "\u001b[0;32m~/git/vimms/vimms/ChemicalSamplers.py\u001b[0m in \u001b[0;36msample\u001b[0;34m(self, formula)\u001b[0m\n\u001b[1;32m    151\u001b[0m         \u001b[0mfound_permissable\u001b[0m \u001b[0;34m=\u001b[0m \u001b[0;32mFalse\u001b[0m\u001b[0;34m\u001b[0m\u001b[0;34m\u001b[0m\u001b[0m\n\u001b[1;32m    152\u001b[0m         \u001b[0;32mwhile\u001b[0m \u001b[0;32mnot\u001b[0m \u001b[0mfound_permissable\u001b[0m\u001b[0;34m:\u001b[0m\u001b[0;34m\u001b[0m\u001b[0;34m\u001b[0m\u001b[0m\n\u001b[0;32m--> 153\u001b[0;31m             \u001b[0mspec\u001b[0m \u001b[0;34m=\u001b[0m \u001b[0mnp\u001b[0m\u001b[0;34m.\u001b[0m\u001b[0mrandom\u001b[0m\u001b[0;34m.\u001b[0m\u001b[0mchoice\u001b[0m\u001b[0;34m(\u001b[0m\u001b[0mlen\u001b[0m\u001b[0;34m(\u001b[0m\u001b[0msub_spec\u001b[0m\u001b[0;34m)\u001b[0m\u001b[0;34m)\u001b[0m\u001b[0;34m\u001b[0m\u001b[0;34m\u001b[0m\u001b[0m\n\u001b[0m\u001b[1;32m    154\u001b[0m             \u001b[0;32mif\u001b[0m \u001b[0mself\u001b[0m\u001b[0;34m.\u001b[0m\u001b[0mreplace\u001b[0m \u001b[0;34m==\u001b[0m \u001b[0;32mTrue\u001b[0m \u001b[0;32mor\u001b[0m \u001b[0msub_spec\u001b[0m\u001b[0;34m[\u001b[0m\u001b[0mspec\u001b[0m\u001b[0;34m]\u001b[0m\u001b[0;34m[\u001b[0m\u001b[0;36m2\u001b[0m\u001b[0;34m]\u001b[0m \u001b[0;34m==\u001b[0m \u001b[0;36m0\u001b[0m\u001b[0;34m:\u001b[0m\u001b[0;34m\u001b[0m\u001b[0;34m\u001b[0m\u001b[0m\n\u001b[1;32m    155\u001b[0m                 \u001b[0mfound_permissable\u001b[0m \u001b[0;34m=\u001b[0m \u001b[0;32mTrue\u001b[0m\u001b[0;34m\u001b[0m\u001b[0;34m\u001b[0m\u001b[0m\n",
      "\u001b[0;31mKeyboardInterrupt\u001b[0m: "
     ]
    }
   ],
   "source": [
    "# sample RT and log intensity uniformly. See class def for min and max log intensity\n",
    "# returns actual intensity, but samples in log space\n",
    "uu = UniformRTAndIntensitySampler(min_rt = 300, max_rt = 500)\n",
    "\n",
    "# a sampler that samples MS2 uniform between 50 and the mass of the formula.\n",
    "# number ofo MS2 peaks is poisson with mean poiss_peak_mean\n",
    "us = UniformMS2Sampler(poiss_peak_mean=5)\n",
    "\n",
    "# OR a CRP MS2 sampler\n",
    "us = CRPMS2Sampler()\n",
    "\n",
    "# OR load from an .mgf file - here we filter to only keep spectra with 20 peaks or fewer\n",
    "# and sample without replacement\n",
    "us = MGFMS2Sampler(Path(BASE_DIR,'small_mgf.mgf'), max_peaks=20, replace=False)\n",
    "\n",
    "# generates Gaussian chromatograms\n",
    "cs = GaussianChromatogramSampler()\n",
    "\n",
    "# generates formulas from HMDB\n",
    "hf = DatabaseFormulaSampler(HMDB)\n",
    "\n",
    "# or, samples them from a uniform - so just mz rather then formulas\n",
    "# resulting in UnknownChemical objects instead of known_chemical ones\n",
    "hf = UniformMZFormulaSampler()\n",
    "\n",
    "# The chemical mixture creator object\n",
    "\n",
    "cm = ChemicalMixtureCreator(hf, rt_and_intensity_sampler=uu, \n",
    "                            adduct_prior_dict=ADDUCT_DICT_POS_MH,\n",
    "                            chromatogram_sampler=cs,\n",
    "                            ms2_sampler = us)\n",
    "\n",
    "d = cm.sample(MZ_RANGE,RT_RANGE,N_CHEMS,2)"
   ]
  },
  {
   "cell_type": "markdown",
   "metadata": {},
   "source": [
    "Print the sampled chemicals, and their children"
   ]
  },
  {
   "cell_type": "code",
   "execution_count": 116,
   "metadata": {},
   "outputs": [
    {
     "name": "stdout",
     "output_type": "stream",
     "text": [
      "UnknownChemical mz=134.7209 rt=316.00 max_intensity=380400.38\n",
      "\t MSN Fragment mz=43.0000 ms_level=2\n",
      "\t MSN Fragment mz=55.0000 ms_level=2\n",
      "\t MSN Fragment mz=56.0000 ms_level=2\n",
      "\t MSN Fragment mz=70.0000 ms_level=2\n",
      "\t MSN Fragment mz=73.0000 ms_level=2\n",
      "\t MSN Fragment mz=74.0000 ms_level=2\n",
      "\t MSN Fragment mz=97.0000 ms_level=2\n",
      "\t MSN Fragment mz=98.0000 ms_level=2\n",
      "\t MSN Fragment mz=116.0000 ms_level=2\n",
      "\t MSN Fragment mz=133.0000 ms_level=2\n",
      "\t MSN Fragment mz=134.0000 ms_level=2\n",
      "UnknownChemical mz=37.8086 rt=341.67 max_intensity=9790291.08\n",
      "\t MSN Fragment mz=354.9900 ms_level=2\n",
      "\t MSN Fragment mz=358.9500 ms_level=2\n",
      "\t MSN Fragment mz=385.1000 ms_level=2\n",
      "\t MSN Fragment mz=408.9900 ms_level=2\n",
      "\t MSN Fragment mz=409.0600 ms_level=2\n",
      "\t MSN Fragment mz=414.0600 ms_level=2\n",
      "\t MSN Fragment mz=424.0100 ms_level=2\n",
      "\t MSN Fragment mz=427.0800 ms_level=2\n",
      "\t MSN Fragment mz=439.0000 ms_level=2\n",
      "\t MSN Fragment mz=439.0400 ms_level=2\n",
      "UnknownChemical mz=360.9205 rt=343.34 max_intensity=8369730.92\n",
      "\t MSN Fragment mz=53.0386 ms_level=2\n",
      "\t MSN Fragment mz=65.0388 ms_level=2\n",
      "\t MSN Fragment mz=77.0387 ms_level=2\n",
      "\t MSN Fragment mz=80.0495 ms_level=2\n",
      "\t MSN Fragment mz=90.0339 ms_level=2\n",
      "\t MSN Fragment mz=97.0106 ms_level=2\n",
      "\t MSN Fragment mz=105.0335 ms_level=2\n",
      "\t MSN Fragment mz=106.9949 ms_level=2\n",
      "\t MSN Fragment mz=109.0106 ms_level=2\n",
      "\t MSN Fragment mz=124.0216 ms_level=2\n",
      "\t MSN Fragment mz=134.0059 ms_level=2\n",
      "\t MSN Fragment mz=135.9978 ms_level=2\n",
      "\t MSN Fragment mz=152.0164 ms_level=2\n",
      "UnknownChemical mz=631.5135 rt=356.31 max_intensity=366502.71\n",
      "\t MSN Fragment mz=85.7970 ms_level=2\n",
      "\t MSN Fragment mz=129.3130 ms_level=2\n",
      "\t MSN Fragment mz=129.8510 ms_level=2\n",
      "\t MSN Fragment mz=131.4350 ms_level=2\n",
      "\t MSN Fragment mz=132.0240 ms_level=2\n",
      "\t MSN Fragment mz=206.8520 ms_level=2\n",
      "\t MSN Fragment mz=227.9130 ms_level=2\n",
      "\t MSN Fragment mz=242.4950 ms_level=2\n",
      "\t MSN Fragment mz=243.0300 ms_level=2\n",
      "\t MSN Fragment mz=243.6940 ms_level=2\n",
      "\t MSN Fragment mz=248.1180 ms_level=2\n",
      "\t MSN Fragment mz=270.9620 ms_level=2\n",
      "\t MSN Fragment mz=288.9390 ms_level=2\n",
      "\t MSN Fragment mz=289.5600 ms_level=2\n",
      "UnknownChemical mz=488.6071 rt=361.11 max_intensity=2219798.71\n",
      "\t MSN Fragment mz=55.0000 ms_level=2\n",
      "\t MSN Fragment mz=69.0000 ms_level=2\n",
      "\t MSN Fragment mz=83.0000 ms_level=2\n",
      "\t MSN Fragment mz=97.0000 ms_level=2\n",
      "\t MSN Fragment mz=103.0000 ms_level=2\n",
      "\t MSN Fragment mz=125.0000 ms_level=2\n",
      "\t MSN Fragment mz=143.0000 ms_level=2\n",
      "\t MSN Fragment mz=245.0000 ms_level=2\n",
      "\t MSN Fragment mz=263.0000 ms_level=2\n",
      "\t MSN Fragment mz=285.0000 ms_level=2\n",
      "UnknownChemical mz=276.9423 rt=407.70 max_intensity=16808.04\n",
      "\t MSN Fragment mz=26.8000 ms_level=2\n",
      "\t MSN Fragment mz=28.2000 ms_level=2\n",
      "\t MSN Fragment mz=30.6000 ms_level=2\n",
      "\t MSN Fragment mz=39.1000 ms_level=2\n",
      "\t MSN Fragment mz=51.9000 ms_level=2\n",
      "\t MSN Fragment mz=54.2000 ms_level=2\n",
      "\t MSN Fragment mz=68.1000 ms_level=2\n",
      "\t MSN Fragment mz=68.9000 ms_level=2\n",
      "\t MSN Fragment mz=79.7000 ms_level=2\n",
      "\t MSN Fragment mz=81.2000 ms_level=2\n",
      "UnknownChemical mz=638.5774 rt=411.60 max_intensity=11440.81\n",
      "\t MSN Fragment mz=286.0453 ms_level=2\n",
      "\t MSN Fragment mz=301.0763 ms_level=2\n",
      "\t MSN Fragment mz=301.3766 ms_level=2\n",
      "\t MSN Fragment mz=343.0823 ms_level=2\n",
      "\t MSN Fragment mz=343.2426 ms_level=2\n",
      "\t MSN Fragment mz=343.4562 ms_level=2\n",
      "\t MSN Fragment mz=343.6522 ms_level=2\n",
      "\t MSN Fragment mz=343.8481 ms_level=2\n",
      "\t MSN Fragment mz=344.0798 ms_level=2\n",
      "\t MSN Fragment mz=385.0914 ms_level=2\n",
      "\t MSN Fragment mz=385.4875 ms_level=2\n",
      "\t MSN Fragment mz=385.6951 ms_level=2\n",
      "\t MSN Fragment mz=386.0915 ms_level=2\n",
      "\t MSN Fragment mz=393.4144 ms_level=2\n",
      "UnknownChemical mz=216.2550 rt=421.66 max_intensity=1871546.03\n",
      "\t MSN Fragment mz=68.9971 ms_level=2\n",
      "\t MSN Fragment mz=85.0284 ms_level=2\n",
      "\t MSN Fragment mz=91.0542 ms_level=2\n",
      "\t MSN Fragment mz=103.0542 ms_level=2\n",
      "\t MSN Fragment mz=105.0335 ms_level=2\n",
      "\t MSN Fragment mz=129.0335 ms_level=2\n",
      "\t MSN Fragment mz=131.0854 ms_level=2\n",
      "\t MSN Fragment mz=141.0699 ms_level=2\n",
      "\t MSN Fragment mz=144.0570 ms_level=2\n",
      "\t MSN Fragment mz=187.0753 ms_level=2\n",
      "UnknownChemical mz=100.4399 rt=429.57 max_intensity=35106.35\n",
      "\t MSN Fragment mz=36.2000 ms_level=2\n",
      "\t MSN Fragment mz=50.0000 ms_level=2\n",
      "\t MSN Fragment mz=55.1000 ms_level=2\n",
      "\t MSN Fragment mz=64.1000 ms_level=2\n",
      "\t MSN Fragment mz=67.7000 ms_level=2\n",
      "\t MSN Fragment mz=82.3000 ms_level=2\n",
      "\t MSN Fragment mz=83.1000 ms_level=2\n",
      "\t MSN Fragment mz=99.1000 ms_level=2\n",
      "\t MSN Fragment mz=100.1000 ms_level=2\n",
      "\t MSN Fragment mz=118.2000 ms_level=2\n",
      "UnknownChemical mz=1047.6646 rt=496.35 max_intensity=33141.98\n",
      "\t MSN Fragment mz=174.0000 ms_level=2\n",
      "\t MSN Fragment mz=187.9100 ms_level=2\n",
      "\t MSN Fragment mz=203.0500 ms_level=2\n",
      "\t MSN Fragment mz=242.6600 ms_level=2\n",
      "\t MSN Fragment mz=291.7200 ms_level=2\n",
      "\t MSN Fragment mz=306.0500 ms_level=2\n",
      "\t MSN Fragment mz=310.1300 ms_level=2\n",
      "\t MSN Fragment mz=321.2800 ms_level=2\n",
      "\t MSN Fragment mz=323.0600 ms_level=2\n",
      "\t MSN Fragment mz=338.2600 ms_level=2\n"
     ]
    }
   ],
   "source": [
    "d.sort(key=lambda x: x.rt)\n",
    "for chem in d:\n",
    "    print(chem)\n",
    "    for child in chem.children:\n",
    "        print('\\t',child)"
   ]
  },
  {
   "cell_type": "markdown",
   "metadata": {},
   "source": [
    "Create and run an example controller. In this case, AIF."
   ]
  },
  {
   "cell_type": "code",
   "execution_count": 101,
   "metadata": {},
   "outputs": [],
   "source": [
    "controller = AIF(MZ_RANGE[0][0],MZ_RANGE[0][1])\n",
    "ionisation_mode = POSITIVE\n",
    "scan_time_dict = {1:0.6,2:0.06}\n",
    "\n",
    "\n",
    "mz_noise = GaussianPeakNoise(0.001)\n",
    "intensity_noise = GaussianPeakNoise(0.1,log_space=True)\n",
    "\n",
    "# This is new: spike noise which ensures no scans are empty\n",
    "# first argument is density: how many spikes to sample per unit m/z. Second is max spike intensity\n",
    "spike_noise = UniformSpikeNoise(0.01,1e3)\n",
    "\n",
    "\n",
    "# note the None in the call in place of a peak sampler object - this isn't used anywhere in this example\n",
    "mass_spec = IndependentMassSpectrometer(ionisation_mode, d, None,\n",
    "                                        scan_duration_dict = scan_time_dict, \n",
    "                                        mz_noise = mz_noise,\n",
    "                                        intensity_noise = intensity_noise,\n",
    "                                        spike_noise = spike_noise)\n"
   ]
  },
  {
   "cell_type": "code",
   "execution_count": 102,
   "metadata": {},
   "outputs": [],
   "source": [
    "env = Environment(mass_spec, controller, 300, 600, progress_bar=True)"
   ]
  },
  {
   "cell_type": "code",
   "execution_count": 103,
   "metadata": {},
   "outputs": [
    {
     "name": "stderr",
     "output_type": "stream",
     "text": [
      "(600.000s) ms_level=1: 100%|█████████▉| 299.99999999999994/300 [00:04<00:00, 62.39it/s]  \n"
     ]
    }
   ],
   "source": [
    "set_log_level_warning()\n",
    "# run the simulation\n",
    "env.run()\n",
    "env.write_mzML('.','test.mzML')"
   ]
  },
  {
   "cell_type": "code",
   "execution_count": null,
   "metadata": {},
   "outputs": [],
   "source": []
  },
  {
   "cell_type": "code",
   "execution_count": null,
   "metadata": {},
   "outputs": [],
   "source": []
  },
  {
   "cell_type": "markdown",
   "metadata": {},
   "source": [
    "# Example using new multi-sample"
   ]
  },
  {
   "cell_type": "code",
   "execution_count": 64,
   "metadata": {},
   "outputs": [],
   "source": [
    "# make a 5 v 5 case control experiment\n",
    "n_control = 5\n",
    "n_case = 5\n",
    "\n",
    "# create a list of groups -- this is the order the chemical lists will return in\n",
    "group_list = ['control' for i in range(n_control)] + ['case' for i in range(n_case)]\n",
    "\n",
    "# create a dictionary describing what we want to happen in the groups\n",
    "# e.g. in the 'case' group, things are not missing, and 90% of them are changing\n",
    "group_dict = {'case': {'missing_probability':0.0, 'changing_probability':0.9}}\n",
    "\n",
    "\n",
    "from vimms.Chemicals import MultipleMixtureCreator\n",
    "from vimms.Noise import GaussianPeakNoise\n",
    "\n",
    "# use the intensity peak noise to add some sample noise\n",
    "intensity_noise = GaussianPeakNoise(sigma=0.2,log_space=True)\n",
    "\n",
    "\n",
    "# use the list of chemicals from the previous example\n",
    "mmc = MultipleMixtureCreator(d, group_list, group_dict, intensity_noise = intensity_noise)\n",
    "chem_lists = mmc.generate_chemical_lists()"
   ]
  },
  {
   "cell_type": "markdown",
   "metadata": {},
   "source": [
    "Check the chemical lists produced with a heatmap\n"
   ]
  },
  {
   "cell_type": "code",
   "execution_count": 65,
   "metadata": {},
   "outputs": [
    {
     "data": {
      "text/plain": [
       "<matplotlib.image.AxesImage at 0x12804cbd0>"
      ]
     },
     "execution_count": 65,
     "metadata": {},
     "output_type": "execute_result"
    },
    {
     "data": {
      "image/png": "[encoded data removed]",
      "text/plain": [
       "<Figure size 432x288 with 1 Axes>"
      ]
     },
     "metadata": {
      "needs_background": "light"
     },
     "output_type": "display_data"
    }
   ],
   "source": [
    "import pylab as plt\n",
    "%matplotlib inline\n",
    "intensities = []\n",
    "for cl in chem_lists:\n",
    "    new_intensities = [0 for c in d]\n",
    "    for c in cl:\n",
    "        c_pos = d.index(c.original_chemical)\n",
    "        new_intensities[c_pos] = c.max_intensity\n",
    "    intensities.append(new_intensities)\n",
    "intensities = np.array(intensities).T\n",
    "plt.imshow(np.log(intensities+1))"
   ]
  },
  {
   "cell_type": "code",
   "execution_count": null,
   "metadata": {},
   "outputs": [],
   "source": []
  }
 ],
 "metadata": {
  "kernelspec": {
   "display_name": "Python 3",
   "language": "python",
   "name": "python3"
  },
  "language_info": {
   "codemirror_mode": {
    "name": "ipython",
    "version": 3
   },
   "file_extension": ".py",
   "mimetype": "text/x-python",
   "name": "python",
   "nbconvert_exporter": "python",
   "pygments_lexer": "ipython3",
   "version": "3.7.5"
  }
 },
 "nbformat": 4,
 "nbformat_minor": 4
}
