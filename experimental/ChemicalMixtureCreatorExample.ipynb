{
 "cells": [
  {
   "cell_type": "markdown",
   "metadata": {},
   "source": [
    "# Example notebook to show how the new chemical mixture creator works"
   ]
  },
  {
   "cell_type": "code",
   "execution_count": 1,
   "metadata": {},
   "outputs": [],
   "source": [
    "import os\n",
    "import sys\n",
    "from pathlib import Path"
   ]
  },
  {
   "cell_type": "code",
   "execution_count": 2,
   "metadata": {},
   "outputs": [],
   "source": [
    "vimms_path = '/Users/simon/git/vimms'\n",
    "sys.path.append(vimms_path)\n",
    "# path to fixtures so we can load HMDB\n",
    "BASE_DIR = os.path.abspath(Path(vimms_path,'tests','integration', 'fixtures'))"
   ]
  },
  {
   "cell_type": "code",
   "execution_count": 6,
   "metadata": {},
   "outputs": [
    {
     "name": "stdout",
     "output_type": "stream",
     "text": [
      "The autoreload extension is already loaded. To reload it, use:\n",
      "  %reload_ext autoreload\n"
     ]
    }
   ],
   "source": [
    "%load_ext autoreload\n",
    "%autoreload 2\n",
    "\n",
    "from vimms.Common import *\n",
    "from vimms.Controller import AIF\n",
    "from vimms.Environment import Environment\n",
    "from vimms.MassSpec import IndependentMassSpectrometer\n",
    "\n",
    "# Noise for the MS\n",
    "from vimms.Noise import GaussianPeakNoise,  UniformSpikeNoise\n",
    "\n",
    "# Chemical creator import\n",
    "from vimms.Chemicals import ChemicalMixtureCreator\n",
    "from vimms.ChemicalSamplers import UniformRTAndIntensitySampler, UniformMS2Sampler, CRPMS2Sampler, GaussianChromatogramSampler\n",
    "\n",
    "\n"
   ]
  },
  {
   "cell_type": "markdown",
   "metadata": {},
   "source": [
    "Load HMDB"
   ]
  },
  {
   "cell_type": "code",
   "execution_count": 7,
   "metadata": {},
   "outputs": [],
   "source": [
    "HMDB = load_obj(Path(BASE_DIR, 'hmdb_compounds.p'))"
   ]
  },
  {
   "cell_type": "code",
   "execution_count": 8,
   "metadata": {},
   "outputs": [],
   "source": [
    "N_CHEMS = 10\n",
    "MZ_RANGE = [(0, 1050)]\n",
    "RT_RANGE = [(300, 500)]"
   ]
  },
  {
   "cell_type": "code",
   "execution_count": 9,
   "metadata": {},
   "outputs": [
    {
     "name": "stderr",
     "output_type": "stream",
     "text": [
      "2020-08-26 16:11:46.538 | DEBUG    | vimms.Chemicals:__init__:632 - Sorting database compounds by masses\n",
      "2020-08-26 16:11:49.957 | DEBUG    | vimms.Chemicals:_sample_formulas:679 - 10431 unique formulas in filtered database\n",
      "2020-08-26 16:11:49.960 | DEBUG    | vimms.Chemicals:_sample_formulas:681 - Sampled formulas\n",
      "2020-08-26 16:11:49.973 | DEBUG    | vimms.Chemicals:sample:646 - Sampled rt and intensity values and chromatograms\n"
     ]
    }
   ],
   "source": [
    "# sample RT and log intensity uniformly. See class def for min and max log intensity\n",
    "# returns actual intensity, but samples in log space\n",
    "uu = UniformRTAndIntensitySampler(min_rt = 300, max_rt = 500)\n",
    "\n",
    "# a sampler that samples MS2 uniform between 50 and the mass of the formula.\n",
    "# number ofo MS2 peaks is poisson with mean poiss_peak_mean\n",
    "us = UniformMS2Sampler(poiss_peak_mean=5)\n",
    "\n",
    "# OR a CRP MS2 sampler\n",
    "us = CRPMS2Sampler()\n",
    "\n",
    "# generates Gaussian chromatograms\n",
    "cs = GaussianChromatogramSampler()\n",
    "\n",
    "# The chemical mixture creator object\n",
    "\n",
    "cm = ChemicalMixtureCreator(HMDB, rt_and_intensity_sampler=uu, \n",
    "                            adduct_prior_dict=ADDUCT_DICT_POS_MH,\n",
    "                            chromatogram_sampler=cs,\n",
    "                            ms2_sampler = us)\n",
    "\n",
    "d = cm.sample(MZ_RANGE,RT_RANGE,N_CHEMS,2)"
   ]
  },
  {
   "cell_type": "markdown",
   "metadata": {},
   "source": [
    "Print the sampled chemicals, and their children"
   ]
  },
  {
   "cell_type": "code",
   "execution_count": 10,
   "metadata": {},
   "outputs": [
    {
     "name": "stdout",
     "output_type": "stream",
     "text": [
      "KnownChemical - 'C7H6O' rt=323.60 max_intensity=7702245.43\n",
      "\t MSN Fragment mz=53.0534 ms_level=2\n",
      "\t MSN Fragment mz=74.6480 ms_level=2\n",
      "\t MSN Fragment mz=80.8579 ms_level=2\n",
      "\t MSN Fragment mz=81.8378 ms_level=2\n",
      "\t MSN Fragment mz=83.1820 ms_level=2\n",
      "\t MSN Fragment mz=84.0807 ms_level=2\n",
      "\t MSN Fragment mz=95.7940 ms_level=2\n",
      "KnownChemical - 'C38H72O5' rt=334.92 max_intensity=4252674.08\n",
      "\t MSN Fragment mz=141.8480 ms_level=2\n",
      "\t MSN Fragment mz=208.6873 ms_level=2\n",
      "\t MSN Fragment mz=261.9714 ms_level=2\n",
      "\t MSN Fragment mz=314.9548 ms_level=2\n",
      "\t MSN Fragment mz=327.4422 ms_level=2\n",
      "\t MSN Fragment mz=438.5307 ms_level=2\n",
      "\t MSN Fragment mz=483.5359 ms_level=2\n",
      "\t MSN Fragment mz=563.0661 ms_level=2\n",
      "\t MSN Fragment mz=577.6028 ms_level=2\n",
      "\t MSN Fragment mz=582.7311 ms_level=2\n",
      "KnownChemical - 'C7H15N3O2' rt=387.11 max_intensity=13741.42\n",
      "\t MSN Fragment mz=69.4595 ms_level=2\n",
      "\t MSN Fragment mz=75.1783 ms_level=2\n",
      "\t MSN Fragment mz=97.2549 ms_level=2\n",
      "\t MSN Fragment mz=108.1261 ms_level=2\n",
      "\t MSN Fragment mz=117.6195 ms_level=2\n",
      "\t MSN Fragment mz=160.4621 ms_level=2\n",
      "\t MSN Fragment mz=172.6218 ms_level=2\n",
      "KnownChemical - 'C20H38O11' rt=397.28 max_intensity=11464.92\n",
      "\t MSN Fragment mz=159.5961 ms_level=2\n",
      "\t MSN Fragment mz=279.7059 ms_level=2\n",
      "KnownChemical - 'C15H24O3' rt=407.53 max_intensity=229194.77\n",
      "\t MSN Fragment mz=117.6405 ms_level=2\n",
      "\t MSN Fragment mz=190.7633 ms_level=2\n",
      "\t MSN Fragment mz=193.3313 ms_level=2\n",
      "\t MSN Fragment mz=201.3324 ms_level=2\n",
      "\t MSN Fragment mz=212.0929 ms_level=2\n",
      "\t MSN Fragment mz=226.5327 ms_level=2\n",
      "\t MSN Fragment mz=244.3247 ms_level=2\n",
      "KnownChemical - 'C6H12N2O4S2' rt=416.33 max_intensity=4755875.87\n",
      "\t MSN Fragment mz=62.1765 ms_level=2\n",
      "\t MSN Fragment mz=108.6469 ms_level=2\n",
      "\t MSN Fragment mz=114.8257 ms_level=2\n",
      "\t MSN Fragment mz=213.5079 ms_level=2\n",
      "\t MSN Fragment mz=229.3176 ms_level=2\n",
      "KnownChemical - 'C16H28O8' rt=420.18 max_intensity=470558.48\n",
      "\t MSN Fragment mz=73.3021 ms_level=2\n",
      "\t MSN Fragment mz=152.3419 ms_level=2\n",
      "\t MSN Fragment mz=170.3656 ms_level=2\n",
      "KnownChemical - 'C10H13N3O3' rt=484.29 max_intensity=59737.55\n",
      "\t MSN Fragment mz=76.0540 ms_level=2\n",
      "\t MSN Fragment mz=147.9055 ms_level=2\n",
      "\t MSN Fragment mz=171.6858 ms_level=2\n",
      "\t MSN Fragment mz=182.4845 ms_level=2\n",
      "\t MSN Fragment mz=214.6469 ms_level=2\n",
      "KnownChemical - 'C29H48O' rt=489.55 max_intensity=109775.90\n",
      "\t MSN Fragment mz=144.7882 ms_level=2\n",
      "\t MSN Fragment mz=161.1274 ms_level=2\n",
      "\t MSN Fragment mz=244.7989 ms_level=2\n",
      "\t MSN Fragment mz=250.2313 ms_level=2\n",
      "\t MSN Fragment mz=310.5615 ms_level=2\n",
      "\t MSN Fragment mz=312.6321 ms_level=2\n",
      "\t MSN Fragment mz=319.1692 ms_level=2\n",
      "KnownChemical - 'C12H16ClNO' rt=489.66 max_intensity=7272711.45\n",
      "\t MSN Fragment mz=50.5190 ms_level=2\n",
      "\t MSN Fragment mz=83.3558 ms_level=2\n",
      "\t MSN Fragment mz=89.3975 ms_level=2\n",
      "\t MSN Fragment mz=129.3948 ms_level=2\n",
      "\t MSN Fragment mz=171.2666 ms_level=2\n",
      "\t MSN Fragment mz=189.5149 ms_level=2\n",
      "\t MSN Fragment mz=196.4046 ms_level=2\n",
      "\t MSN Fragment mz=207.3518 ms_level=2\n",
      "\t MSN Fragment mz=212.2554 ms_level=2\n",
      "\t MSN Fragment mz=215.6615 ms_level=2\n"
     ]
    }
   ],
   "source": [
    "d.sort(key=lambda x: x.rt)\n",
    "for chem in d:\n",
    "    print(chem)\n",
    "    for child in chem.children:\n",
    "        print('\\t',child)"
   ]
  },
  {
   "cell_type": "markdown",
   "metadata": {},
   "source": [
    "Create and run an example controller. In this case, AIF."
   ]
  },
  {
   "cell_type": "code",
   "execution_count": 11,
   "metadata": {},
   "outputs": [],
   "source": [
    "controller = AIF(MZ_RANGE[0][0],MZ_RANGE[0][1])\n",
    "ionisation_mode = POSITIVE\n",
    "scan_time_dict = {1:0.6,2:0.06}\n",
    "\n",
    "\n",
    "mz_noise = GaussianPeakNoise(0.001)\n",
    "intensity_noise = GaussianPeakNoise(0.1,log_space=True)\n",
    "\n",
    "# This is new: spike noise which ensures no scans are empty\n",
    "# first argument is density: how many spikes to sample per unit m/z. Second is max spike intensity\n",
    "spike_noise = UniformSpikeNoise(0.01,1e3)\n",
    "\n",
    "\n",
    "# note the None in the call in place of a peak sampler object - this isn't used anywhere in this example\n",
    "mass_spec = IndependentMassSpectrometer(ionisation_mode, d, None,\n",
    "                                        scan_duration_dict = scan_time_dict, \n",
    "                                        mz_noise = mz_noise,\n",
    "                                        intensity_noise = intensity_noise,\n",
    "                                        spike_noise = spike_noise)\n"
   ]
  },
  {
   "cell_type": "code",
   "execution_count": 12,
   "metadata": {},
   "outputs": [],
   "source": [
    "env = Environment(mass_spec, controller, 300, 600, progress_bar=True)"
   ]
  },
  {
   "cell_type": "code",
   "execution_count": 13,
   "metadata": {},
   "outputs": [
    {
     "name": "stderr",
     "output_type": "stream",
     "text": [
      "(600.000s) ms_level=1: 100%|█████████▉| 299.99999999999994/300 [00:07<00:00, 42.21it/s] \n"
     ]
    }
   ],
   "source": [
    "set_log_level_warning()\n",
    "# run the simulation\n",
    "env.run()\n",
    "env.write_mzML('.','test.mzML')"
   ]
  },
  {
   "cell_type": "code",
   "execution_count": null,
   "metadata": {},
   "outputs": [],
   "source": []
  },
  {
   "cell_type": "code",
   "execution_count": null,
   "metadata": {},
   "outputs": [],
   "source": []
  },
  {
   "cell_type": "markdown",
   "metadata": {},
   "source": [
    "# Example using new multi-sample"
   ]
  },
  {
   "cell_type": "code",
   "execution_count": 75,
   "metadata": {},
   "outputs": [
    {
     "name": "stdout",
     "output_type": "stream",
     "text": [
      "case\n",
      "control\n",
      "{'case': {KnownChemical - 'C7H6O' rt=323.60 max_intensity=7702245.43: 2.0856609373408466, KnownChemical - 'C38H72O5' rt=334.92 max_intensity=4252674.08: 1.926187748635194, KnownChemical - 'C7H15N3O2' rt=387.11 max_intensity=13741.42: 1.5277630778057516, KnownChemical - 'C20H38O11' rt=397.28 max_intensity=11464.92: 3.2462958877115655, KnownChemical - 'C15H24O3' rt=407.53 max_intensity=229194.77: 1.1634138911252168, KnownChemical - 'C6H12N2O4S2' rt=416.33 max_intensity=4755875.87: 2.1876134346996587, KnownChemical - 'C16H28O8' rt=420.18 max_intensity=470558.48: 1.9208286963102386, KnownChemical - 'C10H13N3O3' rt=484.29 max_intensity=59737.55: 1.6579801825069636, KnownChemical - 'C29H48O' rt=489.55 max_intensity=109775.90: 1.0, KnownChemical - 'C12H16ClNO' rt=489.66 max_intensity=7272711.45: 1.3554483999640674}, 'control': {KnownChemical - 'C7H6O' rt=323.60 max_intensity=7702245.43: 1.0, KnownChemical - 'C38H72O5' rt=334.92 max_intensity=4252674.08: 1.0, KnownChemical - 'C7H15N3O2' rt=387.11 max_intensity=13741.42: 1.0, KnownChemical - 'C20H38O11' rt=397.28 max_intensity=11464.92: 1.0, KnownChemical - 'C15H24O3' rt=407.53 max_intensity=229194.77: 1.0, KnownChemical - 'C6H12N2O4S2' rt=416.33 max_intensity=4755875.87: 1.0, KnownChemical - 'C16H28O8' rt=420.18 max_intensity=470558.48: 1.0, KnownChemical - 'C10H13N3O3' rt=484.29 max_intensity=59737.55: 1.0, KnownChemical - 'C29H48O' rt=489.55 max_intensity=109775.90: 1.0, KnownChemical - 'C12H16ClNO' rt=489.66 max_intensity=7272711.45: 1.0}}\n"
     ]
    }
   ],
   "source": [
    "n_control = 5\n",
    "n_case = 5\n",
    "group_list = ['control' for i in range(n_control)] + ['case' for i in range(n_case)]\n",
    "group_dict = {'case': {'missing_probability':0.0, 'changing_probability':0.9}}\n",
    "from vimms.Chemicals import MultipleMixtureCreator\n",
    "from vimms.Noise import GaussianPeakNoise\n",
    "mmc = MultipleMixtureCreator(d,group_list,group_dict,intensity_noise = GaussianPeakNoise(sigma=0.05,log_space=True))\n",
    "print(mmc.group_multipliers)\n",
    "chem_lists = mmc.generate_chemical_lists()"
   ]
  },
  {
   "cell_type": "markdown",
   "metadata": {},
   "source": [
    "Check the chemical lists produced with a heatmap\n"
   ]
  },
  {
   "cell_type": "code",
   "execution_count": 76,
   "metadata": {},
   "outputs": [
    {
     "data": {
      "text/plain": [
       "<matplotlib.image.AxesImage at 0x12ec7f550>"
      ]
     },
     "execution_count": 76,
     "metadata": {},
     "output_type": "execute_result"
    },
    {
     "data": {
      "image/png": "[encoded data removed]",
      "text/plain": [
       "<Figure size 432x288 with 1 Axes>"
      ]
     },
     "metadata": {
      "needs_background": "light"
     },
     "output_type": "display_data"
    }
   ],
   "source": [
    "import pylab as plt\n",
    "%matplotlib inline\n",
    "intensities = []\n",
    "for cl in chem_lists:\n",
    "    new_intensities = [0 for c in d]\n",
    "    for c in cl:\n",
    "        c_pos = d.index(c.original_chemical)\n",
    "        new_intensities[c_pos] = c.max_intensity\n",
    "    intensities.append(new_intensities)\n",
    "intensities = np.array(intensities).T\n",
    "plt.imshow(np.log(intensities+1))"
   ]
  },
  {
   "cell_type": "code",
   "execution_count": null,
   "metadata": {},
   "outputs": [],
   "source": []
  }
 ],
 "metadata": {
  "kernelspec": {
   "display_name": "Python 3",
   "language": "python",
   "name": "python3"
  },
  "language_info": {
   "codemirror_mode": {
    "name": "ipython",
    "version": 3
   },
   "file_extension": ".py",
   "mimetype": "text/x-python",
   "name": "python",
   "nbconvert_exporter": "python",
   "pygments_lexer": "ipython3",
   "version": "3.7.5"
  }
 },
 "nbformat": 4,
 "nbformat_minor": 4
}
