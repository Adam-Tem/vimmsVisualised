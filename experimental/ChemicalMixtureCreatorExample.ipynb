{
 "cells": [
  {
   "cell_type": "markdown",
   "metadata": {},
   "source": [
    "# Example notebook to show how the new chemical mixture creator works"
   ]
  },
  {
   "cell_type": "code",
   "execution_count": 10,
   "metadata": {},
   "outputs": [],
   "source": [
    "import os\n",
    "import sys\n",
    "from pathlib import Path"
   ]
  },
  {
   "cell_type": "code",
   "execution_count": 11,
   "metadata": {},
   "outputs": [],
   "source": [
    "vimms_path = '/Users/simon/git/vimms'\n",
    "sys.path.append(vimms_path)\n",
    "# path to fixtures so we can load HMDB\n",
    "BASE_DIR = os.path.abspath(Path(vimms_path,'tests','integration', 'fixtures'))"
   ]
  },
  {
   "cell_type": "code",
   "execution_count": 72,
   "metadata": {},
   "outputs": [
    {
     "name": "stdout",
     "output_type": "stream",
     "text": [
      "The autoreload extension is already loaded. To reload it, use:\n",
      "  %reload_ext autoreload\n"
     ]
    }
   ],
   "source": [
    "%load_ext autoreload\n",
    "%autoreload 2\n",
    "\n",
    "from vimms.Common import *\n",
    "from vimms.Controller import AIF\n",
    "from vimms.Environment import Environment\n",
    "from vimms.MassSpec import IndependentMassSpectrometer\n",
    "\n",
    "# Noise for the MS\n",
    "from vimms.Noise import GaussianPeakNoise,  UniformSpikeNoise\n",
    "\n",
    "# Chemical creator import\n",
    "from vimms.Chemicals import ChemicalMixtureCreator\n",
    "from vimms.ChemicalSamplers import UniformRTAndIntensitySampler, UniformMS2Sampler, CRPMS2Sampler, GaussianChromatogramSampler, DatabaseFormulaSampler, UniformMZFormulaSampler, MGFMS2Sampler\n",
    "\n",
    "\n"
   ]
  },
  {
   "cell_type": "markdown",
   "metadata": {},
   "source": [
    "Load HMDB"
   ]
  },
  {
   "cell_type": "code",
   "execution_count": 20,
   "metadata": {},
   "outputs": [],
   "source": [
    "HMDB = load_obj(Path(BASE_DIR, 'hmdb_compounds.p'))"
   ]
  },
  {
   "cell_type": "code",
   "execution_count": 29,
   "metadata": {},
   "outputs": [],
   "source": [
    "N_CHEMS = 10\n",
    "MZ_RANGE = [(0, 1050)]\n",
    "RT_RANGE = [(300, 500)]"
   ]
  },
  {
   "cell_type": "code",
   "execution_count": 99,
   "metadata": {},
   "outputs": [],
   "source": [
    "# sample RT and log intensity uniformly. See class def for min and max log intensity\n",
    "# returns actual intensity, but samples in log space\n",
    "uu = UniformRTAndIntensitySampler(min_rt = 300, max_rt = 500)\n",
    "\n",
    "# a sampler that samples MS2 uniform between 50 and the mass of the formula.\n",
    "# number ofo MS2 peaks is poisson with mean poiss_peak_mean\n",
    "us = UniformMS2Sampler(poiss_peak_mean=5)\n",
    "\n",
    "# OR a CRP MS2 sampler\n",
    "us = CRPMS2Sampler()\n",
    "\n",
    "# OR load from an .mgf file - here we filter to only keep spectra with 20 peaks or fewer\n",
    "# and sample without replacement\n",
    "us = MGFMS2Sampler('/Users/simon/git/vimms/Experimental/small_mgf.mgf', max_peaks=20, replace=False)\n",
    "\n",
    "# generates Gaussian chromatograms\n",
    "cs = GaussianChromatogramSampler()\n",
    "\n",
    "# generates formulas from HMDB\n",
    "hf = DatabaseFormulaSampler(HMDB)\n",
    "\n",
    "# or, samples them from a uniform - so just mz rather then formulas\n",
    "# resulting in UnknownChemical objects instead of known_chemical ones\n",
    "hf = UniformMZFormulaSampler()\n",
    "\n",
    "# The chemical mixture creator object\n",
    "\n",
    "cm = ChemicalMixtureCreator(hf, rt_and_intensity_sampler=uu, \n",
    "                            adduct_prior_dict=ADDUCT_DICT_POS_MH,\n",
    "                            chromatogram_sampler=cs,\n",
    "                            ms2_sampler = us)\n",
    "\n",
    "d = cm.sample(MZ_RANGE,RT_RANGE,N_CHEMS,2)"
   ]
  },
  {
   "cell_type": "markdown",
   "metadata": {},
   "source": [
    "Print the sampled chemicals, and their children"
   ]
  },
  {
   "cell_type": "code",
   "execution_count": 100,
   "metadata": {},
   "outputs": [
    {
     "name": "stdout",
     "output_type": "stream",
     "text": [
      "UnknownChemical mz=160.6274 rt=305.86 max_intensity=291520.72\n",
      "\t MSN Fragment mz=53.0460 ms_level=2\n",
      "\t MSN Fragment mz=62.7850 ms_level=2\n",
      "\t MSN Fragment mz=65.1340 ms_level=2\n",
      "\t MSN Fragment mz=65.8520 ms_level=2\n",
      "\t MSN Fragment mz=67.0850 ms_level=2\n",
      "\t MSN Fragment mz=67.7250 ms_level=2\n",
      "\t MSN Fragment mz=68.6690 ms_level=2\n",
      "\t MSN Fragment mz=70.1990 ms_level=2\n",
      "\t MSN Fragment mz=77.2460 ms_level=2\n",
      "\t MSN Fragment mz=78.3700 ms_level=2\n",
      "\t MSN Fragment mz=80.3130 ms_level=2\n",
      "\t MSN Fragment mz=81.5230 ms_level=2\n",
      "\t MSN Fragment mz=82.5760 ms_level=2\n",
      "\t MSN Fragment mz=94.2980 ms_level=2\n",
      "\t MSN Fragment mz=106.0750 ms_level=2\n",
      "\t MSN Fragment mz=107.6130 ms_level=2\n",
      "\t MSN Fragment mz=108.6590 ms_level=2\n",
      "\t MSN Fragment mz=148.9180 ms_level=2\n",
      "UnknownChemical mz=965.3400 rt=345.47 max_intensity=509152.22\n",
      "\t MSN Fragment mz=36.2000 ms_level=2\n",
      "\t MSN Fragment mz=54.3000 ms_level=2\n",
      "\t MSN Fragment mz=62.0000 ms_level=2\n",
      "\t MSN Fragment mz=70.6000 ms_level=2\n",
      "\t MSN Fragment mz=73.1000 ms_level=2\n",
      "\t MSN Fragment mz=76.0000 ms_level=2\n",
      "\t MSN Fragment mz=79.6000 ms_level=2\n",
      "\t MSN Fragment mz=94.2000 ms_level=2\n",
      "\t MSN Fragment mz=108.1000 ms_level=2\n",
      "\t MSN Fragment mz=108.9000 ms_level=2\n",
      "\t MSN Fragment mz=126.1000 ms_level=2\n",
      "UnknownChemical mz=626.2528 rt=407.32 max_intensity=1049879.34\n",
      "\t MSN Fragment mz=279.0900 ms_level=2\n",
      "\t MSN Fragment mz=305.0400 ms_level=2\n",
      "\t MSN Fragment mz=323.0900 ms_level=2\n",
      "\t MSN Fragment mz=335.0300 ms_level=2\n",
      "\t MSN Fragment mz=351.1300 ms_level=2\n",
      "\t MSN Fragment mz=365.1200 ms_level=2\n",
      "\t MSN Fragment mz=377.1000 ms_level=2\n",
      "\t MSN Fragment mz=395.0200 ms_level=2\n",
      "\t MSN Fragment mz=412.2100 ms_level=2\n",
      "\t MSN Fragment mz=455.0600 ms_level=2\n",
      "\t MSN Fragment mz=467.0500 ms_level=2\n",
      "\t MSN Fragment mz=487.1600 ms_level=2\n",
      "\t MSN Fragment mz=531.1300 ms_level=2\n",
      "UnknownChemical mz=905.3519 rt=422.44 max_intensity=3038027.64\n",
      "\t MSN Fragment mz=55.0583 ms_level=2\n",
      "\t MSN Fragment mz=65.0096 ms_level=2\n",
      "\t MSN Fragment mz=69.0734 ms_level=2\n",
      "\t MSN Fragment mz=71.9941 ms_level=2\n",
      "\t MSN Fragment mz=80.0533 ms_level=2\n",
      "\t MSN Fragment mz=95.0863 ms_level=2\n",
      "\t MSN Fragment mz=97.1039 ms_level=2\n",
      "\t MSN Fragment mz=100.0251 ms_level=2\n",
      "\t MSN Fragment mz=101.0333 ms_level=2\n",
      "\t MSN Fragment mz=108.0837 ms_level=2\n",
      "\t MSN Fragment mz=112.1153 ms_level=2\n",
      "\t MSN Fragment mz=114.0404 ms_level=2\n",
      "\t MSN Fragment mz=122.1002 ms_level=2\n",
      "\t MSN Fragment mz=123.1070 ms_level=2\n",
      "\t MSN Fragment mz=147.0870 ms_level=2\n",
      "\t MSN Fragment mz=156.0860 ms_level=2\n",
      "\t MSN Fragment mz=220.0829 ms_level=2\n",
      "UnknownChemical mz=136.6160 rt=427.04 max_intensity=166010.47\n",
      "\t MSN Fragment mz=41.3640 ms_level=2\n",
      "\t MSN Fragment mz=42.3560 ms_level=2\n",
      "\t MSN Fragment mz=43.4250 ms_level=2\n",
      "\t MSN Fragment mz=44.3390 ms_level=2\n",
      "\t MSN Fragment mz=55.2540 ms_level=2\n",
      "\t MSN Fragment mz=70.3380 ms_level=2\n",
      "\t MSN Fragment mz=71.2900 ms_level=2\n",
      "\t MSN Fragment mz=72.1800 ms_level=2\n",
      "\t MSN Fragment mz=86.9290 ms_level=2\n",
      "\t MSN Fragment mz=87.8740 ms_level=2\n",
      "\t MSN Fragment mz=89.1310 ms_level=2\n",
      "UnknownChemical mz=596.6048 rt=432.65 max_intensity=97467.74\n",
      "\t MSN Fragment mz=53.0385 ms_level=2\n",
      "\t MSN Fragment mz=77.0387 ms_level=2\n",
      "\t MSN Fragment mz=79.0543 ms_level=2\n",
      "\t MSN Fragment mz=81.0332 ms_level=2\n",
      "\t MSN Fragment mz=93.0575 ms_level=2\n",
      "\t MSN Fragment mz=95.0491 ms_level=2\n",
      "\t MSN Fragment mz=105.0447 ms_level=2\n",
      "\t MSN Fragment mz=106.0652 ms_level=2\n",
      "\t MSN Fragment mz=107.0730 ms_level=2\n",
      "\t MSN Fragment mz=121.0758 ms_level=2\n",
      "\t MSN Fragment mz=135.0921 ms_level=2\n",
      "\t MSN Fragment mz=136.0991 ms_level=2\n",
      "UnknownChemical mz=884.7783 rt=463.83 max_intensity=1075630.64\n",
      "\t MSN Fragment mz=203.9000 ms_level=2\n",
      "\t MSN Fragment mz=221.8000 ms_level=2\n",
      "\t MSN Fragment mz=264.9000 ms_level=2\n",
      "\t MSN Fragment mz=310.8000 ms_level=2\n",
      "\t MSN Fragment mz=406.0000 ms_level=2\n",
      "\t MSN Fragment mz=406.6000 ms_level=2\n",
      "\t MSN Fragment mz=467.6000 ms_level=2\n",
      "\t MSN Fragment mz=477.6000 ms_level=2\n",
      "\t MSN Fragment mz=512.9000 ms_level=2\n",
      "\t MSN Fragment mz=513.6000 ms_level=2\n",
      "\t MSN Fragment mz=514.2000 ms_level=2\n",
      "\t MSN Fragment mz=669.8000 ms_level=2\n",
      "\t MSN Fragment mz=670.6000 ms_level=2\n",
      "\t MSN Fragment mz=715.8000 ms_level=2\n",
      "\t MSN Fragment mz=716.5000 ms_level=2\n",
      "\t MSN Fragment mz=717.1000 ms_level=2\n",
      "UnknownChemical mz=582.8727 rt=476.51 max_intensity=17852.34\n",
      "\t MSN Fragment mz=55.0417 ms_level=2\n",
      "\t MSN Fragment mz=56.0369 ms_level=2\n",
      "\t MSN Fragment mz=56.0495 ms_level=2\n",
      "\t MSN Fragment mz=57.0573 ms_level=2\n",
      "\t MSN Fragment mz=58.0288 ms_level=2\n",
      "\t MSN Fragment mz=58.0651 ms_level=2\n",
      "\t MSN Fragment mz=72.0444 ms_level=2\n",
      "\t MSN Fragment mz=73.0397 ms_level=2\n",
      "\t MSN Fragment mz=86.0600 ms_level=2\n",
      "\t MSN Fragment mz=87.0679 ms_level=2\n",
      "\t MSN Fragment mz=117.0659 ms_level=2\n",
      "UnknownChemical mz=102.4084 rt=478.50 max_intensity=5656762.86\n",
      "\t MSN Fragment mz=16.2000 ms_level=2\n",
      "\t MSN Fragment mz=21.8000 ms_level=2\n",
      "\t MSN Fragment mz=40.1000 ms_level=2\n",
      "\t MSN Fragment mz=58.1000 ms_level=2\n",
      "\t MSN Fragment mz=59.1000 ms_level=2\n",
      "\t MSN Fragment mz=76.0000 ms_level=2\n",
      "\t MSN Fragment mz=85.4000 ms_level=2\n",
      "\t MSN Fragment mz=132.8000 ms_level=2\n",
      "\t MSN Fragment mz=146.6000 ms_level=2\n",
      "\t MSN Fragment mz=156.9000 ms_level=2\n",
      "\t MSN Fragment mz=162.6000 ms_level=2\n",
      "\t MSN Fragment mz=438.6000 ms_level=2\n",
      "UnknownChemical mz=425.1215 rt=499.07 max_intensity=1161765.71\n",
      "\t MSN Fragment mz=72.2000 ms_level=2\n",
      "\t MSN Fragment mz=73.3000 ms_level=2\n",
      "\t MSN Fragment mz=84.2000 ms_level=2\n",
      "\t MSN Fragment mz=85.2000 ms_level=2\n",
      "\t MSN Fragment mz=118.1000 ms_level=2\n",
      "\t MSN Fragment mz=119.2000 ms_level=2\n",
      "\t MSN Fragment mz=130.1000 ms_level=2\n",
      "\t MSN Fragment mz=148.1000 ms_level=2\n",
      "\t MSN Fragment mz=176.1000 ms_level=2\n",
      "\t MSN Fragment mz=184.1000 ms_level=2\n",
      "\t MSN Fragment mz=185.2000 ms_level=2\n",
      "\t MSN Fragment mz=201.1000 ms_level=2\n",
      "\t MSN Fragment mz=202.1000 ms_level=2\n",
      "\t MSN Fragment mz=211.1000 ms_level=2\n",
      "\t MSN Fragment mz=229.1000 ms_level=2\n",
      "\t MSN Fragment mz=230.1000 ms_level=2\n",
      "\t MSN Fragment mz=231.1000 ms_level=2\n"
     ]
    }
   ],
   "source": [
    "d.sort(key=lambda x: x.rt)\n",
    "for chem in d:\n",
    "    print(chem)\n",
    "    for child in chem.children:\n",
    "        print('\\t',child)"
   ]
  },
  {
   "cell_type": "markdown",
   "metadata": {},
   "source": [
    "Create and run an example controller. In this case, AIF."
   ]
  },
  {
   "cell_type": "code",
   "execution_count": 93,
   "metadata": {},
   "outputs": [],
   "source": [
    "controller = AIF(MZ_RANGE[0][0],MZ_RANGE[0][1])\n",
    "ionisation_mode = POSITIVE\n",
    "scan_time_dict = {1:0.6,2:0.06}\n",
    "\n",
    "\n",
    "mz_noise = GaussianPeakNoise(0.001)\n",
    "intensity_noise = GaussianPeakNoise(0.1,log_space=True)\n",
    "\n",
    "# This is new: spike noise which ensures no scans are empty\n",
    "# first argument is density: how many spikes to sample per unit m/z. Second is max spike intensity\n",
    "spike_noise = UniformSpikeNoise(0.01,1e3)\n",
    "\n",
    "\n",
    "# note the None in the call in place of a peak sampler object - this isn't used anywhere in this example\n",
    "mass_spec = IndependentMassSpectrometer(ionisation_mode, d, None,\n",
    "                                        scan_duration_dict = scan_time_dict, \n",
    "                                        mz_noise = mz_noise,\n",
    "                                        intensity_noise = intensity_noise,\n",
    "                                        spike_noise = spike_noise)\n"
   ]
  },
  {
   "cell_type": "code",
   "execution_count": 94,
   "metadata": {},
   "outputs": [],
   "source": [
    "env = Environment(mass_spec, controller, 300, 600, progress_bar=True)"
   ]
  },
  {
   "cell_type": "code",
   "execution_count": 95,
   "metadata": {},
   "outputs": [
    {
     "name": "stderr",
     "output_type": "stream",
     "text": [
      "(600.000s) ms_level=1: 100%|█████████▉| 299.99999999999994/300 [00:04<00:00, 63.88it/s] \n"
     ]
    }
   ],
   "source": [
    "set_log_level_warning()\n",
    "# run the simulation\n",
    "env.run()\n",
    "env.write_mzML('.','test.mzML')"
   ]
  },
  {
   "cell_type": "code",
   "execution_count": null,
   "metadata": {},
   "outputs": [],
   "source": []
  },
  {
   "cell_type": "code",
   "execution_count": null,
   "metadata": {},
   "outputs": [],
   "source": []
  },
  {
   "cell_type": "markdown",
   "metadata": {},
   "source": [
    "# Example using new multi-sample"
   ]
  },
  {
   "cell_type": "code",
   "execution_count": 64,
   "metadata": {},
   "outputs": [],
   "source": [
    "# make a 5 v 5 case control experiment\n",
    "n_control = 5\n",
    "n_case = 5\n",
    "\n",
    "# create a list of groups -- this is the order the chemical lists will return in\n",
    "group_list = ['control' for i in range(n_control)] + ['case' for i in range(n_case)]\n",
    "\n",
    "# create a dictionary describing what we want to happen in the groups\n",
    "# e.g. in the 'case' group, things are not missing, and 90% of them are changing\n",
    "group_dict = {'case': {'missing_probability':0.0, 'changing_probability':0.9}}\n",
    "\n",
    "\n",
    "from vimms.Chemicals import MultipleMixtureCreator\n",
    "from vimms.Noise import GaussianPeakNoise\n",
    "\n",
    "# use the intensity peak noise to add some sample noise\n",
    "intensity_noise = GaussianPeakNoise(sigma=0.2,log_space=True)\n",
    "\n",
    "\n",
    "# use the list of chemicals from the previous example\n",
    "mmc = MultipleMixtureCreator(d, group_list, group_dict, intensity_noise = intensity_noise)\n",
    "chem_lists = mmc.generate_chemical_lists()"
   ]
  },
  {
   "cell_type": "markdown",
   "metadata": {},
   "source": [
    "Check the chemical lists produced with a heatmap\n"
   ]
  },
  {
   "cell_type": "code",
   "execution_count": 65,
   "metadata": {},
   "outputs": [
    {
     "data": {
      "text/plain": [
       "<matplotlib.image.AxesImage at 0x12804cbd0>"
      ]
     },
     "execution_count": 65,
     "metadata": {},
     "output_type": "execute_result"
    },
    {
     "data": {
      "image/png": "[encoded data removed]",
      "text/plain": [
       "<Figure size 432x288 with 1 Axes>"
      ]
     },
     "metadata": {
      "needs_background": "light"
     },
     "output_type": "display_data"
    }
   ],
   "source": [
    "import pylab as plt\n",
    "%matplotlib inline\n",
    "intensities = []\n",
    "for cl in chem_lists:\n",
    "    new_intensities = [0 for c in d]\n",
    "    for c in cl:\n",
    "        c_pos = d.index(c.original_chemical)\n",
    "        new_intensities[c_pos] = c.max_intensity\n",
    "    intensities.append(new_intensities)\n",
    "intensities = np.array(intensities).T\n",
    "plt.imshow(np.log(intensities+1))"
   ]
  },
  {
   "cell_type": "code",
   "execution_count": null,
   "metadata": {},
   "outputs": [],
   "source": []
  }
 ],
 "metadata": {
  "kernelspec": {
   "display_name": "Python 3",
   "language": "python",
   "name": "python3"
  },
  "language_info": {
   "codemirror_mode": {
    "name": "ipython",
    "version": 3
   },
   "file_extension": ".py",
   "mimetype": "text/x-python",
   "name": "python",
   "nbconvert_exporter": "python",
   "pygments_lexer": "ipython3",
   "version": "3.7.5"
  }
 },
 "nbformat": 4,
 "nbformat_minor": 4
}
