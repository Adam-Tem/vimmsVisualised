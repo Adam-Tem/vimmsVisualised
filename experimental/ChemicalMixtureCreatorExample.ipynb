{
 "cells": [
  {
   "cell_type": "markdown",
   "metadata": {},
   "source": [
    "# Example notebook to show how the new chemical mixture creator works"
   ]
  },
  {
   "cell_type": "code",
   "execution_count": 1,
   "metadata": {},
   "outputs": [],
   "source": [
    "import os\n",
    "import sys\n",
    "from pathlib import Path"
   ]
  },
  {
   "cell_type": "code",
   "execution_count": 2,
   "metadata": {},
   "outputs": [],
   "source": [
    "vimms_path = '/Users/simon/git/vimms'\n",
    "sys.path.append(vimms_path)\n",
    "# path to fixtures so we can load HMDB\n",
    "BASE_DIR = os.path.abspath(Path(vimms_path,'tests','integration', 'fixtures'))"
   ]
  },
  {
   "cell_type": "code",
   "execution_count": 3,
   "metadata": {},
   "outputs": [],
   "source": [
    "%load_ext autoreload\n",
    "%autoreload 2\n",
    "\n",
    "from vimms.Common import *\n",
    "from vimms.Controller import AIF\n",
    "from vimms.Environment import Environment\n",
    "from vimms.MassSpec import IndependentMassSpectrometer\n",
    "\n",
    "# Noise for the MS\n",
    "from vimms.Noise import GaussianPeakNoise,  UniformSpikeNoise\n",
    "\n",
    "# Chemical creator import\n",
    "from vimms.Chemicals import ChemicalMixtureCreator\n",
    "from vimms.ChemicalSamplers import UniformRTAndIntensitySampler, UniformMS2Sampler, CRPMS2Sampler, GaussianChromatogramSampler, DatabaseFormulaSampler, UniformMZFormulaSampler, MGFMS2Sampler\n",
    "\n",
    "\n"
   ]
  },
  {
   "cell_type": "markdown",
   "metadata": {},
   "source": [
    "Load HMDB"
   ]
  },
  {
   "cell_type": "code",
   "execution_count": 4,
   "metadata": {},
   "outputs": [],
   "source": [
    "HMDB = load_obj(Path(BASE_DIR, 'hmdb_compounds.p'))"
   ]
  },
  {
   "cell_type": "code",
   "execution_count": 5,
   "metadata": {},
   "outputs": [],
   "source": [
    "N_CHEMS = 10\n",
    "MZ_RANGE = [(0, 1050)]\n",
    "RT_RANGE = [(300, 500)]"
   ]
  },
  {
   "cell_type": "code",
   "execution_count": 6,
   "metadata": {},
   "outputs": [
    {
     "name": "stderr",
     "output_type": "stream",
     "text": [
      "2020-08-26 22:26:48.900 | DEBUG    | vimms.ChemicalSamplers:__init__:142 - Loaded 9 spectra from /Users/simon/git/vimms/tests/integration/fixtures/small_mgf.mgf\n",
      "2020-08-26 22:26:48.911 | DEBUG    | vimms.Chemicals:sample:604 - Sampled rt and intensity values and chromatograms\n"
     ]
    },
    {
     "name": "stdout",
     "output_type": "stream",
     "text": [
      "Loaded 100 spectra\n"
     ]
    }
   ],
   "source": [
    "# sample RT and log intensity uniformly. See class def for min and max log intensity\n",
    "# returns actual intensity, but samples in log space\n",
    "uu = UniformRTAndIntensitySampler(min_rt = 300, max_rt = 500)\n",
    "\n",
    "# a sampler that samples MS2 uniform between 50 and the mass of the formula.\n",
    "# number ofo MS2 peaks is poisson with mean poiss_peak_mean\n",
    "us = UniformMS2Sampler(poiss_peak_mean=5)\n",
    "\n",
    "# OR a CRP MS2 sampler\n",
    "us = CRPMS2Sampler()\n",
    "\n",
    "# OR load from an .mgf file - here we filter to only keep spectra with 20 peaks or fewer\n",
    "# and sample without replacement\n",
    "us = MGFMS2Sampler(Path(BASE_DIR,'small_mgf.mgf'), max_peaks=20, replace=False)\n",
    "\n",
    "# generates Gaussian chromatograms\n",
    "cs = GaussianChromatogramSampler()\n",
    "\n",
    "# generates formulas from HMDB\n",
    "hf = DatabaseFormulaSampler(HMDB)\n",
    "\n",
    "# or, samples them from a uniform - so just mz rather then formulas\n",
    "# resulting in UnknownChemical objects instead of known_chemical ones\n",
    "hf = UniformMZFormulaSampler()\n",
    "\n",
    "# The chemical mixture creator object\n",
    "\n",
    "cm = ChemicalMixtureCreator(hf, rt_and_intensity_sampler=uu, \n",
    "                            adduct_prior_dict=ADDUCT_DICT_POS_MH,\n",
    "                            chromatogram_sampler=cs,\n",
    "                            ms2_sampler = us)\n",
    "\n",
    "d = cm.sample(MZ_RANGE,RT_RANGE,N_CHEMS,2)"
   ]
  },
  {
   "cell_type": "markdown",
   "metadata": {},
   "source": [
    "Print the sampled chemicals, and their children"
   ]
  },
  {
   "cell_type": "code",
   "execution_count": 7,
   "metadata": {},
   "outputs": [
    {
     "name": "stdout",
     "output_type": "stream",
     "text": [
      "UnknownChemical mz=360.5988 rt=312.50 max_intensity=55786.48\n",
      "\t MSN Fragment mz=53.7009 ms_level=2\n",
      "\t MSN Fragment mz=59.6485 ms_level=2\n",
      "\t MSN Fragment mz=91.8826 ms_level=2\n",
      "\t MSN Fragment mz=100.0998 ms_level=2\n",
      "\t MSN Fragment mz=205.5794 ms_level=2\n",
      "\t MSN Fragment mz=264.1518 ms_level=2\n",
      "\t MSN Fragment mz=266.3645 ms_level=2\n",
      "\t MSN Fragment mz=413.2683 ms_level=2\n",
      "\t MSN Fragment mz=431.5265 ms_level=2\n",
      "\t MSN Fragment mz=488.2986 ms_level=2\n",
      "\t MSN Fragment mz=538.3387 ms_level=2\n",
      "\t MSN Fragment mz=814.6830 ms_level=2\n",
      "UnknownChemical mz=429.0090 rt=342.23 max_intensity=62563.57\n",
      "\t MSN Fragment mz=51.3351 ms_level=2\n",
      "\t MSN Fragment mz=56.5586 ms_level=2\n",
      "\t MSN Fragment mz=59.6588 ms_level=2\n",
      "\t MSN Fragment mz=64.1760 ms_level=2\n",
      "\t MSN Fragment mz=66.9876 ms_level=2\n",
      "\t MSN Fragment mz=72.1345 ms_level=2\n",
      "\t MSN Fragment mz=83.9308 ms_level=2\n",
      "\t MSN Fragment mz=98.0214 ms_level=2\n",
      "\t MSN Fragment mz=110.7920 ms_level=2\n",
      "\t MSN Fragment mz=313.5331 ms_level=2\n",
      "\t MSN Fragment mz=393.7563 ms_level=2\n",
      "\t MSN Fragment mz=397.2700 ms_level=2\n",
      "\t MSN Fragment mz=454.2932 ms_level=2\n",
      "\t MSN Fragment mz=472.3082 ms_level=2\n",
      "\t MSN Fragment mz=473.3127 ms_level=2\n",
      "\t MSN Fragment mz=612.6138 ms_level=2\n",
      "\t MSN Fragment mz=619.9565 ms_level=2\n",
      "\t MSN Fragment mz=884.9139 ms_level=2\n",
      "UnknownChemical mz=775.4334 rt=362.55 max_intensity=253455.83\n",
      "\t MSN Fragment mz=55.8028 ms_level=2\n",
      "\t MSN Fragment mz=58.5311 ms_level=2\n",
      "\t MSN Fragment mz=60.9227 ms_level=2\n",
      "\t MSN Fragment mz=69.6075 ms_level=2\n",
      "\t MSN Fragment mz=84.4693 ms_level=2\n",
      "\t MSN Fragment mz=85.2403 ms_level=2\n",
      "\t MSN Fragment mz=91.8835 ms_level=2\n",
      "\t MSN Fragment mz=94.1528 ms_level=2\n",
      "\t MSN Fragment mz=185.3439 ms_level=2\n",
      "\t MSN Fragment mz=474.0742 ms_level=2\n",
      "\t MSN Fragment mz=502.2329 ms_level=2\n",
      "\t MSN Fragment mz=520.2433 ms_level=2\n",
      "\t MSN Fragment mz=538.2559 ms_level=2\n",
      "UnknownChemical mz=244.0702 rt=372.44 max_intensity=110799.09\n",
      "\t MSN Fragment mz=90.4732 ms_level=2\n",
      "\t MSN Fragment mz=91.8861 ms_level=2\n",
      "\t MSN Fragment mz=95.8755 ms_level=2\n",
      "\t MSN Fragment mz=100.3865 ms_level=2\n",
      "\t MSN Fragment mz=101.9432 ms_level=2\n",
      "\t MSN Fragment mz=114.0452 ms_level=2\n",
      "\t MSN Fragment mz=117.7767 ms_level=2\n",
      "\t MSN Fragment mz=119.5038 ms_level=2\n",
      "\t MSN Fragment mz=148.0034 ms_level=2\n",
      "\t MSN Fragment mz=181.3274 ms_level=2\n",
      "\t MSN Fragment mz=284.5113 ms_level=2\n",
      "\t MSN Fragment mz=395.2570 ms_level=2\n",
      "\t MSN Fragment mz=413.2689 ms_level=2\n",
      "\t MSN Fragment mz=502.2654 ms_level=2\n",
      "\t MSN Fragment mz=520.2676 ms_level=2\n",
      "\t MSN Fragment mz=538.2787 ms_level=2\n",
      "UnknownChemical mz=473.2680 rt=390.36 max_intensity=11232.62\n",
      "\t MSN Fragment mz=70.8751 ms_level=2\n",
      "\t MSN Fragment mz=77.2997 ms_level=2\n",
      "\t MSN Fragment mz=96.0530 ms_level=2\n",
      "\t MSN Fragment mz=114.5996 ms_level=2\n",
      "\t MSN Fragment mz=118.7614 ms_level=2\n",
      "\t MSN Fragment mz=139.1872 ms_level=2\n",
      "\t MSN Fragment mz=149.8709 ms_level=2\n",
      "\t MSN Fragment mz=305.0369 ms_level=2\n",
      "\t MSN Fragment mz=395.2277 ms_level=2\n",
      "\t MSN Fragment mz=413.2377 ms_level=2\n",
      "\t MSN Fragment mz=431.2484 ms_level=2\n",
      "\t MSN Fragment mz=449.2575 ms_level=2\n",
      "UnknownChemical mz=547.1146 rt=397.82 max_intensity=1302787.78\n",
      "\t MSN Fragment mz=55.6011 ms_level=2\n",
      "\t MSN Fragment mz=57.5494 ms_level=2\n",
      "\t MSN Fragment mz=62.4404 ms_level=2\n",
      "\t MSN Fragment mz=66.4316 ms_level=2\n",
      "\t MSN Fragment mz=91.8805 ms_level=2\n",
      "\t MSN Fragment mz=91.8855 ms_level=2\n",
      "\t MSN Fragment mz=243.0569 ms_level=2\n",
      "\t MSN Fragment mz=374.3467 ms_level=2\n",
      "\t MSN Fragment mz=382.4094 ms_level=2\n",
      "\t MSN Fragment mz=502.2246 ms_level=2\n",
      "\t MSN Fragment mz=520.2450 ms_level=2\n",
      "\t MSN Fragment mz=529.5291 ms_level=2\n",
      "\t MSN Fragment mz=538.2459 ms_level=2\n",
      "\t MSN Fragment mz=556.2630 ms_level=2\n",
      "UnknownChemical mz=1028.1920 rt=431.51 max_intensity=666487.28\n",
      "\t MSN Fragment mz=56.4957 ms_level=2\n",
      "\t MSN Fragment mz=67.4092 ms_level=2\n",
      "\t MSN Fragment mz=91.8837 ms_level=2\n",
      "\t MSN Fragment mz=119.6315 ms_level=2\n",
      "\t MSN Fragment mz=124.3594 ms_level=2\n",
      "\t MSN Fragment mz=126.5099 ms_level=2\n",
      "\t MSN Fragment mz=145.3101 ms_level=2\n",
      "\t MSN Fragment mz=148.0036 ms_level=2\n",
      "\t MSN Fragment mz=168.5435 ms_level=2\n",
      "\t MSN Fragment mz=213.3061 ms_level=2\n",
      "\t MSN Fragment mz=249.5790 ms_level=2\n",
      "\t MSN Fragment mz=332.9066 ms_level=2\n",
      "\t MSN Fragment mz=470.9282 ms_level=2\n",
      "\t MSN Fragment mz=486.2693 ms_level=2\n",
      "\t MSN Fragment mz=546.9481 ms_level=2\n",
      "\t MSN Fragment mz=732.7092 ms_level=2\n",
      "\t MSN Fragment mz=889.7011 ms_level=2\n",
      "\t MSN Fragment mz=979.4905 ms_level=2\n",
      "UnknownChemical mz=675.3311 rt=443.78 max_intensity=606895.79\n",
      "\t MSN Fragment mz=51.3870 ms_level=2\n",
      "\t MSN Fragment mz=59.1519 ms_level=2\n",
      "\t MSN Fragment mz=60.0509 ms_level=2\n",
      "\t MSN Fragment mz=63.0750 ms_level=2\n",
      "\t MSN Fragment mz=70.2967 ms_level=2\n",
      "\t MSN Fragment mz=90.6767 ms_level=2\n",
      "\t MSN Fragment mz=91.6343 ms_level=2\n",
      "\t MSN Fragment mz=91.8836 ms_level=2\n",
      "\t MSN Fragment mz=110.4464 ms_level=2\n",
      "\t MSN Fragment mz=121.1829 ms_level=2\n",
      "\t MSN Fragment mz=159.0309 ms_level=2\n",
      "\t MSN Fragment mz=250.5466 ms_level=2\n",
      "\t MSN Fragment mz=275.5346 ms_level=2\n",
      "\t MSN Fragment mz=289.1556 ms_level=2\n",
      "\t MSN Fragment mz=309.5634 ms_level=2\n",
      "\t MSN Fragment mz=355.2609 ms_level=2\n",
      "\t MSN Fragment mz=431.2804 ms_level=2\n",
      "\t MSN Fragment mz=432.2848 ms_level=2\n",
      "\t MSN Fragment mz=449.2831 ms_level=2\n",
      "UnknownChemical mz=317.9945 rt=447.11 max_intensity=79084.45\n",
      "\t MSN Fragment mz=54.9258 ms_level=2\n",
      "\t MSN Fragment mz=65.7224 ms_level=2\n",
      "\t MSN Fragment mz=94.4623 ms_level=2\n",
      "\t MSN Fragment mz=101.2847 ms_level=2\n",
      "\t MSN Fragment mz=119.2083 ms_level=2\n",
      "\t MSN Fragment mz=131.4097 ms_level=2\n",
      "\t MSN Fragment mz=134.1008 ms_level=2\n",
      "\t MSN Fragment mz=148.0037 ms_level=2\n",
      "\t MSN Fragment mz=159.0768 ms_level=2\n",
      "\t MSN Fragment mz=344.0268 ms_level=2\n",
      "\t MSN Fragment mz=403.8782 ms_level=2\n",
      "\t MSN Fragment mz=488.2791 ms_level=2\n",
      "\t MSN Fragment mz=506.2976 ms_level=2\n",
      "\t MSN Fragment mz=509.8897 ms_level=2\n",
      "\t MSN Fragment mz=988.6860 ms_level=2\n",
      "UnknownChemical mz=505.4099 rt=458.74 max_intensity=52378.49\n",
      "\t MSN Fragment mz=70.8751 ms_level=2\n",
      "\t MSN Fragment mz=77.2997 ms_level=2\n",
      "\t MSN Fragment mz=96.0530 ms_level=2\n",
      "\t MSN Fragment mz=114.5996 ms_level=2\n",
      "\t MSN Fragment mz=118.7614 ms_level=2\n",
      "\t MSN Fragment mz=139.1872 ms_level=2\n",
      "\t MSN Fragment mz=149.8709 ms_level=2\n",
      "\t MSN Fragment mz=305.0369 ms_level=2\n",
      "\t MSN Fragment mz=395.2277 ms_level=2\n",
      "\t MSN Fragment mz=413.2377 ms_level=2\n",
      "\t MSN Fragment mz=431.2484 ms_level=2\n",
      "\t MSN Fragment mz=449.2575 ms_level=2\n"
     ]
    }
   ],
   "source": [
    "d.sort(key=lambda x: x.rt)\n",
    "for chem in d:\n",
    "    print(chem)\n",
    "    for child in chem.children:\n",
    "        print('\\t',child)"
   ]
  },
  {
   "cell_type": "markdown",
   "metadata": {},
   "source": [
    "Create and run an example controller. In this case, AIF."
   ]
  },
  {
   "cell_type": "code",
   "execution_count": 8,
   "metadata": {},
   "outputs": [],
   "source": [
    "controller = AIF(MZ_RANGE[0][0],MZ_RANGE[0][1])\n",
    "ionisation_mode = POSITIVE\n",
    "scan_time_dict = {1:0.6,2:0.06}\n",
    "\n",
    "\n",
    "mz_noise = GaussianPeakNoise(0.001)\n",
    "intensity_noise = GaussianPeakNoise(0.1,log_space=True)\n",
    "\n",
    "# This is new: spike noise which ensures no scans are empty\n",
    "# first argument is density: how many spikes to sample per unit m/z. Second is max spike intensity\n",
    "spike_noise = UniformSpikeNoise(0.01,1e3)\n",
    "\n",
    "\n",
    "# note the None in the call in place of a peak sampler object - this isn't used anywhere in this example\n",
    "mass_spec = IndependentMassSpectrometer(ionisation_mode, d, None,\n",
    "                                        scan_duration_dict = scan_time_dict, \n",
    "                                        mz_noise = mz_noise,\n",
    "                                        intensity_noise = intensity_noise,\n",
    "                                        spike_noise = spike_noise)\n"
   ]
  },
  {
   "cell_type": "code",
   "execution_count": 9,
   "metadata": {},
   "outputs": [],
   "source": [
    "env = Environment(mass_spec, controller, 300, 600, progress_bar=True)"
   ]
  },
  {
   "cell_type": "code",
   "execution_count": 10,
   "metadata": {},
   "outputs": [
    {
     "name": "stderr",
     "output_type": "stream",
     "text": [
      "(600.000s) ms_level=1: 100%|█████████▉| 299.99999999999994/300 [00:05<00:00, 58.55it/s] \n"
     ]
    }
   ],
   "source": [
    "set_log_level_warning()\n",
    "# run the simulation\n",
    "env.run()\n",
    "env.write_mzML('.','test.mzML')"
   ]
  },
  {
   "cell_type": "code",
   "execution_count": null,
   "metadata": {},
   "outputs": [],
   "source": []
  },
  {
   "cell_type": "code",
   "execution_count": null,
   "metadata": {},
   "outputs": [],
   "source": []
  },
  {
   "cell_type": "markdown",
   "metadata": {},
   "source": [
    "# Example using new multi-sample"
   ]
  },
  {
   "cell_type": "code",
   "execution_count": 11,
   "metadata": {},
   "outputs": [],
   "source": [
    "# make a 5 v 5 case control experiment\n",
    "n_control = 5\n",
    "n_case = 5\n",
    "\n",
    "# create a list of groups -- this is the order the chemical lists will return in\n",
    "group_list = ['control' for i in range(n_control)] + ['case' for i in range(n_case)]\n",
    "\n",
    "# create a dictionary describing what we want to happen in the groups\n",
    "# e.g. in the 'case' group, things are not missing, and 90% of them are changing\n",
    "group_dict = {'case': {'missing_probability':0.0, 'changing_probability':0.9}}\n",
    "\n",
    "\n",
    "from vimms.Chemicals import MultipleMixtureCreator\n",
    "from vimms.Noise import GaussianPeakNoise\n",
    "\n",
    "# use the intensity peak noise to add some sample noise\n",
    "intensity_noise = GaussianPeakNoise(sigma=0.2,log_space=True)\n",
    "\n",
    "\n",
    "# use the list of chemicals from the previous example\n",
    "mmc = MultipleMixtureCreator(d, group_list, group_dict, intensity_noise = intensity_noise)\n",
    "chem_lists = mmc.generate_chemical_lists()"
   ]
  },
  {
   "cell_type": "markdown",
   "metadata": {},
   "source": [
    "Check the chemical lists produced with a heatmap\n"
   ]
  },
  {
   "cell_type": "code",
   "execution_count": 12,
   "metadata": {},
   "outputs": [
    {
     "data": {
      "text/plain": [
       "<matplotlib.image.AxesImage at 0x12a7e3c10>"
      ]
     },
     "execution_count": 12,
     "metadata": {},
     "output_type": "execute_result"
    },
    {
     "data": {
      "image/png": "[encoded data removed]",
      "text/plain": [
       "<Figure size 432x288 with 1 Axes>"
      ]
     },
     "metadata": {
      "needs_background": "light"
     },
     "output_type": "display_data"
    }
   ],
   "source": [
    "import pylab as plt\n",
    "%matplotlib inline\n",
    "intensities = []\n",
    "for cl in chem_lists:\n",
    "    new_intensities = [0 for c in d]\n",
    "    for c in cl:\n",
    "        c_pos = d.index(c.original_chemical)\n",
    "        new_intensities[c_pos] = c.max_intensity\n",
    "    intensities.append(new_intensities)\n",
    "intensities = np.array(intensities).T\n",
    "plt.imshow(np.log(intensities+1))"
   ]
  },
  {
   "cell_type": "code",
   "execution_count": null,
   "metadata": {},
   "outputs": [],
   "source": []
  },
  {
   "cell_type": "code",
   "execution_count": null,
   "metadata": {},
   "outputs": [],
   "source": []
  }
 ],
 "metadata": {
  "kernelspec": {
   "display_name": "Python 3",
   "language": "python",
   "name": "python3"
  },
  "language_info": {
   "codemirror_mode": {
    "name": "ipython",
    "version": 3
   },
   "file_extension": ".py",
   "mimetype": "text/x-python",
   "name": "python",
   "nbconvert_exporter": "python",
   "pygments_lexer": "ipython3",
   "version": "3.7.5"
  }
 },
 "nbformat": 4,
 "nbformat_minor": 4
}
