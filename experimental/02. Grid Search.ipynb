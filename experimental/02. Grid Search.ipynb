{
 "cells": [
  {
   "cell_type": "markdown",
   "metadata": {},
   "source": [
    "# 2. Grid Search"
   ]
  },
  {
   "cell_type": "code",
   "execution_count": 1,
   "metadata": {},
   "outputs": [],
   "source": [
    "%matplotlib inline\n",
    "%load_ext autoreload\n",
    "%autoreload 2"
   ]
  },
  {
   "cell_type": "code",
   "execution_count": 2,
   "metadata": {},
   "outputs": [],
   "source": [
    "import sys\n",
    "sys.path.append('../..')"
   ]
  },
  {
   "cell_type": "code",
   "execution_count": 3,
   "metadata": {},
   "outputs": [],
   "source": [
    "from pathlib import Path\n",
    "from pyDOE import *\n",
    "from vimms.Environment import *"
   ]
  },
  {
   "cell_type": "code",
   "execution_count": 4,
   "metadata": {},
   "outputs": [],
   "source": [
    "from vimms.Chemicals import ChemicalCreator, GET_MS2_BY_PEAKS, GET_MS2_BY_SPECTRA\n",
    "from vimms.MassSpec import IndependentMassSpectrometer\n",
    "from vimms.Controller import *\n",
    "from vimms.Common import *\n",
    "from vimms.PlotsForPaper import *\n",
    "from vimms.Roi import make_roi\n",
    "from vimms.Chemicals import RoiToChemicalCreator\n",
    "from vimms.FeatureExtraction import extract_roi\n",
    "from vimms.SequenceManager import *"
   ]
  },
  {
   "cell_type": "code",
   "execution_count": 5,
   "metadata": {},
   "outputs": [],
   "source": [
    "data_dir = os.path.join(os.path.abspath(os.path.join(os.path.join(os.getcwd(),\"..\"),\"..\")),'tests','fixtures')\n",
    "dataset_file = os.path.join(data_dir, 'QCB_22May19_1.p')\n",
    "dataset = load_obj(dataset_file)\n",
    "ps = load_obj(Path(data_dir,'peak_sampler_mz_rt_int_beerqcb_fragmentation.p'))"
   ]
  },
  {
   "cell_type": "code",
   "execution_count": 6,
   "metadata": {},
   "outputs": [],
   "source": [
    "url = 'http://researchdata.gla.ac.uk/870/2/example_data.zip'\n",
    "base_dir = os.path.abspath(os.path.join(os.getcwd(),'..','01. Data', 'example_data'))"
   ]
  },
  {
   "cell_type": "code",
   "execution_count": 7,
   "metadata": {},
   "outputs": [
    {
     "name": "stdout",
     "output_type": "stream",
     "text": [
      "Found C:\\Users\\Vinny\\work\\vimms\\demo\\01. Data\\example_data\n"
     ]
    }
   ],
   "source": [
    "if not os.path.isdir(base_dir): # if not exist then download the example data and extract it\n",
    "    print('Creating %s' % base_dir)    \n",
    "    out_file = 'example_data.zip'\n",
    "    download_file(url, out_file)\n",
    "    extract_zip_file(out_file, delete=True)\n",
    "else:\n",
    "    print('Found %s' % base_dir)"
   ]
  },
  {
   "cell_type": "code",
   "execution_count": 8,
   "metadata": {},
   "outputs": [],
   "source": [
    "mzml_file = os.path.join(base_dir, 'beers', 'fullscan', 'mzML', 'Beer_multibeers_1_fullscan1.mzML')\n",
    "mzml_file_list=[None, mzml_file, None, mzml_file]"
   ]
  },
  {
   "cell_type": "code",
   "execution_count": 9,
   "metadata": {},
   "outputs": [],
   "source": [
    "set_log_level_info()"
   ]
  },
  {
   "cell_type": "markdown",
   "metadata": {},
   "source": [
    "### Set some default parameters"
   ]
  },
  {
   "cell_type": "code",
   "execution_count": 10,
   "metadata": {},
   "outputs": [],
   "source": [
    "experiment_dir = os.path.join(os.getcwd(), 'results')"
   ]
  },
  {
   "cell_type": "code",
   "execution_count": 11,
   "metadata": {},
   "outputs": [],
   "source": [
    "mass_spec_params = {'ionisation_mode': POSITIVE,\n",
    "                    'peak_sampler': ps,\n",
    "                    'add_noise': False,\n",
    "                    'isolation_transition_window': 'rectangular',\n",
    "                    'isolation_transition_window_params': None}"
   ]
  },
  {
   "cell_type": "code",
   "execution_count": 12,
   "metadata": {},
   "outputs": [],
   "source": [
    "controller_params = {\"ionisation_mode\": POSITIVE,\n",
    "                       \"N\": 10,\n",
    "                       \"mz_tol\": 10,\n",
    "                       \"rt_tol\":30,\n",
    "                       \"min_ms1_intensity\": 1.75E5,\n",
    "                       \"rt_range\": [(200, 400)],\n",
    "                       \"isolation_width\": 1}"
   ]
  },
  {
   "cell_type": "markdown",
   "metadata": {},
   "source": [
    "Note: you will need to install the same version of MZMine2 and put it in the same location as ViMMS"
   ]
  },
  {
   "cell_type": "code",
   "execution_count": 13,
   "metadata": {},
   "outputs": [],
   "source": [
    "evaluation_methods = ['mzmine_peak']\n",
    "mzmine_command = os.path.abspath(os.path.join(os.getcwd(),'..','..','..','MZmine-2.40.1','MZmine-2.40.1','startMZmine_Windows.bat'))"
   ]
  },
  {
   "cell_type": "markdown",
   "metadata": {},
   "source": [
    "### Get a picked peaks file"
   ]
  },
  {
   "cell_type": "markdown",
   "metadata": {},
   "source": [
    "You don't need to provide a picked peaks file to run a grid search experiment, e.g. Example 3. But if you have one it will be more efficient"
   ]
  },
  {
   "cell_type": "code",
   "execution_count": 22,
   "metadata": {},
   "outputs": [
    {
     "name": "stderr",
     "output_type": "stream",
     "text": [
      "2020-09-07 14:02:56.536 | INFO     | vimms.PythonMzmine:pick_peaks:23 - Creating xml batch file for Beer_multibeers_1_fullscan1.mzML\n",
      "2020-09-07 14:02:56.549 | INFO     | vimms.PythonMzmine:pick_peaks:53 - Running mzMine for Beer_multibeers_1_fullscan1.mzML\n"
     ]
    }
   ],
   "source": [
    "pick_peaks([mzml_file], xml_template=QCB_XML_TEMPLATE_MS1, output_dir=os.getcwd(),\n",
    "                       mzmine_command=mzmine_command)"
   ]
  },
  {
   "cell_type": "code",
   "execution_count": 23,
   "metadata": {},
   "outputs": [],
   "source": [
    "ms1_picked_peaks_file = os.path.join(os.getcwd(), Path(mzml_file).stem + '_pp.csv')"
   ]
  },
  {
   "cell_type": "markdown",
   "metadata": {},
   "source": [
    "### Some parameter settings to search over"
   ]
  },
  {
   "cell_type": "code",
   "execution_count": 24,
   "metadata": {},
   "outputs": [],
   "source": [
    "topn_variable_params_dict = {'N': [10], 'rt_tol': [15,30]}"
   ]
  },
  {
   "cell_type": "markdown",
   "metadata": {},
   "source": [
    "### Example 1 - Top N - Seed with dataset and picked peaks"
   ]
  },
  {
   "cell_type": "code",
   "execution_count": 25,
   "metadata": {},
   "outputs": [],
   "source": [
    "output_dir = os.path.join(experiment_dir, 'grid_search_example_1')"
   ]
  },
  {
   "cell_type": "code",
   "execution_count": 26,
   "metadata": {},
   "outputs": [],
   "source": [
    "parallel = False"
   ]
  },
  {
   "cell_type": "code",
   "execution_count": 27,
   "metadata": {},
   "outputs": [
    {
     "name": "stderr",
     "output_type": "stream",
     "text": [
      "2020-09-07 14:12:29.652 | INFO     | vimms.Common:create_if_not_exist:148 - Created C:\\Users\\Vinny\\work\\vimms\\demo\\03. MultiSampleMethods\\results\\grid_search_example_1\n",
      "2020-09-07 14:12:29.666 | INFO     | vimms.SequenceManager:run:240 - Running in serial mode\n",
      "2020-09-07 14:12:29.667 | INFO     | vimms.SequenceManager:run_controller:192 - Begun experiment: sample0\n",
      "2020-09-07 14:12:29.869 | INFO     | vimms.SequenceManager:run_experiment:158 - {'Sample ID': {0: 'sample0'}, 'Controller Method': {0: 'TopNController'}, 'Controller Params': {0: {'ionisation_mode': 'Positive', 'N': 10, 'isolation_width': 1, 'mz_tol': 10, 'rt_tol': 15, 'min_ms1_intensity': 175000.0, 'ms1_shift': 0, 'initial_exclusion_list': None, 'params': None}}, 'MassSpec Params': {0: {'ionisation_mode': 'Positive', 'peak_sampler': <vimms.DataGenerator.PeakSampler object at 0x0000027A017CE5C0>, 'add_noise': False, 'isolation_transition_window': 'rectangular', 'isolation_transition_window_params': None}}, 'Dataset': {0: 'C:\\\\Users\\\\Vinny\\\\work\\\\vimms\\\\tests\\\\fixtures\\\\QCB_22May19_1.p'}}\n",
      "(1440.200s) ms_level=1 N=10 DEW=15: 100%|█████████████████████████████████████████████████████████████████████████████████████████████████████████████████████████████████████████████████▉| 1439.8000000000936/1440 [00:34<00:00, 41.49it/s]\n",
      "2020-09-07 14:16:01.024 | INFO     | vimms.SequenceManager:run_controller:196 - Completed experiment: sample0\n",
      "2020-09-07 14:16:01.025 | INFO     | vimms.SequenceManager:run_evaluation:206 - Started Evaluation: sample0\n"
     ]
    },
    {
     "name": "stdout",
     "output_type": "stream",
     "text": [
      "False\n",
      "Loaded 4228 scans\n"
     ]
    },
    {
     "name": "stderr",
     "output_type": "stream",
     "text": [
      "2020-09-07 14:16:04.361 | INFO     | vimms.SequenceManager:run_evaluation:208 - Completed Evaluation: sample0\n",
      "2020-09-07 14:16:04.363 | INFO     | vimms.SequenceManager:run_serial:252 - Finished 0\n",
      "2020-09-07 14:16:04.363 | INFO     | vimms.SequenceManager:run_controller:192 - Begun experiment: sample1\n",
      "2020-09-07 14:16:04.565 | INFO     | vimms.SequenceManager:run_experiment:158 - {'Sample ID': {1: 'sample1'}, 'Controller Method': {1: 'TopNController'}, 'Controller Params': {1: {'ionisation_mode': 'Positive', 'N': 10, 'isolation_width': 1, 'mz_tol': 10, 'rt_tol': 30, 'min_ms1_intensity': 175000.0, 'ms1_shift': 0, 'initial_exclusion_list': None, 'params': None}}, 'MassSpec Params': {1: {'ionisation_mode': 'Positive', 'peak_sampler': <vimms.DataGenerator.PeakSampler object at 0x0000027A017CE5C0>, 'add_noise': False, 'isolation_transition_window': 'rectangular', 'isolation_transition_window_params': None}}, 'Dataset': {1: 'C:\\\\Users\\\\Vinny\\\\work\\\\vimms\\\\tests\\\\fixtures\\\\QCB_22May19_1.p'}}\n",
      "(1440.000s) ms_level=1 N=10 DEW=30: 100%|█████████████████████████████████████████████████████████████████████████████████████████████████████████████████████████████████████████████████▉| 1439.6000000000813/1440 [00:35<00:00, 40.81it/s]\n",
      "2020-09-07 14:16:49.855 | INFO     | vimms.SequenceManager:run_controller:196 - Completed experiment: sample1\n",
      "2020-09-07 14:16:49.856 | INFO     | vimms.SequenceManager:run_evaluation:206 - Started Evaluation: sample1\n"
     ]
    },
    {
     "name": "stdout",
     "output_type": "stream",
     "text": [
      "False\n",
      "Loaded 4040 scans\n"
     ]
    },
    {
     "name": "stderr",
     "output_type": "stream",
     "text": [
      "2020-09-07 14:16:53.445 | INFO     | vimms.SequenceManager:run_evaluation:208 - Completed Evaluation: sample1\n",
      "2020-09-07 14:16:53.446 | INFO     | vimms.SequenceManager:run_serial:252 - Finished 1\n"
     ]
    },
    {
     "data": {
      "text/html": [
       "<div>\n",
       "<style scoped>\n",
       "    .dataframe tbody tr th:only-of-type {\n",
       "        vertical-align: middle;\n",
       "    }\n",
       "\n",
       "    .dataframe tbody tr th {\n",
       "        vertical-align: top;\n",
       "    }\n",
       "\n",
       "    .dataframe thead th {\n",
       "        text-align: right;\n",
       "    }\n",
       "</style>\n",
       "<table border=\"1\" class=\"dataframe\">\n",
       "  <thead>\n",
       "    <tr style=\"text-align: right;\">\n",
       "      <th></th>\n",
       "      <th>Sample ID</th>\n",
       "      <th>Controller Method</th>\n",
       "      <th>N</th>\n",
       "      <th>mz_tol</th>\n",
       "      <th>rt_tol</th>\n",
       "      <th>min_ms1_intensity</th>\n",
       "      <th>ms1_shift</th>\n",
       "      <th>initial_exclusion_list</th>\n",
       "      <th>params</th>\n",
       "      <th>mzmine_peak</th>\n",
       "    </tr>\n",
       "  </thead>\n",
       "  <tbody>\n",
       "    <tr>\n",
       "      <th>0</th>\n",
       "      <td>sample0</td>\n",
       "      <td>TopNController</td>\n",
       "      <td>10</td>\n",
       "      <td>10</td>\n",
       "      <td>15</td>\n",
       "      <td>175000.0</td>\n",
       "      <td>0</td>\n",
       "      <td>None</td>\n",
       "      <td>None</td>\n",
       "      <td>117.0</td>\n",
       "    </tr>\n",
       "    <tr>\n",
       "      <th>1</th>\n",
       "      <td>sample1</td>\n",
       "      <td>TopNController</td>\n",
       "      <td>10</td>\n",
       "      <td>10</td>\n",
       "      <td>30</td>\n",
       "      <td>175000.0</td>\n",
       "      <td>0</td>\n",
       "      <td>None</td>\n",
       "      <td>None</td>\n",
       "      <td>90.0</td>\n",
       "    </tr>\n",
       "  </tbody>\n",
       "</table>\n",
       "</div>"
      ],
      "text/plain": [
       "  Sample ID Controller Method   N  mz_tol  rt_tol  min_ms1_intensity  \\\n",
       "0   sample0    TopNController  10      10      15           175000.0   \n",
       "1   sample1    TopNController  10      10      30           175000.0   \n",
       "\n",
       "   ms1_shift initial_exclusion_list params  mzmine_peak  \n",
       "0          0                   None   None        117.0  \n",
       "1          0                   None   None         90.0  "
      ]
     },
     "execution_count": 27,
     "metadata": {},
     "output_type": "execute_result"
    }
   ],
   "source": [
    "vsm = VimmsSequenceManager(None, evaluation_methods, output_dir,mzmine_command, progress_bar=True, ms1_picked_peaks_file=ms1_picked_peaks_file)\n",
    "gs = GridSearchExperiment(vsm, 'TopNController', mass_spec_params, dataset_file, topn_variable_params_dict, controller_params, parallel=parallel)\n",
    "gs.results"
   ]
  },
  {
   "cell_type": "markdown",
   "metadata": {},
   "source": [
    "### Example 2 - Top N - Seed with mzml and picked peaks"
   ]
  },
  {
   "cell_type": "code",
   "execution_count": 28,
   "metadata": {},
   "outputs": [],
   "source": [
    "output_dir = os.path.join(experiment_dir, 'grid_search_example_2')"
   ]
  },
  {
   "cell_type": "code",
   "execution_count": 29,
   "metadata": {},
   "outputs": [],
   "source": [
    "parallel = False"
   ]
  },
  {
   "cell_type": "code",
   "execution_count": 32,
   "metadata": {},
   "outputs": [
    {
     "name": "stderr",
     "output_type": "stream",
     "text": [
      "2020-09-07 14:19:55.664 | INFO     | vimms.Common:save_obj:161 - Saving <class 'list'> to C:\\Users\\Vinny\\work\\vimms\\demo\\03. MultiSampleMethods\\results\\grid_search_example_2\\Beer_multibeers_1_fullscan1.p\n",
      "2020-09-07 14:20:05.282 | INFO     | vimms.SequenceManager:run:241 - Running in serial mode\n",
      "2020-09-07 14:20:05.283 | INFO     | vimms.SequenceManager:run_controller:193 - Begun experiment: sample0\n",
      "2020-09-07 14:20:05.486 | INFO     | vimms.SequenceManager:run_experiment:159 - {'Sample ID': {0: 'sample0'}, 'Controller Method': {0: 'TopNController'}, 'Controller Params': {0: {'ionisation_mode': 'Positive', 'N': 10, 'isolation_width': 1, 'mz_tol': 10, 'rt_tol': 15, 'min_ms1_intensity': 175000.0, 'ms1_shift': 0, 'initial_exclusion_list': None, 'params': None}}, 'MassSpec Params': {0: {'ionisation_mode': 'Positive', 'peak_sampler': <vimms.DataGenerator.PeakSampler object at 0x0000027A017CE5C0>, 'add_noise': False, 'isolation_transition_window': 'rectangular', 'isolation_transition_window_params': None}}, 'Dataset': {0: 'C:\\\\Users\\\\Vinny\\\\work\\\\vimms\\\\demo\\\\03. MultiSampleMethods\\\\results\\\\grid_search_example_2\\\\Beer_multibeers_1_fullscan1.p'}}\n",
      "(1440.000s) ms_level=2 N=10 DEW=15: 100%|█████████████████████████████████████████████████████████████████████████████████████████████████████████████████████████████████████████████████▉| 1439.8000000001657/1440 [01:43<00:00, 13.89it/s]\n",
      "2020-09-07 14:22:07.983 | INFO     | vimms.SequenceManager:run_controller:197 - Completed experiment: sample0\n",
      "2020-09-07 14:22:07.984 | INFO     | vimms.SequenceManager:run_evaluation:207 - Started Evaluation: sample0\n"
     ]
    },
    {
     "name": "stdout",
     "output_type": "stream",
     "text": [
      "False\n",
      "Loaded 6512 scans\n"
     ]
    },
    {
     "name": "stderr",
     "output_type": "stream",
     "text": [
      "2020-09-07 14:22:19.584 | INFO     | vimms.SequenceManager:run_evaluation:209 - Completed Evaluation: sample0\n",
      "2020-09-07 14:22:19.585 | INFO     | vimms.SequenceManager:run_serial:253 - Finished 0\n",
      "2020-09-07 14:22:19.586 | INFO     | vimms.SequenceManager:run_controller:193 - Begun experiment: sample1\n",
      "2020-09-07 14:22:19.789 | INFO     | vimms.SequenceManager:run_experiment:159 - {'Sample ID': {1: 'sample1'}, 'Controller Method': {1: 'TopNController'}, 'Controller Params': {1: {'ionisation_mode': 'Positive', 'N': 10, 'isolation_width': 1, 'mz_tol': 10, 'rt_tol': 30, 'min_ms1_intensity': 175000.0, 'ms1_shift': 0, 'initial_exclusion_list': None, 'params': None}}, 'MassSpec Params': {1: {'ionisation_mode': 'Positive', 'peak_sampler': <vimms.DataGenerator.PeakSampler object at 0x0000027A017CE5C0>, 'add_noise': False, 'isolation_transition_window': 'rectangular', 'isolation_transition_window_params': None}}, 'Dataset': {1: 'C:\\\\Users\\\\Vinny\\\\work\\\\vimms\\\\demo\\\\03. MultiSampleMethods\\\\results\\\\grid_search_example_2\\\\Beer_multibeers_1_fullscan1.p'}}\n",
      "(1440.000s) ms_level=2 N=10 DEW=30: 100%|█████████████████████████████████████████████████████████████████████████████████████████████████████████████████████████████████████████████████▉| 1439.8000000001618/1440 [01:50<00:00, 13.07it/s]\n",
      "2020-09-07 14:24:29.210 | INFO     | vimms.SequenceManager:run_controller:197 - Completed experiment: sample1\n",
      "2020-09-07 14:24:29.211 | INFO     | vimms.SequenceManager:run_evaluation:207 - Started Evaluation: sample1\n"
     ]
    },
    {
     "name": "stdout",
     "output_type": "stream",
     "text": [
      "False\n",
      "Loaded 6157 scans\n"
     ]
    },
    {
     "name": "stderr",
     "output_type": "stream",
     "text": [
      "2020-09-07 14:24:39.186 | INFO     | vimms.SequenceManager:run_evaluation:209 - Completed Evaluation: sample1\n",
      "2020-09-07 14:24:39.187 | INFO     | vimms.SequenceManager:run_serial:253 - Finished 1\n"
     ]
    },
    {
     "data": {
      "text/html": [
       "<div>\n",
       "<style scoped>\n",
       "    .dataframe tbody tr th:only-of-type {\n",
       "        vertical-align: middle;\n",
       "    }\n",
       "\n",
       "    .dataframe tbody tr th {\n",
       "        vertical-align: top;\n",
       "    }\n",
       "\n",
       "    .dataframe thead th {\n",
       "        text-align: right;\n",
       "    }\n",
       "</style>\n",
       "<table border=\"1\" class=\"dataframe\">\n",
       "  <thead>\n",
       "    <tr style=\"text-align: right;\">\n",
       "      <th></th>\n",
       "      <th>Sample ID</th>\n",
       "      <th>Controller Method</th>\n",
       "      <th>N</th>\n",
       "      <th>mz_tol</th>\n",
       "      <th>rt_tol</th>\n",
       "      <th>min_ms1_intensity</th>\n",
       "      <th>ms1_shift</th>\n",
       "      <th>initial_exclusion_list</th>\n",
       "      <th>params</th>\n",
       "      <th>mzmine_peak</th>\n",
       "    </tr>\n",
       "  </thead>\n",
       "  <tbody>\n",
       "    <tr>\n",
       "      <th>0</th>\n",
       "      <td>sample0</td>\n",
       "      <td>TopNController</td>\n",
       "      <td>10</td>\n",
       "      <td>10</td>\n",
       "      <td>15</td>\n",
       "      <td>175000.0</td>\n",
       "      <td>0</td>\n",
       "      <td>None</td>\n",
       "      <td>None</td>\n",
       "      <td>1068.0</td>\n",
       "    </tr>\n",
       "    <tr>\n",
       "      <th>1</th>\n",
       "      <td>sample1</td>\n",
       "      <td>TopNController</td>\n",
       "      <td>10</td>\n",
       "      <td>10</td>\n",
       "      <td>30</td>\n",
       "      <td>175000.0</td>\n",
       "      <td>0</td>\n",
       "      <td>None</td>\n",
       "      <td>None</td>\n",
       "      <td>1425.0</td>\n",
       "    </tr>\n",
       "  </tbody>\n",
       "</table>\n",
       "</div>"
      ],
      "text/plain": [
       "  Sample ID Controller Method   N  mz_tol  rt_tol  min_ms1_intensity  \\\n",
       "0   sample0    TopNController  10      10      15           175000.0   \n",
       "1   sample1    TopNController  10      10      30           175000.0   \n",
       "\n",
       "   ms1_shift initial_exclusion_list params  mzmine_peak  \n",
       "0          0                   None   None       1068.0  \n",
       "1          0                   None   None       1425.0  "
      ]
     },
     "execution_count": 32,
     "metadata": {},
     "output_type": "execute_result"
    }
   ],
   "source": [
    "vsm = VimmsSequenceManager(None, evaluation_methods, output_dir, progress_bar=True, ms1_picked_peaks_file=ms1_picked_peaks_file)\n",
    "gs = GridSearchExperiment(vsm, 'TopNController', mass_spec_params, None, topn_variable_params_dict, controller_params, mzml_file, ps=ps, parallel=parallel)\n",
    "gs.results"
   ]
  },
  {
   "cell_type": "markdown",
   "metadata": {},
   "source": [
    "### Example 3 - Top N - Seed with mzml, non-parallel"
   ]
  },
  {
   "cell_type": "code",
   "execution_count": 34,
   "metadata": {},
   "outputs": [],
   "source": [
    "output_dir = os.path.join(experiment_dir, 'grid_search_example_3')"
   ]
  },
  {
   "cell_type": "code",
   "execution_count": 35,
   "metadata": {},
   "outputs": [],
   "source": [
    "parallel = False"
   ]
  },
  {
   "cell_type": "code",
   "execution_count": 36,
   "metadata": {},
   "outputs": [
    {
     "name": "stderr",
     "output_type": "stream",
     "text": [
      "2020-09-07 14:27:29.370 | INFO     | vimms.Common:create_if_not_exist:148 - Created C:\\Users\\Vinny\\work\\vimms\\demo\\03. MultiSampleMethods\\results\\grid_search_example_3\n",
      "2020-09-07 14:28:23.969 | INFO     | vimms.Common:save_obj:161 - Saving <class 'list'> to C:\\Users\\Vinny\\work\\vimms\\demo\\03. MultiSampleMethods\\results\\grid_search_example_3\\Beer_multibeers_1_fullscan1.p\n",
      "2020-09-07 14:28:32.847 | INFO     | vimms.PythonMzmine:pick_peaks:23 - Creating xml batch file for Beer_multibeers_1_fullscan1.mzML\n",
      "2020-09-07 14:28:32.850 | INFO     | vimms.PythonMzmine:pick_peaks:53 - Running mzMine for Beer_multibeers_1_fullscan1.mzML\n",
      "2020-09-07 14:36:15.975 | INFO     | vimms.SequenceManager:run:241 - Running in serial mode\n",
      "2020-09-07 14:36:15.976 | INFO     | vimms.SequenceManager:run_controller:193 - Begun experiment: sample0\n",
      "2020-09-07 14:36:16.178 | INFO     | vimms.SequenceManager:run_experiment:159 - {'Sample ID': {0: 'sample0'}, 'Controller Method': {0: 'TopNController'}, 'Controller Params': {0: {'ionisation_mode': 'Positive', 'N': 10, 'isolation_width': 1, 'mz_tol': 10, 'rt_tol': 15, 'min_ms1_intensity': 175000.0, 'ms1_shift': 0, 'initial_exclusion_list': None, 'params': None}}, 'MassSpec Params': {0: {'ionisation_mode': 'Positive', 'peak_sampler': <vimms.DataGenerator.PeakSampler object at 0x0000027A017CE5C0>, 'add_noise': False, 'isolation_transition_window': 'rectangular', 'isolation_transition_window_params': None}}, 'Dataset': {0: 'C:\\\\Users\\\\Vinny\\\\work\\\\vimms\\\\demo\\\\03. MultiSampleMethods\\\\results\\\\grid_search_example_3\\\\Beer_multibeers_1_fullscan1.p'}}\n",
      "(1440.000s) ms_level=2 N=10 DEW=15: 100%|█████████████████████████████████████████████████████████████████████████████████████████████████████████████████████████████████████████████████▉| 1439.8000000001657/1440 [01:56<00:00, 12.39it/s]\n",
      "2020-09-07 14:38:30.452 | INFO     | vimms.SequenceManager:run_controller:197 - Completed experiment: sample0\n",
      "2020-09-07 14:38:30.454 | INFO     | vimms.SequenceManager:run_evaluation:207 - Started Evaluation: sample0\n"
     ]
    },
    {
     "name": "stdout",
     "output_type": "stream",
     "text": [
      "False\n",
      "Loaded 6512 scans\n"
     ]
    },
    {
     "name": "stderr",
     "output_type": "stream",
     "text": [
      "2020-09-07 14:38:41.587 | INFO     | vimms.SequenceManager:run_evaluation:209 - Completed Evaluation: sample0\n",
      "2020-09-07 14:38:41.588 | INFO     | vimms.SequenceManager:run_serial:253 - Finished 0\n",
      "2020-09-07 14:38:41.589 | INFO     | vimms.SequenceManager:run_controller:193 - Begun experiment: sample1\n",
      "2020-09-07 14:38:41.791 | INFO     | vimms.SequenceManager:run_experiment:159 - {'Sample ID': {1: 'sample1'}, 'Controller Method': {1: 'TopNController'}, 'Controller Params': {1: {'ionisation_mode': 'Positive', 'N': 10, 'isolation_width': 1, 'mz_tol': 10, 'rt_tol': 30, 'min_ms1_intensity': 175000.0, 'ms1_shift': 0, 'initial_exclusion_list': None, 'params': None}}, 'MassSpec Params': {1: {'ionisation_mode': 'Positive', 'peak_sampler': <vimms.DataGenerator.PeakSampler object at 0x0000027A017CE5C0>, 'add_noise': False, 'isolation_transition_window': 'rectangular', 'isolation_transition_window_params': None}}, 'Dataset': {1: 'C:\\\\Users\\\\Vinny\\\\work\\\\vimms\\\\demo\\\\03. MultiSampleMethods\\\\results\\\\grid_search_example_3\\\\Beer_multibeers_1_fullscan1.p'}}\n",
      "(1440.000s) ms_level=2 N=10 DEW=30: 100%|█████████████████████████████████████████████████████████████████████████████████████████████████████████████████████████████████████████████████▉| 1439.8000000001618/1440 [01:56<00:00, 12.31it/s]\n",
      "2020-09-07 14:40:58.160 | INFO     | vimms.SequenceManager:run_controller:197 - Completed experiment: sample1\n",
      "2020-09-07 14:40:58.161 | INFO     | vimms.SequenceManager:run_evaluation:207 - Started Evaluation: sample1\n"
     ]
    },
    {
     "name": "stdout",
     "output_type": "stream",
     "text": [
      "False\n",
      "Loaded 6157 scans\n"
     ]
    },
    {
     "name": "stderr",
     "output_type": "stream",
     "text": [
      "2020-09-07 14:41:08.608 | INFO     | vimms.SequenceManager:run_evaluation:209 - Completed Evaluation: sample1\n",
      "2020-09-07 14:41:08.609 | INFO     | vimms.SequenceManager:run_serial:253 - Finished 1\n"
     ]
    },
    {
     "data": {
      "text/html": [
       "<div>\n",
       "<style scoped>\n",
       "    .dataframe tbody tr th:only-of-type {\n",
       "        vertical-align: middle;\n",
       "    }\n",
       "\n",
       "    .dataframe tbody tr th {\n",
       "        vertical-align: top;\n",
       "    }\n",
       "\n",
       "    .dataframe thead th {\n",
       "        text-align: right;\n",
       "    }\n",
       "</style>\n",
       "<table border=\"1\" class=\"dataframe\">\n",
       "  <thead>\n",
       "    <tr style=\"text-align: right;\">\n",
       "      <th></th>\n",
       "      <th>Sample ID</th>\n",
       "      <th>Controller Method</th>\n",
       "      <th>N</th>\n",
       "      <th>mz_tol</th>\n",
       "      <th>rt_tol</th>\n",
       "      <th>min_ms1_intensity</th>\n",
       "      <th>ms1_shift</th>\n",
       "      <th>initial_exclusion_list</th>\n",
       "      <th>params</th>\n",
       "      <th>mzmine_peak</th>\n",
       "    </tr>\n",
       "  </thead>\n",
       "  <tbody>\n",
       "    <tr>\n",
       "      <th>0</th>\n",
       "      <td>sample0</td>\n",
       "      <td>TopNController</td>\n",
       "      <td>10</td>\n",
       "      <td>10</td>\n",
       "      <td>15</td>\n",
       "      <td>175000.0</td>\n",
       "      <td>0</td>\n",
       "      <td>None</td>\n",
       "      <td>None</td>\n",
       "      <td>1068.0</td>\n",
       "    </tr>\n",
       "    <tr>\n",
       "      <th>1</th>\n",
       "      <td>sample1</td>\n",
       "      <td>TopNController</td>\n",
       "      <td>10</td>\n",
       "      <td>10</td>\n",
       "      <td>30</td>\n",
       "      <td>175000.0</td>\n",
       "      <td>0</td>\n",
       "      <td>None</td>\n",
       "      <td>None</td>\n",
       "      <td>1425.0</td>\n",
       "    </tr>\n",
       "  </tbody>\n",
       "</table>\n",
       "</div>"
      ],
      "text/plain": [
       "  Sample ID Controller Method   N  mz_tol  rt_tol  min_ms1_intensity  \\\n",
       "0   sample0    TopNController  10      10      15           175000.0   \n",
       "1   sample1    TopNController  10      10      30           175000.0   \n",
       "\n",
       "   ms1_shift initial_exclusion_list params  mzmine_peak  \n",
       "0          0                   None   None       1068.0  \n",
       "1          0                   None   None       1425.0  "
      ]
     },
     "execution_count": 36,
     "metadata": {},
     "output_type": "execute_result"
    }
   ],
   "source": [
    "vsm = VimmsSequenceManager(None, evaluation_methods, output_dir, progress_bar=True, ms1_picked_peaks_file=None, mzmine_command=mzmine_command)\n",
    "gs = GridSearchExperiment(vsm, 'TopNController', mass_spec_params, None, topn_variable_params_dict, controller_params, mzml_file, ps=ps, parallel=parallel)\n",
    "gs.results"
   ]
  },
  {
   "cell_type": "markdown",
   "metadata": {},
   "source": [
    "### Example 4 - SmartROI - Seed with mzml, non-parallel"
   ]
  },
  {
   "cell_type": "code",
   "execution_count": 37,
   "metadata": {},
   "outputs": [],
   "source": [
    "output_dir = os.path.join(experiment_dir, 'grid_search_example_4')"
   ]
  },
  {
   "cell_type": "code",
   "execution_count": 38,
   "metadata": {},
   "outputs": [],
   "source": [
    "smartROI_controller_params = {\"ionisation_mode\": POSITIVE,\n",
    "                       \"N\": 10,\n",
    "                       \"mz_tol\": 10,\n",
    "                       \"rt_tol\":30,\n",
    "                       \"min_ms1_intensity\": 1.75E5,\n",
    "                       \"rt_range\": [(200, 400)],\n",
    "                       \"isolation_width\": 1,\n",
    "                       \"min_roi_intensity\": 1000,\n",
    "                       \"min_roi_length\": 1,\n",
    "                       \"min_roi_length_for_fragmentation\": 1,\n",
    "                       \"reset_length_seconds\": 100,\n",
    "                       \"intensity_increase_factor\": 2,\n",
    "                       \"length_units\": \"scans\"}"
   ]
  },
  {
   "cell_type": "code",
   "execution_count": 39,
   "metadata": {},
   "outputs": [],
   "source": [
    "smartROI_variable_params_dict = {'drop_perc': [0/100,0.1/100], 'intensity_increase_factor': [2]}"
   ]
  },
  {
   "cell_type": "code",
   "execution_count": 40,
   "metadata": {},
   "outputs": [],
   "source": [
    "parallel = False"
   ]
  },
  {
   "cell_type": "code",
   "execution_count": 42,
   "metadata": {},
   "outputs": [
    {
     "name": "stderr",
     "output_type": "stream",
     "text": [
      "2020-09-07 14:56:38.203 | INFO     | vimms.Common:save_obj:161 - Saving <class 'list'> to C:\\Users\\Vinny\\work\\vimms\\demo\\03. MultiSampleMethods\\results\\grid_search_example_4\\Beer_multibeers_1_fullscan1.p\n",
      "2020-09-07 14:56:47.066 | INFO     | vimms.PythonMzmine:pick_peaks:23 - Creating xml batch file for Beer_multibeers_1_fullscan1.mzML\n",
      "2020-09-07 14:56:47.068 | INFO     | vimms.PythonMzmine:pick_peaks:53 - Running mzMine for Beer_multibeers_1_fullscan1.mzML\n",
      "2020-09-07 15:04:42.247 | INFO     | vimms.SequenceManager:run:241 - Running in serial mode\n",
      "2020-09-07 15:04:42.248 | INFO     | vimms.SequenceManager:run_controller:193 - Begun experiment: sample0\n",
      "2020-09-07 15:04:42.452 | INFO     | vimms.SequenceManager:run_experiment:159 - {'Sample ID': {0: 'sample0'}, 'Controller Method': {0: 'TopN_SmartRoiController'}, 'Controller Params': {0: {'ionisation_mode': 'Positive', 'isolation_width': 1, 'mz_tol': 10, 'min_ms1_intensity': 175000.0, 'min_roi_intensity': 1000, 'min_roi_length': 1, 'N': 10, 'rt_tol': 30, 'min_roi_length_for_fragmentation': 1, 'reset_length_seconds': 100, 'intensity_increase_factor': 2, 'length_units': 'scans', 'drop_perc': 0.0, 'ms1_shift': 0, 'params': None}}, 'MassSpec Params': {0: {'ionisation_mode': 'Positive', 'peak_sampler': <vimms.DataGenerator.PeakSampler object at 0x0000027A017CE5C0>, 'add_noise': False, 'isolation_transition_window': 'rectangular', 'isolation_transition_window_params': None}}, 'Dataset': {0: 'C:\\\\Users\\\\Vinny\\\\work\\\\vimms\\\\demo\\\\03. MultiSampleMethods\\\\results\\\\grid_search_example_4\\\\Beer_multibeers_1_fullscan1.p'}}\n",
      "(1440.000s) ms_level=1 N=10 DEW=30: 100%|█████████████████████████████████████████████████████████████████████████████████████████████████████████████████████████████████████████████████▉| 1439.6000000001595/1440 [02:25<00:00,  9.87it/s]\n",
      "2020-09-07 15:07:25.882 | INFO     | vimms.SequenceManager:run_controller:197 - Completed experiment: sample0\n",
      "2020-09-07 15:07:25.883 | INFO     | vimms.SequenceManager:run_evaluation:207 - Started Evaluation: sample0\n"
     ]
    },
    {
     "name": "stdout",
     "output_type": "stream",
     "text": [
      "False\n",
      "Loaded 5864 scans\n"
     ]
    },
    {
     "name": "stderr",
     "output_type": "stream",
     "text": [
      "2020-09-07 15:07:35.879 | INFO     | vimms.SequenceManager:run_evaluation:209 - Completed Evaluation: sample0\n",
      "2020-09-07 15:07:35.881 | INFO     | vimms.SequenceManager:run_serial:253 - Finished 0\n",
      "2020-09-07 15:07:35.882 | INFO     | vimms.SequenceManager:run_controller:193 - Begun experiment: sample1\n",
      "2020-09-07 15:07:36.084 | INFO     | vimms.SequenceManager:run_experiment:159 - {'Sample ID': {1: 'sample1'}, 'Controller Method': {1: 'TopN_SmartRoiController'}, 'Controller Params': {1: {'ionisation_mode': 'Positive', 'isolation_width': 1, 'mz_tol': 10, 'min_ms1_intensity': 175000.0, 'min_roi_intensity': 1000, 'min_roi_length': 1, 'N': 10, 'rt_tol': 30, 'min_roi_length_for_fragmentation': 1, 'reset_length_seconds': 100, 'intensity_increase_factor': 2, 'length_units': 'scans', 'drop_perc': 0.001, 'ms1_shift': 0, 'params': None}}, 'MassSpec Params': {1: {'ionisation_mode': 'Positive', 'peak_sampler': <vimms.DataGenerator.PeakSampler object at 0x0000027A017CE5C0>, 'add_noise': False, 'isolation_transition_window': 'rectangular', 'isolation_transition_window_params': None}}, 'Dataset': {1: 'C:\\\\Users\\\\Vinny\\\\work\\\\vimms\\\\demo\\\\03. MultiSampleMethods\\\\results\\\\grid_search_example_4\\\\Beer_multibeers_1_fullscan1.p'}}\n",
      "(1440.000s) ms_level=1 N=10 DEW=30: 100%|█████████████████████████████████████████████████████████████████████████████████████████████████████████████████████████████████████████████████▉| 1439.6000000001595/1440 [02:22<00:00, 10.12it/s]\n",
      "2020-09-07 15:10:16.108 | INFO     | vimms.SequenceManager:run_controller:197 - Completed experiment: sample1\n",
      "2020-09-07 15:10:16.109 | INFO     | vimms.SequenceManager:run_evaluation:207 - Started Evaluation: sample1\n"
     ]
    },
    {
     "name": "stdout",
     "output_type": "stream",
     "text": [
      "False\n",
      "Loaded 5854 scans\n"
     ]
    },
    {
     "name": "stderr",
     "output_type": "stream",
     "text": [
      "2020-09-07 15:10:26.700 | INFO     | vimms.SequenceManager:run_evaluation:209 - Completed Evaluation: sample1\n",
      "2020-09-07 15:10:26.701 | INFO     | vimms.SequenceManager:run_serial:253 - Finished 1\n"
     ]
    },
    {
     "data": {
      "text/html": [
       "<div>\n",
       "<style scoped>\n",
       "    .dataframe tbody tr th:only-of-type {\n",
       "        vertical-align: middle;\n",
       "    }\n",
       "\n",
       "    .dataframe tbody tr th {\n",
       "        vertical-align: top;\n",
       "    }\n",
       "\n",
       "    .dataframe thead th {\n",
       "        text-align: right;\n",
       "    }\n",
       "</style>\n",
       "<table border=\"1\" class=\"dataframe\">\n",
       "  <thead>\n",
       "    <tr style=\"text-align: right;\">\n",
       "      <th></th>\n",
       "      <th>Sample ID</th>\n",
       "      <th>Controller Method</th>\n",
       "      <th>mz_tol</th>\n",
       "      <th>min_ms1_intensity</th>\n",
       "      <th>min_roi_intensity</th>\n",
       "      <th>min_roi_length</th>\n",
       "      <th>N</th>\n",
       "      <th>rt_tol</th>\n",
       "      <th>min_roi_length_for_fragmentation</th>\n",
       "      <th>reset_length_seconds</th>\n",
       "      <th>intensity_increase_factor</th>\n",
       "      <th>length_units</th>\n",
       "      <th>drop_perc</th>\n",
       "      <th>ms1_shift</th>\n",
       "      <th>params</th>\n",
       "      <th>mzmine_peak</th>\n",
       "    </tr>\n",
       "  </thead>\n",
       "  <tbody>\n",
       "    <tr>\n",
       "      <th>0</th>\n",
       "      <td>sample0</td>\n",
       "      <td>TopN_SmartRoiController</td>\n",
       "      <td>10</td>\n",
       "      <td>175000.0</td>\n",
       "      <td>1000</td>\n",
       "      <td>1</td>\n",
       "      <td>10</td>\n",
       "      <td>30</td>\n",
       "      <td>1</td>\n",
       "      <td>100</td>\n",
       "      <td>2</td>\n",
       "      <td>scans</td>\n",
       "      <td>0.000</td>\n",
       "      <td>0</td>\n",
       "      <td>None</td>\n",
       "      <td>1520.0</td>\n",
       "    </tr>\n",
       "    <tr>\n",
       "      <th>1</th>\n",
       "      <td>sample1</td>\n",
       "      <td>TopN_SmartRoiController</td>\n",
       "      <td>10</td>\n",
       "      <td>175000.0</td>\n",
       "      <td>1000</td>\n",
       "      <td>1</td>\n",
       "      <td>10</td>\n",
       "      <td>30</td>\n",
       "      <td>1</td>\n",
       "      <td>100</td>\n",
       "      <td>2</td>\n",
       "      <td>scans</td>\n",
       "      <td>0.001</td>\n",
       "      <td>0</td>\n",
       "      <td>None</td>\n",
       "      <td>1519.0</td>\n",
       "    </tr>\n",
       "  </tbody>\n",
       "</table>\n",
       "</div>"
      ],
      "text/plain": [
       "  Sample ID        Controller Method  mz_tol  min_ms1_intensity  \\\n",
       "0   sample0  TopN_SmartRoiController      10           175000.0   \n",
       "1   sample1  TopN_SmartRoiController      10           175000.0   \n",
       "\n",
       "   min_roi_intensity  min_roi_length   N  rt_tol  \\\n",
       "0               1000               1  10      30   \n",
       "1               1000               1  10      30   \n",
       "\n",
       "   min_roi_length_for_fragmentation  reset_length_seconds  \\\n",
       "0                                 1                   100   \n",
       "1                                 1                   100   \n",
       "\n",
       "   intensity_increase_factor length_units  drop_perc  ms1_shift params  \\\n",
       "0                          2        scans      0.000          0   None   \n",
       "1                          2        scans      0.001          0   None   \n",
       "\n",
       "   mzmine_peak  \n",
       "0       1520.0  \n",
       "1       1519.0  "
      ]
     },
     "execution_count": 42,
     "metadata": {},
     "output_type": "execute_result"
    }
   ],
   "source": [
    "vsm = VimmsSequenceManager(None, evaluation_methods, output_dir, progress_bar=True, ms1_picked_peaks_file=None, mzmine_command=mzmine_command)\n",
    "gs = GridSearchExperiment(vsm, 'TopN_SmartRoiController', mass_spec_params, None, smartROI_variable_params_dict, smartROI_controller_params, mzml_file, ps=ps, parallel=parallel)\n",
    "gs.results"
   ]
  },
  {
   "cell_type": "markdown",
   "metadata": {},
   "source": [
    "### Example 5 - WeightedDEW - Seed with mzml, non-parallel"
   ]
  },
  {
   "cell_type": "code",
   "execution_count": 43,
   "metadata": {},
   "outputs": [],
   "source": [
    "output_dir = os.path.join(experiment_dir, 'grid_search_example_5')"
   ]
  },
  {
   "cell_type": "code",
   "execution_count": 44,
   "metadata": {},
   "outputs": [],
   "source": [
    "weightedDEW_controller_params = {\"ionisation_mode\": POSITIVE,\n",
    "                       \"N\": 10,\n",
    "                       \"mz_tol\": 10,\n",
    "                       \"rt_tol\":30,\n",
    "                       \"min_ms1_intensity\": 1.75E5,\n",
    "                       \"rt_range\": [(200, 400)],\n",
    "                       \"isolation_width\": 1,\n",
    "                       \"ms1_shift\": 0,\n",
    "                       \"exclusion_t_0\": 15,\n",
    "                       \"log_intensity\": False}"
   ]
  },
  {
   "cell_type": "code",
   "execution_count": 45,
   "metadata": {},
   "outputs": [],
   "source": [
    "weightedDEW_variable_params_dict = {'rt_tol': [30], 'exclusion_t_0': [10,20]}"
   ]
  },
  {
   "cell_type": "code",
   "execution_count": 46,
   "metadata": {},
   "outputs": [],
   "source": [
    "parallel = False"
   ]
  },
  {
   "cell_type": "code",
   "execution_count": 47,
   "metadata": {},
   "outputs": [
    {
     "name": "stderr",
     "output_type": "stream",
     "text": [
      "2020-09-07 15:10:27.371 | INFO     | vimms.Common:create_if_not_exist:148 - Created C:\\Users\\Vinny\\work\\vimms\\demo\\03. MultiSampleMethods\\results\\grid_search_example_5\n",
      "2020-09-07 15:11:22.907 | INFO     | vimms.Common:save_obj:161 - Saving <class 'list'> to C:\\Users\\Vinny\\work\\vimms\\demo\\03. MultiSampleMethods\\results\\grid_search_example_5\\Beer_multibeers_1_fullscan1.p\n",
      "2020-09-07 15:11:32.527 | INFO     | vimms.PythonMzmine:pick_peaks:23 - Creating xml batch file for Beer_multibeers_1_fullscan1.mzML\n",
      "2020-09-07 15:11:32.529 | INFO     | vimms.PythonMzmine:pick_peaks:53 - Running mzMine for Beer_multibeers_1_fullscan1.mzML\n",
      "2020-09-07 15:19:14.864 | INFO     | vimms.SequenceManager:run:241 - Running in serial mode\n",
      "2020-09-07 15:19:14.865 | INFO     | vimms.SequenceManager:run_controller:193 - Begun experiment: sample0\n",
      "2020-09-07 15:19:15.066 | INFO     | vimms.SequenceManager:run_experiment:159 - {'Sample ID': {0: 'sample0'}, 'Controller Method': {0: 'WeightedDewController'}, 'Controller Params': {0: {'ionisation_mode': 'Positive', 'N': 10, 'isolation_width': 1, 'mz_tol': 10, 'rt_tol': 30, 'min_ms1_intensity': 175000.0, 'ms1_shift': 0, 'exclusion_t_0': 10, 'log_intensity': False, 'params': None}}, 'MassSpec Params': {0: {'ionisation_mode': 'Positive', 'peak_sampler': <vimms.DataGenerator.PeakSampler object at 0x0000027A017CE5C0>, 'add_noise': False, 'isolation_transition_window': 'rectangular', 'isolation_transition_window_params': None}}, 'Dataset': {0: 'C:\\\\Users\\\\Vinny\\\\work\\\\vimms\\\\demo\\\\03. MultiSampleMethods\\\\results\\\\grid_search_example_5\\\\Beer_multibeers_1_fullscan1.p'}}\n",
      "(1440.000s) ms_level=2 N=10 DEW=30: 100%|██████████████████████████████████████████████████████████████████████████████████████████████████████████████████████████████████████████████████▉| 1439.800000000167/1440 [01:57<00:00, 12.28it/s]\n",
      "2020-09-07 15:21:30.742 | INFO     | vimms.SequenceManager:run_controller:197 - Completed experiment: sample0\n",
      "2020-09-07 15:21:30.743 | INFO     | vimms.SequenceManager:run_evaluation:207 - Started Evaluation: sample0\n"
     ]
    },
    {
     "name": "stdout",
     "output_type": "stream",
     "text": [
      "False\n",
      "Loaded 6581 scans\n"
     ]
    },
    {
     "name": "stderr",
     "output_type": "stream",
     "text": [
      "2020-09-07 15:21:42.070 | INFO     | vimms.SequenceManager:run_evaluation:209 - Completed Evaluation: sample0\n",
      "2020-09-07 15:21:42.072 | INFO     | vimms.SequenceManager:run_serial:253 - Finished 0\n",
      "2020-09-07 15:21:42.072 | INFO     | vimms.SequenceManager:run_controller:193 - Begun experiment: sample1\n",
      "2020-09-07 15:21:42.274 | INFO     | vimms.SequenceManager:run_experiment:159 - {'Sample ID': {1: 'sample1'}, 'Controller Method': {1: 'WeightedDewController'}, 'Controller Params': {1: {'ionisation_mode': 'Positive', 'N': 10, 'isolation_width': 1, 'mz_tol': 10, 'rt_tol': 30, 'min_ms1_intensity': 175000.0, 'ms1_shift': 0, 'exclusion_t_0': 20, 'log_intensity': False, 'params': None}}, 'MassSpec Params': {1: {'ionisation_mode': 'Positive', 'peak_sampler': <vimms.DataGenerator.PeakSampler object at 0x0000027A017CE5C0>, 'add_noise': False, 'isolation_transition_window': 'rectangular', 'isolation_transition_window_params': None}}, 'Dataset': {1: 'C:\\\\Users\\\\Vinny\\\\work\\\\vimms\\\\demo\\\\03. MultiSampleMethods\\\\results\\\\grid_search_example_5\\\\Beer_multibeers_1_fullscan1.p'}}\n",
      "(1440.000s) ms_level=1 N=10 DEW=30: 100%|█████████████████████████████████████████████████████████████████████████████████████████████████████████████████████████████████████████████████▉| 1439.6000000001645/1440 [01:48<00:00, 13.33it/s]\n",
      "2020-09-07 15:23:48.842 | INFO     | vimms.SequenceManager:run_controller:197 - Completed experiment: sample1\n",
      "2020-09-07 15:23:48.843 | INFO     | vimms.SequenceManager:run_evaluation:207 - Started Evaluation: sample1\n"
     ]
    },
    {
     "name": "stdout",
     "output_type": "stream",
     "text": [
      "False\n",
      "Loaded 6390 scans\n"
     ]
    },
    {
     "name": "stderr",
     "output_type": "stream",
     "text": [
      "2020-09-07 15:23:59.259 | INFO     | vimms.SequenceManager:run_evaluation:209 - Completed Evaluation: sample1\n",
      "2020-09-07 15:23:59.261 | INFO     | vimms.SequenceManager:run_serial:253 - Finished 1\n"
     ]
    },
    {
     "data": {
      "text/html": [
       "<div>\n",
       "<style scoped>\n",
       "    .dataframe tbody tr th:only-of-type {\n",
       "        vertical-align: middle;\n",
       "    }\n",
       "\n",
       "    .dataframe tbody tr th {\n",
       "        vertical-align: top;\n",
       "    }\n",
       "\n",
       "    .dataframe thead th {\n",
       "        text-align: right;\n",
       "    }\n",
       "</style>\n",
       "<table border=\"1\" class=\"dataframe\">\n",
       "  <thead>\n",
       "    <tr style=\"text-align: right;\">\n",
       "      <th></th>\n",
       "      <th>Sample ID</th>\n",
       "      <th>Controller Method</th>\n",
       "      <th>N</th>\n",
       "      <th>mz_tol</th>\n",
       "      <th>rt_tol</th>\n",
       "      <th>min_ms1_intensity</th>\n",
       "      <th>ms1_shift</th>\n",
       "      <th>exclusion_t_0</th>\n",
       "      <th>log_intensity</th>\n",
       "      <th>params</th>\n",
       "      <th>mzmine_peak</th>\n",
       "    </tr>\n",
       "  </thead>\n",
       "  <tbody>\n",
       "    <tr>\n",
       "      <th>0</th>\n",
       "      <td>sample0</td>\n",
       "      <td>WeightedDewController</td>\n",
       "      <td>10</td>\n",
       "      <td>10</td>\n",
       "      <td>30</td>\n",
       "      <td>175000.0</td>\n",
       "      <td>0</td>\n",
       "      <td>10</td>\n",
       "      <td>False</td>\n",
       "      <td>None</td>\n",
       "      <td>1199.0</td>\n",
       "    </tr>\n",
       "    <tr>\n",
       "      <th>1</th>\n",
       "      <td>sample1</td>\n",
       "      <td>WeightedDewController</td>\n",
       "      <td>10</td>\n",
       "      <td>10</td>\n",
       "      <td>30</td>\n",
       "      <td>175000.0</td>\n",
       "      <td>0</td>\n",
       "      <td>20</td>\n",
       "      <td>False</td>\n",
       "      <td>None</td>\n",
       "      <td>1353.0</td>\n",
       "    </tr>\n",
       "  </tbody>\n",
       "</table>\n",
       "</div>"
      ],
      "text/plain": [
       "  Sample ID      Controller Method   N  mz_tol  rt_tol  min_ms1_intensity  \\\n",
       "0   sample0  WeightedDewController  10      10      30           175000.0   \n",
       "1   sample1  WeightedDewController  10      10      30           175000.0   \n",
       "\n",
       "   ms1_shift  exclusion_t_0  log_intensity params  mzmine_peak  \n",
       "0          0             10          False   None       1199.0  \n",
       "1          0             20          False   None       1353.0  "
      ]
     },
     "execution_count": 47,
     "metadata": {},
     "output_type": "execute_result"
    }
   ],
   "source": [
    "vsm = VimmsSequenceManager(None, evaluation_methods, output_dir, progress_bar=True, ms1_picked_peaks_file=None, mzmine_command=mzmine_command)\n",
    "gs = GridSearchExperiment(vsm, 'WeightedDewController', mass_spec_params, None, weightedDEW_variable_params_dict, weightedDEW_controller_params, mzml_file, ps=ps, parallel=parallel)\n",
    "gs.results"
   ]
  }
 ],
 "metadata": {
  "kernelspec": {
   "display_name": "Python 3",
   "language": "python",
   "name": "python3"
  },
  "language_info": {
   "codemirror_mode": {
    "name": "ipython",
    "version": 3
   },
   "file_extension": ".py",
   "mimetype": "text/x-python",
   "name": "python",
   "nbconvert_exporter": "python",
   "pygments_lexer": "ipython3",
   "version": "3.7.3"
  }
 },
 "nbformat": 4,
 "nbformat_minor": 4
}
