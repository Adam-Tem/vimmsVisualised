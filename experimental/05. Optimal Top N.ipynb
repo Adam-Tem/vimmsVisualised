{
 "cells": [
  {
   "cell_type": "markdown",
   "metadata": {},
   "source": [
    "# 5. Optimal Top N"
   ]
  },
  {
   "cell_type": "markdown",
   "metadata": {},
   "source": [
    "This notebook shows how to run the optimal Top N method on a ViMMS dataset"
   ]
  },
  {
   "cell_type": "code",
   "execution_count": 1,
   "metadata": {},
   "outputs": [],
   "source": [
    "%matplotlib inline"
   ]
  },
  {
   "cell_type": "code",
   "execution_count": 2,
   "metadata": {},
   "outputs": [],
   "source": [
    "%load_ext autoreload\n",
    "%autoreload 2"
   ]
  },
  {
   "cell_type": "code",
   "execution_count": 3,
   "metadata": {},
   "outputs": [],
   "source": [
    "import sys\n",
    "sys.path.append('../..')"
   ]
  },
  {
   "cell_type": "code",
   "execution_count": 4,
   "metadata": {},
   "outputs": [],
   "source": [
    "from pathlib import Path"
   ]
  },
  {
   "cell_type": "code",
   "execution_count": 5,
   "metadata": {},
   "outputs": [],
   "source": [
    "from vimms.MassSpec import IndependentMassSpectrometer\n",
    "from vimms.Controller import OptimalTopNController\n",
    "from vimms.Environment import Environment\n",
    "from vimms.Common import *\n",
    "\n",
    "from mass_spec_utils.data_import.mzmine import load_picked_boxes"
   ]
  },
  {
   "cell_type": "markdown",
   "metadata": {},
   "source": [
    "### Load the data"
   ]
  },
  {
   "cell_type": "code",
   "execution_count": 6,
   "metadata": {},
   "outputs": [],
   "source": [
    "data_dir = os.path.abspath(os.path.join(os.getcwd(),'..','..','tests','fixtures'))\n",
    "dataset = load_obj(os.path.join(data_dir, 'QCB_22May19_1.p'))\n",
    "ps = load_obj(Path(data_dir,'peak_sampler_mz_rt_int_beerqcb_fragmentation.p'))"
   ]
  },
  {
   "cell_type": "code",
   "execution_count": 7,
   "metadata": {},
   "outputs": [],
   "source": [
    "box_file = str(Path(data_dir, 'QCB_22May19_1_pp.csv'))\n",
    "boxes = load_picked_boxes(box_file)"
   ]
  },
  {
   "cell_type": "markdown",
   "metadata": {},
   "source": [
    "### Run Controller"
   ]
  },
  {
   "cell_type": "code",
   "execution_count": 8,
   "metadata": {},
   "outputs": [
    {
     "data": {
      "text/plain": [
       "(str, list, 3523)"
      ]
     },
     "execution_count": 8,
     "metadata": {},
     "output_type": "execute_result"
    }
   ],
   "source": [
    "type(box_file), type(boxes), len(boxes)"
   ]
  },
  {
   "cell_type": "code",
   "execution_count": 9,
   "metadata": {},
   "outputs": [],
   "source": [
    "rt_range = [(0, 1440)]\n",
    "min_rt = rt_range[0][0]\n",
    "max_rt = rt_range[0][1]\n",
    "\n",
    "isolation_window = 1\n",
    "N = 3\n",
    "rt_tols = 15\n",
    "mz_tols = 10\n",
    "min_ms1_intensity = 1.75E5"
   ]
  },
  {
   "cell_type": "markdown",
   "metadata": {},
   "source": [
    "Run the OptimalTopNController in loop"
   ]
  },
  {
   "cell_type": "code",
   "execution_count": 10,
   "metadata": {},
   "outputs": [
    {
     "name": "stderr",
     "output_type": "stream",
     "text": [
      "(14.800s) ms_level=1 N=3 DEW=15:   1%|█▌                                                                                                                                                   | 14.800000000000008/1440 [00:00<00:16, 87.85it/s]"
     ]
    },
    {
     "name": "stdout",
     "output_type": "stream",
     "text": [
      "len(boxes) = 3523\n"
     ]
    },
    {
     "name": "stderr",
     "output_type": "stream",
     "text": [
      "(1440.000s) ms_level=1 N=3 DEW=15: 100%|██████████████████████████████████████████████████████████████████████████████████████████████████████████████████████████████████████████████████▉| 1439.6000000000672/1440 [00:44<00:00, 32.59it/s]\n",
      "2020-09-03 15:46:52.245 | DEBUG    | vimms.Environment:write_mzML:161 - Writing mzML file to C:\\Users\\Vinny\\work\\vimms\\demo\\02. Methods\\results\\optimaltopn_controller_0.mzML\n",
      "2020-09-03 15:47:08.656 | DEBUG    | vimms.Environment:write_mzML:164 - mzML file successfully written!\n",
      "(10.800s) ms_level=1 N=3 DEW=15:   1%|█                                                                                                                                                    | 10.800000000000004/1440 [00:00<00:21, 67.47it/s]"
     ]
    },
    {
     "name": "stdout",
     "output_type": "stream",
     "text": [
      "len(boxes) = 2951\n"
     ]
    },
    {
     "name": "stderr",
     "output_type": "stream",
     "text": [
      "(1440.000s) ms_level=1 N=3 DEW=15: 100%|██████████████████████████████████████████████████████████████████████████████████████████████████████████████████████████████████████████████████▉| 1439.6000000000533/1440 [00:47<00:00, 30.01it/s]\n",
      "2020-09-03 15:47:56.632 | DEBUG    | vimms.Environment:write_mzML:161 - Writing mzML file to C:\\Users\\Vinny\\work\\vimms\\demo\\02. Methods\\results\\optimaltopn_controller_1.mzML\n",
      "2020-09-03 15:48:04.801 | DEBUG    | vimms.Environment:write_mzML:164 - mzML file successfully written!\n",
      "(18.000s) ms_level=1 N=3 DEW=15:   1%|██                                                                                                                                                                | 18.0/1440 [00:00<00:13, 107.82it/s]"
     ]
    },
    {
     "name": "stdout",
     "output_type": "stream",
     "text": [
      "len(boxes) = 2921\n"
     ]
    },
    {
     "name": "stderr",
     "output_type": "stream",
     "text": [
      "(1440.000s) ms_level=1 N=3 DEW=15: 100%|██████████████████████████████████████████████████████████████████████████████████████████████████████████████████████████████████████████████████▉| 1439.6000000000533/1440 [00:33<00:00, 42.48it/s]\n",
      "2020-09-03 15:48:38.697 | DEBUG    | vimms.Environment:write_mzML:161 - Writing mzML file to C:\\Users\\Vinny\\work\\vimms\\demo\\02. Methods\\results\\optimaltopn_controller_2.mzML\n",
      "2020-09-03 15:48:45.470 | DEBUG    | vimms.Environment:write_mzML:164 - mzML file successfully written!\n",
      "(18.000s) ms_level=1 N=3 DEW=15:   1%|██                                                                                                                                                                | 18.0/1440 [00:00<00:13, 106.58it/s]"
     ]
    },
    {
     "name": "stdout",
     "output_type": "stream",
     "text": [
      "len(boxes) = 2907\n"
     ]
    },
    {
     "name": "stderr",
     "output_type": "stream",
     "text": [
      "(1440.000s) ms_level=1 N=3 DEW=15: 100%|██████████████████████████████████████████████████████████████████████████████████████████████████████████████████████████████████████████████████▉| 1439.6000000000536/1440 [00:33<00:00, 42.49it/s]\n",
      "2020-09-03 15:49:19.362 | DEBUG    | vimms.Environment:write_mzML:161 - Writing mzML file to C:\\Users\\Vinny\\work\\vimms\\demo\\02. Methods\\results\\optimaltopn_controller_3.mzML\n",
      "2020-09-03 15:49:26.437 | DEBUG    | vimms.Environment:write_mzML:164 - mzML file successfully written!\n",
      "(18.000s) ms_level=1 N=3 DEW=15:   1%|██                                                                                                                                                                | 18.0/1440 [00:00<00:13, 103.59it/s]"
     ]
    },
    {
     "name": "stdout",
     "output_type": "stream",
     "text": [
      "len(boxes) = 2899\n"
     ]
    },
    {
     "name": "stderr",
     "output_type": "stream",
     "text": [
      "(1440.000s) ms_level=1 N=3 DEW=15: 100%|██████████████████████████████████████████████████████████████████████████████████████████████████████████████████████████████████████████████████▉| 1439.6000000000533/1440 [00:33<00:00, 42.63it/s]\n",
      "2020-09-03 15:50:00.211 | DEBUG    | vimms.Environment:write_mzML:161 - Writing mzML file to C:\\Users\\Vinny\\work\\vimms\\demo\\02. Methods\\results\\optimaltopn_controller_4.mzML\n",
      "2020-09-03 15:50:07.303 | DEBUG    | vimms.Environment:write_mzML:164 - mzML file successfully written!\n"
     ]
    }
   ],
   "source": [
    "for i in range(5):\n",
    "    # initialise mass spec and controller\n",
    "    mass_spec = IndependentMassSpectrometer(POSITIVE, dataset, ps)\n",
    "    controller = OptimalTopNController(POSITIVE, N, isolation_window, mz_tols, rt_tols, min_ms1_intensity, boxes)\n",
    "    print('len(boxes) = %d' % len(controller.boxes))\n",
    "    \n",
    "    # create an environment to run both the mass spec and controller\n",
    "    env = Environment(mass_spec, controller, min_rt, max_rt, progress_bar=True)\n",
    "\n",
    "    # set the log level to WARNING so we don't see too many messages when environment is running\n",
    "    set_log_level_warning()\n",
    "\n",
    "    # run the simulation\n",
    "    env.run()\n",
    "\n",
    "    # write out mzML file\n",
    "    set_log_level_debug()\n",
    "    mzml_filename = 'optimaltopn_controller_%d.mzML' % i\n",
    "    out_dir = os.path.join(os.getcwd(), 'results')\n",
    "    env.write_mzML(out_dir, mzml_filename)"
   ]
  },
  {
   "cell_type": "code",
   "execution_count": null,
   "metadata": {},
   "outputs": [],
   "source": []
  }
 ],
 "metadata": {
  "kernelspec": {
   "display_name": "Python 3",
   "language": "python",
   "name": "python3"
  },
  "language_info": {
   "codemirror_mode": {
    "name": "ipython",
    "version": 3
   },
   "file_extension": ".py",
   "mimetype": "text/x-python",
   "name": "python",
   "nbconvert_exporter": "python",
   "pygments_lexer": "ipython3",
   "version": "3.7.3"
  }
 },
 "nbformat": 4,
 "nbformat_minor": 4
}
