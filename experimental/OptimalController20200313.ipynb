{
 "cells": [
  {
   "cell_type": "markdown",
   "metadata": {},
   "source": [
    "## Notebook to test Optimal controller on MS"
   ]
  },
  {
   "cell_type": "markdown",
   "metadata": {},
   "source": [
    "### Notes\n",
    "\n",
    "- Change picked peak file to whatever is most up-to-date\n",
    "- Change MS from Simulator to real :-)\n",
    "- Fix paths"
   ]
  },
  {
   "cell_type": "code",
   "execution_count": 1,
   "metadata": {},
   "outputs": [],
   "source": [
    "import os"
   ]
  },
  {
   "cell_type": "code",
   "execution_count": 2,
   "metadata": {},
   "outputs": [],
   "source": [
    "%load_ext autoreload\n",
    "%autoreload 2"
   ]
  },
  {
   "cell_type": "code",
   "execution_count": 3,
   "metadata": {},
   "outputs": [],
   "source": [
    "import xml.etree.ElementTree\n",
    "import os,glob,sys\n",
    "import numpy as np\n",
    "import pandas as pd\n",
    "import seaborn as sns"
   ]
  },
  {
   "cell_type": "code",
   "execution_count": null,
   "metadata": {},
   "outputs": [],
   "source": [
    "sys.path.append('/home/simon/git/vimms')\n",
    "sys.path.append('/home/simon/git/pymzm')"
   ]
  },
  {
   "cell_type": "markdown",
   "metadata": {},
   "source": [
    "## Change following to where results should go..."
   ]
  },
  {
   "cell_type": "code",
   "execution_count": 4,
   "metadata": {},
   "outputs": [],
   "source": [
    "test_path = '/home/simon/git/vimms/experimental/simon_res/'"
   ]
  },
  {
   "cell_type": "markdown",
   "metadata": {},
   "source": [
    "## Change following to where the picked peaks file is"
   ]
  },
  {
   "cell_type": "code",
   "execution_count": 15,
   "metadata": {},
   "outputs": [],
   "source": [
    "pp_file = os.path.join(test_path,'QCB','qcb_pp.csv')"
   ]
  },
  {
   "cell_type": "code",
   "execution_count": 5,
   "metadata": {},
   "outputs": [],
   "source": [
    "from vimms.PythonMzmine import *\n",
    "from vimms.MassSpec import IndependentMassSpectrometer\n",
    "from vimms.Controller import TopNController,RoiController,SmartRoiController\n",
    "from vimms.PythonMzmine import *\n",
    "\n",
    "from vimms.Roi import make_roi, RoiToChemicalCreator\n",
    "from vimms.BOMAS import *\n",
    "from vimms.Common import *\n",
    "from vimms.Environment import *\n",
    "from pathlib import Path\n",
    "from vimms.PlotsForPaper import get_frag_events"
   ]
  },
  {
   "cell_type": "code",
   "execution_count": 6,
   "metadata": {},
   "outputs": [],
   "source": [
    "set_log_level_warning()"
   ]
  },
  {
   "cell_type": "markdown",
   "metadata": {},
   "source": [
    "Following not needed on real machine, just for simulation..."
   ]
  },
  {
   "cell_type": "code",
   "execution_count": 8,
   "metadata": {},
   "outputs": [],
   "source": [
    "# base_dir = os.path.abspath('/Users/simon/University of Glasgow/Vinny Davies - CLDS Metabolomics Project/Trained Models')\n",
    "base_dir = os.path.abspath('/home/simon/git/vimms/experimental/simon_res/QCB')\n",
    "\n",
    "ps_frag_QCB = load_obj(Path(base_dir, 'peak_sampler_mz_rt_int_beerqcb_fragmentation.p'))\n",
    "\n",
    "QCB_MZML2CHEMS_DICT = {'min_ms1_intensity': 0,\n",
    "                  'mz_tol': 5,\n",
    "                  'mz_units':'ppm',\n",
    "                  'min_length':1,\n",
    "                  'min_intensity':0,\n",
    "                  'start_rt':0,\n",
    "                  'stop_rt':1560}\n",
    "\n",
    "TopN_QCB_dataset = load_obj('/home/simon/git/vimms/experimental/simon_res/QCB/TopN_QCB_dataset.mzml')"
   ]
  },
  {
   "cell_type": "markdown",
   "metadata": {},
   "source": [
    "Not all of this needed, but no hassle to do it..."
   ]
  },
  {
   "cell_type": "code",
   "execution_count": 23,
   "metadata": {},
   "outputs": [],
   "source": [
    "min_rt = 0\n",
    "max_rt = 26*60 # entire run\n",
    "min_ms1_intensity = 5000\n",
    "mz_tol = 10\n",
    "rt_tol = 15\n",
    "N = 10\n",
    "\n",
    "# these are derived from real data (see bottom of notebook)\n",
    "roi_time_dict = {1: 0.71,2:0.20}\n",
    "topn_time_dict = {1: 0.60,2:0.20}\n",
    "\n",
    "\n",
    "ionisation_mode = POSITIVE\n",
    "isolation_width = 1"
   ]
  },
  {
   "cell_type": "markdown",
   "metadata": {},
   "source": [
    "## Following defines how to prioritise boxes - suggest leaving intensity for now. If we have time to try two, also try \"apex\""
   ]
  },
  {
   "cell_type": "code",
   "execution_count": 24,
   "metadata": {},
   "outputs": [],
   "source": [
    "score_method = 'intensity'"
   ]
  },
  {
   "cell_type": "code",
   "execution_count": 25,
   "metadata": {},
   "outputs": [],
   "source": [
    "from vimms.MassSpec import IndependentMassSpectrometer\n",
    "from vimms.Controller import OptimalTopNController"
   ]
  },
  {
   "cell_type": "markdown",
   "metadata": {},
   "source": [
    "## Following cells show non-looped version"
   ]
  },
  {
   "cell_type": "code",
   "execution_count": 26,
   "metadata": {},
   "outputs": [],
   "source": [
    "boxes = load_picked_boxes(pp_file)"
   ]
  },
  {
   "cell_type": "code",
   "execution_count": 27,
   "metadata": {},
   "outputs": [],
   "source": [
    "controller = OptimalTopNController(ionisation_mode, N, isolation_width,\n",
    "                                   mz_tol, rt_tol, min_ms1_intensity,\n",
    "                                   boxes,score_method = score_method)"
   ]
  },
  {
   "cell_type": "code",
   "execution_count": 28,
   "metadata": {},
   "outputs": [
    {
     "name": "stderr",
     "output_type": "stream",
     "text": [
      "(100.200s) ms_level=1 N=10 DEW=15:  99%|█████████▉| 99.48999999999977/100 [00:04<00:00, 24.64it/s]\n"
     ]
    }
   ],
   "source": [
    "mass_spec = IndependentMassSpectrometer(ionisation_mode, TopN_QCB_dataset,\n",
    "                                        ps_frag_QCB,\n",
    "                                        add_noise=True,\n",
    "                                       scan_duration_dict=roi_time_dict)\n",
    "env = Environment(mass_spec, controller, min_rt, max_rt, progress_bar=True)\n",
    "env.run()"
   ]
  },
  {
   "cell_type": "code",
   "execution_count": null,
   "metadata": {},
   "outputs": [],
   "source": []
  },
  {
   "cell_type": "markdown",
   "metadata": {},
   "source": [
    "## And here is the looped version\n",
    "\n",
    "Main points:\n",
    "\n",
    "- Load the list of box objects once\n",
    "- They get removed once fragmented\n",
    "- Making a new controller with the same list will only use the remaining ones\n",
    "\n",
    "I guess on the machine you will need to embed this within the sequencer."
   ]
  },
  {
   "cell_type": "code",
   "execution_count": 29,
   "metadata": {},
   "outputs": [],
   "source": [
    "boxes = load_picked_boxes(pp_file) # load boxes once"
   ]
  },
  {
   "cell_type": "code",
   "execution_count": 32,
   "metadata": {},
   "outputs": [
    {
     "name": "stdout",
     "output_type": "stream",
     "text": [
      "5879\n"
     ]
    },
    {
     "name": "stderr",
     "output_type": "stream",
     "text": [
      "(300.020s) ms_level=1 N=10 DEW=15:  99%|█████████▉| 99.31000000000026/100 [00:06<00:00, 16.48it/s] \n"
     ]
    },
    {
     "name": "stdout",
     "output_type": "stream",
     "text": [
      "5599\n"
     ]
    },
    {
     "name": "stderr",
     "output_type": "stream",
     "text": [
      "(300.580s) ms_level=1 N=10 DEW=15: 100%|█████████▉| 99.86999999999989/100 [00:05<00:00, 17.90it/s] \n"
     ]
    },
    {
     "name": "stdout",
     "output_type": "stream",
     "text": [
      "5512\n"
     ]
    },
    {
     "ename": "KeyboardInterrupt",
     "evalue": "",
     "output_type": "error",
     "traceback": [
      "\u001b[0;31m---------------------------------------------------------------------------\u001b[0m",
      "\u001b[0;31mKeyboardInterrupt\u001b[0m                         Traceback (most recent call last)",
      "\u001b[0;32m<ipython-input-32-60ad35c6eec5>\u001b[0m in \u001b[0;36m<module>\u001b[0;34m\u001b[0m\n\u001b[1;32m      7\u001b[0m                                         \u001b[0mps_frag_QCB\u001b[0m\u001b[0;34m,\u001b[0m\u001b[0;34m\u001b[0m\u001b[0;34m\u001b[0m\u001b[0m\n\u001b[1;32m      8\u001b[0m                                         \u001b[0madd_noise\u001b[0m\u001b[0;34m=\u001b[0m\u001b[0;32mTrue\u001b[0m\u001b[0;34m,\u001b[0m\u001b[0;34m\u001b[0m\u001b[0;34m\u001b[0m\u001b[0m\n\u001b[0;32m----> 9\u001b[0;31m                                        scan_duration_dict=roi_time_dict)\n\u001b[0m\u001b[1;32m     10\u001b[0m     \u001b[0menv\u001b[0m \u001b[0;34m=\u001b[0m \u001b[0mEnvironment\u001b[0m\u001b[0;34m(\u001b[0m\u001b[0mmass_spec\u001b[0m\u001b[0;34m,\u001b[0m \u001b[0mcontroller\u001b[0m\u001b[0;34m,\u001b[0m \u001b[0mmin_rt\u001b[0m\u001b[0;34m,\u001b[0m \u001b[0mmax_rt\u001b[0m\u001b[0;34m,\u001b[0m \u001b[0mprogress_bar\u001b[0m\u001b[0;34m=\u001b[0m\u001b[0;32mTrue\u001b[0m\u001b[0;34m)\u001b[0m\u001b[0;34m\u001b[0m\u001b[0;34m\u001b[0m\u001b[0m\n\u001b[1;32m     11\u001b[0m     \u001b[0menv\u001b[0m\u001b[0;34m.\u001b[0m\u001b[0mrun\u001b[0m\u001b[0;34m(\u001b[0m\u001b[0;34m)\u001b[0m\u001b[0;34m\u001b[0m\u001b[0;34m\u001b[0m\u001b[0m\n",
      "\u001b[0;32m~/git/vimms/vimms/MassSpec.py\u001b[0m in \u001b[0;36m__init__\u001b[0;34m(self, ionisation_mode, chemicals, peak_sampler, add_noise, isolation_transition_window, isolation_transition_window_params, scan_duration_dict)\u001b[0m\n\u001b[1;32m    262\u001b[0m \u001b[0;34m\u001b[0m\u001b[0m\n\u001b[1;32m    263\u001b[0m         \u001b[0;31m# stores the chromatograms start and end rt for quick retrieval\u001b[0m\u001b[0;34m\u001b[0m\u001b[0;34m\u001b[0m\u001b[0;34m\u001b[0m\u001b[0m\n\u001b[0;32m--> 264\u001b[0;31m         \u001b[0mchem_rts\u001b[0m \u001b[0;34m=\u001b[0m \u001b[0mnp\u001b[0m\u001b[0;34m.\u001b[0m\u001b[0marray\u001b[0m\u001b[0;34m(\u001b[0m\u001b[0;34m[\u001b[0m\u001b[0mchem\u001b[0m\u001b[0;34m.\u001b[0m\u001b[0mrt\u001b[0m \u001b[0;32mfor\u001b[0m \u001b[0mchem\u001b[0m \u001b[0;32min\u001b[0m \u001b[0mself\u001b[0m\u001b[0;34m.\u001b[0m\u001b[0mchemicals\u001b[0m\u001b[0;34m]\u001b[0m\u001b[0;34m)\u001b[0m\u001b[0;34m\u001b[0m\u001b[0;34m\u001b[0m\u001b[0m\n\u001b[0m\u001b[1;32m    265\u001b[0m         \u001b[0mself\u001b[0m\u001b[0;34m.\u001b[0m\u001b[0mchrom_min_rts\u001b[0m \u001b[0;34m=\u001b[0m \u001b[0mnp\u001b[0m\u001b[0;34m.\u001b[0m\u001b[0marray\u001b[0m\u001b[0;34m(\u001b[0m\u001b[0;34m[\u001b[0m\u001b[0mchem\u001b[0m\u001b[0;34m.\u001b[0m\u001b[0mchromatogram\u001b[0m\u001b[0;34m.\u001b[0m\u001b[0mmin_rt\u001b[0m \u001b[0;32mfor\u001b[0m \u001b[0mchem\u001b[0m \u001b[0;32min\u001b[0m \u001b[0mself\u001b[0m\u001b[0;34m.\u001b[0m\u001b[0mchemicals\u001b[0m\u001b[0;34m]\u001b[0m\u001b[0;34m)\u001b[0m \u001b[0;34m+\u001b[0m \u001b[0mchem_rts\u001b[0m\u001b[0;34m\u001b[0m\u001b[0;34m\u001b[0m\u001b[0m\n\u001b[1;32m    266\u001b[0m         \u001b[0mself\u001b[0m\u001b[0;34m.\u001b[0m\u001b[0mchrom_max_rts\u001b[0m \u001b[0;34m=\u001b[0m \u001b[0mnp\u001b[0m\u001b[0;34m.\u001b[0m\u001b[0marray\u001b[0m\u001b[0;34m(\u001b[0m\u001b[0;34m[\u001b[0m\u001b[0mchem\u001b[0m\u001b[0;34m.\u001b[0m\u001b[0mchromatogram\u001b[0m\u001b[0;34m.\u001b[0m\u001b[0mmax_rt\u001b[0m \u001b[0;32mfor\u001b[0m \u001b[0mchem\u001b[0m \u001b[0;32min\u001b[0m \u001b[0mself\u001b[0m\u001b[0;34m.\u001b[0m\u001b[0mchemicals\u001b[0m\u001b[0;34m]\u001b[0m\u001b[0;34m)\u001b[0m \u001b[0;34m+\u001b[0m \u001b[0mchem_rts\u001b[0m\u001b[0;34m\u001b[0m\u001b[0;34m\u001b[0m\u001b[0m\n",
      "\u001b[0;32m~/git/vimms/vimms/MassSpec.py\u001b[0m in \u001b[0;36m<listcomp>\u001b[0;34m(.0)\u001b[0m\n\u001b[1;32m    262\u001b[0m \u001b[0;34m\u001b[0m\u001b[0m\n\u001b[1;32m    263\u001b[0m         \u001b[0;31m# stores the chromatograms start and end rt for quick retrieval\u001b[0m\u001b[0;34m\u001b[0m\u001b[0;34m\u001b[0m\u001b[0;34m\u001b[0m\u001b[0m\n\u001b[0;32m--> 264\u001b[0;31m         \u001b[0mchem_rts\u001b[0m \u001b[0;34m=\u001b[0m \u001b[0mnp\u001b[0m\u001b[0;34m.\u001b[0m\u001b[0marray\u001b[0m\u001b[0;34m(\u001b[0m\u001b[0;34m[\u001b[0m\u001b[0mchem\u001b[0m\u001b[0;34m.\u001b[0m\u001b[0mrt\u001b[0m \u001b[0;32mfor\u001b[0m \u001b[0mchem\u001b[0m \u001b[0;32min\u001b[0m \u001b[0mself\u001b[0m\u001b[0;34m.\u001b[0m\u001b[0mchemicals\u001b[0m\u001b[0;34m]\u001b[0m\u001b[0;34m)\u001b[0m\u001b[0;34m\u001b[0m\u001b[0;34m\u001b[0m\u001b[0m\n\u001b[0m\u001b[1;32m    265\u001b[0m         \u001b[0mself\u001b[0m\u001b[0;34m.\u001b[0m\u001b[0mchrom_min_rts\u001b[0m \u001b[0;34m=\u001b[0m \u001b[0mnp\u001b[0m\u001b[0;34m.\u001b[0m\u001b[0marray\u001b[0m\u001b[0;34m(\u001b[0m\u001b[0;34m[\u001b[0m\u001b[0mchem\u001b[0m\u001b[0;34m.\u001b[0m\u001b[0mchromatogram\u001b[0m\u001b[0;34m.\u001b[0m\u001b[0mmin_rt\u001b[0m \u001b[0;32mfor\u001b[0m \u001b[0mchem\u001b[0m \u001b[0;32min\u001b[0m \u001b[0mself\u001b[0m\u001b[0;34m.\u001b[0m\u001b[0mchemicals\u001b[0m\u001b[0;34m]\u001b[0m\u001b[0;34m)\u001b[0m \u001b[0;34m+\u001b[0m \u001b[0mchem_rts\u001b[0m\u001b[0;34m\u001b[0m\u001b[0;34m\u001b[0m\u001b[0m\n\u001b[1;32m    266\u001b[0m         \u001b[0mself\u001b[0m\u001b[0;34m.\u001b[0m\u001b[0mchrom_max_rts\u001b[0m \u001b[0;34m=\u001b[0m \u001b[0mnp\u001b[0m\u001b[0;34m.\u001b[0m\u001b[0marray\u001b[0m\u001b[0;34m(\u001b[0m\u001b[0;34m[\u001b[0m\u001b[0mchem\u001b[0m\u001b[0;34m.\u001b[0m\u001b[0mchromatogram\u001b[0m\u001b[0;34m.\u001b[0m\u001b[0mmax_rt\u001b[0m \u001b[0;32mfor\u001b[0m \u001b[0mchem\u001b[0m \u001b[0;32min\u001b[0m \u001b[0mself\u001b[0m\u001b[0;34m.\u001b[0m\u001b[0mchemicals\u001b[0m\u001b[0;34m]\u001b[0m\u001b[0;34m)\u001b[0m \u001b[0;34m+\u001b[0m \u001b[0mchem_rts\u001b[0m\u001b[0;34m\u001b[0m\u001b[0;34m\u001b[0m\u001b[0m\n",
      "\u001b[0;31mKeyboardInterrupt\u001b[0m: "
     ]
    }
   ],
   "source": [
    "print(len(boxes)) # initial number\n",
    "for rep in range(3): # or whatever\n",
    "    controller = OptimalTopNController(ionisation_mode, N, isolation_width,\n",
    "                                   mz_tol, rt_tol, min_ms1_intensity,\n",
    "                                   boxes,score_method = score_method)\n",
    "    mass_spec = IndependentMassSpectrometer(ionisation_mode, TopN_QCB_dataset,\n",
    "                                        ps_frag_QCB,\n",
    "                                        add_noise=True,\n",
    "                                       scan_duration_dict=roi_time_dict)\n",
    "    env = Environment(mass_spec, controller, min_rt, max_rt, progress_bar=True)\n",
    "    env.run()\n",
    "    out_file = 'optimal_{}_qcb_{}.mzml'.format(score_method,rep)\n",
    "    env.write_mzML(test_path,out_file)\n",
    "    print(len(boxes))"
   ]
  },
  {
   "cell_type": "code",
   "execution_count": null,
   "metadata": {},
   "outputs": [],
   "source": []
  }
 ],
 "metadata": {
  "kernelspec": {
   "display_name": "Python 3",
   "language": "python",
   "name": "python3"
  },
  "language_info": {
   "codemirror_mode": {
    "name": "ipython",
    "version": 3
   },
   "file_extension": ".py",
   "mimetype": "text/x-python",
   "name": "python",
   "nbconvert_exporter": "python",
   "pygments_lexer": "ipython3",
   "version": "3.6.9"
  }
 },
 "nbformat": 4,
 "nbformat_minor": 4
}
