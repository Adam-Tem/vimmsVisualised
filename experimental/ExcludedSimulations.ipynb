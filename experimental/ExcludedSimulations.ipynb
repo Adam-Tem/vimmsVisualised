{
 "cells": [
  {
   "cell_type": "markdown",
   "metadata": {},
   "source": [
    "# Exclusion\n",
    "\n"
   ]
  },
  {
   "cell_type": "code",
   "execution_count": 1,
   "metadata": {},
   "outputs": [],
   "source": [
    "%load_ext autoreload\n",
    "%autoreload 2"
   ]
  },
  {
   "cell_type": "code",
   "execution_count": 2,
   "metadata": {},
   "outputs": [],
   "source": [
    "import xml.etree.ElementTree\n",
    "import os,glob,sys\n",
    "import numpy as np\n",
    "import pandas as pd\n",
    "import seaborn as sns"
   ]
  },
  {
   "cell_type": "code",
   "execution_count": 3,
   "metadata": {},
   "outputs": [],
   "source": [
    "sys.path.append('C:\\\\Users\\\\Vinny\\\\work\\\\vimms')\n",
    "sys.path.append('C:\\\\Users\\\\Vinny\\\\work\\\\pymzmine')\n",
    "\n",
    "sys.path.append('/Users/simon/git/vimms')\n",
    "sys.path.append('/Users/simon/git/pymzm')\n",
    "\n",
    "sys.path.append('/home/simon/git/vimms')\n",
    "sys.path.append('/home/simon/git/pymzm')\n"
   ]
  },
  {
   "cell_type": "code",
   "execution_count": 4,
   "metadata": {},
   "outputs": [],
   "source": [
    "from vimms.PythonMzmine import *\n",
    "from vimms.MassSpec import IndependentMassSpectrometer\n",
    "from vimms.Controller import TopNController,ExcludingTopNController\n",
    "from vimms.PythonMzmine import *"
   ]
  },
  {
   "cell_type": "code",
   "execution_count": 5,
   "metadata": {},
   "outputs": [],
   "source": [
    "from vimms.Roi import make_roi, RoiToChemicalCreator\n",
    "from vimms.BOMAS import *\n",
    "from vimms.Common import *\n",
    "from vimms.Environment import *\n",
    "from pathlib import Path\n",
    "from vimms.PlotsForPaper import get_frag_events"
   ]
  },
  {
   "cell_type": "code",
   "execution_count": 6,
   "metadata": {},
   "outputs": [],
   "source": [
    "from vimms.DataGenerator import extract_hmdb_metabolite, get_data_source, get_spectral_feature_database"
   ]
  },
  {
   "cell_type": "code",
   "execution_count": 7,
   "metadata": {},
   "outputs": [],
   "source": [
    "set_log_level_warning()"
   ]
  },
  {
   "cell_type": "markdown",
   "metadata": {},
   "source": [
    "# Test on Simulator (with same settings as MS)"
   ]
  },
  {
   "cell_type": "code",
   "execution_count": 8,
   "metadata": {},
   "outputs": [],
   "source": [
    "base_dir = os.path.abspath('/Users/simon/University of Glasgow/Vinny Davies - CLDS Metabolomics Project/Trained Models')\n",
    "base_dir = os.path.abspath('/Users/simon/University of Glasgow/Vinny Davies - CLDS Metabolomics Project/TopN_vs_ROI/QCB/simulator_input')\n",
    "ps_frag_QCB = load_obj(Path(base_dir, 'peak_sampler_mz_rt_int_beerqcb_fragmentation.p'))"
   ]
  },
  {
   "cell_type": "code",
   "execution_count": 9,
   "metadata": {},
   "outputs": [],
   "source": [
    "QCB_MZML2CHEMS_DICT = {'min_ms1_intensity': 0,\n",
    "                  'mz_tol': 5,\n",
    "                  'mz_units':'ppm',\n",
    "                  'min_length':1,\n",
    "                  'min_intensity':0,\n",
    "                  'start_rt':0,\n",
    "                  'stop_rt':1560}"
   ]
  },
  {
   "cell_type": "code",
   "execution_count": 10,
   "metadata": {},
   "outputs": [],
   "source": [
    "seed_mzml_file = '/Users/simon/University of Glasgow/Vinny Davies - CLDS Metabolomics Project/Experimental_Results/20200715_TopN_vs_ROI/from_controllers/QCB/TopN_QCB.mzML'\n",
    "# TopN_QCB_dataset = mzml2chems(seed_mzml_file, ps_frag_QCB, QCB_MZML2CHEMS_DICT, n_peaks=None)"
   ]
  },
  {
   "cell_type": "code",
   "execution_count": 11,
   "metadata": {},
   "outputs": [],
   "source": [
    "# save_obj(TopN_QCB_dataset, '/Users/simon/University of Glasgow/Vinny Davies - CLDS Metabolomics Project/Experimental_Results/20200715_TopN_vs_ROI/from_controllers/QCB/TopN_QCB.p')"
   ]
  },
  {
   "cell_type": "code",
   "execution_count": null,
   "metadata": {},
   "outputs": [],
   "source": [
    "# TopN_QCB_dataset = load_obj('/Users/simon/OneDrive - University of Glasgow/CLDS Metabolomics Project/TopNvsTopNroi/QCB/SimulatorTests/TopN_QCB_dataset.mzml')\n",
    "# TopN_QCB_dataset = load_obj(Path(base_dir,'TopN_QCB_dataset.mzml'))\n",
    "TopN_QCB_dataset = load_obj(Path(base_dir,'/Users/simon/University of Glasgow/Vinny Davies - CLDS Metabolomics Project/Experimental_Results/20200715_TopN_vs_ROI/from_controllers/QCB/Fullscan_QCB.p'))"
   ]
  },
  {
   "cell_type": "code",
   "execution_count": null,
   "metadata": {},
   "outputs": [],
   "source": []
  },
  {
   "cell_type": "code",
   "execution_count": null,
   "metadata": {},
   "outputs": [],
   "source": []
  },
  {
   "cell_type": "markdown",
   "metadata": {},
   "source": [
    "## Set some parameters that are constant for all simulations"
   ]
  },
  {
   "cell_type": "code",
   "execution_count": 12,
   "metadata": {},
   "outputs": [],
   "source": [
    "\n",
    "min_rt = 0\n",
    "max_rt = 26*60 # entire run\n",
    "min_ms1_intensity = 5000\n",
    "mz_tol = 10\n",
    "rt_tol = 15\n",
    "N = 10\n",
    "\n",
    "\n",
    "# these are derived from real data (see bottom of notebook)\n",
    "# roi_time_dict = {1: 0.71,2:0.20}\n",
    "topn_time_dict = {1: 0.60,2:0.20}\n",
    "\n",
    "\n",
    "ionisation_mode = POSITIVE\n",
    "isolation_width = 1\n",
    "\n",
    "test_path = '/Users/simon/git/vimms/experimental/simon_res/'\n",
    "# min_roi_intensity = 500\n",
    "# min_roi_length = 3 # still in scans, as to work in seconds, need to pass parameter. But doesn't matter when parameter below is equal to 1!\n",
    "# min_roi_length_for_fragmentation = 1\n",
    "\n"
   ]
  },
  {
   "cell_type": "code",
   "execution_count": 13,
   "metadata": {},
   "outputs": [],
   "source": [
    "from vimms.MassSpec import IndependentMassSpectrometer"
   ]
  },
  {
   "cell_type": "markdown",
   "metadata": {},
   "source": [
    "### Top N"
   ]
  },
  {
   "cell_type": "code",
   "execution_count": 14,
   "metadata": {},
   "outputs": [
    {
     "name": "stderr",
     "output_type": "stream",
     "text": [
      "(1560.000s) ms_level=1 N=10 DEW=15: 100%|█████████▉| 1559.400000000148/1560 [01:45<00:00, 14.82it/s] \n"
     ]
    }
   ],
   "source": [
    "controller = TopNController(ionisation_mode, N, isolation_width, mz_tol, rt_tol, min_ms1_intensity)\n",
    "\n",
    "mass_spec = IndependentMassSpectrometer(ionisation_mode, TopN_QCB_dataset,\n",
    "                                        ps_frag_QCB, add_noise=True,\n",
    "                                       scan_duration_dict = topn_time_dict)\n",
    "\n",
    "env = Environment(mass_spec, controller, min_rt, max_rt, progress_bar=True)\n",
    "env.run()\n",
    "\n",
    "# test_path = '/Users/simon/git/vimms/experimental/simon_res/'\n",
    "env.write_mzML(test_path, 'topN.mzml')"
   ]
  },
  {
   "cell_type": "markdown",
   "metadata": {},
   "source": [
    "## Excluded"
   ]
  },
  {
   "cell_type": "code",
   "execution_count": 60,
   "metadata": {},
   "outputs": [],
   "source": [
    "t0_vals = [1,3,5,10,15,30,60]\n",
    "t0_vals = [1,3,10,15,30,60]\n",
    "rt_tol_vals = [15,30,60,120,240,300,360]\n",
    "rt_tol_vals = [15,60,120,240,360,3600]"
   ]
  },
  {
   "cell_type": "code",
   "execution_count": null,
   "metadata": {},
   "outputs": [
    {
     "name": "stdout",
     "output_type": "stream",
     "text": [
      "1 15\n",
      "Already done\n",
      "1 60\n",
      "Already done\n",
      "1 120\n"
     ]
    },
    {
     "name": "stderr",
     "output_type": "stream",
     "text": [
      "(1377.000s) ms_level=2 N=10 DEW=120:  88%|████████▊ | 1377.0000000001294/1560 [01:28<00:11, 15.70it/s]"
     ]
    }
   ],
   "source": [
    "for t0 in t0_vals:\n",
    "    for r in rt_tol_vals:\n",
    "        if t0 > r:\n",
    "            # impossible combination\n",
    "            continue\n",
    "        print(t0,r)\n",
    "        out_name = 'exlude_log_{}_{}.mzml'.format(t0,r)\n",
    "\n",
    "        if os.path.isfile(os.path.join(test_path,out_name)):\n",
    "            print(\"Already done\")\n",
    "            continue\n",
    "        \n",
    "        # ROI can also be fragmented again if intensity falls to <1% of the max *since* last fragmentation\n",
    "        from vimms.Controller import TopN_SmartRoiController\n",
    "        controller = ExcludingTopNController(ionisation_mode, N, isolation_width, mz_tol, \n",
    "                                            r,min_ms1_intensity, exclusion_t_0 = t0, log_intensity = True)\n",
    "\n",
    "        mass_spec = IndependentMassSpectrometer(ionisation_mode, TopN_QCB_dataset,\n",
    "                                                ps_frag_QCB,\n",
    "                                                add_noise=True,\n",
    "                                               scan_duration_dict=topn_time_dict)\n",
    "\n",
    "        env = Environment(mass_spec, controller, min_rt, max_rt, progress_bar=True)\n",
    "        env.run()\n",
    "        \n",
    "        env.write_mzML(test_path, out_name)"
   ]
  },
  {
   "cell_type": "markdown",
   "metadata": {},
   "source": [
    "## ROI-based scoring\n",
    "\n",
    "- Make the ROIs in the data\n",
    "- Count how many have fragmentations in them"
   ]
  },
  {
   "cell_type": "code",
   "execution_count": null,
   "metadata": {},
   "outputs": [],
   "source": [
    "from vimms.Roi import make_roi"
   ]
  },
  {
   "cell_type": "code",
   "execution_count": null,
   "metadata": {},
   "outputs": [],
   "source": [
    "topn_file = os.path.join(test_path, 'topN.mzml')\n",
    "roi_file = os.path.join(test_path,'ROI.mzml')\n",
    "smart_file = os.path.join(test_path,'SMART.mzml')"
   ]
  },
  {
   "cell_type": "code",
   "execution_count": null,
   "metadata": {},
   "outputs": [],
   "source": [
    "good_topn,junk_topn = make_roi(topn_file,mz_tol = mz_tol,mz_units = 'ppm',min_length = min_roi_length,min_intensity = min_roi_intensity)"
   ]
  },
  {
   "cell_type": "code",
   "execution_count": null,
   "metadata": {},
   "outputs": [],
   "source": [
    "good_roi,junk_roi = make_roi(roi_file,mz_tol = mz_tol,mz_units = 'ppm',min_length = min_roi_length,min_intensity = min_roi_intensity)"
   ]
  },
  {
   "cell_type": "code",
   "execution_count": null,
   "metadata": {},
   "outputs": [],
   "source": [
    "good_smart,junk_smart = make_roi(smart_file,mz_tol = mz_tol,mz_units = 'ppm',min_length = min_roi_length,min_intensity = min_roi_intensity)"
   ]
  },
  {
   "cell_type": "code",
   "execution_count": null,
   "metadata": {},
   "outputs": [],
   "source": [
    "sys.path.append('/Users/simon/git/pymzm')\n",
    "from ms2_matching import MZMLFile\n",
    "topn_mz_file = MZMLFile(topn_file)\n",
    "roi_mz_file = MZMLFile(roi_file)\n",
    "smart_mz_file = MZMLFile(smart_file)"
   ]
  },
  {
   "cell_type": "code",
   "execution_count": null,
   "metadata": {},
   "outputs": [],
   "source": [
    "\n",
    "def summarise(mz_file_object):\n",
    "    n_scans = len(mz_file_object.scans)\n",
    "    n_ms1_scans = len(list(filter(lambda x: x.ms_level == 1,mz_file_object.scans)))\n",
    "    n_ms2_scans = len(list(filter(lambda x: x.ms_level == 2,mz_file_object.scans)))\n",
    "    print(\"Total scans = {}, MS1 = {}, MS2 = {}\".format(n_scans,n_ms1_scans,n_ms2_scans))\n",
    "print(\"TopN:\")\n",
    "summarise(topn_mz_file)\n",
    "print(\"ROI:\")\n",
    "summarise(roi_mz_file)\n",
    "print(\"SMART:\")\n",
    "summarise(smart_mz_file)\n",
    "\n"
   ]
  },
  {
   "cell_type": "code",
   "execution_count": null,
   "metadata": {},
   "outputs": [],
   "source": [
    "# This method is very slow.... :-)\n",
    "\n",
    "def match_scans_to_rois(mz_file_object,roi_list):\n",
    "    roi2scan = {roi:[] for roi in roi_list}\n",
    "    scan2roi = {scan:[] for scan in filter(lambda x: x.ms_level == 2,mz_file_object.scans)}\n",
    "    for scan in mz_file_object.scans:\n",
    "        if scan.ms_level == 2:\n",
    "            pmz = scan.precursor_mz\n",
    "            scan_rt_in_seconds = 60*scan.previous_ms1.rt_in_minutes\n",
    "            in_mz_range = list(filter(lambda x: min(x.mz_list) <= pmz and max(x.mz_list) >= pmz,roi_list))\n",
    "            in_rt_range = list(filter(lambda x: x.rt_list[0]<= scan_rt_in_seconds and x.rt_list[-1] >= scan_rt_in_seconds,in_mz_range))\n",
    "            for roi in in_rt_range:\n",
    "                roi2scan[roi].append(scan)\n",
    "                scan2roi[scan].append(roi)\n",
    "    return roi2scan,scan2roi\n",
    "\n"
   ]
  },
  {
   "cell_type": "code",
   "execution_count": null,
   "metadata": {},
   "outputs": [],
   "source": [
    "roi_roi2scan,roi_scan2roi = match_scans_to_rois(roi_mz_file,good_roi)"
   ]
  },
  {
   "cell_type": "code",
   "execution_count": null,
   "metadata": {},
   "outputs": [],
   "source": [
    "topn_roi2scan,topn_scan2roi = match_scans_to_rois(topn_mz_file,good_topn)"
   ]
  },
  {
   "cell_type": "code",
   "execution_count": null,
   "metadata": {},
   "outputs": [],
   "source": [
    "smart_roi2scan,smart_scan2roi = match_scans_to_rois(smart_mz_file,good_smart)"
   ]
  },
  {
   "cell_type": "code",
   "execution_count": null,
   "metadata": {},
   "outputs": [],
   "source": [
    "# compute proportion of ROIs that have scans for each\n",
    "def prop_roi_with_scans(roi2scan):\n",
    "    with_scan = 0\n",
    "    without_scan = 0\n",
    "    for r,scans in roi2scan.items():\n",
    "        if len(scans) == 0:\n",
    "            without_scan += 1\n",
    "        else:\n",
    "            with_scan += 1\n",
    "    return with_scan,without_scan,len(roi2scan)"
   ]
  },
  {
   "cell_type": "code",
   "execution_count": null,
   "metadata": {},
   "outputs": [],
   "source": [
    "print(\"ROI: \",prop_roi_with_scans(roi_roi2scan))\n",
    "print(\"topN: \",prop_roi_with_scans(topn_roi2scan))\n",
    "print(\"SMART: \",prop_roi_with_scans(smart_roi2scan))"
   ]
  },
  {
   "cell_type": "code",
   "execution_count": null,
   "metadata": {},
   "outputs": [],
   "source": []
  },
  {
   "cell_type": "markdown",
   "metadata": {},
   "source": [
    "# Test with the picked peaks\n",
    "\n",
    "- This code uses a method called `load_picked_boxes` and one called `map_boxes_to_scans` from my pymzm repository (in `ms2_matching.py`)\n",
    "- Load picked boxes loads the peak *boxes* from the output of mzmine (i.e. min/max mz, min/max rt)\n",
    "- Map boxes to scans takes an MZMLFile object (also from the pymzm repo) and maps the ms2 scans to the boxes (and vice versa). Note that this method was originally designed to map scans to any box they overlap with (i.e. any box where the precursor plus or minus isolation intersected the box). This can be *switched off* by setting the isolation with to zero. Now, it will only find things where the precursor mz is in the box (and RT is ok, obviously)\n",
    "- We can then simply see how many of the boxes are associated with scans and this tells us how many picked peaks have scans"
   ]
  },
  {
   "cell_type": "code",
   "execution_count": 17,
   "metadata": {},
   "outputs": [
    {
     "name": "stdout",
     "output_type": "stream",
     "text": [
      "/Users/simon/git/vimms/experimental/simon_res/\n"
     ]
    }
   ],
   "source": []
  },
  {
   "cell_type": "code",
   "execution_count": 18,
   "metadata": {},
   "outputs": [],
   "source": [
    "# test with picked peaks\n",
    "# from ms2_matching import MZMLFile\n",
    "\n",
    "# Big differences between the following two files!\n",
    "# perhaps an alignment thing...\n",
    "# peak_csv_file = os.path.join(qcb_dir,'from_controller_TopN_QCB_pp.csv')\n",
    "# peak_csv_file = os.path.join(qcb_dir,'QCB_22May19_1_pp.csv') \n",
    "peak_csv_file = os.path.join(test_path,'QCB','qcb_pp_wide.csv')\n",
    "peak_csv_file = '/Users/simon/University of Glasgow/Vinny Davies - CLDS Metabolomics Project/Experimental_Results/20200715_TopN_vs_ROI/from_controllers/QCB/TopN_QCB_box.csv'\n",
    "\n",
    "from ms2_matching import load_picked_boxes,map_boxes_to_scans\n",
    "boxes = load_picked_boxes(peak_csv_file)"
   ]
  },
  {
   "cell_type": "code",
   "execution_count": 37,
   "metadata": {
    "scrolled": true
   },
   "outputs": [
    {
     "name": "stdout",
     "output_type": "stream",
     "text": [
      "1 15\n",
      "Loaded 6428 scans\n",
      "[[860.   0.   0.   0.   0.   0.   0.]\n",
      " [  0.   0.   0.   0.   0.   0.   0.]\n",
      " [  0.   0.   0.   0.   0.   0.   0.]\n",
      " [  0.   0.   0.   0.   0.   0.   0.]\n",
      " [  0.   0.   0.   0.   0.   0.   0.]\n",
      " [  0.   0.   0.   0.   0.   0.   0.]\n",
      " [  0.   0.   0.   0.   0.   0.   0.]]\n",
      "1 30\n",
      "Loaded 6439 scans\n",
      "[[ 860. 1111.    0.    0.    0.    0.    0.]\n",
      " [   0.    0.    0.    0.    0.    0.    0.]\n",
      " [   0.    0.    0.    0.    0.    0.    0.]\n",
      " [   0.    0.    0.    0.    0.    0.    0.]\n",
      " [   0.    0.    0.    0.    0.    0.    0.]\n",
      " [   0.    0.    0.    0.    0.    0.    0.]\n",
      " [   0.    0.    0.    0.    0.    0.    0.]]\n",
      "1 60\n",
      "Loaded 6443 scans\n",
      "[[ 860. 1111. 1355.    0.    0.    0.    0.]\n",
      " [   0.    0.    0.    0.    0.    0.    0.]\n",
      " [   0.    0.    0.    0.    0.    0.    0.]\n",
      " [   0.    0.    0.    0.    0.    0.    0.]\n",
      " [   0.    0.    0.    0.    0.    0.    0.]\n",
      " [   0.    0.    0.    0.    0.    0.    0.]\n",
      " [   0.    0.    0.    0.    0.    0.    0.]]\n",
      "1 120\n",
      "Loaded 6446 scans\n",
      "[[ 860. 1111. 1355. 1585.    0.    0.    0.]\n",
      " [   0.    0.    0.    0.    0.    0.    0.]\n",
      " [   0.    0.    0.    0.    0.    0.    0.]\n",
      " [   0.    0.    0.    0.    0.    0.    0.]\n",
      " [   0.    0.    0.    0.    0.    0.    0.]\n",
      " [   0.    0.    0.    0.    0.    0.    0.]\n",
      " [   0.    0.    0.    0.    0.    0.    0.]]\n",
      "1 240\n",
      "Loaded 6433 scans\n",
      "[[ 860. 1111. 1355. 1585. 1691.    0.    0.]\n",
      " [   0.    0.    0.    0.    0.    0.    0.]\n",
      " [   0.    0.    0.    0.    0.    0.    0.]\n",
      " [   0.    0.    0.    0.    0.    0.    0.]\n",
      " [   0.    0.    0.    0.    0.    0.    0.]\n",
      " [   0.    0.    0.    0.    0.    0.    0.]\n",
      " [   0.    0.    0.    0.    0.    0.    0.]]\n",
      "1 300\n",
      "Loaded 6431 scans\n",
      "[[ 860. 1111. 1355. 1585. 1691. 1738.    0.]\n",
      " [   0.    0.    0.    0.    0.    0.    0.]\n",
      " [   0.    0.    0.    0.    0.    0.    0.]\n",
      " [   0.    0.    0.    0.    0.    0.    0.]\n",
      " [   0.    0.    0.    0.    0.    0.    0.]\n",
      " [   0.    0.    0.    0.    0.    0.    0.]\n",
      " [   0.    0.    0.    0.    0.    0.    0.]]\n",
      "1 360\n",
      "Loaded 6427 scans\n",
      "[[ 860. 1111. 1355. 1585. 1691. 1738. 1760.]\n",
      " [   0.    0.    0.    0.    0.    0.    0.]\n",
      " [   0.    0.    0.    0.    0.    0.    0.]\n",
      " [   0.    0.    0.    0.    0.    0.    0.]\n",
      " [   0.    0.    0.    0.    0.    0.    0.]\n",
      " [   0.    0.    0.    0.    0.    0.    0.]\n",
      " [   0.    0.    0.    0.    0.    0.    0.]]\n",
      "3 15\n",
      "Loaded 6446 scans\n",
      "[[ 860. 1111. 1355. 1585. 1691. 1738. 1760.]\n",
      " [ 960.    0.    0.    0.    0.    0.    0.]\n",
      " [   0.    0.    0.    0.    0.    0.    0.]\n",
      " [   0.    0.    0.    0.    0.    0.    0.]\n",
      " [   0.    0.    0.    0.    0.    0.    0.]\n",
      " [   0.    0.    0.    0.    0.    0.    0.]\n",
      " [   0.    0.    0.    0.    0.    0.    0.]]\n",
      "3 30\n",
      "Loaded 6440 scans\n",
      "[[ 860. 1111. 1355. 1585. 1691. 1738. 1760.]\n",
      " [ 960. 1195.    0.    0.    0.    0.    0.]\n",
      " [   0.    0.    0.    0.    0.    0.    0.]\n",
      " [   0.    0.    0.    0.    0.    0.    0.]\n",
      " [   0.    0.    0.    0.    0.    0.    0.]\n",
      " [   0.    0.    0.    0.    0.    0.    0.]\n",
      " [   0.    0.    0.    0.    0.    0.    0.]]\n",
      "3 60\n",
      "Loaded 6441 scans\n",
      "[[ 860. 1111. 1355. 1585. 1691. 1738. 1760.]\n",
      " [ 960. 1195. 1446.    0.    0.    0.    0.]\n",
      " [   0.    0.    0.    0.    0.    0.    0.]\n",
      " [   0.    0.    0.    0.    0.    0.    0.]\n",
      " [   0.    0.    0.    0.    0.    0.    0.]\n",
      " [   0.    0.    0.    0.    0.    0.    0.]\n",
      " [   0.    0.    0.    0.    0.    0.    0.]]\n",
      "3 120\n",
      "Loaded 6436 scans\n",
      "[[ 860. 1111. 1355. 1585. 1691. 1738. 1760.]\n",
      " [ 960. 1195. 1446. 1631.    0.    0.    0.]\n",
      " [   0.    0.    0.    0.    0.    0.    0.]\n",
      " [   0.    0.    0.    0.    0.    0.    0.]\n",
      " [   0.    0.    0.    0.    0.    0.    0.]\n",
      " [   0.    0.    0.    0.    0.    0.    0.]\n",
      " [   0.    0.    0.    0.    0.    0.    0.]]\n",
      "3 240\n",
      "Loaded 6429 scans\n",
      "[[ 860. 1111. 1355. 1585. 1691. 1738. 1760.]\n",
      " [ 960. 1195. 1446. 1631. 1744.    0.    0.]\n",
      " [   0.    0.    0.    0.    0.    0.    0.]\n",
      " [   0.    0.    0.    0.    0.    0.    0.]\n",
      " [   0.    0.    0.    0.    0.    0.    0.]\n",
      " [   0.    0.    0.    0.    0.    0.    0.]\n",
      " [   0.    0.    0.    0.    0.    0.    0.]]\n",
      "3 300\n",
      "Loaded 6435 scans\n",
      "[[ 860. 1111. 1355. 1585. 1691. 1738. 1760.]\n",
      " [ 960. 1195. 1446. 1631. 1744. 1778.    0.]\n",
      " [   0.    0.    0.    0.    0.    0.    0.]\n",
      " [   0.    0.    0.    0.    0.    0.    0.]\n",
      " [   0.    0.    0.    0.    0.    0.    0.]\n",
      " [   0.    0.    0.    0.    0.    0.    0.]\n",
      " [   0.    0.    0.    0.    0.    0.    0.]]\n",
      "3 360\n",
      "Loaded 6434 scans\n",
      "[[ 860. 1111. 1355. 1585. 1691. 1738. 1760.]\n",
      " [ 960. 1195. 1446. 1631. 1744. 1778. 1775.]\n",
      " [   0.    0.    0.    0.    0.    0.    0.]\n",
      " [   0.    0.    0.    0.    0.    0.    0.]\n",
      " [   0.    0.    0.    0.    0.    0.    0.]\n",
      " [   0.    0.    0.    0.    0.    0.    0.]\n",
      " [   0.    0.    0.    0.    0.    0.    0.]]\n",
      "5 15\n",
      "Loaded 6449 scans\n",
      "[[ 860. 1111. 1355. 1585. 1691. 1738. 1760.]\n",
      " [ 960. 1195. 1446. 1631. 1744. 1778. 1775.]\n",
      " [1040.    0.    0.    0.    0.    0.    0.]\n",
      " [   0.    0.    0.    0.    0.    0.    0.]\n",
      " [   0.    0.    0.    0.    0.    0.    0.]\n",
      " [   0.    0.    0.    0.    0.    0.    0.]\n",
      " [   0.    0.    0.    0.    0.    0.    0.]]\n",
      "5 30\n",
      "Loaded 6435 scans\n",
      "[[ 860. 1111. 1355. 1585. 1691. 1738. 1760.]\n",
      " [ 960. 1195. 1446. 1631. 1744. 1778. 1775.]\n",
      " [1040. 1260.    0.    0.    0.    0.    0.]\n",
      " [   0.    0.    0.    0.    0.    0.    0.]\n",
      " [   0.    0.    0.    0.    0.    0.    0.]\n",
      " [   0.    0.    0.    0.    0.    0.    0.]\n",
      " [   0.    0.    0.    0.    0.    0.    0.]]\n",
      "5 60\n",
      "Loaded 6450 scans\n",
      "[[ 860. 1111. 1355. 1585. 1691. 1738. 1760.]\n",
      " [ 960. 1195. 1446. 1631. 1744. 1778. 1775.]\n",
      " [1040. 1260. 1497.    0.    0.    0.    0.]\n",
      " [   0.    0.    0.    0.    0.    0.    0.]\n",
      " [   0.    0.    0.    0.    0.    0.    0.]\n",
      " [   0.    0.    0.    0.    0.    0.    0.]\n",
      " [   0.    0.    0.    0.    0.    0.    0.]]\n",
      "5 120\n",
      "Loaded 6443 scans\n",
      "[[ 860. 1111. 1355. 1585. 1691. 1738. 1760.]\n",
      " [ 960. 1195. 1446. 1631. 1744. 1778. 1775.]\n",
      " [1040. 1260. 1497. 1656.    0.    0.    0.]\n",
      " [   0.    0.    0.    0.    0.    0.    0.]\n",
      " [   0.    0.    0.    0.    0.    0.    0.]\n",
      " [   0.    0.    0.    0.    0.    0.    0.]\n",
      " [   0.    0.    0.    0.    0.    0.    0.]]\n",
      "5 240\n",
      "Loaded 6444 scans\n",
      "[[ 860. 1111. 1355. 1585. 1691. 1738. 1760.]\n",
      " [ 960. 1195. 1446. 1631. 1744. 1778. 1775.]\n",
      " [1040. 1260. 1497. 1656. 1758.    0.    0.]\n",
      " [   0.    0.    0.    0.    0.    0.    0.]\n",
      " [   0.    0.    0.    0.    0.    0.    0.]\n",
      " [   0.    0.    0.    0.    0.    0.    0.]\n",
      " [   0.    0.    0.    0.    0.    0.    0.]]\n",
      "5 300\n",
      "Loaded 6437 scans\n",
      "[[ 860. 1111. 1355. 1585. 1691. 1738. 1760.]\n",
      " [ 960. 1195. 1446. 1631. 1744. 1778. 1775.]\n",
      " [1040. 1260. 1497. 1656. 1758. 1789.    0.]\n",
      " [   0.    0.    0.    0.    0.    0.    0.]\n",
      " [   0.    0.    0.    0.    0.    0.    0.]\n",
      " [   0.    0.    0.    0.    0.    0.    0.]\n",
      " [   0.    0.    0.    0.    0.    0.    0.]]\n",
      "5 360\n",
      "Loaded 6442 scans\n",
      "[[ 860. 1111. 1355. 1585. 1691. 1738. 1760.]\n",
      " [ 960. 1195. 1446. 1631. 1744. 1778. 1775.]\n",
      " [1040. 1260. 1497. 1656. 1758. 1789. 1795.]\n",
      " [   0.    0.    0.    0.    0.    0.    0.]\n",
      " [   0.    0.    0.    0.    0.    0.    0.]\n",
      " [   0.    0.    0.    0.    0.    0.    0.]\n",
      " [   0.    0.    0.    0.    0.    0.    0.]]\n",
      "10 15\n",
      "Loaded 6439 scans\n",
      "[[ 860. 1111. 1355. 1585. 1691. 1738. 1760.]\n",
      " [ 960. 1195. 1446. 1631. 1744. 1778. 1775.]\n",
      " [1040. 1260. 1497. 1656. 1758. 1789. 1795.]\n",
      " [1174.    0.    0.    0.    0.    0.    0.]\n",
      " [   0.    0.    0.    0.    0.    0.    0.]\n",
      " [   0.    0.    0.    0.    0.    0.    0.]\n",
      " [   0.    0.    0.    0.    0.    0.    0.]]\n",
      "10 30\n",
      "Loaded 6432 scans\n",
      "[[ 860. 1111. 1355. 1585. 1691. 1738. 1760.]\n",
      " [ 960. 1195. 1446. 1631. 1744. 1778. 1775.]\n",
      " [1040. 1260. 1497. 1656. 1758. 1789. 1795.]\n",
      " [1174. 1395.    0.    0.    0.    0.    0.]\n",
      " [   0.    0.    0.    0.    0.    0.    0.]\n",
      " [   0.    0.    0.    0.    0.    0.    0.]\n",
      " [   0.    0.    0.    0.    0.    0.    0.]]\n",
      "10 60\n",
      "Loaded 6436 scans\n",
      "[[ 860. 1111. 1355. 1585. 1691. 1738. 1760.]\n",
      " [ 960. 1195. 1446. 1631. 1744. 1778. 1775.]\n",
      " [1040. 1260. 1497. 1656. 1758. 1789. 1795.]\n",
      " [1174. 1395. 1593.    0.    0.    0.    0.]\n",
      " [   0.    0.    0.    0.    0.    0.    0.]\n",
      " [   0.    0.    0.    0.    0.    0.    0.]\n",
      " [   0.    0.    0.    0.    0.    0.    0.]]\n",
      "10 120\n",
      "Loaded 6432 scans\n",
      "[[ 860. 1111. 1355. 1585. 1691. 1738. 1760.]\n",
      " [ 960. 1195. 1446. 1631. 1744. 1778. 1775.]\n",
      " [1040. 1260. 1497. 1656. 1758. 1789. 1795.]\n",
      " [1174. 1395. 1593. 1720.    0.    0.    0.]\n",
      " [   0.    0.    0.    0.    0.    0.    0.]\n",
      " [   0.    0.    0.    0.    0.    0.    0.]\n",
      " [   0.    0.    0.    0.    0.    0.    0.]]\n",
      "10 240\n"
     ]
    },
    {
     "name": "stdout",
     "output_type": "stream",
     "text": [
      "Loaded 6443 scans\n",
      "[[ 860. 1111. 1355. 1585. 1691. 1738. 1760.]\n",
      " [ 960. 1195. 1446. 1631. 1744. 1778. 1775.]\n",
      " [1040. 1260. 1497. 1656. 1758. 1789. 1795.]\n",
      " [1174. 1395. 1593. 1720. 1808.    0.    0.]\n",
      " [   0.    0.    0.    0.    0.    0.    0.]\n",
      " [   0.    0.    0.    0.    0.    0.    0.]\n",
      " [   0.    0.    0.    0.    0.    0.    0.]]\n",
      "10 300\n",
      "Loaded 6431 scans\n",
      "[[ 860. 1111. 1355. 1585. 1691. 1738. 1760.]\n",
      " [ 960. 1195. 1446. 1631. 1744. 1778. 1775.]\n",
      " [1040. 1260. 1497. 1656. 1758. 1789. 1795.]\n",
      " [1174. 1395. 1593. 1720. 1808. 1831.    0.]\n",
      " [   0.    0.    0.    0.    0.    0.    0.]\n",
      " [   0.    0.    0.    0.    0.    0.    0.]\n",
      " [   0.    0.    0.    0.    0.    0.    0.]]\n",
      "10 360\n",
      "Loaded 6436 scans\n",
      "[[ 860. 1111. 1355. 1585. 1691. 1738. 1760.]\n",
      " [ 960. 1195. 1446. 1631. 1744. 1778. 1775.]\n",
      " [1040. 1260. 1497. 1656. 1758. 1789. 1795.]\n",
      " [1174. 1395. 1593. 1720. 1808. 1831. 1841.]\n",
      " [   0.    0.    0.    0.    0.    0.    0.]\n",
      " [   0.    0.    0.    0.    0.    0.    0.]\n",
      " [   0.    0.    0.    0.    0.    0.    0.]]\n",
      "15 15\n",
      "Loaded 6300 scans\n",
      "[[ 860. 1111. 1355. 1585. 1691. 1738. 1760.]\n",
      " [ 960. 1195. 1446. 1631. 1744. 1778. 1775.]\n",
      " [1040. 1260. 1497. 1656. 1758. 1789. 1795.]\n",
      " [1174. 1395. 1593. 1720. 1808. 1831. 1841.]\n",
      " [1256.    0.    0.    0.    0.    0.    0.]\n",
      " [   0.    0.    0.    0.    0.    0.    0.]\n",
      " [   0.    0.    0.    0.    0.    0.    0.]]\n",
      "15 30\n",
      "Loaded 6315 scans\n",
      "[[ 860. 1111. 1355. 1585. 1691. 1738. 1760.]\n",
      " [ 960. 1195. 1446. 1631. 1744. 1778. 1775.]\n",
      " [1040. 1260. 1497. 1656. 1758. 1789. 1795.]\n",
      " [1174. 1395. 1593. 1720. 1808. 1831. 1841.]\n",
      " [1256. 1460.    0.    0.    0.    0.    0.]\n",
      " [   0.    0.    0.    0.    0.    0.    0.]\n",
      " [   0.    0.    0.    0.    0.    0.    0.]]\n",
      "15 60\n",
      "Loaded 6319 scans\n",
      "[[ 860. 1111. 1355. 1585. 1691. 1738. 1760.]\n",
      " [ 960. 1195. 1446. 1631. 1744. 1778. 1775.]\n",
      " [1040. 1260. 1497. 1656. 1758. 1789. 1795.]\n",
      " [1174. 1395. 1593. 1720. 1808. 1831. 1841.]\n",
      " [1256. 1460. 1631.    0.    0.    0.    0.]\n",
      " [   0.    0.    0.    0.    0.    0.    0.]\n",
      " [   0.    0.    0.    0.    0.    0.    0.]]\n",
      "15 120\n",
      "Loaded 6311 scans\n",
      "[[ 860. 1111. 1355. 1585. 1691. 1738. 1760.]\n",
      " [ 960. 1195. 1446. 1631. 1744. 1778. 1775.]\n",
      " [1040. 1260. 1497. 1656. 1758. 1789. 1795.]\n",
      " [1174. 1395. 1593. 1720. 1808. 1831. 1841.]\n",
      " [1256. 1460. 1631. 1740.    0.    0.    0.]\n",
      " [   0.    0.    0.    0.    0.    0.    0.]\n",
      " [   0.    0.    0.    0.    0.    0.    0.]]\n",
      "15 240\n",
      "Loaded 6301 scans\n",
      "[[ 860. 1111. 1355. 1585. 1691. 1738. 1760.]\n",
      " [ 960. 1195. 1446. 1631. 1744. 1778. 1775.]\n",
      " [1040. 1260. 1497. 1656. 1758. 1789. 1795.]\n",
      " [1174. 1395. 1593. 1720. 1808. 1831. 1841.]\n",
      " [1256. 1460. 1631. 1740. 1821.    0.    0.]\n",
      " [   0.    0.    0.    0.    0.    0.    0.]\n",
      " [   0.    0.    0.    0.    0.    0.    0.]]\n",
      "15 300\n",
      "Loaded 6299 scans\n",
      "[[ 860. 1111. 1355. 1585. 1691. 1738. 1760.]\n",
      " [ 960. 1195. 1446. 1631. 1744. 1778. 1775.]\n",
      " [1040. 1260. 1497. 1656. 1758. 1789. 1795.]\n",
      " [1174. 1395. 1593. 1720. 1808. 1831. 1841.]\n",
      " [1256. 1460. 1631. 1740. 1821. 1837.    0.]\n",
      " [   0.    0.    0.    0.    0.    0.    0.]\n",
      " [   0.    0.    0.    0.    0.    0.    0.]]\n",
      "15 360\n",
      "Loaded 6301 scans\n",
      "[[ 860. 1111. 1355. 1585. 1691. 1738. 1760.]\n",
      " [ 960. 1195. 1446. 1631. 1744. 1778. 1775.]\n",
      " [1040. 1260. 1497. 1656. 1758. 1789. 1795.]\n",
      " [1174. 1395. 1593. 1720. 1808. 1831. 1841.]\n",
      " [1256. 1460. 1631. 1740. 1821. 1837. 1832.]\n",
      " [   0.    0.    0.    0.    0.    0.    0.]\n",
      " [   0.    0.    0.    0.    0.    0.    0.]]\n",
      "30 15\n",
      "30 30\n",
      "Loaded 5633 scans\n",
      "[[ 860. 1111. 1355. 1585. 1691. 1738. 1760.]\n",
      " [ 960. 1195. 1446. 1631. 1744. 1778. 1775.]\n",
      " [1040. 1260. 1497. 1656. 1758. 1789. 1795.]\n",
      " [1174. 1395. 1593. 1720. 1808. 1831. 1841.]\n",
      " [1256. 1460. 1631. 1740. 1821. 1837. 1832.]\n",
      " [ 860. 1567.    0.    0.    0.    0.    0.]\n",
      " [   0.    0.    0.    0.    0.    0.    0.]]\n",
      "30 60\n",
      "Loaded 5628 scans\n",
      "[[ 860. 1111. 1355. 1585. 1691. 1738. 1760.]\n",
      " [ 960. 1195. 1446. 1631. 1744. 1778. 1775.]\n",
      " [1040. 1260. 1497. 1656. 1758. 1789. 1795.]\n",
      " [1174. 1395. 1593. 1720. 1808. 1831. 1841.]\n",
      " [1256. 1460. 1631. 1740. 1821. 1837. 1832.]\n",
      " [ 860. 1567. 1707.    0.    0.    0.    0.]\n",
      " [   0.    0.    0.    0.    0.    0.    0.]]\n",
      "30 120\n",
      "Loaded 5627 scans\n",
      "[[ 860. 1111. 1355. 1585. 1691. 1738. 1760.]\n",
      " [ 960. 1195. 1446. 1631. 1744. 1778. 1775.]\n",
      " [1040. 1260. 1497. 1656. 1758. 1789. 1795.]\n",
      " [1174. 1395. 1593. 1720. 1808. 1831. 1841.]\n",
      " [1256. 1460. 1631. 1740. 1821. 1837. 1832.]\n",
      " [ 860. 1567. 1707. 1805.    0.    0.    0.]\n",
      " [   0.    0.    0.    0.    0.    0.    0.]]\n",
      "30 240\n",
      "Loaded 5619 scans\n",
      "[[ 860. 1111. 1355. 1585. 1691. 1738. 1760.]\n",
      " [ 960. 1195. 1446. 1631. 1744. 1778. 1775.]\n",
      " [1040. 1260. 1497. 1656. 1758. 1789. 1795.]\n",
      " [1174. 1395. 1593. 1720. 1808. 1831. 1841.]\n",
      " [1256. 1460. 1631. 1740. 1821. 1837. 1832.]\n",
      " [ 860. 1567. 1707. 1805. 1845.    0.    0.]\n",
      " [   0.    0.    0.    0.    0.    0.    0.]]\n",
      "30 300\n",
      "Loaded 5618 scans\n",
      "[[ 860. 1111. 1355. 1585. 1691. 1738. 1760.]\n",
      " [ 960. 1195. 1446. 1631. 1744. 1778. 1775.]\n",
      " [1040. 1260. 1497. 1656. 1758. 1789. 1795.]\n",
      " [1174. 1395. 1593. 1720. 1808. 1831. 1841.]\n",
      " [1256. 1460. 1631. 1740. 1821. 1837. 1832.]\n",
      " [ 860. 1567. 1707. 1805. 1845. 1861.    0.]\n",
      " [   0.    0.    0.    0.    0.    0.    0.]]\n",
      "30 360\n",
      "Loaded 5626 scans\n",
      "[[ 860. 1111. 1355. 1585. 1691. 1738. 1760.]\n",
      " [ 960. 1195. 1446. 1631. 1744. 1778. 1775.]\n",
      " [1040. 1260. 1497. 1656. 1758. 1789. 1795.]\n",
      " [1174. 1395. 1593. 1720. 1808. 1831. 1841.]\n",
      " [1256. 1460. 1631. 1740. 1821. 1837. 1832.]\n",
      " [ 860. 1567. 1707. 1805. 1845. 1861. 1865.]\n",
      " [   0.    0.    0.    0.    0.    0.    0.]]\n",
      "60 15\n",
      "60 30\n",
      "60 60\n",
      "Loaded 4996 scans\n",
      "[[ 860. 1111. 1355. 1585. 1691. 1738. 1760.]\n",
      " [ 960. 1195. 1446. 1631. 1744. 1778. 1775.]\n",
      " [1040. 1260. 1497. 1656. 1758. 1789. 1795.]\n",
      " [1174. 1395. 1593. 1720. 1808. 1831. 1841.]\n",
      " [1256. 1460. 1631. 1740. 1821. 1837. 1832.]\n",
      " [ 860. 1567. 1707. 1805. 1845. 1861. 1865.]\n",
      " [ 860.  860. 1720.    0.    0.    0.    0.]]\n",
      "60 120\n",
      "Loaded 5006 scans\n",
      "[[ 860. 1111. 1355. 1585. 1691. 1738. 1760.]\n",
      " [ 960. 1195. 1446. 1631. 1744. 1778. 1775.]\n",
      " [1040. 1260. 1497. 1656. 1758. 1789. 1795.]\n",
      " [1174. 1395. 1593. 1720. 1808. 1831. 1841.]\n",
      " [1256. 1460. 1631. 1740. 1821. 1837. 1832.]\n",
      " [ 860. 1567. 1707. 1805. 1845. 1861. 1865.]\n",
      " [ 860.  860. 1720. 1821.    0.    0.    0.]]\n",
      "60 240\n",
      "Loaded 4998 scans\n",
      "[[ 860. 1111. 1355. 1585. 1691. 1738. 1760.]\n",
      " [ 960. 1195. 1446. 1631. 1744. 1778. 1775.]\n",
      " [1040. 1260. 1497. 1656. 1758. 1789. 1795.]\n",
      " [1174. 1395. 1593. 1720. 1808. 1831. 1841.]\n",
      " [1256. 1460. 1631. 1740. 1821. 1837. 1832.]\n",
      " [ 860. 1567. 1707. 1805. 1845. 1861. 1865.]\n",
      " [ 860.  860. 1720. 1821. 1832.    0.    0.]]\n",
      "60 300\n",
      "Loaded 4984 scans\n",
      "[[ 860. 1111. 1355. 1585. 1691. 1738. 1760.]\n",
      " [ 960. 1195. 1446. 1631. 1744. 1778. 1775.]\n",
      " [1040. 1260. 1497. 1656. 1758. 1789. 1795.]\n",
      " [1174. 1395. 1593. 1720. 1808. 1831. 1841.]\n",
      " [1256. 1460. 1631. 1740. 1821. 1837. 1832.]\n",
      " [ 860. 1567. 1707. 1805. 1845. 1861. 1865.]\n",
      " [ 860.  860. 1720. 1821. 1832. 1831.    0.]]\n",
      "60 360\n",
      "Loaded 4987 scans\n",
      "[[ 860. 1111. 1355. 1585. 1691. 1738. 1760.]\n",
      " [ 960. 1195. 1446. 1631. 1744. 1778. 1775.]\n",
      " [1040. 1260. 1497. 1656. 1758. 1789. 1795.]\n",
      " [1174. 1395. 1593. 1720. 1808. 1831. 1841.]\n",
      " [1256. 1460. 1631. 1740. 1821. 1837. 1832.]\n",
      " [ 860. 1567. 1707. 1805. 1845. 1861. 1865.]\n",
      " [ 860.  860. 1720. 1821. 1832. 1831. 1824.]]\n"
     ]
    }
   ],
   "source": [
    "# dp_values = [0.1,0.5,1,5,20,50]\n",
    "# dp_values = [0.1,0.5]\n",
    "\n",
    "\n",
    "counts = np.zeros((len(t0_vals),len(rt_tol_vals)))\n",
    "for i,t0 in enumerate(t0_vals):\n",
    "    for j,r in enumerate(rt_tol_vals):\n",
    "        print(t0,r)\n",
    "        if t0 > r:\n",
    "            # impossible combination\n",
    "            counts[i,j] = np.nan # fix for colour on boxplot\n",
    "            continue\n",
    "        fname = 'exlude_{}_{}.mzml'.format(t0,r)\n",
    "        mz_file = MZMLFile(os.path.join(test_path,fname))\n",
    "        scans2boxes,boxes2scans = map_boxes_to_scans(mz_file,boxes,half_isolation_window = 0)\n",
    "        counts[i,j] = len(boxes2scans)\n",
    "        print(counts)"
   ]
  },
  {
   "cell_type": "code",
   "execution_count": 38,
   "metadata": {},
   "outputs": [
    {
     "data": {
      "text/plain": [
       "<matplotlib.colorbar.Colorbar at 0x185c2fd50>"
      ]
     },
     "execution_count": 38,
     "metadata": {},
     "output_type": "execute_result"
    },
    {
     "data": {
      "image/png": "[encoded data removed]",
      "text/plain": [
       "<Figure size 432x288 with 2 Axes>"
      ]
     },
     "metadata": {
      "needs_background": "light"
     },
     "output_type": "display_data"
    }
   ],
   "source": [
    "plt.imshow(counts,aspect='auto')\n",
    "plt.yticks(range(len(t0_vals)),t0_vals)\n",
    "plt.xticks(range(len(rt_tol_vals)),rt_tol_vals)\n",
    "plt.colorbar()"
   ]
  },
  {
   "cell_type": "code",
   "execution_count": 58,
   "metadata": {},
   "outputs": [],
   "source": [
    "log_counts_dict = {}"
   ]
  },
  {
   "cell_type": "code",
   "execution_count": 59,
   "metadata": {},
   "outputs": [
    {
     "name": "stdout",
     "output_type": "stream",
     "text": [
      "1 15\n",
      "Loaded 6447 scans\n"
     ]
    },
    {
     "ename": "KeyboardInterrupt",
     "evalue": "",
     "output_type": "error",
     "traceback": [
      "\u001b[0;31m---------------------------------------------------------------------------\u001b[0m",
      "\u001b[0;31mKeyboardInterrupt\u001b[0m                         Traceback (most recent call last)",
      "\u001b[0;32m<ipython-input-59-ac3f764c49e4>\u001b[0m in \u001b[0;36m<module>\u001b[0;34m\u001b[0m\n\u001b[1;32m     14\u001b[0m             \u001b[0mfname\u001b[0m \u001b[0;34m=\u001b[0m \u001b[0;34m'exlude_log_{}_{}.mzml'\u001b[0m\u001b[0;34m.\u001b[0m\u001b[0mformat\u001b[0m\u001b[0;34m(\u001b[0m\u001b[0mt0\u001b[0m\u001b[0;34m,\u001b[0m\u001b[0mr\u001b[0m\u001b[0;34m)\u001b[0m\u001b[0;34m\u001b[0m\u001b[0;34m\u001b[0m\u001b[0m\n\u001b[1;32m     15\u001b[0m             \u001b[0mmz_file\u001b[0m \u001b[0;34m=\u001b[0m \u001b[0mMZMLFile\u001b[0m\u001b[0;34m(\u001b[0m\u001b[0mos\u001b[0m\u001b[0;34m.\u001b[0m\u001b[0mpath\u001b[0m\u001b[0;34m.\u001b[0m\u001b[0mjoin\u001b[0m\u001b[0;34m(\u001b[0m\u001b[0mtest_path\u001b[0m\u001b[0;34m,\u001b[0m\u001b[0mfname\u001b[0m\u001b[0;34m)\u001b[0m\u001b[0;34m)\u001b[0m\u001b[0;34m\u001b[0m\u001b[0;34m\u001b[0m\u001b[0m\n\u001b[0;32m---> 16\u001b[0;31m             \u001b[0mscans2boxes\u001b[0m\u001b[0;34m,\u001b[0m\u001b[0mboxes2scans\u001b[0m \u001b[0;34m=\u001b[0m \u001b[0mmap_boxes_to_scans\u001b[0m\u001b[0;34m(\u001b[0m\u001b[0mmz_file\u001b[0m\u001b[0;34m,\u001b[0m\u001b[0mboxes\u001b[0m\u001b[0;34m,\u001b[0m\u001b[0mhalf_isolation_window\u001b[0m \u001b[0;34m=\u001b[0m \u001b[0;36m0\u001b[0m\u001b[0;34m)\u001b[0m\u001b[0;34m\u001b[0m\u001b[0;34m\u001b[0m\u001b[0m\n\u001b[0m\u001b[1;32m     17\u001b[0m             \u001b[0mcounts\u001b[0m\u001b[0;34m[\u001b[0m\u001b[0mi\u001b[0m\u001b[0;34m,\u001b[0m\u001b[0mj\u001b[0m\u001b[0;34m]\u001b[0m \u001b[0;34m=\u001b[0m \u001b[0mlen\u001b[0m\u001b[0;34m(\u001b[0m\u001b[0mboxes2scans\u001b[0m\u001b[0;34m)\u001b[0m\u001b[0;34m\u001b[0m\u001b[0;34m\u001b[0m\u001b[0m\n\u001b[1;32m     18\u001b[0m             \u001b[0mlog_counts_dict\u001b[0m\u001b[0;34m[\u001b[0m\u001b[0mt0\u001b[0m\u001b[0;34m]\u001b[0m\u001b[0;34m[\u001b[0m\u001b[0mr\u001b[0m\u001b[0;34m]\u001b[0m \u001b[0;34m=\u001b[0m \u001b[0mcounts\u001b[0m\u001b[0;34m[\u001b[0m\u001b[0mi\u001b[0m\u001b[0;34m,\u001b[0m\u001b[0mj\u001b[0m\u001b[0;34m]\u001b[0m\u001b[0;34m\u001b[0m\u001b[0;34m\u001b[0m\u001b[0m\n",
      "\u001b[0;32m~/git/pymzm/ms2_matching.py\u001b[0m in \u001b[0;36mmap_boxes_to_scans\u001b[0;34m(mzml_file, boxes, half_isolation_window, allow_last_overlap)\u001b[0m\n\u001b[1;32m    231\u001b[0m                         \u001b[0mmax_mz\u001b[0m \u001b[0;34m>=\u001b[0m \u001b[0mx\u001b[0m\u001b[0;34m.\u001b[0m\u001b[0mmz_range\u001b[0m\u001b[0;34m[\u001b[0m\u001b[0;36m0\u001b[0m\u001b[0;34m]\u001b[0m \u001b[0;32mand\u001b[0m\u001b[0;34m\u001b[0m\u001b[0;34m\u001b[0m\u001b[0m\n\u001b[1;32m    232\u001b[0m                         \u001b[0mrt\u001b[0m \u001b[0;34m>=\u001b[0m \u001b[0mx\u001b[0m\u001b[0;34m.\u001b[0m\u001b[0mrt_range\u001b[0m\u001b[0;34m[\u001b[0m\u001b[0;36m0\u001b[0m\u001b[0;34m]\u001b[0m \u001b[0;32mand\u001b[0m\u001b[0;34m\u001b[0m\u001b[0;34m\u001b[0m\u001b[0m\n\u001b[0;32m--> 233\u001b[0;31m                         rt <= x.rt_range[1], boxes))\n\u001b[0m\u001b[1;32m    234\u001b[0m         \u001b[0;32mif\u001b[0m \u001b[0mlen\u001b[0m\u001b[0;34m(\u001b[0m\u001b[0msub_boxes\u001b[0m\u001b[0;34m)\u001b[0m \u001b[0;34m>\u001b[0m \u001b[0;36m0\u001b[0m\u001b[0;34m:\u001b[0m\u001b[0;34m\u001b[0m\u001b[0;34m\u001b[0m\u001b[0m\n\u001b[1;32m    235\u001b[0m             \u001b[0mscans2boxes\u001b[0m\u001b[0;34m[\u001b[0m\u001b[0mscan\u001b[0m\u001b[0;34m]\u001b[0m \u001b[0;34m=\u001b[0m \u001b[0msub_boxes\u001b[0m\u001b[0;34m\u001b[0m\u001b[0;34m\u001b[0m\u001b[0m\n",
      "\u001b[0;32m~/git/pymzm/ms2_matching.py\u001b[0m in \u001b[0;36m<lambda>\u001b[0;34m(x)\u001b[0m\n\u001b[1;32m    228\u001b[0m         \u001b[0mmax_mz\u001b[0m \u001b[0;34m=\u001b[0m \u001b[0mscan\u001b[0m\u001b[0;34m.\u001b[0m\u001b[0mprecursor_mz\u001b[0m \u001b[0;34m+\u001b[0m \u001b[0mhalf_isolation_window\u001b[0m\u001b[0;34m\u001b[0m\u001b[0;34m\u001b[0m\u001b[0m\n\u001b[1;32m    229\u001b[0m         sub_boxes = list(filter(lambda x: \n\u001b[0;32m--> 230\u001b[0;31m                         \u001b[0mmin_mz\u001b[0m \u001b[0;34m<=\u001b[0m \u001b[0mx\u001b[0m\u001b[0;34m.\u001b[0m\u001b[0mmz_range\u001b[0m\u001b[0;34m[\u001b[0m\u001b[0;36m1\u001b[0m\u001b[0;34m]\u001b[0m \u001b[0;32mand\u001b[0m\u001b[0;34m\u001b[0m\u001b[0;34m\u001b[0m\u001b[0m\n\u001b[0m\u001b[1;32m    231\u001b[0m                         \u001b[0mmax_mz\u001b[0m \u001b[0;34m>=\u001b[0m \u001b[0mx\u001b[0m\u001b[0;34m.\u001b[0m\u001b[0mmz_range\u001b[0m\u001b[0;34m[\u001b[0m\u001b[0;36m0\u001b[0m\u001b[0;34m]\u001b[0m \u001b[0;32mand\u001b[0m\u001b[0;34m\u001b[0m\u001b[0;34m\u001b[0m\u001b[0m\n\u001b[1;32m    232\u001b[0m                         \u001b[0mrt\u001b[0m \u001b[0;34m>=\u001b[0m \u001b[0mx\u001b[0m\u001b[0;34m.\u001b[0m\u001b[0mrt_range\u001b[0m\u001b[0;34m[\u001b[0m\u001b[0;36m0\u001b[0m\u001b[0;34m]\u001b[0m \u001b[0;32mand\u001b[0m\u001b[0;34m\u001b[0m\u001b[0;34m\u001b[0m\u001b[0m\n",
      "\u001b[0;31mKeyboardInterrupt\u001b[0m: "
     ]
    }
   ],
   "source": [
    "counts = np.zeros((len(t0_vals),len(rt_tol_vals)))\n",
    "\n",
    "for i,t0 in enumerate(t0_vals):\n",
    "    if not t0 in log_counts_dict:\n",
    "        log_counts_dict[t0] = {}\n",
    "    for j,r in enumerate(rt_tol_vals):\n",
    "        print(t0,r)\n",
    "        if t0 > r:\n",
    "            # impossible combination\n",
    "            counts[i,j] = np.nan # fix for colour on boxplot\n",
    "            log_counts_dict[t0][r] = np.nan\n",
    "            continue\n",
    "        if not r in log_counts_dict[t0]:\n",
    "            fname = 'exlude_log_{}_{}.mzml'.format(t0,r)\n",
    "            mz_file = MZMLFile(os.path.join(test_path,fname))\n",
    "            scans2boxes,boxes2scans = map_boxes_to_scans(mz_file,boxes,half_isolation_window = 0)\n",
    "            counts[i,j] = len(boxes2scans)\n",
    "            log_counts_dict[t0][r] = counts[i,j]\n",
    "        else:\n",
    "            counts[i][j] = log_counts_dict[t0][r]\n",
    "        print(counts)"
   ]
  },
  {
   "cell_type": "code",
   "execution_count": 56,
   "metadata": {},
   "outputs": [
    {
     "name": "stdout",
     "output_type": "stream",
     "text": [
      "5176\n"
     ]
    },
    {
     "data": {
      "image/png": "[encoded data removed]",
      "text/plain": [
       "<Figure size 432x288 with 2 Axes>"
      ]
     },
     "metadata": {
      "needs_background": "light"
     },
     "output_type": "display_data"
    }
   ],
   "source": [
    "plt.imshow(counts,aspect='auto')\n",
    "plt.yticks(range(len(t0_vals)),t0_vals)\n",
    "plt.xticks(range(len(rt_tol_vals)),rt_tol_vals)\n",
    "plt.colorbar()\n",
    "print(len(boxes))"
   ]
  },
  {
   "cell_type": "code",
   "execution_count": null,
   "metadata": {},
   "outputs": [],
   "source": []
  },
  {
   "cell_type": "code",
   "execution_count": 40,
   "metadata": {},
   "outputs": [
    {
     "name": "stdout",
     "output_type": "stream",
     "text": [
      "Loaded 6300 scans\n",
      "topN:  1256\n"
     ]
    }
   ],
   "source": [
    "# smart_scans2boxes,smart_boxes2scans = map_boxes_to_scans(smart_mz_file,boxes,half_isolation_window = 0)\n",
    "# roi_scans2boxes,roi_boxes2scans = map_boxes_to_scans(roi_mz_file,boxes,half_isolation_window = 0)\n",
    "topn_mz_file = MZMLFile(os.path.join(test_path,'topN.mzml'))\n",
    "topn_scans2boxes,topn_boxes2scans = map_boxes_to_scans(topn_mz_file,boxes,half_isolation_window = 0)\n",
    "# note 0 in previous call is to only find the scans that have a precursor *in* the box, not those that overlap\n",
    "print(\"topN: \",len(topn_boxes2scans))\n"
   ]
  },
  {
   "cell_type": "code",
   "execution_count": null,
   "metadata": {},
   "outputs": [],
   "source": [
    "print(\"Boxes: \",len(boxes))\n",
    "print(\"ROI: \",len(roi_boxes2scans))\n",
    "print(\"topN: \",len(topn_boxes2scans))\n",
    "print(\"SMART: \",len(smart_boxes2scans))"
   ]
  },
  {
   "cell_type": "code",
   "execution_count": null,
   "metadata": {},
   "outputs": [],
   "source": [
    "# are they picking the same ones\n",
    "roi_box_set = set(roi_boxes2scans.keys())\n",
    "topn_box_set = set(topn_boxes2scans.keys())\n",
    "smart_box_set = set(smart_boxes2scans.keys())\n",
    "print(len(topn_box_set.intersection(smart_box_set)))"
   ]
  },
  {
   "cell_type": "code",
   "execution_count": null,
   "metadata": {},
   "outputs": [],
   "source": []
  },
  {
   "cell_type": "markdown",
   "metadata": {},
   "source": [
    "## QCA experiments"
   ]
  },
  {
   "cell_type": "code",
   "execution_count": null,
   "metadata": {},
   "outputs": [],
   "source": [
    "base_dir = os.path.abspath('/Users/simon/University of Glasgow/Vinny Davies - CLDS Metabolomics Project/Trained Models')\n",
    "base_dir_qcb = os.path.abspath('/home/simon/git/vimms/experimental/simon_res/QCB')\n",
    "base_dir_qca = os.path.abspath('/home/simon/git/vimms/experimental/simon_res/QCA')\n",
    "\n",
    "ps_frag_QCB = load_obj(Path(base_dir_qcb, 'peak_sampler_mz_rt_int_beerqcb_fragmentation.p'))"
   ]
  },
  {
   "cell_type": "code",
   "execution_count": null,
   "metadata": {},
   "outputs": [],
   "source": [
    "QCB_MZML2CHEMS_DICT = {'min_ms1_intensity': 0,\n",
    "                  'mz_tol': 5,\n",
    "                  'mz_units':'ppm',\n",
    "                  'min_length':1,\n",
    "                  'min_intensity':0,\n",
    "                  'start_rt':0,\n",
    "                  'stop_rt':1560}"
   ]
  },
  {
   "cell_type": "code",
   "execution_count": null,
   "metadata": {},
   "outputs": [],
   "source": [
    "TopN_QCA_dataset = load_obj('/home/simon/git/vimms/experimental/simon_res/QCA/TopN_QCA_dataset.mzml')"
   ]
  },
  {
   "cell_type": "code",
   "execution_count": null,
   "metadata": {},
   "outputs": [],
   "source": [
    "min_rt = 0\n",
    "max_rt = 26*60 # entire run\n",
    "min_ms1_intensity = 5000\n",
    "mz_tol = 10\n",
    "rt_tol = 15\n",
    "N = 10\n",
    "\n",
    "\n",
    "# these are derived from real data (see bottom of notebook)\n",
    "roi_time_dict = {1: 0.71,2:0.20}\n",
    "topn_time_dict = {1: 0.60,2:0.20}\n",
    "\n",
    "\n",
    "ionisation_mode = POSITIVE\n",
    "isolation_width = 1\n",
    "\n",
    "test_path = '/home/simon/git/vimms/experimental/simon_res/'\n",
    "min_roi_intensity = 500\n",
    "min_roi_length = 3 # still in scans, as to work in seconds, need to pass parameter. But doesn't matter when parameter below is equal to 1!\n",
    "min_roi_length_for_fragmentation = 1\n",
    "\n"
   ]
  },
  {
   "cell_type": "code",
   "execution_count": null,
   "metadata": {},
   "outputs": [],
   "source": [
    "output_folder = os.path.join(test_path,'output_files','QCA')"
   ]
  },
  {
   "cell_type": "markdown",
   "metadata": {},
   "source": [
    "## TopN"
   ]
  },
  {
   "cell_type": "code",
   "execution_count": null,
   "metadata": {},
   "outputs": [],
   "source": [
    "controller = TopNController(ionisation_mode, N, isolation_width, mz_tol, rt_tol, min_ms1_intensity)\n",
    "\n",
    "mass_spec = IndependentMassSpectrometer(ionisation_mode, TopN_QCA_dataset,\n",
    "                                        ps_frag_QCB, add_noise=True,\n",
    "                                       scan_duration_dict = topn_time_dict)\n",
    "\n",
    "env = Environment(mass_spec, controller, min_rt, max_rt, progress_bar=True)\n",
    "env.run()\n",
    "\n",
    "# test_path = '/Users/simon/git/vimms/experimental/simon_res/'\n",
    "env.write_mzML(output_folder, 'topN.mzml')"
   ]
  },
  {
   "cell_type": "code",
   "execution_count": null,
   "metadata": {},
   "outputs": [],
   "source": [
    "# SMART ROI\n",
    "reset_length_seconds = 1e6 # set so reset never happens\n",
    "\n",
    "iif_values = [2,3,5,10,1e3,1e6]\n",
    "# dp_values = [1,5,20,50]\n",
    "# dp_values = [0.1,0.5]\n",
    "# dp_values = [0]\n",
    "dp_values = [0,0.1,0.5,1,5]\n",
    "# iif_values = [1e6]"
   ]
  },
  {
   "cell_type": "code",
   "execution_count": null,
   "metadata": {},
   "outputs": [],
   "source": [
    "for iif in iif_values:\n",
    "    for dp in dp_values:\n",
    "        print(iif,dp)\n",
    "        intensity_increase_factor = iif # fragment ROI again if intensity increases 10 fold\n",
    "        drop_perc = dp/100\n",
    "\n",
    "\n",
    "        # ROI can also be fragmented again if intensity falls to <1% of the max *since* last fragmentation\n",
    "        from vimms.Controller import TopN_SmartRoiController\n",
    "        controller = TopN_SmartRoiController(ionisation_mode, isolation_width, mz_tol, min_ms1_intensity,\n",
    "                                             min_roi_intensity, min_roi_length, N = N, rt_tol = rt_tol, \n",
    "                                             min_roi_length_for_fragmentation = min_roi_length_for_fragmentation,\n",
    "                                             reset_length_seconds = reset_length_seconds,\n",
    "                                             intensity_increase_factor = intensity_increase_factor,\n",
    "                                             drop_perc = drop_perc)\n",
    "\n",
    "        mass_spec = IndependentMassSpectrometer(ionisation_mode, TopN_QCA_dataset,\n",
    "                                                ps_frag_QCB,\n",
    "                                                add_noise=True,\n",
    "                                               scan_duration_dict=roi_time_dict)\n",
    "\n",
    "        env = Environment(mass_spec, controller, min_rt, max_rt, progress_bar=True)\n",
    "        env.run()\n",
    "        \n",
    "        out_name = 'SMART3_{}_{}.mzml'.format(iif,dp)\n",
    "        env.write_mzML(output_folder, out_name)"
   ]
  },
  {
   "cell_type": "code",
   "execution_count": null,
   "metadata": {},
   "outputs": [],
   "source": [
    "# test with picked peaks\n",
    "from ms2_matching import MZMLFile,load_picked_boxes,map_boxes_to_scans\n",
    "peak_csv_file = os.path.join(test_path,'QCA','qca_pp_wide.csv')\n",
    "boxes = load_picked_boxes(peak_csv_file)"
   ]
  },
  {
   "cell_type": "code",
   "execution_count": null,
   "metadata": {},
   "outputs": [],
   "source": [
    "topn_mz_file = MZMLFile(os.path.join(output_folder,'topN.mzml'))\n",
    "topn_scans2boxes,topn_boxes2scans = map_boxes_to_scans(topn_mz_file,boxes,half_isolation_window = 0)\n",
    "# note 0 in previous call is to only find the scans that have a precursor *in* the box, not those that overlap\n",
    "print(\"topN: \",len(topn_boxes2scans))\n"
   ]
  },
  {
   "cell_type": "code",
   "execution_count": null,
   "metadata": {},
   "outputs": [],
   "source": [
    "counts = np.zeros((len(iif_values),len(dp_values)))\n",
    "for i,iif in enumerate(iif_values):\n",
    "    for j,dp in enumerate(dp_values):\n",
    "        print(iif,dp)\n",
    "        fname = 'SMART3_{}_{}.mzml'.format(iif,dp)\n",
    "        mz_file = MZMLFile(os.path.join(test_path,'output_files','QCA',fname))\n",
    "        scans2boxes,boxes2scans = map_boxes_to_scans(mz_file,boxes,half_isolation_window = 0)\n",
    "        counts[i,j] = len(boxes2scans)\n",
    "        print(counts)"
   ]
  },
  {
   "cell_type": "code",
   "execution_count": null,
   "metadata": {},
   "outputs": [],
   "source": [
    "plt.imshow(counts,aspect='auto')\n",
    "plt.yticks(range(len(iif_values)),iif_values)\n",
    "plt.xticks(range(len(dp_values)),dp_values)\n",
    "plt.colorbar()"
   ]
  },
  {
   "cell_type": "code",
   "execution_count": null,
   "metadata": {},
   "outputs": [],
   "source": []
  },
  {
   "cell_type": "code",
   "execution_count": null,
   "metadata": {},
   "outputs": [],
   "source": []
  },
  {
   "cell_type": "markdown",
   "metadata": {},
   "source": [
    "## Extract some timings from real data\n",
    "\n",
    "- Cells below extract the scan durations from the real data and compute the mean -- these are then used above in the simulations"
   ]
  },
  {
   "cell_type": "code",
   "execution_count": null,
   "metadata": {},
   "outputs": [],
   "source": [
    "mzml_QCB_TopN\n",
    "real_QCB_TopN = MZMLFile(mzml_QCB_TopN)\n"
   ]
  },
  {
   "cell_type": "code",
   "execution_count": null,
   "metadata": {},
   "outputs": [],
   "source": [
    "time_dict = {(1,1):[],(1,2):[],(2,1):[],(2,2):[]}\n",
    "for i,s in enumerate(real_QCB_TopN.scans[:-1]):\n",
    "    current = s.ms_level\n",
    "    next_ = real_QCB_TopN.scans[i+1].ms_level\n",
    "    tup = (current,next_)\n",
    "    time_dict[tup].append(60*real_QCB_TopN.scans[i+1].rt_in_minutes - 60*s.rt_in_minutes)\n",
    "    "
   ]
  },
  {
   "cell_type": "code",
   "execution_count": null,
   "metadata": {},
   "outputs": [],
   "source": [
    "for k,v in time_dict.items():\n",
    "    if len(v) > 0:\n",
    "        print(k,sum(v)/len(v))"
   ]
  },
  {
   "cell_type": "code",
   "execution_count": null,
   "metadata": {},
   "outputs": [],
   "source": [
    "mzml_QCB_TopN_Roi\n",
    "real_QCB_TopN_Roi = MZMLFile(mzml_QCB_TopN_Roi)\n",
    "\n"
   ]
  },
  {
   "cell_type": "code",
   "execution_count": null,
   "metadata": {},
   "outputs": [],
   "source": [
    "time_dict = {(1,1):[],(1,2):[],(2,1):[],(2,2):[]}\n",
    "for i,s in enumerate(real_QCB_TopN_Roi.scans[:-1]):\n",
    "    current = s.ms_level\n",
    "    next_ = real_QCB_TopN_Roi.scans[i+1].ms_level\n",
    "    tup = (current,next_)\n",
    "    time_dict[tup].append(60*real_QCB_TopN_Roi.scans[i+1].rt_in_minutes - 60*s.rt_in_minutes)\n",
    "    if tup == (1,1):\n",
    "        print(i)"
   ]
  },
  {
   "cell_type": "code",
   "execution_count": null,
   "metadata": {},
   "outputs": [],
   "source": [
    "for k,v in time_dict.items():\n",
    "    if len(v) > 0:\n",
    "        print(k,sum(v)/len(v))"
   ]
  },
  {
   "cell_type": "code",
   "execution_count": null,
   "metadata": {},
   "outputs": [],
   "source": [
    "print(time_dict[(1,1)])"
   ]
  },
  {
   "cell_type": "code",
   "execution_count": null,
   "metadata": {},
   "outputs": [],
   "source": [
    "print(real_QCB_TopN_Roi.scans[6534].rt_in_minutes)\n",
    "print(real_QCB_TopN_Roi.scans[6535].rt_in_minutes)"
   ]
  },
  {
   "cell_type": "code",
   "execution_count": null,
   "metadata": {},
   "outputs": [],
   "source": [
    "roi_time_dict = {1: 0.71,2:0.20}\n",
    "topn_time_dict = {1: 0.60,2:0.20}"
   ]
  },
  {
   "cell_type": "code",
   "execution_count": null,
   "metadata": {},
   "outputs": [],
   "source": []
  },
  {
   "cell_type": "code",
   "execution_count": null,
   "metadata": {},
   "outputs": [],
   "source": []
  },
  {
   "cell_type": "code",
   "execution_count": null,
   "metadata": {},
   "outputs": [],
   "source": []
  },
  {
   "cell_type": "code",
   "execution_count": null,
   "metadata": {},
   "outputs": [],
   "source": []
  },
  {
   "cell_type": "code",
   "execution_count": null,
   "metadata": {},
   "outputs": [],
   "source": []
  },
  {
   "cell_type": "code",
   "execution_count": null,
   "metadata": {},
   "outputs": [],
   "source": []
  },
  {
   "cell_type": "markdown",
   "metadata": {},
   "source": [
    "## Simon peak picking"
   ]
  },
  {
   "cell_type": "code",
   "execution_count": null,
   "metadata": {},
   "outputs": [],
   "source": [
    "xml_file = '/Users/simon/git/vimms/batch_files/QCB_mzmine_batch_ms2.xml'\n",
    "output_dir = '/Users/simon/git/vimms/experimental/simon_res/'\n",
    "pick_peaks([smart_file],xml_template=xml_file, output_dir=output_dir)"
   ]
  },
  {
   "cell_type": "code",
   "execution_count": null,
   "metadata": {},
   "outputs": [],
   "source": [
    "pick_peaks([topn_file],xml_template=xml_file, output_dir=output_dir)\n",
    "pick_peaks([roi_file],xml_template=xml_file, output_dir=output_dir)"
   ]
  },
  {
   "cell_type": "code",
   "execution_count": null,
   "metadata": {},
   "outputs": [],
   "source": [
    "from alignment import JoinAligner"
   ]
  },
  {
   "cell_type": "code",
   "execution_count": null,
   "metadata": {},
   "outputs": [],
   "source": [
    "tt = JoinAligner()\n",
    "tt.add_file('/Users/simon/University of Glasgow/Vinny Davies - CLDS Metabolomics Project/TopNvsTopNroi/QCB/QCB_22May19_1_pp.csv')\n",
    "print(len(tt.peaksets))\n",
    "tt.add_file('/Users/simon/git/vimms/experimental/simon_res/topN_pp.csv')\n",
    "print(len(tt.peaksets))"
   ]
  },
  {
   "cell_type": "code",
   "execution_count": null,
   "metadata": {},
   "outputs": [],
   "source": [
    "tt_mat = tt.to_matrix()\n",
    "plt.imshow(tt_mat,aspect='auto')\n",
    "s = (tt_mat > 0).sum(axis=1)\n",
    "count = (s==2).sum()\n",
    "print(count)"
   ]
  },
  {
   "cell_type": "code",
   "execution_count": null,
   "metadata": {},
   "outputs": [],
   "source": [
    "ss = JoinAligner()\n",
    "ss.add_file('/Users/simon/University of Glasgow/Vinny Davies - CLDS Metabolomics Project/TopNvsTopNroi/QCB/QCB_22May19_1_pp.csv')\n",
    "ss.add_file('/Users/simon/git/vimms/experimental/simon_res/SMART_pp.csv')\n",
    "ss_mat = ss.to_matrix()\n",
    "plt.imshow(ss_mat,aspect='auto')\n",
    "s = (ss_mat > 0).sum(axis=1)\n",
    "count = (s==2).sum()\n",
    "print(count)"
   ]
  },
  {
   "cell_type": "code",
   "execution_count": null,
   "metadata": {},
   "outputs": [],
   "source": [
    "print(topn_file)"
   ]
  },
  {
   "cell_type": "code",
   "execution_count": null,
   "metadata": {},
   "outputs": [],
   "source": []
  }
 ],
 "metadata": {
  "kernelspec": {
   "display_name": "Python 3",
   "language": "python",
   "name": "python3"
  },
  "language_info": {
   "codemirror_mode": {
    "name": "ipython",
    "version": 3
   },
   "file_extension": ".py",
   "mimetype": "text/x-python",
   "name": "python",
   "nbconvert_exporter": "python",
   "pygments_lexer": "ipython3",
   "version": "3.7.5"
  }
 },
 "nbformat": 4,
 "nbformat_minor": 2
}
