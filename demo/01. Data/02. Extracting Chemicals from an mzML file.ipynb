{
 "cells": [
  {
   "cell_type": "markdown",
   "metadata": {},
   "source": [
    "# 2.  Extracting Chemicals from an mzML file"
   ]
  },
  {
   "cell_type": "markdown",
   "metadata": {},
   "source": [
    "This notebook demonstrates how we can extract regions of interests (ROIs) from an existing mzML file and use them as input to simulator in ViMMS. Extracted ROIs are converted into `UnknownChemical` objects, unlike the example in **01. Extracting Chemicals from HMDB.ipynb** where we operated on `KnownChemical` objects from HMDB."
   ]
  },
  {
   "cell_type": "code",
   "execution_count": 1,
   "metadata": {},
   "outputs": [],
   "source": [
    "%matplotlib inline"
   ]
  },
  {
   "cell_type": "code",
   "execution_count": 2,
   "metadata": {},
   "outputs": [],
   "source": [
    "%load_ext autoreload\n",
    "%autoreload 2"
   ]
  },
  {
   "cell_type": "code",
   "execution_count": 3,
   "metadata": {},
   "outputs": [],
   "source": [
    "from pathlib import Path\n",
    "from loguru import logger"
   ]
  },
  {
   "cell_type": "code",
   "execution_count": 4,
   "metadata": {},
   "outputs": [],
   "source": [
    "import os\n",
    "import sys\n",
    "sys.path.append('../..')"
   ]
  },
  {
   "cell_type": "code",
   "execution_count": 5,
   "metadata": {},
   "outputs": [],
   "source": [
    "from vimms.Common import download_file, extract_zip_file, set_log_level_debug, set_log_level_warning, \\\n",
    "    save_obj, load_obj, POSITIVE\n",
    "from vimms.Roi import RoiParams\n",
    "from vimms.Chemicals import ChemicalMixtureFromMZML"
   ]
  },
  {
   "cell_type": "code",
   "execution_count": 6,
   "metadata": {},
   "outputs": [],
   "source": [
    "from vimms.MassSpec import IndependentMassSpectrometer\n",
    "from vimms.Controller import TopNController\n",
    "from vimms.Environment import Environment"
   ]
  },
  {
   "cell_type": "markdown",
   "metadata": {},
   "source": [
    "### Download mzML fragmentation files for demo"
   ]
  },
  {
   "cell_type": "markdown",
   "metadata": {},
   "source": [
    "These mzML files containing results from beer and urine measurements are also used in the first ViMMS manuscript."
   ]
  },
  {
   "cell_type": "code",
   "execution_count": 7,
   "metadata": {},
   "outputs": [],
   "source": [
    "url = 'http://researchdata.gla.ac.uk/870/2/example_data.zip'\n",
    "base_dir = os.path.join(os.getcwd(), 'example_data')"
   ]
  },
  {
   "cell_type": "code",
   "execution_count": 8,
   "metadata": {},
   "outputs": [
    {
     "name": "stdout",
     "output_type": "stream",
     "text": [
      "Found /Users/joewandy/Work/git/vimms/demo/01. Data/example_data\n"
     ]
    }
   ],
   "source": [
    "if not os.path.isdir(base_dir): # if not exist then download the example data and extract it\n",
    "    print('Creating %s' % base_dir)    \n",
    "    out_file = 'example_data.zip'\n",
    "    download_file(url, out_file)\n",
    "    extract_zip_file(out_file, delete=True)\n",
    "else:\n",
    "    print('Found %s' % base_dir)"
   ]
  },
  {
   "cell_type": "markdown",
   "metadata": {},
   "source": [
    "### Extract chemicals from beer and urine samples"
   ]
  },
  {
   "cell_type": "markdown",
   "metadata": {},
   "source": [
    "Extract chemicals from the beer and urine mzML files using `ChemicalMixtureFromMZML` class. The results are a list of `UnknownChemical` objects for each input mzML file. Once created, we can persist the list of `UnknownChemicals` to the file system by calling the `save_obj` method from ViMMS."
   ]
  },
  {
   "cell_type": "markdown",
   "metadata": {},
   "source": [
    "Note that the `min_intensity` threshold (1.75E5) is set very high here so the notebook completes quickly. However this means you'd only extract large regions-of-interests (ROIs) from the data, and smaller ones are omitted. For a more accurate simulation, you should lower this threshold value to e.g. 1000."
   ]
  },
  {
   "cell_type": "code",
   "execution_count": 9,
   "metadata": {},
   "outputs": [],
   "source": [
    "param_dict = {\n",
    "    'mz_tol': 5,\n",
    "    'mz_units': 'ppm',\n",
    "    'min_length': 1,\n",
    "    'min_intensity': 1.75E5,\n",
    "    'start_rt': 0,\n",
    "    'stop_rt': 1440\n",
    "}"
   ]
  },
  {
   "cell_type": "markdown",
   "metadata": {},
   "source": [
    "#### Beer files"
   ]
  },
  {
   "cell_type": "code",
   "execution_count": 10,
   "metadata": {},
   "outputs": [
    {
     "data": {
      "text/plain": [
       "'/Users/joewandy/Work/git/vimms/demo/01. Data/example_data/beers/fragmentation/mzML/Beer_multibeers_1_T10_POS.mzML'"
      ]
     },
     "execution_count": 10,
     "metadata": {},
     "output_type": "execute_result"
    }
   ],
   "source": [
    "mzml_file = os.path.join(base_dir, 'beers', 'fragmentation', 'mzML', 'Beer_multibeers_1_T10_POS.mzML')\n",
    "mzml_file"
   ]
  },
  {
   "cell_type": "code",
   "execution_count": 11,
   "metadata": {},
   "outputs": [
    {
     "name": "stderr",
     "output_type": "stream",
     "text": [
      "2022-02-23 10:03:34.087 | DEBUG    | vimms.Chemicals:_extract_rois:458 - Extracted 25759 good ROIs from /Users/joewandy/Work/git/vimms/demo/01. Data/example_data/beers/fragmentation/mzML/Beer_multibeers_1_T10_POS.mzML\n"
     ]
    }
   ],
   "source": [
    "rp = RoiParams(**param_dict)\n",
    "cm = ChemicalMixtureFromMZML(mzml_file, roi_params=rp)\n",
    "dataset = cm.sample(None, 2)"
   ]
  },
  {
   "cell_type": "code",
   "execution_count": 12,
   "metadata": {},
   "outputs": [
    {
     "name": "stderr",
     "output_type": "stream",
     "text": [
      "2022-02-23 10:03:36.248 | INFO     | vimms.Common:save_obj:329 - Saving <class 'list'> to /Users/joewandy/Work/git/vimms/demo/01. Data/example_data/beers/datasets/beer_1.p\n"
     ]
    }
   ],
   "source": [
    "out_name = os.path.join(base_dir, 'beers', 'datasets', 'beer_1.p')\n",
    "save_obj(dataset, out_name)"
   ]
  },
  {
   "cell_type": "markdown",
   "metadata": {},
   "source": [
    "#### Urine files"
   ]
  },
  {
   "cell_type": "code",
   "execution_count": 13,
   "metadata": {},
   "outputs": [
    {
     "data": {
      "text/plain": [
       "'/Users/joewandy/Work/git/vimms/demo/01. Data/example_data/urines/fragmentation/mzML/Urine_StrokeDrugs_02_T10_POS.mzML'"
      ]
     },
     "execution_count": 13,
     "metadata": {},
     "output_type": "execute_result"
    }
   ],
   "source": [
    "mzml_file = os.path.join(base_dir, 'urines', 'fragmentation', 'mzML', 'Urine_StrokeDrugs_02_T10_POS.mzML')\n",
    "mzml_file"
   ]
  },
  {
   "cell_type": "code",
   "execution_count": 14,
   "metadata": {},
   "outputs": [
    {
     "name": "stderr",
     "output_type": "stream",
     "text": [
      "2022-02-23 10:03:51.020 | DEBUG    | vimms.Chemicals:_extract_rois:458 - Extracted 37233 good ROIs from /Users/joewandy/Work/git/vimms/demo/01. Data/example_data/urines/fragmentation/mzML/Urine_StrokeDrugs_02_T10_POS.mzML\n"
     ]
    }
   ],
   "source": [
    "rp = RoiParams(**param_dict)\n",
    "cm = ChemicalMixtureFromMZML(mzml_file, roi_params=rp)\n",
    "dataset = cm.sample(None, 2)"
   ]
  },
  {
   "cell_type": "code",
   "execution_count": 15,
   "metadata": {},
   "outputs": [
    {
     "name": "stderr",
     "output_type": "stream",
     "text": [
      "2022-02-23 10:03:53.962 | INFO     | vimms.Common:save_obj:329 - Saving <class 'list'> to /Users/joewandy/Work/git/vimms/demo/01. Data/example_data/urines/datasets/urine_1.p\n"
     ]
    }
   ],
   "source": [
    "out_name = os.path.join(base_dir, 'urines', 'datasets', 'urine_1.p')\n",
    "save_obj(dataset, out_name)"
   ]
  },
  {
   "cell_type": "markdown",
   "metadata": {
    "tags": []
   },
   "source": [
    "### Use in simulator"
   ]
  },
  {
   "cell_type": "markdown",
   "metadata": {},
   "source": [
    "Perform two simulated injections using the beer and urine dataset. First we load the saved beer and urine datasets from the steps above."
   ]
  },
  {
   "cell_type": "code",
   "execution_count": 16,
   "metadata": {},
   "outputs": [],
   "source": [
    "beer_dataset = load_obj(os.path.join(base_dir, 'beers', 'datasets', 'beer_1.p'))\n",
    "urine_dataset = load_obj(os.path.join(base_dir, 'urines', 'datasets', 'urine_1.p'))\n",
    "datasets = {\n",
    "    'beer': beer_dataset, \n",
    "    'urine': urine_dataset\n",
    "}"
   ]
  },
  {
   "cell_type": "code",
   "execution_count": 17,
   "metadata": {},
   "outputs": [],
   "source": [
    "rt_range = [(0, 1440)]\n",
    "min_rt = rt_range[0][0]\n",
    "max_rt = rt_range[0][1]"
   ]
  },
  {
   "cell_type": "code",
   "execution_count": 18,
   "metadata": {},
   "outputs": [],
   "source": [
    "isolation_window = 1\n",
    "N = 3\n",
    "rt_tol = 15\n",
    "mz_tol = 10\n",
    "min_ms1_intensity = 1.75E5"
   ]
  },
  {
   "cell_type": "markdown",
   "metadata": {},
   "source": [
    "Initialise simulated mass spec and the Top-N controller using the two datasets (beer and urine chemicals) as input. In a loop, perform two injections of each dataset using the Top-N fragmentation strategy."
   ]
  },
  {
   "cell_type": "code",
   "execution_count": 19,
   "metadata": {},
   "outputs": [
    {
     "name": "stderr",
     "output_type": "stream",
     "text": [
      "2022-02-23 10:04:03.680 | WARNING  | __main__:<module>:3 - Processing beer\n"
     ]
    },
    {
     "data": {
      "application/vnd.jupyter.widget-view+json": {
       "model_id": "55d41c89c65945129348c6e4faf6a60b",
       "version_major": 2,
       "version_minor": 0
      },
      "text/plain": [
       "  0%|          | 0/1440 [00:00<?, ?it/s]"
      ]
     },
     "metadata": {},
     "output_type": "display_data"
    },
    {
     "name": "stderr",
     "output_type": "stream",
     "text": [
      "2022-02-23 10:04:53.798 | WARNING  | __main__:<module>:3 - Processing urine\n"
     ]
    },
    {
     "data": {
      "application/vnd.jupyter.widget-view+json": {
       "model_id": "977fa5b21c1b4f55a62060583c79ad76",
       "version_major": 2,
       "version_minor": 0
      },
      "text/plain": [
       "  0%|          | 0/1440 [00:00<?, ?it/s]"
      ]
     },
     "metadata": {},
     "output_type": "display_data"
    }
   ],
   "source": [
    "set_log_level_warning()\n",
    "for label in datasets:\n",
    "    logger.warning('Processing %s' % label)\n",
    "    dataset = datasets[label]\n",
    "    mass_spec = IndependentMassSpectrometer(POSITIVE, dataset)\n",
    "    controller = TopNController(POSITIVE, N, isolation_window, mz_tol, rt_tol, min_ms1_intensity)    \n",
    "    env = Environment(mass_spec, controller, min_rt, max_rt, progress_bar=True)\n",
    "    env.run()\n",
    "    \n",
    "    mzml_filename = '%s_topn_controller.mzML' % label\n",
    "    out_dir = os.path.join(os.getcwd(), 'results')\n",
    "    env.write_mzML(out_dir, mzml_filename)"
   ]
  },
  {
   "cell_type": "markdown",
   "metadata": {},
   "source": [
    "Simulated mzML have been created, and you can use ToppView from OpenMS or other mzML viewer to inspect the results."
   ]
  }
 ],
 "metadata": {
  "kernelspec": {
   "display_name": "Python 3 (ipykernel)",
   "language": "python",
   "name": "python3"
  },
  "language_info": {
   "codemirror_mode": {
    "name": "ipython",
    "version": 3
   },
   "file_extension": ".py",
   "mimetype": "text/x-python",
   "name": "python",
   "nbconvert_exporter": "python",
   "pygments_lexer": "ipython3",
   "version": "3.9.10"
  }
 },
 "nbformat": 4,
 "nbformat_minor": 4
}
