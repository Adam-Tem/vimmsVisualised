{
 "cells": [
  {
   "cell_type": "markdown",
   "metadata": {},
   "source": [
    "# 1.  Extracting Chemicals from HMDB"
   ]
  },
  {
   "cell_type": "markdown",
   "metadata": {},
   "source": [
    "ViMMS operates based on the notion of `Chemicals`. A chemical object contains a formula (from which we can derive its m/z), chromatogram, retention time and other information such as possible intensities and fragmentation spectra.\n",
    "\n",
    "Chemicals can be divided into two broad types: `KnownChemicals` for which we know its identity and therefore formula, and `UnknownChemical` which represent chemicals with unknown identity but still having chromatographic information, could be assigned retention time, intensity and fragmentation spectra.\n",
    "\n",
    "This notebook demonstrates how we can sample formulae of actual compounds from [HMDB](https://hmdb.ca/). Extracted formulae are converted into `KnownChemical` objects, which can be used as input to simulator in ViMMS."
   ]
  },
  {
   "cell_type": "code",
   "execution_count": 1,
   "metadata": {},
   "outputs": [],
   "source": [
    "%matplotlib inline"
   ]
  },
  {
   "cell_type": "code",
   "execution_count": 2,
   "metadata": {},
   "outputs": [],
   "source": [
    "%load_ext autoreload\n",
    "%autoreload 2"
   ]
  },
  {
   "cell_type": "code",
   "execution_count": 3,
   "metadata": {},
   "outputs": [],
   "source": [
    "from pathlib import Path\n",
    "import seaborn as sns"
   ]
  },
  {
   "cell_type": "code",
   "execution_count": 4,
   "metadata": {},
   "outputs": [],
   "source": [
    "import os\n",
    "import sys\n",
    "sys.path.append('../..')"
   ]
  },
  {
   "cell_type": "code",
   "execution_count": 5,
   "metadata": {},
   "outputs": [],
   "source": [
    "from vimms.Common import download_file, extract_zip_file, set_log_level_debug, set_log_level_warning, \\\n",
    "    save_obj, load_obj, POSITIVE\n",
    "from vimms.FeatureExtraction import extract_hmdb_metabolite\n",
    "from vimms.ChemicalSamplers import DatabaseFormulaSampler\n",
    "from vimms.Chemicals import ChemicalMixtureCreator"
   ]
  },
  {
   "cell_type": "code",
   "execution_count": 6,
   "metadata": {},
   "outputs": [],
   "source": [
    "from vimms.MassSpec import IndependentMassSpectrometer\n",
    "from vimms.Controller import TopNController\n",
    "from vimms.Environment import Environment"
   ]
  },
  {
   "cell_type": "markdown",
   "metadata": {
    "tags": []
   },
   "source": [
    "### Download HMDB database"
   ]
  },
  {
   "cell_type": "markdown",
   "metadata": {},
   "source": [
    "The cell below tries to load the previously processed HMDB data from `hmdb_compounds.p` in the test fixtures folder in ViMMS. If it isn't found there, then create it by downloading the entire HMDB database as a zip file. The database is then processed to extract compounds from it. "
   ]
  },
  {
   "cell_type": "code",
   "execution_count": 7,
   "metadata": {},
   "outputs": [
    {
     "name": "stderr",
     "output_type": "stream",
     "text": [
      "2022-02-24 14:48:01.767 | WARNING  | vimms.Common:load_obj:344 - Old, invalid or missing pickle in hmdb_compounds.p. Please regenerate this file.\n",
      "2022-02-24 14:48:02.011 | INFO     | vimms.Common:download_file:453 - Downloading hmdb_compounds.p\n"
     ]
    },
    {
     "data": {
      "application/vnd.jupyter.widget-view+json": {
       "model_id": "48132b355310428e89f02d2b75ad3af4",
       "version_major": 2,
       "version_minor": 0
      },
      "text/plain": [
       "  0%|          | 0.00/8.38k [00:00<?, ?KB/s]"
      ]
     },
     "metadata": {},
     "output_type": "display_data"
    }
   ],
   "source": [
    "compound_file = 'hmdb_compounds.p'\n",
    "try:\n",
    "    hmdb_compounds = load_obj(compound_file)\n",
    "except FileNotFoundError:\n",
    "    \n",
    "    # download the entire HMDB metabolite database and extract chemicals from it\n",
    "    # url = 'http://www.hmdb.ca/system/downloads/current/hmdb_metabolites.zip'\n",
    "    # out_file = download_file(url)\n",
    "    # compounds = extract_hmdb_metabolite(out_file, delete=True)\n",
    "    # save_obj(compounds, compound_file)\n",
    "    \n",
    "    # above could be quite slow slow, so download a pre-processed result instead\n",
    "    url = 'https://github.com/glasgowcompbio/vimms-data/raw/main/hmdb_compounds.p'\n",
    "    download_file(url, compound_file)\n",
    "    hmdb_compounds = load_obj(compound_file)"
   ]
  },
  {
   "cell_type": "markdown",
   "metadata": {},
   "source": [
    "### Sample ViMMS chemicals from HDMB database"
   ]
  },
  {
   "cell_type": "markdown",
   "metadata": {},
   "source": [
    "Create a database formula sampler that will sample ViMMS chemicals from HMDB with m/z between 100 and 1000"
   ]
  },
  {
   "cell_type": "code",
   "execution_count": 8,
   "metadata": {},
   "outputs": [
    {
     "name": "stderr",
     "output_type": "stream",
     "text": [
      "2022-02-24 14:48:08.777 | DEBUG    | vimms.ChemicalSamplers:sample:73 - 73822 unique formulas in filtered database\n",
      "2022-02-24 14:48:08.777 | DEBUG    | vimms.ChemicalSamplers:sample:79 - Sampled formulas\n"
     ]
    }
   ],
   "source": [
    "df = DatabaseFormulaSampler(hmdb_compounds, min_mz=100, max_mz=1000)\n",
    "samples = df.sample(1000)"
   ]
  },
  {
   "cell_type": "markdown",
   "metadata": {},
   "source": [
    "`samples` is a list of tuples, where the first entry is a `Formula` object, while the second entry is a string of its name."
   ]
  },
  {
   "cell_type": "code",
   "execution_count": 9,
   "metadata": {},
   "outputs": [
    {
     "data": {
      "text/plain": [
       "(C55H106O6, 'TG(a-21:0/10:0/21:0)[rac]')"
      ]
     },
     "execution_count": 9,
     "metadata": {},
     "output_type": "execute_result"
    }
   ],
   "source": [
    "samples[0]"
   ]
  },
  {
   "cell_type": "code",
   "execution_count": 10,
   "metadata": {},
   "outputs": [
    {
     "data": {
      "text/plain": [
       "(vimms.Common.Formula, str)"
      ]
     },
     "execution_count": 10,
     "metadata": {},
     "output_type": "execute_result"
    }
   ],
   "source": [
    "type(samples[0][0]), type(samples[0][1])"
   ]
  },
  {
   "cell_type": "markdown",
   "metadata": {},
   "source": [
    "Using the `ChemicalMixtureCreator` class, We can turn the HMDB `Formula` inside `DatabaseFormulaSampler` into a dataset of `Chemical` objects in ViMMS. These can be used as input to simulation. As an example, below 100 chemicals are generated based on the HMDB formulae, initialised with fragmentation level up to MS2. \n",
    "\n",
    "Default parameters are used for RT, intensity, chromatogram and MS2 peaks generations in `ChemicalMixtureCreator`. For more details of the different parameters that could be passed to `ChemicalMixtureCreator`, please refer to **03. Generating Sets of Chemicals with the ChemicalMixtureCreator class.ipynb**."
   ]
  },
  {
   "cell_type": "code",
   "execution_count": 11,
   "metadata": {},
   "outputs": [
    {
     "name": "stderr",
     "output_type": "stream",
     "text": [
      "2022-02-24 14:48:14.017 | DEBUG    | vimms.ChemicalSamplers:sample:73 - 73822 unique formulas in filtered database\n",
      "2022-02-24 14:48:14.017 | DEBUG    | vimms.ChemicalSamplers:sample:79 - Sampled formulas\n",
      "2022-02-24 14:48:14.150 | DEBUG    | vimms.Chemicals:sample:324 - Sampled rt and intensity values and chromatograms\n"
     ]
    }
   ],
   "source": [
    "cm = ChemicalMixtureCreator(df)\n",
    "dataset = cm.sample(100, 2) # sample 100 chemicals up to MS2"
   ]
  },
  {
   "cell_type": "code",
   "execution_count": 12,
   "metadata": {},
   "outputs": [
    {
     "data": {
      "text/plain": [
       "KnownChemical - 'C46H76O13P2' rt=1499.63 max_intensity=767027.84"
      ]
     },
     "execution_count": 12,
     "metadata": {},
     "output_type": "execute_result"
    }
   ],
   "source": [
    "dataset[0]"
   ]
  },
  {
   "cell_type": "markdown",
   "metadata": {
    "tags": []
   },
   "source": [
    "### Use in simulator"
   ]
  },
  {
   "cell_type": "markdown",
   "metadata": {},
   "source": [
    "We can use the sampled chemicals to simulate various fragmentation strategies in ViMMS. Below we run it through a TopN strategy.\n",
    "\n",
    "First we set some parameters for the Top-N controller and its simulated environment."
   ]
  },
  {
   "cell_type": "code",
   "execution_count": 13,
   "metadata": {},
   "outputs": [],
   "source": [
    "rt_range = [(0, 1440)]\n",
    "min_rt = rt_range[0][0]\n",
    "max_rt = rt_range[0][1]"
   ]
  },
  {
   "cell_type": "code",
   "execution_count": 14,
   "metadata": {},
   "outputs": [],
   "source": [
    "isolation_window = 1\n",
    "N = 3\n",
    "rt_tol = 15\n",
    "mz_tol = 10\n",
    "min_ms1_intensity = 1.75E5"
   ]
  },
  {
   "cell_type": "markdown",
   "metadata": {},
   "source": [
    "Initialise simulated mass spec and the Top-N controller "
   ]
  },
  {
   "cell_type": "code",
   "execution_count": 15,
   "metadata": {},
   "outputs": [],
   "source": [
    "mass_spec = IndependentMassSpectrometer(POSITIVE, dataset)\n",
    "controller = TopNController(POSITIVE, N, isolation_window, mz_tol, rt_tol, min_ms1_intensity)"
   ]
  },
  {
   "cell_type": "markdown",
   "metadata": {},
   "source": [
    "Create an environment to run both the mass spec and controller. Set the log level to WARNING so we don't see too many messages when environment is running."
   ]
  },
  {
   "cell_type": "code",
   "execution_count": 16,
   "metadata": {},
   "outputs": [
    {
     "data": {
      "application/vnd.jupyter.widget-view+json": {
       "model_id": "1a1f2db3efd246d283f6d7fa48d26f06",
       "version_major": 2,
       "version_minor": 0
      },
      "text/plain": [
       "  0%|          | 0/1440 [00:00<?, ?it/s]"
      ]
     },
     "metadata": {},
     "output_type": "display_data"
    }
   ],
   "source": [
    "set_log_level_warning()\n",
    "env = Environment(mass_spec, controller, min_rt, max_rt, progress_bar=True)\n",
    "env.run()"
   ]
  },
  {
   "cell_type": "markdown",
   "metadata": {},
   "source": [
    "Write the resulting mzML file from simulation to the location below. You can use ToppView from OpenMS or other mzML viewer to inspect the results. Note that the output wouldn't look very realistic as the chromatograms for all chemicals are the same (gaussian), and there's no noise or small peaks at all."
   ]
  },
  {
   "cell_type": "code",
   "execution_count": 17,
   "metadata": {},
   "outputs": [
    {
     "name": "stderr",
     "output_type": "stream",
     "text": [
      "2022-02-24 14:48:37.644 | DEBUG    | vimms.Environment:write_mzML:177 - Writing mzML file to C:\\Users\\joewa\\Work\\git\\vimms\\demo\\01. Data\\results\\hmdb_topn_controller.mzML\n",
      "2022-02-24 14:48:47.694 | DEBUG    | vimms.Environment:write_mzML:181 - mzML file successfully written!\n"
     ]
    }
   ],
   "source": [
    "set_log_level_debug()\n",
    "mzml_filename = 'hmdb_topn_controller.mzML'\n",
    "out_dir = os.path.join(os.getcwd(), 'results')\n",
    "env.write_mzML(out_dir, mzml_filename)"
   ]
  }
 ],
 "metadata": {
  "kernelspec": {
   "display_name": "Python 3 (ipykernel)",
   "language": "python",
   "name": "python3"
  },
  "language_info": {
   "codemirror_mode": {
    "name": "ipython",
    "version": 3
   },
   "file_extension": ".py",
   "mimetype": "text/x-python",
   "name": "python",
   "nbconvert_exporter": "python",
   "pygments_lexer": "ipython3",
   "version": "3.8.10"
  }
 },
 "nbformat": 4,
 "nbformat_minor": 4
}
