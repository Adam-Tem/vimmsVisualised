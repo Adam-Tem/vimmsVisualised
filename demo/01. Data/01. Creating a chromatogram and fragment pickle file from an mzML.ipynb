{
 "cells": [
  {
   "cell_type": "markdown",
   "metadata": {},
   "source": [
    "# 1.  Creating a chromatogram and fragment pickle file from an mzML"
   ]
  },
  {
   "cell_type": "code",
   "execution_count": 1,
   "metadata": {},
   "outputs": [],
   "source": [
    "%matplotlib inline"
   ]
  },
  {
   "cell_type": "code",
   "execution_count": 2,
   "metadata": {},
   "outputs": [],
   "source": [
    "%load_ext autoreload\n",
    "%autoreload 2"
   ]
  },
  {
   "cell_type": "code",
   "execution_count": 3,
   "metadata": {},
   "outputs": [],
   "source": [
    "from pathlib import Path"
   ]
  },
  {
   "cell_type": "code",
   "execution_count": 4,
   "metadata": {},
   "outputs": [],
   "source": [
    "import sys\n",
    "sys.path.append('../..')"
   ]
  },
  {
   "cell_type": "code",
   "execution_count": 5,
   "metadata": {},
   "outputs": [],
   "source": [
    "from vimms.DataGenerator import  get_data_source, get_spectral_feature_database\n",
    "from vimms.Common import *"
   ]
  },
  {
   "cell_type": "code",
   "execution_count": 6,
   "metadata": {},
   "outputs": [],
   "source": [
    "# set_log_level_info()\n",
    "set_log_level_debug()"
   ]
  },
  {
   "cell_type": "markdown",
   "metadata": {},
   "source": [
    "### Download beer and urine files"
   ]
  },
  {
   "cell_type": "code",
   "execution_count": 7,
   "metadata": {},
   "outputs": [],
   "source": [
    "url = 'http://researchdata.gla.ac.uk/870/2/example_data.zip'\n",
    "base_dir = os.path.join(os.getcwd(), 'example_data')"
   ]
  },
  {
   "cell_type": "code",
   "execution_count": 8,
   "metadata": {},
   "outputs": [
    {
     "name": "stdout",
     "output_type": "stream",
     "text": [
      "Found /Users/simon/git/vimms/demo/01. Data/example_data\n"
     ]
    }
   ],
   "source": [
    "if not os.path.isdir(base_dir): # if not exist then download the example data and extract it\n",
    "    print('Creating %s' % base_dir)    \n",
    "    out_file = 'example_data.zip'\n",
    "    download_file(url, out_file)\n",
    "    extract_zip_file(out_file, delete=True)\n",
    "else:\n",
    "    print('Found %s' % base_dir)"
   ]
  },
  {
   "cell_type": "markdown",
   "metadata": {},
   "source": [
    "### Generate Spectral Feature Database"
   ]
  },
  {
   "cell_type": "markdown",
   "metadata": {},
   "source": [
    "In this section we demonstrate how ViMMS constructs the spectral feature database containing information, such as the densities of m/z, RT and intensities, scan durations, MS2 peaks, from the example Beer mzML files. The spectral feature database will be used to sample for various features during the simulation later.\n",
    "\n",
    "The following two methods get_data_source and get_spectral_feature_database from ViMMS will be used.\n",
    "\n",
    "- get_data_source loads a DataSource object that stores information on a set of .mzML files\n",
    "- get_spectral_feature_database extracts relevant features from .mzML files that have been loaded into the DataSource.  \n",
    "\n",
    "The parameter below should work for most cases, however for different data, it might be necessary to adjust the min_rt and max_rt values."
   ]
  },
  {
   "cell_type": "code",
   "execution_count": 9,
   "metadata": {},
   "outputs": [],
   "source": [
    "filename = None                    # if None, use all mzML files found\n",
    "min_ms1_intensity = 0              # min MS1 intensity threshold to include a data point for density estimation\n",
    "min_ms2_intensity = 0              # min MS2 intensity threshold to include a data point for density estimation\n",
    "min_rt = 0                         # min RT to include a data point for density estimation\n",
    "max_rt = 1440                      # max RT to include a data point for density estimation\n",
    "bandwidth_mz_intensity_rt = 1.0    # kernel bandwidth parameter to sample (mz, RT, intensity) values during simulation\n",
    "bandwidth_n_peaks = 1.0            # kernel bandwidth parameter to sample number of peaks per scan during simulation"
   ]
  },
  {
   "cell_type": "markdown",
   "metadata": {},
   "source": [
    "Load fullscan data and train spectral feature database"
   ]
  },
  {
   "cell_type": "code",
   "execution_count": 10,
   "metadata": {},
   "outputs": [],
   "source": [
    "mzml_path = Path(base_dir, 'beers', 'fullscan', 'mzML')\n",
    "xcms_output = Path(mzml_path, 'extracted_peaks_ms1.csv')\n",
    "out_file = Path(base_dir, 'peak_sampler_mz_rt_int_19_beers_fullscan.p')"
   ]
  },
  {
   "cell_type": "code",
   "execution_count": 11,
   "metadata": {},
   "outputs": [
    {
     "name": "stderr",
     "output_type": "stream",
     "text": [
      "2020-09-10 19:29:02.712 | INFO     | vimms.DataGenerator:load_data:161 - Loading Beer_multibeers_18_fullscan1.mzML\n",
      "2020-09-10 19:29:03.808 | INFO     | vimms.DataGenerator:load_data:161 - Loading Beer_multibeers_10_fullscan1.mzML\n",
      "2020-09-10 19:29:04.979 | INFO     | vimms.DataGenerator:load_data:161 - Loading Beer_multibeers_17_fullscan1.mzML\n",
      "2020-09-10 19:29:06.109 | INFO     | vimms.DataGenerator:load_data:161 - Loading Beer_multibeers_16_fullscan1.mzML\n",
      "2020-09-10 19:29:07.139 | INFO     | vimms.DataGenerator:load_data:161 - Loading Beer_multibeers_11_fullscan1.mzML\n",
      "2020-09-10 19:29:08.374 | INFO     | vimms.DataGenerator:load_data:161 - Loading Beer_multibeers_19_fullscan1.mzML\n",
      "2020-09-10 19:29:09.454 | INFO     | vimms.DataGenerator:load_data:161 - Loading Beer_multibeers_13_fullscan1.mzML\n",
      "2020-09-10 19:29:10.566 | INFO     | vimms.DataGenerator:load_data:161 - Loading Beer_multibeers_14_fullscan1.mzML\n",
      "2020-09-10 19:29:11.696 | INFO     | vimms.DataGenerator:load_data:161 - Loading Beer_multibeers_15_fullscan1.mzML\n",
      "2020-09-10 19:29:12.869 | INFO     | vimms.DataGenerator:load_data:161 - Loading Beer_multibeers_12_fullscan1.mzML\n",
      "2020-09-10 19:29:13.710 | INFO     | vimms.DataGenerator:load_data:161 - Loading Beer_multibeers_2_fullscan1.mzML\n",
      "2020-09-10 19:29:14.896 | INFO     | vimms.DataGenerator:load_data:161 - Loading Beer_multibeers_5_fullscan1.mzML\n",
      "2020-09-10 19:29:16.213 | INFO     | vimms.DataGenerator:load_data:161 - Loading Beer_multibeers_4_fullscan1.mzML\n",
      "2020-09-10 19:29:17.564 | INFO     | vimms.DataGenerator:load_data:161 - Loading Beer_multibeers_3_fullscan1.mzML\n",
      "2020-09-10 19:29:18.580 | INFO     | vimms.DataGenerator:load_data:161 - Loading Beer_multibeers_1_fullscan1.mzML\n",
      "2020-09-10 19:29:20.070 | INFO     | vimms.DataGenerator:load_data:161 - Loading Beer_multibeers_9_fullscan1.mzML\n",
      "2020-09-10 19:29:21.031 | INFO     | vimms.DataGenerator:load_data:161 - Loading Beer_multibeers_6_fullscan1.mzML\n",
      "2020-09-10 19:29:22.432 | INFO     | vimms.DataGenerator:load_data:161 - Loading Beer_multibeers_7_fullscan1.mzML\n",
      "2020-09-10 19:29:23.287 | INFO     | vimms.DataGenerator:load_data:161 - Loading Beer_multibeers_8_fullscan1.mzML\n"
     ]
    }
   ],
   "source": [
    "ds_fullscan = get_data_source(mzml_path, filename, xcms_output)"
   ]
  },
  {
   "cell_type": "code",
   "execution_count": 12,
   "metadata": {},
   "outputs": [
    {
     "name": "stderr",
     "output_type": "stream",
     "text": [
      "2020-09-10 19:29:25.345 | DEBUG    | vimms.DataGenerator:__init__:436 - Extracted 0 MS2 scans\n",
      "2020-09-10 19:29:25.346 | DEBUG    | vimms.DataGenerator:_compute_intensity_props:614 - Computing parent intensity proportions\n",
      "2020-09-10 19:29:25.346 | DEBUG    | vimms.DataGenerator:__init__:445 - Extracting scan durations\n",
      "2020-09-10 19:29:25.348 | DEBUG    | vimms.DataGenerator:_kde:626 - Training KDEs for ms_level=1\n",
      "2020-09-10 19:29:25.350 | DEBUG    | vimms.DataGenerator:_kde:637 - Retrieving mz_intensity_rt values from <vimms.DataGenerator.DataSource object at 0x11723b2d0>\n",
      "2020-09-10 19:29:25.351 | INFO     | vimms.DataGenerator:get_data:278 - Using values from XCMS peaklist\n",
      "2020-09-10 19:29:25.443 | DEBUG    | vimms.DataGenerator:_kde:637 - Retrieving n_peaks values from <vimms.DataGenerator.DataSource object at 0x11723b2d0>\n",
      "2020-09-10 19:30:16.997 | DEBUG    | vimms.DataGenerator:_kde:626 - Training KDEs for ms_level=2\n",
      "2020-09-10 19:30:16.998 | DEBUG    | vimms.DataGenerator:_kde:637 - Retrieving mz_intensity_rt values from <vimms.DataGenerator.DataSource object at 0x11723b2d0>\n",
      "2020-09-10 19:30:16.998 | INFO     | vimms.DataGenerator:get_data:295 - Using values from scans\n",
      "2020-09-10 19:30:17.010 | INFO     | vimms.Common:save_obj:162 - Saving <class 'vimms.DataGenerator.PeakSampler'> to /Users/simon/git/vimms/demo/01. Data/example_data/peak_sampler_mz_rt_int_19_beers_fullscan.p\n"
     ]
    }
   ],
   "source": [
    "ps_fullscan = get_spectral_feature_database(ds_fullscan, filename, min_ms1_intensity, min_ms2_intensity, min_rt, max_rt,\n",
    "               bandwidth_mz_intensity_rt, bandwidth_n_peaks, out_file)"
   ]
  },
  {
   "cell_type": "code",
   "execution_count": 13,
   "metadata": {},
   "outputs": [
    {
     "data": {
      "text/plain": [
       "[Peak mz=263.0090 rt=712.48 intensity=4312825.37 ms_level=1,\n",
       " Peak mz=1012.1795 rt=896.08 intensity=622684.57 ms_level=1,\n",
       " Peak mz=209.1711 rt=282.29 intensity=293156.40 ms_level=1,\n",
       " Peak mz=258.0727 rt=249.11 intensity=141313.06 ms_level=1,\n",
       " Peak mz=175.9108 rt=1262.87 intensity=2096907.69 ms_level=1,\n",
       " Peak mz=308.6492 rt=243.19 intensity=198660.24 ms_level=1,\n",
       " Peak mz=347.4767 rt=282.54 intensity=27455.68 ms_level=1,\n",
       " Peak mz=122.3940 rt=288.40 intensity=374172.28 ms_level=1,\n",
       " Peak mz=228.6600 rt=501.78 intensity=185453.10 ms_level=1,\n",
       " Peak mz=374.3074 rt=635.84 intensity=779903.98 ms_level=1]"
      ]
     },
     "execution_count": 13,
     "metadata": {},
     "output_type": "execute_result"
    }
   ],
   "source": [
    "ps_fullscan.get_peak(1, 10) # try to sample 10 MS1 peaks"
   ]
  },
  {
   "cell_type": "markdown",
   "metadata": {},
   "source": [
    "Load fragmentation data and train spectral feature database"
   ]
  },
  {
   "cell_type": "code",
   "execution_count": 14,
   "metadata": {},
   "outputs": [],
   "source": [
    "mzml_path = Path(base_dir, 'beers', 'fragmentation', 'mzML')\n",
    "xcms_output = Path(mzml_path, 'extracted_peaks_ms1.csv')\n",
    "out_file = Path(base_dir, 'peak_sampler_mz_rt_int_19_beers_fragmentation.p')"
   ]
  },
  {
   "cell_type": "code",
   "execution_count": 15,
   "metadata": {},
   "outputs": [
    {
     "name": "stderr",
     "output_type": "stream",
     "text": [
      "2020-09-10 19:30:37.152 | INFO     | vimms.DataGenerator:load_data:161 - Loading Beer_multibeers_5_T10_POS.mzML\n",
      "2020-09-10 19:30:45.613 | INFO     | vimms.DataGenerator:load_data:161 - Loading Beer_multibeers_2_T10_POS.mzML\n",
      "2020-09-10 19:30:53.611 | INFO     | vimms.DataGenerator:load_data:161 - Loading Beer_multibeers_19_T10_POS.mzML\n",
      "2020-09-10 19:31:03.083 | INFO     | vimms.DataGenerator:load_data:161 - Loading Beer_multibeers_3_T10_POS.mzML\n",
      "2020-09-10 19:31:11.053 | INFO     | vimms.DataGenerator:load_data:161 - Loading Beer_multibeers_4_T10_POS.mzML\n",
      "2020-09-10 19:31:21.253 | INFO     | vimms.DataGenerator:load_data:161 - Loading Beer_multibeers_18_T10_POS.mzML\n",
      "2020-09-10 19:31:30.155 | INFO     | vimms.DataGenerator:load_data:161 - Loading Beer_multibeers_12_T10_POS.mzML\n",
      "2020-09-10 19:31:38.435 | INFO     | vimms.DataGenerator:load_data:161 - Loading Beer_multibeers_15_T10_POS.mzML\n",
      "2020-09-10 19:31:47.215 | INFO     | vimms.DataGenerator:load_data:161 - Loading Beer_multibeers_9_T10_POS.mzML\n",
      "2020-09-10 19:31:56.609 | INFO     | vimms.DataGenerator:load_data:161 - Loading Beer_multibeers_14_T10_POS.mzML\n",
      "2020-09-10 19:32:06.260 | INFO     | vimms.DataGenerator:load_data:161 - Loading Beer_multibeers_13_T10_POS.mzML\n",
      "2020-09-10 19:32:17.170 | INFO     | vimms.DataGenerator:load_data:161 - Loading Beer_multibeers_8_T10_POS.mzML\n",
      "2020-09-10 19:32:23.096 | INFO     | vimms.DataGenerator:load_data:161 - Loading Beer_multibeers_11_T10_POS.mzML\n",
      "2020-09-10 19:32:32.728 | INFO     | vimms.DataGenerator:load_data:161 - Loading Beer_multibeers_16_T10_POS.mzML\n",
      "2020-09-10 19:32:44.245 | INFO     | vimms.DataGenerator:load_data:161 - Loading Beer_multibeers_17_T10_POS.mzML\n",
      "2020-09-10 19:32:50.427 | INFO     | vimms.DataGenerator:load_data:161 - Loading Beer_multibeers_10_T10_POS.mzML\n",
      "2020-09-10 19:33:01.772 | INFO     | vimms.DataGenerator:load_data:161 - Loading Beer_multibeers_6_T10_POS.mzML\n",
      "2020-09-10 19:33:08.120 | INFO     | vimms.DataGenerator:load_data:161 - Loading Beer_multibeers_1_T10_POS.mzML\n",
      "2020-09-10 19:33:20.872 | INFO     | vimms.DataGenerator:load_data:161 - Loading Beer_multibeers_7_T10_POS.mzML\n"
     ]
    }
   ],
   "source": [
    "ds_fragmentation = get_data_source(mzml_path, filename, xcms_output)"
   ]
  },
  {
   "cell_type": "code",
   "execution_count": null,
   "metadata": {},
   "outputs": [
    {
     "name": "stderr",
     "output_type": "stream",
     "text": [
      "2020-09-10 19:33:27.192 | DEBUG    | vimms.DataGenerator:__init__:436 - Extracted 138969 MS2 scans\n",
      "2020-09-10 19:33:27.193 | DEBUG    | vimms.DataGenerator:_compute_intensity_props:614 - Computing parent intensity proportions\n",
      "2020-09-10 19:33:38.120 | DEBUG    | vimms.DataGenerator:__init__:445 - Extracting scan durations\n",
      "2020-09-10 19:33:38.130 | DEBUG    | vimms.DataGenerator:_kde:626 - Training KDEs for ms_level=1\n",
      "2020-09-10 19:33:38.131 | DEBUG    | vimms.DataGenerator:_kde:637 - Retrieving mz_intensity_rt values from <vimms.DataGenerator.DataSource object at 0x149031a10>\n",
      "2020-09-10 19:33:38.131 | INFO     | vimms.DataGenerator:get_data:278 - Using values from XCMS peaklist\n",
      "2020-09-10 19:33:38.215 | DEBUG    | vimms.DataGenerator:_kde:637 - Retrieving n_peaks values from <vimms.DataGenerator.DataSource object at 0x149031a10>\n",
      "2020-09-10 19:36:55.036 | DEBUG    | vimms.DataGenerator:_kde:626 - Training KDEs for ms_level=2\n",
      "2020-09-10 19:36:55.037 | DEBUG    | vimms.DataGenerator:_kde:637 - Retrieving mz_intensity_rt values from <vimms.DataGenerator.DataSource object at 0x149031a10>\n",
      "2020-09-10 19:36:55.038 | INFO     | vimms.DataGenerator:get_data:295 - Using values from scans\n",
      "2020-09-10 19:37:48.492 | DEBUG    | vimms.DataGenerator:_kde:637 - Retrieving n_peaks values from <vimms.DataGenerator.DataSource object at 0x149031a10>\n",
      "2020-09-10 19:38:11.495 | INFO     | vimms.Common:save_obj:162 - Saving <class 'vimms.DataGenerator.PeakSampler'> to /Users/simon/git/vimms/demo/01. Data/example_data/peak_sampler_mz_rt_int_19_beers_fragmentation.p\n"
     ]
    }
   ],
   "source": [
    "ps = get_spectral_feature_database(ds_fragmentation, filename, min_ms1_intensity, min_ms2_intensity, min_rt, max_rt,\n",
    "               bandwidth_mz_intensity_rt, bandwidth_n_peaks, out_file)"
   ]
  },
  {
   "cell_type": "code",
   "execution_count": null,
   "metadata": {},
   "outputs": [],
   "source": [
    "ps.get_peak(1, 10)"
   ]
  },
  {
   "cell_type": "code",
   "execution_count": null,
   "metadata": {
    "scrolled": true
   },
   "outputs": [],
   "source": [
    "ps.get_peak(2, 10)"
   ]
  },
  {
   "cell_type": "code",
   "execution_count": null,
   "metadata": {},
   "outputs": [],
   "source": []
  }
 ],
 "metadata": {
  "kernelspec": {
   "display_name": "Python 3",
   "language": "python",
   "name": "python3"
  },
  "language_info": {
   "codemirror_mode": {
    "name": "ipython",
    "version": 3
   },
   "file_extension": ".py",
   "mimetype": "text/x-python",
   "name": "python",
   "nbconvert_exporter": "python",
   "pygments_lexer": "ipython3",
   "version": "3.7.5"
  }
 },
 "nbformat": 4,
 "nbformat_minor": 4
}
