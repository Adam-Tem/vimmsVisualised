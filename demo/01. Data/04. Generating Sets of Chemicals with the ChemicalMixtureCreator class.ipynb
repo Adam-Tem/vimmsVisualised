{
 "cells": [
  {
   "cell_type": "markdown",
   "metadata": {},
   "source": [
    "# 04. Generating Sets of Chemicals with the ChemicalMixtureCreator class"
   ]
  },
  {
   "cell_type": "code",
   "execution_count": 1,
   "metadata": {},
   "outputs": [],
   "source": [
    "%load_ext autoreload\n",
    "%autoreload 2"
   ]
  },
  {
   "cell_type": "code",
   "execution_count": 2,
   "metadata": {},
   "outputs": [],
   "source": [
    "from pathlib import Path"
   ]
  },
  {
   "cell_type": "code",
   "execution_count": 9,
   "metadata": {},
   "outputs": [],
   "source": [
    "import os\n",
    "import sys\n",
    "sys.path.append('../..')"
   ]
  },
  {
   "cell_type": "code",
   "execution_count": 19,
   "metadata": {},
   "outputs": [],
   "source": [
    "import pylab as plt\n",
    "%matplotlib inline"
   ]
  },
  {
   "cell_type": "code",
   "execution_count": 4,
   "metadata": {},
   "outputs": [],
   "source": [
    "from vimms.Chemicals import ChemicalMixtureCreator"
   ]
  },
  {
   "cell_type": "markdown",
   "metadata": {},
   "source": [
    "## Introduction\n",
    "\n",
    "The `ChemicalMixtureCreator` offers the most simple method for creating chemical datasets for simulation allowing the generation of a dataset of chemicals in just a few lines of python.\n",
    "\n",
    "The class requires several other classes to run:\n",
    "\n",
    "- A class that can generate _formulas_\n",
    "- A class that can generate RT and intensity for formulas\n",
    "- A class that can generate chromatograms for formulas\n",
    "- A class that can generate MS2 spectra for formulas\n",
    "\n",
    "### `FormulaSampler`\n",
    "\n",
    "An instance of a class extending `FormulaSampler` must be provided. This samples the chemicals that will appear. Note that `Formula` is abused here: in some cases the result is a chemical formula, but in others, just an m/z. Which it does has implications for the data generated (see below).  Currently, the following options are available:\n",
    "\n",
    "- `DatabaseFormulaSampler`: samples formulas from a database provided. Code is given to generate from HMDB\n",
    "- `UniformMZFormulaSampler`: samples _formulas_ (just masses) uniformly in an m/z range\n",
    "- `PickEverythingFormulaSampler`: samples all formulas from a database\n",
    "- `EvenMZFormulaSampler`: creates evenly spaced m/z, starting at 100Da, with 100 Da spacing. Mainly used for test cases.\n",
    "- `MZMLFormulaSampler`: samples m/z values from a histogram of m/z taken from a user supplied mzML file\n",
    "\n",
    "Examples of creating some of these objects"
   ]
  },
  {
   "cell_type": "markdown",
   "metadata": {},
   "source": [
    "#### `DatabaseFormulaSampler`"
   ]
  },
  {
   "cell_type": "code",
   "execution_count": 7,
   "metadata": {},
   "outputs": [],
   "source": [
    "from vimms.ChemicalSamplers import DatabaseFormulaSampler\n",
    "from vimms.Common import load_obj"
   ]
  },
  {
   "cell_type": "code",
   "execution_count": 11,
   "metadata": {},
   "outputs": [],
   "source": [
    "data_dir = os.path.abspath(os.path.join(os.getcwd(),'..','..','tests','fixtures'))\n",
    "HMDB = os.path.join(data_dir,'hmdb_compounds.p')\n",
    "hmdb = load_obj(HMDB)"
   ]
  },
  {
   "cell_type": "code",
   "execution_count": null,
   "metadata": {},
   "outputs": [],
   "source": [
    "# create a database formula sampler that will sample from HMDB with m/z between 100 and 1000\n",
    "df = DatabaseFormulaSampler(hmdb, min_mz=100, max_mz=1000)\n",
    "samples = df.sample(1000)\n",
    "mz_list = [s[0].mass for s in samples]\n",
    "plt.hist(mz_list)"
   ]
  },
  {
   "cell_type": "code",
   "execution_count": 21,
   "metadata": {},
   "outputs": [
    {
     "data": {
      "text/plain": [
       "(array([ 95.,  95.,  94.,  95., 108., 105.,  95., 103., 117.,  93.]),\n",
       " array([100.18070129, 140.13752696, 180.09435263, 220.0511783 ,\n",
       "        260.00800397, 299.96482964, 339.92165531, 379.87848098,\n",
       "        419.83530665, 459.79213232, 499.74895799]),\n",
       " <BarContainer object of 10 artists>)"
      ]
     },
     "execution_count": 21,
     "metadata": {},
     "output_type": "execute_result"
    },
    {
     "data": {
      "image/png": "[encoded data removed]",
      "text/plain": [
       "<Figure size 432x288 with 1 Axes>"
      ]
     },
     "metadata": {
      "needs_background": "light"
     },
     "output_type": "display_data"
    }
   ],
   "source": [
    "from vimms.ChemicalSamplers import UniformMZFormulaSampler\n",
    "# create a formula sampler that samples masses uniformly between 100 and 500\n",
    "df = UniformMZFormulaSampler(min_mz=100, max_mz=500)\n",
    "samples = df.sample(1000)\n",
    "mz_list = [s[0].mass for s in samples]\n",
    "plt.hist(mz_list)"
   ]
  },
  {
   "cell_type": "code",
   "execution_count": 23,
   "metadata": {},
   "outputs": [
    {
     "name": "stdout",
     "output_type": "stream",
     "text": [
      "Loaded 364 scans\n"
     ]
    },
    {
     "data": {
      "text/plain": [
       "(array([161., 215., 451., 141.,  19.,   3.,   7.,   1.,   0.,   2.]),\n",
       " array([ 82.17358934, 147.7886142 , 213.40363906, 279.01866392,\n",
       "        344.63368877, 410.24871363, 475.86373849, 541.47876335,\n",
       "        607.0937882 , 672.70881306, 738.32383792]),\n",
       " <BarContainer object of 10 artists>)"
      ]
     },
     "execution_count": 23,
     "metadata": {},
     "output_type": "execute_result"
    },
    {
     "data": {
      "image/png": "[encoded data removed]",
      "text/plain": [
       "<Figure size 432x288 with 1 Axes>"
      ]
     },
     "metadata": {
      "needs_background": "light"
     },
     "output_type": "display_data"
    }
   ],
   "source": [
    "from vimms.ChemicalSamplers import MZMLFormulaSampler\n",
    "MZML = os.path.join(data_dir, 'small_mzml.mzML')\n",
    "df = MZMLFormulaSampler(MZML)\n",
    "samples = df.sample(1000)\n",
    "mz_list = [s[0].mass for s in samples]\n",
    "plt.hist(mz_list)"
   ]
  },
  {
   "cell_type": "markdown",
   "metadata": {},
   "source": [
    "### `RTAndIntensitySampler`\n",
    "\n",
    "Passing an instance of this is optional. If nothing is passed, it defaults to `UniformRTAndIntensitySampler`\n",
    "\n",
    "Available:\n",
    "\n",
    "- `UniformRTAndIntensitySampler`: samples RT and intensity independently from uniform distributions (note that intensity is unifrom in log space)\n",
    "- `MZMLRTandIntensitySampler`: samples RT and intensity independely from histograms produced from an mzML file\n",
    "\n",
    "Examples:"
   ]
  },
  {
   "cell_type": "markdown",
   "metadata": {},
   "source": [
    "#### `UniformRTAndIntensitySampler`"
   ]
  },
  {
   "cell_type": "code",
   "execution_count": 28,
   "metadata": {},
   "outputs": [
    {
     "data": {
      "text/plain": [
       "(array([665., 100.,  60.,  46.,  30.,  28.,  28.,  18.,  12.,  13.]),\n",
       " array([7.48074741e+00, 8.14084684e+02, 1.62068862e+03, 2.42729256e+03,\n",
       "        3.23389649e+03, 4.04050043e+03, 4.84710437e+03, 5.65370831e+03,\n",
       "        6.46031224e+03, 7.26691618e+03, 8.07352012e+03]),\n",
       " <BarContainer object of 10 artists>)"
      ]
     },
     "execution_count": 28,
     "metadata": {},
     "output_type": "execute_result"
    },
    {
     "data": {
      "image/png": "[encoded data removed]",
      "text/plain": [
       "<Figure size 432x288 with 1 Axes>"
      ]
     },
     "metadata": {
      "needs_background": "light"
     },
     "output_type": "display_data"
    },
    {
     "data": {
      "image/png": "[encoded data removed]",
      "text/plain": [
       "<Figure size 432x288 with 1 Axes>"
      ]
     },
     "metadata": {
      "needs_background": "light"
     },
     "output_type": "display_data"
    }
   ],
   "source": [
    "from vimms.ChemicalSamplers import UniformRTAndIntensitySampler\n",
    "ri = UniformRTAndIntensitySampler(min_rt=100, max_rt=500, min_log_intensity=2, max_log_intensity=9)\n",
    "rt_list = []\n",
    "intensity_list = []\n",
    "for i in range(1000):\n",
    "    a,b = ri.sample(None) #argument is a formula, but is ignored at the moment\n",
    "    rt_list.append(a)\n",
    "    intensity_list.append(b)\n",
    "plt.figure()\n",
    "plt.hist(rt_list)\n",
    "plt.figure()\n",
    "plt.hist(intensity_list)"
   ]
  },
  {
   "cell_type": "code",
   "execution_count": null,
   "metadata": {},
   "outputs": [],
   "source": []
  },
  {
   "cell_type": "code",
   "execution_count": null,
   "metadata": {},
   "outputs": [],
   "source": []
  }
 ],
 "metadata": {
  "kernelspec": {
   "display_name": "Python 3",
   "language": "python",
   "name": "python3"
  },
  "language_info": {
   "codemirror_mode": {
    "name": "ipython",
    "version": 3
   },
   "file_extension": ".py",
   "mimetype": "text/x-python",
   "name": "python",
   "nbconvert_exporter": "python",
   "pygments_lexer": "ipython3",
   "version": "3.7.5"
  }
 },
 "nbformat": 4,
 "nbformat_minor": 4
}
