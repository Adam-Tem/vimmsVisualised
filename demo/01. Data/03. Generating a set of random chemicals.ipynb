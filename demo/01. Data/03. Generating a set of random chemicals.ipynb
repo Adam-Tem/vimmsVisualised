{
 "cells": [
  {
   "cell_type": "markdown",
   "metadata": {},
   "source": [
    "# 3. Generating a set of random chemicals"
   ]
  },
  {
   "cell_type": "code",
   "execution_count": 1,
   "metadata": {},
   "outputs": [],
   "source": [
    "%matplotlib inline"
   ]
  },
  {
   "cell_type": "code",
   "execution_count": 2,
   "metadata": {},
   "outputs": [],
   "source": [
    "%load_ext autoreload\n",
    "%autoreload 2"
   ]
  },
  {
   "cell_type": "code",
   "execution_count": 3,
   "metadata": {},
   "outputs": [],
   "source": [
    "from pathlib import Path\n",
    "import glob"
   ]
  },
  {
   "cell_type": "code",
   "execution_count": 4,
   "metadata": {},
   "outputs": [],
   "source": [
    "import sys\n",
    "sys.path.append('../..')"
   ]
  },
  {
   "cell_type": "code",
   "execution_count": 5,
   "metadata": {},
   "outputs": [],
   "source": [
    "from vimms.DataGenerator import extract_hmdb_metabolite, get_data_source, get_spectral_feature_database\n",
    "from vimms.MassSpec import IndependentMassSpectrometer\n",
    "from vimms.Controller import SimpleMs1Controller\n",
    "from vimms.Common import *\n",
    "from vimms.Roi import make_roi, RoiToChemicalCreator, extract_roi\n",
    "from vimms.Chemicals import ChemicalCreator"
   ]
  },
  {
   "cell_type": "code",
   "execution_count": 6,
   "metadata": {},
   "outputs": [],
   "source": [
    "# set_log_level_info()\n",
    "set_log_level_debug()"
   ]
  },
  {
   "cell_type": "markdown",
   "metadata": {},
   "source": [
    "### Load Existing Chromatogram and Fragment Pickle File"
   ]
  },
  {
   "cell_type": "markdown",
   "metadata": {},
   "source": [
    "In order to do this you can either use the existing pickle file or you can generate your own pickle file using Section 1"
   ]
  },
  {
   "cell_type": "code",
   "execution_count": 7,
   "metadata": {},
   "outputs": [],
   "source": [
    "data_dir = os.path.abspath(os.path.join(os.getcwd(),'..','..','tests','integration','fixtures'))\n",
    "ps = load_obj(Path(data_dir,'peak_sampler_mz_rt_int_beerqcb_fullscan.p'))"
   ]
  },
  {
   "cell_type": "markdown",
   "metadata": {},
   "source": [
    "Define an output folder containing our results"
   ]
  },
  {
   "cell_type": "code",
   "execution_count": 8,
   "metadata": {},
   "outputs": [],
   "source": [
    "out_dir = Path(base_dir, 'results', 'MS1_single')"
   ]
  },
  {
   "cell_type": "markdown",
   "metadata": {},
   "source": [
    "### Download HMDB sample"
   ]
  },
  {
   "cell_type": "code",
   "execution_count": 9,
   "metadata": {},
   "outputs": [
    {
     "name": "stdout",
     "output_type": "stream",
     "text": [
      "Loaded 114087 DatabaseCompounds from C:\\Users\\Vinny\\work\\vimms\\demo\\01. Data\\example_data\\hmdb_compounds.p\n"
     ]
    }
   ],
   "source": [
    "compound_file = Path(base_dir, 'hmdb_compounds.p')\n",
    "hmdb_compounds = load_obj(compound_file)\n",
    "if hmdb_compounds is None: # if file does not exist\n",
    "\n",
    "    # download the entire HMDB metabolite database\n",
    "    url = 'http://www.hmdb.ca/system/downloads/current/hmdb_metabolites.zip'\n",
    "\n",
    "    out_file = download_file(url)\n",
    "    compounds = extract_hmdb_metabolite(out_file, delete=True)\n",
    "    save_obj(compounds, compound_file)\n",
    "\n",
    "else:\n",
    "    print('Loaded %d DatabaseCompounds from %s' % (len(hmdb_compounds), compound_file))"
   ]
  },
  {
   "cell_type": "code",
   "execution_count": 10,
   "metadata": {},
   "outputs": [],
   "source": [
    "hmdb = load_obj(Path(base_dir, 'hmdb_compounds.p'))"
   ]
  },
  {
   "cell_type": "markdown",
   "metadata": {},
   "source": [
    "### Create a new HMDB sample"
   ]
  },
  {
   "cell_type": "code",
   "execution_count": 11,
   "metadata": {},
   "outputs": [],
   "source": [
    "# the list of ROI sources created in the previous notebook '01. Download Data.ipynb'\n",
    "ROI_Sources = [str(Path(base_dir,'beers', 'datasets'))]\n",
    "\n",
    "# minimum MS1 intensity of chemicals\n",
    "min_ms1_intensity = 1.75E5\n",
    "\n",
    "# m/z and RT range of chemicals\n",
    "rt_range = [(0, 1440)]\n",
    "mz_range = [(0, 1050)]\n",
    "\n",
    "# the number of chemicals in the sample\n",
    "n_chems = 6500\n",
    "\n",
    "# maximum MS level (we do not generate fragmentation peaks when this value is 1)\n",
    "ms_level = 1"
   ]
  },
  {
   "cell_type": "code",
   "execution_count": 12,
   "metadata": {},
   "outputs": [
    {
     "name": "stderr",
     "output_type": "stream",
     "text": [
      "2020-07-17 16:59:40.868 | DEBUG    | vimms.Chemicals:__init__:239 - Sorting database compounds by masses\n",
      "2020-07-17 16:59:45.482 | DEBUG    | vimms.Chemicals:sample:272 - 6500 chemicals to be created.\n",
      "2020-07-17 16:59:46.312 | DEBUG    | vimms.Chemicals:_sample_formulae:346 - Sampling formula 0/6500\n",
      "2020-07-17 16:59:53.743 | DEBUG    | vimms.Chemicals:_sample_formulae:346 - Sampling formula 500/6500\n",
      "2020-07-17 17:00:05.688 | DEBUG    | vimms.Chemicals:_sample_formulae:346 - Sampling formula 1000/6500\n",
      "2020-07-17 17:00:11.647 | DEBUG    | vimms.Chemicals:_sample_formulae:346 - Sampling formula 1500/6500\n",
      "2020-07-17 17:00:17.380 | DEBUG    | vimms.Chemicals:_sample_formulae:346 - Sampling formula 2000/6500\n",
      "2020-07-17 17:00:23.574 | DEBUG    | vimms.Chemicals:_sample_formulae:346 - Sampling formula 2500/6500\n",
      "2020-07-17 17:00:29.422 | DEBUG    | vimms.Chemicals:_sample_formulae:346 - Sampling formula 3000/6500\n",
      "2020-07-17 17:00:34.493 | DEBUG    | vimms.Chemicals:_sample_formulae:346 - Sampling formula 3500/6500\n",
      "2020-07-17 17:00:39.538 | DEBUG    | vimms.Chemicals:_sample_formulae:346 - Sampling formula 4000/6500\n",
      "2020-07-17 17:00:45.135 | DEBUG    | vimms.Chemicals:_sample_formulae:346 - Sampling formula 4500/6500\n",
      "2020-07-17 17:00:52.741 | DEBUG    | vimms.Chemicals:_sample_formulae:346 - Sampling formula 5000/6500\n",
      "2020-07-17 17:01:01.747 | DEBUG    | vimms.Chemicals:_sample_formulae:346 - Sampling formula 5500/6500\n",
      "2020-07-17 17:01:11.681 | DEBUG    | vimms.Chemicals:_sample_formulae:346 - Sampling formula 6000/6500\n",
      "2020-07-17 17:01:44.497 | INFO     | vimms.Common:save_obj:61 - Saving <class 'list'> to C:\\Users\\Vinny\\work\\vimms\\demo\\01. Data\\example_data\\results\\MS1_single\\hmdb_dataset.p\n"
     ]
    }
   ],
   "source": [
    "chems = ChemicalCreator(ps, ROI_Sources, hmdb)\n",
    "hmdb_dataset = chems.sample(mz_range, rt_range, min_ms1_intensity, n_chems, ms_level)\n",
    "save_obj(hmdb_dataset, Path(out_dir, 'hmdb_dataset.p'))"
   ]
  },
  {
   "cell_type": "code",
   "execution_count": 13,
   "metadata": {},
   "outputs": [
    {
     "name": "stdout",
     "output_type": "stream",
     "text": [
      "KnownChemical - 'C8H10N2O3S' rt=706.81 max_intensity=1540634.01\n",
      "KnownChemical - 'C16H15N5O7S2' rt=628.85 max_intensity=29865355.23\n",
      "KnownChemical - 'C17H14F3N3O2S' rt=656.33 max_intensity=5392742.37\n",
      "KnownChemical - 'H3NO3S' rt=248.51 max_intensity=248833.42\n",
      "KnownChemical - 'C11H19NS' rt=251.28 max_intensity=3417417.09\n",
      "KnownChemical - 'C17H17N3O3S' rt=235.21 max_intensity=379594.54\n",
      "KnownChemical - 'C14H25N3O4S' rt=482.16 max_intensity=583376.06\n",
      "KnownChemical - 'C5H10OS' rt=283.33 max_intensity=497063.32\n",
      "KnownChemical - 'C14H18O3' rt=260.40 max_intensity=1155595.19\n",
      "KnownChemical - 'C18H18O4' rt=795.26 max_intensity=620436.20\n"
     ]
    }
   ],
   "source": [
    "for chem in hmdb_dataset[0:10]:\n",
    "    print(chem)"
   ]
  },
  {
   "cell_type": "code",
   "execution_count": null,
   "metadata": {},
   "outputs": [],
   "source": []
  }
 ],
 "metadata": {
  "kernelspec": {
   "display_name": "Python 3",
   "language": "python",
   "name": "python3"
  },
  "language_info": {
   "codemirror_mode": {
    "name": "ipython",
    "version": 3
   },
   "file_extension": ".py",
   "mimetype": "text/x-python",
   "name": "python",
   "nbconvert_exporter": "python",
   "pygments_lexer": "ipython3",
   "version": "3.7.3"
  }
 },
 "nbformat": 4,
 "nbformat_minor": 4
}
