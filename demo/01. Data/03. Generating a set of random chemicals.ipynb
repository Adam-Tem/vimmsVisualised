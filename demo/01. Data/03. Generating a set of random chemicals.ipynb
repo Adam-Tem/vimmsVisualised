{
 "cells": [
  {
   "cell_type": "markdown",
   "metadata": {},
   "source": [
    "# 3. Generating a set of random chemicals"
   ]
  },
  {
   "cell_type": "code",
   "execution_count": 1,
   "metadata": {},
   "outputs": [],
   "source": [
    "%matplotlib inline"
   ]
  },
  {
   "cell_type": "code",
   "execution_count": 2,
   "metadata": {},
   "outputs": [],
   "source": [
    "%load_ext autoreload\n",
    "%autoreload 2"
   ]
  },
  {
   "cell_type": "code",
   "execution_count": 3,
   "metadata": {},
   "outputs": [],
   "source": [
    "from pathlib import Path"
   ]
  },
  {
   "cell_type": "code",
   "execution_count": 4,
   "metadata": {},
   "outputs": [],
   "source": [
    "import sys\n",
    "sys.path.append('../..')"
   ]
  },
  {
   "cell_type": "code",
   "execution_count": 5,
   "metadata": {},
   "outputs": [],
   "source": [
    "from vimms.DataGenerator import extract_hmdb_metabolite\n",
    "from vimms.Common import *\n",
    "from vimms.Chemicals import ChemicalCreator"
   ]
  },
  {
   "cell_type": "code",
   "execution_count": 6,
   "metadata": {},
   "outputs": [],
   "source": [
    "# set_log_level_info()\n",
    "set_log_level_debug()"
   ]
  },
  {
   "cell_type": "markdown",
   "metadata": {},
   "source": [
    "### Load Existing Chromatogram and Fragment Pickle File"
   ]
  },
  {
   "cell_type": "markdown",
   "metadata": {},
   "source": [
    "In order to do this you can either use the existing pickle file or you can generate your own pickle file using Section 1"
   ]
  },
  {
   "cell_type": "code",
   "execution_count": 8,
   "metadata": {},
   "outputs": [],
   "source": [
    "data_dir = os.path.abspath(os.path.join(os.getcwd(),'..','..','tests','fixtures'))\n",
    "ps = load_obj(Path(data_dir,'peak_sampler_mz_rt_int_beerqcb_fullscan.p'))"
   ]
  },
  {
   "cell_type": "markdown",
   "metadata": {},
   "source": [
    "Define an output folder containing our results"
   ]
  },
  {
   "cell_type": "code",
   "execution_count": 9,
   "metadata": {},
   "outputs": [],
   "source": [
    "out_dir = Path(os.getcwd(), 'results', 'MS1_single')"
   ]
  },
  {
   "cell_type": "markdown",
   "metadata": {},
   "source": [
    "### Download HMDB sample"
   ]
  },
  {
   "cell_type": "code",
   "execution_count": 10,
   "metadata": {},
   "outputs": [
    {
     "name": "stdout",
     "output_type": "stream",
     "text": [
      "Loaded 114087 DatabaseCompounds from /Users/simon/git/vimms/tests/fixtures/hmdb_compounds.p\n"
     ]
    }
   ],
   "source": [
    "compound_file = Path(data_dir, 'hmdb_compounds.p')\n",
    "hmdb_compounds = load_obj(compound_file)\n",
    "if hmdb_compounds is None: # if file does not exist\n",
    "\n",
    "    # download the entire HMDB metabolite database\n",
    "    url = 'http://www.hmdb.ca/system/downloads/current/hmdb_metabolites.zip'\n",
    "\n",
    "    out_file = download_file(url)\n",
    "    compounds = extract_hmdb_metabolite(out_file, delete=True)\n",
    "    save_obj(compounds, compound_file)\n",
    "\n",
    "else:\n",
    "    print('Loaded %d DatabaseCompounds from %s' % (len(hmdb_compounds), compound_file))"
   ]
  },
  {
   "cell_type": "code",
   "execution_count": 11,
   "metadata": {},
   "outputs": [],
   "source": [
    "hmdb = load_obj(Path(data_dir, 'hmdb_compounds.p'))"
   ]
  },
  {
   "cell_type": "markdown",
   "metadata": {},
   "source": [
    "### Create a new HMDB sample"
   ]
  },
  {
   "cell_type": "code",
   "execution_count": 12,
   "metadata": {},
   "outputs": [],
   "source": [
    "ROI_Sources = [str(Path(data_dir, 'beer_t10_simulator_files'))]\n",
    "\n",
    "# minimum MS1 intensity of chemicals\n",
    "min_ms1_intensity = 1.75E5\n",
    "\n",
    "# m/z and RT range of chemicals\n",
    "rt_range = [(0, 1440)]\n",
    "mz_range = [(0, 1050)]\n",
    "\n",
    "# the number of chemicals in the sample\n",
    "n_chems = 6500\n",
    "\n",
    "# maximum MS level (we do not generate fragmentation peaks when this value is 1)\n",
    "ms_level = 1"
   ]
  },
  {
   "cell_type": "code",
   "execution_count": 13,
   "metadata": {},
   "outputs": [
    {
     "name": "stderr",
     "output_type": "stream",
     "text": [
      "2020-09-10 19:35:10.620 | DEBUG    | vimms.Chemicals:__init__:209 - Sorting database compounds by masses\n",
      "2020-09-10 19:35:13.583 | DEBUG    | vimms.Chemicals:sample:244 - 6500 chemicals to be created.\n",
      "2020-09-10 19:35:14.888 | DEBUG    | vimms.Chemicals:_sample_formulae:318 - Sampling formula 0/6500\n",
      "2020-09-10 19:35:18.066 | DEBUG    | vimms.Chemicals:_sample_formulae:318 - Sampling formula 500/6500\n",
      "2020-09-10 19:35:21.185 | DEBUG    | vimms.Chemicals:_sample_formulae:318 - Sampling formula 1000/6500\n",
      "2020-09-10 19:35:24.383 | DEBUG    | vimms.Chemicals:_sample_formulae:318 - Sampling formula 1500/6500\n",
      "2020-09-10 19:35:27.606 | DEBUG    | vimms.Chemicals:_sample_formulae:318 - Sampling formula 2000/6500\n",
      "2020-09-10 19:35:30.913 | DEBUG    | vimms.Chemicals:_sample_formulae:318 - Sampling formula 2500/6500\n",
      "2020-09-10 19:35:34.052 | DEBUG    | vimms.Chemicals:_sample_formulae:318 - Sampling formula 3000/6500\n",
      "2020-09-10 19:35:37.883 | DEBUG    | vimms.Chemicals:_sample_formulae:318 - Sampling formula 3500/6500\n",
      "2020-09-10 19:35:41.918 | DEBUG    | vimms.Chemicals:_sample_formulae:318 - Sampling formula 4000/6500\n",
      "2020-09-10 19:35:45.480 | DEBUG    | vimms.Chemicals:_sample_formulae:318 - Sampling formula 4500/6500\n",
      "2020-09-10 19:35:49.692 | DEBUG    | vimms.Chemicals:_sample_formulae:318 - Sampling formula 5000/6500\n",
      "2020-09-10 19:35:55.811 | DEBUG    | vimms.Chemicals:_sample_formulae:318 - Sampling formula 5500/6500\n",
      "2020-09-10 19:36:03.364 | DEBUG    | vimms.Chemicals:_sample_formulae:318 - Sampling formula 6000/6500\n",
      "2020-09-10 19:36:32.778 | INFO     | vimms.Common:create_if_not_exist:149 - Created /Users/simon/git/vimms/demo/01. Data/results/MS1_single\n",
      "2020-09-10 19:36:32.779 | INFO     | vimms.Common:save_obj:162 - Saving <class 'list'> to /Users/simon/git/vimms/demo/01. Data/results/MS1_single/hmdb_dataset.p\n"
     ]
    }
   ],
   "source": [
    "chems = ChemicalCreator(ps, ROI_Sources, hmdb)\n",
    "hmdb_dataset = chems.sample(mz_range, rt_range, min_ms1_intensity, n_chems, ms_level)\n",
    "save_obj(hmdb_dataset, Path(out_dir, 'hmdb_dataset.p'))"
   ]
  },
  {
   "cell_type": "code",
   "execution_count": 14,
   "metadata": {},
   "outputs": [
    {
     "name": "stdout",
     "output_type": "stream",
     "text": [
      "KnownChemical - 'C10H20N2OS' rt=1303.86 max_intensity=752114.64\n",
      "KnownChemical - 'C17H36' rt=483.17 max_intensity=854236.05\n",
      "KnownChemical - 'C25H36O2' rt=196.12 max_intensity=918508.13\n",
      "KnownChemical - 'C12H22O8' rt=478.12 max_intensity=1663121.94\n",
      "KnownChemical - 'C18H17NO3' rt=734.31 max_intensity=331080.62\n",
      "KnownChemical - 'C9H9N' rt=903.02 max_intensity=386942.42\n",
      "KnownChemical - 'C3H7O4P' rt=276.06 max_intensity=965863.16\n",
      "KnownChemical - 'C15H17NO10' rt=434.00 max_intensity=699439.57\n",
      "KnownChemical - 'C23H26N2O6' rt=601.19 max_intensity=222509.67\n",
      "KnownChemical - 'C48H82NO8P' rt=619.80 max_intensity=179245.03\n"
     ]
    }
   ],
   "source": [
    "for chem in hmdb_dataset[0:10]:\n",
    "    print(chem)"
   ]
  },
  {
   "cell_type": "code",
   "execution_count": null,
   "metadata": {},
   "outputs": [],
   "source": []
  }
 ],
 "metadata": {
  "kernelspec": {
   "display_name": "Python 3",
   "language": "python",
   "name": "python3"
  },
  "language_info": {
   "codemirror_mode": {
    "name": "ipython",
    "version": 3
   },
   "file_extension": ".py",
   "mimetype": "text/x-python",
   "name": "python",
   "nbconvert_exporter": "python",
   "pygments_lexer": "ipython3",
   "version": "3.7.5"
  }
 },
 "nbformat": 4,
 "nbformat_minor": 4
}
