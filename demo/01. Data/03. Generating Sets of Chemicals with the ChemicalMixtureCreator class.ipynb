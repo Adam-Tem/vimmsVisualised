{
 "cells": [
  {
   "cell_type": "markdown",
   "metadata": {},
   "source": [
    "# 03. Generating Sets of Chemicals with the ChemicalMixtureCreator class"
   ]
  },
  {
   "cell_type": "code",
   "execution_count": 1,
   "metadata": {},
   "outputs": [],
   "source": [
    "%load_ext autoreload\n",
    "%autoreload 2"
   ]
  },
  {
   "cell_type": "code",
   "execution_count": 2,
   "metadata": {},
   "outputs": [],
   "source": [
    "from pathlib import Path\n",
    "import numpy as np"
   ]
  },
  {
   "cell_type": "code",
   "execution_count": 3,
   "metadata": {},
   "outputs": [],
   "source": [
    "import os\n",
    "import sys\n",
    "sys.path.append('../..')"
   ]
  },
  {
   "cell_type": "code",
   "execution_count": 4,
   "metadata": {},
   "outputs": [],
   "source": [
    "import pylab as plt\n",
    "%matplotlib inline"
   ]
  },
  {
   "cell_type": "code",
   "execution_count": 5,
   "metadata": {},
   "outputs": [],
   "source": [
    "from vimms.Chemicals import ChemicalMixtureCreator\n",
    "from vimms.MassSpec import IndependentMassSpectrometer\n",
    "from vimms.Controller import TopNController\n",
    "from vimms.Environment import Environment\n",
    "from vimms.Common import POSITIVE, set_log_level_warning, set_log_level_debug"
   ]
  },
  {
   "cell_type": "markdown",
   "metadata": {},
   "source": [
    "## Introduction\n",
    "\n",
    "The `ChemicalMixtureCreator` offers the most simple method for creating chemical datasets for simulation allowing the generation of a dataset of chemicals in just a few lines of python.\n",
    "\n",
    "The class requires several other classes to run:\n",
    "\n",
    "- A class that can generate _formulas_\n",
    "- A class that can generate RT and intensity for formulas\n",
    "- A class that can generate chromatograms for formulas\n",
    "- A class that can generate MS2 spectra for formulas\n",
    "\n",
    "### `FormulaSampler`\n",
    "\n",
    "An instance of a class extending `FormulaSampler` must be provided. This samples the chemicals that will appear. Note that `Formula` is abused here: in some cases the result is a chemical formula, but in others, just an m/z. Which it does has implications for the data generated (see below).  Currently, the following options are available:\n",
    "\n",
    "- `DatabaseFormulaSampler`: samples formulas from a database provided. Code is given to generate from HMDB\n",
    "- `UniformMZFormulaSampler`: samples _formulas_ (just masses) uniformly in an m/z range\n",
    "- `PickEverythingFormulaSampler`: samples all formulas from a database\n",
    "- `EvenMZFormulaSampler`: creates evenly spaced m/z, starting at 100Da, with 100 Da spacing. Mainly used for test cases.\n",
    "- `MZMLFormulaSampler`: samples m/z values from a histogram of m/z taken from a user supplied mzML file\n",
    "\n",
    "Examples of creating some of these objects"
   ]
  },
  {
   "cell_type": "markdown",
   "metadata": {},
   "source": [
    "#### `DatabaseFormulaSampler`"
   ]
  },
  {
   "cell_type": "code",
   "execution_count": 6,
   "metadata": {},
   "outputs": [],
   "source": [
    "from vimms.ChemicalSamplers import DatabaseFormulaSampler\n",
    "from vimms.Common import load_obj"
   ]
  },
  {
   "cell_type": "code",
   "execution_count": 7,
   "metadata": {},
   "outputs": [],
   "source": [
    "data_dir = os.path.abspath(os.path.join(os.getcwd(),'..','..','tests','fixtures'))\n",
    "HMDB = os.path.join(data_dir,'hmdb_compounds.p')\n",
    "hmdb = load_obj(HMDB)"
   ]
  },
  {
   "cell_type": "code",
   "execution_count": 8,
   "metadata": {},
   "outputs": [],
   "source": [
    "compound_file = 'hmdb_compounds.p'\n",
    "try:\n",
    "    hmdb_compounds = load_obj(compound_file)\n",
    "except FileNotFoundError:\n",
    "    \n",
    "    # download the entire HMDB metabolite database and extract chemicals from it\n",
    "    # url = 'http://www.hmdb.ca/system/downloads/current/hmdb_metabolites.zip'\n",
    "    # out_file = download_file(url)\n",
    "    # compounds = extract_hmdb_metabolite(out_file, delete=True)\n",
    "    # save_obj(compounds, compound_file)\n",
    "    \n",
    "    # above could be quite slow slow, so download a pre-processed result instead\n",
    "    url = 'https://github.com/glasgowcompbio/vimms-data/raw/main/hmdb_compounds.p'\n",
    "    download_file(url, compound_file)\n",
    "    hmdb_compounds = load_obj(compound_file)"
   ]
  },
  {
   "cell_type": "code",
   "execution_count": 9,
   "metadata": {},
   "outputs": [
    {
     "name": "stderr",
     "output_type": "stream",
     "text": [
      "2022-02-24 16:33:57.856 | DEBUG    | vimms.ChemicalSamplers:sample:73 - 73822 unique formulas in filtered database\n",
      "2022-02-24 16:33:57.856 | DEBUG    | vimms.ChemicalSamplers:sample:79 - Sampled formulas\n"
     ]
    },
    {
     "data": {
      "text/plain": [
       "(array([ 62.,  62.,  87.,  74.,  45.,  51.,  75., 137., 233., 174.]),\n",
       " array([104.06597108, 191.53613807, 279.00630506, 366.47647206,\n",
       "        453.94663905, 541.41680604, 628.88697304, 716.35714003,\n",
       "        803.82730702, 891.29747402, 978.76764101]),\n",
       " <BarContainer object of 10 artists>)"
      ]
     },
     "execution_count": 9,
     "metadata": {},
     "output_type": "execute_result"
    },
    {
     "data": {
      "image/png": "[encoded data removed]",
      "text/plain": [
       "<Figure size 432x288 with 1 Axes>"
      ]
     },
     "metadata": {
      "needs_background": "light"
     },
     "output_type": "display_data"
    }
   ],
   "source": [
    "# create a database formula sampler that will sample from HMDB with m/z between 100 and 1000\n",
    "df = DatabaseFormulaSampler(hmdb_compounds, min_mz=100, max_mz=1000)\n",
    "samples = df.sample(1000)\n",
    "mz_list = [s[0].mass for s in samples]\n",
    "plt.hist(mz_list)"
   ]
  },
  {
   "cell_type": "code",
   "execution_count": 10,
   "metadata": {},
   "outputs": [
    {
     "data": {
      "text/plain": [
       "(array([ 85.,  94., 102., 106., 105., 100.,  97., 105., 106., 100.]),\n",
       " array([100.4724363 , 140.38524556, 180.29805482, 220.21086408,\n",
       "        260.12367334, 300.0364826 , 339.94929186, 379.86210111,\n",
       "        419.77491037, 459.68771963, 499.60052889]),\n",
       " <BarContainer object of 10 artists>)"
      ]
     },
     "execution_count": 10,
     "metadata": {},
     "output_type": "execute_result"
    },
    {
     "data": {
      "image/png": "[encoded data removed]",
      "text/plain": [
       "<Figure size 432x288 with 1 Axes>"
      ]
     },
     "metadata": {
      "needs_background": "light"
     },
     "output_type": "display_data"
    }
   ],
   "source": [
    "from vimms.ChemicalSamplers import UniformMZFormulaSampler\n",
    "# create a formula sampler that samples masses uniformly between 100 and 500\n",
    "df = UniformMZFormulaSampler(min_mz=100, max_mz=500)\n",
    "samples = df.sample(1000)\n",
    "mz_list = [s[0].mass for s in samples]\n",
    "plt.hist(mz_list)"
   ]
  },
  {
   "cell_type": "code",
   "execution_count": 11,
   "metadata": {},
   "outputs": [
    {
     "name": "stderr",
     "output_type": "stream",
     "text": [
      "2022-02-24 16:33:58.751 | DEBUG    | mass_spec_utils.data_import.mzml:_load_file:166 - Loaded 364 scans\n"
     ]
    },
    {
     "data": {
      "text/plain": [
       "(array([116., 240., 432., 180.,  25.,   1.,   4.,   0.,   1.,   1.]),\n",
       " array([ 73.76019879, 140.16717238, 206.57414598, 272.98111957,\n",
       "        339.38809316, 405.79506675, 472.20204034, 538.60901393,\n",
       "        605.01598753, 671.42296112, 737.82993471]),\n",
       " <BarContainer object of 10 artists>)"
      ]
     },
     "execution_count": 11,
     "metadata": {},
     "output_type": "execute_result"
    },
    {
     "data": {
      "image/png": "[encoded data removed]",
      "text/plain": [
       "<Figure size 432x288 with 1 Axes>"
      ]
     },
     "metadata": {
      "needs_background": "light"
     },
     "output_type": "display_data"
    }
   ],
   "source": [
    "from vimms.ChemicalSamplers import MZMLFormulaSampler\n",
    "MZML = os.path.join(data_dir, 'small_mzml.mzML')\n",
    "df = MZMLFormulaSampler(MZML)\n",
    "samples = df.sample(1000)\n",
    "mz_list = [s[0].mass for s in samples]\n",
    "plt.hist(mz_list)"
   ]
  },
  {
   "cell_type": "markdown",
   "metadata": {},
   "source": [
    "### `RTAndIntensitySampler`\n",
    "\n",
    "Passing an instance of this is optional. If nothing is passed, it defaults to `UniformRTAndIntensitySampler`\n",
    "\n",
    "Available:\n",
    "\n",
    "- `UniformRTAndIntensitySampler`: samples RT and intensity independently from uniform distributions (note that intensity is unifrom in log space)\n",
    "- `MZMLRTandIntensitySampler`: samples RT and intensity independely from histograms produced from an mzML file\n",
    "\n",
    "Examples:"
   ]
  },
  {
   "cell_type": "markdown",
   "metadata": {},
   "source": [
    "#### `UniformRTAndIntensitySampler`"
   ]
  },
  {
   "cell_type": "code",
   "execution_count": 12,
   "metadata": {},
   "outputs": [
    {
     "data": {
      "text/plain": [
       "(array([669., 100.,  60.,  32.,  20.,  32.,  25.,  23.,  17.,  22.]),\n",
       " array([7.45916588e+00, 8.15014228e+02, 1.62256929e+03, 2.43012435e+03,\n",
       "        3.23767941e+03, 4.04523448e+03, 4.85278954e+03, 5.66034460e+03,\n",
       "        6.46789966e+03, 7.27545473e+03, 8.08300979e+03]),\n",
       " <BarContainer object of 10 artists>)"
      ]
     },
     "execution_count": 12,
     "metadata": {},
     "output_type": "execute_result"
    },
    {
     "data": {
      "image/png": "[encoded data removed]",
      "text/plain": [
       "<Figure size 432x288 with 1 Axes>"
      ]
     },
     "metadata": {
      "needs_background": "light"
     },
     "output_type": "display_data"
    },
    {
     "data": {
      "image/png": "[encoded data removed]",
      "text/plain": [
       "<Figure size 432x288 with 1 Axes>"
      ]
     },
     "metadata": {
      "needs_background": "light"
     },
     "output_type": "display_data"
    }
   ],
   "source": [
    "from vimms.ChemicalSamplers import UniformRTAndIntensitySampler\n",
    "ri = UniformRTAndIntensitySampler(min_rt=100, max_rt=500, min_log_intensity=2, max_log_intensity=9)\n",
    "rt_list = []\n",
    "intensity_list = []\n",
    "for i in range(1000):\n",
    "    a,b = ri.sample(None) #argument is a formula, but is ignored at the moment\n",
    "    rt_list.append(a)\n",
    "    intensity_list.append(b)\n",
    "plt.figure()\n",
    "plt.hist(rt_list)\n",
    "plt.figure()\n",
    "plt.hist(intensity_list)"
   ]
  },
  {
   "cell_type": "markdown",
   "metadata": {},
   "source": [
    "#### `MZMLRTandIntensitySampler`"
   ]
  },
  {
   "cell_type": "code",
   "execution_count": 13,
   "metadata": {},
   "outputs": [
    {
     "name": "stderr",
     "output_type": "stream",
     "text": [
      "2022-02-24 16:34:00.000 | DEBUG    | mass_spec_utils.data_import.mzml:_load_file:166 - Loaded 364 scans\n"
     ]
    },
    {
     "data": {
      "text/plain": [
       "(array([981.,  10.,   3.,   0.,   4.,   1.,   0.,   0.,   0.,   1.]),\n",
       " array([  15659.03673651,  809088.79872283, 1602518.56070915,\n",
       "        2395948.32269548, 3189378.0846818 , 3982807.84666812,\n",
       "        4776237.60865444, 5569667.37064076, 6363097.13262708,\n",
       "        7156526.89461341, 7949956.65659973]),\n",
       " <BarContainer object of 10 artists>)"
      ]
     },
     "execution_count": 13,
     "metadata": {},
     "output_type": "execute_result"
    },
    {
     "data": {
      "image/png": "[encoded data removed]",
      "text/plain": [
       "<Figure size 432x288 with 1 Axes>"
      ]
     },
     "metadata": {
      "needs_background": "light"
     },
     "output_type": "display_data"
    },
    {
     "data": {
      "image/png": "[encoded data removed]",
      "text/plain": [
       "<Figure size 432x288 with 1 Axes>"
      ]
     },
     "metadata": {
      "needs_background": "light"
     },
     "output_type": "display_data"
    }
   ],
   "source": [
    "from vimms.ChemicalSamplers import MZMLRTandIntensitySampler\n",
    "ri = MZMLRTandIntensitySampler(MZML)\n",
    "\n",
    "rt_list = []\n",
    "intensity_list = []\n",
    "\n",
    "for i in range(1000):\n",
    "    a,b = ri.sample(None) #argument is a formula, but is ignored at the moment\n",
    "    rt_list.append(a)\n",
    "    intensity_list.append(b)\n",
    "\n",
    "plt.figure()\n",
    "plt.hist(rt_list)\n",
    "plt.figure()\n",
    "plt.hist(intensity_list)"
   ]
  },
  {
   "cell_type": "markdown",
   "metadata": {},
   "source": [
    "### `ChromatogramSampler`\n",
    "\n",
    "This optional object defines where chromatograms should be sampled from for each formula. There are three options:\n",
    "\n",
    "- `GaussianChromatogramSampler`: generates normal shape chromatographic peaks\n",
    "- `ConstantChromoatogramSampler`: generates constant chromatographic (i.e. flat) peaks (mainly for testing)\n",
    "- `MZMLChromatogramSampelr`: samples chromatograms from ROIs extracted from an mzML file\n",
    "\n",
    "Note that in all cases, the `sample` method takes three arguments: a formula, an rt and an intensity. These are so that, in future we could condition the chromatogram finding on particular values of RT and intensity (e.g. high intensity = better peaks).\n",
    "\n",
    "Examples:"
   ]
  },
  {
   "cell_type": "markdown",
   "metadata": {},
   "source": [
    "#### `GaussianChomatogramSampler`"
   ]
  },
  {
   "cell_type": "code",
   "execution_count": 14,
   "metadata": {},
   "outputs": [
    {
     "data": {
      "text/plain": [
       "[<matplotlib.lines.Line2D at 0x2b18bb37c70>]"
      ]
     },
     "execution_count": 14,
     "metadata": {},
     "output_type": "execute_result"
    },
    {
     "data": {
      "image/png": "[encoded data removed]",
      "text/plain": [
       "<Figure size 432x288 with 1 Axes>"
      ]
     },
     "metadata": {
      "needs_background": "light"
     },
     "output_type": "display_data"
    }
   ],
   "source": [
    "# grab a formula to use for example sampling\n",
    "f_list = df.sample(1)\n",
    "formula, name = f_list[0]\n",
    "from vimms.ChemicalSamplers import GaussianChromatogramSampler\n",
    "cs = GaussianChromatogramSampler(sigma=10)\n",
    "example_rt = 100\n",
    "example_intensity = 1e5\n",
    "c = cs.sample(formula, example_rt, example_intensity)\n",
    "rt_vals = np.linspace(50,150)\n",
    "intensities = []\n",
    "for r in rt_vals:\n",
    "    intensities.append(c.get_relative_intensity(r - example_rt))\n",
    "plt.plot(rt_vals, intensities)"
   ]
  },
  {
   "cell_type": "markdown",
   "metadata": {},
   "source": [
    "#### `ConstantChromatogramSampler`"
   ]
  },
  {
   "cell_type": "code",
   "execution_count": 15,
   "metadata": {},
   "outputs": [
    {
     "data": {
      "text/plain": [
       "[<matplotlib.lines.Line2D at 0x2b194427c40>]"
      ]
     },
     "execution_count": 15,
     "metadata": {},
     "output_type": "execute_result"
    },
    {
     "data": {
      "image/png": "[encoded data removed]",
      "text/plain": [
       "<Figure size 432x288 with 1 Axes>"
      ]
     },
     "metadata": {
      "needs_background": "light"
     },
     "output_type": "display_data"
    }
   ],
   "source": [
    "from vimms.ChemicalSamplers import ConstantChromatogramSampler\n",
    "cs = ConstantChromatogramSampler()\n",
    "example_rt = 100\n",
    "example_intensity = 1e5\n",
    "c = cs.sample(formula, example_rt, example_intensity)\n",
    "rt_vals = np.linspace(50,150)\n",
    "intensities = []\n",
    "for r in rt_vals:\n",
    "    intensities.append(c.get_relative_intensity(r - example_rt))\n",
    "plt.plot(rt_vals, intensities)"
   ]
  },
  {
   "cell_type": "markdown",
   "metadata": {},
   "source": [
    "#### `MZMLChromatogramSampler`"
   ]
  },
  {
   "cell_type": "code",
   "execution_count": 16,
   "metadata": {},
   "outputs": [
    {
     "name": "stderr",
     "output_type": "stream",
     "text": [
      "2022-02-24 16:34:09.710 | DEBUG    | vimms.ChemicalSamplers:_extract_rois:370 - Extracted 8119 good ROIs from C:\\Users\\joewa\\Work\\git\\vimms\\tests\\fixtures\\small_mzml.mzML\n"
     ]
    },
    {
     "data": {
      "text/plain": [
       "[<matplotlib.lines.Line2D at 0x2b18bc41e80>]"
      ]
     },
     "execution_count": 16,
     "metadata": {},
     "output_type": "execute_result"
    },
    {
     "data": {
      "image/png": "[encoded data removed]",
      "text/plain": [
       "<Figure size 432x288 with 1 Axes>"
      ]
     },
     "metadata": {
      "needs_background": "light"
     },
     "output_type": "display_data"
    }
   ],
   "source": [
    "# note that if you want to set the parameters for the ROI extraction from the mzML, use the RioParams object\n",
    "# e.g.\n",
    "from vimms.Roi import RoiParams\n",
    "roi_params = RoiParams(min_intensity=1000)\n",
    "from vimms.ChemicalSamplers import MZMLChromatogramSampler\n",
    "cs = MZMLChromatogramSampler(MZML, roi_params=roi_params)\n",
    "c = cs.sample(formula, example_rt, example_intensity)\n",
    "rt_vals = np.linspace(50,150)\n",
    "intensities = []\n",
    "for r in rt_vals:\n",
    "    intensities.append(c.get_relative_intensity(r - example_rt))\n",
    "plt.plot(rt_vals, intensities)"
   ]
  },
  {
   "cell_type": "markdown",
   "metadata": {},
   "source": [
    "### MS2Sampler\n",
    "\n",
    "This final class determines how chemicals will be assigned MS2 peaks. There are six options:\n",
    "\n",
    "- `UniformMS2Sampler`: samples uniformly between a min mass and the mass of the formula\n",
    "- `FixedMS2Sampler`: generates a fixed number of peaks, evenly spaced below the formula (mainly for testing)\n",
    "- `CRPSMS2Sampler`: generates MS2 peaks using a Chinese Restaurant Process\n",
    "- `MGFMS2Sampler`: generates MS2 spectra by sampling from those in an mgf file\n",
    "- `ExactMatchMS2Sampler`: to be used in the case where objects in the MGF file share an ID with the database used for formula sampling\n",
    "- `MZMLMS2Sampler`: samples MS2 spectra from an MS2 scan in an mzML file\n",
    "\n",
    "In all cases, `sample` returns a list of masses, a list of intensties, and a *parent proportion* which is how much of the parents intensity gets transfered into the MS2 spectrum. The proportion is uniform between `min_proportion` and `max_proportion` which are passed to the constructors.\n",
    "\n",
    "Examples:"
   ]
  },
  {
   "cell_type": "code",
   "execution_count": 17,
   "metadata": {},
   "outputs": [],
   "source": [
    "def plot_spectrum(mz_list, intensity_list):\n",
    "    plt.figure()\n",
    "    for i,m in enumerate(mz_list):\n",
    "        plt.plot([m,m],[0,intensity_list[i]])\n",
    "class TempChemical:\n",
    "    def __init__(self, mass):\n",
    "        self.mass = mass"
   ]
  },
  {
   "cell_type": "markdown",
   "metadata": {},
   "source": [
    "#### `UniformMS2Sampler`"
   ]
  },
  {
   "cell_type": "code",
   "execution_count": 18,
   "metadata": {},
   "outputs": [
    {
     "data": {
      "image/png": "[encoded data removed]",
      "text/plain": [
       "<Figure size 432x288 with 1 Axes>"
      ]
     },
     "metadata": {
      "needs_background": "light"
     },
     "output_type": "display_data"
    }
   ],
   "source": [
    "from vimms.ChemicalSamplers import UniformMS2Sampler\n",
    "ms = UniformMS2Sampler(poiss_peak_mean=5) # number of fragments is decided by sample from poisson\n",
    "tc = TempChemical(formula.mass)\n",
    "a = ms.sample(tc)\n",
    "mz_list = a[0]\n",
    "intensity_list = a[1]\n",
    "plot_spectrum(mz_list, intensity_list)"
   ]
  },
  {
   "cell_type": "markdown",
   "metadata": {},
   "source": [
    "#### `CRPMS2Sampler`"
   ]
  },
  {
   "cell_type": "code",
   "execution_count": 19,
   "metadata": {},
   "outputs": [
    {
     "data": {
      "image/png": "[encoded data removed]",
      "text/plain": [
       "<Figure size 432x288 with 1 Axes>"
      ]
     },
     "metadata": {
      "needs_background": "light"
     },
     "output_type": "display_data"
    }
   ],
   "source": [
    "from vimms.ChemicalSamplers import CRPMS2Sampler\n",
    "ms = CRPMS2Sampler(n_draws=500, alpha=1) # alpha and n_draws control the propery of the CRP\n",
    "a = ms.sample(tc)\n",
    "mz_list = a[0]\n",
    "intensity_list = a[1]\n",
    "plot_spectrum(mz_list, intensity_list)"
   ]
  },
  {
   "cell_type": "markdown",
   "metadata": {},
   "source": [
    "#### `FixedMS2Sampler`"
   ]
  },
  {
   "cell_type": "code",
   "execution_count": 20,
   "metadata": {},
   "outputs": [
    {
     "data": {
      "image/png": "[encoded data removed]",
      "text/plain": [
       "<Figure size 432x288 with 1 Axes>"
      ]
     },
     "metadata": {
      "needs_background": "light"
     },
     "output_type": "display_data"
    }
   ],
   "source": [
    "from vimms.ChemicalSamplers import FixedMS2Sampler\n",
    "ms = FixedMS2Sampler(n_frags=3) # how many to make\n",
    "a = ms.sample(tc)\n",
    "mz_list = a[0]\n",
    "intensity_list = a[1]\n",
    "plot_spectrum(mz_list, intensity_list)"
   ]
  },
  {
   "cell_type": "markdown",
   "metadata": {},
   "source": [
    "#### `MGFMS2Sampler`"
   ]
  },
  {
   "cell_type": "code",
   "execution_count": 21,
   "metadata": {},
   "outputs": [
    {
     "name": "stderr",
     "output_type": "stream",
     "text": [
      "2022-02-24 16:34:10.843 | DEBUG    | mass_spec_utils.library_matching.gnps:load_mgf:38 - Loaded 100 spectra\n",
      "2022-02-24 16:34:10.855 | DEBUG    | mass_spec_utils.library_matching.gnps:load_mgf:38 - Loaded 200 spectra\n",
      "2022-02-24 16:34:10.877 | DEBUG    | mass_spec_utils.library_matching.gnps:load_mgf:38 - Loaded 300 spectra\n",
      "2022-02-24 16:34:10.959 | DEBUG    | mass_spec_utils.library_matching.gnps:load_mgf:38 - Loaded 400 spectra\n",
      "2022-02-24 16:34:10.985 | DEBUG    | vimms.ChemicalSamplers:__init__:536 - Loaded 411 spectra from C:\\Users\\joewa\\Work\\git\\vimms\\tests\\fixtures\\small_mgf.mgf\n"
     ]
    },
    {
     "data": {
      "image/png": "[encoded data removed]",
      "text/plain": [
       "<Figure size 432x288 with 1 Axes>"
      ]
     },
     "metadata": {
      "needs_background": "light"
     },
     "output_type": "display_data"
    }
   ],
   "source": [
    "MGF = os.path.join(data_dir, 'small_mgf.mgf')\n",
    "from vimms.ChemicalSamplers import MGFMS2Sampler\n",
    "ms = MGFMS2Sampler(MGF)\n",
    "a = ms.sample(tc)\n",
    "mz_list = a[0]\n",
    "intensity_list = a[1]\n",
    "plot_spectrum(mz_list, intensity_list)"
   ]
  },
  {
   "cell_type": "markdown",
   "metadata": {},
   "source": [
    "#### `MZMLMS2Sampler`"
   ]
  },
  {
   "cell_type": "code",
   "execution_count": 22,
   "metadata": {},
   "outputs": [
    {
     "name": "stderr",
     "output_type": "stream",
     "text": [
      "2022-02-24 16:34:11.559 | DEBUG    | mass_spec_utils.data_import.mzml:_load_file:166 - Loaded 364 scans\n",
      "2022-02-24 16:34:11.568 | DEBUG    | vimms.ChemicalSamplers:_filter_scans:607 - 331 MS2 scansn remaining\n"
     ]
    },
    {
     "data": {
      "image/png": "[encoded data removed]",
      "text/plain": [
       "<Figure size 432x288 with 1 Axes>"
      ]
     },
     "metadata": {
      "needs_background": "light"
     },
     "output_type": "display_data"
    }
   ],
   "source": [
    "from vimms.ChemicalSamplers import MZMLMS2Sampler\n",
    "ms = MZMLMS2Sampler(MZML)\n",
    "a = ms.sample(tc)\n",
    "mz_list = a[0]\n",
    "intensity_list = a[1]\n",
    "plot_spectrum(mz_list, intensity_list)"
   ]
  },
  {
   "cell_type": "markdown",
   "metadata": {},
   "source": [
    "#### `ExactMatchMS2Sampler`"
   ]
  },
  {
   "cell_type": "code",
   "execution_count": 23,
   "metadata": {},
   "outputs": [
    {
     "name": "stderr",
     "output_type": "stream",
     "text": [
      "2022-02-24 16:34:11.759 | DEBUG    | mass_spec_utils.library_matching.gnps:load_mgf:38 - Loaded 100 spectra\n",
      "2022-02-24 16:34:11.759 | DEBUG    | mass_spec_utils.library_matching.gnps:load_mgf:38 - Loaded 200 spectra\n",
      "2022-02-24 16:34:11.791 | DEBUG    | mass_spec_utils.library_matching.gnps:load_mgf:38 - Loaded 300 spectra\n",
      "2022-02-24 16:34:11.877 | DEBUG    | mass_spec_utils.library_matching.gnps:load_mgf:38 - Loaded 400 spectra\n",
      "2022-02-24 16:34:11.897 | DEBUG    | vimms.ChemicalSamplers:__init__:536 - Loaded 411 spectra from C:\\Users\\joewa\\Work\\git\\vimms\\tests\\fixtures\\small_mgf.mgf\n"
     ]
    },
    {
     "data": {
      "image/png": "[encoded data removed]",
      "text/plain": [
       "<Figure size 432x288 with 1 Axes>"
      ]
     },
     "metadata": {
      "needs_background": "light"
     },
     "output_type": "display_data"
    }
   ],
   "source": [
    "from vimms.ChemicalSamplers import ExactMatchMS2Sampler\n",
    "# when formulas are sampled from a database, their accession is stored. We can cheat this as follows:\n",
    "tc.database_accession = 'CCMSLIB00005435506'\n",
    "# the MS2 sampler will then extract the spectrum that has the id_fiels set to this ID value\n",
    "ms = ExactMatchMS2Sampler(MGF, id_field='SPECTRUMID')\n",
    "a = ms.sample(tc)\n",
    "mz_list = a[0]\n",
    "intensity_list = a[1]\n",
    "plot_spectrum(mz_list, intensity_list)"
   ]
  },
  {
   "cell_type": "markdown",
   "metadata": {},
   "source": [
    "## Everything together - `ChemicalMixtureCreator`"
   ]
  },
  {
   "cell_type": "markdown",
   "metadata": {},
   "source": [
    "The simplest use is to just pass a formula sampler and let the rest go to defaults:"
   ]
  },
  {
   "cell_type": "code",
   "execution_count": 24,
   "metadata": {},
   "outputs": [
    {
     "name": "stderr",
     "output_type": "stream",
     "text": [
      "2022-02-24 16:34:18.326 | DEBUG    | vimms.ChemicalSamplers:sample:73 - 73822 unique formulas in filtered database\n",
      "2022-02-24 16:34:18.332 | DEBUG    | vimms.ChemicalSamplers:sample:79 - Sampled formulas\n",
      "2022-02-24 16:34:18.594 | DEBUG    | vimms.Chemicals:sample:324 - Sampled rt and intensity values and chromatograms\n"
     ]
    }
   ],
   "source": [
    "from vimms.Chemicals import ChemicalMixtureCreator\n",
    "df = DatabaseFormulaSampler(hmdb, min_mz=100, max_mz=1000)\n",
    "cm = ChemicalMixtureCreator(df)\n",
    "chemicals = cm.sample(100,2) # sample 100 chemicals up to MS2"
   ]
  },
  {
   "cell_type": "markdown",
   "metadata": {},
   "source": [
    "If more tailoring is required, pass the different samplers as arguments. E.g. if you wanted a CRPMS2Sampler and MZMLChromatograms:"
   ]
  },
  {
   "cell_type": "code",
   "execution_count": 25,
   "metadata": {},
   "outputs": [
    {
     "name": "stderr",
     "output_type": "stream",
     "text": [
      "2022-02-24 16:34:23.502 | DEBUG    | vimms.ChemicalSamplers:_extract_rois:370 - Extracted 8119 good ROIs from C:\\Users\\joewa\\Work\\git\\vimms\\tests\\fixtures\\small_mzml.mzML\n",
      "2022-02-24 16:34:34.831 | DEBUG    | vimms.ChemicalSamplers:sample:73 - 73822 unique formulas in filtered database\n",
      "2022-02-24 16:34:34.836 | DEBUG    | vimms.ChemicalSamplers:sample:79 - Sampled formulas\n",
      "2022-02-24 16:34:34.900 | DEBUG    | vimms.Chemicals:sample:324 - Sampled rt and intensity values and chromatograms\n"
     ]
    }
   ],
   "source": [
    "cm = ChemicalMixtureCreator(df, ms2_sampler=CRPMS2Sampler(n_draws=100, alpha=2), chromatogram_sampler=MZMLChromatogramSampler(MZML))\n",
    "chemicals = cm.sample(100,2)"
   ]
  },
  {
   "cell_type": "markdown",
   "metadata": {
    "tags": []
   },
   "source": [
    "### Use in simulator"
   ]
  },
  {
   "cell_type": "markdown",
   "metadata": {},
   "source": [
    "We can use the sampled chemicals to simulate various fragmentation strategies in ViMMS. Below we run it through a TopN strategy.\n",
    "\n",
    "First we set some parameters for the Top-N controller and its simulated environment."
   ]
  },
  {
   "cell_type": "code",
   "execution_count": 26,
   "metadata": {},
   "outputs": [],
   "source": [
    "rt_range = [(0, 1440)]\n",
    "min_rt = rt_range[0][0]\n",
    "max_rt = rt_range[0][1]"
   ]
  },
  {
   "cell_type": "code",
   "execution_count": 27,
   "metadata": {},
   "outputs": [],
   "source": [
    "isolation_window = 1\n",
    "N = 3\n",
    "rt_tol = 15\n",
    "mz_tol = 10\n",
    "min_ms1_intensity = 1.75E5"
   ]
  },
  {
   "cell_type": "markdown",
   "metadata": {},
   "source": [
    "Initialise simulated mass spec and the Top-N controller "
   ]
  },
  {
   "cell_type": "code",
   "execution_count": 28,
   "metadata": {},
   "outputs": [],
   "source": [
    "mass_spec = IndependentMassSpectrometer(POSITIVE, chemicals)\n",
    "controller = TopNController(POSITIVE, N, isolation_window, mz_tol, rt_tol, min_ms1_intensity)"
   ]
  },
  {
   "cell_type": "markdown",
   "metadata": {},
   "source": [
    "Create an environment to run both the mass spec and controller. Set the log level to WARNING so we don't see too many messages when environment is running."
   ]
  },
  {
   "cell_type": "code",
   "execution_count": 29,
   "metadata": {},
   "outputs": [
    {
     "data": {
      "application/vnd.jupyter.widget-view+json": {
       "model_id": "2c0daef97d504d4984baefbd2595bd8e",
       "version_major": 2,
       "version_minor": 0
      },
      "text/plain": [
       "  0%|          | 0/1440 [00:00<?, ?it/s]"
      ]
     },
     "metadata": {},
     "output_type": "display_data"
    }
   ],
   "source": [
    "set_log_level_warning()\n",
    "env = Environment(mass_spec, controller, min_rt, max_rt, progress_bar=True)\n",
    "env.run()"
   ]
  },
  {
   "cell_type": "markdown",
   "metadata": {},
   "source": [
    "Write the resulting mzML file from simulation to the location below. You can use ToppView from OpenMS or other mzML viewer to inspect the results. Note that the output wouldn't look very realistic as the chromatograms for all chemicals are the same (gaussian), and there's no noise or small peaks at all."
   ]
  },
  {
   "cell_type": "code",
   "execution_count": 30,
   "metadata": {},
   "outputs": [
    {
     "name": "stderr",
     "output_type": "stream",
     "text": [
      "2022-02-24 16:34:52.284 | DEBUG    | vimms.Environment:write_mzML:177 - Writing mzML file to C:\\Users\\joewa\\Work\\git\\vimms\\demo\\01. Data\\results\\hmdb_topn_controller_2.mzML\n",
      "2022-02-24 16:34:58.192 | DEBUG    | vimms.Environment:write_mzML:181 - mzML file successfully written!\n"
     ]
    }
   ],
   "source": [
    "set_log_level_debug()\n",
    "mzml_filename = 'hmdb_topn_controller_2.mzML'\n",
    "out_dir = os.path.join(os.getcwd(), 'results')\n",
    "env.write_mzML(out_dir, mzml_filename)"
   ]
  }
 ],
 "metadata": {
  "kernelspec": {
   "display_name": "Python 3 (ipykernel)",
   "language": "python",
   "name": "python3"
  },
  "language_info": {
   "codemirror_mode": {
    "name": "ipython",
    "version": 3
   },
   "file_extension": ".py",
   "mimetype": "text/x-python",
   "name": "python",
   "nbconvert_exporter": "python",
   "pygments_lexer": "ipython3",
   "version": "3.8.10"
  }
 },
 "nbformat": 4,
 "nbformat_minor": 4
}
