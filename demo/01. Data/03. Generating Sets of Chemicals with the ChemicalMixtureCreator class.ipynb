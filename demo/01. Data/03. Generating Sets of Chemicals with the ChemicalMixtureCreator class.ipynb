{
 "cells": [
  {
   "cell_type": "markdown",
   "metadata": {},
   "source": [
    "# 03. Generating Sets of Chemicals with the ChemicalMixtureCreator class"
   ]
  },
  {
   "cell_type": "code",
   "execution_count": 1,
   "metadata": {},
   "outputs": [],
   "source": [
    "%load_ext autoreload\n",
    "%autoreload 2"
   ]
  },
  {
   "cell_type": "code",
   "execution_count": 2,
   "metadata": {},
   "outputs": [],
   "source": [
    "from pathlib import Path\n",
    "import numpy as np"
   ]
  },
  {
   "cell_type": "code",
   "execution_count": 3,
   "metadata": {},
   "outputs": [],
   "source": [
    "import os\n",
    "import sys\n",
    "sys.path.append('../..')"
   ]
  },
  {
   "cell_type": "code",
   "execution_count": 4,
   "metadata": {},
   "outputs": [],
   "source": [
    "import pylab as plt\n",
    "%matplotlib inline"
   ]
  },
  {
   "cell_type": "code",
   "execution_count": 5,
   "metadata": {},
   "outputs": [],
   "source": [
    "from vimms.Chemicals import ChemicalMixtureCreator"
   ]
  },
  {
   "cell_type": "markdown",
   "metadata": {},
   "source": [
    "## Introduction\n",
    "\n",
    "The `ChemicalMixtureCreator` offers the most simple method for creating chemical datasets for simulation allowing the generation of a dataset of chemicals in just a few lines of python.\n",
    "\n",
    "The class requires several other classes to run:\n",
    "\n",
    "- A class that can generate _formulas_\n",
    "- A class that can generate RT and intensity for formulas\n",
    "- A class that can generate chromatograms for formulas\n",
    "- A class that can generate MS2 spectra for formulas\n",
    "\n",
    "### `FormulaSampler`\n",
    "\n",
    "An instance of a class extending `FormulaSampler` must be provided. This samples the chemicals that will appear. Note that `Formula` is abused here: in some cases the result is a chemical formula, but in others, just an m/z. Which it does has implications for the data generated (see below).  Currently, the following options are available:\n",
    "\n",
    "- `DatabaseFormulaSampler`: samples formulas from a database provided. Code is given to generate from HMDB\n",
    "- `UniformMZFormulaSampler`: samples _formulas_ (just masses) uniformly in an m/z range\n",
    "- `PickEverythingFormulaSampler`: samples all formulas from a database\n",
    "- `EvenMZFormulaSampler`: creates evenly spaced m/z, starting at 100Da, with 100 Da spacing. Mainly used for test cases.\n",
    "- `MZMLFormulaSampler`: samples m/z values from a histogram of m/z taken from a user supplied mzML file\n",
    "\n",
    "Examples of creating some of these objects"
   ]
  },
  {
   "cell_type": "markdown",
   "metadata": {},
   "source": [
    "#### `DatabaseFormulaSampler`"
   ]
  },
  {
   "cell_type": "code",
   "execution_count": 6,
   "metadata": {},
   "outputs": [],
   "source": [
    "from vimms.ChemicalSamplers import DatabaseFormulaSampler\n",
    "from vimms.Common import load_obj"
   ]
  },
  {
   "cell_type": "code",
   "execution_count": 7,
   "metadata": {},
   "outputs": [],
   "source": [
    "data_dir = os.path.abspath(os.path.join(os.getcwd(),'..','..','tests','fixtures'))\n",
    "HMDB = os.path.join(data_dir,'hmdb_compounds.p')\n",
    "hmdb = load_obj(HMDB)"
   ]
  },
  {
   "cell_type": "code",
   "execution_count": 8,
   "metadata": {},
   "outputs": [
    {
     "name": "stderr",
     "output_type": "stream",
     "text": [
      "2022-02-22 14:06:06.472 | DEBUG    | vimms.ChemicalSamplers:sample:73 - 73822 unique formulas in filtered database\n",
      "2022-02-22 14:06:06.476 | DEBUG    | vimms.ChemicalSamplers:sample:79 - Sampled formulas\n"
     ]
    },
    {
     "data": {
      "text/plain": [
       "(array([ 59.,  72.,  83.,  55.,  63.,  50.,  91., 135., 210., 182.]),\n",
       " array([106.02660868, 193.30071191, 280.57481515, 367.84891838,\n",
       "        455.12302161, 542.39712485, 629.67122808, 716.94533131,\n",
       "        804.21943454, 891.49353778, 978.76764101]),\n",
       " <BarContainer object of 10 artists>)"
      ]
     },
     "execution_count": 8,
     "metadata": {},
     "output_type": "execute_result"
    },
    {
     "data": {
      "image/png": "[encoded data removed]",
      "text/plain": [
       "<Figure size 432x288 with 1 Axes>"
      ]
     },
     "metadata": {
      "needs_background": "light"
     },
     "output_type": "display_data"
    }
   ],
   "source": [
    "# create a database formula sampler that will sample from HMDB with m/z between 100 and 1000\n",
    "df = DatabaseFormulaSampler(hmdb, min_mz=100, max_mz=1000)\n",
    "samples = df.sample(1000)\n",
    "mz_list = [s[0].mass for s in samples]\n",
    "plt.hist(mz_list)"
   ]
  },
  {
   "cell_type": "code",
   "execution_count": 9,
   "metadata": {},
   "outputs": [
    {
     "data": {
      "text/plain": [
       "(array([ 96., 102.,  99., 106.,  98., 115.,  97.,  92.,  87., 108.]),\n",
       " array([100.35277837, 140.29636869, 180.23995902, 220.18354935,\n",
       "        260.12713967, 300.07073   , 340.01432032, 379.95791065,\n",
       "        419.90150097, 459.8450913 , 499.78868163]),\n",
       " <BarContainer object of 10 artists>)"
      ]
     },
     "execution_count": 9,
     "metadata": {},
     "output_type": "execute_result"
    },
    {
     "data": {
      "image/png": "[encoded data removed]",
      "text/plain": [
       "<Figure size 432x288 with 1 Axes>"
      ]
     },
     "metadata": {
      "needs_background": "light"
     },
     "output_type": "display_data"
    }
   ],
   "source": [
    "from vimms.ChemicalSamplers import UniformMZFormulaSampler\n",
    "# create a formula sampler that samples masses uniformly between 100 and 500\n",
    "df = UniformMZFormulaSampler(min_mz=100, max_mz=500)\n",
    "samples = df.sample(1000)\n",
    "mz_list = [s[0].mass for s in samples]\n",
    "plt.hist(mz_list)"
   ]
  },
  {
   "cell_type": "code",
   "execution_count": 10,
   "metadata": {},
   "outputs": [
    {
     "name": "stderr",
     "output_type": "stream",
     "text": [
      "2022-02-22 14:06:06.902 | DEBUG    | mass_spec_utils.data_import.mzml:_load_file:166 - Loaded 364 scans\n"
     ]
    },
    {
     "data": {
      "text/plain": [
       "(array([ 93., 262., 125., 437.,  53.,  13.,   3.,  10.,   1.,   3.]),\n",
       " array([ 74.02336614, 131.63928006, 189.25519398, 246.8711079 ,\n",
       "        304.48702182, 362.10293574, 419.71884966, 477.33476358,\n",
       "        534.9506775 , 592.56659142, 650.18250534]),\n",
       " <BarContainer object of 10 artists>)"
      ]
     },
     "execution_count": 10,
     "metadata": {},
     "output_type": "execute_result"
    },
    {
     "data": {
      "image/png": "[encoded data removed]",
      "text/plain": [
       "<Figure size 432x288 with 1 Axes>"
      ]
     },
     "metadata": {
      "needs_background": "light"
     },
     "output_type": "display_data"
    }
   ],
   "source": [
    "from vimms.ChemicalSamplers import MZMLFormulaSampler\n",
    "MZML = os.path.join(data_dir, 'small_mzml.mzML')\n",
    "df = MZMLFormulaSampler(MZML)\n",
    "samples = df.sample(1000)\n",
    "mz_list = [s[0].mass for s in samples]\n",
    "plt.hist(mz_list)"
   ]
  },
  {
   "cell_type": "markdown",
   "metadata": {},
   "source": [
    "### `RTAndIntensitySampler`\n",
    "\n",
    "Passing an instance of this is optional. If nothing is passed, it defaults to `UniformRTAndIntensitySampler`\n",
    "\n",
    "Available:\n",
    "\n",
    "- `UniformRTAndIntensitySampler`: samples RT and intensity independently from uniform distributions (note that intensity is unifrom in log space)\n",
    "- `MZMLRTandIntensitySampler`: samples RT and intensity independely from histograms produced from an mzML file\n",
    "\n",
    "Examples:"
   ]
  },
  {
   "cell_type": "markdown",
   "metadata": {},
   "source": [
    "#### `UniformRTAndIntensitySampler`"
   ]
  },
  {
   "cell_type": "code",
   "execution_count": 11,
   "metadata": {},
   "outputs": [
    {
     "data": {
      "text/plain": [
       "(array([666.,  94.,  59.,  42.,  28.,  35.,  26.,  24.,  16.,  10.]),\n",
       " array([7.41341489e+00, 8.16978154e+02, 1.62654289e+03, 2.43610763e+03,\n",
       "        3.24567237e+03, 4.05523711e+03, 4.86480185e+03, 5.67436659e+03,\n",
       "        6.48393133e+03, 7.29349606e+03, 8.10306080e+03]),\n",
       " <BarContainer object of 10 artists>)"
      ]
     },
     "execution_count": 11,
     "metadata": {},
     "output_type": "execute_result"
    },
    {
     "data": {
      "image/png": "[encoded data removed]",
      "text/plain": [
       "<Figure size 432x288 with 1 Axes>"
      ]
     },
     "metadata": {
      "needs_background": "light"
     },
     "output_type": "display_data"
    },
    {
     "data": {
      "image/png": "[encoded data removed]",
      "text/plain": [
       "<Figure size 432x288 with 1 Axes>"
      ]
     },
     "metadata": {
      "needs_background": "light"
     },
     "output_type": "display_data"
    }
   ],
   "source": [
    "from vimms.ChemicalSamplers import UniformRTAndIntensitySampler\n",
    "ri = UniformRTAndIntensitySampler(min_rt=100, max_rt=500, min_log_intensity=2, max_log_intensity=9)\n",
    "rt_list = []\n",
    "intensity_list = []\n",
    "for i in range(1000):\n",
    "    a,b = ri.sample(None) #argument is a formula, but is ignored at the moment\n",
    "    rt_list.append(a)\n",
    "    intensity_list.append(b)\n",
    "plt.figure()\n",
    "plt.hist(rt_list)\n",
    "plt.figure()\n",
    "plt.hist(intensity_list)"
   ]
  },
  {
   "cell_type": "markdown",
   "metadata": {},
   "source": [
    "#### `MZMLRTandIntensitySampler`"
   ]
  },
  {
   "cell_type": "code",
   "execution_count": 12,
   "metadata": {},
   "outputs": [
    {
     "name": "stderr",
     "output_type": "stream",
     "text": [
      "2022-02-22 14:06:07.346 | DEBUG    | mass_spec_utils.data_import.mzml:_load_file:166 - Loaded 364 scans\n"
     ]
    },
    {
     "data": {
      "text/plain": [
       "(array([979.,   8.,   3.,   3.,   1.,   0.,   0.,   4.,   0.,   2.]),\n",
       " array([  15644.65964294,  815655.85954205, 1615667.05944115,\n",
       "        2415678.25934026, 3215689.45923936, 4015700.65913847,\n",
       "        4815711.85903757, 5615723.05893668, 6415734.25883578,\n",
       "        7215745.45873489, 8015756.65863399]),\n",
       " <BarContainer object of 10 artists>)"
      ]
     },
     "execution_count": 12,
     "metadata": {},
     "output_type": "execute_result"
    },
    {
     "data": {
      "image/png": "[encoded data removed]",
      "text/plain": [
       "<Figure size 432x288 with 1 Axes>"
      ]
     },
     "metadata": {
      "needs_background": "light"
     },
     "output_type": "display_data"
    },
    {
     "data": {
      "image/png": "[encoded data removed]",
      "text/plain": [
       "<Figure size 432x288 with 1 Axes>"
      ]
     },
     "metadata": {
      "needs_background": "light"
     },
     "output_type": "display_data"
    }
   ],
   "source": [
    "from vimms.ChemicalSamplers import MZMLRTandIntensitySampler\n",
    "ri = MZMLRTandIntensitySampler(MZML)\n",
    "\n",
    "rt_list = []\n",
    "intensity_list = []\n",
    "\n",
    "for i in range(1000):\n",
    "    a,b = ri.sample(None) #argument is a formula, but is ignored at the moment\n",
    "    rt_list.append(a)\n",
    "    intensity_list.append(b)\n",
    "\n",
    "plt.figure()\n",
    "plt.hist(rt_list)\n",
    "plt.figure()\n",
    "plt.hist(intensity_list)"
   ]
  },
  {
   "cell_type": "markdown",
   "metadata": {},
   "source": [
    "### `ChromatogramSampler`\n",
    "\n",
    "This optional object defines where chromatograms should be sampled from for each formula. There are three options:\n",
    "\n",
    "- `GaussianChromatogramSampler`: generates normal shape chromatographic peaks\n",
    "- `ConstantChromoatogramSampler`: generates constant chromatographic (i.e. flat) peaks (mainly for testing)\n",
    "- `MZMLChromatogramSampelr`: samples chromatograms from ROIs extracted from an mzML file\n",
    "\n",
    "Note that in all cases, the `sample` method takes three arguments: a formula, an rt and an intensity. These are so that, in future we could condition the chromatogram finding on particular values of RT and intensity (e.g. high intensity = better peaks).\n",
    "\n",
    "Examples:"
   ]
  },
  {
   "cell_type": "markdown",
   "metadata": {},
   "source": [
    "#### `GaussianChomatogramSampler`"
   ]
  },
  {
   "cell_type": "code",
   "execution_count": 13,
   "metadata": {},
   "outputs": [
    {
     "data": {
      "text/plain": [
       "[<matplotlib.lines.Line2D at 0x17994d190>]"
      ]
     },
     "execution_count": 13,
     "metadata": {},
     "output_type": "execute_result"
    },
    {
     "data": {
      "image/png": "[encoded data removed]",
      "text/plain": [
       "<Figure size 432x288 with 1 Axes>"
      ]
     },
     "metadata": {
      "needs_background": "light"
     },
     "output_type": "display_data"
    }
   ],
   "source": [
    "# grab a formula to use for example sampling\n",
    "f_list = df.sample(1)\n",
    "formula, name = f_list[0]\n",
    "from vimms.ChemicalSamplers import GaussianChromatogramSampler\n",
    "cs = GaussianChromatogramSampler(sigma=10)\n",
    "example_rt = 100\n",
    "example_intensity = 1e5\n",
    "c = cs.sample(formula, example_rt, example_intensity)\n",
    "rt_vals = np.linspace(50,150)\n",
    "intensities = []\n",
    "for r in rt_vals:\n",
    "    intensities.append(c.get_relative_intensity(r - example_rt))\n",
    "plt.plot(rt_vals, intensities)"
   ]
  },
  {
   "cell_type": "markdown",
   "metadata": {},
   "source": [
    "#### `ConstantChromatogramSampler`"
   ]
  },
  {
   "cell_type": "code",
   "execution_count": 14,
   "metadata": {},
   "outputs": [
    {
     "data": {
      "text/plain": [
       "[<matplotlib.lines.Line2D at 0x17a108640>]"
      ]
     },
     "execution_count": 14,
     "metadata": {},
     "output_type": "execute_result"
    },
    {
     "data": {
      "image/png": "[encoded data removed]",
      "text/plain": [
       "<Figure size 432x288 with 1 Axes>"
      ]
     },
     "metadata": {
      "needs_background": "light"
     },
     "output_type": "display_data"
    }
   ],
   "source": [
    "from vimms.ChemicalSamplers import ConstantChromatogramSampler\n",
    "cs = ConstantChromatogramSampler()\n",
    "example_rt = 100\n",
    "example_intensity = 1e5\n",
    "c = cs.sample(formula, example_rt, example_intensity)\n",
    "rt_vals = np.linspace(50,150)\n",
    "intensities = []\n",
    "for r in rt_vals:\n",
    "    intensities.append(c.get_relative_intensity(r - example_rt))\n",
    "plt.plot(rt_vals, intensities)"
   ]
  },
  {
   "cell_type": "markdown",
   "metadata": {},
   "source": [
    "#### `MZMLChromatogramSampler`"
   ]
  },
  {
   "cell_type": "code",
   "execution_count": 15,
   "metadata": {},
   "outputs": [
    {
     "name": "stderr",
     "output_type": "stream",
     "text": [
      "2022-02-22 14:06:11.505 | DEBUG    | vimms.ChemicalSamplers:_extract_rois:370 - Extracted 8119 good ROIs from /Users/joewandy/Work/git/vimms/tests/fixtures/small_mzml.mzML\n"
     ]
    },
    {
     "data": {
      "text/plain": [
       "[<matplotlib.lines.Line2D at 0x17a1ac370>]"
      ]
     },
     "execution_count": 15,
     "metadata": {},
     "output_type": "execute_result"
    },
    {
     "data": {
      "image/png": "[encoded data removed]",
      "text/plain": [
       "<Figure size 432x288 with 1 Axes>"
      ]
     },
     "metadata": {
      "needs_background": "light"
     },
     "output_type": "display_data"
    }
   ],
   "source": [
    "# note that if you want to set the parameters for the ROI extraction from the mzML, use the RioParams object\n",
    "# e.g.\n",
    "from vimms.Roi import RoiParams\n",
    "roi_params = RoiParams(min_intensity=1000)\n",
    "from vimms.ChemicalSamplers import MZMLChromatogramSampler\n",
    "cs = MZMLChromatogramSampler(MZML, roi_params=roi_params)\n",
    "c = cs.sample(formula, example_rt, example_intensity)\n",
    "rt_vals = np.linspace(50,150)\n",
    "intensities = []\n",
    "for r in rt_vals:\n",
    "    intensities.append(c.get_relative_intensity(r - example_rt))\n",
    "plt.plot(rt_vals, intensities)"
   ]
  },
  {
   "cell_type": "markdown",
   "metadata": {},
   "source": [
    "### MS2Sampler\n",
    "\n",
    "This final class determines how chemicals will be assigned MS2 peaks. There are six options:\n",
    "\n",
    "- `UniformMS2Sampler`: samples uniformly between a min mass and the mass of the formula\n",
    "- `FixedMS2Sampler`: generates a fixed number of peaks, evenly spaced below the formula (mainly for testing)\n",
    "- `CRPSMS2Sampler`: generates MS2 peaks using a Chinese Restaurant Process\n",
    "- `MGFMS2Sampler`: generates MS2 spectra by sampling from those in an mgf file\n",
    "- `ExactMatchMS2Sampler`: to be used in the case where objects in the MGF file share an ID with the database used for formula sampling\n",
    "- `MZMLMS2Sampler`: samples MS2 spectra from an MS2 scan in an mzML file\n",
    "\n",
    "In all cases, `sample` returns a list of masses, a list of intensties, and a *parent proportion* which is how much of the parents intensity gets transfered into the MS2 spectrum. The proportion is uniform between `min_proportion` and `max_proportion` which are passed to the constructors.\n",
    "\n",
    "Examples:"
   ]
  },
  {
   "cell_type": "code",
   "execution_count": 16,
   "metadata": {},
   "outputs": [],
   "source": [
    "def plot_spectrum(mz_list, intensity_list):\n",
    "    plt.figure()\n",
    "    for i,m in enumerate(mz_list):\n",
    "        plt.plot([m,m],[0,intensity_list[i]])\n",
    "class TempChemical:\n",
    "    def __init__(self, mass):\n",
    "        self.mass = mass"
   ]
  },
  {
   "cell_type": "markdown",
   "metadata": {},
   "source": [
    "#### `UniformMS2Sampler`"
   ]
  },
  {
   "cell_type": "code",
   "execution_count": 17,
   "metadata": {},
   "outputs": [
    {
     "data": {
      "image/png": "[encoded data removed]",
      "text/plain": [
       "<Figure size 432x288 with 1 Axes>"
      ]
     },
     "metadata": {
      "needs_background": "light"
     },
     "output_type": "display_data"
    }
   ],
   "source": [
    "from vimms.ChemicalSamplers import UniformMS2Sampler\n",
    "ms = UniformMS2Sampler(poiss_peak_mean=5) # number of fragments is decided by sample from poisson\n",
    "tc = TempChemical(formula.mass)\n",
    "a = ms.sample(tc)\n",
    "mz_list = a[0]\n",
    "intensity_list = a[1]\n",
    "plot_spectrum(mz_list, intensity_list)"
   ]
  },
  {
   "cell_type": "markdown",
   "metadata": {},
   "source": [
    "#### `CRPMS2Sampler`"
   ]
  },
  {
   "cell_type": "code",
   "execution_count": 18,
   "metadata": {},
   "outputs": [
    {
     "data": {
      "image/png": "[encoded data removed]",
      "text/plain": [
       "<Figure size 432x288 with 1 Axes>"
      ]
     },
     "metadata": {
      "needs_background": "light"
     },
     "output_type": "display_data"
    }
   ],
   "source": [
    "from vimms.ChemicalSamplers import CRPMS2Sampler\n",
    "ms = CRPMS2Sampler(n_draws=500, alpha=1) # alpha and n_draws control the propery of the CRP\n",
    "a = ms.sample(tc)\n",
    "mz_list = a[0]\n",
    "intensity_list = a[1]\n",
    "plot_spectrum(mz_list, intensity_list)"
   ]
  },
  {
   "cell_type": "markdown",
   "metadata": {},
   "source": [
    "#### `FixedMS2Sampler`"
   ]
  },
  {
   "cell_type": "code",
   "execution_count": 19,
   "metadata": {},
   "outputs": [
    {
     "data": {
      "image/png": "[encoded data removed]",
      "text/plain": [
       "<Figure size 432x288 with 1 Axes>"
      ]
     },
     "metadata": {
      "needs_background": "light"
     },
     "output_type": "display_data"
    }
   ],
   "source": [
    "from vimms.ChemicalSamplers import FixedMS2Sampler\n",
    "ms = FixedMS2Sampler(n_frags=3) # how many to make\n",
    "a = ms.sample(tc)\n",
    "mz_list = a[0]\n",
    "intensity_list = a[1]\n",
    "plot_spectrum(mz_list, intensity_list)"
   ]
  },
  {
   "cell_type": "markdown",
   "metadata": {},
   "source": [
    "#### `MGFMS2Sampler`"
   ]
  },
  {
   "cell_type": "code",
   "execution_count": 20,
   "metadata": {},
   "outputs": [
    {
     "name": "stderr",
     "output_type": "stream",
     "text": [
      "2022-02-22 14:06:11.885 | DEBUG    | mass_spec_utils.library_matching.gnps:load_mgf:38 - Loaded 100 spectra\n",
      "2022-02-22 14:06:11.892 | DEBUG    | mass_spec_utils.library_matching.gnps:load_mgf:38 - Loaded 200 spectra\n",
      "2022-02-22 14:06:11.907 | DEBUG    | mass_spec_utils.library_matching.gnps:load_mgf:38 - Loaded 300 spectra\n",
      "2022-02-22 14:06:11.962 | DEBUG    | mass_spec_utils.library_matching.gnps:load_mgf:38 - Loaded 400 spectra\n",
      "2022-02-22 14:06:11.971 | DEBUG    | vimms.ChemicalSamplers:__init__:536 - Loaded 411 spectra from /Users/joewandy/Work/git/vimms/tests/fixtures/small_mgf.mgf\n"
     ]
    },
    {
     "data": {
      "image/png": "[encoded data removed]",
      "text/plain": [
       "<Figure size 432x288 with 1 Axes>"
      ]
     },
     "metadata": {
      "needs_background": "light"
     },
     "output_type": "display_data"
    }
   ],
   "source": [
    "MGF = os.path.join(data_dir, 'small_mgf.mgf')\n",
    "from vimms.ChemicalSamplers import MGFMS2Sampler\n",
    "ms = MGFMS2Sampler(MGF)\n",
    "a = ms.sample(tc)\n",
    "mz_list = a[0]\n",
    "intensity_list = a[1]\n",
    "plot_spectrum(mz_list, intensity_list)"
   ]
  },
  {
   "cell_type": "markdown",
   "metadata": {},
   "source": [
    "#### `MZMLMS2Sampler`"
   ]
  },
  {
   "cell_type": "code",
   "execution_count": 21,
   "metadata": {},
   "outputs": [
    {
     "name": "stderr",
     "output_type": "stream",
     "text": [
      "2022-02-22 14:06:12.179 | DEBUG    | mass_spec_utils.data_import.mzml:_load_file:166 - Loaded 364 scans\n",
      "2022-02-22 14:06:12.188 | DEBUG    | vimms.ChemicalSamplers:_filter_scans:607 - 331 MS2 scansn remaining\n"
     ]
    },
    {
     "data": {
      "image/png": "[encoded data removed]",
      "text/plain": [
       "<Figure size 432x288 with 1 Axes>"
      ]
     },
     "metadata": {
      "needs_background": "light"
     },
     "output_type": "display_data"
    }
   ],
   "source": [
    "from vimms.ChemicalSamplers import MZMLMS2Sampler\n",
    "ms = MZMLMS2Sampler(MZML)\n",
    "a = ms.sample(tc)\n",
    "mz_list = a[0]\n",
    "intensity_list = a[1]\n",
    "plot_spectrum(mz_list, intensity_list)"
   ]
  },
  {
   "cell_type": "markdown",
   "metadata": {},
   "source": [
    "#### `ExactMatchMS2Sampler`"
   ]
  },
  {
   "cell_type": "code",
   "execution_count": 22,
   "metadata": {},
   "outputs": [
    {
     "name": "stderr",
     "output_type": "stream",
     "text": [
      "2022-02-22 14:06:12.324 | DEBUG    | mass_spec_utils.library_matching.gnps:load_mgf:38 - Loaded 100 spectra\n",
      "2022-02-22 14:06:12.331 | DEBUG    | mass_spec_utils.library_matching.gnps:load_mgf:38 - Loaded 200 spectra\n",
      "2022-02-22 14:06:12.346 | DEBUG    | mass_spec_utils.library_matching.gnps:load_mgf:38 - Loaded 300 spectra\n",
      "2022-02-22 14:06:12.400 | DEBUG    | mass_spec_utils.library_matching.gnps:load_mgf:38 - Loaded 400 spectra\n",
      "2022-02-22 14:06:12.409 | DEBUG    | vimms.ChemicalSamplers:__init__:536 - Loaded 411 spectra from /Users/joewandy/Work/git/vimms/tests/fixtures/small_mgf.mgf\n"
     ]
    },
    {
     "data": {
      "image/png": "[encoded data removed]",
      "text/plain": [
       "<Figure size 432x288 with 1 Axes>"
      ]
     },
     "metadata": {
      "needs_background": "light"
     },
     "output_type": "display_data"
    }
   ],
   "source": [
    "from vimms.ChemicalSamplers import ExactMatchMS2Sampler\n",
    "# when formulas are sampled from a database, their accession is stored. We can cheat this as follows:\n",
    "tc.database_accession = 'CCMSLIB00005435506'\n",
    "# the MS2 sampler will then extract the spectrum that has the id_fiels set to this ID value\n",
    "ms = ExactMatchMS2Sampler(MGF, id_field='SPECTRUMID')\n",
    "a = ms.sample(tc)\n",
    "mz_list = a[0]\n",
    "intensity_list = a[1]\n",
    "plot_spectrum(mz_list, intensity_list)"
   ]
  },
  {
   "cell_type": "markdown",
   "metadata": {},
   "source": [
    "## Everything together - `ChemicalMixtureCreator`"
   ]
  },
  {
   "cell_type": "markdown",
   "metadata": {},
   "source": [
    "The simplest use is to just pass a formula sampler and let the rest go to defaults:"
   ]
  },
  {
   "cell_type": "code",
   "execution_count": 23,
   "metadata": {},
   "outputs": [
    {
     "name": "stderr",
     "output_type": "stream",
     "text": [
      "2022-02-22 14:06:16.019 | DEBUG    | vimms.ChemicalSamplers:sample:73 - 73822 unique formulas in filtered database\n",
      "2022-02-22 14:06:16.020 | DEBUG    | vimms.ChemicalSamplers:sample:79 - Sampled formulas\n",
      "2022-02-22 14:06:16.089 | DEBUG    | vimms.Chemicals:sample:324 - Sampled rt and intensity values and chromatograms\n"
     ]
    }
   ],
   "source": [
    "from vimms.Chemicals import ChemicalMixtureCreator\n",
    "df = DatabaseFormulaSampler(hmdb, min_mz=100, max_mz=1000)\n",
    "cm = ChemicalMixtureCreator(df)\n",
    "chemicals = cm.sample(100,2) # sample 100 chemicals up to MS2"
   ]
  },
  {
   "cell_type": "markdown",
   "metadata": {},
   "source": [
    "If more tailoring is required, pass the different samplers as arguments. E.g. if you wanted a CRPMS2Sampler and MZMLChromatograms:"
   ]
  },
  {
   "cell_type": "code",
   "execution_count": 24,
   "metadata": {},
   "outputs": [
    {
     "name": "stderr",
     "output_type": "stream",
     "text": [
      "2022-02-22 14:06:18.150 | DEBUG    | vimms.ChemicalSamplers:_extract_rois:370 - Extracted 8119 good ROIs from /Users/joewandy/Work/git/vimms/tests/fixtures/small_mzml.mzML\n",
      "2022-02-22 14:06:21.651 | DEBUG    | vimms.ChemicalSamplers:sample:73 - 73822 unique formulas in filtered database\n",
      "2022-02-22 14:06:21.653 | DEBUG    | vimms.ChemicalSamplers:sample:79 - Sampled formulas\n",
      "2022-02-22 14:06:21.668 | DEBUG    | vimms.Chemicals:sample:324 - Sampled rt and intensity values and chromatograms\n"
     ]
    }
   ],
   "source": [
    "cm = ChemicalMixtureCreator(df, ms2_sampler=CRPMS2Sampler(n_draws=100, alpha=2), chromatogram_sampler=MZMLChromatogramSampler(MZML))\n",
    "chemicals = cm.sample(100,2)"
   ]
  }
 ],
 "metadata": {
  "kernelspec": {
   "display_name": "Python 3 (ipykernel)",
   "language": "python",
   "name": "python3"
  },
  "language_info": {
   "codemirror_mode": {
    "name": "ipython",
    "version": 3
   },
   "file_extension": ".py",
   "mimetype": "text/x-python",
   "name": "python",
   "nbconvert_exporter": "python",
   "pygments_lexer": "ipython3",
   "version": "3.9.10"
  }
 },
 "nbformat": 4,
 "nbformat_minor": 4
}
