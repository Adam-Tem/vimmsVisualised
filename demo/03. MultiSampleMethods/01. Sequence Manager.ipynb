{
 "cells": [
  {
   "cell_type": "markdown",
   "metadata": {},
   "source": [
    "# 1. Sequence Manager"
   ]
  },
  {
   "cell_type": "code",
   "execution_count": 1,
   "metadata": {},
   "outputs": [],
   "source": [
    "%matplotlib inline\n",
    "%load_ext autoreload\n",
    "%autoreload 2"
   ]
  },
  {
   "cell_type": "code",
   "execution_count": 2,
   "metadata": {},
   "outputs": [],
   "source": [
    "import sys\n",
    "sys.path.append('../..')"
   ]
  },
  {
   "cell_type": "code",
   "execution_count": 3,
   "metadata": {},
   "outputs": [],
   "source": [
    "from vimms.SequenceManager import *"
   ]
  },
  {
   "cell_type": "code",
   "execution_count": 4,
   "metadata": {},
   "outputs": [],
   "source": [
    "data_dir = os.path.join(os.path.abspath(os.path.join(os.path.join(os.getcwd(),\"..\"),\"..\")),'tests','fixtures')\n",
    "dataset_file = os.path.join(data_dir, 'QCB_22May19_1.p')\n",
    "dataset = load_obj(dataset_file)\n",
    "ps = load_obj(Path(data_dir,'peak_sampler_mz_rt_int_beerqcb_fragmentation.p'))"
   ]
  },
  {
   "cell_type": "code",
   "execution_count": 5,
   "metadata": {},
   "outputs": [],
   "source": [
    "url = 'http://researchdata.gla.ac.uk/870/2/example_data.zip'\n",
    "base_dir = os.path.abspath(os.path.join(os.getcwd(),'..','01. Data', 'example_data'))"
   ]
  },
  {
   "cell_type": "code",
   "execution_count": 6,
   "metadata": {},
   "outputs": [
    {
     "name": "stdout",
     "output_type": "stream",
     "text": [
      "Found C:\\Users\\Vinny\\work\\vimms\\demo\\01. Data\\example_data\n"
     ]
    }
   ],
   "source": [
    "if not os.path.isdir(base_dir): # if not exist then download the example data and extract it\n",
    "    print('Creating %s' % base_dir)    \n",
    "    out_file = 'example_data.zip'\n",
    "    download_file(url, out_file)\n",
    "    extract_zip_file(out_file, delete=True)\n",
    "else:\n",
    "    print('Found %s' % base_dir)"
   ]
  },
  {
   "cell_type": "code",
   "execution_count": 7,
   "metadata": {},
   "outputs": [],
   "source": [
    "mzml_file = os.path.join(base_dir, 'beers', 'fullscan', 'mzML', 'Beer_multibeers_1_fullscan1.mzML')\n",
    "mzml_file_list=[None, mzml_file, None, mzml_file]"
   ]
  },
  {
   "cell_type": "code",
   "execution_count": 8,
   "metadata": {},
   "outputs": [],
   "source": [
    "set_log_level_info()"
   ]
  },
  {
   "cell_type": "markdown",
   "metadata": {},
   "source": [
    "### Set some default parameters"
   ]
  },
  {
   "cell_type": "code",
   "execution_count": 9,
   "metadata": {},
   "outputs": [],
   "source": [
    "experiment_dir = os.path.join(os.getcwd(), 'results')"
   ]
  },
  {
   "cell_type": "code",
   "execution_count": 10,
   "metadata": {},
   "outputs": [],
   "source": [
    "DEFAULT_SCAN_TIME_DICT = {1: 0.4, 2: 0.2}\n",
    "mass_spec_params = {'ionisation_mode': POSITIVE,\n",
    "                    'peak_sampler': ps,\n",
    "                    'mz_noise': None,\n",
    "                    'intensity_noise': None,\n",
    "                    'isolation_transition_window': 'rectangular',\n",
    "                    'isolation_transition_window_params': None,\n",
    "                    'scan_duration_dict': DEFAULT_SCAN_TIME_DICT}"
   ]
  },
  {
   "cell_type": "code",
   "execution_count": 11,
   "metadata": {},
   "outputs": [],
   "source": [
    "controller_params = {\"ionisation_mode\": POSITIVE,\n",
    "                       \"N\": 10,\n",
    "                       \"mz_tol\": 10,\n",
    "                       \"rt_tol\":30,\n",
    "                       \"min_ms1_intensity\": 1.75E5,\n",
    "                       \"rt_range\": [(200, 400)],\n",
    "                       \"isolation_width\": 1}"
   ]
  },
  {
   "cell_type": "markdown",
   "metadata": {},
   "source": [
    "Note: you will need to install the same version of MZMine2 and put it in the same location as ViMMS"
   ]
  },
  {
   "cell_type": "code",
   "execution_count": 12,
   "metadata": {},
   "outputs": [],
   "source": [
    "evaluation_methods = []\n",
    "mzmine_command = os.path.abspath(os.path.join(os.getcwd(),'..','..','..','MZmine-2.40.1','MZmine-2.40.1','startMZmine_Windows.bat'))"
   ]
  },
  {
   "cell_type": "code",
   "execution_count": 13,
   "metadata": {},
   "outputs": [],
   "source": [
    "MZML2CHEMS_DICT = {'min_ms1_intensity': 1.75E5,\n",
    "                  'mz_tol': 5,\n",
    "                  'mz_units':'ppm',\n",
    "                  'min_length':1,\n",
    "                  'min_intensity':0,\n",
    "                  'start_rt':0,\n",
    "                  'stop_rt':1560,\n",
    "                  'n_peaks':1}"
   ]
  },
  {
   "cell_type": "markdown",
   "metadata": {},
   "source": [
    "### Set up some simple schedules"
   ]
  },
  {
   "cell_type": "code",
   "execution_count": 14,
   "metadata": {},
   "outputs": [
    {
     "data": {
      "text/html": [
       "<div>\n",
       "<style scoped>\n",
       "    .dataframe tbody tr th:only-of-type {\n",
       "        vertical-align: middle;\n",
       "    }\n",
       "\n",
       "    .dataframe tbody tr th {\n",
       "        vertical-align: top;\n",
       "    }\n",
       "\n",
       "    .dataframe thead th {\n",
       "        text-align: right;\n",
       "    }\n",
       "</style>\n",
       "<table border=\"1\" class=\"dataframe\">\n",
       "  <thead>\n",
       "    <tr style=\"text-align: right;\">\n",
       "      <th></th>\n",
       "      <th>Sample ID</th>\n",
       "      <th>Controller Method</th>\n",
       "      <th>Controller Params</th>\n",
       "      <th>MassSpec Params</th>\n",
       "      <th>Dataset</th>\n",
       "    </tr>\n",
       "  </thead>\n",
       "  <tbody>\n",
       "    <tr>\n",
       "      <th>0</th>\n",
       "      <td>blank1</td>\n",
       "      <td>None</td>\n",
       "      <td>None</td>\n",
       "      <td>None</td>\n",
       "      <td>None</td>\n",
       "    </tr>\n",
       "    <tr>\n",
       "      <th>1</th>\n",
       "      <td>sample1</td>\n",
       "      <td>TopNController</td>\n",
       "      <td>{'ionisation_mode': 'Positive', 'N': 10, 'mz_t...</td>\n",
       "      <td>{'ionisation_mode': 'Positive', 'peak_sampler'...</td>\n",
       "      <td>C:\\Users\\Vinny\\work\\vimms\\tests\\fixtures\\QCB_2...</td>\n",
       "    </tr>\n",
       "    <tr>\n",
       "      <th>2</th>\n",
       "      <td>blank2</td>\n",
       "      <td>None</td>\n",
       "      <td>None</td>\n",
       "      <td>None</td>\n",
       "      <td>None</td>\n",
       "    </tr>\n",
       "    <tr>\n",
       "      <th>3</th>\n",
       "      <td>sample2</td>\n",
       "      <td>TopNController</td>\n",
       "      <td>{'ionisation_mode': 'Positive', 'N': 10, 'mz_t...</td>\n",
       "      <td>{'ionisation_mode': 'Positive', 'peak_sampler'...</td>\n",
       "      <td>C:\\Users\\Vinny\\work\\vimms\\tests\\fixtures\\QCB_2...</td>\n",
       "    </tr>\n",
       "  </tbody>\n",
       "</table>\n",
       "</div>"
      ],
      "text/plain": [
       "  Sample ID Controller Method  \\\n",
       "0    blank1              None   \n",
       "1   sample1    TopNController   \n",
       "2    blank2              None   \n",
       "3   sample2    TopNController   \n",
       "\n",
       "                                   Controller Params  \\\n",
       "0                                               None   \n",
       "1  {'ionisation_mode': 'Positive', 'N': 10, 'mz_t...   \n",
       "2                                               None   \n",
       "3  {'ionisation_mode': 'Positive', 'N': 10, 'mz_t...   \n",
       "\n",
       "                                     MassSpec Params  \\\n",
       "0                                               None   \n",
       "1  {'ionisation_mode': 'Positive', 'peak_sampler'...   \n",
       "2                                               None   \n",
       "3  {'ionisation_mode': 'Positive', 'peak_sampler'...   \n",
       "\n",
       "                                             Dataset  \n",
       "0                                               None  \n",
       "1  C:\\Users\\Vinny\\work\\vimms\\tests\\fixtures\\QCB_2...  \n",
       "2                                               None  \n",
       "3  C:\\Users\\Vinny\\work\\vimms\\tests\\fixtures\\QCB_2...  "
      ]
     },
     "execution_count": 14,
     "metadata": {},
     "output_type": "execute_result"
    }
   ],
   "source": [
    "d = {\n",
    "    'Sample ID'        : ['blank1', 'sample1', 'blank2', 'sample2'],\n",
    "    'Controller Method': [None, 'TopNController', None, 'TopNController'],\n",
    "    'Controller Params': [None, controller_params, None, controller_params],\n",
    "    'MassSpec Params'  : [None, mass_spec_params, None, mass_spec_params],\n",
    "    'Dataset'          : [None, dataset_file, None, dataset_file]\n",
    "}\n",
    "controller_schedule = pd.DataFrame(data=d)\n",
    "controller_schedule"
   ]
  },
  {
   "cell_type": "code",
   "execution_count": 15,
   "metadata": {},
   "outputs": [
    {
     "data": {
      "text/html": [
       "<div>\n",
       "<style scoped>\n",
       "    .dataframe tbody tr th:only-of-type {\n",
       "        vertical-align: middle;\n",
       "    }\n",
       "\n",
       "    .dataframe tbody tr th {\n",
       "        vertical-align: top;\n",
       "    }\n",
       "\n",
       "    .dataframe thead th {\n",
       "        text-align: right;\n",
       "    }\n",
       "</style>\n",
       "<table border=\"1\" class=\"dataframe\">\n",
       "  <thead>\n",
       "    <tr style=\"text-align: right;\">\n",
       "      <th></th>\n",
       "      <th>Sample ID</th>\n",
       "      <th>Controller Method</th>\n",
       "      <th>Controller Params</th>\n",
       "      <th>MassSpec Params</th>\n",
       "      <th>Dataset</th>\n",
       "    </tr>\n",
       "  </thead>\n",
       "  <tbody>\n",
       "    <tr>\n",
       "      <th>0</th>\n",
       "      <td>blank1</td>\n",
       "      <td>None</td>\n",
       "      <td>None</td>\n",
       "      <td>None</td>\n",
       "      <td>None</td>\n",
       "    </tr>\n",
       "    <tr>\n",
       "      <th>1</th>\n",
       "      <td>sample1</td>\n",
       "      <td>TopNController</td>\n",
       "      <td>{'ionisation_mode': 'Positive', 'N': 10, 'mz_t...</td>\n",
       "      <td>{'ionisation_mode': 'Positive', 'peak_sampler'...</td>\n",
       "      <td>None</td>\n",
       "    </tr>\n",
       "    <tr>\n",
       "      <th>2</th>\n",
       "      <td>blank2</td>\n",
       "      <td>None</td>\n",
       "      <td>None</td>\n",
       "      <td>None</td>\n",
       "      <td>None</td>\n",
       "    </tr>\n",
       "    <tr>\n",
       "      <th>3</th>\n",
       "      <td>sample2</td>\n",
       "      <td>TopNController</td>\n",
       "      <td>{'ionisation_mode': 'Positive', 'N': 10, 'mz_t...</td>\n",
       "      <td>{'ionisation_mode': 'Positive', 'peak_sampler'...</td>\n",
       "      <td>None</td>\n",
       "    </tr>\n",
       "  </tbody>\n",
       "</table>\n",
       "</div>"
      ],
      "text/plain": [
       "  Sample ID Controller Method  \\\n",
       "0    blank1              None   \n",
       "1   sample1    TopNController   \n",
       "2    blank2              None   \n",
       "3   sample2    TopNController   \n",
       "\n",
       "                                   Controller Params  \\\n",
       "0                                               None   \n",
       "1  {'ionisation_mode': 'Positive', 'N': 10, 'mz_t...   \n",
       "2                                               None   \n",
       "3  {'ionisation_mode': 'Positive', 'N': 10, 'mz_t...   \n",
       "\n",
       "                                     MassSpec Params Dataset  \n",
       "0                                               None    None  \n",
       "1  {'ionisation_mode': 'Positive', 'peak_sampler'...    None  \n",
       "2                                               None    None  \n",
       "3  {'ionisation_mode': 'Positive', 'peak_sampler'...    None  "
      ]
     },
     "execution_count": 15,
     "metadata": {},
     "output_type": "execute_result"
    }
   ],
   "source": [
    "d2 = {\n",
    "    'Sample ID'        : ['blank1', 'sample1', 'blank2', 'sample2'],\n",
    "    'Controller Method': [None, 'TopNController', None, 'TopNController'],\n",
    "    'Controller Params': [None, controller_params, None, controller_params],\n",
    "    'MassSpec Params'  : [None, mass_spec_params, None, mass_spec_params],\n",
    "    'Dataset'          : [None, None, None, None]\n",
    "}\n",
    "controller_schedule2 = pd.DataFrame(data=d2)\n",
    "controller_schedule2"
   ]
  },
  {
   "cell_type": "markdown",
   "metadata": {},
   "source": [
    "### Example 1 - Seed with dataset, non-parallel"
   ]
  },
  {
   "cell_type": "code",
   "execution_count": 16,
   "metadata": {},
   "outputs": [],
   "source": [
    "output_dir = os.path.join(experiment_dir, 'sequence_manager_example_1')"
   ]
  },
  {
   "cell_type": "code",
   "execution_count": 17,
   "metadata": {},
   "outputs": [],
   "source": [
    "parallel = False  # note: true is not yet implemented"
   ]
  },
  {
   "cell_type": "code",
   "execution_count": 18,
   "metadata": {},
   "outputs": [
    {
     "name": "stderr",
     "output_type": "stream",
     "text": [
      "2020-09-04 18:24:11.934 | INFO     | vimms.SequenceManager:run:237 - Running in serial mode\n",
      "2020-09-04 18:24:11.936 | INFO     | vimms.SequenceManager:run_controller:190 - Begun experiment: sample1\n",
      "2020-09-04 18:24:12.138 | INFO     | vimms.SequenceManager:run_experiment:156 - {'Sample ID': {0: 'sample1'}, 'Controller Method': {0: 'TopNController'}, 'Controller Params': {0: {'ionisation_mode': 'Positive', 'N': 10, 'isolation_width': 1, 'mz_tol': 10, 'rt_tol': 30, 'min_ms1_intensity': 175000.0, 'ms1_shift': 0, 'initial_exclusion_list': None, 'params': None}}, 'MassSpec Params': {0: {'ionisation_mode': 'Positive', 'peak_sampler': <vimms.DataGenerator.PeakSampler object at 0x00000247830F8048>, 'mz_noise': None, 'intensity_noise': None, 'isolation_transition_window': 'rectangular', 'isolation_transition_window_params': None, 'scan_duration_dict': {1: 0.4, 2: 0.2}}}, 'Dataset': {0: 'C:\\\\Users\\\\Vinny\\\\work\\\\vimms\\\\tests\\\\fixtures\\\\QCB_22May19_1.p'}}\n",
      "(1440.000s) ms_level=1 N=10 DEW=30: 100%|█████████████████████████████████████████████████████████████████████████████████████████████████████████████████████████████████████████████████▉| 1439.6000000000813/1440 [00:40<00:00, 35.81it/s]\n",
      "2020-09-04 18:27:50.314 | INFO     | vimms.SequenceManager:run_controller:194 - Completed experiment: sample1\n",
      "2020-09-04 18:27:50.316 | INFO     | vimms.SequenceManager:run_evaluation:204 - Started Evaluation: sample1\n",
      "2020-09-04 18:27:50.316 | INFO     | vimms.SequenceManager:run_evaluation:206 - Completed Evaluation: sample1\n",
      "2020-09-04 18:27:50.317 | INFO     | vimms.SequenceManager:run_serial:249 - Finished 0\n",
      "2020-09-04 18:27:50.317 | INFO     | vimms.SequenceManager:run_controller:190 - Begun experiment: sample2\n"
     ]
    },
    {
     "name": "stdout",
     "output_type": "stream",
     "text": [
      "False\n"
     ]
    },
    {
     "name": "stderr",
     "output_type": "stream",
     "text": [
      "2020-09-04 18:27:50.519 | INFO     | vimms.SequenceManager:run_experiment:156 - {'Sample ID': {1: 'sample2'}, 'Controller Method': {1: 'TopNController'}, 'Controller Params': {1: {'ionisation_mode': 'Positive', 'N': 10, 'isolation_width': 1, 'mz_tol': 10, 'rt_tol': 30, 'min_ms1_intensity': 175000.0, 'ms1_shift': 0, 'initial_exclusion_list': None, 'params': None}}, 'MassSpec Params': {1: {'ionisation_mode': 'Positive', 'peak_sampler': <vimms.DataGenerator.PeakSampler object at 0x00000247830F8048>, 'mz_noise': None, 'intensity_noise': None, 'isolation_transition_window': 'rectangular', 'isolation_transition_window_params': None, 'scan_duration_dict': {1: 0.4, 2: 0.2}}}, 'Dataset': {1: 'C:\\\\Users\\\\Vinny\\\\work\\\\vimms\\\\tests\\\\fixtures\\\\QCB_22May19_1.p'}}\n",
      "(1440.000s) ms_level=1 N=10 DEW=30: 100%|█████████████████████████████████████████████████████████████████████████████████████████████████████████████████████████████████████████████████▉| 1439.6000000000813/1440 [00:31<00:00, 45.99it/s]\n",
      "2020-09-04 18:28:31.151 | INFO     | vimms.SequenceManager:run_controller:194 - Completed experiment: sample2\n",
      "2020-09-04 18:28:31.152 | INFO     | vimms.SequenceManager:run_evaluation:204 - Started Evaluation: sample2\n",
      "2020-09-04 18:28:31.153 | INFO     | vimms.SequenceManager:run_evaluation:206 - Completed Evaluation: sample2\n",
      "2020-09-04 18:28:31.154 | INFO     | vimms.SequenceManager:run_serial:249 - Finished 1\n"
     ]
    },
    {
     "name": "stdout",
     "output_type": "stream",
     "text": [
      "False\n"
     ]
    }
   ],
   "source": [
    "vsm = VimmsSequenceManager(controller_schedule, evaluation_methods, output_dir, ms1_picked_peaks_file=None, progress_bar=True, mzmine_command=mzmine_command)\n",
    "experiment = BasicExperiment(vsm, parallel=parallel)"
   ]
  },
  {
   "cell_type": "code",
   "execution_count": 19,
   "metadata": {},
   "outputs": [
    {
     "data": {
      "text/html": [
       "<div>\n",
       "<style scoped>\n",
       "    .dataframe tbody tr th:only-of-type {\n",
       "        vertical-align: middle;\n",
       "    }\n",
       "\n",
       "    .dataframe tbody tr th {\n",
       "        vertical-align: top;\n",
       "    }\n",
       "\n",
       "    .dataframe thead th {\n",
       "        text-align: right;\n",
       "    }\n",
       "</style>\n",
       "<table border=\"1\" class=\"dataframe\">\n",
       "  <thead>\n",
       "    <tr style=\"text-align: right;\">\n",
       "      <th></th>\n",
       "      <th>Sample ID</th>\n",
       "      <th>Controller Method</th>\n",
       "      <th>N</th>\n",
       "      <th>mz_tol</th>\n",
       "      <th>rt_tol</th>\n",
       "      <th>min_ms1_intensity</th>\n",
       "      <th>ms1_shift</th>\n",
       "      <th>initial_exclusion_list</th>\n",
       "      <th>params</th>\n",
       "    </tr>\n",
       "  </thead>\n",
       "  <tbody>\n",
       "    <tr>\n",
       "      <th>0</th>\n",
       "      <td>sample1</td>\n",
       "      <td>TopNController</td>\n",
       "      <td>10</td>\n",
       "      <td>10</td>\n",
       "      <td>30</td>\n",
       "      <td>175000.0</td>\n",
       "      <td>0</td>\n",
       "      <td>None</td>\n",
       "      <td>None</td>\n",
       "    </tr>\n",
       "    <tr>\n",
       "      <th>1</th>\n",
       "      <td>sample2</td>\n",
       "      <td>TopNController</td>\n",
       "      <td>10</td>\n",
       "      <td>10</td>\n",
       "      <td>30</td>\n",
       "      <td>175000.0</td>\n",
       "      <td>0</td>\n",
       "      <td>None</td>\n",
       "      <td>None</td>\n",
       "    </tr>\n",
       "  </tbody>\n",
       "</table>\n",
       "</div>"
      ],
      "text/plain": [
       "  Sample ID Controller Method   N  mz_tol  rt_tol  min_ms1_intensity  \\\n",
       "0   sample1    TopNController  10      10      30           175000.0   \n",
       "1   sample2    TopNController  10      10      30           175000.0   \n",
       "\n",
       "   ms1_shift initial_exclusion_list params  \n",
       "0          0                   None   None  \n",
       "1          0                   None   None  "
      ]
     },
     "execution_count": 19,
     "metadata": {},
     "output_type": "execute_result"
    }
   ],
   "source": [
    "experiment.results"
   ]
  },
  {
   "cell_type": "markdown",
   "metadata": {},
   "source": [
    "### Example 2 - Seed with mzml"
   ]
  },
  {
   "cell_type": "code",
   "execution_count": 20,
   "metadata": {},
   "outputs": [],
   "source": [
    "output_dir = os.path.join(experiment_dir, 'sequence_manager_example_2')"
   ]
  },
  {
   "cell_type": "code",
   "execution_count": 21,
   "metadata": {},
   "outputs": [],
   "source": [
    "parallel = False"
   ]
  },
  {
   "cell_type": "code",
   "execution_count": 22,
   "metadata": {},
   "outputs": [
    {
     "ename": "KeyboardInterrupt",
     "evalue": "",
     "output_type": "error",
     "traceback": [
      "\u001b[1;31m---------------------------------------------------------------------------\u001b[0m",
      "\u001b[1;31mKeyboardInterrupt\u001b[0m                         Traceback (most recent call last)",
      "\u001b[1;32m<ipython-input-22-e942fdd6b918>\u001b[0m in \u001b[0;36m<module>\u001b[1;34m\u001b[0m\n\u001b[0;32m      1\u001b[0m \u001b[0mvsm\u001b[0m \u001b[1;33m=\u001b[0m \u001b[0mVimmsSequenceManager\u001b[0m\u001b[1;33m(\u001b[0m\u001b[0mcontroller_schedule2\u001b[0m\u001b[1;33m,\u001b[0m \u001b[0mevaluation_methods\u001b[0m\u001b[1;33m,\u001b[0m \u001b[0moutput_dir\u001b[0m\u001b[1;33m,\u001b[0m \u001b[0mms1_picked_peaks_file\u001b[0m\u001b[1;33m=\u001b[0m\u001b[1;32mNone\u001b[0m\u001b[1;33m,\u001b[0m \u001b[0mprogress_bar\u001b[0m\u001b[1;33m=\u001b[0m\u001b[1;32mTrue\u001b[0m\u001b[1;33m,\u001b[0m \u001b[0mmzmine_command\u001b[0m\u001b[1;33m=\u001b[0m\u001b[0mmzmine_command\u001b[0m\u001b[1;33m)\u001b[0m\u001b[1;33m\u001b[0m\u001b[1;33m\u001b[0m\u001b[0m\n\u001b[1;32m----> 2\u001b[1;33m \u001b[0mexperiment\u001b[0m \u001b[1;33m=\u001b[0m \u001b[0mBasicExperiment\u001b[0m\u001b[1;33m(\u001b[0m\u001b[0mvsm\u001b[0m\u001b[1;33m,\u001b[0m \u001b[0mparallel\u001b[0m\u001b[1;33m=\u001b[0m\u001b[0mparallel\u001b[0m\u001b[1;33m,\u001b[0m \u001b[0mmzml_file_list\u001b[0m\u001b[1;33m=\u001b[0m\u001b[0mmzml_file_list\u001b[0m\u001b[1;33m,\u001b[0m \u001b[0mMZML2CHEMS_DICT\u001b[0m\u001b[1;33m=\u001b[0m\u001b[0mMZML2CHEMS_DICT\u001b[0m\u001b[1;33m,\u001b[0m \u001b[0mps\u001b[0m\u001b[1;33m=\u001b[0m\u001b[0mps\u001b[0m\u001b[1;33m)\u001b[0m\u001b[1;33m\u001b[0m\u001b[1;33m\u001b[0m\u001b[0m\n\u001b[0m",
      "\u001b[1;32m~\\work\\vimms\\vimms\\SequenceManager.py\u001b[0m in \u001b[0;36m__init__\u001b[1;34m(self, sequence_manager, parallel, mzml_file_list, MZML2CHEMS_DICT, ps)\u001b[0m\n\u001b[0;32m    215\u001b[0m         \u001b[0msequence_manager\u001b[0m \u001b[1;33m=\u001b[0m \u001b[0mself\u001b[0m\u001b[1;33m.\u001b[0m\u001b[0madd_defaults_controller_params\u001b[0m\u001b[1;33m(\u001b[0m\u001b[0msequence_manager\u001b[0m\u001b[1;33m)\u001b[0m\u001b[1;33m\u001b[0m\u001b[1;33m\u001b[0m\u001b[0m\n\u001b[0;32m    216\u001b[0m         \u001b[1;32mif\u001b[0m \u001b[0mmzml_file_list\u001b[0m \u001b[1;32mis\u001b[0m \u001b[1;32mnot\u001b[0m \u001b[1;32mNone\u001b[0m \u001b[1;32mand\u001b[0m \u001b[0mall\u001b[0m\u001b[1;33m(\u001b[0m\u001b[0mnp\u001b[0m\u001b[1;33m.\u001b[0m\u001b[0marray\u001b[0m\u001b[1;33m(\u001b[0m\u001b[0msequence_manager\u001b[0m\u001b[1;33m.\u001b[0m\u001b[0mcontroller_schedule\u001b[0m\u001b[1;33m[\u001b[0m\u001b[1;34m'Dataset'\u001b[0m\u001b[1;33m]\u001b[0m\u001b[1;33m)\u001b[0m \u001b[1;33m==\u001b[0m \u001b[1;32mNone\u001b[0m\u001b[1;33m)\u001b[0m\u001b[1;33m:\u001b[0m\u001b[1;33m\u001b[0m\u001b[1;33m\u001b[0m\u001b[0m\n\u001b[1;32m--> 217\u001b[1;33m             \u001b[0msequence_manager\u001b[0m \u001b[1;33m=\u001b[0m \u001b[0mself\u001b[0m\u001b[1;33m.\u001b[0m\u001b[0madd_dataset_files\u001b[0m\u001b[1;33m(\u001b[0m\u001b[0msequence_manager\u001b[0m\u001b[1;33m,\u001b[0m \u001b[0mmzml_file_list\u001b[0m\u001b[1;33m)\u001b[0m\u001b[1;33m\u001b[0m\u001b[1;33m\u001b[0m\u001b[0m\n\u001b[0m\u001b[0;32m    218\u001b[0m         \u001b[0msuper\u001b[0m\u001b[1;33m(\u001b[0m\u001b[1;33m)\u001b[0m\u001b[1;33m.\u001b[0m\u001b[0m__init__\u001b[0m\u001b[1;33m(\u001b[0m\u001b[0msequence_manager\u001b[0m\u001b[1;33m)\u001b[0m\u001b[1;33m\u001b[0m\u001b[1;33m\u001b[0m\u001b[0m\n\u001b[0;32m    219\u001b[0m \u001b[1;33m\u001b[0m\u001b[0m\n",
      "\u001b[1;32m~\\work\\vimms\\vimms\\SequenceManager.py\u001b[0m in \u001b[0;36madd_dataset_files\u001b[1;34m(self, sequence_manager, mzml_file_list)\u001b[0m\n\u001b[0;32m    222\u001b[0m             \u001b[1;32mif\u001b[0m \u001b[0mmzml_file_list\u001b[0m\u001b[1;33m[\u001b[0m\u001b[0msequence_manager\u001b[0m\u001b[1;33m.\u001b[0m\u001b[0mschedule_idx\u001b[0m\u001b[1;33m[\u001b[0m\u001b[0mi\u001b[0m\u001b[1;33m]\u001b[0m\u001b[1;33m]\u001b[0m \u001b[1;32mis\u001b[0m \u001b[1;32mnot\u001b[0m \u001b[1;32mNone\u001b[0m\u001b[1;33m:\u001b[0m\u001b[1;33m\u001b[0m\u001b[1;33m\u001b[0m\u001b[0m\n\u001b[0;32m    223\u001b[0m                 \u001b[0mmzml_file\u001b[0m \u001b[1;33m=\u001b[0m \u001b[0mmzml_file_list\u001b[0m\u001b[1;33m[\u001b[0m\u001b[0msequence_manager\u001b[0m\u001b[1;33m.\u001b[0m\u001b[0mschedule_idx\u001b[0m\u001b[1;33m[\u001b[0m\u001b[0mi\u001b[0m\u001b[1;33m]\u001b[0m\u001b[1;33m]\u001b[0m\u001b[1;33m\u001b[0m\u001b[1;33m\u001b[0m\u001b[0m\n\u001b[1;32m--> 224\u001b[1;33m                 \u001b[0mdatasets\u001b[0m \u001b[1;33m=\u001b[0m \u001b[0mextract_roi\u001b[0m\u001b[1;33m(\u001b[0m\u001b[1;33m[\u001b[0m\u001b[0mmzml_file\u001b[0m\u001b[1;33m]\u001b[0m\u001b[1;33m,\u001b[0m \u001b[1;32mNone\u001b[0m\u001b[1;33m,\u001b[0m \u001b[1;32mNone\u001b[0m\u001b[1;33m,\u001b[0m \u001b[1;32mNone\u001b[0m\u001b[1;33m,\u001b[0m \u001b[0mself\u001b[0m\u001b[1;33m.\u001b[0m\u001b[0mps\u001b[0m\u001b[1;33m,\u001b[0m \u001b[0mparam_dict\u001b[0m\u001b[1;33m=\u001b[0m\u001b[0mself\u001b[0m\u001b[1;33m.\u001b[0m\u001b[0mmzml2chems_dict\u001b[0m\u001b[1;33m)\u001b[0m\u001b[1;33m\u001b[0m\u001b[1;33m\u001b[0m\u001b[0m\n\u001b[0m\u001b[0;32m    225\u001b[0m                 \u001b[0mdataset\u001b[0m \u001b[1;33m=\u001b[0m \u001b[0mdatasets\u001b[0m\u001b[1;33m[\u001b[0m\u001b[1;36m0\u001b[0m\u001b[1;33m]\u001b[0m\u001b[1;33m\u001b[0m\u001b[1;33m\u001b[0m\u001b[0m\n\u001b[0;32m    226\u001b[0m                 dataset_name = os.path.join(sequence_manager.base_dir,\n",
      "\u001b[1;32m~\\work\\vimms\\vimms\\FeatureExtraction.py\u001b[0m in \u001b[0;36mextract_roi\u001b[1;34m(file_names, out_dir, pattern, mzml_path, ps, param_dict)\u001b[0m\n\u001b[0;32m     34\u001b[0m \u001b[1;33m\u001b[0m\u001b[0m\n\u001b[0;32m     35\u001b[0m         \u001b[1;31m# turn ROI to chemicals\u001b[0m\u001b[1;33m\u001b[0m\u001b[1;33m\u001b[0m\u001b[1;33m\u001b[0m\u001b[0m\n\u001b[1;32m---> 36\u001b[1;33m         \u001b[0mrtcc\u001b[0m \u001b[1;33m=\u001b[0m \u001b[0mRoiToChemicalCreator\u001b[0m\u001b[1;33m(\u001b[0m\u001b[0mps\u001b[0m\u001b[1;33m,\u001b[0m \u001b[0mall_roi\u001b[0m\u001b[1;33m,\u001b[0m \u001b[0mn_peaks\u001b[0m\u001b[1;33m=\u001b[0m\u001b[0mparam_dict\u001b[0m\u001b[1;33m[\u001b[0m\u001b[1;34m'n_peaks'\u001b[0m\u001b[1;33m]\u001b[0m\u001b[1;33m)\u001b[0m\u001b[1;33m\u001b[0m\u001b[1;33m\u001b[0m\u001b[0m\n\u001b[0m\u001b[0;32m     37\u001b[0m         \u001b[0mdataset\u001b[0m \u001b[1;33m=\u001b[0m \u001b[0mrtcc\u001b[0m\u001b[1;33m.\u001b[0m\u001b[0mchemicals\u001b[0m\u001b[1;33m\u001b[0m\u001b[1;33m\u001b[0m\u001b[0m\n\u001b[0;32m     38\u001b[0m         \u001b[0mdatasets\u001b[0m\u001b[1;33m.\u001b[0m\u001b[0mappend\u001b[0m\u001b[1;33m(\u001b[0m\u001b[0mdataset\u001b[0m\u001b[1;33m)\u001b[0m\u001b[1;33m\u001b[0m\u001b[1;33m\u001b[0m\u001b[0m\n",
      "\u001b[1;32m~\\work\\vimms\\vimms\\Chemicals.py\u001b[0m in \u001b[0;36m__init__\u001b[1;34m(self, peak_sampler, all_roi, n_peaks)\u001b[0m\n\u001b[0;32m    491\u001b[0m                     \u001b[1;32mtry\u001b[0m\u001b[1;33m:\u001b[0m\u001b[1;33m\u001b[0m\u001b[1;33m\u001b[0m\u001b[0m\n\u001b[0;32m    492\u001b[0m                         \u001b[1;31m# TODO: initialise chemical with only 1 child for the purpose of experiment, we might need to improve this\u001b[0m\u001b[1;33m\u001b[0m\u001b[1;33m\u001b[0m\u001b[1;33m\u001b[0m\u001b[0m\n\u001b[1;32m--> 493\u001b[1;33m                         \u001b[0mchem\u001b[0m\u001b[1;33m.\u001b[0m\u001b[0mchildren\u001b[0m \u001b[1;33m=\u001b[0m \u001b[0mself\u001b[0m\u001b[1;33m.\u001b[0m\u001b[0m_get_children\u001b[0m\u001b[1;33m(\u001b[0m\u001b[0mGET_MS2_BY_PEAKS\u001b[0m\u001b[1;33m,\u001b[0m \u001b[0mchem\u001b[0m\u001b[1;33m,\u001b[0m \u001b[0mn_peaks\u001b[0m\u001b[1;33m=\u001b[0m\u001b[0mn_peaks\u001b[0m\u001b[1;33m)\u001b[0m\u001b[1;33m\u001b[0m\u001b[1;33m\u001b[0m\u001b[0m\n\u001b[0m\u001b[0;32m    494\u001b[0m                     \u001b[1;32mexcept\u001b[0m \u001b[0mKeyError\u001b[0m\u001b[1;33m:\u001b[0m\u001b[1;33m\u001b[0m\u001b[1;33m\u001b[0m\u001b[0m\n\u001b[0;32m    495\u001b[0m                         \u001b[1;32mpass\u001b[0m\u001b[1;33m\u001b[0m\u001b[1;33m\u001b[0m\u001b[0m\n",
      "\u001b[1;32m~\\work\\vimms\\vimms\\Chemicals.py\u001b[0m in \u001b[0;36m_get_children\u001b[1;34m(self, get_children_method, parent, n_peaks)\u001b[0m\n\u001b[0;32m    337\u001b[0m             \u001b[1;32mreturn\u001b[0m \u001b[0mkids\u001b[0m\u001b[1;33m\u001b[0m\u001b[1;33m\u001b[0m\u001b[0m\n\u001b[0;32m    338\u001b[0m         \u001b[1;32melif\u001b[0m \u001b[0mget_children_method\u001b[0m \u001b[1;33m==\u001b[0m \u001b[0mGET_MS2_BY_PEAKS\u001b[0m\u001b[1;33m:\u001b[0m\u001b[1;33m\u001b[0m\u001b[1;33m\u001b[0m\u001b[0m\n\u001b[1;32m--> 339\u001b[1;33m             \u001b[0mkids\u001b[0m \u001b[1;33m=\u001b[0m \u001b[0mself\u001b[0m\u001b[1;33m.\u001b[0m\u001b[0m_get_children_sample\u001b[0m\u001b[1;33m(\u001b[0m\u001b[0mparent\u001b[0m\u001b[1;33m,\u001b[0m \u001b[0mn_peaks\u001b[0m\u001b[1;33m)\u001b[0m\u001b[1;33m\u001b[0m\u001b[1;33m\u001b[0m\u001b[0m\n\u001b[0m\u001b[0;32m    340\u001b[0m             \u001b[1;32mreturn\u001b[0m \u001b[0mkids\u001b[0m\u001b[1;33m\u001b[0m\u001b[1;33m\u001b[0m\u001b[0m\n\u001b[0;32m    341\u001b[0m         \u001b[1;31m# TODO: add ability to get children through prediction from parent formula\u001b[0m\u001b[1;33m\u001b[0m\u001b[1;33m\u001b[0m\u001b[1;33m\u001b[0m\u001b[0m\n",
      "\u001b[1;32m~\\work\\vimms\\vimms\\Chemicals.py\u001b[0m in \u001b[0;36m_get_children_sample\u001b[1;34m(self, parent, n_peaks)\u001b[0m\n\u001b[0;32m    364\u001b[0m             \u001b[0mn_peaks\u001b[0m \u001b[1;33m=\u001b[0m \u001b[0mself\u001b[0m\u001b[1;33m.\u001b[0m\u001b[0m_get_n\u001b[0m\u001b[1;33m(\u001b[0m\u001b[0mchildren_ms_level\u001b[0m\u001b[1;33m)\u001b[0m\u001b[1;33m\u001b[0m\u001b[1;33m\u001b[0m\u001b[0m\n\u001b[0;32m    365\u001b[0m         \u001b[0mkids\u001b[0m \u001b[1;33m=\u001b[0m \u001b[1;33m[\u001b[0m\u001b[1;33m]\u001b[0m\u001b[1;33m\u001b[0m\u001b[1;33m\u001b[0m\u001b[0m\n\u001b[1;32m--> 366\u001b[1;33m         \u001b[0mparent_mass_prop\u001b[0m \u001b[1;33m=\u001b[0m \u001b[0mself\u001b[0m\u001b[1;33m.\u001b[0m\u001b[0mpeak_sampler\u001b[0m\u001b[1;33m.\u001b[0m\u001b[0mget_parent_intensity_proportion\u001b[0m\u001b[1;33m(\u001b[0m\u001b[1;33m)\u001b[0m\u001b[1;33m\u001b[0m\u001b[1;33m\u001b[0m\u001b[0m\n\u001b[0m\u001b[0;32m    367\u001b[0m         \u001b[0mkids_intensity_proportions\u001b[0m \u001b[1;33m=\u001b[0m \u001b[0mself\u001b[0m\u001b[1;33m.\u001b[0m\u001b[0m_get_msn_proportions\u001b[0m\u001b[1;33m(\u001b[0m\u001b[0mchildren_ms_level\u001b[0m\u001b[1;33m,\u001b[0m \u001b[0mn_peaks\u001b[0m\u001b[1;33m)\u001b[0m\u001b[1;33m\u001b[0m\u001b[1;33m\u001b[0m\u001b[0m\n\u001b[0;32m    368\u001b[0m         \u001b[1;32mif\u001b[0m \u001b[0mself\u001b[0m\u001b[1;33m.\u001b[0m\u001b[0malpha\u001b[0m \u001b[1;33m<\u001b[0m \u001b[0mmath\u001b[0m\u001b[1;33m.\u001b[0m\u001b[0minf\u001b[0m\u001b[1;33m:\u001b[0m\u001b[1;33m\u001b[0m\u001b[1;33m\u001b[0m\u001b[0m\n",
      "\u001b[1;32m~\\work\\vimms\\vimms\\DataGenerator.py\u001b[0m in \u001b[0;36mget_parent_intensity_proportion\u001b[1;34m(self, N)\u001b[0m\n\u001b[0;32m    597\u001b[0m         \u001b[1;31m# returns number between 0 and 1\u001b[0m\u001b[1;33m\u001b[0m\u001b[1;33m\u001b[0m\u001b[1;33m\u001b[0m\u001b[0m\n\u001b[0;32m    598\u001b[0m         \u001b[1;32mif\u001b[0m \u001b[0mlen\u001b[0m\u001b[1;33m(\u001b[0m\u001b[0mself\u001b[0m\u001b[1;33m.\u001b[0m\u001b[0mall_ms2_scans\u001b[0m\u001b[1;33m)\u001b[0m \u001b[1;33m>\u001b[0m \u001b[1;36m0\u001b[0m\u001b[1;33m:\u001b[0m\u001b[1;33m\u001b[0m\u001b[1;33m\u001b[0m\u001b[0m\n\u001b[1;32m--> 599\u001b[1;33m             \u001b[1;32mreturn\u001b[0m \u001b[0mnp\u001b[0m\u001b[1;33m.\u001b[0m\u001b[0mrandom\u001b[0m\u001b[1;33m.\u001b[0m\u001b[0mchoice\u001b[0m\u001b[1;33m(\u001b[0m\u001b[0mself\u001b[0m\u001b[1;33m.\u001b[0m\u001b[0mintensity_props\u001b[0m\u001b[1;33m,\u001b[0m \u001b[0mreplace\u001b[0m\u001b[1;33m=\u001b[0m\u001b[1;32mFalse\u001b[0m\u001b[1;33m,\u001b[0m \u001b[0msize\u001b[0m\u001b[1;33m=\u001b[0m\u001b[0mN\u001b[0m\u001b[1;33m)\u001b[0m\u001b[1;33m\u001b[0m\u001b[1;33m\u001b[0m\u001b[0m\n\u001b[0m\u001b[0;32m    600\u001b[0m         \u001b[1;32mreturn\u001b[0m \u001b[1;32mNone\u001b[0m\u001b[1;33m\u001b[0m\u001b[1;33m\u001b[0m\u001b[0m\n\u001b[0;32m    601\u001b[0m \u001b[1;33m\u001b[0m\u001b[0m\n",
      "\u001b[1;31mKeyboardInterrupt\u001b[0m: "
     ]
    }
   ],
   "source": [
    "vsm = VimmsSequenceManager(controller_schedule2, evaluation_methods, output_dir, ms1_picked_peaks_file=None, progress_bar=True, mzmine_command=mzmine_command)\n",
    "experiment = BasicExperiment(vsm, parallel=parallel, mzml_file_list=mzml_file_list, MZML2CHEMS_DICT=MZML2CHEMS_DICT, ps=ps)"
   ]
  },
  {
   "cell_type": "code",
   "execution_count": null,
   "metadata": {},
   "outputs": [],
   "source": []
  }
 ],
 "metadata": {
  "kernelspec": {
   "display_name": "Python 3",
   "language": "python",
   "name": "python3"
  },
  "language_info": {
   "codemirror_mode": {
    "name": "ipython",
    "version": 3
   },
   "file_extension": ".py",
   "mimetype": "text/x-python",
   "name": "python",
   "nbconvert_exporter": "python",
   "pygments_lexer": "ipython3",
   "version": "3.7.3"
  }
 },
 "nbformat": 4,
 "nbformat_minor": 4
}
