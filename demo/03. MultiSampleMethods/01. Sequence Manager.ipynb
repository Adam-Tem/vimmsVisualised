{
 "cells": [
  {
   "cell_type": "markdown",
   "metadata": {},
   "source": [
    "# 1. Sequence Manager"
   ]
  },
  {
   "cell_type": "code",
   "execution_count": 1,
   "metadata": {},
   "outputs": [],
   "source": [
    "%matplotlib inline\n",
    "%load_ext autoreload\n",
    "%autoreload 2"
   ]
  },
  {
   "cell_type": "code",
   "execution_count": 2,
   "metadata": {},
   "outputs": [],
   "source": [
    "import sys\n",
    "sys.path.append('../..')"
   ]
  },
  {
   "cell_type": "code",
   "execution_count": null,
   "metadata": {},
   "outputs": [],
   "source": []
  },
  {
   "cell_type": "code",
   "execution_count": 3,
   "metadata": {},
   "outputs": [],
   "source": [
    "from vimms.SequenceManager import *"
   ]
  },
  {
   "cell_type": "code",
   "execution_count": 4,
   "metadata": {},
   "outputs": [],
   "source": [
    "data_dir = os.path.join(os.path.abspath(os.path.join(os.path.join(os.getcwd(),\"..\"),\"..\")),'tests','integration','fixtures')\n",
    "dataset_file = os.path.join(data_dir, 'QCB_22May19_1.p')\n",
    "dataset = load_obj(dataset_file)\n",
    "ps = load_obj(Path(data_dir,'peak_sampler_mz_rt_int_beerqcb_fragmentation.p'))"
   ]
  },
  {
   "cell_type": "code",
   "execution_count": 5,
   "metadata": {},
   "outputs": [],
   "source": [
    "url = 'http://researchdata.gla.ac.uk/870/2/example_data.zip'\n",
    "base_dir = os.path.abspath(os.path.join(os.getcwd(),'..','01. Data', 'example_data'))"
   ]
  },
  {
   "cell_type": "code",
   "execution_count": 6,
   "metadata": {},
   "outputs": [
    {
     "name": "stdout",
     "output_type": "stream",
     "text": [
      "Found C:\\Users\\Vinny\\work\\vimms\\demo\\01. Data\\example_data\n"
     ]
    }
   ],
   "source": [
    "if not os.path.isdir(base_dir): # if not exist then download the example data and extract it\n",
    "    print('Creating %s' % base_dir)    \n",
    "    out_file = 'example_data.zip'\n",
    "    download_file(url, out_file)\n",
    "    extract_zip_file(out_file, delete=True)\n",
    "else:\n",
    "    print('Found %s' % base_dir)"
   ]
  },
  {
   "cell_type": "code",
   "execution_count": 7,
   "metadata": {},
   "outputs": [],
   "source": [
    "mzml_file = os.path.join(base_dir, 'beers', 'fullscan', 'mzML', 'Beer_multibeers_1_fullscan1.mzML')\n",
    "mzml_file_list=[None, mzml_file, None, mzml_file]"
   ]
  },
  {
   "cell_type": "code",
   "execution_count": 8,
   "metadata": {},
   "outputs": [],
   "source": [
    "set_log_level_info()"
   ]
  },
  {
   "cell_type": "markdown",
   "metadata": {},
   "source": [
    "### Set some default parameters"
   ]
  },
  {
   "cell_type": "code",
   "execution_count": 9,
   "metadata": {},
   "outputs": [],
   "source": [
    "experiment_dir = os.path.join(os.getcwd(), 'results')"
   ]
  },
  {
   "cell_type": "code",
   "execution_count": 10,
   "metadata": {},
   "outputs": [],
   "source": [
    "DEFAULT_SCAN_TIME_DICT = {1: 0.4, 2: 0.2}\n",
    "mass_spec_params = {'ionisation_mode': POSITIVE,\n",
    "                    'peak_sampler': ps,\n",
    "                    'mz_noise': None,\n",
    "                    'intensity_noise': None,\n",
    "                    'isolation_transition_window': 'rectangular',\n",
    "                    'isolation_transition_window_params': None,\n",
    "                    'scan_duration_dict': DEFAULT_SCAN_TIME_DICT}"
   ]
  },
  {
   "cell_type": "code",
   "execution_count": 11,
   "metadata": {},
   "outputs": [],
   "source": [
    "controller_params = {\"ionisation_mode\": POSITIVE,\n",
    "                       \"N\": 10,\n",
    "                       \"mz_tol\": 10,\n",
    "                       \"rt_tol\":30,\n",
    "                       \"min_ms1_intensity\": 1.75E5,\n",
    "                       \"rt_range\": [(200, 400)],\n",
    "                       \"isolation_width\": 1}"
   ]
  },
  {
   "cell_type": "markdown",
   "metadata": {},
   "source": [
    "Note: you will need to install the same version of MZMine2 and put it in the same location as ViMMS"
   ]
  },
  {
   "cell_type": "code",
   "execution_count": 12,
   "metadata": {},
   "outputs": [],
   "source": [
    "evaluation_methods = []\n",
    "mzmine_command = os.path.abspath(os.path.join(os.getcwd(),'..','..','..','MZmine-2.40.1','MZmine-2.40.1','startMZmine_Windows.bat'))"
   ]
  },
  {
   "cell_type": "code",
   "execution_count": 13,
   "metadata": {},
   "outputs": [],
   "source": [
    "MZML2CHEMS_DICT = {'min_ms1_intensity': 1.75E5,\n",
    "                  'mz_tol': 5,\n",
    "                  'mz_units':'ppm',\n",
    "                  'min_length':1,\n",
    "                  'min_intensity':0,\n",
    "                  'start_rt':0,\n",
    "                  'stop_rt':1560}"
   ]
  },
  {
   "cell_type": "markdown",
   "metadata": {},
   "source": [
    "### Set up some simple schedules"
   ]
  },
  {
   "cell_type": "code",
   "execution_count": 14,
   "metadata": {},
   "outputs": [
    {
     "data": {
      "text/html": [
       "<div>\n",
       "<style scoped>\n",
       "    .dataframe tbody tr th:only-of-type {\n",
       "        vertical-align: middle;\n",
       "    }\n",
       "\n",
       "    .dataframe tbody tr th {\n",
       "        vertical-align: top;\n",
       "    }\n",
       "\n",
       "    .dataframe thead th {\n",
       "        text-align: right;\n",
       "    }\n",
       "</style>\n",
       "<table border=\"1\" class=\"dataframe\">\n",
       "  <thead>\n",
       "    <tr style=\"text-align: right;\">\n",
       "      <th></th>\n",
       "      <th>Sample ID</th>\n",
       "      <th>Controller Method</th>\n",
       "      <th>Controller Params</th>\n",
       "      <th>MassSpec Params</th>\n",
       "      <th>Dataset</th>\n",
       "    </tr>\n",
       "  </thead>\n",
       "  <tbody>\n",
       "    <tr>\n",
       "      <th>0</th>\n",
       "      <td>blank1</td>\n",
       "      <td>None</td>\n",
       "      <td>None</td>\n",
       "      <td>None</td>\n",
       "      <td>None</td>\n",
       "    </tr>\n",
       "    <tr>\n",
       "      <th>1</th>\n",
       "      <td>sample1</td>\n",
       "      <td>TopNController</td>\n",
       "      <td>{'ionisation_mode': 'Positive', 'N': 10, 'mz_t...</td>\n",
       "      <td>{'ionisation_mode': 'Positive', 'peak_sampler'...</td>\n",
       "      <td>C:\\Users\\Vinny\\work\\vimms\\tests\\integration\\fi...</td>\n",
       "    </tr>\n",
       "    <tr>\n",
       "      <th>2</th>\n",
       "      <td>blank2</td>\n",
       "      <td>None</td>\n",
       "      <td>None</td>\n",
       "      <td>None</td>\n",
       "      <td>None</td>\n",
       "    </tr>\n",
       "    <tr>\n",
       "      <th>3</th>\n",
       "      <td>sample2</td>\n",
       "      <td>TopNController</td>\n",
       "      <td>{'ionisation_mode': 'Positive', 'N': 10, 'mz_t...</td>\n",
       "      <td>{'ionisation_mode': 'Positive', 'peak_sampler'...</td>\n",
       "      <td>C:\\Users\\Vinny\\work\\vimms\\tests\\integration\\fi...</td>\n",
       "    </tr>\n",
       "  </tbody>\n",
       "</table>\n",
       "</div>"
      ],
      "text/plain": [
       "  Sample ID Controller Method  \\\n",
       "0    blank1              None   \n",
       "1   sample1    TopNController   \n",
       "2    blank2              None   \n",
       "3   sample2    TopNController   \n",
       "\n",
       "                                   Controller Params  \\\n",
       "0                                               None   \n",
       "1  {'ionisation_mode': 'Positive', 'N': 10, 'mz_t...   \n",
       "2                                               None   \n",
       "3  {'ionisation_mode': 'Positive', 'N': 10, 'mz_t...   \n",
       "\n",
       "                                     MassSpec Params  \\\n",
       "0                                               None   \n",
       "1  {'ionisation_mode': 'Positive', 'peak_sampler'...   \n",
       "2                                               None   \n",
       "3  {'ionisation_mode': 'Positive', 'peak_sampler'...   \n",
       "\n",
       "                                             Dataset  \n",
       "0                                               None  \n",
       "1  C:\\Users\\Vinny\\work\\vimms\\tests\\integration\\fi...  \n",
       "2                                               None  \n",
       "3  C:\\Users\\Vinny\\work\\vimms\\tests\\integration\\fi...  "
      ]
     },
     "execution_count": 14,
     "metadata": {},
     "output_type": "execute_result"
    }
   ],
   "source": [
    "d = {\n",
    "    'Sample ID'        : ['blank1', 'sample1', 'blank2', 'sample2'],\n",
    "    'Controller Method': [None, 'TopNController', None, 'TopNController'],\n",
    "    'Controller Params': [None, controller_params, None, controller_params],\n",
    "    'MassSpec Params'  : [None, mass_spec_params, None, mass_spec_params],\n",
    "    'Dataset'          : [None, dataset_file, None, dataset_file]\n",
    "}\n",
    "controller_schedule = pd.DataFrame(data=d)\n",
    "controller_schedule"
   ]
  },
  {
   "cell_type": "code",
   "execution_count": 15,
   "metadata": {},
   "outputs": [
    {
     "data": {
      "text/html": [
       "<div>\n",
       "<style scoped>\n",
       "    .dataframe tbody tr th:only-of-type {\n",
       "        vertical-align: middle;\n",
       "    }\n",
       "\n",
       "    .dataframe tbody tr th {\n",
       "        vertical-align: top;\n",
       "    }\n",
       "\n",
       "    .dataframe thead th {\n",
       "        text-align: right;\n",
       "    }\n",
       "</style>\n",
       "<table border=\"1\" class=\"dataframe\">\n",
       "  <thead>\n",
       "    <tr style=\"text-align: right;\">\n",
       "      <th></th>\n",
       "      <th>Sample ID</th>\n",
       "      <th>Controller Method</th>\n",
       "      <th>Controller Params</th>\n",
       "      <th>MassSpec Params</th>\n",
       "      <th>Dataset</th>\n",
       "    </tr>\n",
       "  </thead>\n",
       "  <tbody>\n",
       "    <tr>\n",
       "      <th>0</th>\n",
       "      <td>blank1</td>\n",
       "      <td>None</td>\n",
       "      <td>None</td>\n",
       "      <td>None</td>\n",
       "      <td>None</td>\n",
       "    </tr>\n",
       "    <tr>\n",
       "      <th>1</th>\n",
       "      <td>sample1</td>\n",
       "      <td>TopNController</td>\n",
       "      <td>{'ionisation_mode': 'Positive', 'N': 10, 'mz_t...</td>\n",
       "      <td>{'ionisation_mode': 'Positive', 'peak_sampler'...</td>\n",
       "      <td>None</td>\n",
       "    </tr>\n",
       "    <tr>\n",
       "      <th>2</th>\n",
       "      <td>blank2</td>\n",
       "      <td>None</td>\n",
       "      <td>None</td>\n",
       "      <td>None</td>\n",
       "      <td>None</td>\n",
       "    </tr>\n",
       "    <tr>\n",
       "      <th>3</th>\n",
       "      <td>sample2</td>\n",
       "      <td>TopNController</td>\n",
       "      <td>{'ionisation_mode': 'Positive', 'N': 10, 'mz_t...</td>\n",
       "      <td>{'ionisation_mode': 'Positive', 'peak_sampler'...</td>\n",
       "      <td>None</td>\n",
       "    </tr>\n",
       "  </tbody>\n",
       "</table>\n",
       "</div>"
      ],
      "text/plain": [
       "  Sample ID Controller Method  \\\n",
       "0    blank1              None   \n",
       "1   sample1    TopNController   \n",
       "2    blank2              None   \n",
       "3   sample2    TopNController   \n",
       "\n",
       "                                   Controller Params  \\\n",
       "0                                               None   \n",
       "1  {'ionisation_mode': 'Positive', 'N': 10, 'mz_t...   \n",
       "2                                               None   \n",
       "3  {'ionisation_mode': 'Positive', 'N': 10, 'mz_t...   \n",
       "\n",
       "                                     MassSpec Params Dataset  \n",
       "0                                               None    None  \n",
       "1  {'ionisation_mode': 'Positive', 'peak_sampler'...    None  \n",
       "2                                               None    None  \n",
       "3  {'ionisation_mode': 'Positive', 'peak_sampler'...    None  "
      ]
     },
     "execution_count": 15,
     "metadata": {},
     "output_type": "execute_result"
    }
   ],
   "source": [
    "d2 = {\n",
    "    'Sample ID'        : ['blank1', 'sample1', 'blank2', 'sample2'],\n",
    "    'Controller Method': [None, 'TopNController', None, 'TopNController'],\n",
    "    'Controller Params': [None, controller_params, None, controller_params],\n",
    "    'MassSpec Params'  : [None, mass_spec_params, None, mass_spec_params],\n",
    "    'Dataset'          : [None, None, None, None]\n",
    "}\n",
    "controller_schedule2 = pd.DataFrame(data=d2)\n",
    "controller_schedule2"
   ]
  },
  {
   "cell_type": "markdown",
   "metadata": {},
   "source": [
    "### Example 1 - Seed with dataset, non-parallel"
   ]
  },
  {
   "cell_type": "code",
   "execution_count": 16,
   "metadata": {},
   "outputs": [],
   "source": [
    "output_dir = os.path.join(experiment_dir, 'sequence_manager_example_1')"
   ]
  },
  {
   "cell_type": "code",
   "execution_count": 17,
   "metadata": {},
   "outputs": [],
   "source": [
    "parallel = False  # note: true is not yet implemented"
   ]
  },
  {
   "cell_type": "code",
   "execution_count": 24,
   "metadata": {},
   "outputs": [
    {
     "name": "stderr",
     "output_type": "stream",
     "text": [
      "2020-08-21 15:46:11.457 | INFO     | vimms.SequenceManager:run:237 - Running in serial mode\n",
      "2020-08-21 15:46:11.458 | INFO     | vimms.SequenceManager:run_controller:191 - Begun experiment: sample1\n",
      "2020-08-21 15:46:11.659 | INFO     | vimms.SequenceManager:run_experiment:172 - Experiment already completed. Skipping...\n",
      "2020-08-21 15:46:11.660 | INFO     | vimms.SequenceManager:run_controller:195 - Completed experiment: sample1\n",
      "2020-08-21 15:46:11.660 | INFO     | vimms.SequenceManager:run_evaluation:205 - Started Evaluation: sample1\n",
      "2020-08-21 15:46:11.661 | INFO     | vimms.SequenceManager:run_evaluation:207 - Completed Evaluation: sample1\n",
      "2020-08-21 15:46:11.662 | INFO     | vimms.SequenceManager:run_serial:249 - Finished 0\n",
      "2020-08-21 15:46:11.663 | INFO     | vimms.SequenceManager:run_controller:191 - Begun experiment: sample2\n"
     ]
    },
    {
     "name": "stdout",
     "output_type": "stream",
     "text": [
      "False\n"
     ]
    },
    {
     "name": "stderr",
     "output_type": "stream",
     "text": [
      "2020-08-21 15:46:11.866 | INFO     | vimms.SequenceManager:run_experiment:158 - {'Sample ID': {1: 'sample2'}, 'Controller Method': {1: 'TopNController'}, 'Controller Params': {1: {'ionisation_mode': 'Positive', 'N': 10, 'isolation_width': 1, 'mz_tol': 10, 'rt_tol': 30, 'min_ms1_intensity': 175000.0, 'ms1_shift': 0, 'ms1_agc_target': 200000, 'ms1_max_it': 250, 'ms1_collision_energy': 0, 'ms1_orbitrap_resolution': 120000, 'ms1_activation_type': 'HCD', 'ms1_mass_analyser': 'Orbitrap', 'ms1_isolation_mode': 'Quadupole', 'ms2_agc_target': 30000, 'ms2_max_it': 100, 'ms2_collision_energy': 25, 'ms2_orbitrap_resolution': 7500, 'ms2_activation_type': 'HCD', 'ms2_mass_analyser': 'Orbitrap', 'ms2_isolation_mode': 'Quadupole'}}, 'MassSpec Params': {1: {'ionisation_mode': 'Positive', 'peak_sampler': <vimms.DataGenerator.PeakSampler object at 0x00000206C55E9198>, 'mz_noise': None, 'intensity_noise': None, 'isolation_transition_window': 'rectangular', 'isolation_transition_window_params': None, 'scan_duration_dict': {1: 0.4, 2: 0.2}}}, 'Dataset': {1: 'C:\\\\Users\\\\Vinny\\\\work\\\\vimms\\\\tests\\\\integration\\\\fixtures\\\\QCB_22May19_1.p'}}\n",
      "(1440.000s) ms_level=1 N=10 DEW=30: 100%|█████████████████████████████████████████████████████████████████████████████████████████████████████████████████████████████████████████████████▉| 1439.6000000000813/1440 [00:36<00:00, 39.75it/s]\n",
      "2020-08-21 15:46:58.102 | INFO     | vimms.SequenceManager:run_controller:195 - Completed experiment: sample2\n",
      "2020-08-21 15:46:58.104 | INFO     | vimms.SequenceManager:run_evaluation:205 - Started Evaluation: sample2\n",
      "2020-08-21 15:46:58.104 | INFO     | vimms.SequenceManager:run_evaluation:207 - Completed Evaluation: sample2\n",
      "2020-08-21 15:46:58.105 | INFO     | vimms.SequenceManager:run_serial:249 - Finished 1\n"
     ]
    },
    {
     "name": "stdout",
     "output_type": "stream",
     "text": [
      "False\n"
     ]
    }
   ],
   "source": [
    "vsm = VimmsSequenceManager(controller_schedule, evaluation_methods, output_dir, ms1_picked_peaks_file=None, progress_bar=True, mzmine_command=mzmine_command)\n",
    "experiment = BasicExperiment(vsm, parallel=parallel)"
   ]
  },
  {
   "cell_type": "code",
   "execution_count": 25,
   "metadata": {},
   "outputs": [
    {
     "data": {
      "text/html": [
       "<div>\n",
       "<style scoped>\n",
       "    .dataframe tbody tr th:only-of-type {\n",
       "        vertical-align: middle;\n",
       "    }\n",
       "\n",
       "    .dataframe tbody tr th {\n",
       "        vertical-align: top;\n",
       "    }\n",
       "\n",
       "    .dataframe thead th {\n",
       "        text-align: right;\n",
       "    }\n",
       "</style>\n",
       "<table border=\"1\" class=\"dataframe\">\n",
       "  <thead>\n",
       "    <tr style=\"text-align: right;\">\n",
       "      <th></th>\n",
       "      <th>Sample ID</th>\n",
       "      <th>Controller Method</th>\n",
       "      <th>N</th>\n",
       "      <th>mz_tol</th>\n",
       "      <th>rt_tol</th>\n",
       "      <th>min_ms1_intensity</th>\n",
       "      <th>ms1_shift</th>\n",
       "      <th>ms1_agc_target</th>\n",
       "      <th>ms1_max_it</th>\n",
       "      <th>ms1_collision_energy</th>\n",
       "      <th>...</th>\n",
       "      <th>ms1_activation_type</th>\n",
       "      <th>ms1_mass_analyser</th>\n",
       "      <th>ms1_isolation_mode</th>\n",
       "      <th>ms2_agc_target</th>\n",
       "      <th>ms2_max_it</th>\n",
       "      <th>ms2_collision_energy</th>\n",
       "      <th>ms2_orbitrap_resolution</th>\n",
       "      <th>ms2_activation_type</th>\n",
       "      <th>ms2_mass_analyser</th>\n",
       "      <th>ms2_isolation_mode</th>\n",
       "    </tr>\n",
       "  </thead>\n",
       "  <tbody>\n",
       "    <tr>\n",
       "      <th>0</th>\n",
       "      <td>sample1</td>\n",
       "      <td>TopNController</td>\n",
       "      <td>10</td>\n",
       "      <td>10</td>\n",
       "      <td>30</td>\n",
       "      <td>175000.0</td>\n",
       "      <td>0</td>\n",
       "      <td>200000</td>\n",
       "      <td>250</td>\n",
       "      <td>0</td>\n",
       "      <td>...</td>\n",
       "      <td>HCD</td>\n",
       "      <td>Orbitrap</td>\n",
       "      <td>Quadupole</td>\n",
       "      <td>30000</td>\n",
       "      <td>100</td>\n",
       "      <td>25</td>\n",
       "      <td>7500</td>\n",
       "      <td>HCD</td>\n",
       "      <td>Orbitrap</td>\n",
       "      <td>Quadupole</td>\n",
       "    </tr>\n",
       "    <tr>\n",
       "      <th>1</th>\n",
       "      <td>sample2</td>\n",
       "      <td>TopNController</td>\n",
       "      <td>10</td>\n",
       "      <td>10</td>\n",
       "      <td>30</td>\n",
       "      <td>175000.0</td>\n",
       "      <td>0</td>\n",
       "      <td>200000</td>\n",
       "      <td>250</td>\n",
       "      <td>0</td>\n",
       "      <td>...</td>\n",
       "      <td>HCD</td>\n",
       "      <td>Orbitrap</td>\n",
       "      <td>Quadupole</td>\n",
       "      <td>30000</td>\n",
       "      <td>100</td>\n",
       "      <td>25</td>\n",
       "      <td>7500</td>\n",
       "      <td>HCD</td>\n",
       "      <td>Orbitrap</td>\n",
       "      <td>Quadupole</td>\n",
       "    </tr>\n",
       "  </tbody>\n",
       "</table>\n",
       "<p>2 rows × 21 columns</p>\n",
       "</div>"
      ],
      "text/plain": [
       "  Sample ID Controller Method   N  mz_tol  rt_tol  min_ms1_intensity  \\\n",
       "0   sample1    TopNController  10      10      30           175000.0   \n",
       "1   sample2    TopNController  10      10      30           175000.0   \n",
       "\n",
       "   ms1_shift  ms1_agc_target  ms1_max_it  ms1_collision_energy  ...  \\\n",
       "0          0          200000         250                     0  ...   \n",
       "1          0          200000         250                     0  ...   \n",
       "\n",
       "   ms1_activation_type ms1_mass_analyser ms1_isolation_mode ms2_agc_target  \\\n",
       "0                  HCD          Orbitrap          Quadupole          30000   \n",
       "1                  HCD          Orbitrap          Quadupole          30000   \n",
       "\n",
       "   ms2_max_it  ms2_collision_energy  ms2_orbitrap_resolution  \\\n",
       "0         100                    25                     7500   \n",
       "1         100                    25                     7500   \n",
       "\n",
       "   ms2_activation_type ms2_mass_analyser ms2_isolation_mode  \n",
       "0                  HCD          Orbitrap          Quadupole  \n",
       "1                  HCD          Orbitrap          Quadupole  \n",
       "\n",
       "[2 rows x 21 columns]"
      ]
     },
     "execution_count": 25,
     "metadata": {},
     "output_type": "execute_result"
    }
   ],
   "source": [
    "experiment.results"
   ]
  },
  {
   "cell_type": "markdown",
   "metadata": {},
   "source": [
    "### Example 2 - Seed with mzml"
   ]
  },
  {
   "cell_type": "code",
   "execution_count": null,
   "metadata": {},
   "outputs": [],
   "source": [
    "output_dir = os.path.join(experiment_dir, 'sequence_manager_example_2')"
   ]
  },
  {
   "cell_type": "code",
   "execution_count": null,
   "metadata": {},
   "outputs": [],
   "source": [
    "parallel = False"
   ]
  },
  {
   "cell_type": "code",
   "execution_count": null,
   "metadata": {},
   "outputs": [],
   "source": [
    "vsm = VimmsSequenceManager(controller_schedule2, evaluation_methods, output_dir, ms1_picked_peaks_file=None, progress_bar=True, mzmine_command=mzmine_command)\n",
    "experiment = BasicExperiment(vsm, parallel=parallel, mzml_file_list=mzml_file_list, MZML2CHEMS_DICT=MZML2CHEMS_DICT, ps=ps)"
   ]
  }
 ],
 "metadata": {
  "kernelspec": {
   "display_name": "Python 3",
   "language": "python",
   "name": "python3"
  },
  "language_info": {
   "codemirror_mode": {
    "name": "ipython",
    "version": 3
   },
   "file_extension": ".py",
   "mimetype": "text/x-python",
   "name": "python",
   "nbconvert_exporter": "python",
   "pygments_lexer": "ipython3",
   "version": "3.7.3"
  }
 },
 "nbformat": 4,
 "nbformat_minor": 4
}
