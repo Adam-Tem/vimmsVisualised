{
 "cells": [
  {
   "cell_type": "markdown",
   "metadata": {},
   "source": [
    "# 2. Top N"
   ]
  },
  {
   "cell_type": "markdown",
   "metadata": {},
   "source": [
    "This notebook shows how to run the Top-N DDA method on a ViMMS dataset"
   ]
  },
  {
   "cell_type": "code",
   "execution_count": 1,
   "metadata": {},
   "outputs": [],
   "source": [
    "%matplotlib inline"
   ]
  },
  {
   "cell_type": "code",
   "execution_count": 2,
   "metadata": {},
   "outputs": [],
   "source": [
    "%load_ext autoreload\n",
    "%autoreload 2"
   ]
  },
  {
   "cell_type": "code",
   "execution_count": 3,
   "metadata": {},
   "outputs": [],
   "source": [
    "import sys\n",
    "sys.path.append('../..')"
   ]
  },
  {
   "cell_type": "code",
   "execution_count": 4,
   "metadata": {},
   "outputs": [],
   "source": [
    "from pathlib import Path"
   ]
  },
  {
   "cell_type": "code",
   "execution_count": 5,
   "metadata": {},
   "outputs": [],
   "source": [
    "from vimms.MassSpec import IndependentMassSpectrometer\n",
    "from vimms.Controller import TopNController\n",
    "from vimms.Environment import Environment\n",
    "from vimms.Common import *"
   ]
  },
  {
   "cell_type": "markdown",
   "metadata": {},
   "source": [
    "### Load the data"
   ]
  },
  {
   "cell_type": "code",
   "execution_count": 6,
   "metadata": {},
   "outputs": [],
   "source": [
    "data_dir = os.path.abspath(os.path.join(os.getcwd(),'..','..','tests','fixtures'))\n",
    "dataset = load_obj(os.path.join(data_dir, 'QCB_22May19_1.p'))"
   ]
  },
  {
   "cell_type": "markdown",
   "metadata": {},
   "source": [
    "### Run Top N Controller"
   ]
  },
  {
   "cell_type": "code",
   "execution_count": 7,
   "metadata": {},
   "outputs": [],
   "source": [
    "rt_range = [(0, 1440)]\n",
    "min_rt = rt_range[0][0]\n",
    "max_rt = rt_range[0][1]"
   ]
  },
  {
   "cell_type": "code",
   "execution_count": 8,
   "metadata": {},
   "outputs": [],
   "source": [
    "isolation_window = 1\n",
    "N = 3\n",
    "rt_tol = 15\n",
    "mz_tol = 10\n",
    "min_ms1_intensity = 1.75E5"
   ]
  },
  {
   "cell_type": "code",
   "execution_count": 9,
   "metadata": {},
   "outputs": [],
   "source": [
    "mass_spec = IndependentMassSpectrometer(POSITIVE, dataset)\n",
    "controller = TopNController(POSITIVE, N, isolation_window, mz_tol, rt_tol, min_ms1_intensity)"
   ]
  },
  {
   "cell_type": "code",
   "execution_count": 10,
   "metadata": {},
   "outputs": [
    {
     "name": "stderr",
     "output_type": "stream",
     "text": [
      "(1440.200s) ms_level=1: 100%|████████████████████████████████████████████████████████████████████████████████████████████████████████████████████████▉| 1439.8000000000932/1440 [00:21<00:00, 66.25it/s]\n"
     ]
    }
   ],
   "source": [
    "# create an environment to run both the mass spec and controller\n",
    "env = Environment(mass_spec, controller, min_rt, max_rt, progress_bar=True)\n",
    "\n",
    "# set the log level to WARNING so we don't see too many messages when environment is running\n",
    "set_log_level_warning()\n",
    "\n",
    "# run the simulation\n",
    "env.run()"
   ]
  },
  {
   "cell_type": "markdown",
   "metadata": {},
   "source": [
    "Simulated results are saved to the following .mzML file and can be viewed in tools like ToppView or using other mzML file viewers."
   ]
  },
  {
   "cell_type": "code",
   "execution_count": 11,
   "metadata": {},
   "outputs": [
    {
     "name": "stderr",
     "output_type": "stream",
     "text": [
      "2021-08-30 14:56:37.016 | DEBUG    | vimms.Environment:write_mzML:149 - Writing mzML file to C:\\Users\\joewa\\Work\\git\\vimms\\demo\\02. Methods\\results\\topn_controller.mzML\n",
      "2021-08-30 14:56:45.588 | DEBUG    | vimms.Environment:write_mzML:152 - mzML file successfully written!\n"
     ]
    }
   ],
   "source": [
    "set_log_level_debug()\n",
    "mzml_filename = 'topn_controller.mzML'\n",
    "out_dir = os.path.join(os.getcwd(), 'results')\n",
    "env.write_mzML(out_dir, mzml_filename)"
   ]
  },
  {
   "cell_type": "markdown",
   "metadata": {},
   "source": [
    "The generated simulated scan results can also be plotted for visualisation."
   ]
  },
  {
   "cell_type": "markdown",
   "metadata": {},
   "source": [
    "Here are the first 10 MS1 scans"
   ]
  },
  {
   "cell_type": "code",
   "execution_count": 12,
   "metadata": {},
   "outputs": [
    {
     "data": {
      "text/plain": [
       "[Scan 100000 num_peaks=0 rt=0.00 ms_level=1,\n",
       " Scan 100001 num_peaks=16 rt=0.40 ms_level=1,\n",
       " Scan 100003 num_peaks=16 rt=1.00 ms_level=1,\n",
       " Scan 100004 num_peaks=16 rt=1.40 ms_level=1,\n",
       " Scan 100005 num_peaks=16 rt=1.80 ms_level=1,\n",
       " Scan 100006 num_peaks=16 rt=2.20 ms_level=1,\n",
       " Scan 100007 num_peaks=16 rt=2.60 ms_level=1,\n",
       " Scan 100008 num_peaks=16 rt=3.00 ms_level=1,\n",
       " Scan 100009 num_peaks=16 rt=3.40 ms_level=1,\n",
       " Scan 100010 num_peaks=16 rt=3.80 ms_level=1]"
      ]
     },
     "execution_count": 12,
     "metadata": {},
     "output_type": "execute_result"
    }
   ],
   "source": [
    "env.controller.scans[1][:10]"
   ]
  },
  {
   "cell_type": "markdown",
   "metadata": {},
   "source": [
    "Retrieve the second scan having num_peaks > 0, and plot it."
   ]
  },
  {
   "cell_type": "code",
   "execution_count": 17,
   "metadata": {},
   "outputs": [
    {
     "data": {
      "image/png": "[encoded data removed]",
      "text/plain": [
       "<Figure size 432x288 with 1 Axes>"
      ]
     },
     "metadata": {
      "needs_background": "light"
     },
     "output_type": "display_data"
    }
   ],
   "source": [
    "sc = env.controller.scans[1][2]\n",
    "env.plot_scan(sc)"
   ]
  }
 ],
 "metadata": {
  "kernelspec": {
   "display_name": "Python 3 (ipykernel)",
   "language": "python",
   "name": "python3"
  },
  "language_info": {
   "codemirror_mode": {
    "name": "ipython",
    "version": 3
   },
   "file_extension": ".py",
   "mimetype": "text/x-python",
   "name": "python",
   "nbconvert_exporter": "python",
   "pygments_lexer": "ipython3",
   "version": "3.7.8"
  }
 },
 "nbformat": 4,
 "nbformat_minor": 4
}
