{
 "cells": [
  {
   "cell_type": "markdown",
   "metadata": {},
   "source": [
    "# 3. DIA"
   ]
  },
  {
   "cell_type": "markdown",
   "metadata": {},
   "source": [
    "This notebook shows how to run a variety of Data Independent Acquisition (DIA) methods using ViMMS"
   ]
  },
  {
   "cell_type": "code",
   "execution_count": 1,
   "metadata": {},
   "outputs": [],
   "source": [
    "%matplotlib inline"
   ]
  },
  {
   "cell_type": "code",
   "execution_count": 2,
   "metadata": {},
   "outputs": [],
   "source": [
    "%load_ext autoreload\n",
    "%autoreload 2"
   ]
  },
  {
   "cell_type": "code",
   "execution_count": 3,
   "metadata": {},
   "outputs": [],
   "source": [
    "import sys\n",
    "sys.path.append('../..')"
   ]
  },
  {
   "cell_type": "code",
   "execution_count": 4,
   "metadata": {},
   "outputs": [],
   "source": [
    "from pathlib import Path"
   ]
  },
  {
   "cell_type": "code",
   "execution_count": 5,
   "metadata": {},
   "outputs": [],
   "source": [
    "from vimms.MassSpec import IndependentMassSpectrometer\n",
    "from vimms.Controller import AIF, SWATH, DiaController\n",
    "from vimms.Environment import Environment\n",
    "from vimms.Common import *"
   ]
  },
  {
   "cell_type": "markdown",
   "metadata": {},
   "source": [
    "### Load the data"
   ]
  },
  {
   "cell_type": "code",
   "execution_count": 6,
   "metadata": {},
   "outputs": [],
   "source": [
    "data_dir = os.path.abspath(os.path.join(os.getcwd(),'..','..','tests','fixtures'))\n",
    "dataset = load_obj(os.path.join(data_dir, 'QCB_22May19_1.p'))\n",
    "ps = load_obj(Path(data_dir,'peak_sampler_mz_rt_int_beerqcb_fragmentation.p'))"
   ]
  },
  {
   "cell_type": "markdown",
   "metadata": {},
   "source": [
    "### AIF"
   ]
  },
  {
   "cell_type": "markdown",
   "metadata": {},
   "source": [
    "This example shows how to run an All-Ion Fragmentation (AIF) DIA method on ViMMS. The controller sends an MS1 scan followed by a fragmentation scan which covers the full m/z range."
   ]
  },
  {
   "cell_type": "code",
   "execution_count": 7,
   "metadata": {},
   "outputs": [],
   "source": [
    "isolation_width = 1\n",
    "N = 10\n",
    "rt_tol = 15\n",
    "mz_tol = 10\n",
    "ionisation_mode = POSITIVE\n",
    "\n",
    "min_mz = 70\n",
    "max_mz = 1000\n",
    "\n",
    "min_rt = 0\n",
    "max_rt = 400\n",
    "\n",
    "scan_time_dict = {1: 0.12, 2: 0.06}"
   ]
  },
  {
   "cell_type": "code",
   "execution_count": 8,
   "metadata": {},
   "outputs": [],
   "source": [
    "mass_spec = IndependentMassSpectrometer(ionisation_mode, dataset, ps, scan_duration_dict=scan_time_dict)\n",
    "controller = AIF(min_mz, max_mz)"
   ]
  },
  {
   "cell_type": "code",
   "execution_count": 9,
   "metadata": {},
   "outputs": [
    {
     "name": "stderr",
     "output_type": "stream",
     "text": [
      "(400.080s) ms_level=1: 100%|████████████████████████████████████████████████████████████████████████████████████████████████████████████████████████████████████████████████████████████████▉| 399.9600000000121/400 [00:56<00:00,  7.09it/s]\n"
     ]
    }
   ],
   "source": [
    "# create an environment to run both the mass spec and controller\n",
    "env = Environment(mass_spec, controller, min_rt, max_rt, progress_bar=True)\n",
    "\n",
    "# set the log level to WARNING so we don't see too many messages when environment is running\n",
    "set_log_level_warning()\n",
    "\n",
    "# run the simulation\n",
    "env.run()"
   ]
  },
  {
   "cell_type": "markdown",
   "metadata": {},
   "source": [
    "Simulated results are saved to the following .mzML file and can be viewed in tools like ToppView or using other mzML file viewers."
   ]
  },
  {
   "cell_type": "code",
   "execution_count": 10,
   "metadata": {
    "scrolled": true
   },
   "outputs": [
    {
     "name": "stderr",
     "output_type": "stream",
     "text": [
      "2020-09-03 11:05:40.799 | DEBUG    | vimms.Environment:write_mzML:161 - Writing mzML file to C:\\Users\\Vinny\\work\\vimms\\demo\\02. Methods\\results\\aif_controller.mzML\n",
      "2020-09-03 11:08:35.693 | DEBUG    | vimms.Environment:write_mzML:164 - mzML file successfully written!\n"
     ]
    }
   ],
   "source": [
    "set_log_level_debug()\n",
    "mzml_filename = 'aif_controller.mzML'\n",
    "out_dir = os.path.join(os.getcwd(), 'results')\n",
    "env.write_mzML(out_dir, mzml_filename)"
   ]
  },
  {
   "cell_type": "markdown",
   "metadata": {},
   "source": [
    "### SWATH"
   ]
  },
  {
   "cell_type": "markdown",
   "metadata": {},
   "source": [
    "This example shows how to run the SWATH-style method on ViMMS. The controller send an MS1 scan followed by a series of fragmentation scans which cover the full m/z range."
   ]
  },
  {
   "cell_type": "code",
   "execution_count": 11,
   "metadata": {},
   "outputs": [],
   "source": [
    "min_mz = 100\n",
    "max_mz = 1000\n",
    "width = 100\n",
    "scan_overlap = 10\n",
    "\n",
    "ionisation_mode = POSITIVE\n",
    "\n",
    "scan_time_dict = {1: 0.124, 2: 0.124}"
   ]
  },
  {
   "cell_type": "code",
   "execution_count": 12,
   "metadata": {},
   "outputs": [],
   "source": [
    "mass_spec = IndependentMassSpectrometer(ionisation_mode, dataset, ps, scan_duration_dict=scan_time_dict)\n",
    "controller = SWATH(min_mz, max_mz, width, scan_overlap=scan_overlap)"
   ]
  },
  {
   "cell_type": "code",
   "execution_count": 13,
   "metadata": {
    "scrolled": true
   },
   "outputs": [
    {
     "name": "stderr",
     "output_type": "stream",
     "text": [
      "(400.024s) ms_level=2: 100%|███████████████████████████████████████████████████████████████████████████████████████████████████████████████████████████████████████████████████████████████▉| 399.90000000002055/400 [00:19<00:00, 20.96it/s]\n"
     ]
    }
   ],
   "source": [
    "# create an environment to run both the mass spec and controller\n",
    "env = Environment(mass_spec, controller, min_rt, max_rt, progress_bar=True)\n",
    "\n",
    "# set the log level to WARNING so we don't see too many messages when environment is running\n",
    "set_log_level_warning()\n",
    "\n",
    "# run the simulation\n",
    "env.run()"
   ]
  },
  {
   "cell_type": "markdown",
   "metadata": {},
   "source": [
    "Simulated results are saved to the following .mzML file and can be viewed in tools like ToppView or using other mzML file viewers."
   ]
  },
  {
   "cell_type": "code",
   "execution_count": 14,
   "metadata": {
    "scrolled": true
   },
   "outputs": [
    {
     "name": "stderr",
     "output_type": "stream",
     "text": [
      "2020-09-03 11:08:55.129 | DEBUG    | vimms.Environment:write_mzML:161 - Writing mzML file to C:\\Users\\Vinny\\work\\vimms\\demo\\02. Methods\\results\\swath_controller.mzML\n",
      "c:\\users\\vinny\\.virtualenvs\\vimms-rr-f0yt0\\lib\\site-packages\\psims\\document.py:393: ReferentialIntegrityWarning: No reference was found for 100000 in Spectrum\n",
      "  result = super(CallbackBindingPartial, self).__call__(*args, **kwargs)\n",
      "2020-09-03 11:08:59.675 | DEBUG    | vimms.Environment:write_mzML:164 - mzML file successfully written!\n"
     ]
    }
   ],
   "source": [
    "set_log_level_debug()\n",
    "mzml_filename = 'swath_controller.mzML'\n",
    "out_dir = os.path.join(os.getcwd(), 'results')\n",
    "env.write_mzML(out_dir, mzml_filename)"
   ]
  },
  {
   "cell_type": "markdown",
   "metadata": {},
   "source": [
    "### Nested DIA"
   ]
  },
  {
   "cell_type": "markdown",
   "metadata": {},
   "source": [
    "This example shows how to run a nested DIA method on ViMMS. This method comes from the following paper: Kaufmann A, Walker S. Nested data independent MS/MS acquisition. *Anal Bioanal Chem*. 2016;408(18):5031-5040. doi:10.1007/s00216-016-9607-8"
   ]
  },
  {
   "cell_type": "code",
   "execution_count": 22,
   "metadata": {},
   "outputs": [],
   "source": [
    "window_type = 'even' # 'percentile'\n",
    "kaufmann_design = 'nested'\n",
    "num_windows=64 # this gets defaulted to this value regardless for this method\n",
    "scan_overlap=0 # currently fixed at 0 regarless of this setting\n",
    "\n",
    "ionisation_mode = POSITIVE\n",
    "scan_time_dict = {1: 0.12, 2: 0.06}\n",
    "\n",
    "min_rt = 0\n",
    "max_rt = 400\n",
    "\n",
    "min_mz = 100\n",
    "max_mz = 1000"
   ]
  },
  {
   "cell_type": "code",
   "execution_count": 23,
   "metadata": {},
   "outputs": [],
   "source": [
    "mass_spec = IndependentMassSpectrometer(ionisation_mode, dataset, ps, scan_duration_dict=scan_time_dict)\n",
    "controller = DiaController(min_mz, max_mz, window_type, kaufmann_design, num_windows, scan_overlap=scan_overlap)"
   ]
  },
  {
   "cell_type": "code",
   "execution_count": 25,
   "metadata": {},
   "outputs": [
    {
     "name": "stderr",
     "output_type": "stream",
     "text": [
      "(400.020s) ms_level=2: 100%|████████████████████████████████████████████████████████████████████████████████████████████████████████████████████████████████████████████████████████████████▉| 399.9600000000134/400 [01:06<00:00,  6.01it/s]\n"
     ]
    }
   ],
   "source": [
    "# create an environment to run both the mass spec and controller\n",
    "env = Environment(mass_spec, controller, min_rt, max_rt, progress_bar=True)\n",
    "\n",
    "# set the log level to WARNING so we don't see too many messages when environment is running\n",
    "set_log_level_warning()\n",
    "\n",
    "# run the simulation\n",
    "env.run()"
   ]
  },
  {
   "cell_type": "markdown",
   "metadata": {},
   "source": [
    "Simulated results are saved to the following .mzML file and can be viewed in tools like ToppView or using other mzML file viewers."
   ]
  },
  {
   "cell_type": "code",
   "execution_count": 26,
   "metadata": {
    "scrolled": true
   },
   "outputs": [
    {
     "name": "stderr",
     "output_type": "stream",
     "text": [
      "2020-09-03 11:47:11.427 | DEBUG    | vimms.Environment:write_mzML:161 - Writing mzML file to C:\\Users\\Vinny\\work\\vimms\\demo\\02. Methods\\results\\nest_dia_controller.mzML\n",
      "2020-09-03 11:47:28.137 | DEBUG    | vimms.Environment:write_mzML:164 - mzML file successfully written!\n"
     ]
    }
   ],
   "source": [
    "set_log_level_debug()\n",
    "mzml_filename = 'nest_dia_controller.mzML'\n",
    "out_dir = os.path.join(os.getcwd(), 'results')\n",
    "env.write_mzML(out_dir, mzml_filename)"
   ]
  },
  {
   "cell_type": "markdown",
   "metadata": {},
   "source": [
    "### Tree DIA"
   ]
  },
  {
   "cell_type": "markdown",
   "metadata": {},
   "source": [
    "This example shows how to run a tree DIA method on ViMMS. This method comes from the following paper: Kaufmann A, Walker S. Nested data independent MS/MS acquisition. *Anal Bioanal Chem*. 2016;408(18):5031-5040. doi:10.1007/s00216-016-9607-8"
   ]
  },
  {
   "cell_type": "code",
   "execution_count": 27,
   "metadata": {},
   "outputs": [],
   "source": [
    "window_type = 'even' # 'percentile'\n",
    "kaufmann_design = 'tree'\n",
    "num_windows=64 # this gets defaulted to this value regardless for this method\n",
    "scan_overlap=0 # currently fixed at 0 regarless of this setting\n",
    "\n",
    "ionisation_mode = POSITIVE\n",
    "scan_time_dict = {1: 0.12, 2: 0.06}\n",
    "\n",
    "min_rt = 0\n",
    "max_rt = 400\n",
    "\n",
    "min_mz = 100\n",
    "max_mz = 1000"
   ]
  },
  {
   "cell_type": "code",
   "execution_count": 28,
   "metadata": {},
   "outputs": [],
   "source": [
    "mass_spec = IndependentMassSpectrometer(ionisation_mode, dataset, ps, scan_duration_dict=scan_time_dict)\n",
    "controller = DiaController(min_mz, max_mz, window_type, kaufmann_design, num_windows, scan_overlap=scan_overlap)"
   ]
  },
  {
   "cell_type": "code",
   "execution_count": 29,
   "metadata": {},
   "outputs": [
    {
     "name": "stderr",
     "output_type": "stream",
     "text": [
      "(400.020s) ms_level=2: 100%|████████████████████████████████████████████████████████████████████████████████████████████████████████████████████████████████████████████████████████████████▉| 399.9600000000133/400 [01:33<00:00,  4.26it/s]\n"
     ]
    }
   ],
   "source": [
    "# create an environment to run both the mass spec and controller\n",
    "env = Environment(mass_spec, controller, min_rt, max_rt, progress_bar=True)\n",
    "\n",
    "# set the log level to WARNING so we don't see too many messages when environment is running\n",
    "set_log_level_warning()\n",
    "\n",
    "# run the simulation\n",
    "env.run()"
   ]
  },
  {
   "cell_type": "markdown",
   "metadata": {},
   "source": [
    "Simulated results are saved to the following .mzML file and can be viewed in tools like ToppView or using other mzML file viewers."
   ]
  },
  {
   "cell_type": "code",
   "execution_count": 30,
   "metadata": {
    "scrolled": true
   },
   "outputs": [
    {
     "name": "stderr",
     "output_type": "stream",
     "text": [
      "2020-09-03 11:49:39.475 | DEBUG    | vimms.Environment:write_mzML:161 - Writing mzML file to C:\\Users\\Vinny\\work\\vimms\\demo\\02. Methods\\results\\tree_dia_controller.mzML\n",
      "2020-09-03 11:50:04.855 | DEBUG    | vimms.Environment:write_mzML:164 - mzML file successfully written!\n"
     ]
    }
   ],
   "source": [
    "set_log_level_debug()\n",
    "mzml_filename = 'tree_dia_controller.mzML'\n",
    "out_dir = os.path.join(os.getcwd(), 'results')\n",
    "env.write_mzML(out_dir, mzml_filename)"
   ]
  }
 ],
 "metadata": {
  "kernelspec": {
   "display_name": "Python 3",
   "language": "python",
   "name": "python3"
  },
  "language_info": {
   "codemirror_mode": {
    "name": "ipython",
    "version": 3
   },
   "file_extension": ".py",
   "mimetype": "text/x-python",
   "name": "python",
   "nbconvert_exporter": "python",
   "pygments_lexer": "ipython3",
   "version": "3.7.3"
  }
 },
 "nbformat": 4,
 "nbformat_minor": 4
}
