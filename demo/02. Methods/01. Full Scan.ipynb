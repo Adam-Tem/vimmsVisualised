{
 "cells": [
  {
   "cell_type": "markdown",
   "metadata": {},
   "source": [
    "# 1. Full Scan"
   ]
  },
  {
   "cell_type": "markdown",
   "metadata": {},
   "source": [
    "This notebook shows how to run the full scan method on a ViMMS dataset"
   ]
  },
  {
   "cell_type": "code",
   "execution_count": 1,
   "metadata": {},
   "outputs": [],
   "source": [
    "%matplotlib inline"
   ]
  },
  {
   "cell_type": "code",
   "execution_count": 2,
   "metadata": {},
   "outputs": [],
   "source": [
    "%load_ext autoreload\n",
    "%autoreload 2"
   ]
  },
  {
   "cell_type": "code",
   "execution_count": 3,
   "metadata": {},
   "outputs": [],
   "source": [
    "import sys\n",
    "sys.path.append('../..')"
   ]
  },
  {
   "cell_type": "code",
   "execution_count": 4,
   "metadata": {},
   "outputs": [],
   "source": [
    "from pathlib import Path"
   ]
  },
  {
   "cell_type": "code",
   "execution_count": 5,
   "metadata": {},
   "outputs": [],
   "source": [
    "from vimms.Chemicals import ChemicalCreator\n",
    "from vimms.MassSpec import IndependentMassSpectrometer\n",
    "from vimms.Controller import SimpleMs1Controller\n",
    "from vimms.Environment import Environment\n",
    "from vimms.Common import *"
   ]
  },
  {
   "cell_type": "markdown",
   "metadata": {},
   "source": [
    "### Load the data"
   ]
  },
  {
   "cell_type": "code",
   "execution_count": 6,
   "metadata": {},
   "outputs": [],
   "source": [
    "data_dir =  os.path.join(os.path.abspath(os.path.join(os.getcwd(),\"..\")),'01. Data','example_data')\n",
    "dataset = load_obj(os.path.join(data_dir, 'beers', 'datasets', 'beer_1.p'))\n",
    "ps = load_obj(os.path.join(data_dir, 'peak_sampler_mz_rt_int_19_beers_fragmentation.p'))"
   ]
  },
  {
   "cell_type": "markdown",
   "metadata": {},
   "source": [
    "### Run Controller"
   ]
  },
  {
   "cell_type": "code",
   "execution_count": 7,
   "metadata": {},
   "outputs": [],
   "source": [
    "rt_range = [(0, 1440)]\n",
    "min_rt = rt_range[0][0]\n",
    "max_rt = rt_range[0][1]"
   ]
  },
  {
   "cell_type": "code",
   "execution_count": 8,
   "metadata": {},
   "outputs": [],
   "source": [
    "mass_spec = IndependentMassSpectrometer(POSITIVE, dataset, ps)\n",
    "controller = SimpleMs1Controller()"
   ]
  },
  {
   "cell_type": "code",
   "execution_count": 9,
   "metadata": {},
   "outputs": [
    {
     "name": "stderr",
     "output_type": "stream",
     "text": [
      "(1440.128s) ms_level=1: 100%|█████████████████████████████████████████████████████████████████████████████████████████████████████████████████████████████████████████████████████████████▉| 1439.8075199999957/1440 [01:43<00:00, 13.87it/s]\n"
     ]
    }
   ],
   "source": [
    "# create an environment to run both the mass spec and controller\n",
    "env = Environment(mass_spec, controller, min_rt, max_rt, progress_bar=True)\n",
    "\n",
    "# set the log level to WARNING so we don't see too many messages when environment is running\n",
    "set_log_level_warning()\n",
    "\n",
    "# run the simulation\n",
    "env.run()"
   ]
  },
  {
   "cell_type": "markdown",
   "metadata": {},
   "source": [
    "Simulated results are saved to the following .mzML file and can be viewed in tools like ToppView or using other mzML file viewers."
   ]
  },
  {
   "cell_type": "code",
   "execution_count": 10,
   "metadata": {},
   "outputs": [
    {
     "name": "stderr",
     "output_type": "stream",
     "text": [
      "2020-07-17 16:36:37.133 | DEBUG    | vimms.Environment:write_mzML:161 - Writing mzML file to C:\\Users\\Vinny\\work\\vimms\\demo\\02. Methods\\results\\ms1_controller.mzML\n",
      "2020-07-17 16:36:37.135 | INFO     | vimms.Common:create_if_not_exist:48 - Created C:\\Users\\Vinny\\work\\vimms\\demo\\02. Methods\\results\n",
      "2020-07-17 16:39:34.581 | DEBUG    | vimms.Environment:write_mzML:168 - mzML file successfully written!\n"
     ]
    }
   ],
   "source": [
    "set_log_level_debug()\n",
    "mzml_filename = 'ms1_controller.mzML'\n",
    "out_dir = os.path.join(os.getcwd(), 'results')\n",
    "env.write_mzML(out_dir, mzml_filename)"
   ]
  }
 ],
 "metadata": {
  "kernelspec": {
   "display_name": "Python 3",
   "language": "python",
   "name": "python3"
  },
  "language_info": {
   "codemirror_mode": {
    "name": "ipython",
    "version": 3
   },
   "file_extension": ".py",
   "mimetype": "text/x-python",
   "name": "python",
   "nbconvert_exporter": "python",
   "pygments_lexer": "ipython3",
   "version": "3.7.3"
  }
 },
 "nbformat": 4,
 "nbformat_minor": 4
}
