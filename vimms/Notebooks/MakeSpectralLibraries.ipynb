{
 "cells": [
  {
   "cell_type": "markdown",
   "metadata": {},
   "source": [
    "# Make spectral libraries"
   ]
  },
  {
   "cell_type": "code",
   "execution_count": 1,
   "metadata": {},
   "outputs": [],
   "source": [
    "import sys, os\n",
    "sys.path.append('/Users/simon/git/vimms')\n",
    "sys.path.insert(0,'/Users/simon/git/mass-spec-utils/')\n",
    "from vimms.Common import save_obj\n",
    "from tqdm import tqdm"
   ]
  },
  {
   "cell_type": "code",
   "execution_count": 2,
   "metadata": {},
   "outputs": [],
   "source": [
    "%load_ext autoreload\n",
    "%autoreload 2"
   ]
  },
  {
   "cell_type": "code",
   "execution_count": 3,
   "metadata": {},
   "outputs": [],
   "source": [
    "library_cache = '/Users/simon/clms_er/library_cache'"
   ]
  },
  {
   "cell_type": "markdown",
   "metadata": {},
   "source": [
    "## Massbank"
   ]
  },
  {
   "cell_type": "code",
   "execution_count": 8,
   "metadata": {},
   "outputs": [],
   "source": [
    "from mass_spec_utils.library_matching.spec_libraries import MassBankLibrary"
   ]
  },
  {
   "cell_type": "markdown",
   "metadata": {},
   "source": [
    "Path to the local version of the massbank repo"
   ]
  },
  {
   "cell_type": "code",
   "execution_count": 5,
   "metadata": {},
   "outputs": [],
   "source": [
    "massbank_data_path = '/Users/simon/git/MassBank-Data/' # final slash is important!"
   ]
  },
  {
   "cell_type": "code",
   "execution_count": null,
   "metadata": {
    "scrolled": true
   },
   "outputs": [],
   "source": [
    "mb = MassBankLibrary(mb_dir=massbank_data_path, polarity='POSITIVE')"
   ]
  },
  {
   "cell_type": "code",
   "execution_count": null,
   "metadata": {},
   "outputs": [],
   "source": [
    "save_obj(mb, os.path.join(library_cache, 'massbank_pos.p'))"
   ]
  },
  {
   "cell_type": "code",
   "execution_count": 6,
   "metadata": {},
   "outputs": [
    {
     "name": "stdout",
     "output_type": "stream",
     "text": [
      "Loading records from  /Users/simon/git/MassBank-Data/Athens_Univ/\n",
      "\t Loaded 5252 new records\n",
      "Loading records from  /Users/simon/git/MassBank-Data/MetaboLights/\n",
      "\t Loaded 58 new records\n",
      "Loading records from  /Users/simon/git/MassBank-Data/MPI_for_Chemical_Ecology/\n",
      "\t Loaded 691 new records\n",
      "Loading records from  /Users/simon/git/MassBank-Data/JEOL_Ltd/\n",
      "\t Loaded 45 new records\n",
      "Loading records from  /Users/simon/git/MassBank-Data/GL_Sciences_Inc/\n",
      "\t Loaded 174 new records\n",
      "Loading records from  /Users/simon/git/MassBank-Data/Env_Anal_Chem_U_Tuebingen/\n",
      "\t Loaded 128 new records\n",
      "Loading records from  /Users/simon/git/MassBank-Data/RIKEN_ReSpect/\n",
      "\t Loaded 4642 new records\n",
      "Loading records from  /Users/simon/git/MassBank-Data/Boise_State_Univ/\n",
      "\t Loaded 4 new records\n",
      "Loading records from  /Users/simon/git/MassBank-Data/LCSB/\n",
      "\t Loaded 7299 new records\n",
      "Loading records from  /Users/simon/git/MassBank-Data/PFOS_research_group/\n",
      "\t Loaded 413 new records\n",
      "Loading records from  /Users/simon/git/MassBank-Data/Eawag/\n",
      "\t Loaded 11191 new records\n",
      "Loading records from  /Users/simon/git/MassBank-Data/IPB_Halle/\n",
      "\t Loaded 677 new records\n",
      "Loading records from  /Users/simon/git/MassBank-Data/Washington_State_Univ/\n",
      "\t Loaded 2626 new records\n",
      "Loading records from  /Users/simon/git/MassBank-Data/Univ_Toyama/\n",
      "\t Loaded 253 new records\n",
      "Loading records from  /Users/simon/git/MassBank-Data/UOEH/\n",
      "\t Loaded 35 new records\n",
      "Loading records from  /Users/simon/git/MassBank-Data/Fukuyama_Univ/\n",
      "\t Loaded 340 new records\n",
      "Loading records from  /Users/simon/git/MassBank-Data/Waters/\n",
      "\t Loaded 2992 new records\n",
      "Loading records from  /Users/simon/git/MassBank-Data/UPAO/\n",
      "\t Loaded 12 new records\n",
      "Loading records from  /Users/simon/git/MassBank-Data/UFZ/\n",
      "\t Loaded 1261 new records\n",
      "Loading records from  /Users/simon/git/MassBank-Data/AAFC/\n",
      "\t Loaded 950 new records\n",
      "Loading records from  /Users/simon/git/MassBank-Data/Metabolon/\n",
      "\t Loaded 149 new records\n",
      "Loading records from  /Users/simon/git/MassBank-Data/RIKEN_NPDepo/\n",
      "\t Loaded 1956 new records\n",
      "Loading records from  /Users/simon/git/MassBank-Data/Eawag_Additional_Specs/\n",
      "\t Loaded 895 new records\n",
      "Loading records from  /Users/simon/git/MassBank-Data/Nihon_Univ/\n",
      "\t Loaded 706 new records\n",
      "Loading records from  /Users/simon/git/MassBank-Data/NAIST/\n",
      "\t Loaded 621 new records\n",
      "Loading records from  /Users/simon/git/MassBank-Data/CASMI_2012/\n",
      "\t Loaded 26 new records\n",
      "Loading records from  /Users/simon/git/MassBank-Data/HBM4EU/\n",
      "\t Loaded 1925 new records\n",
      "Loading records from  /Users/simon/git/MassBank-Data/BGC_Munich/\n",
      "\t Loaded 903 new records\n",
      "Loading records from  /Users/simon/git/MassBank-Data/Tottori_Univ/\n",
      "\t Loaded 16 new records\n",
      "Loading records from  /Users/simon/git/MassBank-Data/BS/\n",
      "\t Loaded 1318 new records\n",
      "Loading records from  /Users/simon/git/MassBank-Data/Chubu_Univ/\n",
      "\t Loaded 2563 new records\n",
      "Loading records from  /Users/simon/git/MassBank-Data/MSSJ/\n",
      "\t Loaded 328 new records\n",
      "Loading records from  /Users/simon/git/MassBank-Data/ISAS_Dortmund/\n",
      "\t Loaded 513 new records\n",
      "Loading records from  /Users/simon/git/MassBank-Data/Kyoto_Univ/\n",
      "\t Loaded 184 new records\n",
      "Loading records from  /Users/simon/git/MassBank-Data/Keio_Univ/\n",
      "\t Loaded 4780 new records\n",
      "Loading records from  /Users/simon/git/MassBank-Data/RIKEN_IMS/\n",
      "\t Loaded 1140 new records\n",
      "Loading records from  /Users/simon/git/MassBank-Data/Literature_Specs/\n",
      "\t Loaded 39 new records\n",
      "Loading records from  /Users/simon/git/MassBank-Data/Osaka_MCHRI/\n",
      "\t Loaded 20 new records\n",
      "Loading records from  /Users/simon/git/MassBank-Data/KWR/\n",
      "\t Loaded 207 new records\n",
      "Loading records from  /Users/simon/git/MassBank-Data/RIKEN/\n",
      "\t Loaded 11935 new records\n",
      "Loading records from  /Users/simon/git/MassBank-Data/Fiocruz/\n",
      "\t Loaded 1107 new records\n",
      "Loading records from  /Users/simon/git/MassBank-Data/Fac_Eng_Univ_Tokyo/\n",
      "\t Loaded 12379 new records\n",
      "Loading records from  /Users/simon/git/MassBank-Data/Univ_Connecticut/\n",
      "\t Loaded 510 new records\n",
      "Loading records from  /Users/simon/git/MassBank-Data/NaToxAq/\n",
      "\t Loaded 3756 new records\n",
      "Loading records from  /Users/simon/git/MassBank-Data/CASMI_2016/\n",
      "\t Loaded 622 new records\n",
      "Loading records from  /Users/simon/git/MassBank-Data/Kazusa/\n",
      "\t Loaded 273 new records\n",
      "Loading records from  /Users/simon/git/MassBank-Data/Osaka_Univ/\n",
      "\t Loaded 449 new records\n"
     ]
    },
    {
     "name": "stderr",
     "output_type": "stream",
     "text": [
      "2020-10-07 12:34:05.501 | INFO     | vimms.Common:save_obj:166 - Saving <class 'mass_spec_utils.library_matching.spec_libraries.MassBankLibrary'> to /Users/simon/clms_er/library_cache/massbank_neg.p\n"
     ]
    }
   ],
   "source": [
    "mb = MassBankLibrary(mb_dir=massbank_data_path, polarity='NEGATIVE')\n",
    "save_obj(mb, os.path.join(library_cache, 'massbank_neg.p'))"
   ]
  },
  {
   "cell_type": "code",
   "execution_count": 9,
   "metadata": {},
   "outputs": [
    {
     "name": "stdout",
     "output_type": "stream",
     "text": [
      "Loading records from  /Users/simon/git/MassBank-Data/Athens_Univ/\n",
      "\t Loaded 5252 new records\n",
      "Loading records from  /Users/simon/git/MassBank-Data/MetaboLights/\n",
      "\t Loaded 58 new records\n",
      "Loading records from  /Users/simon/git/MassBank-Data/MPI_for_Chemical_Ecology/\n",
      "\t Loaded 691 new records\n",
      "Loading records from  /Users/simon/git/MassBank-Data/JEOL_Ltd/\n",
      "\t Loaded 45 new records\n",
      "Loading records from  /Users/simon/git/MassBank-Data/GL_Sciences_Inc/\n",
      "\t Loaded 174 new records\n",
      "Loading records from  /Users/simon/git/MassBank-Data/Env_Anal_Chem_U_Tuebingen/\n",
      "\t Loaded 128 new records\n",
      "Loading records from  /Users/simon/git/MassBank-Data/RIKEN_ReSpect/\n",
      "\t Loaded 4642 new records\n",
      "Loading records from  /Users/simon/git/MassBank-Data/Boise_State_Univ/\n",
      "\t Loaded 4 new records\n",
      "Loading records from  /Users/simon/git/MassBank-Data/LCSB/\n",
      "\t Loaded 7299 new records\n",
      "Loading records from  /Users/simon/git/MassBank-Data/PFOS_research_group/\n",
      "\t Loaded 413 new records\n",
      "Loading records from  /Users/simon/git/MassBank-Data/Eawag/\n",
      "\t Loaded 11191 new records\n",
      "Loading records from  /Users/simon/git/MassBank-Data/IPB_Halle/\n",
      "\t Loaded 677 new records\n",
      "Loading records from  /Users/simon/git/MassBank-Data/Washington_State_Univ/\n",
      "\t Loaded 2626 new records\n",
      "Loading records from  /Users/simon/git/MassBank-Data/Univ_Toyama/\n",
      "\t Loaded 253 new records\n",
      "Loading records from  /Users/simon/git/MassBank-Data/UOEH/\n",
      "\t Loaded 35 new records\n",
      "Loading records from  /Users/simon/git/MassBank-Data/Fukuyama_Univ/\n",
      "\t Loaded 340 new records\n",
      "Loading records from  /Users/simon/git/MassBank-Data/Waters/\n",
      "\t Loaded 2992 new records\n",
      "Loading records from  /Users/simon/git/MassBank-Data/UPAO/\n",
      "\t Loaded 12 new records\n",
      "Loading records from  /Users/simon/git/MassBank-Data/UFZ/\n",
      "\t Loaded 1261 new records\n",
      "Loading records from  /Users/simon/git/MassBank-Data/AAFC/\n",
      "\t Loaded 950 new records\n",
      "Loading records from  /Users/simon/git/MassBank-Data/Metabolon/\n",
      "\t Loaded 149 new records\n",
      "Loading records from  /Users/simon/git/MassBank-Data/RIKEN_NPDepo/\n",
      "\t Loaded 1956 new records\n",
      "Loading records from  /Users/simon/git/MassBank-Data/Eawag_Additional_Specs/\n",
      "\t Loaded 895 new records\n",
      "Loading records from  /Users/simon/git/MassBank-Data/Nihon_Univ/\n",
      "\t Loaded 706 new records\n",
      "Loading records from  /Users/simon/git/MassBank-Data/NAIST/\n",
      "\t Loaded 621 new records\n",
      "Loading records from  /Users/simon/git/MassBank-Data/CASMI_2012/\n",
      "\t Loaded 26 new records\n",
      "Loading records from  /Users/simon/git/MassBank-Data/HBM4EU/\n",
      "\t Loaded 1925 new records\n",
      "Loading records from  /Users/simon/git/MassBank-Data/BGC_Munich/\n",
      "\t Loaded 903 new records\n",
      "Loading records from  /Users/simon/git/MassBank-Data/Tottori_Univ/\n",
      "\t Loaded 16 new records\n",
      "Loading records from  /Users/simon/git/MassBank-Data/BS/\n",
      "\t Loaded 1318 new records\n",
      "Loading records from  /Users/simon/git/MassBank-Data/Chubu_Univ/\n",
      "\t Loaded 2563 new records\n",
      "Loading records from  /Users/simon/git/MassBank-Data/MSSJ/\n",
      "\t Loaded 328 new records\n",
      "Loading records from  /Users/simon/git/MassBank-Data/ISAS_Dortmund/\n",
      "\t Loaded 513 new records\n",
      "Loading records from  /Users/simon/git/MassBank-Data/Kyoto_Univ/\n",
      "\t Loaded 184 new records\n",
      "Loading records from  /Users/simon/git/MassBank-Data/Keio_Univ/\n",
      "\t Loaded 4780 new records\n",
      "Loading records from  /Users/simon/git/MassBank-Data/RIKEN_IMS/\n",
      "\t Loaded 1140 new records\n",
      "Loading records from  /Users/simon/git/MassBank-Data/Literature_Specs/\n",
      "\t Loaded 39 new records\n",
      "Loading records from  /Users/simon/git/MassBank-Data/Osaka_MCHRI/\n",
      "\t Loaded 20 new records\n",
      "Loading records from  /Users/simon/git/MassBank-Data/KWR/\n",
      "\t Loaded 207 new records\n",
      "Loading records from  /Users/simon/git/MassBank-Data/RIKEN/\n",
      "\t Loaded 11935 new records\n",
      "Loading records from  /Users/simon/git/MassBank-Data/Fiocruz/\n",
      "\t Loaded 1107 new records\n",
      "Loading records from  /Users/simon/git/MassBank-Data/Fac_Eng_Univ_Tokyo/\n",
      "\t Loaded 12379 new records\n",
      "Loading records from  /Users/simon/git/MassBank-Data/Univ_Connecticut/\n",
      "\t Loaded 510 new records\n",
      "Loading records from  /Users/simon/git/MassBank-Data/NaToxAq/\n",
      "\t Loaded 3756 new records\n",
      "Loading records from  /Users/simon/git/MassBank-Data/CASMI_2016/\n",
      "\t Loaded 622 new records\n",
      "Loading records from  /Users/simon/git/MassBank-Data/Kazusa/\n",
      "\t Loaded 273 new records\n",
      "Loading records from  /Users/simon/git/MassBank-Data/Osaka_Univ/\n",
      "\t Loaded 449 new records\n"
     ]
    },
    {
     "name": "stderr",
     "output_type": "stream",
     "text": [
      "2020-10-07 12:39:34.587 | INFO     | vimms.Common:save_obj:166 - Saving <class 'mass_spec_utils.library_matching.spec_libraries.MassBankLibrary'> to /Users/simon/clms_er/library_cache/massbank_all.p\n"
     ]
    }
   ],
   "source": [
    "mb = MassBankLibrary(mb_dir=massbank_data_path, polarity='all')\n",
    "save_obj(mb, os.path.join(library_cache, 'massbank_all.p'))"
   ]
  },
  {
   "cell_type": "markdown",
   "metadata": {},
   "source": [
    "## GNPS\n",
    "\n",
    "Using Florian's file, because it has inchikeys"
   ]
  },
  {
   "cell_type": "code",
   "execution_count": null,
   "metadata": {},
   "outputs": [],
   "source": [
    "json_file = '/Users/simon/Downloads/gnps_positive_ionmode_cleaned_by_matchms_and_lookups.json'\n",
    "import json\n",
    "with open(json_file,'r') as f:\n",
    "    payload = json.loads(f.read())"
   ]
  },
  {
   "cell_type": "code",
   "execution_count": null,
   "metadata": {},
   "outputs": [],
   "source": [
    "from mass_spec_utils.library_matching.spectrum import SpectralRecord\n",
    "neg_intensities = []\n",
    "def json_to_spectrum(json_dat):\n",
    "    precursor_mz = json_dat['precursor_mz']\n",
    "    original_file = json_file\n",
    "    spectrum_id = json_dat['spectrum_id']\n",
    "    inchikey = json_dat['inchikey_smiles']\n",
    "    peaks = json_dat['peaks_json']\n",
    "    metadata = {}\n",
    "    for k,v in json_dat.items():\n",
    "        if not k == 'peaks':\n",
    "            metadata[k] = v\n",
    "    mz,i = zip(*peaks)\n",
    "    if min(i) < 0:\n",
    "        neg_intensities.append(spectrum_id)\n",
    "        return None\n",
    "    else:\n",
    "        new_spectrum = SpectralRecord(precursor_mz, peaks, metadata, original_file, spectrum_id)\n",
    "        return new_spectrum\n",
    "\n",
    "records = {}\n",
    "for jd in tqdm(payload):\n",
    "    new_spec = json_to_spectrum(jd)\n",
    "    if new_spec is not None:\n",
    "        records[new_spec.spectrum_id] = new_spec"
   ]
  },
  {
   "cell_type": "code",
   "execution_count": null,
   "metadata": {},
   "outputs": [],
   "source": [
    "def filter_min_peaks(spectrum, min_n_peaks=10):\n",
    "    n_peaks = len(spectrum.peaks)\n",
    "    if n_peaks < min_n_peaks:\n",
    "        return None\n",
    "    else:\n",
    "        return spectrum\n",
    "def filter_rel_intensity(spectrum, min_rel=0.01, max_rel=1.):\n",
    "    pp = spectrum.peaks\n",
    "    mz,i = zip(*pp)\n",
    "    max_i = max(i)\n",
    "    new_pp = []\n",
    "    for p in pp:\n",
    "        ri = p[1]/max_i\n",
    "        if ri <= max_rel and ri >= min_rel:\n",
    "            new_pp.append(p)\n",
    "    spectrum.peaks = new_pp\n",
    "    return spectrum"
   ]
  },
  {
   "cell_type": "code",
   "execution_count": null,
   "metadata": {},
   "outputs": [],
   "source": [
    "new_records = {}\n",
    "for sid in tqdm(records.keys()):\n",
    "    spec = records[sid]\n",
    "    ss = filter_min_peaks(spec)\n",
    "    if ss is not None:\n",
    "        new_records[sid] = ss\n",
    "    else:\n",
    "        continue\n",
    "    ss = filter_rel_intensity(ss)\n",
    "    new_records[sid] = ss"
   ]
  },
  {
   "cell_type": "code",
   "execution_count": null,
   "metadata": {},
   "outputs": [],
   "source": [
    "for sid, ss in new_records.items():\n",
    "    ss.metadata['inchikey'] = ss.metadata['inchikey_smiles']"
   ]
  },
  {
   "cell_type": "code",
   "execution_count": null,
   "metadata": {},
   "outputs": [],
   "source": [
    "from mass_spec_utils.library_matching.spec_libraries import SpectralLibrary\n",
    "sl = SpectralLibrary()\n",
    "sl.records = new_records\n",
    "sl.sorted_record_list = sl._dic2list()\n"
   ]
  },
  {
   "cell_type": "code",
   "execution_count": null,
   "metadata": {},
   "outputs": [],
   "source": [
    "save_obj(sl, os.path.join(library_cache,'gnps.p'))"
   ]
  },
  {
   "cell_type": "code",
   "execution_count": null,
   "metadata": {},
   "outputs": [],
   "source": []
  }
 ],
 "metadata": {
  "kernelspec": {
   "display_name": "Python 3",
   "language": "python",
   "name": "python3"
  },
  "language_info": {
   "codemirror_mode": {
    "name": "ipython",
    "version": 3
   },
   "file_extension": ".py",
   "mimetype": "text/x-python",
   "name": "python",
   "nbconvert_exporter": "python",
   "pygments_lexer": "ipython3",
   "version": "3.7.5"
  }
 },
 "nbformat": 4,
 "nbformat_minor": 4
}
