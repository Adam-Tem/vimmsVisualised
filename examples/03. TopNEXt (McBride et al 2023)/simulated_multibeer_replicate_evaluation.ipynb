{
 "cells": [
  {
   "cell_type": "code",
   "execution_count": null,
   "id": "149f862c",
   "metadata": {},
   "outputs": [],
   "source": [
    "%matplotlib inline\n",
    "%load_ext autoreload\n",
    "%autoreload 2"
   ]
  },
  {
   "cell_type": "code",
   "execution_count": null,
   "id": "03e2ecdc",
   "metadata": {},
   "outputs": [],
   "source": [
    "import math\n",
    "import sys\n",
    "import os\n",
    "import platform\n",
    "import itertools\n",
    "\n",
    "import matplotlib.pyplot as plt\n",
    "import seaborn as sns"
   ]
  },
  {
   "cell_type": "code",
   "execution_count": null,
   "id": "413496a0",
   "metadata": {},
   "outputs": [],
   "source": [
    "sns.set_context('poster')"
   ]
  },
  {
   "cell_type": "code",
   "execution_count": null,
   "id": "37cb810c",
   "metadata": {},
   "outputs": [],
   "source": [
    "user_vimms = \"vimms\"\n",
    "sys.path.append(user_vimms)"
   ]
  },
  {
   "cell_type": "code",
   "execution_count": null,
   "id": "c86bd486",
   "metadata": {},
   "outputs": [],
   "source": [
    "mzmine_path = os.path.join(\"MZmine-2.53-Windows\", \"startMZmine-Windows.bat\")\n",
    "old_mzmine = False\n",
    "template_suffix = \"_old\" if old_mzmine else \"\"\n",
    "mzmine_template = os.path.join(user_vimms, \"batch_files\", f\"multi_sample_peak_pick{template_suffix}.xml\")"
   ]
  },
  {
   "cell_type": "code",
   "execution_count": null,
   "id": "501c0dca",
   "metadata": {},
   "outputs": [],
   "source": [
    "from vimms.Common import (\n",
    "    POSITIVE, load_obj,\n",
    "    set_log_level_warning,\n",
    ")\n",
    "from vimms.PeakPicking import MZMineParams\n",
    "from vimms.Experiment import Experiment\n",
    "from vimms.BoxVisualise import (\n",
    "    mpl_results_plot, plotly_results_plot,\n",
    "    plotly_timing_hist, seaborn_timing_hist,\n",
    "    mpl_fragmentation_events, plotly_fragmentation_events,\n",
    "    mpl_fragmented_boxes,\n",
    "    seaborn_uncovered_area_hist,\n",
    "    BoxViewer\n",
    ")"
   ]
  },
  {
   "cell_type": "code",
   "execution_count": null,
   "id": "d0d014ac",
   "metadata": {},
   "outputs": [],
   "source": [
    "ionisation_mode = POSITIVE\n",
    "pbar = False\n",
    "set_log_level_warning()"
   ]
  },
  {
   "cell_type": "code",
   "execution_count": null,
   "id": "8e125007",
   "metadata": {},
   "outputs": [],
   "source": [
    "#multi_dir = \"/Users/%s/University of Glasgow/Vinny Davies - CLDS Metabolomics Project/Experimental_Results/20220706_DDAvsDIA\" % user\n",
    "multi_dir = \"20220719_multi_samples_main\"\n",
    "multibeer_dir = os.path.join(multi_dir, \"results_4\")"
   ]
  },
  {
   "cell_type": "code",
   "execution_count": null,
   "id": "8d69abbc",
   "metadata": {},
   "outputs": [],
   "source": [
    "num_workers = 20 #can't always use number of physical cores because of memory constraints"
   ]
  },
  {
   "cell_type": "markdown",
   "id": "9eaf9893",
   "metadata": {},
   "source": [
    "Utilities\n",
    "\n"
   ]
  },
  {
   "cell_type": "code",
   "execution_count": null,
   "id": "1267d635",
   "metadata": {},
   "outputs": [],
   "source": [
    "def load_pkls(pickle_dir, case_names, repeat, load_rois=False):\n",
    "    exp_pkls = {}\n",
    "    for case_name in case_names:\n",
    "        roi_str = \"_rois\" if load_rois else \"\"\n",
    "        exp_pickle_paths = [f\"{os.path.join(pickle_dir, case_name)}_{i}{roi_str}.pkl\" for i in range(repeat)]\n",
    "        exp_pkls[case_name] = [load_obj(pkl) for pkl in exp_pickle_paths]\n",
    "    return exp_pkls"
   ]
  },
  {
   "cell_type": "markdown",
   "id": "f39fecf7",
   "metadata": {},
   "source": [
    "Specify line styles for mpl plots"
   ]
  },
  {
   "cell_type": "code",
   "execution_count": null,
   "id": "8de4c8ba",
   "metadata": {},
   "outputs": [],
   "source": [
    "mpl_colours = itertools.cycle(plt.rcParams[\"axes.prop_cycle\"].by_key()[\"color\"])\n",
    "colour_map = {}\n",
    "\n",
    "def update_cmap(name):\n",
    "    if(not name in colour_map):\n",
    "        colour_map[name] = next(mpl_colours)\n",
    "    return colour_map[name]\n",
    "\n",
    "def get_style(name):\n",
    "    if(name.lower().endswith(\"smartroi\")):\n",
    "        c = update_cmap(\"_\".join(name.split(\"_\")[:-1]))\n",
    "        return c, \"s\"\n",
    "    elif(name.lower().endswith(\"weighteddew\")):\n",
    "        c = update_cmap(\"_\".join(name.split(\"_\")[:-1]))\n",
    "        return c, \"^\"\n",
    "    else:\n",
    "        c = update_cmap(name)\n",
    "        return c, \"o\"\n",
    "    \n",
    "def get_line_styles(experiment_names):\n",
    "    colours, markers = [], []\n",
    "    for exp_name in experiment_names:\n",
    "        c, m = get_style(exp_name)\n",
    "        colours.append(c)\n",
    "        markers.append(m)\n",
    "    return colours, markers"
   ]
  },
  {
   "cell_type": "code",
   "execution_count": null,
   "id": "46a5c338",
   "metadata": {},
   "outputs": [],
   "source": [
    "def get_rep_dirs(out_dir):\n",
    "    dirs = os.listdir(out_dir)\n",
    "    rep_dirs = []\n",
    "    \n",
    "    for i in itertools.count(0, 1):\n",
    "        if(not str(i) in dirs): \n",
    "            break\n",
    "        rep_dirs.append(os.path.join(out_dir, str(i)))\n",
    "        \n",
    "    return rep_dirs"
   ]
  },
  {
   "cell_type": "code",
   "execution_count": null,
   "id": "0105ff1e",
   "metadata": {},
   "outputs": [],
   "source": [
    "pp_params = MZMineParams(\n",
    "    mzmine_template = mzmine_template,\n",
    "    mzmine_exe = mzmine_path\n",
    ")"
   ]
  },
  {
   "cell_type": "markdown",
   "id": "5faed6a7",
   "metadata": {},
   "source": [
    "# 1. Same Beer"
   ]
  },
  {
   "cell_type": "code",
   "execution_count": null,
   "id": "d06375c9",
   "metadata": {},
   "outputs": [],
   "source": [
    "repeat = 10\n",
    "out_dir = \"replicate_same_beer\"\n",
    "\n",
    "same_case_names = [\n",
    "    \"topN\",\n",
    "    \"topN_RoI\",\n",
    "    \"topN_exclusion\",\n",
    "    \"topNEx\",\n",
    "    \"topNEx_smartroi\",\n",
    "    \"topNEx_weighteddew\",\n",
    "    \"hard_roi_exclusion\",\n",
    "    \"hard_roi_exclusion_smartroi\",\n",
    "    \"hard_roi_exclusion_weighteddew\",\n",
    "    \"intensity_roi_exclusion\",\n",
    "    \"intensity_roi_exclusion_smartroi\",\n",
    "    \"intensity_roi_exclusion_weighteddew\",\n",
    "    \"non_overlap\",\n",
    "    \"non_overlap_smartroi\",\n",
    "    \"non_overlap_weighteddew\",\n",
    "    \"intensity_non_overlap\",\n",
    "    \"intensity_non_overlap_smartroi\",\n",
    "    \"intensity_non_overlap_weighteddew\",\n",
    "]\n",
    "\n",
    "line_colours, line_markers = get_line_styles(same_case_names)"
   ]
  },
  {
   "cell_type": "code",
   "execution_count": null,
   "id": "4dc573f9",
   "metadata": {},
   "outputs": [],
   "source": [
    "isolation_width = 1.0\n",
    "reports_list = []\n",
    "\n",
    "for rep_dir in get_rep_dirs(out_dir):\n",
    "    same_beer_exp = Experiment.load_from_json(\n",
    "        file_dir = rep_dir,\n",
    "        file_name = \"keyfile.json\",\n",
    "        out_dir = rep_dir,\n",
    "        fullscan_dir = multibeer_dir,\n",
    "        amend_result_path = True,\n",
    "        case_names = same_case_names\n",
    "    )\n",
    "    \n",
    "    true_repeat = min(\n",
    "        repeat,\n",
    "        len(same_beer_exp.case_mzmls[same_beer_exp.case_names[0]])\n",
    "    )\n",
    "    \n",
    "    same_beer_exp.evaluate(\n",
    "        pp_params = pp_params,\n",
    "        num_workers = num_workers,\n",
    "        isolation_widths = isolation_width,\n",
    "        max_repeat = true_repeat,\n",
    "        aligned_names = f\"multibeers_1_{true_repeat}\" + template_suffix,\n",
    "        force_peak_picking = False,\n",
    "        check_mzmine=\"exact\"\n",
    "    )\n",
    "    \n",
    "    reports_list.append(\n",
    "        same_beer_exp.get_reports(num_workers=num_workers)\n",
    "    )"
   ]
  },
  {
   "cell_type": "code",
   "execution_count": null,
   "id": "3e4e8585",
   "metadata": {},
   "outputs": [],
   "source": [
    "coverages = []\n",
    "it_coverages = []\n",
    "\n",
    "for case_name in same_case_names:\n",
    "    coverages.append([\n",
    "        r[case_name][\"cumulative_coverage_proportion\"][-1] \n",
    "        for r in reports_list\n",
    "    ])\n",
    "    \n",
    "    it_coverages.append([\n",
    "        r[case_name][\"cumulative_intensity_proportion\"][-1] \n",
    "        for r in reports_list\n",
    "    ])\n",
    "    \n",
    "print(coverages)\n",
    "print()\n",
    "print(it_coverages)"
   ]
  },
  {
   "cell_type": "code",
   "execution_count": null,
   "id": "e09db45c",
   "metadata": {},
   "outputs": [],
   "source": [
    "fig, axes = plt.subplots(2, 1)\n",
    "ax1, ax2 = axes\n",
    "\n",
    "for i in range(3, len(same_case_names), 3):\n",
    "    ax1.axvline(i + 0.5, linestyle=\"--\", linewidth=1.2)\n",
    "    ax2.axvline(i + 0.5, linestyle=\"--\", linewidth=1.2)\n",
    "\n",
    "ax1.boxplot(coverages)\n",
    "ax1.tick_params(\n",
    "    bottom=False,\n",
    "    labelbottom=False\n",
    ")\n",
    "ax1.set(title=\"Same Beer Final Cumulative Coverage\", ylabel=\"Coverage Proportion\")\n",
    "\n",
    "ax2.boxplot(it_coverages)\n",
    "ax2.set_xticklabels(same_case_names, rotation=40, ha=\"right\")\n",
    "ax2.set(title=\"Same Beer Final Cumulative Intensity Coverage\", ylabel=\"Intensity Coverage Proportion\")\n",
    "\n",
    "fig.set_size_inches(15, 15)"
   ]
  },
  {
   "cell_type": "markdown",
   "id": "5406b553",
   "metadata": {},
   "source": [
    "# 2. Repeating Different Beers"
   ]
  },
  {
   "cell_type": "code",
   "execution_count": null,
   "id": "bf501589",
   "metadata": {},
   "outputs": [],
   "source": [
    "bio_repeat = 6\n",
    "tech_repeat = 4\n",
    "repeat = bio_repeat * tech_repeat\n",
    "out_dir = \"replicate_repeated_different_beer\"\n",
    "\n",
    "rep_diff_case_names = [\n",
    "    \"topN\",\n",
    "    \"topN_RoI\",\n",
    "    \"topN_exclusion\",\n",
    "    \"topNEx\",\n",
    "    \"topNEx_smartroi\",\n",
    "    \"topNEx_weighteddew\",\n",
    "    \"hard_roi_exclusion\",\n",
    "    \"hard_roi_exclusion_smartroi\",\n",
    "    \"hard_roi_exclusion_weighteddew\",\n",
    "    \"intensity_roi_exclusion\",\n",
    "    \"intensity_roi_exclusion_smartroi\",\n",
    "    \"intensity_roi_exclusion_weighteddew\",\n",
    "    \"non_overlap\",\n",
    "    \"non_overlap_smartroi\",\n",
    "    \"non_overlap_weighteddew\",\n",
    "    \"intensity_non_overlap\",\n",
    "    \"intensity_non_overlap_smartroi\",\n",
    "    \"intensity_non_overlap_weighteddew\",\n",
    "]\n",
    "\n",
    "line_colours, line_markers = get_line_styles(rep_diff_case_names)"
   ]
  },
  {
   "cell_type": "code",
   "execution_count": null,
   "id": "94d6d216",
   "metadata": {},
   "outputs": [],
   "source": [
    "isolation_width = 1.0\n",
    "reports_list = []\n",
    "\n",
    "for rep_dir in get_rep_dirs(out_dir):\n",
    "    rep_diff_beer_exp = Experiment.load_from_json(\n",
    "        file_dir = rep_dir,\n",
    "        file_name = \"keyfile.json\",\n",
    "        out_dir = rep_dir,\n",
    "        fullscan_dir = multibeer_dir,\n",
    "        amend_result_path = True,\n",
    "        case_names = rep_diff_case_names\n",
    "    )\n",
    "    \n",
    "    true_repeat = min(\n",
    "        repeat,\n",
    "        len(rep_diff_beer_exp.case_mzmls[rep_diff_beer_exp.case_names[0]])\n",
    "    )\n",
    "    \n",
    "    rep_diff_beer_exp.evaluate(\n",
    "        pp_params = pp_params,\n",
    "        num_workers = num_workers,\n",
    "        isolation_widths = isolation_width,\n",
    "        max_repeat = true_repeat,\n",
    "        aligned_names = f\"multibeers_{bio_repeat}_{tech_repeat}\" + template_suffix,\n",
    "        force_peak_picking = False,\n",
    "        check_mzmine=\"exact\"\n",
    "    )\n",
    "    \n",
    "    reports_list.append(\n",
    "        rep_diff_beer_exp.get_reports(num_workers=num_workers)\n",
    "    )"
   ]
  },
  {
   "cell_type": "code",
   "execution_count": null,
   "id": "f42a86bc",
   "metadata": {},
   "outputs": [],
   "source": [
    "coverages = []\n",
    "it_coverages = []\n",
    "\n",
    "for case_name in rep_diff_case_names:\n",
    "    coverages.append([\n",
    "        r[case_name][\"cumulative_coverage_proportion\"][-1] \n",
    "        for r in reports_list\n",
    "    ])\n",
    "    \n",
    "    it_coverages.append([\n",
    "        r[case_name][\"cumulative_intensity_proportion\"][-1] \n",
    "        for r in reports_list\n",
    "    ])\n",
    "    \n",
    "print(coverages)\n",
    "print()\n",
    "print(it_coverages)"
   ]
  },
  {
   "cell_type": "code",
   "execution_count": null,
   "id": "366ad6d6",
   "metadata": {},
   "outputs": [],
   "source": [
    "fig, axes = plt.subplots(2, 1)\n",
    "ax1, ax2 = axes\n",
    "\n",
    "for i in range(3, len(rep_diff_case_names), 3):\n",
    "    ax1.axvline(i + 0.5, linestyle=\"--\", linewidth=1.2)\n",
    "    ax2.axvline(i + 0.5, linestyle=\"--\", linewidth=1.2)\n",
    "\n",
    "ax1.boxplot(coverages)\n",
    "ax1.tick_params(\n",
    "    bottom=False,\n",
    "    labelbottom=False\n",
    ")\n",
    "ax1.set(title=\"6-4 Beers Final Cumulative Coverage\", ylabel=\"Coverage Proportion\")\n",
    "\n",
    "ax2.boxplot(it_coverages)\n",
    "ax2.set_xticklabels(rep_diff_case_names, rotation=40, ha=\"right\")\n",
    "ax2.set(title=\"6-4 Beers Final Cumulative Intensity Coverage\", ylabel=\"Intensity Coverage Proportion\")\n",
    "\n",
    "fig.set_size_inches(15, 15)"
   ]
  }
 ],
 "metadata": {
  "kernelspec": {
   "display_name": "Python 3 (ipykernel)",
   "language": "python",
   "name": "python3"
  },
  "language_info": {
   "codemirror_mode": {
    "name": "ipython",
    "version": 3
   },
   "file_extension": ".py",
   "mimetype": "text/x-python",
   "name": "python",
   "nbconvert_exporter": "python",
   "pygments_lexer": "ipython3",
   "version": "3.9.12"
  }
 },
 "nbformat": 4,
 "nbformat_minor": 5
}
