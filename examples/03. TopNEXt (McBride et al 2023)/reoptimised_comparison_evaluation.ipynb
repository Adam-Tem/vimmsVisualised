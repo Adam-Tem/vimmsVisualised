{
 "cells": [
  {
   "cell_type": "code",
   "execution_count": null,
   "id": "6230d2fb",
   "metadata": {},
   "outputs": [],
   "source": [
    "%matplotlib inline\n",
    "%load_ext autoreload\n",
    "%autoreload 2"
   ]
  },
  {
   "cell_type": "code",
   "execution_count": null,
   "id": "18f505ed",
   "metadata": {},
   "outputs": [],
   "source": [
    "import math\n",
    "import sys\n",
    "import os\n",
    "import platform\n",
    "import itertools\n",
    "\n",
    "from matplotlib.lines import Line2D\n",
    "import matplotlib.pyplot as plt"
   ]
  },
  {
   "cell_type": "code",
   "execution_count": null,
   "id": "4772fb26",
   "metadata": {},
   "outputs": [],
   "source": [
    "user_vimms = \"vimms\"\n",
    "sys.path.append(user_vimms)"
   ]
  },
  {
   "cell_type": "code",
   "execution_count": null,
   "id": "65baa616",
   "metadata": {},
   "outputs": [],
   "source": [
    "mzmine_path = os.path.join(\"MZmine-2.53-Windows\", \"startMZmine-Windows.bat\")\n",
    "old_mzmine = False\n",
    "template_suffix = \"_old\" if old_mzmine else \"\"\n",
    "mzmine_template = os.path.join(user_vimms, \"batch_files\", f\"multi_sample_peak_pick{template_suffix}.xml\")"
   ]
  },
  {
   "cell_type": "code",
   "execution_count": null,
   "id": "6c27c91c",
   "metadata": {},
   "outputs": [],
   "source": [
    "from vimms.Common import (\n",
    "    POSITIVE, load_obj,\n",
    "    set_log_level_warning,\n",
    ")\n",
    "from vimms.PeakPicking import MZMineParams\n",
    "from vimms.Experiment import Experiment\n",
    "from vimms.BoxVisualise import (\n",
    "    mpl_set_axis_style, mpl_set_figure_style,\n",
    "    mpl_results_plot, plotly_results_plot,\n",
    "    plotly_timing_hist, seaborn_timing_hist,\n",
    "    mpl_fragmentation_events, plotly_fragmentation_events,\n",
    "    mpl_fragmented_boxes,\n",
    "    seaborn_uncovered_area_hist,\n",
    "    BoxViewer\n",
    ")"
   ]
  },
  {
   "cell_type": "code",
   "execution_count": null,
   "id": "fc15ef54",
   "metadata": {},
   "outputs": [],
   "source": [
    "ionisation_mode = POSITIVE\n",
    "pbar = False\n",
    "set_log_level_warning()"
   ]
  },
  {
   "cell_type": "code",
   "execution_count": null,
   "id": "6124a9aa",
   "metadata": {},
   "outputs": [],
   "source": [
    "#multi_dir = \"/Users/%s/University of Glasgow/Vinny Davies - CLDS Metabolomics Project/Experimental_Results/20220706_DDAvsDIA\" % user\n",
    "multi_dir = \"20220719_multi_samples_main\"\n",
    "multibeer_dir = os.path.join(multi_dir, \"results_4\")"
   ]
  },
  {
   "cell_type": "code",
   "execution_count": null,
   "id": "dbd2fee2",
   "metadata": {},
   "outputs": [],
   "source": [
    "num_workers = 8 #can't always use number of physical cores because of memory constraints"
   ]
  },
  {
   "cell_type": "code",
   "execution_count": null,
   "id": "3f839abc",
   "metadata": {},
   "outputs": [],
   "source": [
    "def load_pkls(pickle_dir, case_names, repeat, load_rois=False):\n",
    "    exp_pkls = {}\n",
    "    for case_name in case_names:\n",
    "        roi_str = \"_rois\" if load_rois else \"\"\n",
    "        exp_pickle_paths = [f\"{os.path.join(pickle_dir, case_name)}_{i}{roi_str}.pkl\" for i in range(repeat)]\n",
    "        exp_pkls[case_name] = [load_obj(pkl) for pkl in exp_pickle_paths]\n",
    "    return exp_pkls"
   ]
  },
  {
   "cell_type": "code",
   "execution_count": null,
   "id": "2efb30f3",
   "metadata": {},
   "outputs": [],
   "source": [
    "mpl_colours = plt.rcParams[\"axes.prop_cycle\"].by_key()[\"color\"]\n",
    "colour_iterator = itertools.cycle(mpl_colours)\n",
    "colour_map = {\n",
    "    \"topN\" : mpl_colours[5],\n",
    "    \"topN_RoI\" : mpl_colours[7],\n",
    "    \"topN_exclusion\" : mpl_colours[1],\n",
    "    \"topNEx\" : mpl_colours[2],\n",
    "    \"hard_roi_exclusion\" : mpl_colours[0],\n",
    "    \"intensity_roi_exclusion\" : mpl_colours[8],\n",
    "    \"non_overlap\" : mpl_colours[6],\n",
    "    \"intensity_non_overlap\" : mpl_colours[3],\n",
    "    \n",
    "}\n",
    "\n",
    "def update_cmap(name):\n",
    "    if(not name in colour_map):\n",
    "        colour_map[name] = next(mpl_colours)\n",
    "    return colour_map[name]\n",
    "\n",
    "def get_style(name):\n",
    "    if(name.lower().endswith(\"smartroi\")):\n",
    "        c = update_cmap(\"_\".join(name.split(\"_\")[:-1]))\n",
    "        return c, \"v\"\n",
    "    elif(name.lower().endswith(\"weighteddew\")):\n",
    "        c = update_cmap(\"_\".join(name.split(\"_\")[:-1]))\n",
    "        return c, \"^\"\n",
    "    else:\n",
    "        c = update_cmap(name)\n",
    "        return c, \"o\"\n",
    "    \n",
    "def get_line_styles(case_names):\n",
    "    colours, markers = [], []\n",
    "    for case_name in case_names:\n",
    "        c, m = get_style(case_name)\n",
    "        colours.append(c)\n",
    "        markers.append(m)\n",
    "    return colours, markers"
   ]
  },
  {
   "cell_type": "code",
   "execution_count": null,
   "id": "ce56b2df",
   "metadata": {},
   "outputs": [],
   "source": [
    "name_map = {\n",
    "    \"topN\" : \"TopN\",\n",
    "    \"topN_RoI\" : \"TopN RoI\",\n",
    "    \"topN_exclusion\" : \"TopN Exclusion\",\n",
    "    \"topNEx\" : \"TopNEx\",\n",
    "    \"hard_roi_exclusion\" : \"Hard RoI Exclusion\",\n",
    "    \"intensity_roi_exclusion\" : \"Intensity RoI Exclusion\",\n",
    "    \"non_overlap\" : \"Non-Overlap\",\n",
    "    \"intensity_non_overlap\" : \"Intensity Non-Overlap\",\n",
    "    \n",
    "}\n",
    "\n",
    "markersize = 11\n",
    "\n",
    "legend_elements = [\n",
    "    Line2D([0], [0], marker=\"o\", color=\"black\", label=\"Standard DEW\", markerfacecolor=\"black\", markersize=markersize),\n",
    "    Line2D([0], [0], color=\"white\", label=\"\", markerfacecolor=\"black\", markersize=markersize),\n",
    "]\n",
    "    \n",
    "for name in [\"topN_exclusion\", \"intensity_non_overlap\"]:\n",
    "    legend_elements.append(\n",
    "        Line2D([0], [0], marker=\"s\", color=\"white\", label=name_map[name], markerfacecolor=colour_map[name], markersize=14)\n",
    "    )"
   ]
  },
  {
   "cell_type": "code",
   "execution_count": null,
   "id": "1a1bfcc8",
   "metadata": {},
   "outputs": [],
   "source": [
    "fig_kwargs = {\n",
    "    \"tick_kwargs\" : {\n",
    "        \"width\" : 2.5,\n",
    "        \"length\" : 12,\n",
    "        \"labelsize\" : 22,\n",
    "    },\n",
    "    \n",
    "    \"axis_borderwidth\" : 2.5,\n",
    "    \n",
    "    \"axis_kwargs\" : {\n",
    "        \"labelsize\" : 24,\n",
    "        \"titlesize\" : 24,\n",
    "        \"linewidth\" : 1.5,\n",
    "        \"markersize\" : 6,\n",
    "        \"legend_kwargs\" : {\n",
    "            \"handles\" : legend_elements,\n",
    "            \"fontsize\" : 13\n",
    "        }\n",
    "    },\n",
    "    \n",
    "    \"suptitle\" : \"Default Suptitle\",\n",
    "    \"suptitle_size\" : 18,\n",
    "    \"figure_sizes\" : (18, 8),\n",
    "}"
   ]
  },
  {
   "cell_type": "code",
   "execution_count": null,
   "id": "d274f29b",
   "metadata": {},
   "outputs": [],
   "source": [
    "pp_params = MZMineParams(\n",
    "    mzmine_template = mzmine_template,\n",
    "    mzmine_exe = mzmine_path\n",
    ")"
   ]
  },
  {
   "cell_type": "markdown",
   "id": "a18cca26",
   "metadata": {},
   "source": [
    "# 1. Same Beer Repeated Multiple Times"
   ]
  },
  {
   "cell_type": "markdown",
   "id": "0e3ea4f1",
   "metadata": {},
   "source": [
    "### Evaluate"
   ]
  },
  {
   "cell_type": "code",
   "execution_count": null,
   "id": "181f99e0",
   "metadata": {},
   "outputs": [],
   "source": [
    "repeat = 20\n",
    "out_dir = \"reoptimised_same_beer\"\n",
    "\n",
    "same_case_names = [\n",
    "    \"topN_exclusion\",\n",
    "    \"intensity_non_overlap\"\n",
    "]\n",
    "\n",
    "line_colours, line_markers = get_line_styles(same_case_names)"
   ]
  },
  {
   "cell_type": "code",
   "execution_count": null,
   "id": "cdea74fc",
   "metadata": {},
   "outputs": [],
   "source": [
    "same_beer_exp = Experiment.load_from_json(\n",
    "    file_dir = out_dir,\n",
    "    file_name = \"keyfile.json\",\n",
    "    out_dir = out_dir,\n",
    "    fullscan_dir = multibeer_dir,\n",
    "    amend_result_path = True,\n",
    "    case_names = same_case_names\n",
    ")"
   ]
  },
  {
   "cell_type": "code",
   "execution_count": null,
   "id": "c245cebf",
   "metadata": {},
   "outputs": [],
   "source": [
    "isolation_width = 1.0\n",
    "true_repeat = min(\n",
    "    repeat,\n",
    "    len(same_beer_exp.case_mzmls[same_beer_exp.case_names[0]])\n",
    ")\n",
    "\n",
    "same_beer_exp.evaluate(\n",
    "    pp_params = pp_params,\n",
    "    num_workers = num_workers,\n",
    "    isolation_widths = isolation_width,\n",
    "    max_repeat = repeat,\n",
    "    aligned_names = f\"multibeers_1_{true_repeat}\" + template_suffix,\n",
    "    force_peak_picking = False\n",
    ")\n",
    "\n",
    "same_beer_exp.summarise(num_workers=num_workers, rank_key=\"cumulative_intensity_proportion\")"
   ]
  },
  {
   "cell_type": "markdown",
   "id": "4bc94349",
   "metadata": {},
   "source": [
    "### Plot"
   ]
  },
  {
   "cell_type": "code",
   "execution_count": null,
   "id": "72be2d61",
   "metadata": {},
   "outputs": [],
   "source": [
    "#non-interactive plot, but is just an image so will persist if notebook is refreshed\n",
    "fig, axes = mpl_results_plot(\n",
    "    same_case_names,\n",
    "    same_beer_exp.evaluators,\n",
    "    min_intensity=0.0,\n",
    "    colours=line_colours,\n",
    "    markers=line_markers,\n",
    "    mode=\"absolute\"\n",
    ")\n",
    "\n",
    "mpl_set_figure_style(fig, **{**fig_kwargs, \"suptitle\" : \"Repeated Same Beer\", \"suptitle_size\" : 26})\n",
    "mpl_set_axis_style(axes[1], legend_kwargs={**fig_kwargs[\"axis_kwargs\"][\"legend_kwargs\"], \"loc\" : \"lower right\"})"
   ]
  },
  {
   "cell_type": "markdown",
   "id": "751df1eb",
   "metadata": {},
   "source": [
    "# 3. Repeating Different Beers"
   ]
  },
  {
   "cell_type": "code",
   "execution_count": null,
   "id": "817a0553",
   "metadata": {},
   "outputs": [],
   "source": [
    "bio_repeat = 6\n",
    "tech_repeat = 4\n",
    "repeat = bio_repeat * tech_repeat\n",
    "out_dir = \"reoptimised_repeated_different_beer\"\n",
    "\n",
    "rep_diff_case_names = [\n",
    "    \"topN_exclusion\",\n",
    "    \"intensity_non_overlap\"\n",
    "]\n",
    "\n",
    "line_colours, line_markers = get_line_styles(rep_diff_case_names)"
   ]
  },
  {
   "cell_type": "code",
   "execution_count": null,
   "id": "c8ede318",
   "metadata": {},
   "outputs": [],
   "source": [
    "rep_diff_beer_exp = Experiment.load_from_json(\n",
    "    file_dir = out_dir,\n",
    "    file_name = \"keyfile.json\",\n",
    "    out_dir = out_dir,\n",
    "    fullscan_dir = multibeer_dir,\n",
    "    amend_result_path = True,\n",
    "    case_names = rep_diff_case_names\n",
    ")"
   ]
  },
  {
   "cell_type": "code",
   "execution_count": null,
   "id": "02d9a32e",
   "metadata": {},
   "outputs": [],
   "source": [
    "isolation_width = 1.0\n",
    "rep_diff_beer_exp.evaluate(\n",
    "    pp_params = pp_params,\n",
    "    num_workers = num_workers,\n",
    "    isolation_widths = isolation_width,\n",
    "    max_repeat = repeat,\n",
    "    aligned_names = f\"multibeers_{bio_repeat}_{tech_repeat}\" + template_suffix,\n",
    "    force_peak_picking = False\n",
    ")\n",
    "\n",
    "rep_diff_beer_exp.summarise(num_workers=num_workers, rank_key=\"cumulative_intensity_proportion\")"
   ]
  },
  {
   "cell_type": "markdown",
   "id": "39054502",
   "metadata": {},
   "source": [
    "### Plot"
   ]
  },
  {
   "cell_type": "code",
   "execution_count": null,
   "id": "217d58ea",
   "metadata": {},
   "outputs": [],
   "source": [
    "fig, axes = mpl_results_plot(\n",
    "    rep_diff_case_names,\n",
    "    rep_diff_beer_exp.evaluators,\n",
    "    min_intensity=0.0,\n",
    "    colours=line_colours,\n",
    "    markers=line_markers,\n",
    ")\n",
    "\n",
    "kwargs = {\n",
    "    **fig_kwargs, \n",
    "    \"suptitle\" : f\"{bio_repeat} Different Beers with {tech_repeat} Replicates\", \n",
    "    \"suptitle_size\" : 26\n",
    "}\n",
    "mpl_set_figure_style(fig, **kwargs)\n",
    "mpl_set_axis_style(axes[1], legend_kwargs={**fig_kwargs[\"axis_kwargs\"][\"legend_kwargs\"], \"loc\" : \"lower right\"})"
   ]
  },
  {
   "cell_type": "code",
   "execution_count": null,
   "id": "ea23e837",
   "metadata": {},
   "outputs": [],
   "source": []
  }
 ],
 "metadata": {
  "kernelspec": {
   "display_name": "Python 3 (ipykernel)",
   "language": "python",
   "name": "python3"
  },
  "language_info": {
   "codemirror_mode": {
    "name": "ipython",
    "version": 3
   },
   "file_extension": ".py",
   "mimetype": "text/x-python",
   "name": "python",
   "nbconvert_exporter": "python",
   "pygments_lexer": "ipython3",
   "version": "3.9.12"
  }
 },
 "nbformat": 4,
 "nbformat_minor": 5
}
