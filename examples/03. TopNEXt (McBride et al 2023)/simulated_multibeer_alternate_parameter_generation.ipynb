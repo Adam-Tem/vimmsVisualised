{
 "cells": [
  {
   "cell_type": "markdown",
   "id": "b88468ea",
   "metadata": {},
   "source": [
    "# 0. Preliminaries"
   ]
  },
  {
   "cell_type": "code",
   "execution_count": 1,
   "id": "c26bc87b",
   "metadata": {
    "execution": {
     "iopub.execute_input": "2022-06-15T04:12:34.723667Z",
     "iopub.status.busy": "2022-06-15T04:12:34.723211Z",
     "iopub.status.idle": "2022-06-15T04:12:35.467728Z",
     "shell.execute_reply": "2022-06-15T04:12:35.466800Z"
    }
   },
   "outputs": [],
   "source": [
    "%matplotlib inline\n",
    "%load_ext autoreload\n",
    "%autoreload 2"
   ]
  },
  {
   "cell_type": "code",
   "execution_count": 2,
   "id": "264e9781",
   "metadata": {
    "execution": {
     "iopub.execute_input": "2022-06-15T04:12:35.472625Z",
     "iopub.status.busy": "2022-06-15T04:12:35.472271Z",
     "iopub.status.idle": "2022-06-15T04:12:35.482879Z",
     "shell.execute_reply": "2022-06-15T04:12:35.481969Z"
    }
   },
   "outputs": [],
   "source": [
    "import sys\n",
    "import os\n",
    "import platform\n",
    "import re"
   ]
  },
  {
   "cell_type": "code",
   "execution_count": 3,
   "id": "dec3d711",
   "metadata": {
    "execution": {
     "iopub.execute_input": "2022-06-15T04:12:35.486927Z",
     "iopub.status.busy": "2022-06-15T04:12:35.486566Z",
     "iopub.status.idle": "2022-06-15T04:12:35.497132Z",
     "shell.execute_reply": "2022-06-15T04:12:35.496476Z"
    }
   },
   "outputs": [],
   "source": [
    "'''\n",
    "if platform.system() == 'Darwin':\n",
    "    user = 'joewandy'\n",
    "elif platform.system() == 'Windows':\n",
    "    user = 'joewa'\n",
    "    \n",
    "user_vimms = '/Users/%s/Work/git/vimms' % user\n",
    "'''\n",
    "#user_vimms = os.path.join(\"C:\\\\\", \"Users\", \"mcbrider5002\", \"Desktop\", \"Workspace\", \"phd\", \"peak_picking\", \"vimms\")\n",
    "user_vimms = \"vimms\"\n",
    "sys.path.append(user_vimms)"
   ]
  },
  {
   "cell_type": "code",
   "execution_count": 4,
   "id": "3ea184d5",
   "metadata": {
    "execution": {
     "iopub.execute_input": "2022-06-15T04:12:35.501473Z",
     "iopub.status.busy": "2022-06-15T04:12:35.501179Z",
     "iopub.status.idle": "2022-06-15T04:12:36.576557Z",
     "shell.execute_reply": "2022-06-15T04:12:36.575220Z"
    }
   },
   "outputs": [
    {
     "name": "stderr",
     "output_type": "stream",
     "text": [
      " C:\\Users\\mcbrider5002\\anaconda3\\lib\\site-packages\\psims\\mzmlb\\writer.py:15: UserWarning:hdf5plugin is missing! Only the slower GZIP compression scheme will be available! Please install hdf5plugin to be able to use Blosc.\n"
     ]
    }
   ],
   "source": [
    "from vimms.Common import (\n",
    "    POSITIVE, ROI_TYPE_SMART, ROI_EXCLUSION_WEIGHTED_DEW,\n",
    "    set_log_level_warning,\n",
    ")\n",
    "\n",
    "from vimms.Roi import RoiBuilderParams, SmartRoiParams\n",
    "from vimms.Experiment import ExperimentCase, Experiment"
   ]
  },
  {
   "cell_type": "code",
   "execution_count": 5,
   "id": "002c4d2e",
   "metadata": {
    "execution": {
     "iopub.execute_input": "2022-06-15T04:12:36.581575Z",
     "iopub.status.busy": "2022-06-15T04:12:36.581136Z",
     "iopub.status.idle": "2022-06-15T04:12:36.608094Z",
     "shell.execute_reply": "2022-06-15T04:12:36.606852Z"
    }
   },
   "outputs": [
    {
     "data": {
      "text/plain": [
       "1"
      ]
     },
     "execution_count": 5,
     "metadata": {},
     "output_type": "execute_result"
    }
   ],
   "source": [
    "ionisation_mode = POSITIVE\n",
    "pbar = False\n",
    "set_log_level_warning()"
   ]
  },
  {
   "cell_type": "markdown",
   "id": "8ebf7675",
   "metadata": {},
   "source": [
    "### Get seed data"
   ]
  },
  {
   "cell_type": "code",
   "execution_count": 6,
   "id": "6fbc4243",
   "metadata": {
    "execution": {
     "iopub.execute_input": "2022-06-15T04:12:36.613183Z",
     "iopub.status.busy": "2022-06-15T04:12:36.612864Z",
     "iopub.status.idle": "2022-06-15T04:12:36.633285Z",
     "shell.execute_reply": "2022-06-15T04:12:36.632002Z"
    }
   },
   "outputs": [],
   "source": [
    "def match_files(data_dir, regex):\n",
    "    pattern = re.compile(regex)\n",
    "    files = (\n",
    "        (int(pattern.match(fname).group(1)), fname)\n",
    "        for fname in os.listdir(data_dir)\n",
    "        if not pattern.match(fname) is None\n",
    "    )\n",
    "\n",
    "    return [\n",
    "        os.path.join(data_dir, fname) \n",
    "        for _, fname in sorted(files, key=lambda p: p[0])\n",
    "    ]"
   ]
  },
  {
   "cell_type": "code",
   "execution_count": 7,
   "id": "6ed414fd",
   "metadata": {
    "execution": {
     "iopub.execute_input": "2022-06-15T04:12:36.636753Z",
     "iopub.status.busy": "2022-06-15T04:12:36.636543Z",
     "iopub.status.idle": "2022-06-15T04:12:36.655955Z",
     "shell.execute_reply": "2022-06-15T04:12:36.654738Z"
    }
   },
   "outputs": [],
   "source": [
    "#multi_dir = \"/Users/%s/University of Glasgow/Vinny Davies - CLDS Metabolomics Project/Experimental_Results/20220706_DDAvsDIA\" % user\n",
    "multi_dir = \"20220706_DDAvsDIA\"\n",
    "multibeer_dir = os.path.join(multi_dir, \"results_1\")"
   ]
  },
  {
   "cell_type": "code",
   "execution_count": 8,
   "id": "87c33348",
   "metadata": {
    "execution": {
     "iopub.execute_input": "2022-06-15T04:12:36.659657Z",
     "iopub.status.busy": "2022-06-15T04:12:36.659329Z",
     "iopub.status.idle": "2022-06-15T04:12:36.679306Z",
     "shell.execute_reply": "2022-06-15T04:12:36.678085Z"
    }
   },
   "outputs": [],
   "source": [
    "multibeer_fullscans = match_files(multibeer_dir, r\"fullscan_beer([0-9]+)_0.mzML\")"
   ]
  },
  {
   "cell_type": "markdown",
   "id": "b176808b",
   "metadata": {},
   "source": [
    "### Specify parameters"
   ]
  },
  {
   "cell_type": "code",
   "execution_count": 9,
   "id": "9cd78048",
   "metadata": {
    "execution": {
     "iopub.execute_input": "2022-06-15T04:12:36.683619Z",
     "iopub.status.busy": "2022-06-15T04:12:36.683279Z",
     "iopub.status.idle": "2022-06-15T04:12:36.705362Z",
     "shell.execute_reply": "2022-06-15T04:12:36.704114Z"
    }
   },
   "outputs": [],
   "source": [
    "num_workers = 20 #can't always use number of physical cores because of memory constraints"
   ]
  },
  {
   "cell_type": "code",
   "execution_count": 10,
   "id": "81fb10bc",
   "metadata": {
    "execution": {
     "iopub.execute_input": "2022-06-15T04:12:36.710411Z",
     "iopub.status.busy": "2022-06-15T04:12:36.710071Z",
     "iopub.status.idle": "2022-06-15T04:12:36.733987Z",
     "shell.execute_reply": "2022-06-15T04:12:36.732936Z"
    }
   },
   "outputs": [],
   "source": [
    "search_params = {\n",
    "    \"topN_params\" : {\n",
    "        \"N\" : [1, 3, 5, 10, 20],\n",
    "        #\"N\" : [1, 5],\n",
    "        \"rt_tol\" : [15, 30, 60, 120, 240]\n",
    "       # \"rt_tol\" : [60, 120]\n",
    "    },\n",
    "    \n",
    "    \"smartroi_params\" : {\n",
    "        \"N\" : [1, 3, 5, 10, 20],\n",
    "        #\"N\" : [1, 5],\n",
    "        \"rt_tol\" : [15],\n",
    "        \"smartroi_params\" : [\n",
    "            SmartRoiParams(\n",
    "                reset_length_seconds=1E6,\n",
    "                intensity_increase_factor=alpha,\n",
    "                drop_perc=beta\n",
    "            )\n",
    "            for alpha in [2, 3, 5, 10] for beta in [0, 1E-3, 1E-2, 1E-1]\n",
    "            #for alpha in [2, 3] for beta in [0, 1E-3]\n",
    "        ]\n",
    "    },\n",
    "    \n",
    "    \"weighteddew_params\" : {\n",
    "        \"exclusion_method\": [ROI_EXCLUSION_WEIGHTED_DEW],\n",
    "        \"N\" : [1, 3, 5, 10, 20],\n",
    "        #\"N\" : [1, 5],\n",
    "        \"rt_tol\" : [15, 30, 60, 120, 240],\n",
    "        #\"rt_tol\" : [15, 30],\n",
    "        \"exclusion_t_0\" : [1, 10, 15, 30, 60]\n",
    "        #\"exclusion_t_0\" : [1, 10]\n",
    "    }\n",
    "}"
   ]
  },
  {
   "cell_type": "code",
   "execution_count": 11,
   "id": "ceb9da5d",
   "metadata": {
    "execution": {
     "iopub.execute_input": "2022-06-15T04:12:36.737668Z",
     "iopub.status.busy": "2022-06-15T04:12:36.737456Z",
     "iopub.status.idle": "2022-06-15T04:12:36.757739Z",
     "shell.execute_reply": "2022-06-15T04:12:36.756622Z"
    }
   },
   "outputs": [],
   "source": [
    "shared_params = {\n",
    "    \"topN_params\": {\n",
    "        \"ionisation_mode\" : ionisation_mode,\n",
    "        \"isolation_width\" : 1,\n",
    "        \"min_ms1_intensity\" : 5000,\n",
    "        \"mz_tol\" : 10,\n",
    "    },\n",
    "    \n",
    "    \"roi_params\" : {\n",
    "        \"min_roi_length_for_fragmentation\" : 0,\n",
    "        \"roi_params\" : RoiBuilderParams(\n",
    "                            min_roi_intensity=0,\n",
    "                            min_roi_length=3,\n",
    "                       )\n",
    "    }\n",
    "}\n",
    "\n",
    "min_rt = 0\n",
    "max_rt = 1440\n",
    "scan_duration_dict = {\n",
    "    1: 0.59,\n",
    "    2: 0.19\n",
    "}"
   ]
  },
  {
   "cell_type": "code",
   "execution_count": 12,
   "id": "09a225be",
   "metadata": {
    "execution": {
     "iopub.execute_input": "2022-06-15T04:12:36.761785Z",
     "iopub.status.busy": "2022-06-15T04:12:36.761469Z",
     "iopub.status.idle": "2022-06-15T04:12:36.780828Z",
     "shell.execute_reply": "2022-06-15T04:12:36.779653Z"
    }
   },
   "outputs": [],
   "source": [
    "topN_shared = shared_params[\"topN_params\"]\n",
    "roi_shared = {**topN_shared, **shared_params[\"roi_params\"]}"
   ]
  },
  {
   "cell_type": "markdown",
   "id": "40792f59",
   "metadata": {},
   "source": [
    "# Grid Search"
   ]
  },
  {
   "cell_type": "code",
   "execution_count": null,
   "id": "207b4ffe",
   "metadata": {
    "execution": {
     "iopub.execute_input": "2022-06-15T04:12:36.785510Z",
     "iopub.status.busy": "2022-06-15T04:12:36.785298Z",
     "iopub.status.idle": "2022-06-15T10:23:51.118221Z",
     "shell.execute_reply": "2022-06-15T10:23:51.116431Z"
    }
   },
   "outputs": [
    {
     "name": "stdout",
     "output_type": "stream",
     "text": [
      "GRID SEARCH OF 230 CASES\n",
      "Creating Chemicals...\n"
     ]
    }
   ],
   "source": [
    "repeat = 6\n",
    "out_dir = \"real_same_grid_search\"\n",
    "\n",
    "search_exp = Experiment.run_grid_search(\n",
    "    \"intensity_non_overlap\",\n",
    "    multibeer_fullscans[:1] * repeat,\n",
    "    roi_shared,\n",
    "    search_params,\n",
    "    out_dir,\n",
    "    min_rt=min_rt,\n",
    "    max_rt=max_rt,\n",
    "    ionisation_mode=ionisation_mode,\n",
    "    scan_duration_dict=scan_duration_dict,\n",
    "    num_workers=num_workers\n",
    ")"
   ]
  },
  {
   "cell_type": "code",
   "execution_count": null,
   "id": "ad28035d",
   "metadata": {},
   "outputs": [],
   "source": []
  }
 ],
 "metadata": {
  "kernelspec": {
   "display_name": "Python 3 (ipykernel)",
   "language": "python",
   "name": "python3"
  },
  "language_info": {
   "codemirror_mode": {
    "name": "ipython",
    "version": 3
   },
   "file_extension": ".py",
   "mimetype": "text/x-python",
   "name": "python",
   "nbconvert_exporter": "python",
   "pygments_lexer": "ipython3",
   "version": "3.9.12"
  }
 },
 "nbformat": 4,
 "nbformat_minor": 5
}
