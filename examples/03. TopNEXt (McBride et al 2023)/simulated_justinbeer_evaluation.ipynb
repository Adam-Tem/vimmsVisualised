{
 "cells": [
  {
   "cell_type": "code",
   "execution_count": null,
   "id": "c26bc87b",
   "metadata": {
    "execution": {
     "iopub.execute_input": "2022-12-18T06:47:19.152968Z",
     "iopub.status.busy": "2022-12-18T06:47:19.152359Z",
     "iopub.status.idle": "2022-12-18T06:47:19.877051Z",
     "shell.execute_reply": "2022-12-18T06:47:19.876188Z"
    }
   },
   "outputs": [],
   "source": [
    "%matplotlib inline\n",
    "%load_ext autoreload\n",
    "%autoreload 2"
   ]
  },
  {
   "cell_type": "code",
   "execution_count": null,
   "id": "264e9781",
   "metadata": {
    "execution": {
     "iopub.execute_input": "2022-12-18T06:47:19.881872Z",
     "iopub.status.busy": "2022-12-18T06:47:19.881558Z",
     "iopub.status.idle": "2022-12-18T06:47:19.891403Z",
     "shell.execute_reply": "2022-12-18T06:47:19.890644Z"
    }
   },
   "outputs": [],
   "source": [
    "import math\n",
    "import sys\n",
    "import os\n",
    "import platform\n",
    "import itertools\n",
    "\n",
    "from matplotlib.lines import Line2D\n",
    "from matplotlib.ticker import MultipleLocator\n",
    "import matplotlib.pyplot as plt"
   ]
  },
  {
   "cell_type": "code",
   "execution_count": null,
   "id": "dec3d711",
   "metadata": {
    "execution": {
     "iopub.execute_input": "2022-12-18T06:47:19.895701Z",
     "iopub.status.busy": "2022-12-18T06:47:19.895466Z",
     "iopub.status.idle": "2022-12-18T06:47:19.905065Z",
     "shell.execute_reply": "2022-12-18T06:47:19.904352Z"
    }
   },
   "outputs": [],
   "source": [
    "user_vimms = \"vimms\"\n",
    "sys.path.append(user_vimms)"
   ]
  },
  {
   "cell_type": "code",
   "execution_count": null,
   "id": "16d971d4",
   "metadata": {
    "execution": {
     "iopub.execute_input": "2022-12-18T06:47:19.908988Z",
     "iopub.status.busy": "2022-12-18T06:47:19.908684Z",
     "iopub.status.idle": "2022-12-18T06:47:19.921109Z",
     "shell.execute_reply": "2022-12-18T06:47:19.920508Z"
    }
   },
   "outputs": [],
   "source": [
    "mzmine_path = os.path.join(\"MZmine-2.53-Windows\", \"startMZmine-Windows.bat\")\n",
    "old_mzmine = True\n",
    "template_suffix = \"_old\" if old_mzmine else \"\"\n",
    "mzmine_template = os.path.join(user_vimms, \"batch_files\", f\"multi_sample_peak_pick{template_suffix}.xml\")"
   ]
  },
  {
   "cell_type": "code",
   "execution_count": null,
   "id": "3ea184d5",
   "metadata": {
    "execution": {
     "iopub.execute_input": "2022-12-18T06:47:19.925803Z",
     "iopub.status.busy": "2022-12-18T06:47:19.925497Z",
     "iopub.status.idle": "2022-12-18T06:47:20.924366Z",
     "shell.execute_reply": "2022-12-18T06:47:20.923489Z"
    }
   },
   "outputs": [],
   "source": [
    "from vimms.Common import (\n",
    "    POSITIVE, load_obj,\n",
    "    set_log_level_warning,\n",
    ")\n",
    "from vimms.Experiment import Experiment\n",
    "from vimms.BoxVisualise import (\n",
    "    mpl_results_plot, plotly_results_plot,\n",
    "    mpl_set_axis_style, mpl_set_figure_style,\n",
    "    plotly_timing_hist, seaborn_timing_hist,\n",
    "    mpl_fragmentation_events, plotly_fragmentation_events,\n",
    "    mpl_fragmented_boxes,\n",
    "    seaborn_uncovered_area_hist,\n",
    "    BoxViewer\n",
    ")"
   ]
  },
  {
   "cell_type": "code",
   "execution_count": null,
   "id": "002c4d2e",
   "metadata": {
    "execution": {
     "iopub.execute_input": "2022-12-18T06:47:20.930439Z",
     "iopub.status.busy": "2022-12-18T06:47:20.930000Z",
     "iopub.status.idle": "2022-12-18T06:47:20.957174Z",
     "shell.execute_reply": "2022-12-18T06:47:20.956508Z"
    }
   },
   "outputs": [],
   "source": [
    "ionisation_mode = POSITIVE\n",
    "pbar = False\n",
    "set_log_level_warning()"
   ]
  },
  {
   "cell_type": "code",
   "execution_count": null,
   "id": "c3213a11",
   "metadata": {
    "execution": {
     "iopub.execute_input": "2022-12-18T06:47:20.962829Z",
     "iopub.status.busy": "2022-12-18T06:47:20.962487Z",
     "iopub.status.idle": "2022-12-18T06:47:20.987054Z",
     "shell.execute_reply": "2022-12-18T06:47:20.986450Z"
    }
   },
   "outputs": [],
   "source": [
    "#multi_dir = \"/Users/%s/University of Glasgow/Vinny Davies - CLDS Metabolomics Project/Data/multibeers_urine_data\" % user\n",
    "#multi_dir = os.path.join(\"C:\\\\\", \"Users\", \"mcbrider5002\", \"Desktop\", \"Workspace\", \"phd\", \"data\", \"CLMS\", \"multibeers_urine_data\")\n",
    "multi_dir = \"multibeers_urine_data\"\n",
    "multibeer_dir = os.path.join(multi_dir, \"beers\", \"fullscan\", \"mzML\")\n",
    "multiurine_dir = os.path.join(multi_dir, \"urines\", \"fullscan\", \"mzML\")"
   ]
  },
  {
   "cell_type": "code",
   "execution_count": null,
   "id": "02819891",
   "metadata": {
    "execution": {
     "iopub.execute_input": "2022-12-18T06:47:20.990018Z",
     "iopub.status.busy": "2022-12-18T06:47:20.989798Z",
     "iopub.status.idle": "2022-12-18T06:47:21.010504Z",
     "shell.execute_reply": "2022-12-18T06:47:21.009633Z"
    }
   },
   "outputs": [],
   "source": [
    "num_workers = 8 #can't always use number of physical cores because of memory constraints"
   ]
  },
  {
   "cell_type": "markdown",
   "id": "14610913",
   "metadata": {},
   "source": [
    "Utilities"
   ]
  },
  {
   "cell_type": "code",
   "execution_count": null,
   "id": "c8b0dc60",
   "metadata": {
    "execution": {
     "iopub.execute_input": "2022-12-18T06:47:21.014405Z",
     "iopub.status.busy": "2022-12-18T06:47:21.014060Z",
     "iopub.status.idle": "2022-12-18T06:47:21.038416Z",
     "shell.execute_reply": "2022-12-18T06:47:21.037857Z"
    }
   },
   "outputs": [],
   "source": [
    "def load_pkls(pickle_dir, case_names, repeat, load_rois=False):\n",
    "    exp_pkls = {}\n",
    "    for case_name in case_names:\n",
    "        roi_str = \"_rois\" if load_rois else \"\"\n",
    "        exp_pickle_paths = [f\"{os.path.join(pickle_dir, case_name)}_{i}{roi_str}.pkl\" for i in range(repeat)]\n",
    "        exp_pkls[case_name] = [load_obj(pkl) for pkl in exp_pickle_paths]\n",
    "    return exp_pkls"
   ]
  },
  {
   "cell_type": "markdown",
   "id": "be1b05fb",
   "metadata": {},
   "source": [
    "Specify styles for mpl plots"
   ]
  },
  {
   "cell_type": "code",
   "execution_count": null,
   "id": "22b36700",
   "metadata": {
    "execution": {
     "iopub.execute_input": "2022-12-18T06:47:21.043322Z",
     "iopub.status.busy": "2022-12-18T06:47:21.043035Z",
     "iopub.status.idle": "2022-12-18T06:47:21.067154Z",
     "shell.execute_reply": "2022-12-18T06:47:21.066454Z"
    }
   },
   "outputs": [],
   "source": [
    "mpl_colours = plt.rcParams[\"axes.prop_cycle\"].by_key()[\"color\"]\n",
    "colour_iterator = itertools.cycle(mpl_colours)\n",
    "colour_map = {\n",
    "    \"topN\" : mpl_colours[5],\n",
    "    \"topN_RoI\" : mpl_colours[7],\n",
    "    \"topN_exclusion\" : mpl_colours[1],\n",
    "    \"topNEx\" : mpl_colours[2],\n",
    "    \"hard_roi_exclusion\" : mpl_colours[0],\n",
    "    \"intensity_roi_exclusion\" : mpl_colours[8],\n",
    "    \"non_overlap\" : mpl_colours[6],\n",
    "    \"intensity_non_overlap\" : mpl_colours[3],\n",
    "    \n",
    "}\n",
    "\n",
    "def update_cmap(name):\n",
    "    if(not name in colour_map):\n",
    "        colour_map[name] = next(mpl_colours)\n",
    "    return colour_map[name]\n",
    "\n",
    "def get_style(name):\n",
    "    if(name.lower().endswith(\"smartroi\")):\n",
    "        c = update_cmap(\"_\".join(name.split(\"_\")[:-1]))\n",
    "        return c, \"v\"\n",
    "    elif(name.lower().endswith(\"weighteddew\")):\n",
    "        c = update_cmap(\"_\".join(name.split(\"_\")[:-1]))\n",
    "        return c, \"^\"\n",
    "    else:\n",
    "        c = update_cmap(name)\n",
    "        return c, \"o\"\n",
    "    \n",
    "def get_line_styles(case_names):\n",
    "    colours, markers = [], []\n",
    "    for case_name in case_names:\n",
    "        c, m = get_style(case_name)\n",
    "        colours.append(c)\n",
    "        markers.append(m)\n",
    "    return colours, markers"
   ]
  },
  {
   "cell_type": "code",
   "execution_count": null,
   "id": "342e772c",
   "metadata": {
    "execution": {
     "iopub.execute_input": "2022-12-18T06:47:21.071212Z",
     "iopub.status.busy": "2022-12-18T06:47:21.070907Z",
     "iopub.status.idle": "2022-12-18T06:47:21.099501Z",
     "shell.execute_reply": "2022-12-18T06:47:21.098805Z"
    }
   },
   "outputs": [],
   "source": [
    "name_map = {\n",
    "    \"topN\" : \"TopN\",\n",
    "    \"topN_RoI\" : \"TopN RoI\",\n",
    "    \"topN_exclusion\" : \"TopN Exclusion\",\n",
    "    \"topNEx\" : \"TopNEx\",\n",
    "    \"hard_roi_exclusion\" : \"Hard RoI Exclusion\",\n",
    "    \"intensity_roi_exclusion\" : \"Intensity RoI Exclusion\",\n",
    "    \"non_overlap\" : \"Non-Overlap\",\n",
    "    \"intensity_non_overlap\" : \"Intensity Non-Overlap\",\n",
    "    \n",
    "}\n",
    "\n",
    "markersize = 11\n",
    "\n",
    "legend_elements = [\n",
    "    Line2D([0], [0], marker=\"o\", color=\"black\", label=\"Standard DEW\", markerfacecolor=\"black\", markersize=markersize),\n",
    "    Line2D([0], [0], marker=\"^\", color=\"black\", label=\"WeightedDEW\", markerfacecolor=\"black\", markersize=markersize),\n",
    "    Line2D([0], [0], marker=\"v\", color=\"black\", label=\"SmartRoI\", markerfacecolor=\"black\", markersize=markersize),\n",
    "    Line2D([0], [0], color=\"white\", label=\"\", markerfacecolor=\"black\", markersize=markersize),\n",
    "]\n",
    "    \n",
    "for name, colour in colour_map.items():\n",
    "    legend_elements.append(\n",
    "        Line2D([0], [0], marker=\"s\", color=\"white\", label=name_map[name], markerfacecolor=colour, markersize=14)\n",
    "    )"
   ]
  },
  {
   "cell_type": "code",
   "execution_count": null,
   "id": "14dff0af",
   "metadata": {
    "execution": {
     "iopub.execute_input": "2022-12-18T06:47:21.104395Z",
     "iopub.status.busy": "2022-12-18T06:47:21.104102Z",
     "iopub.status.idle": "2022-12-18T06:47:21.124743Z",
     "shell.execute_reply": "2022-12-18T06:47:21.124038Z"
    }
   },
   "outputs": [],
   "source": [
    "fig_kwargs = {\n",
    "    \"tick_kwargs\" : {\n",
    "        \"width\" : 2.5,\n",
    "        \"length\" : 12,\n",
    "        \"labelsize\" : 22,\n",
    "    },\n",
    "    \n",
    "    \"axis_borderwidth\" : 2.5,\n",
    "    \n",
    "    \"axis_kwargs\" : {\n",
    "        \"labelsize\" : 24,\n",
    "        \"titlesize\" : 24,\n",
    "        \"linewidth\" : 1.5,\n",
    "        \"markersize\" : 6,\n",
    "        \"legend_kwargs\" : {\n",
    "            \"handles\" : legend_elements,\n",
    "            \"fontsize\" : 13\n",
    "        }\n",
    "    },\n",
    "    \n",
    "    \"suptitle\" : \"Default Suptitle\",\n",
    "    \"suptitle_size\" : 18,\n",
    "    \"figure_sizes\" : (18, 8),\n",
    "}"
   ]
  },
  {
   "cell_type": "markdown",
   "id": "abca659c",
   "metadata": {},
   "source": [
    "# 1. Same Beer Repeated Multiple Times"
   ]
  },
  {
   "cell_type": "markdown",
   "id": "204067e1",
   "metadata": {},
   "source": [
    "### Evaluate"
   ]
  },
  {
   "cell_type": "code",
   "execution_count": null,
   "id": "8c2dff72",
   "metadata": {
    "execution": {
     "iopub.execute_input": "2022-12-18T06:47:21.131205Z",
     "iopub.status.busy": "2022-12-18T06:47:21.130894Z",
     "iopub.status.idle": "2022-12-18T06:47:21.155121Z",
     "shell.execute_reply": "2022-12-18T06:47:21.154531Z"
    }
   },
   "outputs": [],
   "source": [
    "repeat = 20\n",
    "out_dir = \"same_beer\"\n",
    "\n",
    "same_case_names = [\n",
    "    \"topN\",\n",
    "    \"topN_RoI\",\n",
    "    \"topN_exclusion\",\n",
    "    \"topNEx\",\n",
    "    \"topNEx_smartroi\",\n",
    "    \"topNEx_weighteddew\",\n",
    "    \"hard_roi_exclusion\",\n",
    "    \"hard_roi_exclusion_smartroi\",\n",
    "    \"hard_roi_exclusion_weighteddew\",\n",
    "    \"intensity_roi_exclusion\",\n",
    "    \"intensity_roi_exclusion_smartroi\",\n",
    "    \"intensity_roi_exclusion_weighteddew\",\n",
    "    \"non_overlap\",\n",
    "    \"non_overlap_smartroi\",\n",
    "    \"non_overlap_weighteddew\",\n",
    "    \"intensity_non_overlap\",\n",
    "    \"intensity_non_overlap_smartroi\",\n",
    "    \"intensity_non_overlap_weighteddew\",\n",
    "]\n",
    "\n",
    "line_colours, line_markers = get_line_styles(same_case_names)"
   ]
  },
  {
   "cell_type": "code",
   "execution_count": null,
   "id": "2a171cc1",
   "metadata": {
    "execution": {
     "iopub.execute_input": "2022-12-18T06:47:21.160356Z",
     "iopub.status.busy": "2022-12-18T06:47:21.160061Z",
     "iopub.status.idle": "2022-12-18T06:47:21.181760Z",
     "shell.execute_reply": "2022-12-18T06:47:21.180987Z"
    }
   },
   "outputs": [],
   "source": [
    "same_beer_exp = Experiment.load_from_json(\n",
    "    file_dir = out_dir,\n",
    "    file_name = \"keyfile.json\",\n",
    "    out_dir = out_dir,\n",
    "    fullscan_dir = multibeer_dir,\n",
    "    amend_result_path = True,\n",
    "    case_names = same_case_names\n",
    ")"
   ]
  },
  {
   "cell_type": "code",
   "execution_count": null,
   "id": "2f49a412",
   "metadata": {
    "execution": {
     "iopub.execute_input": "2022-12-18T06:47:21.184836Z",
     "iopub.status.busy": "2022-12-18T06:47:21.184533Z",
     "iopub.status.idle": "2022-12-18T07:28:19.371455Z",
     "shell.execute_reply": "2022-12-18T07:28:19.370001Z"
    }
   },
   "outputs": [],
   "source": [
    "isolation_width = 1.0\n",
    "true_repeat = min(\n",
    "    repeat,\n",
    "    len(same_beer_exp.case_mzmls[same_beer_exp.case_names[0]])\n",
    ")\n",
    "\n",
    "same_beer_exp.evaluate(\n",
    "    num_workers = num_workers,\n",
    "    isolation_widths = isolation_width,\n",
    "    max_repeat = repeat,\n",
    "    aligned_names = f\"multibeers_1_{true_repeat}\" + template_suffix,\n",
    "    mzmine_templates = mzmine_template,\n",
    "    mzmine_exe = mzmine_path,\n",
    "    force_peak_picking = False\n",
    ")\n",
    "\n",
    "same_beer_exp.summarise(num_workers=num_workers, rank_key=\"cumulative_intensity_proportion\")"
   ]
  },
  {
   "cell_type": "markdown",
   "id": "cde8c650",
   "metadata": {},
   "source": [
    "### Plot"
   ]
  },
  {
   "cell_type": "code",
   "execution_count": null,
   "id": "fefc937a",
   "metadata": {
    "execution": {
     "iopub.execute_input": "2022-12-18T07:28:19.376994Z",
     "iopub.status.busy": "2022-12-18T07:28:19.376700Z",
     "iopub.status.idle": "2022-12-18T08:03:10.835727Z",
     "shell.execute_reply": "2022-12-18T08:03:10.834786Z"
    }
   },
   "outputs": [],
   "source": [
    "#non-interactive plot, but is just an image so will persist if notebook is refreshed\n",
    "fig, axes = mpl_results_plot(\n",
    "    same_case_names,\n",
    "    same_beer_exp.evaluators,\n",
    "    min_intensity=0.0,\n",
    "    colours=line_colours,\n",
    "    markers=line_markers\n",
    ")\n",
    "\n",
    "kwargs = {\n",
    "    **fig_kwargs, \n",
    "    \"suptitle\" : f\"Same Beer\", \n",
    "    \"suptitle_size\" : 26\n",
    "}\n",
    "mpl_set_figure_style(fig, **kwargs)\n",
    "mpl_set_axis_style(axes[1], legend_kwargs={**fig_kwargs[\"axis_kwargs\"][\"legend_kwargs\"], \"loc\" : \"lower right\"})"
   ]
  },
  {
   "cell_type": "code",
   "execution_count": null,
   "id": "d4e1b644",
   "metadata": {
    "execution": {
     "iopub.execute_input": "2022-12-18T08:03:10.845803Z",
     "iopub.status.busy": "2022-12-18T08:03:10.845488Z",
     "iopub.status.idle": "2022-12-18T08:37:39.686804Z",
     "shell.execute_reply": "2022-12-18T08:37:39.685523Z"
    }
   },
   "outputs": [],
   "source": [
    "#interactive plot, but volatile\n",
    "plotly_results_plot(\n",
    "    same_case_names,\n",
    "    same_beer_exp.evaluators,\n",
    "    min_intensity=0.0,\n",
    "    suptitle=\"Repeated Same Beer\"\n",
    ")"
   ]
  },
  {
   "cell_type": "markdown",
   "id": "e92f65d5",
   "metadata": {},
   "source": [
    "### Some other useful plots"
   ]
  },
  {
   "cell_type": "code",
   "execution_count": null,
   "id": "ef42ea1e",
   "metadata": {
    "execution": {
     "iopub.execute_input": "2022-12-18T08:37:39.740188Z",
     "iopub.status.busy": "2022-12-18T08:37:39.739621Z",
     "iopub.status.idle": "2022-12-18T08:41:25.419648Z",
     "shell.execute_reply": "2022-12-18T08:41:25.418191Z"
    }
   },
   "outputs": [],
   "source": [
    "plot_repeat = 6\n",
    "\n",
    "timings = same_case_names\n",
    "timings = [t for t in timings if t in same_case_names]\n",
    "\n",
    "frag_plots = [\n",
    "    \"topN_exclusion\",\n",
    "    \"hard_roi_exclusion\",\n",
    "    \"non_overlap\",\n",
    "    \"intensity_non_overlap\",\n",
    "    \"non_overlap_smartroi\",\n",
    "]\n",
    "frag_plots = [fp for fp in frag_plots if fp in same_case_names]\n",
    "\n",
    "cover_plots = [\n",
    "    \"non_overlap\",\n",
    "    \"intensity_non_overlap\"\n",
    "]\n",
    "cover_plots = [c for c in cover_plots if c in same_case_names]\n",
    "\n",
    "pickle_dir = os.path.join(os.path.abspath(out_dir), \"pickle\")\n",
    "needs_pkl = list(\n",
    "    set(same_case_names) & (set(timings) | set(frag_plots))\n",
    ")\n",
    "\n",
    "plot_repeat = min(\n",
    "    min(len(same_beer_exp.case_mzmls[case]) for case in needs_pkl), \n",
    "    repeat,\n",
    "    plot_repeat\n",
    ")\n",
    "case_pkls = load_pkls(pickle_dir, needs_pkl, plot_repeat)"
   ]
  },
  {
   "cell_type": "code",
   "execution_count": null,
   "id": "fe4c61ee",
   "metadata": {
    "execution": {
     "iopub.execute_input": "2022-12-18T08:41:25.427718Z",
     "iopub.status.busy": "2022-12-18T08:41:25.427178Z",
     "iopub.status.idle": "2022-12-18T08:48:43.374122Z",
     "shell.execute_reply": "2022-12-18T08:48:43.372994Z"
    }
   },
   "outputs": [],
   "source": [
    "for case_name in timings:\n",
    "    processing_times = [penv.processing_times for penv in case_pkls[case_name]]\n",
    "    fig, ax = seaborn_timing_hist(processing_times, binsize=0.001)\n",
    "    mpl_set_figure_style(fig, suptitle=case_name, suptitle_size=18)\n",
    "    del processing_times"
   ]
  },
  {
   "cell_type": "code",
   "execution_count": null,
   "id": "b9a24f34",
   "metadata": {
    "execution": {
     "iopub.execute_input": "2022-12-18T08:48:43.380741Z",
     "iopub.status.busy": "2022-12-18T08:48:43.380459Z",
     "iopub.status.idle": "2022-12-18T08:48:45.327421Z",
     "shell.execute_reply": "2022-12-18T08:48:45.326702Z"
    }
   },
   "outputs": [],
   "source": [
    "for case_name in timings:\n",
    "    processing_times = [penv.processing_times for penv in case_pkls[case_name]]\n",
    "    plotly_timing_hist(processing_times, case_name, binsize=0.001)\n",
    "    del processing_times"
   ]
  },
  {
   "cell_type": "code",
   "execution_count": null,
   "id": "2f883dd3",
   "metadata": {
    "execution": {
     "iopub.execute_input": "2022-12-18T08:48:45.343610Z",
     "iopub.status.busy": "2022-12-18T08:48:45.343306Z",
     "iopub.status.idle": "2022-12-18T09:03:07.529422Z",
     "shell.execute_reply": "2022-12-18T09:03:07.528282Z"
    }
   },
   "outputs": [],
   "source": [
    "for case_name in frag_plots:\n",
    "    mzmls = [mzml for _, mzml in same_beer_exp.case_mzmls[case_name]]\n",
    "    mpl_fragmentation_events(case_name, mzmls, colour_minm=math.log(500.0))\n",
    "    del mzmls"
   ]
  },
  {
   "cell_type": "code",
   "execution_count": null,
   "id": "cec4c9aa",
   "metadata": {
    "execution": {
     "iopub.execute_input": "2022-12-18T09:03:07.618397Z",
     "iopub.status.busy": "2022-12-18T09:03:07.618052Z",
     "iopub.status.idle": "2022-12-18T09:16:41.184871Z",
     "shell.execute_reply": "2022-12-18T09:16:41.183854Z"
    }
   },
   "outputs": [],
   "source": [
    "for case_name in frag_plots:\n",
    "    mzmls = [mzml for _, mzml in same_beer_exp.case_mzmls[case_name]]\n",
    "    plotly_fragmentation_events(case_name, mzmls, colour_minm=math.log(500.0))\n",
    "    del mzmls"
   ]
  },
  {
   "cell_type": "code",
   "execution_count": null,
   "id": "844cf254",
   "metadata": {
    "execution": {
     "iopub.execute_input": "2022-12-18T09:16:41.770023Z",
     "iopub.status.busy": "2022-12-18T09:16:41.769339Z",
     "iopub.status.idle": "2022-12-18T09:26:39.105968Z",
     "shell.execute_reply": "2022-12-18T09:26:39.104887Z"
    }
   },
   "outputs": [],
   "source": [
    "for case_name in frag_plots:\n",
    "    eva_i = same_beer_exp.case_names.index(case_name)\n",
    "    mpl_fragmented_boxes(case_name, same_beer_exp.evaluators[eva_i], min_intensity=0.0)\n",
    "    mpl_set_figure_style(fig, figure_sizes=(20, 10))"
   ]
  },
  {
   "cell_type": "code",
   "execution_count": null,
   "id": "8727ac5c",
   "metadata": {
    "execution": {
     "iopub.execute_input": "2022-12-18T09:26:39.113481Z",
     "iopub.status.busy": "2022-12-18T09:26:39.113222Z",
     "iopub.status.idle": "2022-12-18T09:39:01.607130Z",
     "shell.execute_reply": "2022-12-18T09:39:01.606236Z"
    }
   },
   "outputs": [],
   "source": [
    "for case_name in cover_plots:\n",
    "    eva_i = same_beer_exp.case_names.index(case_name)\n",
    "    \n",
    "    box_likes = [penv.bm.box_geometry.get_all_boxes() for penv in case_pkls[case_name]]\n",
    "    ex_figs = seaborn_uncovered_area_hist(\n",
    "        same_beer_exp.evaluators[eva_i],\n",
    "        box_likes,\n",
    "        binsize=None\n",
    "    )\n",
    "    \n",
    "    for fig, ax, name in ex_figs:\n",
    "        mpl_set_figure_style(fig, suptitle=case_name + f\" {name.lower()} pp box uncovered area w.r.t exclusion box\", suptitle_size=18)\n",
    "    \n",
    "    box_likes = load_pkls(pickle_dir, [case_name], plot_repeat, load_rois=True)[case_name]\n",
    "    roi_figs = seaborn_uncovered_area_hist(\n",
    "        same_beer_exp.evaluators[eva_i],\n",
    "        box_likes,\n",
    "        binsize=None\n",
    "    )\n",
    "    \n",
    "    for fig, ax, name in roi_figs:\n",
    "        mpl_set_figure_style(fig, suptitle=case_name + f\" {name.lower()} pp box uncovered area w.r.t roi box\", suptitle_size=18)\n",
    "    \n",
    "    del box_likes"
   ]
  },
  {
   "cell_type": "markdown",
   "id": "72b52cd7",
   "metadata": {},
   "source": [
    "### View Individual Features"
   ]
  },
  {
   "cell_type": "code",
   "execution_count": null,
   "id": "82ad39fe",
   "metadata": {
    "execution": {
     "iopub.execute_input": "2022-12-18T09:39:01.613883Z",
     "iopub.status.busy": "2022-12-18T09:39:01.613624Z",
     "iopub.status.idle": "2022-12-18T09:53:28.530528Z",
     "shell.execute_reply": "2022-12-18T09:53:28.529339Z"
    }
   },
   "outputs": [],
   "source": [
    "to_view = \"intensity_non_overlap\"\n",
    "eva_i = same_beer_exp.case_names.index(to_view)\n",
    "view_rois = load_pkls(pickle_dir, [to_view], plot_repeat, load_rois=True)[to_view]\n",
    "    \n",
    "viewer = BoxViewer()\n",
    "viewer.set_mzmls([mzml for _, mzml in same_beer_exp.case_mzmls[to_view][:plot_repeat]])\n",
    "viewer.add_evaluator_boxes([same_beer_exp.evaluators[eva_i]] * plot_repeat, name=\"fragmented\", min_intensity=0.0)\n",
    "viewer.add_roi_boxes(view_rois)\n",
    "viewer.add_geom_boxes([penv.bm.box_geometry for penv in case_pkls[to_view]])\n",
    "viewer.summarise()"
   ]
  },
  {
   "cell_type": "code",
   "execution_count": null,
   "id": "e9e7d1c5",
   "metadata": {
    "execution": {
     "iopub.execute_input": "2022-12-18T09:53:28.538205Z",
     "iopub.status.busy": "2022-12-18T09:53:28.537924Z",
     "iopub.status.idle": "2022-12-18T09:53:34.321250Z",
     "shell.execute_reply": "2022-12-18T09:53:34.320327Z"
    }
   },
   "outputs": [],
   "source": [
    "#for the justinbeers with min_intensity=5000, duty cycle never runs out of things to do, so scans happen in exact same sequence\n",
    "#with fixed scan lengths points then line up exactly\n",
    "#in other circumstances this may not be the case\n",
    "\n",
    "box_index = 0\n",
    "boxset_index = 0\n",
    "rt_buffer = 3\n",
    "mz_buffer = 1E-3\n",
    "\n",
    "fig, axes = viewer.mpl_show_box(\n",
    "    box_index=box_index,\n",
    "    boxset_index=boxset_index,\n",
    "    rt_buffer=rt_buffer,\n",
    "    mz_buffer=mz_buffer,\n",
    "    ms_level=1,\n",
    "    colour_minm=math.log(500.0),\n",
    "    abs_scaling=True\n",
    ")\n",
    "\n",
    "mpl_set_figure_style(fig, suptitle=to_view, suptitle_size=18)"
   ]
  },
  {
   "cell_type": "code",
   "execution_count": null,
   "id": "3463b5ec",
   "metadata": {
    "execution": {
     "iopub.execute_input": "2022-12-18T09:53:34.333972Z",
     "iopub.status.busy": "2022-12-18T09:53:34.333646Z",
     "iopub.status.idle": "2022-12-18T09:53:34.670897Z",
     "shell.execute_reply": "2022-12-18T09:53:34.670126Z"
    }
   },
   "outputs": [],
   "source": [
    "viewer.summarise_box(\n",
    "    box_index=box_index,\n",
    "    boxset_index=boxset_index,\n",
    "    rt_buffer=rt_buffer,\n",
    "    mz_buffer=mz_buffer\n",
    ")"
   ]
  },
  {
   "cell_type": "code",
   "execution_count": null,
   "id": "f12b726f",
   "metadata": {
    "execution": {
     "iopub.execute_input": "2022-12-18T09:53:34.675424Z",
     "iopub.status.busy": "2022-12-18T09:53:34.675172Z",
     "iopub.status.idle": "2022-12-18T09:53:41.743427Z",
     "shell.execute_reply": "2022-12-18T09:53:41.742141Z"
    }
   },
   "outputs": [],
   "source": [
    "del case_pkls\n",
    "del view_rois"
   ]
  },
  {
   "cell_type": "code",
   "execution_count": null,
   "id": "6e0aa073",
   "metadata": {
    "execution": {
     "iopub.execute_input": "2022-12-18T09:53:41.764815Z",
     "iopub.status.busy": "2022-12-18T09:53:41.764549Z",
     "iopub.status.idle": "2022-12-18T09:53:42.458045Z",
     "shell.execute_reply": "2022-12-18T09:53:42.457053Z"
    }
   },
   "outputs": [],
   "source": [
    "del viewer"
   ]
  },
  {
   "cell_type": "markdown",
   "id": "04c76ef3",
   "metadata": {},
   "source": [
    "# 2. Different Beers"
   ]
  },
  {
   "cell_type": "code",
   "execution_count": null,
   "id": "e503d08d",
   "metadata": {
    "execution": {
     "iopub.execute_input": "2022-12-18T09:53:42.472494Z",
     "iopub.status.busy": "2022-12-18T09:53:42.472239Z",
     "iopub.status.idle": "2022-12-18T09:53:42.511047Z",
     "shell.execute_reply": "2022-12-18T09:53:42.510250Z"
    }
   },
   "outputs": [],
   "source": [
    "repeat = 19\n",
    "out_dir = \"different_beer\"\n",
    "\n",
    "diff_case_names = [\n",
    "    \"topN\",\n",
    "    \"topN_RoI\",\n",
    "    \"topN_exclusion\",\n",
    "    \"topNEx\",\n",
    "    \"topNEx_smartroi\",\n",
    "    \"topNEx_weighteddew\",\n",
    "    \"hard_roi_exclusion\",\n",
    "    \"hard_roi_exclusion_smartroi\",\n",
    "    \"hard_roi_exclusion_weighteddew\",\n",
    "    \"intensity_roi_exclusion\",\n",
    "    \"intensity_roi_exclusion_smartroi\",\n",
    "    \"intensity_roi_exclusion_weighteddew\",\n",
    "    \"non_overlap\",\n",
    "    \"non_overlap_smartroi\",\n",
    "    \"non_overlap_weighteddew\",\n",
    "    \"intensity_non_overlap\",\n",
    "    \"intensity_non_overlap_smartroi\",\n",
    "    \"intensity_non_overlap_weighteddew\",\n",
    "]\n",
    "\n",
    "line_colours, line_markers = get_line_styles(diff_case_names)"
   ]
  },
  {
   "cell_type": "code",
   "execution_count": null,
   "id": "8903eab6",
   "metadata": {
    "execution": {
     "iopub.execute_input": "2022-12-18T09:53:42.516307Z",
     "iopub.status.busy": "2022-12-18T09:53:42.515969Z",
     "iopub.status.idle": "2022-12-18T09:53:42.542892Z",
     "shell.execute_reply": "2022-12-18T09:53:42.542145Z"
    }
   },
   "outputs": [],
   "source": [
    "diff_beer_exp = Experiment.load_from_json(\n",
    "    file_dir = out_dir,\n",
    "    file_name = \"keyfile.json\",\n",
    "    out_dir = out_dir,\n",
    "    fullscan_dir = multibeer_dir,\n",
    "    amend_result_path = True,\n",
    "    case_names = diff_case_names\n",
    ")"
   ]
  },
  {
   "cell_type": "code",
   "execution_count": null,
   "id": "38c5f6cb",
   "metadata": {
    "execution": {
     "iopub.execute_input": "2022-12-18T09:53:42.547425Z",
     "iopub.status.busy": "2022-12-18T09:53:42.547108Z",
     "iopub.status.idle": "2022-12-18T12:09:15.405097Z",
     "shell.execute_reply": "2022-12-18T12:09:15.403852Z"
    }
   },
   "outputs": [],
   "source": [
    "isolation_width = 1.0\n",
    "true_repeat = min(\n",
    "    repeat,\n",
    "    len(diff_beer_exp.case_mzmls[diff_beer_exp.case_names[0]])\n",
    ")\n",
    "\n",
    "diff_beer_exp.evaluate(\n",
    "    num_workers = num_workers,\n",
    "    isolation_widths = isolation_width,\n",
    "    max_repeat = repeat,\n",
    "    aligned_names = f\"multibeers_{true_repeat}_1\" + template_suffix,\n",
    "    mzmine_templates = mzmine_template,\n",
    "    mzmine_exe = mzmine_path,\n",
    "    force_peak_picking = False\n",
    ")\n",
    "\n",
    "diff_beer_exp.summarise(num_workers=num_workers, rank_key=\"cumulative_intensity_proportion\")"
   ]
  },
  {
   "cell_type": "code",
   "execution_count": null,
   "id": "c2fb84df",
   "metadata": {
    "execution": {
     "iopub.execute_input": "2022-12-18T12:09:15.416975Z",
     "iopub.status.busy": "2022-12-18T12:09:15.416578Z",
     "iopub.status.idle": "2022-12-18T12:43:58.609585Z",
     "shell.execute_reply": "2022-12-18T12:43:58.608665Z"
    }
   },
   "outputs": [],
   "source": [
    "fig, axes = mpl_results_plot(\n",
    "    diff_case_names,\n",
    "    diff_beer_exp.evaluators,\n",
    "    min_intensity=0.0,\n",
    "    colours=line_colours,\n",
    "    markers=line_markers\n",
    ")\n",
    "\n",
    "kwargs = {\n",
    "    **fig_kwargs, \n",
    "    \"suptitle\" : f\"Different Beers\", \n",
    "    \"suptitle_size\" : 26\n",
    "}\n",
    "mpl_set_figure_style(fig, **kwargs)"
   ]
  },
  {
   "cell_type": "code",
   "execution_count": null,
   "id": "395dcba7",
   "metadata": {
    "execution": {
     "iopub.execute_input": "2022-12-18T12:43:58.625317Z",
     "iopub.status.busy": "2022-12-18T12:43:58.624873Z",
     "iopub.status.idle": "2022-12-18T13:18:46.264963Z",
     "shell.execute_reply": "2022-12-18T13:18:46.263920Z"
    }
   },
   "outputs": [],
   "source": [
    "plotly_results_plot(\n",
    "    diff_case_names,\n",
    "    diff_beer_exp.evaluators,\n",
    "    min_intensity=0.0,\n",
    "    suptitle=\"Different Beers\"\n",
    ")"
   ]
  },
  {
   "cell_type": "markdown",
   "id": "73682ff8",
   "metadata": {},
   "source": [
    "# 3. Repeating Different Beers"
   ]
  },
  {
   "cell_type": "code",
   "execution_count": null,
   "id": "a9769c4b",
   "metadata": {
    "execution": {
     "iopub.execute_input": "2022-12-18T13:18:46.280302Z",
     "iopub.status.busy": "2022-12-18T13:18:46.279991Z",
     "iopub.status.idle": "2022-12-18T13:18:46.323106Z",
     "shell.execute_reply": "2022-12-18T13:18:46.322312Z"
    }
   },
   "outputs": [],
   "source": [
    "bio_repeat = 6\n",
    "tech_repeat = 4\n",
    "repeat = bio_repeat * tech_repeat\n",
    "out_dir = \"repeated_different_beer\"\n",
    "\n",
    "rep_diff_case_names = [\n",
    "    \"topN\",\n",
    "    \"topN_RoI\",\n",
    "    \"topN_exclusion\",\n",
    "    \"topNEx\",\n",
    "    \"topNEx_smartroi\",\n",
    "    \"topNEx_weighteddew\",\n",
    "    \"hard_roi_exclusion\",\n",
    "    \"hard_roi_exclusion_smartroi\",\n",
    "    \"hard_roi_exclusion_weighteddew\",\n",
    "    \"intensity_roi_exclusion\",\n",
    "    \"intensity_roi_exclusion_smartroi\",\n",
    "    \"intensity_roi_exclusion_weighteddew\",\n",
    "    \"non_overlap\",\n",
    "    \"non_overlap_smartroi\",\n",
    "    \"non_overlap_weighteddew\",\n",
    "    \"intensity_non_overlap\",\n",
    "    \"intensity_non_overlap_smartroi\",\n",
    "    \"intensity_non_overlap_weighteddew\",\n",
    "]\n",
    "\n",
    "line_colours, line_markers = get_line_styles(rep_diff_case_names)"
   ]
  },
  {
   "cell_type": "code",
   "execution_count": null,
   "id": "aa786e77",
   "metadata": {
    "execution": {
     "iopub.execute_input": "2022-12-18T13:18:46.327149Z",
     "iopub.status.busy": "2022-12-18T13:18:46.326888Z",
     "iopub.status.idle": "2022-12-18T13:18:46.355069Z",
     "shell.execute_reply": "2022-12-18T13:18:46.354437Z"
    }
   },
   "outputs": [],
   "source": [
    "rep_diff_beer_exp = Experiment.load_from_json(\n",
    "    file_dir = out_dir,\n",
    "    file_name = \"keyfile.json\",\n",
    "    out_dir = out_dir,\n",
    "    fullscan_dir = multibeer_dir,\n",
    "    amend_result_path = True,\n",
    "    case_names = rep_diff_case_names\n",
    ")"
   ]
  },
  {
   "cell_type": "code",
   "execution_count": null,
   "id": "93947b47",
   "metadata": {
    "execution": {
     "iopub.execute_input": "2022-12-18T13:18:46.359403Z",
     "iopub.status.busy": "2022-12-18T13:18:46.359140Z",
     "iopub.status.idle": "2022-12-18T15:48:59.483645Z",
     "shell.execute_reply": "2022-12-18T15:48:59.482504Z"
    }
   },
   "outputs": [],
   "source": [
    "isolation_width = 1.0\n",
    "rep_diff_beer_exp.evaluate(\n",
    "    num_workers = num_workers,\n",
    "    isolation_widths = isolation_width,\n",
    "    max_repeat = repeat,\n",
    "    aligned_names = f\"multibeers_{bio_repeat}_{tech_repeat}\" + template_suffix,\n",
    "    mzmine_templates = mzmine_template,\n",
    "    mzmine_exe = mzmine_path,\n",
    "    force_peak_picking = False\n",
    ")\n",
    "\n",
    "rep_diff_beer_exp.summarise(num_workers=num_workers, rank_key=\"cumulative_intensity_proportion\")"
   ]
  },
  {
   "cell_type": "code",
   "execution_count": null,
   "id": "cf941bdd",
   "metadata": {
    "execution": {
     "iopub.execute_input": "2022-12-18T15:48:59.495272Z",
     "iopub.status.busy": "2022-12-18T15:48:59.494992Z",
     "iopub.status.idle": "2022-12-18T16:32:03.393710Z",
     "shell.execute_reply": "2022-12-18T16:32:03.392924Z"
    }
   },
   "outputs": [],
   "source": [
    "fig, axes = mpl_results_plot(\n",
    "    rep_diff_case_names,\n",
    "    rep_diff_beer_exp.evaluators,\n",
    "    min_intensity=0.0,\n",
    "    colours=line_colours,\n",
    "    markers=line_markers\n",
    ")\n",
    "\n",
    "kwargs = {\n",
    "    **fig_kwargs, \n",
    "    \"suptitle\" : f\"{bio_repeat} Different Beers with {tech_repeat} Replicates\", \n",
    "    \"suptitle_size\" : 26\n",
    "}\n",
    "mpl_set_figure_style(fig, **kwargs)"
   ]
  },
  {
   "cell_type": "code",
   "execution_count": null,
   "id": "15ab69ba",
   "metadata": {
    "execution": {
     "iopub.execute_input": "2022-12-18T16:32:03.407927Z",
     "iopub.status.busy": "2022-12-18T16:32:03.407669Z",
     "iopub.status.idle": "2022-12-18T17:15:02.360804Z",
     "shell.execute_reply": "2022-12-18T17:15:02.359799Z"
    }
   },
   "outputs": [],
   "source": [
    "plotly_results_plot(\n",
    "    rep_diff_case_names,\n",
    "    rep_diff_beer_exp.evaluators,\n",
    "    min_intensity=0.0,\n",
    "    suptitle=f\"{bio_repeat} Different Beers with {tech_repeat} Replicates\"\n",
    ")"
   ]
  },
  {
   "cell_type": "markdown",
   "id": "084ddcdd",
   "metadata": {},
   "source": [
    "# 4. Same Urine Repeated Multiple Times"
   ]
  },
  {
   "cell_type": "code",
   "execution_count": null,
   "id": "97e0c5f7",
   "metadata": {
    "execution": {
     "iopub.execute_input": "2022-12-18T17:15:02.375086Z",
     "iopub.status.busy": "2022-12-18T17:15:02.374825Z",
     "iopub.status.idle": "2022-12-18T17:15:02.416460Z",
     "shell.execute_reply": "2022-12-18T17:15:02.415681Z"
    }
   },
   "outputs": [],
   "source": [
    "repeat = 20\n",
    "out_dir = \"same_urine\"\n",
    "\n",
    "sameu_case_names = [\n",
    "    \"topN\",\n",
    "    \"topN_RoI\",\n",
    "    \"topN_exclusion\",\n",
    "    \"topNEx\",\n",
    "    \"topNEx_smartroi\",\n",
    "    \"topNEx_weighteddew\",\n",
    "    \"hard_roi_exclusion\",\n",
    "    \"hard_roi_exclusion_smartroi\",\n",
    "    \"hard_roi_exclusion_weighteddew\",\n",
    "    \"intensity_roi_exclusion\",\n",
    "    \"intensity_roi_exclusion_smartroi\",\n",
    "    \"intensity_roi_exclusion_weighteddew\",\n",
    "    \"non_overlap\",\n",
    "    \"non_overlap_smartroi\",\n",
    "    \"non_overlap_weighteddew\",\n",
    "    \"intensity_non_overlap\",\n",
    "    \"intensity_non_overlap_smartroi\",\n",
    "    \"intensity_non_overlap_weighteddew\",\n",
    "]\n",
    "\n",
    "line_colours, line_markers = get_line_styles(sameu_case_names)"
   ]
  },
  {
   "cell_type": "code",
   "execution_count": null,
   "id": "6ef05c90",
   "metadata": {
    "execution": {
     "iopub.execute_input": "2022-12-18T17:15:02.419370Z",
     "iopub.status.busy": "2022-12-18T17:15:02.419147Z",
     "iopub.status.idle": "2022-12-18T17:15:02.447071Z",
     "shell.execute_reply": "2022-12-18T17:15:02.446350Z"
    }
   },
   "outputs": [],
   "source": [
    "same_urine_exp = Experiment.load_from_json(\n",
    "    file_dir = out_dir,\n",
    "    file_name = \"keyfile.json\",\n",
    "    out_dir = out_dir,\n",
    "    fullscan_dir = multiurine_dir,\n",
    "    amend_result_path = True,\n",
    "    case_names = sameu_case_names\n",
    ")"
   ]
  },
  {
   "cell_type": "code",
   "execution_count": null,
   "id": "021e21fc",
   "metadata": {
    "execution": {
     "iopub.execute_input": "2022-12-18T17:15:02.451501Z",
     "iopub.status.busy": "2022-12-18T17:15:02.451185Z",
     "iopub.status.idle": "2022-12-18T18:05:15.739303Z",
     "shell.execute_reply": "2022-12-18T18:05:15.738232Z"
    }
   },
   "outputs": [],
   "source": [
    "isolation_width = 1.0\n",
    "true_repeat = min(\n",
    "    repeat,\n",
    "    len(same_urine_exp.case_mzmls[same_urine_exp.case_names[0]])\n",
    ")\n",
    "\n",
    "same_urine_exp.evaluate(\n",
    "    num_workers = num_workers,\n",
    "    isolation_widths = isolation_width,\n",
    "    max_repeat = repeat,\n",
    "    aligned_names = f\"multiurines_1_{true_repeat}\" + template_suffix,\n",
    "    mzmine_templates = mzmine_template,\n",
    "    mzmine_exe = mzmine_path,\n",
    "    force_peak_picking = False\n",
    ")\n",
    "\n",
    "same_urine_exp.summarise(num_workers=num_workers, rank_key=\"cumulative_intensity_proportion\")"
   ]
  },
  {
   "cell_type": "code",
   "execution_count": null,
   "id": "b273ac65",
   "metadata": {
    "execution": {
     "iopub.execute_input": "2022-12-18T18:05:15.749805Z",
     "iopub.status.busy": "2022-12-18T18:05:15.749506Z",
     "iopub.status.idle": "2022-12-18T18:37:23.926239Z",
     "shell.execute_reply": "2022-12-18T18:37:23.925139Z"
    }
   },
   "outputs": [],
   "source": [
    "#non-interactive plot, but is just an image so will persist if notebook is refreshed\n",
    "fig, axes = mpl_results_plot(\n",
    "    sameu_case_names,\n",
    "    same_urine_exp.evaluators,\n",
    "    min_intensity=0.0,\n",
    "    colours=line_colours,\n",
    "    markers=line_markers\n",
    ")\n",
    "\n",
    "kwargs = {\n",
    "    **fig_kwargs, \n",
    "    \"suptitle\" : f\"Same Urine\", \n",
    "    \"suptitle_size\" : 26\n",
    "}\n",
    "mpl_set_figure_style(fig, **kwargs)\n",
    "mpl_set_axis_style(axes[1], legend_kwargs={**fig_kwargs[\"axis_kwargs\"][\"legend_kwargs\"], \"loc\" : \"lower right\"})\n",
    "\n",
    "if(not old_mzmine):\n",
    "    axes[0].yaxis.set_major_locator(MultipleLocator(0.02))\n",
    "    axes[1].yaxis.set_major_locator(MultipleLocator(0.1))"
   ]
  },
  {
   "cell_type": "code",
   "execution_count": null,
   "id": "8c7fd338",
   "metadata": {
    "execution": {
     "iopub.execute_input": "2022-12-18T18:37:23.939740Z",
     "iopub.status.busy": "2022-12-18T18:37:23.939482Z",
     "iopub.status.idle": "2022-12-18T19:09:25.156864Z",
     "shell.execute_reply": "2022-12-18T19:09:25.155839Z"
    }
   },
   "outputs": [],
   "source": [
    "#interactive plot, but volatile\n",
    "plotly_results_plot(\n",
    "    sameu_case_names,\n",
    "    same_urine_exp.evaluators,\n",
    "    min_intensity=0.0,\n",
    "    suptitle=\"Repeated Same Urine\"\n",
    ")"
   ]
  },
  {
   "cell_type": "markdown",
   "id": "1c43abb2",
   "metadata": {},
   "source": [
    "# 5. Multiple Different Urines"
   ]
  },
  {
   "cell_type": "code",
   "execution_count": null,
   "id": "c9c75d66",
   "metadata": {
    "execution": {
     "iopub.execute_input": "2022-12-18T19:09:25.170856Z",
     "iopub.status.busy": "2022-12-18T19:09:25.170595Z",
     "iopub.status.idle": "2022-12-18T19:09:25.214737Z",
     "shell.execute_reply": "2022-12-18T19:09:25.213959Z"
    }
   },
   "outputs": [],
   "source": [
    "repeat = 15\n",
    "out_dir = \"different_urine\"\n",
    "\n",
    "diffu_case_names = [\n",
    "    \"topN\",\n",
    "    \"topN_RoI\",\n",
    "    \"topN_exclusion\",\n",
    "    \"topNEx\",\n",
    "    \"topNEx_smartroi\",\n",
    "    \"topNEx_weighteddew\",\n",
    "    \"hard_roi_exclusion\",\n",
    "    \"hard_roi_exclusion_smartroi\",\n",
    "    \"hard_roi_exclusion_weighteddew\",\n",
    "    \"intensity_roi_exclusion\",\n",
    "    \"intensity_roi_exclusion_smartroi\",\n",
    "    \"intensity_roi_exclusion_weighteddew\",\n",
    "    \"non_overlap\",\n",
    "    \"non_overlap_smartroi\",\n",
    "    \"non_overlap_weighteddew\",\n",
    "    \"intensity_non_overlap\",\n",
    "    \"intensity_non_overlap_smartroi\",\n",
    "    \"intensity_non_overlap_weighteddew\",\n",
    "]\n",
    "\n",
    "line_colours, line_markers = get_line_styles(diffu_case_names)"
   ]
  },
  {
   "cell_type": "code",
   "execution_count": null,
   "id": "68897a9e",
   "metadata": {
    "execution": {
     "iopub.execute_input": "2022-12-18T19:09:25.218513Z",
     "iopub.status.busy": "2022-12-18T19:09:25.218275Z",
     "iopub.status.idle": "2022-12-18T19:09:25.247244Z",
     "shell.execute_reply": "2022-12-18T19:09:25.246464Z"
    }
   },
   "outputs": [],
   "source": [
    "diff_urine_exp = Experiment.load_from_json(\n",
    "    file_dir = out_dir,\n",
    "    file_name = \"keyfile.json\",\n",
    "    out_dir = out_dir,\n",
    "    fullscan_dir = multiurine_dir,\n",
    "    amend_result_path = True,\n",
    "    case_names = diffu_case_names\n",
    ")"
   ]
  },
  {
   "cell_type": "code",
   "execution_count": null,
   "id": "7ad500a5",
   "metadata": {
    "execution": {
     "iopub.execute_input": "2022-12-18T19:09:25.252242Z",
     "iopub.status.busy": "2022-12-18T19:09:25.251917Z",
     "iopub.status.idle": "2022-12-18T21:08:02.577407Z",
     "shell.execute_reply": "2022-12-18T21:08:02.576308Z"
    }
   },
   "outputs": [],
   "source": [
    "isolation_width = 1.0\n",
    "true_repeat = min(\n",
    "    repeat,\n",
    "    len(diff_urine_exp.case_mzmls[diff_urine_exp.case_names[0]])\n",
    ")\n",
    "\n",
    "diff_urine_exp.evaluate(\n",
    "    num_workers = num_workers,\n",
    "    isolation_widths = isolation_width,\n",
    "    max_repeat = repeat,\n",
    "    aligned_names = f\"multiurines_{true_repeat}_1\" + template_suffix,\n",
    "    mzmine_templates = mzmine_template,\n",
    "    mzmine_exe = mzmine_path,\n",
    "    force_peak_picking = False\n",
    ")\n",
    "\n",
    "diff_urine_exp.summarise(num_workers=num_workers, rank_key=\"cumulative_intensity_proportion\")"
   ]
  },
  {
   "cell_type": "code",
   "execution_count": null,
   "id": "ec58e764",
   "metadata": {
    "execution": {
     "iopub.execute_input": "2022-12-18T21:08:02.589131Z",
     "iopub.status.busy": "2022-12-18T21:08:02.588740Z",
     "iopub.status.idle": "2022-12-18T21:33:49.894795Z",
     "shell.execute_reply": "2022-12-18T21:33:49.893925Z"
    }
   },
   "outputs": [],
   "source": [
    "fig, axes = mpl_results_plot(\n",
    "    diffu_case_names,\n",
    "    diff_urine_exp.evaluators,\n",
    "    min_intensity=0.0,\n",
    "    colours=line_colours,\n",
    "    markers=line_markers\n",
    ")\n",
    "\n",
    "kwargs = {\n",
    "    **fig_kwargs, \n",
    "    \"suptitle\" : f\"Different Urines\", \n",
    "    \"suptitle_size\" : 26\n",
    "}\n",
    "mpl_set_figure_style(fig, **kwargs)"
   ]
  },
  {
   "cell_type": "code",
   "execution_count": null,
   "id": "bd699c9c",
   "metadata": {
    "execution": {
     "iopub.execute_input": "2022-12-18T21:33:49.908273Z",
     "iopub.status.busy": "2022-12-18T21:33:49.908023Z",
     "iopub.status.idle": "2022-12-18T21:59:58.712101Z",
     "shell.execute_reply": "2022-12-18T21:59:58.711071Z"
    }
   },
   "outputs": [],
   "source": [
    "plotly_results_plot(\n",
    "    diffu_case_names,\n",
    "    diff_urine_exp.evaluators,\n",
    "    min_intensity=0.0,\n",
    "    suptitle=\"Different Urines\"\n",
    ")"
   ]
  },
  {
   "cell_type": "markdown",
   "id": "03638773",
   "metadata": {},
   "source": [
    "# 6. Repeating Different Urines"
   ]
  },
  {
   "cell_type": "code",
   "execution_count": null,
   "id": "0c27528b",
   "metadata": {
    "execution": {
     "iopub.execute_input": "2022-12-18T21:59:58.724211Z",
     "iopub.status.busy": "2022-12-18T21:59:58.723950Z",
     "iopub.status.idle": "2022-12-18T21:59:58.764542Z",
     "shell.execute_reply": "2022-12-18T21:59:58.763759Z"
    }
   },
   "outputs": [],
   "source": [
    "bio_repeat = 6\n",
    "tech_repeat = 4\n",
    "repeat = bio_repeat * tech_repeat\n",
    "out_dir = \"repeated_different_urine\"\n",
    "\n",
    "rep_diffu_case_names = [\n",
    "    \"topN\",\n",
    "    \"topN_RoI\",\n",
    "    \"topN_exclusion\",\n",
    "    \"topNEx\",\n",
    "    \"topNEx_smartroi\",\n",
    "    \"topNEx_weighteddew\",\n",
    "    \"hard_roi_exclusion\",\n",
    "    \"hard_roi_exclusion_smartroi\",\n",
    "    \"hard_roi_exclusion_weighteddew\",\n",
    "    \"intensity_roi_exclusion\",\n",
    "    \"intensity_roi_exclusion_smartroi\",\n",
    "    \"intensity_roi_exclusion_weighteddew\",\n",
    "    \"non_overlap\",\n",
    "    \"non_overlap_smartroi\",\n",
    "    \"non_overlap_weighteddew\",\n",
    "    \"intensity_non_overlap\",\n",
    "    \"intensity_non_overlap_smartroi\",\n",
    "    \"intensity_non_overlap_weighteddew\",\n",
    "]\n",
    "\n",
    "line_colours, line_markers = get_line_styles(rep_diffu_case_names)"
   ]
  },
  {
   "cell_type": "code",
   "execution_count": null,
   "id": "81a57f3a",
   "metadata": {
    "execution": {
     "iopub.execute_input": "2022-12-18T21:59:58.768339Z",
     "iopub.status.busy": "2022-12-18T21:59:58.768107Z",
     "iopub.status.idle": "2022-12-18T21:59:58.796350Z",
     "shell.execute_reply": "2022-12-18T21:59:58.795603Z"
    }
   },
   "outputs": [],
   "source": [
    "rep_diff_urine_exp = Experiment.load_from_json(\n",
    "    file_dir = out_dir,\n",
    "    file_name = \"keyfile.json\",\n",
    "    out_dir = out_dir,\n",
    "    fullscan_dir = multiurine_dir,\n",
    "    amend_result_path = True,\n",
    "    case_names = rep_diffu_case_names\n",
    ")"
   ]
  },
  {
   "cell_type": "code",
   "execution_count": null,
   "id": "a0eb2b83",
   "metadata": {
    "execution": {
     "iopub.execute_input": "2022-12-18T21:59:58.801122Z",
     "iopub.status.busy": "2022-12-18T21:59:58.800794Z",
     "iopub.status.idle": "2022-12-19T00:19:07.317898Z",
     "shell.execute_reply": "2022-12-19T00:19:07.316783Z"
    }
   },
   "outputs": [],
   "source": [
    "isolation_width = 1.0\n",
    "rep_diff_urine_exp.evaluate(\n",
    "    num_workers = num_workers,\n",
    "    isolation_widths = isolation_width,\n",
    "    max_repeat = repeat,\n",
    "    aligned_names = f\"multiurine_{bio_repeat}_{tech_repeat}\" + template_suffix,\n",
    "    mzmine_templates = mzmine_template,\n",
    "    mzmine_exe = mzmine_path,\n",
    "    force_peak_picking = False\n",
    ")\n",
    "\n",
    "rep_diff_urine_exp.summarise(num_workers=num_workers, rank_key=\"cumulative_intensity_proportion\")"
   ]
  },
  {
   "cell_type": "code",
   "execution_count": null,
   "id": "2ffb5d44",
   "metadata": {
    "execution": {
     "iopub.execute_input": "2022-12-19T00:19:07.326148Z",
     "iopub.status.busy": "2022-12-19T00:19:07.325868Z",
     "iopub.status.idle": "2022-12-19T00:59:57.726800Z",
     "shell.execute_reply": "2022-12-19T00:59:57.726056Z"
    }
   },
   "outputs": [],
   "source": [
    "fig, axes = mpl_results_plot(\n",
    "    rep_diffu_case_names,\n",
    "    rep_diff_urine_exp.evaluators,\n",
    "    min_intensity=0.0,\n",
    "    colours=line_colours,\n",
    "    markers=line_markers\n",
    ")\n",
    "\n",
    "kwargs = {\n",
    "    **fig_kwargs, \n",
    "    \"suptitle\" : f\"{bio_repeat} Different Urines with {tech_repeat} Replicates\", \n",
    "    \"suptitle_size\" : 26\n",
    "}\n",
    "mpl_set_figure_style(fig, **kwargs)"
   ]
  },
  {
   "cell_type": "code",
   "execution_count": null,
   "id": "5839f7e9",
   "metadata": {
    "execution": {
     "iopub.execute_input": "2022-12-19T00:59:57.740677Z",
     "iopub.status.busy": "2022-12-19T00:59:57.740421Z",
     "iopub.status.idle": "2022-12-19T01:40:57.507714Z",
     "shell.execute_reply": "2022-12-19T01:40:57.506688Z"
    }
   },
   "outputs": [],
   "source": [
    "plotly_results_plot(\n",
    "    rep_diffu_case_names,\n",
    "    rep_diff_urine_exp.evaluators,\n",
    "    min_intensity=0.0,\n",
    "    suptitle=f\"{bio_repeat} Different Urines with {tech_repeat} Replicates\"\n",
    ")"
   ]
  },
  {
   "cell_type": "code",
   "execution_count": null,
   "id": "5ecfd981",
   "metadata": {},
   "outputs": [],
   "source": []
  }
 ],
 "metadata": {
  "kernelspec": {
   "display_name": "Python 3 (ipykernel)",
   "language": "python",
   "name": "python3"
  },
  "language_info": {
   "codemirror_mode": {
    "name": "ipython",
    "version": 3
   },
   "file_extension": ".py",
   "mimetype": "text/x-python",
   "name": "python",
   "nbconvert_exporter": "python",
   "pygments_lexer": "ipython3",
   "version": "3.9.12"
  }
 },
 "nbformat": 4,
 "nbformat_minor": 5
}
