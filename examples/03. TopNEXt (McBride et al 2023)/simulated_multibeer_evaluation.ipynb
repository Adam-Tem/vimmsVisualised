{
 "cells": [
  {
   "cell_type": "code",
   "execution_count": null,
   "id": "c26bc87b",
   "metadata": {
    "execution": {
     "iopub.execute_input": "2022-12-09T17:58:40.514707Z",
     "iopub.status.busy": "2022-12-09T17:58:40.514047Z",
     "iopub.status.idle": "2022-12-09T17:58:41.254039Z",
     "shell.execute_reply": "2022-12-09T17:58:41.253344Z"
    }
   },
   "outputs": [],
   "source": [
    "%matplotlib inline\n",
    "%load_ext autoreload\n",
    "%autoreload 2"
   ]
  },
  {
   "cell_type": "code",
   "execution_count": null,
   "id": "264e9781",
   "metadata": {
    "execution": {
     "iopub.execute_input": "2022-12-09T17:58:41.257944Z",
     "iopub.status.busy": "2022-12-09T17:58:41.257607Z",
     "iopub.status.idle": "2022-12-09T17:58:41.635057Z",
     "shell.execute_reply": "2022-12-09T17:58:41.634278Z"
    }
   },
   "outputs": [],
   "source": [
    "import math\n",
    "import sys\n",
    "import os\n",
    "import platform\n",
    "import itertools\n",
    "\n",
    "import IPython\n",
    "import matplotlib as mpl\n",
    "from matplotlib.lines import Line2D\n",
    "import matplotlib.pyplot as plt\n",
    "import seaborn as sns"
   ]
  },
  {
   "cell_type": "code",
   "execution_count": null,
   "id": "dec3d711",
   "metadata": {
    "execution": {
     "iopub.execute_input": "2022-12-09T17:58:41.639618Z",
     "iopub.status.busy": "2022-12-09T17:58:41.639371Z",
     "iopub.status.idle": "2022-12-09T17:58:41.653451Z",
     "shell.execute_reply": "2022-12-09T17:58:41.652856Z"
    }
   },
   "outputs": [],
   "source": [
    "user_vimms = \"vimms\"\n",
    "sys.path.append(user_vimms)"
   ]
  },
  {
   "cell_type": "code",
   "execution_count": null,
   "id": "16d971d4",
   "metadata": {
    "execution": {
     "iopub.execute_input": "2022-12-09T17:58:41.657576Z",
     "iopub.status.busy": "2022-12-09T17:58:41.657302Z",
     "iopub.status.idle": "2022-12-09T17:58:41.670350Z",
     "shell.execute_reply": "2022-12-09T17:58:41.669671Z"
    }
   },
   "outputs": [],
   "source": [
    "mzmine_path = os.path.join(\"MZmine-2.53-Windows\", \"startMZmine-Windows.bat\")\n",
    "old_mzmine = True\n",
    "template_suffix = \"_old\" if old_mzmine else \"\"\n",
    "template_name = \"Permissive\" if old_mzmine else \"Restrictive\"\n",
    "mzmine_template = os.path.join(user_vimms, \"batch_files\", f\"multi_sample_peak_pick{template_suffix}.xml\")"
   ]
  },
  {
   "cell_type": "code",
   "execution_count": null,
   "id": "3ea184d5",
   "metadata": {
    "execution": {
     "iopub.execute_input": "2022-12-09T17:58:41.674775Z",
     "iopub.status.busy": "2022-12-09T17:58:41.674505Z",
     "iopub.status.idle": "2022-12-09T17:58:42.342172Z",
     "shell.execute_reply": "2022-12-09T17:58:42.341273Z"
    }
   },
   "outputs": [],
   "source": [
    "from vimms.Common import (\n",
    "    POSITIVE, load_obj,\n",
    "    set_log_level_warning,\n",
    ")\n",
    "from vimms.Experiment import Experiment\n",
    "from vimms.BoxVisualise import (\n",
    "    mpl_set_axis_style, mpl_set_figure_style,\n",
    "    mpl_results_plot, plotly_results_plot,\n",
    "    mpl_fragmentation_counts,\n",
    "    plotly_timing_hist, seaborn_timing_hist,\n",
    "    mpl_fragmentation_events, plotly_fragmentation_events,\n",
    "    mpl_fragmented_boxes,\n",
    "    seaborn_uncovered_area_hist,\n",
    "    BoxViewer\n",
    ")"
   ]
  },
  {
   "cell_type": "code",
   "execution_count": null,
   "id": "002c4d2e",
   "metadata": {
    "execution": {
     "iopub.execute_input": "2022-12-09T17:58:42.348069Z",
     "iopub.status.busy": "2022-12-09T17:58:42.347734Z",
     "iopub.status.idle": "2022-12-09T17:58:42.379564Z",
     "shell.execute_reply": "2022-12-09T17:58:42.378509Z"
    }
   },
   "outputs": [],
   "source": [
    "ionisation_mode = POSITIVE\n",
    "pbar = False\n",
    "set_log_level_warning()"
   ]
  },
  {
   "cell_type": "code",
   "execution_count": null,
   "id": "c3213a11",
   "metadata": {
    "execution": {
     "iopub.execute_input": "2022-12-09T17:58:42.384812Z",
     "iopub.status.busy": "2022-12-09T17:58:42.384505Z",
     "iopub.status.idle": "2022-12-09T17:58:42.405343Z",
     "shell.execute_reply": "2022-12-09T17:58:42.404609Z"
    }
   },
   "outputs": [],
   "source": [
    "#multi_dir = \"/Users/%s/University of Glasgow/Vinny Davies - CLDS Metabolomics Project/Experimental_Results/20220706_DDAvsDIA\" % user\n",
    "multi_dir = \"20220719_multi_samples_main\"\n",
    "multibeer_dir = os.path.join(multi_dir, \"results_4\")"
   ]
  },
  {
   "cell_type": "code",
   "execution_count": null,
   "id": "02819891",
   "metadata": {
    "execution": {
     "iopub.execute_input": "2022-12-09T17:58:42.410041Z",
     "iopub.status.busy": "2022-12-09T17:58:42.409828Z",
     "iopub.status.idle": "2022-12-09T17:58:42.429806Z",
     "shell.execute_reply": "2022-12-09T17:58:42.428717Z"
    }
   },
   "outputs": [],
   "source": [
    "num_workers = 8 #can't always use number of physical cores because of memory constraints"
   ]
  },
  {
   "cell_type": "markdown",
   "id": "14610913",
   "metadata": {},
   "source": [
    "Utilities"
   ]
  },
  {
   "cell_type": "code",
   "execution_count": null,
   "id": "c8b0dc60",
   "metadata": {
    "execution": {
     "iopub.execute_input": "2022-12-09T17:58:42.434516Z",
     "iopub.status.busy": "2022-12-09T17:58:42.434224Z",
     "iopub.status.idle": "2022-12-09T17:58:42.455833Z",
     "shell.execute_reply": "2022-12-09T17:58:42.455026Z"
    }
   },
   "outputs": [],
   "source": [
    "def load_pkls(pickle_dir, case_names, repeat, load_rois=False):\n",
    "    exp_pkls = {}\n",
    "    for case_name in case_names:\n",
    "        roi_str = \"_rois\" if load_rois else \"\"\n",
    "        exp_pickle_paths = [f\"{os.path.join(pickle_dir, case_name)}_{i}{roi_str}.pkl\" for i in range(repeat)]\n",
    "        exp_pkls[case_name] = [load_obj(pkl) for pkl in exp_pickle_paths]\n",
    "    return exp_pkls"
   ]
  },
  {
   "cell_type": "markdown",
   "id": "be1b05fb",
   "metadata": {},
   "source": [
    "Specify styles for mpl plots"
   ]
  },
  {
   "cell_type": "code",
   "execution_count": null,
   "id": "342e772c",
   "metadata": {
    "execution": {
     "iopub.execute_input": "2022-12-09T17:58:42.461462Z",
     "iopub.status.busy": "2022-12-09T17:58:42.461157Z",
     "iopub.status.idle": "2022-12-09T17:58:42.486553Z",
     "shell.execute_reply": "2022-12-09T17:58:42.485854Z"
    }
   },
   "outputs": [],
   "source": [
    "mpl_colours = plt.rcParams[\"axes.prop_cycle\"].by_key()[\"color\"]\n",
    "colour_iterator = itertools.cycle(mpl_colours)\n",
    "colour_map = {\n",
    "    \"topN\" : mpl_colours[5],\n",
    "    \"topN_RoI\" : mpl_colours[7],\n",
    "    \"topN_exclusion\" : mpl_colours[1],\n",
    "    \"topNEx\" : mpl_colours[2],\n",
    "    \"hard_roi_exclusion\" : mpl_colours[0],\n",
    "    \"intensity_roi_exclusion\" : mpl_colours[8],\n",
    "    \"non_overlap\" : mpl_colours[6],\n",
    "    \"intensity_non_overlap\" : mpl_colours[3],\n",
    "    \n",
    "}\n",
    "\n",
    "def update_cmap(name):\n",
    "    if(not name in colour_map):\n",
    "        colour_map[name] = next(mpl_colours)\n",
    "    return colour_map[name]\n",
    "\n",
    "def get_style(name):\n",
    "    if(name.lower().endswith(\"smartroi\")):\n",
    "        c = update_cmap(\"_\".join(name.split(\"_\")[:-1]))\n",
    "        return c, \"v\"\n",
    "    elif(name.lower().endswith(\"weighteddew\")):\n",
    "        c = update_cmap(\"_\".join(name.split(\"_\")[:-1]))\n",
    "        return c, \"^\"\n",
    "    else:\n",
    "        c = update_cmap(name)\n",
    "        return c, \"o\"\n",
    "    \n",
    "def get_line_styles(case_names):\n",
    "    colours, markers = [], []\n",
    "    for case_name in case_names:\n",
    "        c, m = get_style(case_name)\n",
    "        colours.append(c)\n",
    "        markers.append(m)\n",
    "    return colours, markers"
   ]
  },
  {
   "cell_type": "code",
   "execution_count": null,
   "id": "eb63257d",
   "metadata": {
    "execution": {
     "iopub.execute_input": "2022-12-09T17:58:42.490284Z",
     "iopub.status.busy": "2022-12-09T17:58:42.489991Z",
     "iopub.status.idle": "2022-12-09T17:58:42.515316Z",
     "shell.execute_reply": "2022-12-09T17:58:42.514592Z"
    }
   },
   "outputs": [],
   "source": [
    "name_map = {\n",
    "    \"topN\" : \"TopN\",\n",
    "    \"topN_RoI\" : \"TopN RoI\",\n",
    "    \"topN_exclusion\" : \"TopN Exclusion\",\n",
    "    \"topNEx\" : \"TopNEx\",\n",
    "    \"hard_roi_exclusion\" : \"Hard RoI Exclusion\",\n",
    "    \"intensity_roi_exclusion\" : \"Intensity RoI Exclusion\",\n",
    "    \"non_overlap\" : \"Non-Overlap\",\n",
    "    \"intensity_non_overlap\" : \"Intensity Non-Overlap\",\n",
    "    \n",
    "}\n",
    "\n",
    "markersize = 11\n",
    "\n",
    "legend_elements = [\n",
    "    Line2D([0], [0], marker=\"o\", color=\"black\", label=\"Standard DEW\", markerfacecolor=\"black\", markersize=markersize),\n",
    "    Line2D([0], [0], marker=\"^\", color=\"black\", label=\"WeightedDEW\", markerfacecolor=\"black\", markersize=markersize),\n",
    "    Line2D([0], [0], marker=\"v\", color=\"black\", label=\"SmartRoI\", markerfacecolor=\"black\", markersize=markersize),\n",
    "    Line2D([0], [0], color=\"white\", label=\"\", markerfacecolor=\"black\", markersize=markersize),\n",
    "]\n",
    "    \n",
    "for name, colour in colour_map.items():\n",
    "    legend_elements.append(\n",
    "        Line2D([0], [0], marker=\"s\", color=\"white\", label=name_map[name], markerfacecolor=colour, markersize=14)\n",
    "    )"
   ]
  },
  {
   "cell_type": "code",
   "execution_count": null,
   "id": "599119b1",
   "metadata": {
    "execution": {
     "iopub.execute_input": "2022-12-09T17:58:42.519966Z",
     "iopub.status.busy": "2022-12-09T17:58:42.519650Z",
     "iopub.status.idle": "2022-12-09T17:58:42.540095Z",
     "shell.execute_reply": "2022-12-09T17:58:42.539265Z"
    }
   },
   "outputs": [],
   "source": [
    "fig_kwargs = {\n",
    "    \"tick_kwargs\" : {\n",
    "        \"width\" : 2.5,\n",
    "        \"length\" : 12,\n",
    "        \"labelsize\" : 22,\n",
    "    },\n",
    "    \n",
    "    \"axis_borderwidth\" : 2.5,\n",
    "    \n",
    "    \"axis_kwargs\" : {\n",
    "        \"labelsize\" : 24,\n",
    "        \"titlesize\" : 24,\n",
    "        \"linewidth\" : 1.5,\n",
    "        \"markersize\" : 6,\n",
    "        \"legend_kwargs\" : {\n",
    "            \"handles\" : legend_elements,\n",
    "            \"fontsize\" : 13\n",
    "        }\n",
    "    },\n",
    "    \n",
    "    \"suptitle\" : \"Default Suptitle\",\n",
    "    \"suptitle_size\" : 18,\n",
    "    \"figure_sizes\" : (18, 8),\n",
    "}"
   ]
  },
  {
   "cell_type": "markdown",
   "id": "abca659c",
   "metadata": {},
   "source": [
    "# 1. Same Beer Repeated Multiple Times"
   ]
  },
  {
   "cell_type": "markdown",
   "id": "204067e1",
   "metadata": {},
   "source": [
    "### Evaluate"
   ]
  },
  {
   "cell_type": "code",
   "execution_count": null,
   "id": "8c2dff72",
   "metadata": {
    "execution": {
     "iopub.execute_input": "2022-12-09T17:58:42.544226Z",
     "iopub.status.busy": "2022-12-09T17:58:42.544027Z",
     "iopub.status.idle": "2022-12-09T17:58:42.565008Z",
     "shell.execute_reply": "2022-12-09T17:58:42.564312Z"
    }
   },
   "outputs": [],
   "source": [
    "repeat = 20\n",
    "out_dir = \"new_same_beer\"\n",
    "\n",
    "same_case_names = [\n",
    "    \"topN\",\n",
    "    \"topN_RoI\",\n",
    "    \"topN_exclusion\",\n",
    "    \"topNEx\",\n",
    "    \"topNEx_smartroi\",\n",
    "    \"topNEx_weighteddew\",\n",
    "    \"hard_roi_exclusion\",\n",
    "    \"hard_roi_exclusion_smartroi\",\n",
    "    \"hard_roi_exclusion_weighteddew\",\n",
    "    \"intensity_roi_exclusion\",\n",
    "    \"intensity_roi_exclusion_smartroi\",\n",
    "    \"intensity_roi_exclusion_weighteddew\",\n",
    "    \"non_overlap\",\n",
    "    \"non_overlap_smartroi\",\n",
    "    \"non_overlap_weighteddew\",\n",
    "    \"intensity_non_overlap\",\n",
    "    \"intensity_non_overlap_smartroi\",\n",
    "    \"intensity_non_overlap_weighteddew\",\n",
    "]\n",
    "\n",
    "line_colours, line_markers = get_line_styles(same_case_names)"
   ]
  },
  {
   "cell_type": "code",
   "execution_count": null,
   "id": "2a171cc1",
   "metadata": {
    "execution": {
     "iopub.execute_input": "2022-12-09T17:58:42.569294Z",
     "iopub.status.busy": "2022-12-09T17:58:42.569056Z",
     "iopub.status.idle": "2022-12-09T17:58:42.593301Z",
     "shell.execute_reply": "2022-12-09T17:58:42.592401Z"
    }
   },
   "outputs": [],
   "source": [
    "same_beer_exp = Experiment.load_from_json(\n",
    "    file_dir = out_dir,\n",
    "    file_name = \"keyfile.json\",\n",
    "    out_dir = out_dir,\n",
    "    fullscan_dir = multibeer_dir,\n",
    "    amend_result_path = True,\n",
    "    case_names = same_case_names\n",
    ")"
   ]
  },
  {
   "cell_type": "code",
   "execution_count": null,
   "id": "2f49a412",
   "metadata": {
    "execution": {
     "iopub.execute_input": "2022-12-09T17:58:42.597875Z",
     "iopub.status.busy": "2022-12-09T17:58:42.597589Z",
     "iopub.status.idle": "2022-12-09T18:57:51.861760Z",
     "shell.execute_reply": "2022-12-09T18:57:51.860308Z"
    }
   },
   "outputs": [],
   "source": [
    "isolation_width = 1.0\n",
    "true_repeat = min(\n",
    "    repeat,\n",
    "    len(same_beer_exp.case_mzmls[same_beer_exp.case_names[0]])\n",
    ")\n",
    "\n",
    "same_beer_exp.evaluate(\n",
    "    num_workers = num_workers,\n",
    "    isolation_widths = isolation_width,\n",
    "    max_repeat = true_repeat,\n",
    "    aligned_names = f\"multibeers_1_{true_repeat}\" + template_suffix,\n",
    "    mzmine_templates = mzmine_template,\n",
    "    mzmine_exe = mzmine_path,\n",
    "    force_peak_picking = False,\n",
    "    check_mzmine = \"exact\"\n",
    ")\n",
    "\n",
    "same_beer_exp.summarise(num_workers=num_workers, rank_key=\"cumulative_intensity_proportion\")"
   ]
  },
  {
   "cell_type": "markdown",
   "id": "cde8c650",
   "metadata": {},
   "source": [
    "### Plot"
   ]
  },
  {
   "cell_type": "code",
   "execution_count": null,
   "id": "fefc937a",
   "metadata": {
    "execution": {
     "iopub.execute_input": "2022-12-09T18:57:51.873852Z",
     "iopub.status.busy": "2022-12-09T18:57:51.873502Z",
     "iopub.status.idle": "2022-12-09T19:21:14.034804Z",
     "shell.execute_reply": "2022-12-09T19:21:14.033825Z"
    }
   },
   "outputs": [],
   "source": [
    "#non-interactive plot, but is just an image so will persist if notebook is refreshed\n",
    "fig, axes = mpl_results_plot(\n",
    "    same_case_names,\n",
    "    same_beer_exp.evaluators,\n",
    "    min_intensity=0.0,\n",
    "    colours=line_colours,\n",
    "    markers=line_markers,\n",
    "    mode=\"absolute\"\n",
    ")\n",
    "\n",
    "mpl_set_figure_style(fig, **{**fig_kwargs, \"suptitle\" : \"Repeated Same Beer\", \"suptitle_size\" : 26})\n",
    "mpl_set_axis_style(axes[1], legend_kwargs={**fig_kwargs[\"axis_kwargs\"][\"legend_kwargs\"], \"loc\" : \"lower right\"})"
   ]
  },
  {
   "cell_type": "code",
   "execution_count": null,
   "id": "d4e1b644",
   "metadata": {
    "execution": {
     "iopub.execute_input": "2022-12-09T19:21:14.045925Z",
     "iopub.status.busy": "2022-12-09T19:21:14.045612Z",
     "iopub.status.idle": "2022-12-09T19:44:20.181212Z",
     "shell.execute_reply": "2022-12-09T19:44:20.180021Z"
    }
   },
   "outputs": [],
   "source": [
    "#interactive plot, but volatile\n",
    "plotly_results_plot(\n",
    "    same_case_names,\n",
    "    same_beer_exp.evaluators,\n",
    "    min_intensity=0.0,\n",
    "    suptitle=\"Repeated Same Beer\"\n",
    ")"
   ]
  },
  {
   "cell_type": "code",
   "execution_count": null,
   "id": "5ca24d13",
   "metadata": {
    "execution": {
     "iopub.execute_input": "2022-12-09T19:44:20.232014Z",
     "iopub.status.busy": "2022-12-09T19:44:20.231345Z",
     "iopub.status.idle": "2022-12-09T19:49:37.784974Z",
     "shell.execute_reply": "2022-12-09T19:49:37.783648Z"
    }
   },
   "outputs": [],
   "source": [
    "cases = [\n",
    "    case_name\n",
    "    for case_name in [\"topN\", \"topN_exclusion\", \"non_overlap\", \"intensity_non_overlap\"]\n",
    "    if case_name in same_case_names\n",
    "]\n",
    "\n",
    "evals = [same_beer_exp.get_evaluator_by_name(case_name) for case_name in cases]\n",
    "colours = [get_style(case_name)[0] for case_name in cases]\n",
    "\n",
    "fig, axes = mpl_fragmentation_counts(\n",
    "    evals, \n",
    "    min_intensity=0.0, \n",
    "    key=\"times_covered_summary\", \n",
    "    fcs=colours\n",
    ")\n",
    "\n",
    "kwargs = {\n",
    "    **fig_kwargs,\n",
    "    \"axis_kwargs\" : {\n",
    "        **fig_kwargs[\"axis_kwargs\"],\n",
    "        \"legend_kwargs\" : None\n",
    "    },\n",
    "    \"suptitle\" : f\"Times Same Beer Peaks Covered ({template_name})\",\n",
    "    \"suptitle_size\" : 26\n",
    "}\n",
    "mpl_set_figure_style(fig, **kwargs)\n",
    "\n",
    "for case_name, ax in zip(cases, axes):\n",
    "    mpl_set_axis_style(ax, title=case_name, titlesize=24)"
   ]
  },
  {
   "cell_type": "code",
   "execution_count": null,
   "id": "cc89a422",
   "metadata": {
    "execution": {
     "iopub.execute_input": "2022-12-09T19:49:37.792034Z",
     "iopub.status.busy": "2022-12-09T19:49:37.791804Z",
     "iopub.status.idle": "2022-12-09T19:55:15.951893Z",
     "shell.execute_reply": "2022-12-09T19:55:15.951026Z"
    }
   },
   "outputs": [],
   "source": [
    "cases = [\n",
    "    case_name\n",
    "    for case_name in [\"topN\", \"topN_exclusion\", \"non_overlap\", \"intensity_non_overlap\"]\n",
    "    if case_name in same_case_names\n",
    "]\n",
    "\n",
    "evals = [same_beer_exp.get_evaluator_by_name(case_name) for case_name in cases]\n",
    "colours = [get_style(case_name)[0] for case_name in cases]\n",
    "\n",
    "fig, axes = mpl_fragmentation_counts(\n",
    "    evals, \n",
    "    min_intensity=0.0, \n",
    "    key=\"times_fragmented_summary\", \n",
    "    fcs=colours\n",
    ")\n",
    "\n",
    "kwargs = {\n",
    "    **fig_kwargs,\n",
    "    \"axis_kwargs\" : {\n",
    "        **fig_kwargs[\"axis_kwargs\"],\n",
    "        \"legend_kwargs\" : None\n",
    "    },\n",
    "    \"suptitle\" : f\"Times Same Beer Peaks Fragmented ({template_name})\",\n",
    "    \"suptitle_size\" : 26\n",
    "}\n",
    "mpl_set_figure_style(fig, **kwargs)\n",
    "\n",
    "for case_name, ax in zip(cases, axes):\n",
    "    mpl_set_axis_style(ax, title=case_name, titlesize=24)"
   ]
  },
  {
   "cell_type": "markdown",
   "id": "e92f65d5",
   "metadata": {},
   "source": [
    "### Some other useful plots"
   ]
  },
  {
   "cell_type": "code",
   "execution_count": null,
   "id": "ef42ea1e",
   "metadata": {
    "execution": {
     "iopub.execute_input": "2022-12-09T19:55:15.960332Z",
     "iopub.status.busy": "2022-12-09T19:55:15.960006Z",
     "iopub.status.idle": "2022-12-09T19:58:28.731529Z",
     "shell.execute_reply": "2022-12-09T19:58:28.730510Z"
    }
   },
   "outputs": [],
   "source": [
    "plot_repeat = 6\n",
    "\n",
    "timings = same_case_names\n",
    "timings = [t for t in timings if t in same_case_names]\n",
    "\n",
    "frag_plots = [\n",
    "    \"topN_exclusion\",\n",
    "    \"hard_roi_exclusion\",\n",
    "    \"non_overlap\",\n",
    "    \"intensity_non_overlap\",\n",
    "    \"non_overlap_smartroi\",\n",
    "]\n",
    "frag_plots = [fp for fp in frag_plots if fp in same_case_names]\n",
    "\n",
    "cover_plots = [\n",
    "    \"non_overlap\",\n",
    "    \"intensity_non_overlap\"\n",
    "]\n",
    "cover_plots = [c for c in cover_plots if c in same_case_names]\n",
    "\n",
    "pickle_dir = os.path.join(os.path.abspath(out_dir), \"pickle\")\n",
    "needs_pkl = list(\n",
    "    set(same_case_names) & (set(timings) | set(frag_plots))\n",
    ")\n",
    "\n",
    "plot_repeat = min(\n",
    "    min(len(same_beer_exp.case_mzmls[case]) for case in needs_pkl), \n",
    "    repeat,\n",
    "    plot_repeat\n",
    ")\n",
    "case_pkls = load_pkls(pickle_dir, needs_pkl, plot_repeat)"
   ]
  },
  {
   "cell_type": "code",
   "execution_count": null,
   "id": "fe4c61ee",
   "metadata": {
    "execution": {
     "iopub.execute_input": "2022-12-09T19:58:28.737733Z",
     "iopub.status.busy": "2022-12-09T19:58:28.737452Z",
     "iopub.status.idle": "2022-12-09T20:05:34.601211Z",
     "shell.execute_reply": "2022-12-09T20:05:34.600101Z"
    }
   },
   "outputs": [],
   "source": [
    "for case_name in timings:\n",
    "    processing_times = [penv.processing_times for penv in case_pkls[case_name]]\n",
    "    fig, ax = seaborn_timing_hist(processing_times, binsize=0.001)\n",
    "    mpl_set_figure_style(fig, suptitle=case_name, suptitle_size=18)\n",
    "    del processing_times"
   ]
  },
  {
   "cell_type": "code",
   "execution_count": null,
   "id": "b9a24f34",
   "metadata": {
    "execution": {
     "iopub.execute_input": "2022-12-09T20:05:34.607922Z",
     "iopub.status.busy": "2022-12-09T20:05:34.607502Z",
     "iopub.status.idle": "2022-12-09T20:05:36.648082Z",
     "shell.execute_reply": "2022-12-09T20:05:36.647399Z"
    }
   },
   "outputs": [],
   "source": [
    "for case_name in timings:\n",
    "    processing_times = [penv.processing_times for penv in case_pkls[case_name]]\n",
    "    plotly_timing_hist(processing_times, case_name, binsize=0.001)\n",
    "    del processing_times"
   ]
  },
  {
   "cell_type": "code",
   "execution_count": null,
   "id": "2f883dd3",
   "metadata": {
    "execution": {
     "iopub.execute_input": "2022-12-09T20:05:36.654126Z",
     "iopub.status.busy": "2022-12-09T20:05:36.653776Z",
     "iopub.status.idle": "2022-12-09T20:19:49.769832Z",
     "shell.execute_reply": "2022-12-09T20:19:49.768822Z"
    }
   },
   "outputs": [],
   "source": [
    "for case_name in frag_plots:\n",
    "    mzmls = [mzml for _, mzml in same_beer_exp.case_mzmls[case_name]]\n",
    "    fig, ax = mpl_fragmentation_events(case_name, mzmls, colour_minm=math.log(500.0))\n",
    "    del mzmls"
   ]
  },
  {
   "cell_type": "code",
   "execution_count": null,
   "id": "cec4c9aa",
   "metadata": {
    "execution": {
     "iopub.execute_input": "2022-12-09T20:19:49.843969Z",
     "iopub.status.busy": "2022-12-09T20:19:49.843626Z",
     "iopub.status.idle": "2022-12-09T20:33:45.314585Z",
     "shell.execute_reply": "2022-12-09T20:33:45.313790Z"
    }
   },
   "outputs": [],
   "source": [
    "for case_name in frag_plots:\n",
    "    mzmls = [mzml for _, mzml in same_beer_exp.case_mzmls[case_name]]\n",
    "    plotly_fragmentation_events(case_name, mzmls, colour_minm=math.log(500.0))\n",
    "    del mzmls"
   ]
  },
  {
   "cell_type": "code",
   "execution_count": null,
   "id": "844cf254",
   "metadata": {
    "execution": {
     "iopub.execute_input": "2022-12-09T20:33:45.668292Z",
     "iopub.status.busy": "2022-12-09T20:33:45.667925Z",
     "iopub.status.idle": "2022-12-09T20:40:55.897566Z",
     "shell.execute_reply": "2022-12-09T20:40:55.896483Z"
    }
   },
   "outputs": [],
   "source": [
    "for case_name in frag_plots:\n",
    "    eva_i = same_beer_exp.case_names.index(case_name)\n",
    "    fig, ax = mpl_fragmented_boxes(case_name, same_beer_exp.evaluators[eva_i], min_intensity=0.0)\n",
    "    mpl_set_figure_style(fig, figure_sizes=(20, 10))"
   ]
  },
  {
   "cell_type": "code",
   "execution_count": null,
   "id": "8727ac5c",
   "metadata": {
    "execution": {
     "iopub.execute_input": "2022-12-09T20:40:55.906844Z",
     "iopub.status.busy": "2022-12-09T20:40:55.906575Z",
     "iopub.status.idle": "2022-12-09T20:51:53.455551Z",
     "shell.execute_reply": "2022-12-09T20:51:53.454509Z"
    }
   },
   "outputs": [],
   "source": [
    "for case_name in cover_plots:\n",
    "    eva_i = same_beer_exp.case_names.index(case_name)\n",
    "    \n",
    "    box_likes = [penv.bm.box_geometry.get_all_boxes() for penv in case_pkls[case_name]]\n",
    "    ex_figs = seaborn_uncovered_area_hist(\n",
    "        same_beer_exp.evaluators[eva_i],\n",
    "        box_likes,\n",
    "        binsize=None\n",
    "    )\n",
    "    \n",
    "    for fig, ax, name in ex_figs:\n",
    "        mpl_set_figure_style(fig, suptitle=case_name + f\" {name.lower()} pp box uncovered area w.r.t exclusion box\", suptitle_size=18)\n",
    "    \n",
    "    box_likes = load_pkls(pickle_dir, [case_name], plot_repeat, load_rois=True)[case_name]\n",
    "    roi_figs = seaborn_uncovered_area_hist(\n",
    "        same_beer_exp.evaluators[eva_i],\n",
    "        box_likes,\n",
    "        binsize=None\n",
    "    )\n",
    "    \n",
    "    for fig, ax, name in roi_figs:\n",
    "        mpl_set_figure_style(fig, suptitle=case_name + f\" {name.lower()} pp box uncovered area w.r.t roi box\", suptitle_size=18)\n",
    "    \n",
    "    del box_likes"
   ]
  },
  {
   "cell_type": "markdown",
   "id": "72b52cd7",
   "metadata": {},
   "source": [
    "### View Individual Features"
   ]
  },
  {
   "cell_type": "code",
   "execution_count": null,
   "id": "82ad39fe",
   "metadata": {
    "execution": {
     "iopub.execute_input": "2022-12-09T20:51:53.462804Z",
     "iopub.status.busy": "2022-12-09T20:51:53.462542Z",
     "iopub.status.idle": "2022-12-09T21:04:19.883432Z",
     "shell.execute_reply": "2022-12-09T21:04:19.882294Z"
    }
   },
   "outputs": [],
   "source": [
    "to_view = \"intensity_non_overlap\"\n",
    "eva_i = same_beer_exp.case_names.index(to_view)\n",
    "view_rois = load_pkls(pickle_dir, [to_view], plot_repeat, load_rois=True)[to_view]\n",
    "    \n",
    "viewer = BoxViewer()\n",
    "viewer.set_mzmls([mzml for _, mzml in same_beer_exp.case_mzmls[to_view][:plot_repeat]])\n",
    "viewer.add_evaluator_boxes([same_beer_exp.evaluators[eva_i]] * plot_repeat, name=\"fragmented\", min_intensity=0.0)\n",
    "viewer.add_roi_boxes(view_rois)\n",
    "viewer.add_geom_boxes([penv.bm.box_geometry for penv in case_pkls[to_view]])\n",
    "viewer.summarise()"
   ]
  },
  {
   "cell_type": "code",
   "execution_count": null,
   "id": "e9e7d1c5",
   "metadata": {
    "execution": {
     "iopub.execute_input": "2022-12-09T21:04:19.894207Z",
     "iopub.status.busy": "2022-12-09T21:04:19.893844Z",
     "iopub.status.idle": "2022-12-09T21:04:25.243084Z",
     "shell.execute_reply": "2022-12-09T21:04:25.242218Z"
    }
   },
   "outputs": [],
   "source": [
    "#for the justinbeers with min_intensity=5000, duty cycle never runs out of things to do, so scans happen in exact same sequence\n",
    "#with fixed scan lengths points then line up exactly\n",
    "#in other circumstances this may not be the case\n",
    "\n",
    "box_index = 0\n",
    "boxset_index = 0\n",
    "rt_buffer = 3\n",
    "mz_buffer = 1E-3\n",
    "\n",
    "fig, axes = viewer.mpl_show_box(\n",
    "    box_index=box_index,\n",
    "    boxset_index=boxset_index,\n",
    "    rt_buffer=rt_buffer,\n",
    "    mz_buffer=mz_buffer,\n",
    "    ms_level=1,\n",
    "    colour_minm=math.log(500.0),\n",
    "    abs_scaling=True\n",
    ")\n",
    "\n",
    "mpl_set_figure_style(fig, suptitle=to_view, suptitle_size=18)"
   ]
  },
  {
   "cell_type": "code",
   "execution_count": null,
   "id": "3463b5ec",
   "metadata": {
    "execution": {
     "iopub.execute_input": "2022-12-09T21:04:25.252957Z",
     "iopub.status.busy": "2022-12-09T21:04:25.252697Z",
     "iopub.status.idle": "2022-12-09T21:04:25.579584Z",
     "shell.execute_reply": "2022-12-09T21:04:25.578703Z"
    }
   },
   "outputs": [],
   "source": [
    "viewer.summarise_box(\n",
    "    box_index=box_index,\n",
    "    boxset_index=boxset_index,\n",
    "    rt_buffer=rt_buffer,\n",
    "    mz_buffer=mz_buffer\n",
    ")"
   ]
  },
  {
   "cell_type": "code",
   "execution_count": null,
   "id": "f12b726f",
   "metadata": {
    "execution": {
     "iopub.execute_input": "2022-12-09T21:04:25.583838Z",
     "iopub.status.busy": "2022-12-09T21:04:25.583483Z",
     "iopub.status.idle": "2022-12-09T21:04:32.873998Z",
     "shell.execute_reply": "2022-12-09T21:04:32.873031Z"
    }
   },
   "outputs": [],
   "source": [
    "del case_pkls\n",
    "del view_rois"
   ]
  },
  {
   "cell_type": "code",
   "execution_count": null,
   "id": "6e0aa073",
   "metadata": {
    "execution": {
     "iopub.execute_input": "2022-12-09T21:04:32.886845Z",
     "iopub.status.busy": "2022-12-09T21:04:32.886586Z",
     "iopub.status.idle": "2022-12-09T21:04:33.541296Z",
     "shell.execute_reply": "2022-12-09T21:04:33.540292Z"
    }
   },
   "outputs": [],
   "source": [
    "del viewer"
   ]
  },
  {
   "cell_type": "markdown",
   "id": "04c76ef3",
   "metadata": {},
   "source": [
    "# 2. Different Beers"
   ]
  },
  {
   "cell_type": "code",
   "execution_count": null,
   "id": "e503d08d",
   "metadata": {
    "execution": {
     "iopub.execute_input": "2022-12-09T21:04:33.549115Z",
     "iopub.status.busy": "2022-12-09T21:04:33.548731Z",
     "iopub.status.idle": "2022-12-09T21:04:33.583064Z",
     "shell.execute_reply": "2022-12-09T21:04:33.582074Z"
    }
   },
   "outputs": [],
   "source": [
    "repeat = 6\n",
    "out_dir = \"new_different_beer\"\n",
    "\n",
    "diff_case_names = [\n",
    "    \"topN\",\n",
    "    \"topN_RoI\",\n",
    "    \"topN_exclusion\",\n",
    "    \"topNEx\",\n",
    "    \"topNEx_smartroi\",\n",
    "    \"topNEx_weighteddew\",\n",
    "    \"hard_roi_exclusion\",\n",
    "    \"hard_roi_exclusion_smartroi\",\n",
    "    \"hard_roi_exclusion_weighteddew\",\n",
    "    \"intensity_roi_exclusion\",\n",
    "    \"intensity_roi_exclusion_smartroi\",\n",
    "    \"intensity_roi_exclusion_weighteddew\",\n",
    "    \"non_overlap\",\n",
    "    \"non_overlap_smartroi\",\n",
    "    \"non_overlap_weighteddew\",\n",
    "    \"intensity_non_overlap\",\n",
    "    \"intensity_non_overlap_smartroi\",\n",
    "    \"intensity_non_overlap_weighteddew\",\n",
    "]\n",
    "\n",
    "line_colours, line_markers = get_line_styles(diff_case_names)"
   ]
  },
  {
   "cell_type": "code",
   "execution_count": null,
   "id": "8903eab6",
   "metadata": {
    "execution": {
     "iopub.execute_input": "2022-12-09T21:04:33.587764Z",
     "iopub.status.busy": "2022-12-09T21:04:33.587437Z",
     "iopub.status.idle": "2022-12-09T21:04:33.614403Z",
     "shell.execute_reply": "2022-12-09T21:04:33.613649Z"
    }
   },
   "outputs": [],
   "source": [
    "diff_beer_exp = Experiment.load_from_json(\n",
    "    file_dir = out_dir,\n",
    "    file_name = \"keyfile.json\",\n",
    "    out_dir = out_dir,\n",
    "    fullscan_dir = multibeer_dir,\n",
    "    amend_result_path = True,\n",
    "    case_names = diff_case_names\n",
    ")"
   ]
  },
  {
   "cell_type": "code",
   "execution_count": null,
   "id": "38c5f6cb",
   "metadata": {
    "execution": {
     "iopub.execute_input": "2022-12-09T21:04:33.619545Z",
     "iopub.status.busy": "2022-12-09T21:04:33.619242Z",
     "iopub.status.idle": "2022-12-09T21:52:54.622590Z",
     "shell.execute_reply": "2022-12-09T21:52:54.621143Z"
    }
   },
   "outputs": [],
   "source": [
    "isolation_width = 1.0\n",
    "true_repeat = min(\n",
    "    repeat,\n",
    "    len(diff_beer_exp.case_mzmls[diff_beer_exp.case_names[0]])\n",
    ")\n",
    "\n",
    "diff_beer_exp.evaluate(\n",
    "    num_workers = num_workers,\n",
    "    isolation_widths = isolation_width,\n",
    "    max_repeat = repeat,\n",
    "    aligned_names = f\"multibeers_{true_repeat}_1\" + template_suffix,\n",
    "    mzmine_templates = mzmine_template,\n",
    "    mzmine_exe = mzmine_path,\n",
    "    force_peak_picking = False,\n",
    "    check_mzmine = \"exact\"\n",
    ")\n",
    "\n",
    "diff_beer_exp.summarise(num_workers=num_workers, rank_key=\"cumulative_intensity_proportion\")"
   ]
  },
  {
   "cell_type": "code",
   "execution_count": null,
   "id": "c2fb84df",
   "metadata": {
    "execution": {
     "iopub.execute_input": "2022-12-09T21:52:54.632315Z",
     "iopub.status.busy": "2022-12-09T21:52:54.632058Z",
     "iopub.status.idle": "2022-12-09T22:00:19.893029Z",
     "shell.execute_reply": "2022-12-09T22:00:19.892285Z"
    }
   },
   "outputs": [],
   "source": [
    "fig, axes = mpl_results_plot(\n",
    "    diff_case_names,\n",
    "    diff_beer_exp.evaluators,\n",
    "    min_intensity=0.0,\n",
    "    colours=line_colours,\n",
    "    markers=line_markers,\n",
    ")\n",
    "\n",
    "mpl_set_figure_style(fig, **{**fig_kwargs, \"suptitle\" : \"Different Beers\", \"suptitle_size\" : 26})"
   ]
  },
  {
   "cell_type": "code",
   "execution_count": null,
   "id": "395dcba7",
   "metadata": {
    "execution": {
     "iopub.execute_input": "2022-12-09T22:00:19.898934Z",
     "iopub.status.busy": "2022-12-09T22:00:19.898695Z",
     "iopub.status.idle": "2022-12-09T22:07:39.473478Z",
     "shell.execute_reply": "2022-12-09T22:07:39.472544Z"
    }
   },
   "outputs": [],
   "source": [
    "plotly_results_plot(\n",
    "    diff_case_names,\n",
    "    diff_beer_exp.evaluators,\n",
    "    min_intensity=0.0,\n",
    "    suptitle=\"Different Beers ({template_name})\"\n",
    ")"
   ]
  },
  {
   "cell_type": "markdown",
   "id": "73682ff8",
   "metadata": {},
   "source": [
    "# 3. Repeating Different Beers"
   ]
  },
  {
   "cell_type": "code",
   "execution_count": null,
   "id": "a9769c4b",
   "metadata": {
    "execution": {
     "iopub.execute_input": "2022-12-09T22:07:39.486496Z",
     "iopub.status.busy": "2022-12-09T22:07:39.486237Z",
     "iopub.status.idle": "2022-12-09T22:07:39.529000Z",
     "shell.execute_reply": "2022-12-09T22:07:39.528178Z"
    }
   },
   "outputs": [],
   "source": [
    "bio_repeat = 6\n",
    "tech_repeat = 4\n",
    "repeat = bio_repeat * tech_repeat\n",
    "out_dir = \"new_repeated_different_beer\"\n",
    "\n",
    "rep_diff_case_names = [\n",
    "    \"topN\",\n",
    "    \"topN_RoI\",\n",
    "    \"topN_exclusion\",\n",
    "    \"topNEx\",\n",
    "    \"topNEx_smartroi\",\n",
    "    \"topNEx_weighteddew\",\n",
    "    \"hard_roi_exclusion\",\n",
    "    \"hard_roi_exclusion_smartroi\",\n",
    "    \"hard_roi_exclusion_weighteddew\",\n",
    "    \"intensity_roi_exclusion\",\n",
    "    \"intensity_roi_exclusion_smartroi\",\n",
    "    \"intensity_roi_exclusion_weighteddew\",\n",
    "    \"non_overlap\",\n",
    "    \"non_overlap_smartroi\",\n",
    "    \"non_overlap_weighteddew\",\n",
    "    \"intensity_non_overlap\",\n",
    "    \"intensity_non_overlap_smartroi\",\n",
    "    \"intensity_non_overlap_weighteddew\",\n",
    "]\n",
    "\n",
    "line_colours, line_markers = get_line_styles(rep_diff_case_names)"
   ]
  },
  {
   "cell_type": "code",
   "execution_count": null,
   "id": "aa786e77",
   "metadata": {
    "execution": {
     "iopub.execute_input": "2022-12-09T22:07:39.532383Z",
     "iopub.status.busy": "2022-12-09T22:07:39.532060Z",
     "iopub.status.idle": "2022-12-09T22:07:39.561206Z",
     "shell.execute_reply": "2022-12-09T22:07:39.560434Z"
    }
   },
   "outputs": [],
   "source": [
    "rep_diff_beer_exp = Experiment.load_from_json(\n",
    "    file_dir = out_dir,\n",
    "    file_name = \"keyfile.json\",\n",
    "    out_dir = out_dir,\n",
    "    fullscan_dir = multibeer_dir,\n",
    "    amend_result_path = True,\n",
    "    case_names = rep_diff_case_names\n",
    ")"
   ]
  },
  {
   "cell_type": "code",
   "execution_count": null,
   "id": "93947b47",
   "metadata": {
    "execution": {
     "iopub.execute_input": "2022-12-09T22:07:39.565539Z",
     "iopub.status.busy": "2022-12-09T22:07:39.565310Z",
     "iopub.status.idle": "2022-12-10T01:12:10.853777Z",
     "shell.execute_reply": "2022-12-10T01:12:10.852592Z"
    }
   },
   "outputs": [],
   "source": [
    "isolation_width = 1.0\n",
    "rep_diff_beer_exp.evaluate(\n",
    "    num_workers = num_workers,\n",
    "    isolation_widths = isolation_width,\n",
    "    max_repeat = repeat,\n",
    "    aligned_names = f\"multibeers_{bio_repeat}_{tech_repeat}\" + template_suffix,\n",
    "    mzmine_templates = mzmine_template,\n",
    "    mzmine_exe = mzmine_path,\n",
    "    force_peak_picking = False,\n",
    "    check_mzmine = \"exact\"\n",
    ")\n",
    "\n",
    "rep_diff_beer_exp.summarise(num_workers=num_workers, rank_key=\"cumulative_intensity_proportion\")"
   ]
  },
  {
   "cell_type": "code",
   "execution_count": null,
   "id": "cf941bdd",
   "metadata": {
    "execution": {
     "iopub.execute_input": "2022-12-10T01:12:10.863100Z",
     "iopub.status.busy": "2022-12-10T01:12:10.862824Z",
     "iopub.status.idle": "2022-12-10T01:41:21.155186Z",
     "shell.execute_reply": "2022-12-10T01:41:21.154326Z"
    }
   },
   "outputs": [],
   "source": [
    "fig, axes = mpl_results_plot(\n",
    "    rep_diff_case_names,\n",
    "    rep_diff_beer_exp.evaluators,\n",
    "    min_intensity=0.0,\n",
    "    colours=line_colours,\n",
    "    markers=line_markers,\n",
    ")\n",
    "\n",
    "kwargs = {\n",
    "    **fig_kwargs, \n",
    "    \"suptitle\" : f\"{bio_repeat} Different Beers with {tech_repeat} Replicates\", \n",
    "    \"suptitle_size\" : 26\n",
    "}\n",
    "mpl_set_figure_style(fig, **kwargs)"
   ]
  },
  {
   "cell_type": "code",
   "execution_count": null,
   "id": "15ab69ba",
   "metadata": {
    "execution": {
     "iopub.execute_input": "2022-12-10T01:41:21.167318Z",
     "iopub.status.busy": "2022-12-10T01:41:21.167061Z",
     "iopub.status.idle": "2022-12-10T02:08:43.211086Z",
     "shell.execute_reply": "2022-12-10T02:08:43.210023Z"
    }
   },
   "outputs": [],
   "source": [
    "plotly_results_plot(\n",
    "    rep_diff_case_names,\n",
    "    rep_diff_beer_exp.evaluators,\n",
    "    min_intensity=0.0,\n",
    "    suptitle=f\"{bio_repeat} Different Beers with {tech_repeat} Replicates\"\n",
    ")"
   ]
  },
  {
   "cell_type": "code",
   "execution_count": null,
   "id": "9a580dd2",
   "metadata": {
    "execution": {
     "iopub.execute_input": "2022-12-10T02:08:43.227401Z",
     "iopub.status.busy": "2022-12-10T02:08:43.227142Z",
     "iopub.status.idle": "2022-12-10T02:16:05.080535Z",
     "shell.execute_reply": "2022-12-10T02:16:05.079485Z"
    }
   },
   "outputs": [],
   "source": [
    "cases = [\n",
    "    case_name\n",
    "    for case_name in [\"topN\", \"topN_exclusion\", \"non_overlap\", \"intensity_non_overlap\"]\n",
    "    if case_name in rep_diff_case_names\n",
    "]\n",
    "\n",
    "evals = [rep_diff_beer_exp.get_evaluator_by_name(case_name) for case_name in cases]\n",
    "colours = [get_style(case_name)[0] for case_name in cases]\n",
    "\n",
    "fig, axes = mpl_fragmentation_counts(\n",
    "    evals, \n",
    "    min_intensity=0.0, \n",
    "    key=\"times_covered_summary\", \n",
    "    fcs=colours\n",
    ")\n",
    "\n",
    "kwargs = {\n",
    "    **fig_kwargs,\n",
    "    \"axis_kwargs\" : {\n",
    "        **fig_kwargs[\"axis_kwargs\"],\n",
    "        \"legend_kwargs\" : None\n",
    "    },\n",
    "    \"suptitle\" : f\"Times Repeated Different Beer Peaks Covered ({template_name})\",\n",
    "    \"suptitle_size\" : 26\n",
    "}\n",
    "mpl_set_figure_style(fig, **kwargs)\n",
    "\n",
    "for case_name, ax in zip(cases, axes):\n",
    "    mpl_set_axis_style(ax, title=case_name, titlesize=24)"
   ]
  },
  {
   "cell_type": "code",
   "execution_count": null,
   "id": "052e5fce",
   "metadata": {
    "execution": {
     "iopub.execute_input": "2022-12-10T02:16:05.088308Z",
     "iopub.status.busy": "2022-12-10T02:16:05.088049Z",
     "iopub.status.idle": "2022-12-10T02:22:13.115938Z",
     "shell.execute_reply": "2022-12-10T02:22:13.114896Z"
    }
   },
   "outputs": [],
   "source": [
    "cases = [\n",
    "    case_name\n",
    "    for case_name in [\"topN\", \"topN_exclusion\", \"non_overlap\", \"intensity_non_overlap\"]\n",
    "    if case_name in rep_diff_case_names\n",
    "]\n",
    "\n",
    "evals = [rep_diff_beer_exp.get_evaluator_by_name(case_name) for case_name in cases]\n",
    "colours = [get_style(case_name)[0] for case_name in cases]\n",
    "\n",
    "fig, axes = mpl_fragmentation_counts(\n",
    "    evals, \n",
    "    min_intensity=0.0, \n",
    "    key=\"times_fragmented_summary\", \n",
    "    fcs=colours\n",
    ")\n",
    "\n",
    "kwargs = {\n",
    "    **fig_kwargs,\n",
    "    \"axis_kwargs\" : {\n",
    "        **fig_kwargs[\"axis_kwargs\"],\n",
    "        \"legend_kwargs\" : None\n",
    "    },\n",
    "    \"suptitle\" : f\"Times Repeated Different Beer Peaks Fragmented ({template_name})\",\n",
    "    \"suptitle_size\" : 26\n",
    "}\n",
    "mpl_set_figure_style(fig, **kwargs)\n",
    "\n",
    "for case_name, ax in zip(cases, axes):\n",
    "    mpl_set_axis_style(ax, title=case_name, titlesize=24)"
   ]
  },
  {
   "cell_type": "code",
   "execution_count": null,
   "id": "6111b931",
   "metadata": {},
   "outputs": [],
   "source": []
  }
 ],
 "metadata": {
  "kernelspec": {
   "display_name": "Python 3 (ipykernel)",
   "language": "python",
   "name": "python3"
  },
  "language_info": {
   "codemirror_mode": {
    "name": "ipython",
    "version": 3
   },
   "file_extension": ".py",
   "mimetype": "text/x-python",
   "name": "python",
   "nbconvert_exporter": "python",
   "pygments_lexer": "ipython3",
   "version": "3.9.12"
  }
 },
 "nbformat": 4,
 "nbformat_minor": 5
}
