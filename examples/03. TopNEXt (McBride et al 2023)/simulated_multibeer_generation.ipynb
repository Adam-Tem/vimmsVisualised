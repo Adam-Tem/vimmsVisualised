{
 "cells": [
  {
   "cell_type": "markdown",
   "id": "9cce0c43",
   "metadata": {},
   "source": [
    "# 0. Preliminaries"
   ]
  },
  {
   "cell_type": "code",
   "execution_count": 1,
   "id": "c26bc87b",
   "metadata": {},
   "outputs": [],
   "source": [
    "%matplotlib inline\n",
    "%load_ext autoreload\n",
    "%autoreload 2"
   ]
  },
  {
   "cell_type": "code",
   "execution_count": 2,
   "id": "264e9781",
   "metadata": {},
   "outputs": [],
   "source": [
    "import sys\n",
    "import os\n",
    "import platform\n",
    "import re"
   ]
  },
  {
   "cell_type": "code",
   "execution_count": 3,
   "id": "dec3d711",
   "metadata": {},
   "outputs": [],
   "source": [
    "'''\n",
    "if platform.system() == 'Darwin':\n",
    "    user = 'joewandy'\n",
    "elif platform.system() == 'Windows':\n",
    "    user = 'joewa'\n",
    "    \n",
    "user_vimms = '/Users/%s/Work/git/vimms' % user\n",
    "'''\n",
    "#user_vimms = os.path.join(\"C:\\\\\", \"Users\", \"mcbrider5002\", \"Desktop\", \"Workspace\", \"phd\", \"peak_picking\", \"vimms\")\n",
    "user_vimms = \"vimms\"\n",
    "sys.path.append(user_vimms)"
   ]
  },
  {
   "cell_type": "code",
   "execution_count": 4,
   "id": "3ea184d5",
   "metadata": {},
   "outputs": [
    {
     "name": "stderr",
     "output_type": "stream",
     "text": [
      " C:\\Users\\mcbrider5002\\anaconda3\\lib\\site-packages\\psims\\mzmlb\\writer.py:15: UserWarning:hdf5plugin is missing! Only the slower GZIP compression scheme will be available! Please install hdf5plugin to be able to use Blosc.\n"
     ]
    }
   ],
   "source": [
    "from vimms.Common import (\n",
    "    POSITIVE, ROI_TYPE_SMART, ROI_EXCLUSION_WEIGHTED_DEW,\n",
    "    set_log_level_warning,\n",
    ")\n",
    "\n",
    "from vimms.Roi import RoiBuilderParams, SmartRoiParams\n",
    "from vimms.Experiment import ExperimentCase, Experiment\n",
    "from vimms.Controller import TopNController"
   ]
  },
  {
   "cell_type": "code",
   "execution_count": 5,
   "id": "002c4d2e",
   "metadata": {},
   "outputs": [
    {
     "data": {
      "text/plain": [
       "1"
      ]
     },
     "execution_count": 5,
     "metadata": {},
     "output_type": "execute_result"
    }
   ],
   "source": [
    "ionisation_mode = POSITIVE\n",
    "pbar = False\n",
    "set_log_level_warning()"
   ]
  },
  {
   "cell_type": "markdown",
   "id": "8ebf7675",
   "metadata": {},
   "source": [
    "### Get seed data"
   ]
  },
  {
   "cell_type": "code",
   "execution_count": 6,
   "id": "92edebad",
   "metadata": {},
   "outputs": [],
   "source": [
    "def match_files(data_dir, regex):\n",
    "    pattern = re.compile(regex)\n",
    "    files = (\n",
    "        (int(pattern.match(fname).group(1)), fname)\n",
    "        for fname in os.listdir(data_dir)\n",
    "        if not pattern.match(fname) is None\n",
    "    )\n",
    "\n",
    "    return [\n",
    "        os.path.join(data_dir, fname) \n",
    "        for _, fname in sorted(files, key=lambda p: p[0])\n",
    "    ]"
   ]
  },
  {
   "cell_type": "code",
   "execution_count": 7,
   "id": "d3523d03",
   "metadata": {},
   "outputs": [],
   "source": [
    "#multi_dir = \"/Users/%s/University of Glasgow/Vinny Davies - CLDS Metabolomics Project/Experimental_Results/20220706_DDAvsDIA\" % user\n",
    "multi_dir = \"20220719_multi_samples_main\"\n",
    "multibeer_dir = os.path.join(multi_dir, \"results_4\")"
   ]
  },
  {
   "cell_type": "code",
   "execution_count": 8,
   "id": "4ef5cc6c",
   "metadata": {},
   "outputs": [],
   "source": [
    "multibeer_fullscans = match_files(multibeer_dir, r\"fullscan_beer([0-9]+)_0.mzML\")"
   ]
  },
  {
   "cell_type": "markdown",
   "id": "6a2f434c",
   "metadata": {},
   "source": [
    "### Specify parameters"
   ]
  },
  {
   "cell_type": "code",
   "execution_count": 9,
   "id": "ac58923f",
   "metadata": {},
   "outputs": [],
   "source": [
    "num_workers = 8 #can't always use number of physical cores because of memory constraints"
   ]
  },
  {
   "cell_type": "code",
   "execution_count": 10,
   "id": "81fb10bc",
   "metadata": {},
   "outputs": [],
   "source": [
    "#coverage params\n",
    "'''\n",
    "experiment_params = {\n",
    "    \"topN_params\": {\n",
    "        \"ionisation_mode\" : ionisation_mode,\n",
    "        \"N\" : 10,\n",
    "        \"isolation_width\" : 1,\n",
    "        \"min_ms1_intensity\" : 5000,\n",
    "        \"mz_tol\" : 10,\n",
    "        \"rt_tol\" : 60\n",
    "    },\n",
    "    \n",
    "    \"roi_params\" : {\n",
    "        \"min_roi_length_for_fragmentation\" : 0,\n",
    "        \"roi_params\" : RoiBuilderParams(\n",
    "                            min_roi_intensity=0,\n",
    "                            min_roi_length=3,\n",
    "                       )\n",
    "    },\n",
    "    \n",
    "    \"non_overlap_params\": {\n",
    "    },\n",
    "    \n",
    "    \"smartroi_params\": {\n",
    "        \"rt_tol\" : 15,\n",
    "        \"smartroi_params\" : SmartRoiParams(\n",
    "                                reset_length_seconds=1E6,\n",
    "                                intensity_increase_factor=3,\n",
    "                                drop_perc=0.001\n",
    "                            )  \n",
    "    },\n",
    "    \n",
    "    \"weighteddew_params\": {\n",
    "        \"rt_tol\": 120,\n",
    "        \"exclusion_method\": ROI_EXCLUSION_WEIGHTED_DEW,\n",
    "        \"exclusion_t_0\": 60\n",
    "    }    \n",
    "}\n",
    "'''\n",
    "\n",
    "#intensity params\n",
    "experiment_params = {\n",
    "    \"topN_params\": {\n",
    "        \"ionisation_mode\" : ionisation_mode,\n",
    "        \"N\" : 20,\n",
    "        \"isolation_width\" : 1,\n",
    "        \"min_ms1_intensity\" : 5000,\n",
    "        \"mz_tol\" : 10,\n",
    "        \"rt_tol\" : 60\n",
    "    },\n",
    "    \n",
    "    \"roi_params\" : {\n",
    "        \"min_roi_length_for_fragmentation\" : 0,\n",
    "        \"roi_params\" : RoiBuilderParams(\n",
    "                            min_roi_intensity=0,\n",
    "                            min_roi_length=3,\n",
    "                       )\n",
    "    },\n",
    "    \n",
    "    \"non_overlap_params\": {\n",
    "    },\n",
    "    \n",
    "    \"smartroi_params\": {\n",
    "        \"rt_tol\" : 15,\n",
    "        \"smartroi_params\" : SmartRoiParams(\n",
    "                                reset_length_seconds=1E6,\n",
    "                                intensity_increase_factor=3,\n",
    "                                drop_perc=0.001\n",
    "                            )  \n",
    "    },\n",
    "    \n",
    "    \"weighteddew_params\": {\n",
    "        \"rt_tol\": 60,\n",
    "        \"exclusion_method\": ROI_EXCLUSION_WEIGHTED_DEW,\n",
    "        \"exclusion_t_0\": 1\n",
    "    }    \n",
    "}\n",
    "\n",
    "min_rt = 0\n",
    "max_rt = 1440\n",
    "scan_duration_dict = { #CHANGED FROM QCB\n",
    "    1: 0.59,\n",
    "    2: 0.19\n",
    "}\n",
    "point_noise_threshold = 0 #CHANGED FROM QCB"
   ]
  },
  {
   "cell_type": "markdown",
   "id": "8f73ea01",
   "metadata": {},
   "source": [
    "### Specify controllers to run"
   ]
  },
  {
   "cell_type": "code",
   "execution_count": 11,
   "id": "c4d243d7",
   "metadata": {},
   "outputs": [],
   "source": [
    "topN_params = experiment_params[\"topN_params\"]\n",
    "roi_params = {**topN_params, **experiment_params[\"roi_params\"]}\n",
    "non_overlap_params = {**roi_params, **experiment_params[\"non_overlap_params\"]}\n",
    "\n",
    "cases = [\n",
    "    (\"topN\", topN_params),\n",
    "    (\"topN_RoI\", roi_params),\n",
    "    (\"topN_exclusion\", topN_params),\n",
    "    (\"topNEx\", non_overlap_params),\n",
    "    (\"hard_roi_exclusion\", non_overlap_params),\n",
    "    (\"intensity_roi_exclusion\", non_overlap_params),\n",
    "    (\"non_overlap\", non_overlap_params),\n",
    "    (\"intensity_non_overlap\", non_overlap_params)\n",
    "]\n",
    "\n",
    "no_smartroi = [\"topN\", \"topN_RoI\", \"topN_exclusion\"]\n",
    "#run_smartroi = []\n",
    "run_smartroi = [name for name, _ in cases if not name in no_smartroi]\n",
    "#run_weighteddew = []\n",
    "run_weighteddew = [name for name, _ in cases if not name in no_smartroi]"
   ]
  },
  {
   "cell_type": "code",
   "execution_count": 12,
   "id": "738c8a3e",
   "metadata": {},
   "outputs": [],
   "source": [
    "new_cases = []\n",
    "for controller_type, params in cases:\n",
    "    new_cases.append(\n",
    "        (controller_type, controller_type, params)\n",
    "    )\n",
    "    \n",
    "    if(controller_type in run_smartroi):\n",
    "        new_name = controller_type + \"_smartroi\"\n",
    "        new_params = {**params, **experiment_params[\"smartroi_params\"]}\n",
    "        new_cases.append(\n",
    "            (controller_type, new_name, new_params)\n",
    "        )\n",
    "        \n",
    "    if(controller_type in run_weighteddew):\n",
    "        new_name = controller_type + \"_weighteddew\"\n",
    "        new_params = {**params, **experiment_params[\"weighteddew_params\"]}\n",
    "        new_cases.append(\n",
    "            (controller_type, new_name, new_params)\n",
    "        )\n",
    "        \n",
    "cases = new_cases"
   ]
  },
  {
   "cell_type": "code",
   "execution_count": 13,
   "id": "0e751a15",
   "metadata": {
    "scrolled": true
   },
   "outputs": [
    {
     "name": "stdout",
     "output_type": "stream",
     "text": [
      "NAME: topN\n",
      "CONTROLLER TYPE: topN\n",
      "PARAMS: {'ionisation_mode': 'Positive', 'N': 20, 'isolation_width': 1, 'min_ms1_intensity': 5000, 'mz_tol': 10, 'rt_tol': 60}\n",
      "\n",
      "NAME: topN_RoI\n",
      "CONTROLLER TYPE: topN_RoI\n",
      "PARAMS: {'ionisation_mode': 'Positive', 'N': 20, 'isolation_width': 1, 'min_ms1_intensity': 5000, 'mz_tol': 10, 'rt_tol': 60, 'min_roi_length_for_fragmentation': 0, 'roi_params': {'mz_tol': 10, 'min_roi_length': 3, 'min_roi_intensity': 0, 'at_least_one_point_above': 0, 'start_rt': 0, 'stop_rt': 100000.0, 'max_gaps_allowed': 0}}\n",
      "\n",
      "NAME: topN_exclusion\n",
      "CONTROLLER TYPE: topN_exclusion\n",
      "PARAMS: {'ionisation_mode': 'Positive', 'N': 20, 'isolation_width': 1, 'min_ms1_intensity': 5000, 'mz_tol': 10, 'rt_tol': 60}\n",
      "\n",
      "NAME: topNEx\n",
      "CONTROLLER TYPE: topNEx\n",
      "PARAMS: {'ionisation_mode': 'Positive', 'N': 20, 'isolation_width': 1, 'min_ms1_intensity': 5000, 'mz_tol': 10, 'rt_tol': 60, 'min_roi_length_for_fragmentation': 0, 'roi_params': {'mz_tol': 10, 'min_roi_length': 3, 'min_roi_intensity': 0, 'at_least_one_point_above': 0, 'start_rt': 0, 'stop_rt': 100000.0, 'max_gaps_allowed': 0}}\n",
      "\n",
      "NAME: topNEx_smartroi\n",
      "CONTROLLER TYPE: topNEx\n",
      "PARAMS: {'ionisation_mode': 'Positive', 'N': 20, 'isolation_width': 1, 'min_ms1_intensity': 5000, 'mz_tol': 10, 'rt_tol': 15, 'min_roi_length_for_fragmentation': 0, 'roi_params': {'mz_tol': 10, 'min_roi_length': 3, 'min_roi_intensity': 0, 'at_least_one_point_above': 0, 'start_rt': 0, 'stop_rt': 100000.0, 'max_gaps_allowed': 0}, 'smartroi_params': {'initial_length_seconds': 5, 'reset_length_seconds': 1000000.0, 'intensity_increase_factor': 3, 'drop_perc': 0.001, 'dew': 15}}\n",
      "\n",
      "NAME: topNEx_weighteddew\n",
      "CONTROLLER TYPE: topNEx\n",
      "PARAMS: {'ionisation_mode': 'Positive', 'N': 20, 'isolation_width': 1, 'min_ms1_intensity': 5000, 'mz_tol': 10, 'rt_tol': 60, 'min_roi_length_for_fragmentation': 0, 'roi_params': {'mz_tol': 10, 'min_roi_length': 3, 'min_roi_intensity': 0, 'at_least_one_point_above': 0, 'start_rt': 0, 'stop_rt': 100000.0, 'max_gaps_allowed': 0}, 'exclusion_method': 'exclusion_weighted_dew', 'exclusion_t_0': 1}\n",
      "\n",
      "NAME: hard_roi_exclusion\n",
      "CONTROLLER TYPE: hard_roi_exclusion\n",
      "PARAMS: {'ionisation_mode': 'Positive', 'N': 20, 'isolation_width': 1, 'min_ms1_intensity': 5000, 'mz_tol': 10, 'rt_tol': 60, 'min_roi_length_for_fragmentation': 0, 'roi_params': {'mz_tol': 10, 'min_roi_length': 3, 'min_roi_intensity': 0, 'at_least_one_point_above': 0, 'start_rt': 0, 'stop_rt': 100000.0, 'max_gaps_allowed': 0}}\n",
      "\n",
      "NAME: hard_roi_exclusion_smartroi\n",
      "CONTROLLER TYPE: hard_roi_exclusion\n",
      "PARAMS: {'ionisation_mode': 'Positive', 'N': 20, 'isolation_width': 1, 'min_ms1_intensity': 5000, 'mz_tol': 10, 'rt_tol': 15, 'min_roi_length_for_fragmentation': 0, 'roi_params': {'mz_tol': 10, 'min_roi_length': 3, 'min_roi_intensity': 0, 'at_least_one_point_above': 0, 'start_rt': 0, 'stop_rt': 100000.0, 'max_gaps_allowed': 0}, 'smartroi_params': {'initial_length_seconds': 5, 'reset_length_seconds': 1000000.0, 'intensity_increase_factor': 3, 'drop_perc': 0.001, 'dew': 15}}\n",
      "\n",
      "NAME: hard_roi_exclusion_weighteddew\n",
      "CONTROLLER TYPE: hard_roi_exclusion\n",
      "PARAMS: {'ionisation_mode': 'Positive', 'N': 20, 'isolation_width': 1, 'min_ms1_intensity': 5000, 'mz_tol': 10, 'rt_tol': 60, 'min_roi_length_for_fragmentation': 0, 'roi_params': {'mz_tol': 10, 'min_roi_length': 3, 'min_roi_intensity': 0, 'at_least_one_point_above': 0, 'start_rt': 0, 'stop_rt': 100000.0, 'max_gaps_allowed': 0}, 'exclusion_method': 'exclusion_weighted_dew', 'exclusion_t_0': 1}\n",
      "\n",
      "NAME: intensity_roi_exclusion\n",
      "CONTROLLER TYPE: intensity_roi_exclusion\n",
      "PARAMS: {'ionisation_mode': 'Positive', 'N': 20, 'isolation_width': 1, 'min_ms1_intensity': 5000, 'mz_tol': 10, 'rt_tol': 60, 'min_roi_length_for_fragmentation': 0, 'roi_params': {'mz_tol': 10, 'min_roi_length': 3, 'min_roi_intensity': 0, 'at_least_one_point_above': 0, 'start_rt': 0, 'stop_rt': 100000.0, 'max_gaps_allowed': 0}}\n",
      "\n",
      "NAME: intensity_roi_exclusion_smartroi\n",
      "CONTROLLER TYPE: intensity_roi_exclusion\n",
      "PARAMS: {'ionisation_mode': 'Positive', 'N': 20, 'isolation_width': 1, 'min_ms1_intensity': 5000, 'mz_tol': 10, 'rt_tol': 15, 'min_roi_length_for_fragmentation': 0, 'roi_params': {'mz_tol': 10, 'min_roi_length': 3, 'min_roi_intensity': 0, 'at_least_one_point_above': 0, 'start_rt': 0, 'stop_rt': 100000.0, 'max_gaps_allowed': 0}, 'smartroi_params': {'initial_length_seconds': 5, 'reset_length_seconds': 1000000.0, 'intensity_increase_factor': 3, 'drop_perc': 0.001, 'dew': 15}}\n",
      "\n",
      "NAME: intensity_roi_exclusion_weighteddew\n",
      "CONTROLLER TYPE: intensity_roi_exclusion\n",
      "PARAMS: {'ionisation_mode': 'Positive', 'N': 20, 'isolation_width': 1, 'min_ms1_intensity': 5000, 'mz_tol': 10, 'rt_tol': 60, 'min_roi_length_for_fragmentation': 0, 'roi_params': {'mz_tol': 10, 'min_roi_length': 3, 'min_roi_intensity': 0, 'at_least_one_point_above': 0, 'start_rt': 0, 'stop_rt': 100000.0, 'max_gaps_allowed': 0}, 'exclusion_method': 'exclusion_weighted_dew', 'exclusion_t_0': 1}\n",
      "\n",
      "NAME: non_overlap\n",
      "CONTROLLER TYPE: non_overlap\n",
      "PARAMS: {'ionisation_mode': 'Positive', 'N': 20, 'isolation_width': 1, 'min_ms1_intensity': 5000, 'mz_tol': 10, 'rt_tol': 60, 'min_roi_length_for_fragmentation': 0, 'roi_params': {'mz_tol': 10, 'min_roi_length': 3, 'min_roi_intensity': 0, 'at_least_one_point_above': 0, 'start_rt': 0, 'stop_rt': 100000.0, 'max_gaps_allowed': 0}}\n",
      "\n",
      "NAME: non_overlap_smartroi\n",
      "CONTROLLER TYPE: non_overlap\n",
      "PARAMS: {'ionisation_mode': 'Positive', 'N': 20, 'isolation_width': 1, 'min_ms1_intensity': 5000, 'mz_tol': 10, 'rt_tol': 15, 'min_roi_length_for_fragmentation': 0, 'roi_params': {'mz_tol': 10, 'min_roi_length': 3, 'min_roi_intensity': 0, 'at_least_one_point_above': 0, 'start_rt': 0, 'stop_rt': 100000.0, 'max_gaps_allowed': 0}, 'smartroi_params': {'initial_length_seconds': 5, 'reset_length_seconds': 1000000.0, 'intensity_increase_factor': 3, 'drop_perc': 0.001, 'dew': 15}}\n",
      "\n",
      "NAME: non_overlap_weighteddew\n",
      "CONTROLLER TYPE: non_overlap\n",
      "PARAMS: {'ionisation_mode': 'Positive', 'N': 20, 'isolation_width': 1, 'min_ms1_intensity': 5000, 'mz_tol': 10, 'rt_tol': 60, 'min_roi_length_for_fragmentation': 0, 'roi_params': {'mz_tol': 10, 'min_roi_length': 3, 'min_roi_intensity': 0, 'at_least_one_point_above': 0, 'start_rt': 0, 'stop_rt': 100000.0, 'max_gaps_allowed': 0}, 'exclusion_method': 'exclusion_weighted_dew', 'exclusion_t_0': 1}\n",
      "\n",
      "NAME: intensity_non_overlap\n",
      "CONTROLLER TYPE: intensity_non_overlap\n",
      "PARAMS: {'ionisation_mode': 'Positive', 'N': 20, 'isolation_width': 1, 'min_ms1_intensity': 5000, 'mz_tol': 10, 'rt_tol': 60, 'min_roi_length_for_fragmentation': 0, 'roi_params': {'mz_tol': 10, 'min_roi_length': 3, 'min_roi_intensity': 0, 'at_least_one_point_above': 0, 'start_rt': 0, 'stop_rt': 100000.0, 'max_gaps_allowed': 0}}\n",
      "\n",
      "NAME: intensity_non_overlap_smartroi\n",
      "CONTROLLER TYPE: intensity_non_overlap\n",
      "PARAMS: {'ionisation_mode': 'Positive', 'N': 20, 'isolation_width': 1, 'min_ms1_intensity': 5000, 'mz_tol': 10, 'rt_tol': 15, 'min_roi_length_for_fragmentation': 0, 'roi_params': {'mz_tol': 10, 'min_roi_length': 3, 'min_roi_intensity': 0, 'at_least_one_point_above': 0, 'start_rt': 0, 'stop_rt': 100000.0, 'max_gaps_allowed': 0}, 'smartroi_params': {'initial_length_seconds': 5, 'reset_length_seconds': 1000000.0, 'intensity_increase_factor': 3, 'drop_perc': 0.001, 'dew': 15}}\n",
      "\n",
      "NAME: intensity_non_overlap_weighteddew\n",
      "CONTROLLER TYPE: intensity_non_overlap\n",
      "PARAMS: {'ionisation_mode': 'Positive', 'N': 20, 'isolation_width': 1, 'min_ms1_intensity': 5000, 'mz_tol': 10, 'rt_tol': 60, 'min_roi_length_for_fragmentation': 0, 'roi_params': {'mz_tol': 10, 'min_roi_length': 3, 'min_roi_intensity': 0, 'at_least_one_point_above': 0, 'start_rt': 0, 'stop_rt': 100000.0, 'max_gaps_allowed': 0}, 'exclusion_method': 'exclusion_weighted_dew', 'exclusion_t_0': 1}\n",
      "\n"
     ]
    }
   ],
   "source": [
    "for controller_type, name, params in cases:\n",
    "    print(f\"NAME: {name}\")\n",
    "    print(f\"CONTROLLER TYPE: {controller_type}\")\n",
    "    print(f\"PARAMS: {params}\")\n",
    "    print()"
   ]
  },
  {
   "cell_type": "markdown",
   "id": "88c28a20",
   "metadata": {},
   "source": [
    "# 1. Same Beer Repeated Multiple Times"
   ]
  },
  {
   "cell_type": "code",
   "execution_count": 14,
   "id": "59324f3b",
   "metadata": {
    "scrolled": true
   },
   "outputs": [
    {
     "name": "stdout",
     "output_type": "stream",
     "text": [
      "Creating Chemicals...\n",
      "\n",
      "Running Experiment of 18 cases...\n"
     ]
    }
   ],
   "source": [
    "repeat = 20\n",
    "out_dir = \"new_same_beer\"\n",
    "\n",
    "same_beer_exp = Experiment()\n",
    "same_beer_exp.add_cases(\n",
    "    ExperimentCase(controller_type, multibeer_fullscans[:1] * repeat, params, name=name, pickle_env=True)\n",
    "    for controller_type, name, params in cases\n",
    ")\n",
    "same_beer_exp.run_experiment(\n",
    "    out_dir,\n",
    "    min_rt=min_rt,\n",
    "    max_rt=max_rt,\n",
    "    ionisation_mode=ionisation_mode,\n",
    "    scan_duration_dict=scan_duration_dict,\n",
    "    overwrite_keyfile=False,\n",
    "    point_noise_threshold=point_noise_threshold,\n",
    "    chem_noise_threshold=experiment_params[\"topN_params\"][\"min_ms1_intensity\"] * 0.5, #filter low intensity signal for memory\n",
    "    num_workers=num_workers\n",
    ")"
   ]
  },
  {
   "cell_type": "markdown",
   "id": "7dd6c8a8",
   "metadata": {},
   "source": [
    "# 2. Multiple Different Beers"
   ]
  },
  {
   "cell_type": "code",
   "execution_count": 15,
   "id": "207b4ffe",
   "metadata": {},
   "outputs": [
    {
     "name": "stdout",
     "output_type": "stream",
     "text": [
      "Creating Chemicals...\n",
      "\n",
      "Running Experiment of 18 cases...\n"
     ]
    }
   ],
   "source": [
    "repeat = 6\n",
    "out_dir = \"new_different_beer\"\n",
    "\n",
    "diff_beer_exp = Experiment()\n",
    "diff_beer_exp.add_cases(\n",
    "    ExperimentCase(controller_type, multibeer_fullscans[:repeat], params, name=name, pickle_env=False)\n",
    "    for controller_type, name, params in cases\n",
    ")\n",
    "diff_beer_exp.run_experiment(\n",
    "    out_dir,\n",
    "    min_rt=min_rt,\n",
    "    max_rt=max_rt,\n",
    "    ionisation_mode=ionisation_mode,\n",
    "    scan_duration_dict=scan_duration_dict,\n",
    "    overwrite_keyfile=False,\n",
    "    point_noise_threshold=point_noise_threshold,\n",
    "    chem_noise_threshold=experiment_params[\"topN_params\"][\"min_ms1_intensity\"] * 0.5, #filter low intensity signal for memory\n",
    "    num_workers=num_workers\n",
    ")"
   ]
  },
  {
   "cell_type": "markdown",
   "id": "6fa4841e",
   "metadata": {},
   "source": [
    "# 3. Repeating Different Beers"
   ]
  },
  {
   "cell_type": "code",
   "execution_count": 16,
   "id": "e293d8d5",
   "metadata": {},
   "outputs": [
    {
     "name": "stdout",
     "output_type": "stream",
     "text": [
      "Creating Chemicals...\n",
      "\n",
      "Running Experiment of 18 cases...\n"
     ]
    }
   ],
   "source": [
    "bio_repeat = 6\n",
    "tech_repeat = 4\n",
    "out_dir = \"new_repeated_different_beer\"\n",
    "\n",
    "rep_diff_beer_exp = Experiment()\n",
    "rep_diff_beer_exp.add_cases(\n",
    "    ExperimentCase(controller_type, multibeer_fullscans[:bio_repeat] * tech_repeat, params, name=name, pickle_env=True)\n",
    "    for controller_type, name, params in cases\n",
    ")\n",
    "rep_diff_beer_exp.run_experiment(\n",
    "    out_dir,\n",
    "    min_rt=min_rt,\n",
    "    max_rt=max_rt,\n",
    "    ionisation_mode=ionisation_mode,\n",
    "    scan_duration_dict=scan_duration_dict,\n",
    "    overwrite_keyfile=True,\n",
    "    point_noise_threshold=point_noise_threshold,\n",
    "    chem_noise_threshold=experiment_params[\"topN_params\"][\"min_ms1_intensity\"] * 0.5, #filter low intensity signal for memory\n",
    "    num_workers=num_workers\n",
    ")"
   ]
  },
  {
   "cell_type": "code",
   "execution_count": null,
   "id": "4a530b26",
   "metadata": {},
   "outputs": [],
   "source": []
  }
 ],
 "metadata": {
  "kernelspec": {
   "display_name": "Python 3 (ipykernel)",
   "language": "python",
   "name": "python3"
  },
  "language_info": {
   "codemirror_mode": {
    "name": "ipython",
    "version": 3
   },
   "file_extension": ".py",
   "mimetype": "text/x-python",
   "name": "python",
   "nbconvert_exporter": "python",
   "pygments_lexer": "ipython3",
   "version": "3.9.12"
  }
 },
 "nbformat": 4,
 "nbformat_minor": 5
}
