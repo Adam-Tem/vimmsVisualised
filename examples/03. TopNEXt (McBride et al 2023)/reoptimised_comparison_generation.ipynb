{
 "cells": [
  {
   "cell_type": "code",
   "execution_count": 1,
   "id": "327bc021",
   "metadata": {
    "execution": {
     "iopub.execute_input": "2022-12-19T07:30:22.092764Z",
     "iopub.status.busy": "2022-12-19T07:30:22.092246Z",
     "iopub.status.idle": "2022-12-19T07:30:22.839796Z",
     "shell.execute_reply": "2022-12-19T07:30:22.838958Z"
    }
   },
   "outputs": [],
   "source": [
    "%matplotlib inline\n",
    "%load_ext autoreload\n",
    "%autoreload 2"
   ]
  },
  {
   "cell_type": "code",
   "execution_count": 2,
   "id": "243ecf46",
   "metadata": {
    "execution": {
     "iopub.execute_input": "2022-12-19T07:30:22.844293Z",
     "iopub.status.busy": "2022-12-19T07:30:22.843752Z",
     "iopub.status.idle": "2022-12-19T07:30:22.859850Z",
     "shell.execute_reply": "2022-12-19T07:30:22.859241Z"
    }
   },
   "outputs": [],
   "source": [
    "import sys\n",
    "import os\n",
    "import platform\n",
    "import re"
   ]
  },
  {
   "cell_type": "code",
   "execution_count": 3,
   "id": "c5f87976",
   "metadata": {
    "execution": {
     "iopub.execute_input": "2022-12-19T07:30:22.862691Z",
     "iopub.status.busy": "2022-12-19T07:30:22.862470Z",
     "iopub.status.idle": "2022-12-19T07:30:22.872312Z",
     "shell.execute_reply": "2022-12-19T07:30:22.871612Z"
    }
   },
   "outputs": [],
   "source": [
    "'''\n",
    "if platform.system() == 'Darwin':\n",
    "    user = 'joewandy'\n",
    "elif platform.system() == 'Windows':\n",
    "    user = 'joewa'\n",
    "    \n",
    "user_vimms = '/Users/%s/Work/git/vimms' % user\n",
    "'''\n",
    "#user_vimms = os.path.join(\"C:\\\\\", \"Users\", \"mcbrider5002\", \"Desktop\", \"Workspace\", \"phd\", \"peak_picking\", \"vimms\")\n",
    "user_vimms = \"vimms\"\n",
    "sys.path.append(user_vimms)"
   ]
  },
  {
   "cell_type": "code",
   "execution_count": 4,
   "id": "9ca57a81",
   "metadata": {
    "execution": {
     "iopub.execute_input": "2022-12-19T07:30:22.875294Z",
     "iopub.status.busy": "2022-12-19T07:30:22.875032Z",
     "iopub.status.idle": "2022-12-19T07:30:23.903835Z",
     "shell.execute_reply": "2022-12-19T07:30:23.902982Z"
    }
   },
   "outputs": [
    {
     "name": "stderr",
     "output_type": "stream",
     "text": [
      "/datastore/home1/2185647m/topNEXt_experiments/topNEXt_experiments/vimms/env/lib/python3.7/site-packages/tqdm/auto.py:22: TqdmWarning: IProgress not found. Please update jupyter and ipywidgets. See https://ipywidgets.readthedocs.io/en/stable/user_install.html\n",
      "  from .autonotebook import tqdm as notebook_tqdm\n"
     ]
    }
   ],
   "source": [
    "from vimms.Common import (\n",
    "    POSITIVE, ROI_TYPE_SMART, ROI_EXCLUSION_WEIGHTED_DEW,\n",
    "    set_log_level_warning,\n",
    ")\n",
    "\n",
    "from vimms.Roi import RoiBuilderParams, SmartRoiParams\n",
    "from vimms.Experiment import ExperimentCase, Experiment\n",
    "from vimms.Controller import TopNController"
   ]
  },
  {
   "cell_type": "code",
   "execution_count": 5,
   "id": "8ad42d62",
   "metadata": {
    "execution": {
     "iopub.execute_input": "2022-12-19T07:30:23.909494Z",
     "iopub.status.busy": "2022-12-19T07:30:23.909123Z",
     "iopub.status.idle": "2022-12-19T07:30:23.935534Z",
     "shell.execute_reply": "2022-12-19T07:30:23.934943Z"
    }
   },
   "outputs": [
    {
     "data": {
      "text/plain": [
       "1"
      ]
     },
     "execution_count": 5,
     "metadata": {},
     "output_type": "execute_result"
    }
   ],
   "source": [
    "ionisation_mode = POSITIVE\n",
    "pbar = False\n",
    "set_log_level_warning()"
   ]
  },
  {
   "cell_type": "markdown",
   "id": "d61e5198",
   "metadata": {},
   "source": [
    "### Get seed data"
   ]
  },
  {
   "cell_type": "code",
   "execution_count": 6,
   "id": "9ff22d85",
   "metadata": {
    "execution": {
     "iopub.execute_input": "2022-12-19T07:30:23.941576Z",
     "iopub.status.busy": "2022-12-19T07:30:23.941305Z",
     "iopub.status.idle": "2022-12-19T07:30:23.966604Z",
     "shell.execute_reply": "2022-12-19T07:30:23.966003Z"
    }
   },
   "outputs": [],
   "source": [
    "def match_files(data_dir, regex):\n",
    "    pattern = re.compile(regex)\n",
    "    files = (\n",
    "        (int(pattern.match(fname).group(1)), fname)\n",
    "        for fname in os.listdir(data_dir)\n",
    "        if not pattern.match(fname) is None\n",
    "    )\n",
    "\n",
    "    return [\n",
    "        os.path.join(data_dir, fname) \n",
    "        for _, fname in sorted(files, key=lambda p: p[0])\n",
    "    ]"
   ]
  },
  {
   "cell_type": "code",
   "execution_count": 7,
   "id": "fa5fcde6",
   "metadata": {
    "execution": {
     "iopub.execute_input": "2022-12-19T07:30:23.970912Z",
     "iopub.status.busy": "2022-12-19T07:30:23.970550Z",
     "iopub.status.idle": "2022-12-19T07:30:23.990573Z",
     "shell.execute_reply": "2022-12-19T07:30:23.989643Z"
    }
   },
   "outputs": [],
   "source": [
    "#multi_dir = \"/Users/%s/University of Glasgow/Vinny Davies - CLDS Metabolomics Project/Experimental_Results/20220706_DDAvsDIA\" % user\n",
    "multi_dir = \"20220719_multi_samples_main\"\n",
    "multibeer_dir = os.path.join(multi_dir, \"results_4\")"
   ]
  },
  {
   "cell_type": "code",
   "execution_count": 8,
   "id": "4f23be3b",
   "metadata": {
    "execution": {
     "iopub.execute_input": "2022-12-19T07:30:23.995373Z",
     "iopub.status.busy": "2022-12-19T07:30:23.995132Z",
     "iopub.status.idle": "2022-12-19T07:30:24.015167Z",
     "shell.execute_reply": "2022-12-19T07:30:24.014399Z"
    }
   },
   "outputs": [],
   "source": [
    "multibeer_fullscans = match_files(multibeer_dir, r\"fullscan_beer([0-9]+)_0.mzML\")"
   ]
  },
  {
   "cell_type": "markdown",
   "id": "174b5ba9",
   "metadata": {},
   "source": [
    "### Specify parameters"
   ]
  },
  {
   "cell_type": "code",
   "execution_count": 9,
   "id": "8a84733c",
   "metadata": {
    "execution": {
     "iopub.execute_input": "2022-12-19T07:30:24.020427Z",
     "iopub.status.busy": "2022-12-19T07:30:24.020181Z",
     "iopub.status.idle": "2022-12-19T07:30:24.040028Z",
     "shell.execute_reply": "2022-12-19T07:30:24.038964Z"
    }
   },
   "outputs": [],
   "source": [
    "num_workers = 8 #can't always use number of physical cores because of memory constraints"
   ]
  },
  {
   "cell_type": "code",
   "execution_count": 10,
   "id": "f39bac0f",
   "metadata": {
    "execution": {
     "iopub.execute_input": "2022-12-19T07:30:24.045046Z",
     "iopub.status.busy": "2022-12-19T07:30:24.044788Z",
     "iopub.status.idle": "2022-12-19T07:30:24.067635Z",
     "shell.execute_reply": "2022-12-19T07:30:24.066897Z"
    }
   },
   "outputs": [],
   "source": [
    "experiment_params = {\n",
    "    \"topN_params\": {\n",
    "        \"ionisation_mode\" : ionisation_mode,\n",
    "        \"N\" : 20,\n",
    "        \"isolation_width\" : 1,\n",
    "        \"min_ms1_intensity\" : 5000,\n",
    "        \"mz_tol\" : 10,\n",
    "        \"rt_tol\" : 30\n",
    "    },\n",
    "    \n",
    "    \"roi_params\" : {\n",
    "        \"min_roi_length_for_fragmentation\" : 0,\n",
    "        \"roi_params\" : RoiBuilderParams(\n",
    "                            min_roi_intensity=0,\n",
    "                            min_roi_length=3,\n",
    "                       )\n",
    "    },\n",
    "    \n",
    "    \"non_overlap_params\": {\n",
    "    },\n",
    "}\n",
    "\n",
    "min_rt = 0\n",
    "max_rt = 1440\n",
    "scan_duration_dict = { #CHANGED FROM QCB\n",
    "    1: 0.59,\n",
    "    2: 0.19\n",
    "}\n",
    "point_noise_threshold = 0 #CHANGED FROM QCB"
   ]
  },
  {
   "cell_type": "code",
   "execution_count": 11,
   "id": "c524c949",
   "metadata": {
    "execution": {
     "iopub.execute_input": "2022-12-19T07:30:24.072510Z",
     "iopub.status.busy": "2022-12-19T07:30:24.072263Z",
     "iopub.status.idle": "2022-12-19T07:30:24.094382Z",
     "shell.execute_reply": "2022-12-19T07:30:24.093645Z"
    }
   },
   "outputs": [],
   "source": [
    "topN_params = experiment_params[\"topN_params\"]\n",
    "roi_params = {**topN_params, **experiment_params[\"roi_params\"]}\n",
    "non_overlap_params = {**roi_params, **experiment_params[\"non_overlap_params\"]}\n",
    "\n",
    "cases = [\n",
    "    (\"topN_exclusion\", \"topN_exclusion\", topN_params),\n",
    "    (\"intensity_non_overlap\", \"intensity_non_overlap\", non_overlap_params)\n",
    "]"
   ]
  },
  {
   "cell_type": "markdown",
   "id": "ae0106ea",
   "metadata": {},
   "source": [
    "# 1. Same Beer Repeated Multiple Times"
   ]
  },
  {
   "cell_type": "code",
   "execution_count": 12,
   "id": "3c700f5b",
   "metadata": {
    "execution": {
     "iopub.execute_input": "2022-12-19T07:30:24.099281Z",
     "iopub.status.busy": "2022-12-19T07:30:24.098981Z",
     "iopub.status.idle": "2022-12-19T08:57:05.587276Z",
     "shell.execute_reply": "2022-12-19T08:57:05.586104Z"
    }
   },
   "outputs": [
    {
     "name": "stdout",
     "output_type": "stream",
     "text": [
      "Creating Chemicals...\n",
      "Generating chemicals for 20220719_multi_samples_main/results_4/fullscan_beer1_0.mzML\n",
      "\n",
      "Running Experiment of 2 cases...\n",
      "Outcome being written to: \"topN_exclusion_0.mzML\"\n",
      "Outcome being written to: \"intensity_non_overlap_0.mzML\"\n",
      "Outcome being written to: \"topN_exclusion_1.mzML\"\n",
      "Outcome being written to: \"intensity_non_overlap_1.mzML\"\n",
      "Outcome being written to: \"topN_exclusion_2.mzML\"\n",
      "Outcome being written to: \"intensity_non_overlap_2.mzML\"\n",
      "Outcome being written to: \"topN_exclusion_3.mzML\"\n",
      "Outcome being written to: \"topN_exclusion_4.mzML\"\n",
      "Outcome being written to: \"intensity_non_overlap_3.mzML\"\n",
      "Outcome being written to: \"topN_exclusion_5.mzML\"\n",
      "Outcome being written to: \"intensity_non_overlap_4.mzML\"\n",
      "Outcome being written to: \"topN_exclusion_6.mzML\"\n",
      "Outcome being written to: \"intensity_non_overlap_5.mzML\"\n",
      "Outcome being written to: \"topN_exclusion_7.mzML\"\n",
      "Outcome being written to: \"topN_exclusion_8.mzML\"\n",
      "Outcome being written to: \"intensity_non_overlap_6.mzML\"\n",
      "Outcome being written to: \"topN_exclusion_9.mzML\"\n",
      "Outcome being written to: \"intensity_non_overlap_7.mzML\"\n",
      "Outcome being written to: \"topN_exclusion_10.mzML\"\n",
      "Outcome being written to: \"topN_exclusion_11.mzML\"\n",
      "Outcome being written to: \"intensity_non_overlap_8.mzML\"\n",
      "Outcome being written to: \"topN_exclusion_12.mzML\"\n",
      "Outcome being written to: \"intensity_non_overlap_9.mzML\"\n",
      "Outcome being written to: \"topN_exclusion_13.mzML\"\n",
      "Outcome being written to: \"topN_exclusion_14.mzML\"\n",
      "Outcome being written to: \"intensity_non_overlap_10.mzML\"\n",
      "Outcome being written to: \"topN_exclusion_15.mzML\"\n",
      "Outcome being written to: \"topN_exclusion_16.mzML\"\n",
      "Outcome being written to: \"intensity_non_overlap_11.mzML\"\n",
      "Outcome being written to: \"topN_exclusion_17.mzML\"\n",
      "Outcome being written to: \"topN_exclusion_18.mzML\"\n",
      "Outcome being written to: \"intensity_non_overlap_12.mzML\"\n",
      "Outcome being written to: \"topN_exclusion_19.mzML\"\n",
      "Outcome being written to: \"intensity_non_overlap_13.mzML\"\n",
      "Outcome being written to: \"intensity_non_overlap_14.mzML\"\n",
      "Outcome being written to: \"intensity_non_overlap_15.mzML\"\n",
      "Outcome being written to: \"intensity_non_overlap_16.mzML\"\n",
      "Outcome being written to: \"intensity_non_overlap_17.mzML\"\n",
      "Outcome being written to: \"intensity_non_overlap_18.mzML\"\n",
      "Outcome being written to: \"intensity_non_overlap_19.mzML\"\n"
     ]
    }
   ],
   "source": [
    "repeat = 20\n",
    "out_dir = \"reoptimised_same_beer\"\n",
    "\n",
    "same_beer_exp = Experiment()\n",
    "same_beer_exp.add_cases(\n",
    "    ExperimentCase(controller_type, multibeer_fullscans[:1] * repeat, params, name=name, pickle_env=True)\n",
    "    for controller_type, name, params in cases\n",
    ")\n",
    "same_beer_exp.run_experiment(\n",
    "    out_dir,\n",
    "    min_rt=min_rt,\n",
    "    max_rt=max_rt,\n",
    "    ionisation_mode=ionisation_mode,\n",
    "    scan_duration_dict=scan_duration_dict,\n",
    "    overwrite_keyfile=False,\n",
    "    point_noise_threshold=point_noise_threshold,\n",
    "    chem_noise_threshold=experiment_params[\"topN_params\"][\"min_ms1_intensity\"] * 0.5, #filter low intensity signal for memory\n",
    "    num_workers=num_workers\n",
    ")"
   ]
  },
  {
   "cell_type": "markdown",
   "id": "019cb11d",
   "metadata": {},
   "source": [
    "# 3. Repeating Different Beers"
   ]
  },
  {
   "cell_type": "code",
   "execution_count": 13,
   "id": "d9178683",
   "metadata": {
    "execution": {
     "iopub.execute_input": "2022-12-19T08:57:05.597724Z",
     "iopub.status.busy": "2022-12-19T08:57:05.596900Z",
     "iopub.status.idle": "2022-12-19T10:52:24.953087Z",
     "shell.execute_reply": "2022-12-19T10:52:24.951964Z"
    }
   },
   "outputs": [
    {
     "name": "stdout",
     "output_type": "stream",
     "text": [
      "Creating Chemicals...\n",
      "Generating chemicals for 20220719_multi_samples_main/results_4/fullscan_beer1_0.mzMLGenerating chemicals for 20220719_multi_samples_main/results_4/fullscan_beer3_0.mzMLGenerating chemicals for 20220719_multi_samples_main/results_4/fullscan_beer2_0.mzMLGenerating chemicals for 20220719_multi_samples_main/results_4/fullscan_beer5_0.mzMLGenerating chemicals for 20220719_multi_samples_main/results_4/fullscan_beer6_0.mzMLGenerating chemicals for 20220719_multi_samples_main/results_4/fullscan_beer4_0.mzML\n",
      "\n",
      "\n",
      "\n",
      "\n",
      "\n",
      "\n",
      "Running Experiment of 2 cases...\n",
      "Outcome being written to: \"topN_exclusion_0.mzML\"\n",
      "Outcome being written to: \"intensity_non_overlap_0.mzML\"\n",
      "Outcome being written to: \"topN_exclusion_1.mzML\"\n",
      "Outcome being written to: \"intensity_non_overlap_1.mzML\"\n",
      "Outcome being written to: \"topN_exclusion_2.mzML\"\n",
      "Outcome being written to: \"topN_exclusion_3.mzML\"\n",
      "Outcome being written to: \"intensity_non_overlap_2.mzML\"\n",
      "Outcome being written to: \"topN_exclusion_4.mzML\"\n",
      "Outcome being written to: \"intensity_non_overlap_3.mzML\"\n",
      "Outcome being written to: \"topN_exclusion_5.mzML\"\n",
      "Outcome being written to: \"intensity_non_overlap_4.mzML\"\n",
      "Outcome being written to: \"topN_exclusion_6.mzML\"\n",
      "Outcome being written to: \"topN_exclusion_7.mzML\"\n",
      "Outcome being written to: \"intensity_non_overlap_5.mzML\"\n",
      "Outcome being written to: \"topN_exclusion_8.mzML\"\n",
      "Outcome being written to: \"intensity_non_overlap_6.mzML\"\n",
      "Outcome being written to: \"topN_exclusion_9.mzML\"\n",
      "Outcome being written to: \"intensity_non_overlap_7.mzML\"\n",
      "Outcome being written to: \"topN_exclusion_10.mzML\"\n",
      "Outcome being written to: \"topN_exclusion_11.mzML\"\n",
      "Outcome being written to: \"intensity_non_overlap_8.mzML\"\n",
      "Outcome being written to: \"topN_exclusion_12.mzML\"\n",
      "Outcome being written to: \"topN_exclusion_13.mzML\"\n",
      "Outcome being written to: \"intensity_non_overlap_9.mzML\"\n",
      "Outcome being written to: \"topN_exclusion_14.mzML\"\n",
      "Outcome being written to: \"topN_exclusion_15.mzML\"\n",
      "Outcome being written to: \"intensity_non_overlap_10.mzML\"\n",
      "Outcome being written to: \"topN_exclusion_16.mzML\"\n",
      "Outcome being written to: \"intensity_non_overlap_11.mzML\"\n",
      "Outcome being written to: \"topN_exclusion_17.mzML\"\n",
      "Outcome being written to: \"topN_exclusion_18.mzML\"\n",
      "Outcome being written to: \"intensity_non_overlap_12.mzML\"\n",
      "Outcome being written to: \"topN_exclusion_19.mzML\"\n",
      "Outcome being written to: \"topN_exclusion_20.mzML\"\n",
      "Outcome being written to: \"intensity_non_overlap_13.mzML\"\n",
      "Outcome being written to: \"topN_exclusion_21.mzML\"\n",
      "Outcome being written to: \"topN_exclusion_22.mzML\"\n",
      "Outcome being written to: \"intensity_non_overlap_14.mzML\"\n",
      "Outcome being written to: \"topN_exclusion_23.mzML\"\n",
      "Outcome being written to: \"intensity_non_overlap_15.mzML\"\n",
      "Outcome being written to: \"intensity_non_overlap_16.mzML\"\n",
      "Outcome being written to: \"intensity_non_overlap_17.mzML\"\n",
      "Outcome being written to: \"intensity_non_overlap_18.mzML\"\n",
      "Outcome being written to: \"intensity_non_overlap_19.mzML\"\n",
      "Outcome being written to: \"intensity_non_overlap_20.mzML\"\n",
      "Outcome being written to: \"intensity_non_overlap_21.mzML\"\n",
      "Outcome being written to: \"intensity_non_overlap_22.mzML\"\n",
      "Outcome being written to: \"intensity_non_overlap_23.mzML\"\n"
     ]
    }
   ],
   "source": [
    "bio_repeat = 6\n",
    "tech_repeat = 4\n",
    "out_dir = \"reoptimised_repeated_different_beer\"\n",
    "\n",
    "rep_diff_beer_exp = Experiment()\n",
    "rep_diff_beer_exp.add_cases(\n",
    "    ExperimentCase(controller_type, multibeer_fullscans[:bio_repeat] * tech_repeat, params, name=name, pickle_env=True)\n",
    "    for controller_type, name, params in cases\n",
    ")\n",
    "rep_diff_beer_exp.run_experiment(\n",
    "    out_dir,\n",
    "    min_rt=min_rt,\n",
    "    max_rt=max_rt,\n",
    "    ionisation_mode=ionisation_mode,\n",
    "    scan_duration_dict=scan_duration_dict,\n",
    "    overwrite_keyfile=True,\n",
    "    point_noise_threshold=point_noise_threshold,\n",
    "    chem_noise_threshold=experiment_params[\"topN_params\"][\"min_ms1_intensity\"] * 0.5, #filter low intensity signal for memory\n",
    "    num_workers=num_workers\n",
    ")"
   ]
  }
 ],
 "metadata": {
  "kernelspec": {
   "display_name": "Python 3 (ipykernel)",
   "language": "python",
   "name": "python3"
  },
  "language_info": {
   "codemirror_mode": {
    "name": "ipython",
    "version": 3
   },
   "file_extension": ".py",
   "mimetype": "text/x-python",
   "name": "python",
   "nbconvert_exporter": "python",
   "pygments_lexer": "ipython3",
   "version": "3.7.3"
  }
 },
 "nbformat": 4,
 "nbformat_minor": 5
}
