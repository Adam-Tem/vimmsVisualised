{
 "cells": [
  {
   "cell_type": "markdown",
   "metadata": {},
   "source": [
    "# Varying N in Top-N Simulations"
   ]
  },
  {
   "cell_type": "markdown",
   "metadata": {},
   "source": [
    "This is a notebook showing how to take an mzml file and rerun multiple Top-N analyses to find the optimal choise of N and Dynamic Exclusion Window (DEW). The user provides an mzml file and options for N and DEW. Eventually it will be possible for the user to specify other settings.\n",
    "\n",
    "To use this file the user will need to have\n",
    "- ViMMS - github.com/sdrogers/vimms\n",
    "- pymzm - github.com/sdrogers/pymzm\n",
    "- MZMine2 (this will need to be in the same parent directory as the experiment and data)"
   ]
  },
  {
   "cell_type": "markdown",
   "metadata": {},
   "source": [
    "# 1. Load Packages"
   ]
  },
  {
   "cell_type": "markdown",
   "metadata": {},
   "source": [
    "This loads the packages needed to run the example and add locations for the github repositories. You will need to add your own locations in order to be able to use it"
   ]
  },
  {
   "cell_type": "code",
   "execution_count": 1,
   "metadata": {},
   "outputs": [],
   "source": [
    "%matplotlib inline\n",
    "%load_ext autoreload\n",
    "%autoreload 2"
   ]
  },
  {
   "cell_type": "code",
   "execution_count": 2,
   "metadata": {},
   "outputs": [],
   "source": [
    "import sys\n",
    "sys.path.append('C:\\\\Users\\\\joewa\\\\Work\\\\git\\\\vimms')\n",
    "sys.path.append('C:\\\\Users\\\\Vinny\\\\work\\\\vimms')"
   ]
  },
  {
   "cell_type": "code",
   "execution_count": 7,
   "metadata": {},
   "outputs": [],
   "source": [
    "from pathlib import Path\n",
    "from pyDOE import *\n",
    "from vimms.Environment import *"
   ]
  },
  {
   "cell_type": "code",
   "execution_count": 9,
   "metadata": {},
   "outputs": [],
   "source": [
    "from vimms.Chemicals import ChemicalCreator, GET_MS2_BY_PEAKS, GET_MS2_BY_SPECTRA\n",
    "from vimms.MassSpec import IndependentMassSpectrometer\n",
    "from vimms.Controller import *\n",
    "from vimms.Common import *\n",
    "from vimms.PlotsForPaper import *\n",
    "from vimms.Roi import make_roi\n",
    "from vimms.Chemicals import RoiToChemicalCreator\n",
    "from vimms.FeatureExtraction import extract_roi\n",
    "from vimms.SequenceManager import *"
   ]
  },
  {
   "cell_type": "code",
   "execution_count": 10,
   "metadata": {},
   "outputs": [],
   "source": [
    "base_dir = os.path.abspath('../Trained Models')\n",
    "data_dir = os.path.abspath('./QCsamples')"
   ]
  },
  {
   "cell_type": "code",
   "execution_count": 11,
   "metadata": {},
   "outputs": [],
   "source": [
    "set_log_level_info()"
   ]
  },
  {
   "cell_type": "markdown",
   "metadata": {},
   "source": [
    "# 2. Settings"
   ]
  },
  {
   "cell_type": "markdown",
   "metadata": {},
   "source": [
    "This sections specifies settings that are initially fixed. Settings are provided for the Mass Spec, the Top-N Controller and MZMine2 peak picking. Folders are also given to save the files, which will need to be update to use the example"
   ]
  },
  {
   "cell_type": "code",
   "execution_count": 12,
   "metadata": {},
   "outputs": [],
   "source": [
    "# this is needed to create the datasets\n",
    "ps = load_obj('C:\\\\Users\\\\Vinny\\\\OneDrive - University of Glasgow\\\\CLDS Metabolomics Project\\\\Trained Models\\\\peak_sampler_mz_rt_int_beerqcb_fragmentation.p')"
   ]
  },
  {
   "cell_type": "code",
   "execution_count": 13,
   "metadata": {},
   "outputs": [],
   "source": [
    "# This is where I save my results\n",
    "experiment_dir = 'C:\\\\Users\\\\Vinny\\\\work\\\\mzmine_files'\n",
    "output_dir = os.path.join(experiment_dir, 'SimpleExperiments\\\\GridSearch\\\\experiment_2_2_3')"
   ]
  },
  {
   "cell_type": "code",
   "execution_count": 14,
   "metadata": {},
   "outputs": [],
   "source": [
    "# these are the parameters for the virutal mass spec\n",
    "mass_spec_params = {'ionisation_mode': POSITIVE,\n",
    "                    'peak_sampler': ps,\n",
    "                    'add_noise': False,\n",
    "                    'isolation_transition_window': 'rectangular',\n",
    "                    'isolation_transition_window_params': None}"
   ]
  },
  {
   "cell_type": "code",
   "execution_count": 15,
   "metadata": {},
   "outputs": [],
   "source": [
    "# these are the default for the parameters for the controller. Some of these will get replaced for different runs in section 4\n",
    "controller_params = {\"ionisation_mode\": POSITIVE,\n",
    "                       \"N\": 10,\n",
    "                       \"mz_tol\": 10,\n",
    "                       \"rt_tol\":30,\n",
    "                       \"min_ms1_intensity\": 1.75E5,\n",
    "                       \"rt_range\": [(200, 400)],\n",
    "                       \"isolation_width\": 1}"
   ]
  },
  {
   "cell_type": "code",
   "execution_count": 17,
   "metadata": {},
   "outputs": [],
   "source": [
    "# this is where mzmine is and is used to pick the peaks\n",
    "mzmine_command = 'C:\\\\Users\\\\Vinny\\\\work\\\\MZmine-2.40.1\\\\MZmine-2.40.1\\\\startMZmine_Windows.bat'"
   ]
  },
  {
   "cell_type": "markdown",
   "metadata": {},
   "source": [
    "# 3. User Inputs"
   ]
  },
  {
   "cell_type": "markdown",
   "metadata": {},
   "source": [
    "These are the inputs that the user will need to supply\n",
    "- the mzml file that is going to be re-analysed\n",
    "- which settings to test\n",
    "- what method to evaluate the method using (this is the only option currently, but it would be good to make the app generic enough to take other options in the future"
   ]
  },
  {
   "cell_type": "code",
   "execution_count": 18,
   "metadata": {},
   "outputs": [],
   "source": [
    "mzml_file = os.path.join(experiment_dir, 'QCB\\\\fullscan_mzmls\\\\QCB_22May19_1.mzML')"
   ]
  },
  {
   "cell_type": "code",
   "execution_count": 19,
   "metadata": {},
   "outputs": [],
   "source": [
    "topn_variable_params_dict = {'N': [10,20], 'rt_tol': [15,30]}"
   ]
  },
  {
   "cell_type": "code",
   "execution_count": 20,
   "metadata": {},
   "outputs": [],
   "source": [
    "evaluation_methods = ['mzmine_peak']"
   ]
  },
  {
   "cell_type": "markdown",
   "metadata": {},
   "source": [
    "# 4. Run Methods"
   ]
  },
  {
   "cell_type": "markdown",
   "metadata": {},
   "source": [
    "This takes all the information previously given and runs a grid search over all the possible values given"
   ]
  },
  {
   "cell_type": "code",
   "execution_count": 22,
   "metadata": {},
   "outputs": [
    {
     "name": "stderr",
     "output_type": "stream",
     "text": [
      "2020-09-22 10:50:03.223 | INFO     | vimms.Common:save_obj:165 - Saving <class 'list'> to C:\\Users\\Vinny\\work\\mzmine_files\\SimpleExperiments\\GridSearch\\experiment_2_2_3\\QCB_22May19_1.p\n",
      "2020-09-22 10:50:16.596 | INFO     | vimms.PythonMzmine:pick_peaks:23 - Creating xml batch file for QCB_22May19_1.mzML\n",
      "2020-09-22 10:50:16.606 | INFO     | vimms.PythonMzmine:pick_peaks:53 - Running mzMine for QCB_22May19_1.mzML\n"
     ]
    },
    {
     "ename": "KeyboardInterrupt",
     "evalue": "",
     "output_type": "error",
     "traceback": [
      "\u001b[1;31m---------------------------------------------------------------------------\u001b[0m",
      "\u001b[1;31mKeyboardInterrupt\u001b[0m                         Traceback (most recent call last)",
      "\u001b[1;32m<ipython-input-22-97fb08c92766>\u001b[0m in \u001b[0;36m<module>\u001b[1;34m\u001b[0m\n\u001b[0;32m      1\u001b[0m \u001b[0mvsm\u001b[0m \u001b[1;33m=\u001b[0m \u001b[0mVimmsSequenceManager\u001b[0m\u001b[1;33m(\u001b[0m\u001b[1;32mNone\u001b[0m\u001b[1;33m,\u001b[0m \u001b[0mevaluation_methods\u001b[0m\u001b[1;33m,\u001b[0m \u001b[0moutput_dir\u001b[0m\u001b[1;33m,\u001b[0m \u001b[0mprogress_bar\u001b[0m\u001b[1;33m=\u001b[0m\u001b[1;32mTrue\u001b[0m\u001b[1;33m,\u001b[0m \u001b[0mms1_picked_peaks_file\u001b[0m\u001b[1;33m=\u001b[0m\u001b[1;32mNone\u001b[0m\u001b[1;33m,\u001b[0m \u001b[0mmzmine_command\u001b[0m\u001b[1;33m=\u001b[0m\u001b[0mmzmine_command\u001b[0m\u001b[1;33m)\u001b[0m\u001b[1;33m\u001b[0m\u001b[1;33m\u001b[0m\u001b[0m\n\u001b[1;32m----> 2\u001b[1;33m \u001b[0mgs\u001b[0m \u001b[1;33m=\u001b[0m \u001b[0mGridSearchExperiment\u001b[0m\u001b[1;33m(\u001b[0m\u001b[0mvsm\u001b[0m\u001b[1;33m,\u001b[0m \u001b[1;34m'TopNController'\u001b[0m\u001b[1;33m,\u001b[0m \u001b[0mmass_spec_params\u001b[0m\u001b[1;33m,\u001b[0m \u001b[1;32mNone\u001b[0m\u001b[1;33m,\u001b[0m \u001b[0mtopn_variable_params_dict\u001b[0m\u001b[1;33m,\u001b[0m \u001b[0mcontroller_params\u001b[0m\u001b[1;33m,\u001b[0m \u001b[0mmzml_file\u001b[0m\u001b[1;33m,\u001b[0m \u001b[0mps\u001b[0m\u001b[1;33m=\u001b[0m\u001b[0mps\u001b[0m\u001b[1;33m,\u001b[0m \u001b[0mparallel\u001b[0m\u001b[1;33m=\u001b[0m\u001b[1;32mFalse\u001b[0m\u001b[1;33m)\u001b[0m\u001b[1;33m\u001b[0m\u001b[1;33m\u001b[0m\u001b[0m\n\u001b[0m",
      "\u001b[1;32m~\\work\\vimms\\vimms\\SequenceManager.py\u001b[0m in \u001b[0;36m__init__\u001b[1;34m(self, sequence_manager, controller_method, mass_spec_param_dict, dataset_file, variable_params_dict, base_params_dict, mzml_file, roi_params, ps, parallel)\u001b[0m\n\u001b[0;32m    331\u001b[0m             if self.sequence_manager.ms1_picked_peaks_file is None and len(\n\u001b[0;32m    332\u001b[0m                     self.sequence_manager.evaluation_methods) > 0:\n\u001b[1;32m--> 333\u001b[1;33m                 \u001b[0mself\u001b[0m\u001b[1;33m.\u001b[0m\u001b[0msequence_manager\u001b[0m\u001b[1;33m.\u001b[0m\u001b[0mms1_picked_peaks_file\u001b[0m \u001b[1;33m=\u001b[0m \u001b[0mself\u001b[0m\u001b[1;33m.\u001b[0m\u001b[0msequence_manager\u001b[0m\u001b[1;33m.\u001b[0m\u001b[0mpick_peaks\u001b[0m\u001b[1;33m(\u001b[0m\u001b[0mself\u001b[0m\u001b[1;33m.\u001b[0m\u001b[0mmzml_file\u001b[0m\u001b[1;33m,\u001b[0m \u001b[1;32mNone\u001b[0m\u001b[1;33m,\u001b[0m \u001b[1;36m1\u001b[0m\u001b[1;33m)\u001b[0m\u001b[1;33m\u001b[0m\u001b[1;33m\u001b[0m\u001b[0m\n\u001b[0m\u001b[0;32m    334\u001b[0m         \u001b[0mself\u001b[0m\u001b[1;33m.\u001b[0m\u001b[0mvariable_params_dict\u001b[0m \u001b[1;33m=\u001b[0m \u001b[0mvariable_params_dict\u001b[0m\u001b[1;33m\u001b[0m\u001b[1;33m\u001b[0m\u001b[0m\n\u001b[0;32m    335\u001b[0m         \u001b[0mself\u001b[0m\u001b[1;33m.\u001b[0m\u001b[0mbase_params_dict\u001b[0m \u001b[1;33m=\u001b[0m \u001b[0mbase_params_dict\u001b[0m\u001b[1;33m\u001b[0m\u001b[1;33m\u001b[0m\u001b[0m\n",
      "\u001b[1;32m~\\work\\vimms\\vimms\\SequenceManager.py\u001b[0m in \u001b[0;36mpick_peaks\u001b[1;34m(self, mzml_file, controller_name, ms_level)\u001b[0m\n\u001b[0;32m    104\u001b[0m             \u001b[0mpicked_peaks_file\u001b[0m \u001b[1;33m=\u001b[0m \u001b[0mos\u001b[0m\u001b[1;33m.\u001b[0m\u001b[0mpath\u001b[0m\u001b[1;33m.\u001b[0m\u001b[0mjoin\u001b[0m\u001b[1;33m(\u001b[0m\u001b[0mself\u001b[0m\u001b[1;33m.\u001b[0m\u001b[0mbase_dir\u001b[0m\u001b[1;33m,\u001b[0m \u001b[0mPath\u001b[0m\u001b[1;33m(\u001b[0m\u001b[0mmzml_file\u001b[0m\u001b[1;33m)\u001b[0m\u001b[1;33m.\u001b[0m\u001b[0mstem\u001b[0m \u001b[1;33m+\u001b[0m \u001b[1;34m'_pp.csv'\u001b[0m\u001b[1;33m)\u001b[0m\u001b[1;33m\u001b[0m\u001b[1;33m\u001b[0m\u001b[0m\n\u001b[0;32m    105\u001b[0m             pick_peaks([mzml_file], xml_template=self.xml_template_ms1, output_dir=self.base_dir,\n\u001b[1;32m--> 106\u001b[1;33m                        mzmine_command=self.mzmine_command)\n\u001b[0m\u001b[0;32m    107\u001b[0m         \u001b[1;32melse\u001b[0m\u001b[1;33m:\u001b[0m\u001b[1;33m\u001b[0m\u001b[1;33m\u001b[0m\u001b[0m\n\u001b[0;32m    108\u001b[0m             \u001b[0mpicked_peaks_file\u001b[0m \u001b[1;33m=\u001b[0m \u001b[0mself\u001b[0m\u001b[1;33m.\u001b[0m\u001b[0mbase_dir\u001b[0m \u001b[1;33m+\u001b[0m \u001b[1;34m'\\\\'\u001b[0m \u001b[1;33m+\u001b[0m \u001b[0mcontroller_name\u001b[0m \u001b[1;33m+\u001b[0m \u001b[1;34m'_pp.csv'\u001b[0m\u001b[1;33m\u001b[0m\u001b[1;33m\u001b[0m\u001b[0m\n",
      "\u001b[1;32m~\\work\\vimms\\vimms\\PythonMzmine.py\u001b[0m in \u001b[0;36mpick_peaks\u001b[1;34m(file_list, xml_template, output_dir, mzmine_command, add_name)\u001b[0m\n\u001b[0;32m     52\u001b[0m         \u001b[1;31m# Run mzmine\u001b[0m\u001b[1;33m\u001b[0m\u001b[1;33m\u001b[0m\u001b[1;33m\u001b[0m\u001b[0m\n\u001b[0;32m     53\u001b[0m         \u001b[0mlogger\u001b[0m\u001b[1;33m.\u001b[0m\u001b[0minfo\u001b[0m\u001b[1;33m(\u001b[0m\u001b[1;34m\"Running mzMine for {}\"\u001b[0m\u001b[1;33m.\u001b[0m\u001b[0mformat\u001b[0m\u001b[1;33m(\u001b[0m\u001b[0mfilename\u001b[0m\u001b[1;33m.\u001b[0m\u001b[0msplit\u001b[0m\u001b[1;33m(\u001b[0m\u001b[0mos\u001b[0m\u001b[1;33m.\u001b[0m\u001b[0msep\u001b[0m\u001b[1;33m)\u001b[0m\u001b[1;33m[\u001b[0m\u001b[1;33m-\u001b[0m\u001b[1;36m1\u001b[0m\u001b[1;33m]\u001b[0m\u001b[1;33m)\u001b[0m\u001b[1;33m)\u001b[0m\u001b[1;33m\u001b[0m\u001b[1;33m\u001b[0m\u001b[0m\n\u001b[1;32m---> 54\u001b[1;33m         \u001b[0mos\u001b[0m\u001b[1;33m.\u001b[0m\u001b[0msystem\u001b[0m\u001b[1;33m(\u001b[0m\u001b[0mmzmine_command\u001b[0m \u001b[1;33m+\u001b[0m \u001b[1;34m' \"{}\"'\u001b[0m\u001b[1;33m.\u001b[0m\u001b[0mformat\u001b[0m\u001b[1;33m(\u001b[0m\u001b[0mnew_xml_name\u001b[0m\u001b[1;33m)\u001b[0m\u001b[1;33m)\u001b[0m\u001b[1;33m\u001b[0m\u001b[1;33m\u001b[0m\u001b[0m\n\u001b[0m\u001b[0;32m     55\u001b[0m \u001b[1;33m\u001b[0m\u001b[0m\n\u001b[0;32m     56\u001b[0m \u001b[1;33m\u001b[0m\u001b[0m\n",
      "\u001b[1;31mKeyboardInterrupt\u001b[0m: "
     ]
    }
   ],
   "source": [
    "vsm = VimmsSequenceManager(None, evaluation_methods, output_dir, progress_bar=True, ms1_picked_peaks_file=None, mzmine_command=mzmine_command)\n",
    "gs = GridSearchExperiment(vsm, 'TopNController', mass_spec_params, None, topn_variable_params_dict, controller_params, mzml_file, ps=ps, parallel=False)"
   ]
  },
  {
   "cell_type": "markdown",
   "metadata": {},
   "source": [
    "# 5. Analyse Results"
   ]
  },
  {
   "cell_type": "code",
   "execution_count": null,
   "metadata": {},
   "outputs": [],
   "source": [
    "gs.results"
   ]
  },
  {
   "cell_type": "code",
   "execution_count": null,
   "metadata": {},
   "outputs": [],
   "source": [
    "Heatmap_GridSearch(gs, 'mzmine_peak', 'rt_tol', 'N')"
   ]
  },
  {
   "cell_type": "code",
   "execution_count": null,
   "metadata": {},
   "outputs": [],
   "source": []
  }
 ],
 "metadata": {
  "kernelspec": {
   "display_name": "Python 3",
   "language": "python",
   "name": "python3"
  },
  "language_info": {
   "codemirror_mode": {
    "name": "ipython",
    "version": 3
   },
   "file_extension": ".py",
   "mimetype": "text/x-python",
   "name": "python",
   "nbconvert_exporter": "python",
   "pygments_lexer": "ipython3",
   "version": "3.7.3"
  }
 },
 "nbformat": 4,
 "nbformat_minor": 4
}
