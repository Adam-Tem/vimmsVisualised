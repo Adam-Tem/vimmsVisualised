{
 "cells": [
  {
   "cell_type": "markdown",
   "metadata": {},
   "source": [
    "# Varying N in Top-N Simulations"
   ]
  },
  {
   "cell_type": "markdown",
   "metadata": {},
   "source": [
    "This is a notebook showing how to take an mzml file and rerun multiple Top-N analyses to find the optimal choise of N and Dynamic Exclusion Window (DEW). The user provides an mzml file and options for N and DEW. Eventually it will be possible for the user to specify other settings.\n",
    "\n",
    "To use this file the user will need to have\n",
    "- ViMMS - github.com/glasgowcompbio/vimms\n",
    "- pymzm - github.com/glasgowcompbio/pymzm\n",
    "- MZMine2 (this will need to be in the same parent directory as the experiment and data)"
   ]
  },
  {
   "cell_type": "markdown",
   "metadata": {},
   "source": [
    "# 1. Load Packages"
   ]
  },
  {
   "cell_type": "markdown",
   "metadata": {},
   "source": [
    "This loads the packages needed to run the example and add locations for the github repositories. You will need to add your own locations in order to be able to use it"
   ]
  },
  {
   "cell_type": "code",
   "execution_count": 1,
   "metadata": {},
   "outputs": [],
   "source": [
    "%matplotlib inline\n",
    "%load_ext autoreload\n",
    "%autoreload 2"
   ]
  },
  {
   "cell_type": "code",
   "execution_count": 2,
   "metadata": {},
   "outputs": [],
   "source": [
    "import sys\n",
    "sys.path.append('C:\\\\Users\\\\joewa\\\\Work\\\\git\\\\vimms')\n",
    "sys.path.append('C:\\\\Users\\\\Vinny\\\\work\\\\vimms')"
   ]
  },
  {
   "cell_type": "code",
   "execution_count": 7,
   "metadata": {},
   "outputs": [],
   "source": [
    "from pathlib import Path\n",
    "from pyDOE import *\n",
    "from vimms.Environment import *"
   ]
  },
  {
   "cell_type": "code",
   "execution_count": 9,
   "metadata": {},
   "outputs": [],
   "source": [
    "from vimms.Chemicals import ChemicalCreator, GET_MS2_BY_PEAKS, GET_MS2_BY_SPECTRA\n",
    "from vimms.MassSpec import IndependentMassSpectrometer\n",
    "from vimms.Controller import *\n",
    "from vimms.Common import *\n",
    "from vimms.PlotsForPaper import *\n",
    "from vimms.Roi import make_roi\n",
    "from vimms.Chemicals import RoiToChemicalCreator\n",
    "from vimms.FeatureExtraction import extract_roi\n",
    "from vimms.SequenceManager import *"
   ]
  },
  {
   "cell_type": "code",
   "execution_count": 10,
   "metadata": {},
   "outputs": [],
   "source": [
    "base_dir = os.path.abspath('../Trained Models')\n",
    "data_dir = os.path.abspath('./QCsamples')"
   ]
  },
  {
   "cell_type": "code",
   "execution_count": 11,
   "metadata": {},
   "outputs": [],
   "source": [
    "set_log_level_info()"
   ]
  },
  {
   "cell_type": "markdown",
   "metadata": {},
   "source": [
    "# 2. Settings"
   ]
  },
  {
   "cell_type": "markdown",
   "metadata": {},
   "source": [
    "This sections specifies settings that are initially fixed. Settings are provided for the Mass Spec, the Top-N Controller and MZMine2 peak picking. Folders are also given to save the files, which will need to be update to use the example"
   ]
  },
  {
   "cell_type": "code",
   "execution_count": 12,
   "metadata": {},
   "outputs": [],
   "source": [
    "# this is needed to create the datasets\n",
    "ps = load_obj('C:\\\\Users\\\\Vinny\\\\OneDrive - University of Glasgow\\\\CLDS Metabolomics Project\\\\Trained Models\\\\peak_sampler_mz_rt_int_beerqcb_fragmentation.p')"
   ]
  },
  {
   "cell_type": "code",
   "execution_count": 13,
   "metadata": {},
   "outputs": [],
   "source": [
    "# This is where I save my results\n",
    "experiment_dir = 'C:\\\\Users\\\\Vinny\\\\work\\\\mzmine_files'\n",
    "output_dir = os.path.join(experiment_dir, 'SimpleExperiments\\\\GridSearch\\\\experiment_2_2_3')"
   ]
  },
  {
   "cell_type": "code",
   "execution_count": 14,
   "metadata": {},
   "outputs": [],
   "source": [
    "# these are the parameters for the virutal mass spec\n",
    "mass_spec_params = {'ionisation_mode': POSITIVE,\n",
    "                    'peak_sampler': ps,\n",
    "                    'add_noise': False,\n",
    "                    'isolation_transition_window': 'rectangular',\n",
    "                    'isolation_transition_window_params': None}"
   ]
  },
  {
   "cell_type": "code",
   "execution_count": 15,
   "metadata": {},
   "outputs": [],
   "source": [
    "# these are the default for the parameters for the controller. Some of these will get replaced for different runs in section 4\n",
    "controller_params = {\"ionisation_mode\": POSITIVE,\n",
    "                       \"N\": 10,\n",
    "                       \"mz_tol\": 10,\n",
    "                       \"rt_tol\":30,\n",
    "                       \"min_ms1_intensity\": 1.75E5,\n",
    "                       \"rt_range\": [(200, 400)],\n",
    "                       \"isolation_width\": 1}"
   ]
  },
  {
   "cell_type": "code",
   "execution_count": 17,
   "metadata": {},
   "outputs": [],
   "source": [
    "# this is where mzmine is and is used to pick the peaks\n",
    "mzmine_command = 'C:\\\\Users\\\\Vinny\\\\work\\\\MZmine-2.40.1\\\\MZmine-2.40.1\\\\startMZmine_Windows.bat'"
   ]
  },
  {
   "cell_type": "markdown",
   "metadata": {},
   "source": [
    "# 3. User Inputs"
   ]
  },
  {
   "cell_type": "markdown",
   "metadata": {},
   "source": [
    "These are the inputs that the user will need to supply\n",
    "- the mzml file that is going to be re-analysed\n",
    "- which settings to test\n",
    "- what method to evaluate the method using (this is the only option currently, but it would be good to make the app generic enough to take other options in the future"
   ]
  },
  {
   "cell_type": "code",
   "execution_count": 18,
   "metadata": {},
   "outputs": [],
   "source": [
    "mzml_file = os.path.join(experiment_dir, 'QCB\\\\fullscan_mzmls\\\\QCB_22May19_1.mzML')"
   ]
  },
  {
   "cell_type": "code",
   "execution_count": 19,
   "metadata": {},
   "outputs": [],
   "source": [
    "topn_variable_params_dict = {'N': [10,20], 'rt_tol': [15,30]}"
   ]
  },
  {
   "cell_type": "code",
   "execution_count": 20,
   "metadata": {},
   "outputs": [],
   "source": [
    "evaluation_methods = ['mzmine_peak']"
   ]
  },
  {
   "cell_type": "markdown",
   "metadata": {},
   "source": [
    "# 4. Run Methods"
   ]
  },
  {
   "cell_type": "markdown",
   "metadata": {},
   "source": [
    "This takes all the information previously given and runs a grid search over all the possible values given"
   ]
  },
  {
   "cell_type": "code",
   "execution_count": 22,
   "metadata": {},
   "outputs": [
    {
     "name": "stderr",
     "output_type": "stream",
     "text": [
      "2020-09-22 10:50:03.223 | INFO     | vimms.Common:save_obj:165 - Saving <class 'list'> to C:\\Users\\Vinny\\work\\mzmine_files\\SimpleExperiments\\GridSearch\\experiment_2_2_3\\QCB_22May19_1.p\n",
      "2020-09-22 10:50:16.596 | INFO     | vimms.PythonMzmine:pick_peaks:23 - Creating xml batch file for QCB_22May19_1.mzML\n",
      "2020-09-22 10:50:16.606 | INFO     | vimms.PythonMzmine:pick_peaks:53 - Running mzMine for QCB_22May19_1.mzML\n"
     ]
    },
    {
     "ename": "KeyboardInterrupt",
     "evalue": "",
     "output_type": "error",
     "traceback": [
      "\u001B[1;31m---------------------------------------------------------------------------\u001B[0m",
      "\u001B[1;31mKeyboardInterrupt\u001B[0m                         Traceback (most recent call last)",
      "\u001B[1;32m<ipython-input-22-97fb08c92766>\u001B[0m in \u001B[0;36m<module>\u001B[1;34m\u001B[0m\n\u001B[0;32m      1\u001B[0m \u001B[0mvsm\u001B[0m \u001B[1;33m=\u001B[0m \u001B[0mVimmsSequenceManager\u001B[0m\u001B[1;33m(\u001B[0m\u001B[1;32mNone\u001B[0m\u001B[1;33m,\u001B[0m \u001B[0mevaluation_methods\u001B[0m\u001B[1;33m,\u001B[0m \u001B[0moutput_dir\u001B[0m\u001B[1;33m,\u001B[0m \u001B[0mprogress_bar\u001B[0m\u001B[1;33m=\u001B[0m\u001B[1;32mTrue\u001B[0m\u001B[1;33m,\u001B[0m \u001B[0mms1_picked_peaks_file\u001B[0m\u001B[1;33m=\u001B[0m\u001B[1;32mNone\u001B[0m\u001B[1;33m,\u001B[0m \u001B[0mmzmine_command\u001B[0m\u001B[1;33m=\u001B[0m\u001B[0mmzmine_command\u001B[0m\u001B[1;33m)\u001B[0m\u001B[1;33m\u001B[0m\u001B[1;33m\u001B[0m\u001B[0m\n\u001B[1;32m----> 2\u001B[1;33m \u001B[0mgs\u001B[0m \u001B[1;33m=\u001B[0m \u001B[0mGridSearchExperiment\u001B[0m\u001B[1;33m(\u001B[0m\u001B[0mvsm\u001B[0m\u001B[1;33m,\u001B[0m \u001B[1;34m'TopNController'\u001B[0m\u001B[1;33m,\u001B[0m \u001B[0mmass_spec_params\u001B[0m\u001B[1;33m,\u001B[0m \u001B[1;32mNone\u001B[0m\u001B[1;33m,\u001B[0m \u001B[0mtopn_variable_params_dict\u001B[0m\u001B[1;33m,\u001B[0m \u001B[0mcontroller_params\u001B[0m\u001B[1;33m,\u001B[0m \u001B[0mmzml_file\u001B[0m\u001B[1;33m,\u001B[0m \u001B[0mps\u001B[0m\u001B[1;33m=\u001B[0m\u001B[0mps\u001B[0m\u001B[1;33m,\u001B[0m \u001B[0mparallel\u001B[0m\u001B[1;33m=\u001B[0m\u001B[1;32mFalse\u001B[0m\u001B[1;33m)\u001B[0m\u001B[1;33m\u001B[0m\u001B[1;33m\u001B[0m\u001B[0m\n\u001B[0m",
      "\u001B[1;32m~\\work\\vimms\\vimms\\SequenceManager.py\u001B[0m in \u001B[0;36m__init__\u001B[1;34m(self, sequence_manager, controller_method, mass_spec_param_dict, dataset_file, variable_params_dict, base_params_dict, mzml_file, roi_params, ps, parallel)\u001B[0m\n\u001B[0;32m    331\u001B[0m             if self.sequence_manager.ms1_picked_peaks_file is None and len(\n\u001B[0;32m    332\u001B[0m                     self.sequence_manager.evaluation_methods) > 0:\n\u001B[1;32m--> 333\u001B[1;33m                 \u001B[0mself\u001B[0m\u001B[1;33m.\u001B[0m\u001B[0msequence_manager\u001B[0m\u001B[1;33m.\u001B[0m\u001B[0mms1_picked_peaks_file\u001B[0m \u001B[1;33m=\u001B[0m \u001B[0mself\u001B[0m\u001B[1;33m.\u001B[0m\u001B[0msequence_manager\u001B[0m\u001B[1;33m.\u001B[0m\u001B[0mpick_peaks\u001B[0m\u001B[1;33m(\u001B[0m\u001B[0mself\u001B[0m\u001B[1;33m.\u001B[0m\u001B[0mmzml_file\u001B[0m\u001B[1;33m,\u001B[0m \u001B[1;32mNone\u001B[0m\u001B[1;33m,\u001B[0m \u001B[1;36m1\u001B[0m\u001B[1;33m)\u001B[0m\u001B[1;33m\u001B[0m\u001B[1;33m\u001B[0m\u001B[0m\n\u001B[0m\u001B[0;32m    334\u001B[0m         \u001B[0mself\u001B[0m\u001B[1;33m.\u001B[0m\u001B[0mvariable_params_dict\u001B[0m \u001B[1;33m=\u001B[0m \u001B[0mvariable_params_dict\u001B[0m\u001B[1;33m\u001B[0m\u001B[1;33m\u001B[0m\u001B[0m\n\u001B[0;32m    335\u001B[0m         \u001B[0mself\u001B[0m\u001B[1;33m.\u001B[0m\u001B[0mbase_params_dict\u001B[0m \u001B[1;33m=\u001B[0m \u001B[0mbase_params_dict\u001B[0m\u001B[1;33m\u001B[0m\u001B[1;33m\u001B[0m\u001B[0m\n",
      "\u001B[1;32m~\\work\\vimms\\vimms\\SequenceManager.py\u001B[0m in \u001B[0;36mpick_peaks\u001B[1;34m(self, mzml_file, controller_name, ms_level)\u001B[0m\n\u001B[0;32m    104\u001B[0m             \u001B[0mpicked_peaks_file\u001B[0m \u001B[1;33m=\u001B[0m \u001B[0mos\u001B[0m\u001B[1;33m.\u001B[0m\u001B[0mpath\u001B[0m\u001B[1;33m.\u001B[0m\u001B[0mjoin\u001B[0m\u001B[1;33m(\u001B[0m\u001B[0mself\u001B[0m\u001B[1;33m.\u001B[0m\u001B[0mbase_dir\u001B[0m\u001B[1;33m,\u001B[0m \u001B[0mPath\u001B[0m\u001B[1;33m(\u001B[0m\u001B[0mmzml_file\u001B[0m\u001B[1;33m)\u001B[0m\u001B[1;33m.\u001B[0m\u001B[0mstem\u001B[0m \u001B[1;33m+\u001B[0m \u001B[1;34m'_pp.csv'\u001B[0m\u001B[1;33m)\u001B[0m\u001B[1;33m\u001B[0m\u001B[1;33m\u001B[0m\u001B[0m\n\u001B[0;32m    105\u001B[0m             pick_peaks([mzml_file], xml_template=self.xml_template_ms1, output_dir=self.base_dir,\n\u001B[1;32m--> 106\u001B[1;33m                        mzmine_command=self.mzmine_command)\n\u001B[0m\u001B[0;32m    107\u001B[0m         \u001B[1;32melse\u001B[0m\u001B[1;33m:\u001B[0m\u001B[1;33m\u001B[0m\u001B[1;33m\u001B[0m\u001B[0m\n\u001B[0;32m    108\u001B[0m             \u001B[0mpicked_peaks_file\u001B[0m \u001B[1;33m=\u001B[0m \u001B[0mself\u001B[0m\u001B[1;33m.\u001B[0m\u001B[0mbase_dir\u001B[0m \u001B[1;33m+\u001B[0m \u001B[1;34m'\\\\'\u001B[0m \u001B[1;33m+\u001B[0m \u001B[0mcontroller_name\u001B[0m \u001B[1;33m+\u001B[0m \u001B[1;34m'_pp.csv'\u001B[0m\u001B[1;33m\u001B[0m\u001B[1;33m\u001B[0m\u001B[0m\n",
      "\u001B[1;32m~\\work\\vimms\\vimms\\PythonMzmine.py\u001B[0m in \u001B[0;36mpick_peaks\u001B[1;34m(file_list, xml_template, output_dir, mzmine_command, add_name)\u001B[0m\n\u001B[0;32m     52\u001B[0m         \u001B[1;31m# Run mzmine\u001B[0m\u001B[1;33m\u001B[0m\u001B[1;33m\u001B[0m\u001B[1;33m\u001B[0m\u001B[0m\n\u001B[0;32m     53\u001B[0m         \u001B[0mlogger\u001B[0m\u001B[1;33m.\u001B[0m\u001B[0minfo\u001B[0m\u001B[1;33m(\u001B[0m\u001B[1;34m\"Running mzMine for {}\"\u001B[0m\u001B[1;33m.\u001B[0m\u001B[0mformat\u001B[0m\u001B[1;33m(\u001B[0m\u001B[0mfilename\u001B[0m\u001B[1;33m.\u001B[0m\u001B[0msplit\u001B[0m\u001B[1;33m(\u001B[0m\u001B[0mos\u001B[0m\u001B[1;33m.\u001B[0m\u001B[0msep\u001B[0m\u001B[1;33m)\u001B[0m\u001B[1;33m[\u001B[0m\u001B[1;33m-\u001B[0m\u001B[1;36m1\u001B[0m\u001B[1;33m]\u001B[0m\u001B[1;33m)\u001B[0m\u001B[1;33m)\u001B[0m\u001B[1;33m\u001B[0m\u001B[1;33m\u001B[0m\u001B[0m\n\u001B[1;32m---> 54\u001B[1;33m         \u001B[0mos\u001B[0m\u001B[1;33m.\u001B[0m\u001B[0msystem\u001B[0m\u001B[1;33m(\u001B[0m\u001B[0mmzmine_command\u001B[0m \u001B[1;33m+\u001B[0m \u001B[1;34m' \"{}\"'\u001B[0m\u001B[1;33m.\u001B[0m\u001B[0mformat\u001B[0m\u001B[1;33m(\u001B[0m\u001B[0mnew_xml_name\u001B[0m\u001B[1;33m)\u001B[0m\u001B[1;33m)\u001B[0m\u001B[1;33m\u001B[0m\u001B[1;33m\u001B[0m\u001B[0m\n\u001B[0m\u001B[0;32m     55\u001B[0m \u001B[1;33m\u001B[0m\u001B[0m\n\u001B[0;32m     56\u001B[0m \u001B[1;33m\u001B[0m\u001B[0m\n",
      "\u001B[1;31mKeyboardInterrupt\u001B[0m: "
     ]
    }
   ],
   "source": [
    "vsm = VimmsSequenceManager(None, evaluation_methods, output_dir, progress_bar=True, ms1_picked_peaks_file=None, mzmine_command=mzmine_command)\n",
    "gs = GridSearchExperiment(vsm, 'TopNController', mass_spec_params, None, topn_variable_params_dict, controller_params, mzml_file, ps=ps, parallel=False)"
   ]
  },
  {
   "cell_type": "markdown",
   "metadata": {},
   "source": [
    "# 5. Analyse Results"
   ]
  },
  {
   "cell_type": "code",
   "execution_count": null,
   "metadata": {},
   "outputs": [],
   "source": [
    "gs.results"
   ]
  },
  {
   "cell_type": "code",
   "execution_count": null,
   "metadata": {},
   "outputs": [],
   "source": [
    "Heatmap_GridSearch(gs, 'mzmine_peak', 'rt_tol', 'N')"
   ]
  },
  {
   "cell_type": "code",
   "execution_count": null,
   "metadata": {},
   "outputs": [],
   "source": []
  }
 ],
 "metadata": {
  "kernelspec": {
   "display_name": "Python 3",
   "language": "python",
   "name": "python3"
  },
  "language_info": {
   "codemirror_mode": {
    "name": "ipython",
    "version": 3
   },
   "file_extension": ".py",
   "mimetype": "text/x-python",
   "name": "python",
   "nbconvert_exporter": "python",
   "pygments_lexer": "ipython3",
   "version": "3.7.3"
  }
 },
 "nbformat": 4,
 "nbformat_minor": 4
}