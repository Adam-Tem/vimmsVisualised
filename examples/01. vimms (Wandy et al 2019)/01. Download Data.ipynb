{
 "cells": [
  {
   "cell_type": "markdown",
   "metadata": {},
   "source": [
    "# 1. Download Data"
   ]
  },
  {
   "cell_type": "markdown",
   "metadata": {},
   "source": [
    "This notebook downloads the necessary example data that will be used in other notebooks. In particular, the notebook does the following:\n",
    "\n",
    "- Download beer and urine .mzML files used as examples in the paper\n",
    "- Download the HMDB database and extract metabolites.\n",
    "\n",
    "**Please run this notebook first to make sure the data files are available for subsequent notebooks. It might take a while, so please be patient and let the notebook runs to its completion**\n",
    "\n",
    "The data files downloaded above should contain nearly everything needed to replicate the results in the paper using your own data. Please replace the paths below to point to your files if you want to run the simulation based on your own data.\n",
    "\n",
    "Alternatively if you just want to try running some controllers (fragmentation strategies) quickly using our test fixtures, please take a look at the test cases instead."
   ]
  },
  {
   "cell_type": "code",
   "execution_count": 1,
   "metadata": {},
   "outputs": [],
   "source": [
    "%matplotlib inline"
   ]
  },
  {
   "cell_type": "code",
   "execution_count": 2,
   "metadata": {},
   "outputs": [],
   "source": [
    "%load_ext autoreload\n",
    "%autoreload 2"
   ]
  },
  {
   "cell_type": "code",
   "execution_count": 3,
   "metadata": {},
   "outputs": [],
   "source": [
    "import os\n",
    "from pathlib import Path\n",
    "import glob"
   ]
  },
  {
   "cell_type": "code",
   "execution_count": 4,
   "metadata": {},
   "outputs": [],
   "source": [
    "import sys\n",
    "sys.path.append('../..')"
   ]
  },
  {
   "cell_type": "code",
   "execution_count": 5,
   "metadata": {},
   "outputs": [],
   "source": [
    "from vimms.FeatureExtraction import extract_hmdb_metabolite\n",
    "from vimms.MassSpec import IndependentMassSpectrometer\n",
    "from vimms.Controller import SimpleMs1Controller\n",
    "from vimms.FeatureExtraction import extract_roi\n",
    "from vimms.Common import set_log_level_debug, download_file, extract_zip_file, load_obj"
   ]
  },
  {
   "cell_type": "code",
   "execution_count": 6,
   "metadata": {},
   "outputs": [
    {
     "data": {
      "text/plain": [
       "1"
      ]
     },
     "execution_count": 6,
     "metadata": {},
     "output_type": "execute_result"
    }
   ],
   "source": [
    "set_log_level_debug()"
   ]
  },
  {
   "cell_type": "markdown",
   "metadata": {},
   "source": [
    "## a. Download example mzML files"
   ]
  },
  {
   "cell_type": "markdown",
   "metadata": {},
   "source": [
    "Here we download the beer .mzML files used as examples in the paper if they don't exist."
   ]
  },
  {
   "cell_type": "code",
   "execution_count": 7,
   "metadata": {},
   "outputs": [],
   "source": [
    "url = 'https://github.com/glasgowcompbio/vimms-data/raw/main/example_data.zip'\n",
    "base_dir = os.path.join(os.getcwd(), 'example_data')"
   ]
  },
  {
   "cell_type": "code",
   "execution_count": 8,
   "metadata": {},
   "outputs": [
    {
     "name": "stdout",
     "output_type": "stream",
     "text": [
      "Creating C:\\Users\\joewa\\Work\\git\\vimms\\examples\\01. vimms (Wandy et al 2019)\\example_data\n"
     ]
    },
    {
     "name": "stderr",
     "output_type": "stream",
     "text": [
      "2022-02-24 16:56:31.386 | INFO     | vimms.Common:download_file:453 - Downloading example_data.zip\n"
     ]
    },
    {
     "data": {
      "application/vnd.jupyter.widget-view+json": {
       "model_id": "562dead3f068422fadc3dfaca5978623",
       "version_major": 2,
       "version_minor": 0
      },
      "text/plain": [
       "  0%|          | 0.00/64.7k [00:00<?, ?KB/s]"
      ]
     },
     "metadata": {},
     "output_type": "display_data"
    },
    {
     "name": "stderr",
     "output_type": "stream",
     "text": [
      "2022-02-24 16:56:36.405 | INFO     | vimms.Common:extract_zip_file:466 - Extracting example_data.zip\n"
     ]
    },
    {
     "data": {
      "application/vnd.jupyter.widget-view+json": {
       "model_id": "413cce6a8cb34699845b80b313a792ec",
       "version_major": 2,
       "version_minor": 0
      },
      "text/plain": [
       "  0%|          | 0/4 [00:00<?, ?it/s]"
      ]
     },
     "metadata": {},
     "output_type": "display_data"
    },
    {
     "name": "stderr",
     "output_type": "stream",
     "text": [
      "2022-02-24 16:56:37.947 | INFO     | vimms.Common:extract_zip_file:473 - Deleting example_data.zip\n"
     ]
    }
   ],
   "source": [
    "if not os.path.isdir(base_dir): # if not exist then download the example data and extract it\n",
    "    print('Creating %s' % base_dir)    \n",
    "    out_file = 'example_data.zip'\n",
    "    download_file(url, out_file)\n",
    "    extract_zip_file(out_file, delete=True)\n",
    "else:\n",
    "    print('Found %s' % base_dir)"
   ]
  },
  {
   "cell_type": "markdown",
   "metadata": {},
   "source": [
    "## b. Download metabolites from HMDB"
   ]
  },
  {
   "cell_type": "markdown",
   "metadata": {},
   "source": [
    "Next we load a pre-processed pickled file of database metabolites in the `data_dir` folder. If it is not found, then create the file by downloading and extracting the metabolites from HMDB."
   ]
  },
  {
   "cell_type": "code",
   "execution_count": 9,
   "metadata": {},
   "outputs": [
    {
     "name": "stderr",
     "output_type": "stream",
     "text": [
      "2022-02-24 16:56:38.103 | WARNING  | vimms.Common:load_obj:344 - Old, invalid or missing pickle in C:\\Users\\joewa\\Work\\git\\vimms\\examples\\01. vimms (Wandy et al 2019)\\example_data\\hmdb_compounds.p. Please regenerate this file.\n",
      "2022-02-24 16:56:39.715 | INFO     | vimms.Common:download_file:453 - Downloading C:\\Users\\joewa\\Work\\git\\vimms\\examples\\01. vimms (Wandy et al 2019)\\example_data\\hmdb_compounds.p\n"
     ]
    },
    {
     "data": {
      "application/vnd.jupyter.widget-view+json": {
       "model_id": "2629b8bc2f334c43968699c41fb3787a",
       "version_major": 2,
       "version_minor": 0
      },
      "text/plain": [
       "  0%|          | 0.00/8.38k [00:00<?, ?KB/s]"
      ]
     },
     "metadata": {},
     "output_type": "display_data"
    }
   ],
   "source": [
    "out_file = 'hmdb_compounds.p'\n",
    "compound_file = Path(base_dir, out_file)\n",
    "try:\n",
    "    hmdb_compounds = load_obj(compound_file)\n",
    "except FileNotFoundError:\n",
    "    \n",
    "    # download the entire HMDB metabolite database and extract chemicals from it\n",
    "    # url = 'http://www.hmdb.ca/system/downloads/current/hmdb_metabolites.zip'\n",
    "    # out_file = download_file(url)\n",
    "    # compounds = extract_hmdb_metabolite(out_file, delete=True)\n",
    "    # save_obj(compounds, compound_file)\n",
    "    \n",
    "    # above could be quite slow slow, so download a pre-processed result instead\n",
    "    url = 'https://github.com/glasgowcompbio/vimms-data/raw/main/hmdb_compounds.p'\n",
    "    download_file(url, compound_file)"
   ]
  }
 ],
 "metadata": {
  "kernelspec": {
   "display_name": "Python 3 (ipykernel)",
   "language": "python",
   "name": "python3"
  },
  "language_info": {
   "codemirror_mode": {
    "name": "ipython",
    "version": 3
   },
   "file_extension": ".py",
   "mimetype": "text/x-python",
   "name": "python",
   "nbconvert_exporter": "python",
   "pygments_lexer": "ipython3",
   "version": "3.8.10"
  }
 },
 "nbformat": 4,
 "nbformat_minor": 4
}
