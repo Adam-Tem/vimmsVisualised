{
 "cells": [
  {
   "cell_type": "markdown",
   "metadata": {},
   "source": [
    "some text"
   ]
  },
  {
   "cell_type": "code",
   "execution_count": 2,
   "metadata": {},
   "outputs": [],
   "source": [
    "%load_ext autoreload\n",
    "%autoreload 2"
   ]
  },
  {
   "cell_type": "code",
   "execution_count": 3,
   "metadata": {},
   "outputs": [],
   "source": [
    "import xml.etree.ElementTree\n",
    "import os,glob,sys\n",
    "import numpy as np\n",
    "import pandas as pd\n",
    "import seaborn as sns"
   ]
  },
  {
   "cell_type": "code",
   "execution_count": 4,
   "metadata": {},
   "outputs": [],
   "source": [
    "import sys\n",
    "sys.path.append('../..')"
   ]
  },
  {
   "cell_type": "code",
   "execution_count": 5,
   "metadata": {},
   "outputs": [],
   "source": [
    "from vimms.PythonMzmine import *\n",
    "from vimms.MassSpec import IndependentMassSpectrometer\n",
    "from vimms.Controller import TopNController,ExcludingTopNController\n",
    "from vimms.PythonMzmine import *"
   ]
  },
  {
   "cell_type": "code",
   "execution_count": 6,
   "metadata": {},
   "outputs": [],
   "source": [
    "from vimms.Roi import make_roi, RoiToChemicalCreator\n",
    "from vimms.BOMAS import *\n",
    "from vimms.Common import *\n",
    "from vimms.Environment import *\n",
    "from pathlib import Path\n",
    "from vimms.PlotsForPaper import get_frag_events"
   ]
  },
  {
   "cell_type": "code",
   "execution_count": 7,
   "metadata": {},
   "outputs": [],
   "source": [
    "from vimms.DataGenerator import extract_hmdb_metabolite, get_data_source, get_spectral_feature_database"
   ]
  },
  {
   "cell_type": "code",
   "execution_count": 8,
   "metadata": {},
   "outputs": [],
   "source": [
    "set_log_level_warning()"
   ]
  },
  {
   "cell_type": "markdown",
   "metadata": {},
   "source": [
    "# Load files needed to run experiments"
   ]
  },
  {
   "cell_type": "code",
   "execution_count": 9,
   "metadata": {},
   "outputs": [],
   "source": [
    "data_dir = os.path.join(os.path.abspath(os.path.join(os.path.join(os.getcwd(),\"..\"),\"..\")),'tests','integration','fixtures')\n",
    "ps = load_obj(Path(data_dir,'peak_sampler_mz_rt_int_beerqcb_fragmentation.p'))"
   ]
  },
  {
   "cell_type": "code",
   "execution_count": 10,
   "metadata": {},
   "outputs": [],
   "source": [
    "MZML2CHEMS_DICT = {'min_ms1_intensity': 0,\n",
    "                  'mz_tol': 5,\n",
    "                  'mz_units':'ppm',\n",
    "                  'min_length':1,\n",
    "                  'min_intensity':0,\n",
    "                  'start_rt':0,\n",
    "                  'stop_rt':1560}"
   ]
  },
  {
   "cell_type": "markdown",
   "metadata": {},
   "source": [
    "# Data"
   ]
  },
  {
   "cell_type": "markdown",
   "metadata": {},
   "source": [
    "The raw files can be found below"
   ]
  },
  {
   "cell_type": "code",
   "execution_count": 11,
   "metadata": {},
   "outputs": [],
   "source": [
    "QCA_seed_mzml_file = 'C:\\\\Users\\\\Vinny\\\\OneDrive - University of Glasgow\\\\CLDS Metabolomics Project\\\\Experimental_Results\\\\20200715_TopN_vs_ROI\\\\from_controllers\\\\QCA\\\\TopN_QCA.mzML'\n",
    "QCB_seed_mzml_file = 'C:\\\\Users\\\\Vinny\\\\OneDrive - University of Glasgow\\\\CLDS Metabolomics Project\\\\Experimental_Results\\\\20200715_TopN_vs_ROI\\\\from_controllers\\\\QCB\\\\TopN_QCB.mzML'"
   ]
  },
  {
   "cell_type": "markdown",
   "metadata": {},
   "source": [
    "We can convert them into the ViMMS chemicals to allow us to run the virtual MS"
   ]
  },
  {
   "cell_type": "code",
   "execution_count": 12,
   "metadata": {},
   "outputs": [],
   "source": [
    "#TopN_QCA_dataset = mzml2chems(QCA_seed_mzml_file, ps, MZML2CHEMS_DICT, n_peaks=None)\n",
    "#TopN_QCB_dataset = mzml2chems(QCB_seed_mzml_file, ps, MZML2CHEMS_DICT, n_peaks=None)\n",
    "#save_obj(TopN_QCA_dataset, Path(os.getcwd(),'TopN_QCA_dataset.p'))\n",
    "#save_obj(TopN_QCB_dataset, Path(os.getcwd(),'TopN_QCB_dataset.p'))\n",
    "TopN_QCA_dataset = load_obj(Path(os.getcwd(),'TopN_QCA_dataset.p'))\n",
    "TopN_QCB_dataset = load_obj(Path(os.getcwd(),'TopN_QCB_dataset.p'))"
   ]
  },
  {
   "cell_type": "markdown",
   "metadata": {},
   "source": [
    "## Experiment Parameters"
   ]
  },
  {
   "cell_type": "code",
   "execution_count": 13,
   "metadata": {},
   "outputs": [],
   "source": [
    "min_rt = 0\n",
    "max_rt = 26*60 # entire run\n",
    "min_ms1_intensity = 5000\n",
    "mz_tol = 10\n",
    "rt_tol = 15\n",
    "N = 10\n",
    "\n",
    "roi_time_dict = {1: 0.71,2:0.20}\n",
    "topn_time_dict = {1: 0.60,2:0.20}\n",
    "\n",
    "ionisation_mode = POSITIVE\n",
    "isolation_width = 1\n",
    "\n",
    "min_roi_intensity = 500\n",
    "min_roi_length = 0\n",
    "min_roi_length_for_fragmentation = 0"
   ]
  },
  {
   "cell_type": "markdown",
   "metadata": {},
   "source": [
    "SmartROI parameter options"
   ]
  },
  {
   "cell_type": "code",
   "execution_count": 14,
   "metadata": {},
   "outputs": [],
   "source": [
    "reset_length_seconds = 1e6 # set so reset never happens\n",
    "iif_values = [2,3,5,10,1e3,1e6]\n",
    "dp_values = [0,0.1,0.5,1,5]"
   ]
  },
  {
   "cell_type": "markdown",
   "metadata": {},
   "source": [
    "WeighedDEW parameter options"
   ]
  },
  {
   "cell_type": "code",
   "execution_count": 15,
   "metadata": {},
   "outputs": [],
   "source": [
    "t0_vals = [1,3,5,10,15,30,60]\n",
    "t0_vals = [1,3,10,15,30,60]\n",
    "rt_tol_vals = [15,30,60,120,240,300,360]\n",
    "rt_tol_vals = [15,60,120,240,360,3600]"
   ]
  },
  {
   "cell_type": "markdown",
   "metadata": {},
   "source": [
    "## Get the picked peak boxes"
   ]
  },
  {
   "cell_type": "code",
   "execution_count": 16,
   "metadata": {},
   "outputs": [],
   "source": [
    "qca_peak_csv_file = 'C:\\\\Users\\\\Vinny\\\\OneDrive - University of Glasgow\\\\CLDS Metabolomics Project\\\\Experimental_Results\\\\20200715_TopN_vs_ROI\\\\from_controllers\\\\QCA\\\\TopN_QCA_box.csv'\n",
    "qcb_peak_csv_file = 'C:\\\\Users\\\\Vinny\\\\OneDrive - University of Glasgow\\\\CLDS Metabolomics Project\\\\Experimental_Results\\\\20200715_TopN_vs_ROI\\\\from_controllers\\\\QCB\\\\TopN_QCB_box.csv'\n",
    "\n",
    "qca_boxes = load_picked_boxes(qca_peak_csv_file)\n",
    "qcb_boxes = load_picked_boxes(qcb_peak_csv_file)"
   ]
  },
  {
   "cell_type": "markdown",
   "metadata": {},
   "source": [
    "## Experiment 1 - QCA, SmartROI"
   ]
  },
  {
   "cell_type": "code",
   "execution_count": 15,
   "metadata": {},
   "outputs": [],
   "source": [
    "output_folder = Path(os.getcwd(), 'experiment_1')"
   ]
  },
  {
   "cell_type": "code",
   "execution_count": 26,
   "metadata": {},
   "outputs": [
    {
     "name": "stdout",
     "output_type": "stream",
     "text": [
      "2 0\n"
     ]
    },
    {
     "name": "stderr",
     "output_type": "stream",
     "text": [
      "(1560.100s) ms_level=1 N=10 DEW=15: 100%|█████████████████████████████████████████████████████████████████████████████████████████████████████████████████████████████████████████████████▉| 1559.3900000001033/1560 [02:04<00:00, 12.48it/s]\n"
     ]
    },
    {
     "name": "stdout",
     "output_type": "stream",
     "text": [
      "2 0.1\n"
     ]
    },
    {
     "name": "stderr",
     "output_type": "stream",
     "text": [
      "(1560.550s) ms_level=1 N=10 DEW=15: 100%|██████████████████████████████████████████████████████████████████████████████████████████████████████████████████████████████████████████████████▉| 1559.840000000104/1560 [02:14<00:00, 11.60it/s]\n"
     ]
    },
    {
     "name": "stdout",
     "output_type": "stream",
     "text": [
      "2 0.5\n"
     ]
    },
    {
     "name": "stderr",
     "output_type": "stream",
     "text": [
      "(1560.680s) ms_level=1 N=10 DEW=15: 100%|█████████████████████████████████████████████████████████████████████████████████████████████████████████████████████████████████████████████████▉| 1559.9700000001035/1560 [02:02<00:00, 12.73it/s]\n"
     ]
    },
    {
     "name": "stdout",
     "output_type": "stream",
     "text": [
      "2 1\n"
     ]
    },
    {
     "name": "stderr",
     "output_type": "stream",
     "text": [
      "(1560.270s) ms_level=1 N=10 DEW=15: 100%|█████████████████████████████████████████████████████████████████████████████████████████████████████████████████████████████████████████████████▉| 1559.5600000001043/1560 [02:09<00:00, 12.06it/s]\n"
     ]
    },
    {
     "name": "stdout",
     "output_type": "stream",
     "text": [
      "2 5\n"
     ]
    },
    {
     "name": "stderr",
     "output_type": "stream",
     "text": [
      "(1560.490s) ms_level=1 N=10 DEW=15: 100%|█████████████████████████████████████████████████████████████████████████████████████████████████████████████████████████████████████████████████▉| 1559.7800000001055/1560 [02:10<00:00, 11.92it/s]\n"
     ]
    },
    {
     "name": "stdout",
     "output_type": "stream",
     "text": [
      "3 0\n"
     ]
    },
    {
     "name": "stderr",
     "output_type": "stream",
     "text": [
      "(1560.490s) ms_level=1 N=10 DEW=15: 100%|█████████████████████████████████████████████████████████████████████████████████████████████████████████████████████████████████████████████████▉| 1559.7800000000902/1560 [02:14<00:00, 11.56it/s]\n"
     ]
    },
    {
     "name": "stdout",
     "output_type": "stream",
     "text": [
      "3 0.1\n"
     ]
    },
    {
     "name": "stderr",
     "output_type": "stream",
     "text": [
      "(1560.180s) ms_level=2 N=10 DEW=15: 100%|█████████████████████████████████████████████████████████████████████████████████████████████████████████████████████████████████████████████████▉| 1559.9800000000903/1560 [02:04<00:00, 12.57it/s]\n"
     ]
    },
    {
     "name": "stdout",
     "output_type": "stream",
     "text": [
      "3 0.5\n"
     ]
    },
    {
     "name": "stderr",
     "output_type": "stream",
     "text": [
      "(1560.070s) ms_level=1 N=10 DEW=15: 100%|███████████████████████████████████████████████████████████████████████████████████████████████████████████████████████████████████████████████████▉| 1559.36000000009/1560 [02:16<00:00, 11.44it/s]\n"
     ]
    },
    {
     "name": "stdout",
     "output_type": "stream",
     "text": [
      "3 1\n"
     ]
    },
    {
     "name": "stderr",
     "output_type": "stream",
     "text": [
      "(1560.100s) ms_level=2 N=10 DEW=15: 100%|█████████████████████████████████████████████████████████████████████████████████████████████████████████████████████████████████████████████████▉| 1559.9000000000906/1560 [02:04<00:00, 12.56it/s]\n"
     ]
    },
    {
     "name": "stdout",
     "output_type": "stream",
     "text": [
      "3 5\n"
     ]
    },
    {
     "name": "stderr",
     "output_type": "stream",
     "text": [
      "(1560.310s) ms_level=1 N=10 DEW=15: 100%|█████████████████████████████████████████████████████████████████████████████████████████████████████████████████████████████████████████████████▉| 1559.6000000000922/1560 [02:16<00:00, 11.44it/s]\n"
     ]
    },
    {
     "name": "stdout",
     "output_type": "stream",
     "text": [
      "5 0\n"
     ]
    },
    {
     "name": "stderr",
     "output_type": "stream",
     "text": [
      "(1560.700s) ms_level=1 N=10 DEW=15: 100%|█████████████████████████████████████████████████████████████████████████████████████████████████████████████████████████████████████████████████▉| 1559.9900000000855/1560 [02:05<00:00, 12.40it/s]\n"
     ]
    },
    {
     "name": "stdout",
     "output_type": "stream",
     "text": [
      "5 0.1\n"
     ]
    },
    {
     "name": "stderr",
     "output_type": "stream",
     "text": [
      "(1560.680s) ms_level=1 N=10 DEW=15: 100%|█████████████████████████████████████████████████████████████████████████████████████████████████████████████████████████████████████████████████▉| 1559.9700000000857/1560 [02:19<00:00, 11.21it/s]\n"
     ]
    },
    {
     "name": "stdout",
     "output_type": "stream",
     "text": [
      "5 0.5\n"
     ]
    },
    {
     "name": "stderr",
     "output_type": "stream",
     "text": [
      "(1560.330s) ms_level=1 N=10 DEW=15: 100%|█████████████████████████████████████████████████████████████████████████████████████████████████████████████████████████████████████████████████▉| 1559.6200000000858/1560 [02:12<00:00, 11.79it/s]\n"
     ]
    },
    {
     "name": "stdout",
     "output_type": "stream",
     "text": [
      "5 1\n"
     ]
    },
    {
     "name": "stderr",
     "output_type": "stream",
     "text": [
      "(1560.180s) ms_level=1 N=10 DEW=15: 100%|█████████████████████████████████████████████████████████████████████████████████████████████████████████████████████████████████████████████████▉| 1559.4700000000862/1560 [02:12<00:00, 11.75it/s]\n"
     ]
    },
    {
     "name": "stdout",
     "output_type": "stream",
     "text": [
      "5 5\n"
     ]
    },
    {
     "name": "stderr",
     "output_type": "stream",
     "text": [
      "(1560.160s) ms_level=1 N=10 DEW=15: 100%|█████████████████████████████████████████████████████████████████████████████████████████████████████████████████████████████████████████████████▉| 1559.4500000000874/1560 [02:04<00:00, 12.49it/s]\n"
     ]
    },
    {
     "name": "stdout",
     "output_type": "stream",
     "text": [
      "10 0\n"
     ]
    },
    {
     "name": "stderr",
     "output_type": "stream",
     "text": [
      "(1560.040s) ms_level=1 N=10 DEW=15: 100%|█████████████████████████████████████████████████████████████████████████████████████████████████████████████████████████████████████████████████▉| 1559.3300000000831/1560 [02:20<00:00, 11.14it/s]\n"
     ]
    },
    {
     "name": "stdout",
     "output_type": "stream",
     "text": [
      "10 0.1\n"
     ]
    },
    {
     "name": "stderr",
     "output_type": "stream",
     "text": [
      "(1560.640s) ms_level=1 N=10 DEW=15: 100%|█████████████████████████████████████████████████████████████████████████████████████████████████████████████████████████████████████████████████▉| 1559.9300000000828/1560 [02:13<00:00, 11.66it/s]\n"
     ]
    },
    {
     "name": "stdout",
     "output_type": "stream",
     "text": [
      "10 0.5\n"
     ]
    },
    {
     "name": "stderr",
     "output_type": "stream",
     "text": [
      "(1560.380s) ms_level=1 N=10 DEW=15: 100%|█████████████████████████████████████████████████████████████████████████████████████████████████████████████████████████████████████████████████▉| 1559.6700000000835/1560 [02:14<00:00, 11.63it/s]\n"
     ]
    },
    {
     "name": "stdout",
     "output_type": "stream",
     "text": [
      "10 1\n"
     ]
    },
    {
     "name": "stderr",
     "output_type": "stream",
     "text": [
      "(1560.120s) ms_level=1 N=10 DEW=15: 100%|█████████████████████████████████████████████████████████████████████████████████████████████████████████████████████████████████████████████████▉| 1559.4100000000835/1560 [02:10<00:00, 11.92it/s]\n"
     ]
    },
    {
     "name": "stdout",
     "output_type": "stream",
     "text": [
      "10 5\n"
     ]
    },
    {
     "name": "stderr",
     "output_type": "stream",
     "text": [
      "(1560.080s) ms_level=1 N=10 DEW=15: 100%|██████████████████████████████████████████████████████████████████████████████████████████████████████████████████████████████████████████████████▉| 1559.370000000085/1560 [02:20<00:00, 11.09it/s]\n"
     ]
    },
    {
     "name": "stdout",
     "output_type": "stream",
     "text": [
      "1000.0 0\n"
     ]
    },
    {
     "name": "stderr",
     "output_type": "stream",
     "text": [
      "(1560.480s) ms_level=1 N=10 DEW=15: 100%|█████████████████████████████████████████████████████████████████████████████████████████████████████████████████████████████████████████████████▉| 1559.7700000000707/1560 [02:16<00:00, 11.39it/s]\n"
     ]
    },
    {
     "name": "stdout",
     "output_type": "stream",
     "text": [
      "1000.0 0.1\n"
     ]
    },
    {
     "name": "stderr",
     "output_type": "stream",
     "text": [
      "(1560.460s) ms_level=1 N=10 DEW=15: 100%|█████████████████████████████████████████████████████████████████████████████████████████████████████████████████████████████████████████████████▉| 1559.7500000000707/1560 [02:17<00:00, 11.37it/s]\n"
     ]
    },
    {
     "name": "stdout",
     "output_type": "stream",
     "text": [
      "1000.0 0.5\n"
     ]
    },
    {
     "name": "stderr",
     "output_type": "stream",
     "text": [
      "(1560.570s) ms_level=1 N=10 DEW=15: 100%|█████████████████████████████████████████████████████████████████████████████████████████████████████████████████████████████████████████████████▉| 1559.8600000000708/1560 [02:15<00:00, 11.48it/s]\n"
     ]
    },
    {
     "name": "stdout",
     "output_type": "stream",
     "text": [
      "1000.0 1\n"
     ]
    },
    {
     "name": "stderr",
     "output_type": "stream",
     "text": [
      "(1560.150s) ms_level=1 N=10 DEW=15: 100%|█████████████████████████████████████████████████████████████████████████████████████████████████████████████████████████████████████████████████▉| 1559.4400000000705/1560 [02:17<00:00, 11.37it/s]\n"
     ]
    },
    {
     "name": "stdout",
     "output_type": "stream",
     "text": [
      "1000.0 5\n"
     ]
    },
    {
     "name": "stderr",
     "output_type": "stream",
     "text": [
      "(1560.590s) ms_level=1 N=10 DEW=15: 100%|██████████████████████████████████████████████████████████████████████████████████████████████████████████████████████████████████████████████████▉| 1559.880000000071/1560 [02:15<00:00, 11.48it/s]\n"
     ]
    },
    {
     "name": "stdout",
     "output_type": "stream",
     "text": [
      "1000000.0 0\n"
     ]
    },
    {
     "name": "stderr",
     "output_type": "stream",
     "text": [
      "(1560.480s) ms_level=1 N=10 DEW=15: 100%|█████████████████████████████████████████████████████████████████████████████████████████████████████████████████████████████████████████████████▉| 1559.7700000000707/1560 [02:16<00:00, 11.41it/s]\n"
     ]
    },
    {
     "name": "stdout",
     "output_type": "stream",
     "text": [
      "1000000.0 0.1\n"
     ]
    },
    {
     "name": "stderr",
     "output_type": "stream",
     "text": [
      "(1560.480s) ms_level=1 N=10 DEW=15: 100%|█████████████████████████████████████████████████████████████████████████████████████████████████████████████████████████████████████████████████▉| 1559.7700000000707/1560 [02:16<00:00, 11.40it/s]\n"
     ]
    },
    {
     "name": "stdout",
     "output_type": "stream",
     "text": [
      "1000000.0 0.5\n"
     ]
    },
    {
     "name": "stderr",
     "output_type": "stream",
     "text": [
      "(1560.480s) ms_level=1 N=10 DEW=15: 100%|█████████████████████████████████████████████████████████████████████████████████████████████████████████████████████████████████████████████████▉| 1559.7700000000707/1560 [02:17<00:00, 11.37it/s]\n"
     ]
    },
    {
     "name": "stdout",
     "output_type": "stream",
     "text": [
      "1000000.0 1\n"
     ]
    },
    {
     "name": "stderr",
     "output_type": "stream",
     "text": [
      "(1560.460s) ms_level=1 N=10 DEW=15: 100%|█████████████████████████████████████████████████████████████████████████████████████████████████████████████████████████████████████████████████▉| 1559.7500000000705/1560 [02:22<00:00, 10.98it/s]\n"
     ]
    },
    {
     "name": "stdout",
     "output_type": "stream",
     "text": [
      "1000000.0 5\n"
     ]
    },
    {
     "name": "stderr",
     "output_type": "stream",
     "text": [
      "(1560.540s) ms_level=1 N=10 DEW=15: 100%|█████████████████████████████████████████████████████████████████████████████████████████████████████████████████████████████████████████████████▉| 1559.8300000000704/1560 [02:15<00:00, 11.49it/s]\n"
     ]
    }
   ],
   "source": [
    "for iif in iif_values:\n",
    "    for dp in dp_values:\n",
    "        print(iif,dp)\n",
    "        intensity_increase_factor = iif # fragment ROI again if intensity increases 10 fold\n",
    "        drop_perc = dp/100\n",
    "\n",
    "        controller = TopN_SmartRoiController(ionisation_mode, isolation_width, mz_tol, min_ms1_intensity,\n",
    "                                             min_roi_intensity, min_roi_length, N = N, rt_tol = rt_tol, \n",
    "                                             min_roi_length_for_fragmentation = min_roi_length_for_fragmentation,\n",
    "                                             reset_length_seconds = reset_length_seconds,\n",
    "                                             intensity_increase_factor = intensity_increase_factor,\n",
    "                                             drop_perc = drop_perc)\n",
    "\n",
    "        mass_spec = IndependentMassSpectrometer(ionisation_mode, TopN_QCA_dataset,\n",
    "                                                ps,\n",
    "                                                add_noise=True,\n",
    "                                               scan_duration_dict=roi_time_dict)\n",
    "\n",
    "        env = Environment(mass_spec, controller, min_rt, max_rt, progress_bar=True)\n",
    "        env.run()\n",
    "        \n",
    "        out_name = 'SmartROI_{}_{}.mzml'.format(iif,dp)\n",
    "        env.write_mzML(output_folder, out_name)"
   ]
  },
  {
   "cell_type": "code",
   "execution_count": 25,
   "metadata": {},
   "outputs": [
    {
     "name": "stdout",
     "output_type": "stream",
     "text": [
      "2 0\n",
      "Loaded 4182 scans\n",
      "2 0.1\n",
      "Loaded 4196 scans\n",
      "2 0.5\n",
      "Loaded 4188 scans\n",
      "2 1\n",
      "Loaded 4203 scans\n",
      "2 5\n",
      "Loaded 4250 scans\n",
      "3 0\n",
      "Loaded 3823 scans\n",
      "3 0.1\n",
      "Loaded 3811 scans\n",
      "3 0.5\n",
      "Loaded 3822 scans\n",
      "3 1\n",
      "Loaded 3843 scans\n",
      "3 5\n",
      "Loaded 3915 scans\n",
      "5 0\n",
      "Loaded 3694 scans\n",
      "5 0.1\n",
      "Loaded 3698 scans\n",
      "5 0.5\n",
      "Loaded 3698 scans\n",
      "5 1\n",
      "Loaded 3716 scans\n",
      "5 5\n",
      "Loaded 3766 scans\n",
      "10 0\n",
      "Loaded 3603 scans\n",
      "10 0.1\n",
      "Loaded 3608 scans\n",
      "10 0.5\n",
      "Loaded 3619 scans\n",
      "10 1\n",
      "Loaded 3627 scans\n",
      "10 5\n",
      "Loaded 3688 scans\n",
      "1000.0 0\n",
      "Loaded 3242 scans\n",
      "1000.0 0.1\n",
      "Loaded 3247 scans\n",
      "1000.0 0.5\n",
      "Loaded 3248 scans\n",
      "1000.0 1\n",
      "Loaded 3248 scans\n",
      "1000.0 5\n",
      "Loaded 3300 scans\n",
      "1000000.0 0\n",
      "Loaded 3245 scans\n",
      "1000000.0 0.1\n",
      "Loaded 3241 scans\n",
      "1000000.0 0.5\n",
      "Loaded 3247 scans\n",
      "1000000.0 1\n",
      "Loaded 3250 scans\n",
      "1000000.0 5\n",
      "Loaded 3283 scans\n"
     ]
    }
   ],
   "source": [
    "counts_exp1 = np.zeros((len(iif_values),len(dp_values)))\n",
    "for i,iif in enumerate(iif_values):\n",
    "    for j,dp in enumerate(dp_values):\n",
    "        print(iif,dp)\n",
    "        fname = 'SmartROI_{}_{}.mzml'.format(iif,dp)\n",
    "        mz_file = MZMLFile(os.path.join(output_folder,fname))\n",
    "        scans2boxes,boxes2scans = map_boxes_to_scans(mz_file,qca_boxes,half_isolation_window = 0)\n",
    "        counts_exp1[i,j] = len(boxes2scans)"
   ]
  },
  {
   "cell_type": "code",
   "execution_count": 26,
   "metadata": {},
   "outputs": [
    {
     "data": {
      "text/plain": [
       "<matplotlib.colorbar.Colorbar at 0x18d30a115c0>"
      ]
     },
     "execution_count": 26,
     "metadata": {},
     "output_type": "execute_result"
    },
    {
     "data": {
      "image/png": "[encoded data removed]",
      "text/plain": [
       "<Figure size 432x288 with 2 Axes>"
      ]
     },
     "metadata": {
      "needs_background": "light"
     },
     "output_type": "display_data"
    }
   ],
   "source": [
    "plt.imshow(counts_exp1,aspect='auto')\n",
    "plt.yticks(range(len(iif_values)),iif_values)\n",
    "plt.xticks(range(len(dp_values)),dp_values)\n",
    "plt.colorbar()"
   ]
  },
  {
   "cell_type": "markdown",
   "metadata": {},
   "source": [
    "## Experiment 2 - QCA, WeightedDEW"
   ]
  },
  {
   "cell_type": "code",
   "execution_count": null,
   "metadata": {},
   "outputs": [],
   "source": [
    "output_folder = Path(os.getcwd(), 'experiment_2')"
   ]
  },
  {
   "cell_type": "code",
   "execution_count": null,
   "metadata": {},
   "outputs": [],
   "source": [
    "for t0 in t0_vals:\n",
    "    for r in rt_tol_vals:\n",
    "        if t0 > r:\n",
    "            # impossible combination\n",
    "            continue\n",
    "        print(t0,r)\n",
    "        out_name = 'WeightedDEW_{}_{}.mzml'.format(t0,r)\n",
    "\n",
    "        if os.path.isfile(os.path.join(test_path,out_name)):\n",
    "            print(\"Already done\")\n",
    "            continue\n",
    "        \n",
    "        controller = ExcludingTopNController(ionisation_mode, N, isolation_width, mz_tol, \n",
    "                                            r,min_ms1_intensity, exclusion_t_0 = t0, log_intensity = True)\n",
    "\n",
    "        mass_spec = IndependentMassSpectrometer(ionisation_mode, TopN_QCA_dataset,\n",
    "                                                ps_frag_QCB,\n",
    "                                                add_noise=True,\n",
    "                                               scan_duration_dict=topn_time_dict)\n",
    "\n",
    "        env = Environment(mass_spec, controller, min_rt, max_rt, progress_bar=True)\n",
    "        env.run()\n",
    "        \n",
    "        env.write_mzML(output_folder, out_name)"
   ]
  },
  {
   "cell_type": "code",
   "execution_count": null,
   "metadata": {},
   "outputs": [],
   "source": [
    "counts_exp2 = np.zeros((len(t0_vals),len(rt_tol_vals)))\n",
    "for i,t0 in enumerate(t0_vals):\n",
    "    for j,r in enumerate(rt_tol_vals):\n",
    "        print(t0,r)\n",
    "        if t0 > r:\n",
    "            # impossible combination\n",
    "            counts_exp2[i,j] = np.nan # fix for colour on boxplot\n",
    "            continue\n",
    "        fname = 'exlude_{}_{}.mzml'.format(t0,r)\n",
    "        mz_file = MZMLFile(os.path.join(test_path,fname))\n",
    "        scans2boxes,boxes2scans = map_boxes_to_scans(mz_file,qca_boxes,half_isolation_window = 0)\n",
    "        counts_exp2[i,j] = len(boxes2scans)"
   ]
  },
  {
   "cell_type": "code",
   "execution_count": null,
   "metadata": {},
   "outputs": [],
   "source": [
    "plt.imshow(counts_exp2,aspect='auto')\n",
    "plt.yticks(range(len(iif_values)),iif_values)\n",
    "plt.xticks(range(len(dp_values)),dp_values)\n",
    "plt.colorbar()"
   ]
  },
  {
   "cell_type": "markdown",
   "metadata": {},
   "source": [
    "## Experiment 3 - QCB, SmartROI"
   ]
  },
  {
   "cell_type": "code",
   "execution_count": 17,
   "metadata": {},
   "outputs": [],
   "source": [
    "output_folder = Path(os.getcwd(), 'experiment_3')"
   ]
  },
  {
   "cell_type": "code",
   "execution_count": null,
   "metadata": {},
   "outputs": [
    {
     "name": "stdout",
     "output_type": "stream",
     "text": [
      "2 0\n"
     ]
    },
    {
     "name": "stderr",
     "output_type": "stream",
     "text": [
      "(1560.430s) ms_level=1 N=10 DEW=15: 100%|█████████████████████████████████████████████████████████████████████████████████████████████████████████████████████████████████████████████████▉| 1559.7200000001217/1560 [02:18<00:00, 11.23it/s]\n"
     ]
    },
    {
     "name": "stdout",
     "output_type": "stream",
     "text": [
      "2 0.1\n"
     ]
    },
    {
     "name": "stderr",
     "output_type": "stream",
     "text": [
      "(1560.700s) ms_level=1 N=10 DEW=15: 100%|██████████████████████████████████████████████████████████████████████████████████████████████████████████████████████████████████████████████████▉| 1559.990000000122/1560 [02:20<00:00, 11.14it/s]\n"
     ]
    },
    {
     "name": "stdout",
     "output_type": "stream",
     "text": [
      "2 0.5\n"
     ]
    },
    {
     "name": "stderr",
     "output_type": "stream",
     "text": [
      "(1560.590s) ms_level=1 N=10 DEW=15: 100%|█████████████████████████████████████████████████████████████████████████████████████████████████████████████████████████████████████████████████▉| 1559.8800000001218/1560 [02:14<00:00, 11.60it/s]\n"
     ]
    },
    {
     "name": "stdout",
     "output_type": "stream",
     "text": [
      "2 1\n"
     ]
    },
    {
     "name": "stderr",
     "output_type": "stream",
     "text": [
      "(1560.640s) ms_level=1 N=10 DEW=15: 100%|█████████████████████████████████████████████████████████████████████████████████████████████████████████████████████████████████████████████████▉| 1559.9300000001226/1560 [02:35<00:00, 10.04it/s]\n"
     ]
    },
    {
     "name": "stdout",
     "output_type": "stream",
     "text": [
      "2 5\n"
     ]
    },
    {
     "name": "stderr",
     "output_type": "stream",
     "text": [
      "(1560.640s) ms_level=1 N=10 DEW=15: 100%|██████████████████████████████████████████████████████████████████████████████████████████████████████████████████████████████████████████████████▉| 1559.930000000125/1560 [02:20<00:00, 11.09it/s]\n"
     ]
    },
    {
     "name": "stdout",
     "output_type": "stream",
     "text": [
      "3 0\n"
     ]
    },
    {
     "name": "stderr",
     "output_type": "stream",
     "text": [
      "(1560.470s) ms_level=1 N=10 DEW=15: 100%|█████████████████████████████████████████████████████████████████████████████████████████████████████████████████████████████████████████████████▉| 1559.7600000001098/1560 [02:31<00:00, 10.27it/s]\n"
     ]
    },
    {
     "name": "stdout",
     "output_type": "stream",
     "text": [
      "3 0.1\n"
     ]
    },
    {
     "name": "stderr",
     "output_type": "stream",
     "text": [
      "(1560.470s) ms_level=1 N=10 DEW=15: 100%|█████████████████████████████████████████████████████████████████████████████████████████████████████████████████████████████████████████████████▉| 1559.7600000001098/1560 [02:13<00:00, 11.65it/s]\n"
     ]
    },
    {
     "name": "stdout",
     "output_type": "stream",
     "text": [
      "3 0.5\n"
     ]
    },
    {
     "name": "stderr",
     "output_type": "stream",
     "text": [
      "(1560.310s) ms_level=1 N=10 DEW=15: 100%|█████████████████████████████████████████████████████████████████████████████████████████████████████████████████████████████████████████████████▉| 1559.6000000001093/1560 [02:21<00:00, 11.05it/s]\n"
     ]
    },
    {
     "name": "stdout",
     "output_type": "stream",
     "text": [
      "3 1\n"
     ]
    },
    {
     "name": "stderr",
     "output_type": "stream",
     "text": [
      "(1560.480s) ms_level=1 N=10 DEW=15: 100%|█████████████████████████████████████████████████████████████████████████████████████████████████████████████████████████████████████████████████▉| 1559.7700000001107/1560 [02:18<00:00, 11.28it/s]\n"
     ]
    },
    {
     "name": "stdout",
     "output_type": "stream",
     "text": [
      "3 5\n"
     ]
    },
    {
     "name": "stderr",
     "output_type": "stream",
     "text": [
      "(1560.500s) ms_level=1 N=10 DEW=15: 100%|█████████████████████████████████████████████████████████████████████████████████████████████████████████████████████████████████████████████████▉| 1559.7900000001125/1560 [02:14<00:00, 11.60it/s]\n"
     ]
    },
    {
     "name": "stdout",
     "output_type": "stream",
     "text": [
      "5 0\n"
     ]
    },
    {
     "name": "stderr",
     "output_type": "stream",
     "text": [
      "(93.100s) ms_level=1 N=10 DEW=15:   6%|████████▉                                                                                                                                            | 93.09999999999985/1560 [00:07<02:00, 12.18it/s]"
     ]
    }
   ],
   "source": [
    "for iif in iif_values:\n",
    "    for dp in dp_values:\n",
    "        print(iif,dp)\n",
    "        intensity_increase_factor = iif # fragment ROI again if intensity increases 10 fold\n",
    "        drop_perc = dp/100\n",
    "\n",
    "\n",
    "        # ROI can also be fragmented again if intensity falls to <1% of the max *since* last fragmentation\n",
    "        from vimms.Controller import TopN_SmartRoiController\n",
    "        controller = TopN_SmartRoiController(ionisation_mode, isolation_width, mz_tol, min_ms1_intensity,\n",
    "                                             min_roi_intensity, min_roi_length, N = N, rt_tol = rt_tol, \n",
    "                                             min_roi_length_for_fragmentation = min_roi_length_for_fragmentation,\n",
    "                                             reset_length_seconds = reset_length_seconds,\n",
    "                                             intensity_increase_factor = intensity_increase_factor,\n",
    "                                             drop_perc = drop_perc)\n",
    "\n",
    "        mass_spec = IndependentMassSpectrometer(ionisation_mode, TopN_QCB_dataset,\n",
    "                                                ps,\n",
    "                                                add_noise=True,\n",
    "                                               scan_duration_dict=roi_time_dict)\n",
    "\n",
    "        env = Environment(mass_spec, controller, min_rt, max_rt, progress_bar=True)\n",
    "        env.run()\n",
    "        \n",
    "        out_name = 'SmartROI_{}_{}.mzml'.format(iif,dp)\n",
    "        env.write_mzML(output_folder, out_name)"
   ]
  },
  {
   "cell_type": "code",
   "execution_count": null,
   "metadata": {},
   "outputs": [],
   "source": [
    "counts_exp3 = np.zeros((len(iif_values),len(dp_values)))\n",
    "for i,iif in enumerate(iif_values):\n",
    "    for j,dp in enumerate(dp_values):\n",
    "        print(iif,dp)\n",
    "        fname = 'SmartROI_{}_{}.mzml'.format(iif,dp)\n",
    "        mz_file = MZMLFile(os.path.join(output_folder,fname))\n",
    "        scans2boxes,boxes2scans = map_boxes_to_scans(mz_file,qcb_boxes,half_isolation_window = 0)\n",
    "        counts_exp3[i,j] = len(boxes2scans)"
   ]
  },
  {
   "cell_type": "code",
   "execution_count": null,
   "metadata": {},
   "outputs": [],
   "source": [
    "plt.imshow(counts_exp3,aspect='auto')\n",
    "plt.yticks(range(len(iif_values)),iif_values)\n",
    "plt.xticks(range(len(dp_values)),dp_values)\n",
    "plt.colorbar()"
   ]
  },
  {
   "cell_type": "markdown",
   "metadata": {},
   "source": [
    "## Experiment 4 - QCB, WeightedDEW"
   ]
  },
  {
   "cell_type": "code",
   "execution_count": null,
   "metadata": {},
   "outputs": [],
   "source": [
    "output_folder = Path(os.getcwd(), 'experiment_4')"
   ]
  },
  {
   "cell_type": "code",
   "execution_count": null,
   "metadata": {},
   "outputs": [],
   "source": [
    "for t0 in t0_vals:\n",
    "    for r in rt_tol_vals:\n",
    "        if t0 > r:\n",
    "            # impossible combination\n",
    "            continue\n",
    "        print(t0,r)\n",
    "        out_name = 'WeightedDEW_{}_{}.mzml'.format(t0,r)\n",
    "\n",
    "        if os.path.isfile(os.path.join(test_path,out_name)):\n",
    "            print(\"Already done\")\n",
    "            continue\n",
    "        \n",
    "        controller = ExcludingTopNController(ionisation_mode, N, isolation_width, mz_tol, \n",
    "                                            r,min_ms1_intensity, exclusion_t_0 = t0, log_intensity = True)\n",
    "\n",
    "        mass_spec = IndependentMassSpectrometer(ionisation_mode, TopN_QCB_dataset,\n",
    "                                                ps_frag_QCB,\n",
    "                                                add_noise=True,\n",
    "                                               scan_duration_dict=topn_time_dict)\n",
    "\n",
    "        env = Environment(mass_spec, controller, min_rt, max_rt, progress_bar=True)\n",
    "        env.run()\n",
    "        \n",
    "        env.write_mzML(output_folder, out_name)"
   ]
  },
  {
   "cell_type": "code",
   "execution_count": null,
   "metadata": {},
   "outputs": [],
   "source": [
    "counts_exp4 = np.zeros((len(t0_vals),len(rt_tol_vals)))\n",
    "for i,t0 in enumerate(t0_vals):\n",
    "    for j,r in enumerate(rt_tol_vals):\n",
    "        print(t0,r)\n",
    "        if t0 > r:\n",
    "            # impossible combination\n",
    "            counts_exp4[i,j] = np.nan # fix for colour on boxplot\n",
    "            continue\n",
    "        fname = 'exlude_{}_{}.mzml'.format(t0,r)\n",
    "        mz_file = MZMLFile(os.path.join(test_path,fname))\n",
    "        scans2boxes,boxes2scans = map_boxes_to_scans(mz_file,qcb_boxes,half_isolation_window = 0)\n",
    "        counts_exp4[i,j] = len(boxes2scans)"
   ]
  },
  {
   "cell_type": "code",
   "execution_count": null,
   "metadata": {},
   "outputs": [],
   "source": [
    "plt.imshow(counts_exp4,aspect='auto')\n",
    "plt.yticks(range(len(iif_values)),iif_values)\n",
    "plt.xticks(range(len(dp_values)),dp_values)\n",
    "plt.colorbar()"
   ]
  },
  {
   "cell_type": "markdown",
   "metadata": {},
   "source": [
    "## Reload data and produce final figure (not to be included in example)"
   ]
  },
  {
   "cell_type": "code",
   "execution_count": null,
   "metadata": {},
   "outputs": [],
   "source": []
  }
 ],
 "metadata": {
  "kernelspec": {
   "display_name": "Python 3",
   "language": "python",
   "name": "python3"
  },
  "language_info": {
   "codemirror_mode": {
    "name": "ipython",
    "version": 3
   },
   "file_extension": ".py",
   "mimetype": "text/x-python",
   "name": "python",
   "nbconvert_exporter": "python",
   "pygments_lexer": "ipython3",
   "version": "3.7.3"
  }
 },
 "nbformat": 4,
 "nbformat_minor": 4
}
