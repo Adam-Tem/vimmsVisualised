{
 "cells": [
  {
   "cell_type": "markdown",
   "metadata": {},
   "source": [
    "# 1. Main DDA vs DIA results"
   ]
  },
  {
   "cell_type": "markdown",
   "metadata": {},
   "source": [
    "This notebook generates experimental data for the main DDA vs DIA results."
   ]
  },
  {
   "cell_type": "code",
   "execution_count": 1,
   "metadata": {},
   "outputs": [],
   "source": [
    "%matplotlib inline\n",
    "%load_ext autoreload\n",
    "%autoreload 2"
   ]
  },
  {
   "cell_type": "markdown",
   "metadata": {
    "tags": []
   },
   "source": [
    "## Import stuff that we need"
   ]
  },
  {
   "cell_type": "code",
   "execution_count": 2,
   "metadata": {},
   "outputs": [],
   "source": [
    "import pandas as pd"
   ]
  },
  {
   "cell_type": "code",
   "execution_count": 3,
   "metadata": {},
   "outputs": [],
   "source": [
    "import sys\n",
    "import os\n",
    "from collections import OrderedDict"
   ]
  },
  {
   "cell_type": "code",
   "execution_count": 4,
   "metadata": {},
   "outputs": [
    {
     "data": {
      "text/plain": [
       "('/Users/Orbitrap Fusion/vimms', '/Users/Orbitrap Fusion/vimms-fusion')"
      ]
     },
     "execution_count": 4,
     "metadata": {},
     "output_type": "execute_result"
    }
   ],
   "source": [
    "sys.path.append('.')\n",
    "from common import get_user_and_vimms_folder\n",
    "\n",
    "use_instrument = True\n",
    "user, vimms_folder, vimms_fusion_folder = get_user_and_vimms_folder(use_instrument)\n",
    "vimms_folder, vimms_fusion_folder"
   ]
  },
  {
   "cell_type": "code",
   "execution_count": 5,
   "metadata": {},
   "outputs": [],
   "source": [
    "sys.path.append(vimms_folder)\n",
    "sys.path.append(vimms_fusion_folder)\n",
    "ref_dir = os.path.join(vimms_fusion_folder, \"Interface\", \"FusionLibrary\", \"bin\", \"Debug\", \"netstandard2.0\")\n",
    "if ref_dir not in sys.path:\n",
    "    sys.path.append(ref_dir)"
   ]
  },
  {
   "cell_type": "code",
   "execution_count": 6,
   "metadata": {},
   "outputs": [
    {
     "data": {
      "text/plain": [
       "'/Users/Orbitrap Fusion/vimms-fusion\\\\Interface\\\\FusionLibrary\\\\bin\\\\Debug\\\\netstandard2.0'"
      ]
     },
     "execution_count": 6,
     "metadata": {},
     "output_type": "execute_result"
    }
   ],
   "source": [
    "ref_dir"
   ]
  },
  {
   "cell_type": "code",
   "execution_count": 7,
   "metadata": {},
   "outputs": [
    {
     "name": "stdout",
     "output_type": "stream",
     "text": [
      "warning in stationary: failed to import cython module: falling back to numpy\n",
      "warning in coregionalize: failed to import cython module: falling back to numpy\n",
      "warning in choleskies: failed to import cython module: falling back to numpy\n"
     ]
    }
   ],
   "source": [
    "from experiment import get_shared_experiment_params\n",
    "from vimms.Common import POSITIVE, set_log_level_warning\n",
    "from vimms.Common import CONTROLLER_FULLSCAN, CONTROLLER_TOPN, CONTROLLER_TOPN_EXCLUSION, \\\n",
    "    CONTROLLER_SWATH, CONTROLLER_AIF\n",
    "from vimms.scripts.multi_sample_experiment import extract_chemicals, run_batch, generate_sequence_df, write_sequence_csv"
   ]
  },
  {
   "cell_type": "markdown",
   "metadata": {},
   "source": [
    "## Experiment parameters"
   ]
  },
  {
   "cell_type": "markdown",
   "metadata": {},
   "source": [
    "Specify the sample names, the initial runs and which controller to run.\n",
    "\n",
    "`controller_repeat` is a dictionary that tells us which sample to run under which controller, and the number of replicates to run\n",
    "- key = controller name\n",
    "- value = (sample_names, repeat), where\n",
    "          sample_names is a list of samples, e.g. ['beer1', 'beer2'], \n",
    "          repeat is the number of replicates"
   ]
  },
  {
   "cell_type": "code",
   "execution_count": 8,
   "metadata": {},
   "outputs": [],
   "source": [
    "# ionisation_mode = POSITIVE\n",
    "# initial_runs = ['blank1', 'blank2', 'CMW_solvent_blank', 'QCA', 'QCB']\n",
    "# all_samples = ['beer1', 'beer2', 'beer3', 'beer4', 'beer5', 'beer6']"
   ]
  },
  {
   "cell_type": "code",
   "execution_count": 9,
   "metadata": {},
   "outputs": [],
   "source": [
    "# controller_repeat = OrderedDict({\n",
    "#     CONTROLLER_FULLSCAN              : (all_samples, 1),\n",
    "#     CONTROLLER_TOPN                  : (all_samples, 1),\n",
    "#     CONTROLLER_TOPN_EXCLUSION        : (all_samples, 1),\n",
    "#     CONTROLLER_SWATH                 : (all_samples, 1),\n",
    "#     CONTROLLER_AIF                   : (all_samples, 1)\n",
    "# })\n",
    "# controller_repeat"
   ]
  },
  {
   "cell_type": "code",
   "execution_count": 10,
   "metadata": {},
   "outputs": [],
   "source": [
    "ionisation_mode = POSITIVE\n",
    "initial_runs = []\n",
    "all_samples = ['beer1', 'beer2', 'beer3', 'beer4', 'beer5', 'beer6']"
   ]
  },
  {
   "cell_type": "code",
   "execution_count": 11,
   "metadata": {},
   "outputs": [
    {
     "data": {
      "text/plain": [
       "OrderedDict([('topN',\n",
       "              (['beer1', 'beer2', 'beer3', 'beer4', 'beer5', 'beer6'], 1)),\n",
       "             ('topN_exclusion',\n",
       "              (['beer1', 'beer2', 'beer3', 'beer4', 'beer5', 'beer6'], 1)),\n",
       "             ('SWATH',\n",
       "              (['beer1', 'beer2', 'beer3', 'beer4', 'beer5', 'beer6'], 1)),\n",
       "             ('AIF',\n",
       "              (['beer1', 'beer2', 'beer3', 'beer4', 'beer5', 'beer6'], 1))])"
      ]
     },
     "execution_count": 11,
     "metadata": {},
     "output_type": "execute_result"
    }
   ],
   "source": [
    "controller_repeat = OrderedDict({\n",
    "    CONTROLLER_TOPN                  : (all_samples, 1),\n",
    "    CONTROLLER_TOPN_EXCLUSION        : (all_samples, 1),\n",
    "    CONTROLLER_SWATH                 : (all_samples, 1),\n",
    "    CONTROLLER_AIF                   : (all_samples, 1)\n",
    "})\n",
    "controller_repeat"
   ]
  },
  {
   "cell_type": "code",
   "execution_count": 12,
   "metadata": {},
   "outputs": [
    {
     "data": {
      "text/plain": [
       "{'topN_params': {'ionisation_mode': 'Positive',\n",
       "  'N': 10,\n",
       "  'isolation_width': 0.7,\n",
       "  'min_ms1_intensity': 5000,\n",
       "  'mz_tol': 10,\n",
       "  'rt_tol': 15},\n",
       " 'AIF_params': {'ms1_source_cid_energy': 25},\n",
       " 'SWATH_params': {'min_mz': 70,\n",
       "  'max_mz': 1000,\n",
       "  'width': 100,\n",
       "  'scan_overlap': 0},\n",
       " 'non_overlap_scoring': {'use_smartroi_exclusion': False,\n",
       "  'use_weighteddew_exclusion': False},\n",
       " 'non_overlap_params': {'roi_params': {'mz_tol': 10, 'min_roi_length': 3, 'min_roi_intensity': 0, 'at_least_one_point_above': 0, 'start_rt': 0, 'stop_rt': 100000.0, 'max_gaps_allowed': 0},\n",
       "  'min_roi_length_for_fragmentation': 3},\n",
       " 'smartroi_params': {'smartroi_params': {'initial_length_seconds': 5, 'reset_length_seconds': 1000000.0, 'intensity_increase_factor': 10, 'drop_perc': 0.001, 'dew': 15}},\n",
       " 'weighteddew_params': {'rt_tol': 120,\n",
       "  'exclusion_method': 'exclusion_weighted_dew',\n",
       "  'exclusion_t_0': 15},\n",
       " 'grid_params': {'min_measure_rt': 0,\n",
       "  'max_measure_rt': 1440,\n",
       "  'rt_box_size': 50,\n",
       "  'mz_box_size': 1},\n",
       " 'scan_duration_dict': {1: 0.59, 2: 0.19}}"
      ]
     },
     "execution_count": 12,
     "metadata": {},
     "output_type": "execute_result"
    }
   ],
   "source": [
    "experiment_params = get_shared_experiment_params()\n",
    "experiment_params"
   ]
  },
  {
   "cell_type": "code",
   "execution_count": 13,
   "metadata": {},
   "outputs": [],
   "source": [
    "out_dir = 'results_1'"
   ]
  },
  {
   "cell_type": "code",
   "execution_count": 14,
   "metadata": {},
   "outputs": [
    {
     "data": {
      "text/plain": [
       "1"
      ]
     },
     "execution_count": 14,
     "metadata": {},
     "output_type": "execute_result"
    }
   ],
   "source": [
    "set_log_level_warning()"
   ]
  },
  {
   "cell_type": "markdown",
   "metadata": {},
   "source": [
    "## Simulated runs"
   ]
  },
  {
   "cell_type": "code",
   "execution_count": null,
   "metadata": {},
   "outputs": [],
   "source": [
    "if not use_instrument: # for simulated data\n",
    "    seed_file = '/Users/%s/University of Glasgow/Vinny Davies - CLDS Metabolomics Project/Experimental_Results/20201208_TopN_vs_ROI_replicates/results/seed/TopN_QCB_0.mzML' % user\n",
    "    dataset = extract_chemicals(seed_file, ionisation_mode)\n",
    "    print(len(dataset))"
   ]
  },
  {
   "cell_type": "code",
   "execution_count": null,
   "metadata": {},
   "outputs": [],
   "source": [
    "if not use_instrument:\n",
    "    max_time = 60\n",
    "    use_column = False\n",
    "    pbar = False\n",
    "    run_batch(initial_runs, controller_repeat, experiment_params, all_samples, \n",
    "        pbar, max_time, ionisation_mode, use_instrument, use_column, \n",
    "        ref_dir, dataset, out_dir)"
   ]
  },
  {
   "cell_type": "markdown",
   "metadata": {},
   "source": [
    "## Background runs on instrument"
   ]
  },
  {
   "cell_type": "markdown",
   "metadata": {},
   "source": [
    "Test on the background signals"
   ]
  },
  {
   "cell_type": "code",
   "execution_count": null,
   "metadata": {},
   "outputs": [],
   "source": [
    "test_all_samples = ['beer1', 'beer2', 'beer3']\n",
    "test_controller_repeat = OrderedDict({\n",
    "    CONTROLLER_FULLSCAN              : (test_all_samples, 1),\n",
    "    CONTROLLER_TOPN                  : (test_all_samples, 1),\n",
    "    CONTROLLER_TOPN_EXCLUSION        : (test_all_samples, 1),\n",
    "    CONTROLLER_SWATH                 : (test_all_samples, 1),\n",
    "    CONTROLLER_AIF                   : (test_all_samples, 1)\n",
    "})\n",
    "test_all_samples, test_controller_repeat"
   ]
  },
  {
   "cell_type": "code",
   "execution_count": null,
   "metadata": {},
   "outputs": [],
   "source": [
    "if use_instrument:\n",
    "    max_time = 60\n",
    "    use_column = False\n",
    "    pbar = False\n",
    "    dataset = None\n",
    "    run_batch(initial_runs, test_controller_repeat, experiment_params, test_all_samples, \n",
    "        pbar, max_time, ionisation_mode, use_instrument, use_column, \n",
    "        ref_dir, dataset, out_dir)"
   ]
  },
  {
   "cell_type": "markdown",
   "metadata": {},
   "source": [
    "## Run the actual injections"
   ]
  },
  {
   "cell_type": "markdown",
   "metadata": {},
   "source": [
    "Generate sequence file to load to Xcalibur"
   ]
  },
  {
   "cell_type": "code",
   "execution_count": null,
   "metadata": {},
   "outputs": [],
   "source": [
    "position = {\n",
    "    'blank1': 'RE5',\n",
    "    'blank2': 'RE5',\n",
    "    'CMW_solvent_blank': 'RE1',\n",
    "    'QCA': 'RA1',\n",
    "    'QCB': 'RA2',\n",
    "    'beer1': 'RB1',\n",
    "    'beer2': 'RB2',\n",
    "    'beer3': 'RB3',\n",
    "    'beer4': 'RB4',\n",
    "    'beer5': 'RB5',\n",
    "    'beer6': 'RB6'\n",
    "}\n",
    "raw_output_path = 'C:\\\\Xcalibur\\\\data\\\\Joe\\\\LC_Test\\\\05Jul2022'\n",
    "blank_method_path = 'C:\\\\Xcalibur\\\\methods\\\\SII\\\\pHILIC_new\\\\Blank_SII_pHILIC_26min'\n",
    "instrument_method_path = 'C:\\\\Xcalibur\\\\methods\\\\SII\\\\pHILIC_new\\\\Injection_SII_pHILIC_26min'"
   ]
  },
  {
   "cell_type": "code",
   "execution_count": null,
   "metadata": {},
   "outputs": [],
   "source": [
    "df = generate_sequence_df(initial_runs, controller_repeat, all_samples, position, raw_output_path, blank_method_path, instrument_method_path)\n",
    "df.head(10)"
   ]
  },
  {
   "cell_type": "code",
   "execution_count": null,
   "metadata": {},
   "outputs": [],
   "source": [
    "write_sequence_csv(df, 'sequence1.csv')"
   ]
  },
  {
   "cell_type": "markdown",
   "metadata": {},
   "source": [
    "Run controller on the instrument"
   ]
  },
  {
   "cell_type": "code",
   "execution_count": 15,
   "metadata": {},
   "outputs": [
    {
     "name": "stderr",
     "output_type": "stream",
     "text": [
      "2022-07-06 21:19:48.585 | WARNING  | vimms.scripts.multi_sample_experiment:run_controller:207 - topN_beer1_0.mzML\n",
      "2022-07-06 21:49:12.690 | WARNING  | vimms.scripts.multi_sample_experiment:run_controller:207 - topN_beer2_0.mzML\n",
      "2022-07-06 22:19:03.073 | WARNING  | vimms.scripts.multi_sample_experiment:run_controller:207 - topN_beer3_0.mzML\n",
      "2022-07-06 22:48:54.393 | WARNING  | vimms.scripts.multi_sample_experiment:run_controller:207 - topN_beer4_0.mzML\n",
      "2022-07-06 23:18:45.698 | WARNING  | vimms.scripts.multi_sample_experiment:run_controller:207 - topN_beer5_0.mzML\n",
      "2022-07-06 23:48:36.072 | WARNING  | vimms.scripts.multi_sample_experiment:run_controller:207 - topN_beer6_0.mzML\n",
      "2022-07-07 00:18:27.417 | WARNING  | vimms.scripts.multi_sample_experiment:make_agent:129 - TopNDEWAgent initialised\n",
      "2022-07-07 00:18:27.418 | WARNING  | vimms.scripts.multi_sample_experiment:run_controller:207 - topN_exclusion_beer1_0.mzML\n",
      "2022-07-07 00:48:18.751 | WARNING  | vimms.scripts.multi_sample_experiment:run_controller:207 - topN_exclusion_beer2_0.mzML\n",
      "2022-07-07 01:18:09.144 | WARNING  | vimms.scripts.multi_sample_experiment:run_controller:207 - topN_exclusion_beer3_0.mzML\n",
      "2022-07-07 01:48:00.601 | WARNING  | vimms.scripts.multi_sample_experiment:run_controller:207 - topN_exclusion_beer4_0.mzML\n",
      "2022-07-07 02:17:52.111 | WARNING  | vimms.scripts.multi_sample_experiment:run_controller:207 - topN_exclusion_beer5_0.mzML\n",
      "2022-07-07 02:47:40.691 | WARNING  | vimms.scripts.multi_sample_experiment:run_controller:207 - topN_exclusion_beer6_0.mzML\n",
      "2022-07-07 03:17:30.377 | WARNING  | vimms.scripts.multi_sample_experiment:run_controller:207 - SWATH_beer1_0.mzML\n",
      "2022-07-07 03:47:28.900 | WARNING  | vimms.scripts.multi_sample_experiment:run_controller:207 - SWATH_beer2_0.mzML\n",
      "2022-07-07 04:17:20.244 | WARNING  | vimms.scripts.multi_sample_experiment:run_controller:207 - SWATH_beer3_0.mzML\n",
      "2022-07-07 04:47:12.635 | WARNING  | vimms.scripts.multi_sample_experiment:run_controller:207 - SWATH_beer4_0.mzML\n",
      "2022-07-07 05:17:03.000 | WARNING  | vimms.scripts.multi_sample_experiment:run_controller:207 - SWATH_beer5_0.mzML\n",
      "2022-07-07 05:46:53.537 | WARNING  | vimms.scripts.multi_sample_experiment:run_controller:207 - SWATH_beer6_0.mzML\n",
      "2022-07-07 06:16:43.926 | WARNING  | vimms.scripts.multi_sample_experiment:run_controller:207 - AIF_beer1_0.mzML\n",
      "2022-07-07 06:46:21.312 | WARNING  | vimms.scripts.multi_sample_experiment:run_controller:207 - AIF_beer2_0.mzML\n",
      "2022-07-07 07:16:13.810 | WARNING  | vimms.scripts.multi_sample_experiment:run_controller:207 - AIF_beer3_0.mzML\n",
      "2022-07-07 07:46:04.284 | WARNING  | vimms.scripts.multi_sample_experiment:run_controller:207 - AIF_beer4_0.mzML\n",
      "2022-07-07 08:15:56.966 | WARNING  | vimms.scripts.multi_sample_experiment:run_controller:207 - AIF_beer5_0.mzML\n",
      "2022-07-07 08:45:48.452 | WARNING  | vimms.scripts.multi_sample_experiment:run_controller:207 - AIF_beer6_0.mzML\n"
     ]
    }
   ],
   "source": [
    "if use_instrument:\n",
    "    max_time = 1440\n",
    "    use_column = True\n",
    "    pbar = False\n",
    "    dataset = None    \n",
    "    run_batch(initial_runs, controller_repeat, experiment_params, all_samples, \n",
    "        pbar, max_time, ionisation_mode, use_instrument, use_column, \n",
    "        ref_dir, dataset, out_dir)"
   ]
  },
  {
   "cell_type": "code",
   "execution_count": null,
   "metadata": {},
   "outputs": [],
   "source": []
  }
 ],
 "metadata": {
  "kernelspec": {
   "display_name": "Python 3 (ipykernel)",
   "language": "python",
   "name": "python3"
  },
  "language_info": {
   "codemirror_mode": {
    "name": "ipython",
    "version": 3
   },
   "file_extension": ".py",
   "mimetype": "text/x-python",
   "name": "python",
   "nbconvert_exporter": "python",
   "pygments_lexer": "ipython3",
   "version": "3.7.6"
  }
 },
 "nbformat": 4,
 "nbformat_minor": 4
}
