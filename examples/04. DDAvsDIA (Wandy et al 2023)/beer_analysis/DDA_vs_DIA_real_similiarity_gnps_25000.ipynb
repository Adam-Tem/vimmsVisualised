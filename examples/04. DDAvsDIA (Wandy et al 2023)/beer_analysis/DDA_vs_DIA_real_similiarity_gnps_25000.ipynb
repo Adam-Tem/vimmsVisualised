{
 "cells": [
  {
   "cell_type": "code",
   "execution_count": 1,
   "metadata": {},
   "outputs": [],
   "source": [
    "%matplotlib inline\n",
    "%load_ext autoreload\n",
    "%autoreload 2"
   ]
  },
  {
   "cell_type": "code",
   "execution_count": 2,
   "metadata": {},
   "outputs": [],
   "source": [
    "import os\n",
    "import sys\n",
    "\n",
    "sys.path.append('/Users/joewandy/work/git/vimms')\n",
    "sys.path.append('/Users/joewa/work/git/vimms')\n",
    "sys.path.append('/home/joewandy/vimms')"
   ]
  },
  {
   "cell_type": "code",
   "execution_count": 3,
   "metadata": {},
   "outputs": [],
   "source": [
    "from os.path import exists\n",
    "import numpy as np\n",
    "import matplotlib.pyplot as plt\n",
    "import seaborn as sns\n",
    "\n",
    "import pandas as pd\n",
    "\n",
    "from vimms.Common import load_obj, save_obj, create_if_not_exist\n",
    "from mass_spec_utils.library_matching.spec_libraries import GNPSLibrary"
   ]
  },
  {
   "cell_type": "code",
   "execution_count": 4,
   "metadata": {},
   "outputs": [],
   "source": [
    "from vimms.scripts.DDA_vs_DIA import compare_spectra, spectral_distribution, pairwise_spectral_distribution, \\\n",
    "    spec_records_to_library, plot_matching_thresholds, \\\n",
    "    plot_score_distributions, plot_pairwise_similarity, venn_diagram"
   ]
  },
  {
   "cell_type": "code",
   "execution_count": 5,
   "metadata": {},
   "outputs": [],
   "source": [
    "min_intensity = 25000"
   ]
  },
  {
   "cell_type": "code",
   "execution_count": 6,
   "metadata": {
    "tags": []
   },
   "outputs": [],
   "source": [
    "clms_home = os.path.abspath('real_data_analysis_%d' % min_intensity)\n",
    "base_folder = os.path.join(clms_home, 'fragmentation_files')\n",
    "output_folder = os.path.abspath('DDA_vs_DIA_real_similiarity_gnps_%d' % min_intensity)\n",
    "create_if_not_exist(output_folder)"
   ]
  },
  {
   "cell_type": "code",
   "execution_count": 7,
   "metadata": {},
   "outputs": [],
   "source": [
    "matching_thresholds = np.array([0.0, 0.1, 0.2, 0.3, 0.4, 0.5, 0.6, 0.7, 0.8, 0.9, 1.0])\n",
    "# matching_thresholds = np.array([0.0, 0.2, 0.4, 0.6, 0.8, 1.0])\n",
    "\n",
    "matching_method = 'cosine'\n",
    "matching_ms1_tol = 1\n",
    "matching_ms2_tol = 0.05\n",
    "matching_min_match_peaks = 3\n",
    "\n",
    "gnps_file = os.path.join(clms_home, 'msp', 'GNPS-NIST14-MATCHES.mgf')\n",
    "\n",
    "methods = [\n",
    "    'topN',\n",
    "    'SWATH',\n",
    "    'AIF'\n",
    "]"
   ]
  },
  {
   "cell_type": "code",
   "execution_count": 8,
   "metadata": {},
   "outputs": [
    {
     "name": "stdout",
     "output_type": "stream",
     "text": [
      "5274\n"
     ]
    }
   ],
   "source": [
    "pickle_file = os.path.join(output_folder, 'gnps_library.p')\n",
    "if not exists(pickle_file):\n",
    "    chem_library = GNPSLibrary([gnps_file])\n",
    "    pos_spectra = [spec for spec in chem_library.sorted_record_list if spec.metadata['IONMODE'].lower() == 'positive']\n",
    "    pos_library = spec_records_to_library(pos_spectra)    \n",
    "    save_obj(pos_library, pickle_file)\n",
    "    \n",
    "chem_library = load_obj(pickle_file)\n",
    "print(len(chem_library.sorted_record_list))"
   ]
  },
  {
   "cell_type": "code",
   "execution_count": 9,
   "metadata": {},
   "outputs": [],
   "source": [
    "sns.set_context('poster')"
   ]
  },
  {
   "cell_type": "markdown",
   "metadata": {
    "tags": []
   },
   "source": [
    "# 1. Plot hit proportions across various thresholds"
   ]
  },
  {
   "cell_type": "code",
   "execution_count": 10,
   "metadata": {},
   "outputs": [],
   "source": [
    "pickle_file = os.path.join(output_folder, 'hit_proportions_df.p')\n",
    "if not exists(pickle_file):\n",
    "    hit_prop_df = compare_spectra(chem_library, base_folder, methods, matching_thresholds, \n",
    "                                  matching_method, matching_ms1_tol, \n",
    "                                  matching_ms2_tol, matching_min_match_peaks)\n",
    "    hit_prop_df.to_pickle(pickle_file)"
   ]
  },
  {
   "cell_type": "code",
   "execution_count": 11,
   "metadata": {},
   "outputs": [
    {
     "data": {
      "text/html": [
       "<div>\n",
       "<style scoped>\n",
       "    .dataframe tbody tr th:only-of-type {\n",
       "        vertical-align: middle;\n",
       "    }\n",
       "\n",
       "    .dataframe tbody tr th {\n",
       "        vertical-align: top;\n",
       "    }\n",
       "\n",
       "    .dataframe thead th {\n",
       "        text-align: right;\n",
       "    }\n",
       "</style>\n",
       "<table border=\"1\" class=\"dataframe\">\n",
       "  <thead>\n",
       "    <tr style=\"text-align: right;\">\n",
       "      <th></th>\n",
       "      <th>method</th>\n",
       "      <th>matching_threshold</th>\n",
       "      <th>no_annotated_compounds</th>\n",
       "      <th>no_annotated_peaks</th>\n",
       "      <th>prop_annotated_compounds</th>\n",
       "      <th>prop_annotated_peaks</th>\n",
       "      <th>annotated_peaks</th>\n",
       "    </tr>\n",
       "  </thead>\n",
       "  <tbody>\n",
       "    <tr>\n",
       "      <th>0</th>\n",
       "      <td>topN</td>\n",
       "      <td>0.0</td>\n",
       "      <td>3867</td>\n",
       "      <td>2392</td>\n",
       "      <td>0.733220</td>\n",
       "      <td>0.392775</td>\n",
       "      <td>{peak_439.291470, Unknown, 439.29147, fullscan...</td>\n",
       "    </tr>\n",
       "    <tr>\n",
       "      <th>1</th>\n",
       "      <td>topN</td>\n",
       "      <td>0.1</td>\n",
       "      <td>3160</td>\n",
       "      <td>1910</td>\n",
       "      <td>0.599166</td>\n",
       "      <td>0.313629</td>\n",
       "      <td>{peak_439.291470, Unknown, 439.29147, fullscan...</td>\n",
       "    </tr>\n",
       "    <tr>\n",
       "      <th>2</th>\n",
       "      <td>topN</td>\n",
       "      <td>0.2</td>\n",
       "      <td>2408</td>\n",
       "      <td>1470</td>\n",
       "      <td>0.456579</td>\n",
       "      <td>0.241379</td>\n",
       "      <td>{peak_439.291470, Unknown, 439.29147, fullscan...</td>\n",
       "    </tr>\n",
       "    <tr>\n",
       "      <th>3</th>\n",
       "      <td>topN</td>\n",
       "      <td>0.3</td>\n",
       "      <td>1755</td>\n",
       "      <td>1057</td>\n",
       "      <td>0.332765</td>\n",
       "      <td>0.173563</td>\n",
       "      <td>{peak_277.139400, Unknown, 277.1394, fullscan_...</td>\n",
       "    </tr>\n",
       "    <tr>\n",
       "      <th>4</th>\n",
       "      <td>topN</td>\n",
       "      <td>0.4</td>\n",
       "      <td>1265</td>\n",
       "      <td>724</td>\n",
       "      <td>0.239856</td>\n",
       "      <td>0.118883</td>\n",
       "      <td>{peak_277.139400, Unknown, 277.1394, fullscan_...</td>\n",
       "    </tr>\n",
       "  </tbody>\n",
       "</table>\n",
       "</div>"
      ],
      "text/plain": [
       "  method  matching_threshold  no_annotated_compounds  no_annotated_peaks  \\\n",
       "0   topN                 0.0                    3867                2392   \n",
       "1   topN                 0.1                    3160                1910   \n",
       "2   topN                 0.2                    2408                1470   \n",
       "3   topN                 0.3                    1755                1057   \n",
       "4   topN                 0.4                    1265                 724   \n",
       "\n",
       "   prop_annotated_compounds  prop_annotated_peaks  \\\n",
       "0                  0.733220              0.392775   \n",
       "1                  0.599166              0.313629   \n",
       "2                  0.456579              0.241379   \n",
       "3                  0.332765              0.173563   \n",
       "4                  0.239856              0.118883   \n",
       "\n",
       "                                     annotated_peaks  \n",
       "0  {peak_439.291470, Unknown, 439.29147, fullscan...  \n",
       "1  {peak_439.291470, Unknown, 439.29147, fullscan...  \n",
       "2  {peak_439.291470, Unknown, 439.29147, fullscan...  \n",
       "3  {peak_277.139400, Unknown, 277.1394, fullscan_...  \n",
       "4  {peak_277.139400, Unknown, 277.1394, fullscan_...  "
      ]
     },
     "execution_count": 11,
     "metadata": {},
     "output_type": "execute_result"
    }
   ],
   "source": [
    "hit_prop_df = pd.read_pickle(os.path.join(output_folder, 'hit_proportions_df.p'))\n",
    "hit_prop_df.head()"
   ]
  },
  {
   "cell_type": "code",
   "execution_count": 12,
   "metadata": {},
   "outputs": [
    {
     "data": {
      "text/plain": [
       "{'AIF': (0.12156862745098039, 0.4666666666666667, 0.7058823529411765),\n",
       " 'SWATH': (1.0, 0.4980392156862745, 0.054901960784313725),\n",
       " 'topN': (0.17254901960784313, 0.6274509803921569, 0.17254901960784313)}"
      ]
     },
     "execution_count": 12,
     "metadata": {},
     "output_type": "execute_result"
    },
    {
     "data": {
      "image/png": "[encoded data removed]",
      "text/plain": [
       "<Figure size 1080x360 with 1 Axes>"
      ]
     },
     "metadata": {
      "needs_background": "light"
     },
     "output_type": "display_data"
    }
   ],
   "source": [
    "out_file = os.path.join(output_folder, 'hit_proportions.png')\n",
    "palette = plot_matching_thresholds(hit_prop_df, out_file=out_file)\n",
    "palette"
   ]
  },
  {
   "cell_type": "markdown",
   "metadata": {},
   "source": [
    "# 2. Venn diagrams"
   ]
  },
  {
   "cell_type": "code",
   "execution_count": 13,
   "metadata": {},
   "outputs": [
    {
     "data": {
      "text/plain": [
       "['topN', 'SWATH', 'AIF']"
      ]
     },
     "execution_count": 13,
     "metadata": {},
     "output_type": "execute_result"
    }
   ],
   "source": [
    "methods"
   ]
  },
  {
   "cell_type": "code",
   "execution_count": 33,
   "metadata": {},
   "outputs": [
    {
     "name": "stdout",
     "output_type": "stream",
     "text": [
      "327 51 10 295 21 4\n"
     ]
    },
    {
     "data": {
      "image/png": "[encoded data removed]",
      "text/plain": [
       "<Figure size 504x504 with 1 Axes>"
      ]
     },
     "metadata": {},
     "output_type": "display_data"
    }
   ],
   "source": [
    "threshold = 0.6\n",
    "out_file = os.path.join(output_folder, 'venn_diagram.png')\n",
    "venn_diagram(hit_prop_df, methods, threshold, out_file=out_file)"
   ]
  },
  {
   "cell_type": "markdown",
   "metadata": {},
   "source": [
    "# 3. Plot Distribution of spectral similarity scores"
   ]
  },
  {
   "cell_type": "code",
   "execution_count": 15,
   "metadata": {},
   "outputs": [],
   "source": [
    "matching_threshold = 0.0"
   ]
  },
  {
   "cell_type": "code",
   "execution_count": 16,
   "metadata": {},
   "outputs": [],
   "source": [
    "pickle_file = os.path.join(output_folder, 'score_df.p')\n",
    "if not exists(pickle_file):\n",
    "    score_df = spectral_distribution(chem_library, base_folder, methods, matching_threshold, \n",
    "                                     matching_method, matching_ms1_tol, \n",
    "                                     matching_ms2_tol, matching_min_match_peaks, keep_all=False)  \n",
    "    score_df.to_pickle(pickle_file)    "
   ]
  },
  {
   "cell_type": "code",
   "execution_count": 17,
   "metadata": {},
   "outputs": [],
   "source": [
    "score_df = pd.read_pickle(os.path.join(output_folder, 'score_df.p'))\n",
    "score_df = score_df[score_df['score'] > 0.0]\n",
    "score_df['score_percent'] = score_df['score'] * 100"
   ]
  },
  {
   "cell_type": "code",
   "execution_count": 18,
   "metadata": {},
   "outputs": [
    {
     "data": {
      "text/plain": [
       "array(['topN', 'SWATH', 'AIF'], dtype=object)"
      ]
     },
     "execution_count": 18,
     "metadata": {},
     "output_type": "execute_result"
    }
   ],
   "source": [
    "score_df.method.unique()"
   ]
  },
  {
   "cell_type": "code",
   "execution_count": 19,
   "metadata": {},
   "outputs": [
    {
     "data": {
      "image/png": "[encoded data removed]",
      "text/plain": [
       "<Figure size 1440x360 with 2 Axes>"
      ]
     },
     "metadata": {
      "needs_background": "light"
     },
     "output_type": "display_data"
    }
   ],
   "source": [
    "out_file = os.path.join(output_folder, 'score_distributions.png')\n",
    "_ = plot_score_distributions(score_df, palette=palette, bins=10, out_file=out_file)"
   ]
  },
  {
   "cell_type": "code",
   "execution_count": 20,
   "metadata": {},
   "outputs": [
    {
     "data": {
      "text/plain": [
       "method\n",
       "AIF      15.175559\n",
       "SWATH    19.502342\n",
       "topN     26.507863\n",
       "Name: score_percent, dtype: float64"
      ]
     },
     "execution_count": 20,
     "metadata": {},
     "output_type": "execute_result"
    }
   ],
   "source": [
    "score_df.groupby(['method'])['score_percent'].median()"
   ]
  },
  {
   "cell_type": "markdown",
   "metadata": {},
   "source": [
    "# 4. Plot Pairwise Similarity of Spectra"
   ]
  },
  {
   "cell_type": "code",
   "execution_count": 21,
   "metadata": {},
   "outputs": [],
   "source": [
    "matching_threshold = 0.0"
   ]
  },
  {
   "cell_type": "code",
   "execution_count": 22,
   "metadata": {},
   "outputs": [],
   "source": [
    "pickle_file = os.path.join(output_folder, 'pairwise_score_df.p')\n",
    "if not exists(pickle_file):\n",
    "    pairwise_score_df = pairwise_spectral_distribution(chem_library, base_folder, methods, matching_threshold,\n",
    "                                                       matching_method, matching_ms1_tol, \n",
    "                                                       matching_ms2_tol, matching_min_match_peaks)\n",
    "    pairwise_score_df.to_pickle(pickle_file)    "
   ]
  },
  {
   "cell_type": "code",
   "execution_count": 23,
   "metadata": {},
   "outputs": [
    {
     "data": {
      "text/plain": [
       "(334684, 3)"
      ]
     },
     "execution_count": 23,
     "metadata": {},
     "output_type": "execute_result"
    }
   ],
   "source": [
    "pairwise_score_df = pd.read_pickle(os.path.join(output_folder, 'pairwise_score_df.p'))\n",
    "pairwise_score_df.shape"
   ]
  },
  {
   "cell_type": "code",
   "execution_count": 24,
   "metadata": {},
   "outputs": [
    {
     "data": {
      "text/html": [
       "<div>\n",
       "<style scoped>\n",
       "    .dataframe tbody tr th:only-of-type {\n",
       "        vertical-align: middle;\n",
       "    }\n",
       "\n",
       "    .dataframe tbody tr th {\n",
       "        vertical-align: top;\n",
       "    }\n",
       "\n",
       "    .dataframe thead th {\n",
       "        text-align: right;\n",
       "    }\n",
       "</style>\n",
       "<table border=\"1\" class=\"dataframe\">\n",
       "  <thead>\n",
       "    <tr style=\"text-align: right;\">\n",
       "      <th></th>\n",
       "      <th>method</th>\n",
       "      <th>spectrum_id</th>\n",
       "      <th>score</th>\n",
       "    </tr>\n",
       "  </thead>\n",
       "  <tbody>\n",
       "    <tr>\n",
       "      <th>0</th>\n",
       "      <td>ground_truth</td>\n",
       "      <td>CCMSLIB00003136158</td>\n",
       "      <td>0.000000</td>\n",
       "    </tr>\n",
       "    <tr>\n",
       "      <th>1</th>\n",
       "      <td>ground_truth</td>\n",
       "      <td>CCMSLIB00003136907</td>\n",
       "      <td>0.091661</td>\n",
       "    </tr>\n",
       "    <tr>\n",
       "      <th>2</th>\n",
       "      <td>ground_truth</td>\n",
       "      <td>CCMSLIB00003135860</td>\n",
       "      <td>0.000000</td>\n",
       "    </tr>\n",
       "    <tr>\n",
       "      <th>3</th>\n",
       "      <td>ground_truth</td>\n",
       "      <td>CCMSLIB00003136907</td>\n",
       "      <td>0.000000</td>\n",
       "    </tr>\n",
       "    <tr>\n",
       "      <th>4</th>\n",
       "      <td>ground_truth</td>\n",
       "      <td>CCMSLIB00003135860</td>\n",
       "      <td>0.091661</td>\n",
       "    </tr>\n",
       "    <tr>\n",
       "      <th>...</th>\n",
       "      <td>...</td>\n",
       "      <td>...</td>\n",
       "      <td>...</td>\n",
       "    </tr>\n",
       "    <tr>\n",
       "      <th>334679</th>\n",
       "      <td>AIF</td>\n",
       "      <td>peak_847.290220</td>\n",
       "      <td>0.466710</td>\n",
       "    </tr>\n",
       "    <tr>\n",
       "      <th>334680</th>\n",
       "      <td>AIF</td>\n",
       "      <td>peak_847.290220</td>\n",
       "      <td>0.466710</td>\n",
       "    </tr>\n",
       "    <tr>\n",
       "      <th>334681</th>\n",
       "      <td>AIF</td>\n",
       "      <td>peak_846.306150</td>\n",
       "      <td>0.466710</td>\n",
       "    </tr>\n",
       "    <tr>\n",
       "      <th>334682</th>\n",
       "      <td>AIF</td>\n",
       "      <td>peak_901.477230</td>\n",
       "      <td>0.537749</td>\n",
       "    </tr>\n",
       "    <tr>\n",
       "      <th>334683</th>\n",
       "      <td>AIF</td>\n",
       "      <td>peak_901.476990</td>\n",
       "      <td>0.537749</td>\n",
       "    </tr>\n",
       "  </tbody>\n",
       "</table>\n",
       "<p>334684 rows × 3 columns</p>\n",
       "</div>"
      ],
      "text/plain": [
       "              method         spectrum_id     score\n",
       "0       ground_truth  CCMSLIB00003136158  0.000000\n",
       "1       ground_truth  CCMSLIB00003136907  0.091661\n",
       "2       ground_truth  CCMSLIB00003135860  0.000000\n",
       "3       ground_truth  CCMSLIB00003136907  0.000000\n",
       "4       ground_truth  CCMSLIB00003135860  0.091661\n",
       "...              ...                 ...       ...\n",
       "334679           AIF     peak_847.290220  0.466710\n",
       "334680           AIF     peak_847.290220  0.466710\n",
       "334681           AIF     peak_846.306150  0.466710\n",
       "334682           AIF     peak_901.477230  0.537749\n",
       "334683           AIF     peak_901.476990  0.537749\n",
       "\n",
       "[334684 rows x 3 columns]"
      ]
     },
     "execution_count": 24,
     "metadata": {},
     "output_type": "execute_result"
    }
   ],
   "source": [
    "pairwise_score_df"
   ]
  },
  {
   "cell_type": "code",
   "execution_count": 25,
   "metadata": {},
   "outputs": [
    {
     "data": {
      "text/plain": [
       "[Text(0, 0, 'ground_truth'),\n",
       " Text(1, 0, 'topN'),\n",
       " Text(2, 0, 'SWATH'),\n",
       " Text(3, 0, 'AIF')]"
      ]
     },
     "execution_count": 25,
     "metadata": {},
     "output_type": "execute_result"
    },
    {
     "data": {
      "image/png": "[encoded data removed]",
      "text/plain": [
       "<Figure size 720x360 with 1 Axes>"
      ]
     },
     "metadata": {
      "needs_background": "light"
     },
     "output_type": "display_data"
    }
   ],
   "source": [
    "plt.figure(figsize=(10, 5))\n",
    "ax = sns.boxplot(data=pairwise_score_df, x='method', y='score', showfliers=True, \n",
    "                 medianprops={'color': 'red', 'lw': 3}, flierprops = dict(markerfacecolor = '0.50', markersize = 2))\n",
    "ax.set_xticklabels(ax.get_xticklabels(),rotation=90)"
   ]
  },
  {
   "cell_type": "code",
   "execution_count": 26,
   "metadata": {},
   "outputs": [
    {
     "data": {
      "text/plain": [
       "{'AIF': (0.12156862745098039, 0.4666666666666667, 0.7058823529411765),\n",
       " 'SWATH': (1.0, 0.4980392156862745, 0.054901960784313725),\n",
       " 'topN': (0.17254901960784313, 0.6274509803921569, 0.17254901960784313),\n",
       " 'ground_truth': (0.17254901960784313,\n",
       "  0.6274509803921569,\n",
       "  0.17254901960784313),\n",
       " 'ref_spec_gnps': 'white',\n",
       " 'ref_spec_intensity': 'white'}"
      ]
     },
     "execution_count": 26,
     "metadata": {},
     "output_type": "execute_result"
    },
    {
     "data": {
      "image/png": "[encoded data removed]",
      "text/plain": [
       "<Figure size 720x360 with 1 Axes>"
      ]
     },
     "metadata": {
      "needs_background": "light"
     },
     "output_type": "display_data"
    }
   ],
   "source": [
    "plot_pairwise_similarity(pairwise_score_df, palette=palette)"
   ]
  },
  {
   "cell_type": "markdown",
   "metadata": {},
   "source": [
    "### Combined plot"
   ]
  },
  {
   "cell_type": "code",
   "execution_count": 27,
   "metadata": {},
   "outputs": [],
   "source": [
    "gnps_output_folder = os.path.abspath('DDA_vs_DIA_real_similiarity_gnps_%d' % min_intensity)\n",
    "intensity_output_folder = os.path.abspath('DDA_vs_DIA_real_similiarity_intensity_non_overlap_%d' % min_intensity)"
   ]
  },
  {
   "cell_type": "code",
   "execution_count": 28,
   "metadata": {},
   "outputs": [
    {
     "data": {
      "text/plain": [
       "(334684, 3)"
      ]
     },
     "execution_count": 28,
     "metadata": {},
     "output_type": "execute_result"
    }
   ],
   "source": [
    "pairwise_score_gnps = pd.read_pickle(os.path.join(gnps_output_folder, 'pairwise_score_df.p'))\n",
    "pairwise_score_gnps.shape"
   ]
  },
  {
   "cell_type": "code",
   "execution_count": 29,
   "metadata": {},
   "outputs": [
    {
     "data": {
      "text/plain": [
       "(279095, 3)"
      ]
     },
     "execution_count": 29,
     "metadata": {},
     "output_type": "execute_result"
    }
   ],
   "source": [
    "pairwise_score_intensity = pd.read_pickle(os.path.join(intensity_output_folder, 'pairwise_score_df.p'))\n",
    "pairwise_score_intensity.shape"
   ]
  },
  {
   "cell_type": "code",
   "execution_count": 30,
   "metadata": {},
   "outputs": [
    {
     "data": {
      "text/html": [
       "<div>\n",
       "<style scoped>\n",
       "    .dataframe tbody tr th:only-of-type {\n",
       "        vertical-align: middle;\n",
       "    }\n",
       "\n",
       "    .dataframe tbody tr th {\n",
       "        vertical-align: top;\n",
       "    }\n",
       "\n",
       "    .dataframe thead th {\n",
       "        text-align: right;\n",
       "    }\n",
       "</style>\n",
       "<table border=\"1\" class=\"dataframe\">\n",
       "  <thead>\n",
       "    <tr style=\"text-align: right;\">\n",
       "      <th></th>\n",
       "      <th>method</th>\n",
       "      <th>spectrum_id</th>\n",
       "      <th>score</th>\n",
       "    </tr>\n",
       "  </thead>\n",
       "  <tbody>\n",
       "    <tr>\n",
       "      <th>0</th>\n",
       "      <td>ref_spec_gnps</td>\n",
       "      <td>CCMSLIB00003136158</td>\n",
       "      <td>0.000000</td>\n",
       "    </tr>\n",
       "    <tr>\n",
       "      <th>1</th>\n",
       "      <td>ref_spec_gnps</td>\n",
       "      <td>CCMSLIB00003136907</td>\n",
       "      <td>0.091661</td>\n",
       "    </tr>\n",
       "    <tr>\n",
       "      <th>2</th>\n",
       "      <td>ref_spec_gnps</td>\n",
       "      <td>CCMSLIB00003135860</td>\n",
       "      <td>0.000000</td>\n",
       "    </tr>\n",
       "    <tr>\n",
       "      <th>3</th>\n",
       "      <td>ref_spec_gnps</td>\n",
       "      <td>CCMSLIB00003136907</td>\n",
       "      <td>0.000000</td>\n",
       "    </tr>\n",
       "    <tr>\n",
       "      <th>4</th>\n",
       "      <td>ref_spec_gnps</td>\n",
       "      <td>CCMSLIB00003135860</td>\n",
       "      <td>0.091661</td>\n",
       "    </tr>\n",
       "    <tr>\n",
       "      <th>...</th>\n",
       "      <td>...</td>\n",
       "      <td>...</td>\n",
       "      <td>...</td>\n",
       "    </tr>\n",
       "    <tr>\n",
       "      <th>279090</th>\n",
       "      <td>AIF</td>\n",
       "      <td>peak_847.290220</td>\n",
       "      <td>0.466710</td>\n",
       "    </tr>\n",
       "    <tr>\n",
       "      <th>279091</th>\n",
       "      <td>AIF</td>\n",
       "      <td>peak_847.290220</td>\n",
       "      <td>0.466710</td>\n",
       "    </tr>\n",
       "    <tr>\n",
       "      <th>279092</th>\n",
       "      <td>AIF</td>\n",
       "      <td>peak_846.306150</td>\n",
       "      <td>0.466710</td>\n",
       "    </tr>\n",
       "    <tr>\n",
       "      <th>279093</th>\n",
       "      <td>AIF</td>\n",
       "      <td>peak_901.477230</td>\n",
       "      <td>0.537749</td>\n",
       "    </tr>\n",
       "    <tr>\n",
       "      <th>279094</th>\n",
       "      <td>AIF</td>\n",
       "      <td>peak_901.476990</td>\n",
       "      <td>0.537749</td>\n",
       "    </tr>\n",
       "  </tbody>\n",
       "</table>\n",
       "<p>440313 rows × 3 columns</p>\n",
       "</div>"
      ],
      "text/plain": [
       "               method         spectrum_id     score\n",
       "0       ref_spec_gnps  CCMSLIB00003136158  0.000000\n",
       "1       ref_spec_gnps  CCMSLIB00003136907  0.091661\n",
       "2       ref_spec_gnps  CCMSLIB00003135860  0.000000\n",
       "3       ref_spec_gnps  CCMSLIB00003136907  0.000000\n",
       "4       ref_spec_gnps  CCMSLIB00003135860  0.091661\n",
       "...               ...                 ...       ...\n",
       "279090            AIF     peak_847.290220  0.466710\n",
       "279091            AIF     peak_847.290220  0.466710\n",
       "279092            AIF     peak_846.306150  0.466710\n",
       "279093            AIF     peak_901.477230  0.537749\n",
       "279094            AIF     peak_901.476990  0.537749\n",
       "\n",
       "[440313 rows x 3 columns]"
      ]
     },
     "execution_count": 30,
     "metadata": {},
     "output_type": "execute_result"
    }
   ],
   "source": [
    "df1 = pairwise_score_gnps[pairwise_score_gnps['method'] == 'ground_truth'].replace('ground_truth', 'ref_spec_gnps')\n",
    "df2 = pairwise_score_intensity.replace('ground_truth', 'ref_spec_intensity')\n",
    "combined_df = pd.concat([df1, df2])\n",
    "combined_df"
   ]
  },
  {
   "cell_type": "code",
   "execution_count": 31,
   "metadata": {},
   "outputs": [
    {
     "data": {
      "text/plain": [
       "{'AIF': (0.12156862745098039, 0.4666666666666667, 0.7058823529411765),\n",
       " 'SWATH': (1.0, 0.4980392156862745, 0.054901960784313725),\n",
       " 'topN': (0.17254901960784313, 0.6274509803921569, 0.17254901960784313),\n",
       " 'ground_truth': (0.17254901960784313,\n",
       "  0.6274509803921569,\n",
       "  0.17254901960784313),\n",
       " 'ref_spec_gnps': 'white',\n",
       " 'ref_spec_intensity': 'white'}"
      ]
     },
     "execution_count": 31,
     "metadata": {},
     "output_type": "execute_result"
    },
    {
     "data": {
      "image/png": "[encoded data removed]",
      "text/plain": [
       "<Figure size 720x360 with 1 Axes>"
      ]
     },
     "metadata": {
      "needs_background": "light"
     },
     "output_type": "display_data"
    }
   ],
   "source": [
    "out_file = os.path.join(output_folder, 'pairwise_similarity.png')\n",
    "plot_pairwise_similarity(combined_df, palette=palette, out_file=out_file)"
   ]
  },
  {
   "cell_type": "code",
   "execution_count": 32,
   "metadata": {},
   "outputs": [
    {
     "data": {
      "text/plain": [
       "method\n",
       "AIF                   0.217851\n",
       "SWATH                 0.159224\n",
       "ref_spec_gnps         0.094690\n",
       "ref_spec_intensity    0.000000\n",
       "topN                  0.026392\n",
       "Name: score, dtype: float64"
      ]
     },
     "execution_count": 32,
     "metadata": {},
     "output_type": "execute_result"
    }
   ],
   "source": [
    "combined_df.groupby(['method'])['score'].median()"
   ]
  },
  {
   "cell_type": "code",
   "execution_count": null,
   "metadata": {},
   "outputs": [],
   "source": []
  }
 ],
 "metadata": {
  "kernelspec": {
   "display_name": "Python 3 (ipykernel)",
   "language": "python",
   "name": "python3"
  },
  "language_info": {
   "codemirror_mode": {
    "name": "ipython",
    "version": 3
   },
   "file_extension": ".py",
   "mimetype": "text/x-python",
   "name": "python",
   "nbconvert_exporter": "python",
   "pygments_lexer": "ipython3",
   "version": "3.9.12"
  }
 },
 "nbformat": 4,
 "nbformat_minor": 4
}
