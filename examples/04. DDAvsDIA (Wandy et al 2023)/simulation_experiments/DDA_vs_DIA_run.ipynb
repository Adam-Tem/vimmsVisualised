{
 "cells": [
  {
   "cell_type": "markdown",
   "metadata": {
    "tags": []
   },
   "source": [
    "# Run DDA vs DIA experiments"
   ]
  },
  {
   "cell_type": "markdown",
   "metadata": {},
   "source": [
    "# 0. Common imports and parameters"
   ]
  },
  {
   "cell_type": "code",
   "execution_count": 1,
   "metadata": {},
   "outputs": [],
   "source": [
    "%load_ext autoreload\n",
    "%autoreload 2\n",
    "%matplotlib inline"
   ]
  },
  {
   "cell_type": "code",
   "execution_count": 2,
   "metadata": {},
   "outputs": [],
   "source": [
    "import os\n",
    "import platform\n",
    "import sys\n",
    "from os.path import exists"
   ]
  },
  {
   "cell_type": "code",
   "execution_count": 3,
   "metadata": {},
   "outputs": [],
   "source": [
    "import numpy as np\n",
    "import glob\n",
    "from loguru import logger"
   ]
  },
  {
   "cell_type": "code",
   "execution_count": 4,
   "metadata": {},
   "outputs": [],
   "source": [
    "np.random.seed(seed=1234)"
   ]
  },
  {
   "cell_type": "code",
   "execution_count": 5,
   "metadata": {},
   "outputs": [],
   "source": [
    "if platform.system() == 'Darwin':\n",
    "    user = 'joewandy'\n",
    "    user_vimms = '/Users/%s/Work/git/vimms' % user\n",
    "    msdial_console_app = os.path.abspath(os.path.join('MSDIAL ver.4.90 OSX', 'MsdialConsoleApp'))\n",
    "    \n",
    "elif platform.system() == 'Windows':\n",
    "    user = 'joewa'\n",
    "    user_vimms = '/Users/%s/Work/git/vimms' % user    \n",
    "    msdial_console_app = os.path.abspath(os.path.join('MSDIAL ver.4.90 Windows', 'MsdialConsoleApp.exe'))\n",
    "\n",
    "elif platform.system() == 'Linux':\n",
    "    user = 'joewandy'\n",
    "    user_vimms = '/home/%s/vimms' % user\n",
    "    msdial_console_app = os.path.abspath(os.path.join('MSDIAL ver.4.90 Linux', 'MsdialConsoleApp'))    \n",
    "\n",
    "sys.path.append(user_vimms)\n",
    "mzmine_template = os.path.join(user_vimms, \"batch_files\", \"real_smartroi_eval.xml\")"
   ]
  },
  {
   "cell_type": "code",
   "execution_count": 6,
   "metadata": {},
   "outputs": [],
   "source": [
    "PATH_TO_VIMMS = user_vimms\n",
    "FIXTURES = os.path.join(PATH_TO_VIMMS,'tests','fixtures')\n",
    "EXPERIMENTS_HOME = os.path.abspath('results')\n",
    "sys.path.append(PATH_TO_VIMMS)"
   ]
  },
  {
   "cell_type": "code",
   "execution_count": 7,
   "metadata": {},
   "outputs": [],
   "source": [
    "from vimms.Common import load_obj, save_obj, set_log_level_info, set_log_level_warning\n",
    "from vimms.Common import POSITIVE, ROI_EXCLUSION_WEIGHTED_DEW\n",
    "from vimms.Chemicals import ChemicalMixtureCreator, MultipleMixtureCreator\n",
    "from vimms.ChemicalSamplers import DatabaseFormulaSampler, UniformRTAndIntensitySampler, UniformMS2Sampler, GaussianChromatogramSampler\n",
    "\n",
    "from vimms.Noise import UniformSpikeNoise, GaussianPeakNoiseLevelSpecific\n",
    "from vimms.Roi import RoiBuilderParams, SmartRoiParams\n",
    "\n",
    "from vimms.DDA_vs_DIA import make_msp, run_experiment"
   ]
  },
  {
   "cell_type": "markdown",
   "metadata": {
    "tags": []
   },
   "source": [
    "# 1. Make chems"
   ]
  },
  {
   "cell_type": "markdown",
   "metadata": {},
   "source": [
    "## a. Create base chemical objects"
   ]
  },
  {
   "cell_type": "code",
   "execution_count": 8,
   "metadata": {},
   "outputs": [],
   "source": [
    "chem_pickle_folder = os.path.join(EXPERIMENTS_HOME, 'base_chemicals')"
   ]
  },
  {
   "cell_type": "code",
   "execution_count": 9,
   "metadata": {},
   "outputs": [],
   "source": [
    "HMDB = load_obj(os.path.join(FIXTURES, 'hmdb_compounds.p'))"
   ]
  },
  {
   "cell_type": "code",
   "execution_count": 10,
   "metadata": {},
   "outputs": [],
   "source": [
    "min_sample_mz = 100\n",
    "max_sample_mz = 1000\n",
    "min_sample_rt = 0\n",
    "max_sample_rt = 440\n",
    "min_measure_mz = 0\n",
    "max_measure_mz = 1100\n",
    "min_measure_rt = 0\n",
    "max_measure_rt = 500\n",
    "min_log_sample_intensity = np.log(1e4)\n",
    "max_log_sample_intensity = np.log(1e7)\n",
    "\n",
    "# poission parameter used to sample the number of MS2 peaks in each chemical\n",
    "ms2_count_poiss_mean = 10\n",
    "\n",
    "# sigma of the gaussian chromatograms\n",
    "chrom_sigma = 5\n",
    "\n",
    "# the sizes of chemical sets to generate\n",
    "n_chem_list = [10, 20, 50, 100, 200, 500, 1000, 2000, 5000]\n",
    "\n",
    "# number of repetitions\n",
    "n_reps = 5\n",
    "\n",
    "adduct_prior_dict = {POSITIVE: {'M+H': 1.}}"
   ]
  },
  {
   "cell_type": "markdown",
   "metadata": {},
   "source": [
    "DEBUG is set below to generate a smaller test dataset. \n",
    "\n",
    "Disable DEBUG to generate the full simulated dataset used in the paper."
   ]
  },
  {
   "cell_type": "code",
   "execution_count": 11,
   "metadata": {},
   "outputs": [],
   "source": [
    "DEBUG = True"
   ]
  },
  {
   "cell_type": "code",
   "execution_count": 12,
   "metadata": {},
   "outputs": [
    {
     "name": "stderr",
     "output_type": "stream",
     "text": [
      "2022-12-21 12:24:16.846 | WARNING  | __main__:<cell line: 1>:2 - DEBUG is enabled!\n"
     ]
    }
   ],
   "source": [
    "if DEBUG:\n",
    "    logger.warning('DEBUG is enabled!')\n",
    "    n_chem_list = [100, 1000]\n",
    "    n_reps = 1"
   ]
  },
  {
   "cell_type": "code",
   "execution_count": 13,
   "metadata": {},
   "outputs": [],
   "source": [
    "db = DatabaseFormulaSampler(HMDB, min_mz=min_sample_mz, max_mz=max_sample_mz)\n",
    "ri = UniformRTAndIntensitySampler(min_rt=min_sample_rt, max_rt=max_sample_rt, min_log_intensity=min_log_sample_intensity, \n",
    "                                  max_log_intensity=max_log_sample_intensity)\n",
    "ms = UniformMS2Sampler(poiss_peak_mean=ms2_count_poiss_mean)\n",
    "cs = GaussianChromatogramSampler(sigma=chrom_sigma)"
   ]
  },
  {
   "cell_type": "code",
   "execution_count": 14,
   "metadata": {},
   "outputs": [],
   "source": [
    "handler_id = set_log_level_info()"
   ]
  },
  {
   "cell_type": "code",
   "execution_count": 15,
   "metadata": {
    "tags": []
   },
   "outputs": [
    {
     "name": "stderr",
     "output_type": "stream",
     "text": [
      "2022-12-21 12:24:20.599 | INFO     | vimms.Common:create_if_not_exist:378 - Created /Users/joewandy/Work/git/vimms/examples/04. DDAvsDIA (Wandy et al 2023)/results/base_chemicals\n",
      "2022-12-21 12:24:20.600 | INFO     | vimms.Common:save_obj:437 - Saving <class 'list'> to /Users/joewandy/Work/git/vimms/examples/04. DDAvsDIA (Wandy et al 2023)/results/base_chemicals/chems_100_0.p\n",
      "2022-12-21 12:24:25.476 | INFO     | vimms.Common:save_obj:437 - Saving <class 'list'> to /Users/joewandy/Work/git/vimms/examples/04. DDAvsDIA (Wandy et al 2023)/results/base_chemicals/chems_1000_0.p\n"
     ]
    }
   ],
   "source": [
    "for n_chems in n_chem_list:\n",
    "    for rep in range(n_reps):\n",
    "        out_name = os.path.join(chem_pickle_folder, 'chems_{}_{}.p'.format(n_chems, rep))\n",
    "        if not exists(out_name):\n",
    "            cm = ChemicalMixtureCreator(db, rt_and_intensity_sampler=ri, ms2_sampler=ms, chromatogram_sampler=cs, adduct_prior_dict=adduct_prior_dict)\n",
    "            chems = cm.sample(n_chems, 2, include_adducts_isotopes=False) \n",
    "            save_obj(chems, out_name)\n",
    "        else:\n",
    "            logger.info('Already exists %s' % out_name)"
   ]
  },
  {
   "cell_type": "markdown",
   "metadata": {},
   "source": [
    "## b. Make MSP files from base chemicals"
   ]
  },
  {
   "cell_type": "markdown",
   "metadata": {},
   "source": [
    "Used for matching generated MS2 spectra to the chemicals in e.g. MS-DIAL later on"
   ]
  },
  {
   "cell_type": "code",
   "execution_count": 16,
   "metadata": {
    "tags": []
   },
   "outputs": [
    {
     "name": "stderr",
     "output_type": "stream",
     "text": [
      "2022-12-21 12:24:25.608 | INFO     | vimms.DDA_vs_DIA:make_msp:33 - /Users/joewandy/Work/git/vimms/examples/04. DDAvsDIA (Wandy et al 2023)/results/base_chemicals/chems_1000_0.p\n",
      "2022-12-21 12:24:25.803 | INFO     | vimms.DDA_vs_DIA:make_msp:40 - /Users/joewandy/Work/git/vimms/examples/04. DDAvsDIA (Wandy et al 2023)/results/base_chemicals/chems_1000_0.msp\n",
      "2022-12-21 12:24:25.883 | INFO     | vimms.DDA_vs_DIA:make_msp:33 - /Users/joewandy/Work/git/vimms/examples/04. DDAvsDIA (Wandy et al 2023)/results/base_chemicals/chems_100_0.p\n",
      "2022-12-21 12:24:25.896 | INFO     | vimms.DDA_vs_DIA:make_msp:40 - /Users/joewandy/Work/git/vimms/examples/04. DDAvsDIA (Wandy et al 2023)/results/base_chemicals/chems_100_0.msp\n"
     ]
    }
   ],
   "source": [
    "make_msp(chem_pickle_folder)"
   ]
  },
  {
   "cell_type": "markdown",
   "metadata": {
    "tags": []
   },
   "source": [
    "# 2. Generate chemicals for the different experiments"
   ]
  },
  {
   "cell_type": "code",
   "execution_count": 17,
   "metadata": {},
   "outputs": [],
   "source": [
    "case_vs_control_experiment = 'case_v_control_chemicals'"
   ]
  },
  {
   "cell_type": "code",
   "execution_count": 18,
   "metadata": {},
   "outputs": [],
   "source": [
    "cvc_pickle_folder = os.path.join(EXPERIMENTS_HOME, case_vs_control_experiment)"
   ]
  },
  {
   "cell_type": "markdown",
   "metadata": {},
   "source": [
    "## a. Case vs control"
   ]
  },
  {
   "cell_type": "markdown",
   "metadata": {},
   "source": [
    "Load each chemical list and create a multiple mixture creator, saving the resulting list of chemical lists"
   ]
  },
  {
   "cell_type": "code",
   "execution_count": 19,
   "metadata": {},
   "outputs": [],
   "source": [
    "n_case = 5\n",
    "n_control = 5\n",
    "prob_missing_case = 0\n",
    "prob_changing_case = 1"
   ]
  },
  {
   "cell_type": "code",
   "execution_count": 20,
   "metadata": {},
   "outputs": [],
   "source": [
    "sample_list = ['control' for i in range(n_control)] + ['case' for i in range(n_case)]\n",
    "sample_dict = {'case': {'missing_probability': prob_missing_case, 'changing_probability': prob_changing_case}}"
   ]
  },
  {
   "cell_type": "code",
   "execution_count": 21,
   "metadata": {
    "tags": []
   },
   "outputs": [
    {
     "name": "stderr",
     "output_type": "stream",
     "text": [
      "2022-12-21 12:24:26.097 | INFO     | __main__:<cell line: 2>:7 - /Users/joewandy/Work/git/vimms/examples/04. DDAvsDIA (Wandy et al 2023)/results/base_chemicals/chems_100_0.p\n",
      "2022-12-21 12:24:26.669 | INFO     | vimms.Common:create_if_not_exist:378 - Created /Users/joewandy/Work/git/vimms/examples/04. DDAvsDIA (Wandy et al 2023)/results/case_v_control_chemicals\n",
      "2022-12-21 12:24:26.670 | INFO     | vimms.Common:save_obj:437 - Saving <class 'list'> to /Users/joewandy/Work/git/vimms/examples/04. DDAvsDIA (Wandy et al 2023)/results/case_v_control_chemicals/chems_100_0_cvc.p\n",
      "2022-12-21 12:24:26.951 | INFO     | __main__:<cell line: 2>:7 - /Users/joewandy/Work/git/vimms/examples/04. DDAvsDIA (Wandy et al 2023)/results/base_chemicals/chems_1000_0.p\n",
      "2022-12-21 12:24:33.070 | INFO     | vimms.Common:save_obj:437 - Saving <class 'list'> to /Users/joewandy/Work/git/vimms/examples/04. DDAvsDIA (Wandy et al 2023)/results/case_v_control_chemicals/chems_1000_0_cvc.p\n"
     ]
    }
   ],
   "source": [
    "original_pickle_files = glob.glob(os.path.join(chem_pickle_folder, '*.p'))\n",
    "for rep in range(n_reps):\n",
    "    for n_chems in n_chem_list:\n",
    "        out_name = os.path.join(cvc_pickle_folder, 'chems_{}_{}_cvc.p'.format(n_chems, rep))\n",
    "        if not exists(out_name):        \n",
    "            pf = os.path.join(chem_pickle_folder, 'chems_{}_{}.p'.format(n_chems, rep))\n",
    "            logger.info(pf)\n",
    "            chems = load_obj(pf)\n",
    "            mm = MultipleMixtureCreator(chems, sample_list, sample_dict)\n",
    "            chem_list = mm.generate_chemical_lists()\n",
    "            save_obj(chem_list, out_name)\n",
    "        else:\n",
    "            logger.info('Already exists %s' % out_name)"
   ]
  },
  {
   "cell_type": "markdown",
   "metadata": {
    "tags": []
   },
   "source": [
    "# 3. Run controllers"
   ]
  },
  {
   "cell_type": "code",
   "execution_count": 22,
   "metadata": {},
   "outputs": [],
   "source": [
    "handler_id = set_log_level_warning(handler_id)"
   ]
  },
  {
   "cell_type": "code",
   "execution_count": 23,
   "metadata": {},
   "outputs": [],
   "source": [
    "experiment_params = {\n",
    "    'ionisation_mode': POSITIVE,        \n",
    "    'min_measure_rt': min_measure_rt,\n",
    "    'max_measure_rt': max_measure_rt,\n",
    "    'min_measure_mz': min_measure_mz,\n",
    "    'max_measure_mz': max_measure_mz,\n",
    "    'rt_box_size': 50,\n",
    "    'mz_box_size': 1,\n",
    "    'scan_duration_dict': {1: 0.4, 2: 0.2},     # this ok?\n",
    "    'spike_noise': UniformSpikeNoise(0.1, 1e3), # smallest peaks are 10 x bigger than noise at their apex\n",
    "    \n",
    "    # important for correlation-based DIA method to have some noise on the MS2 peaks\n",
    "    # otherwise the correlation will always be 1\n",
    "    'mz_noise': GaussianPeakNoiseLevelSpecific({2: 0.01}),\n",
    "    'intensity_noise': GaussianPeakNoiseLevelSpecific({2: 1000.}),\n",
    "    \n",
    "    'topN_params': {\n",
    "        \"ionisation_mode\": POSITIVE,\n",
    "        \"N\": 10,\n",
    "        \"isolation_width\": 0.7,\n",
    "        \"min_ms1_intensity\": 5000,              # same as SmartROI paper, need to optimise this?\n",
    "        \"mz_tol\": 10,\n",
    "        \"rt_tol\": 15\n",
    "    },\n",
    "    'AIF_params': {\n",
    "        'ms1_source_cid_energy': 30\n",
    "    },\n",
    "    'SWATH_params': {\n",
    "        'min_mz': 0,\n",
    "        'max_mz': 1100,\n",
    "        'width': 100,\n",
    "        'scan_overlap': 0\n",
    "    },\n",
    "\n",
    "    # below are for multi-sample (repeated injection) controllers that are not used in the paper\n",
    "    \n",
    "    'non_overlap_params': {\n",
    "        'roi_params': RoiBuilderParams(min_roi_intensity=500, min_roi_length=0),  # same as SmartROI paper\n",
    "        'min_roi_length_for_fragmentation': 0,  # same as SmartROI paper\n",
    "    },\n",
    "    'smartroi_params': {\n",
    "        'smartroi_params': SmartRoiParams()\n",
    "    },\n",
    "    'weighteddew_params': {\n",
    "        # 'rt_tol': 120,  # weighteddew parameters\n",
    "        # 'exclusion_method': ROI_EXCLUSION_WEIGHTED_DEW,  # weighteddew parameters\n",
    "        # 'exclusion_t_0': 15,  # weighteddew parameters        \n",
    "        \n",
    "        'rt_tol': 15,  # weighteddew parameters\n",
    "        'exclusion_method': ROI_EXCLUSION_WEIGHTED_DEW,  # weighteddew parameters\n",
    "        'exclusion_t_0': 1,  # weighteddew parameters\n",
    "    },\n",
    "    \n",
    "    \n",
    "}\n",
    "\n",
    "controller_names = [\n",
    "    'topN',\n",
    "    'SWATH',\n",
    "    'AIF',    \n",
    "    \n",
    "    # below are for multi-sample (repeated injection) controllers that are not used in the paper\n",
    "    # 'topN_exclusion', \n",
    "    # 'intensity_non_overlap_weighteddew',    \n",
    "]"
   ]
  },
  {
   "cell_type": "markdown",
   "metadata": {},
   "source": [
    "## a. Case vs control"
   ]
  },
  {
   "cell_type": "code",
   "execution_count": 24,
   "metadata": {},
   "outputs": [],
   "source": [
    "result_folder = cvc_pickle_folder"
   ]
  },
  {
   "cell_type": "code",
   "execution_count": 25,
   "metadata": {},
   "outputs": [
    {
     "data": {
      "text/plain": [
       "['control_0',\n",
       " 'control_1',\n",
       " 'control_2',\n",
       " 'control_3',\n",
       " 'control_4',\n",
       " 'case_0',\n",
       " 'case_1',\n",
       " 'case_2',\n",
       " 'case_3',\n",
       " 'case_4']"
      ]
     },
     "execution_count": 25,
     "metadata": {},
     "output_type": "execute_result"
    }
   ],
   "source": [
    "n_case = 5\n",
    "n_control = 5\n",
    "sample_list = ['control_%d' % i for i in range(n_control)] + ['case_%d' % i for i in range(n_case)]\n",
    "sample_list"
   ]
  },
  {
   "cell_type": "code",
   "execution_count": 26,
   "metadata": {},
   "outputs": [
    {
     "name": "stderr",
     "output_type": "stream",
     "text": [
      "2022-12-21 12:24:35.000 | WARNING  | vimms.DDA_vs_DIA:run_experiment:91 - Running controllers in parallel, please wait ...\n"
     ]
    },
    {
     "name": "stdout",
     "output_type": "stream",
     "text": [
      "Waiting for connection file: ~/.ipython/profile_default/security/ipcontroller-client.json\n"
     ]
    },
    {
     "name": "stderr",
     "output_type": "stream",
     "text": [
      "2022-12-21 12:24:45.039 | WARNING  | vimms.DDA_vs_DIA:run_experiment:101 - Failed: IPycluster not found\n",
      "2022-12-21 12:24:45.042 | WARNING  | vimms.DDA_vs_DIA:run_experiment:107 - Running controllers in serial mode, please wait ...\n",
      "2022-12-21 12:24:45.043 | WARNING  | vimms.DDA_vs_DIA:run_once:129 - /Users/joewandy/Work/git/vimms/examples/04. DDAvsDIA (Wandy et al 2023)/results/case_v_control_chemicals/chems_100_0_cvc.p\n",
      "2022-12-21 12:24:45.582 | WARNING  | vimms.DDA_vs_DIA:run_simulated_exp:265 - control_0 topN\n",
      "2022-12-21 12:24:50.203 | WARNING  | vimms.DDA_vs_DIA:run_simulated_exp:265 - control_1 topN\n",
      "2022-12-21 12:24:52.861 | WARNING  | vimms.DDA_vs_DIA:run_simulated_exp:265 - control_2 topN\n",
      "2022-12-21 12:24:55.631 | WARNING  | vimms.DDA_vs_DIA:run_simulated_exp:265 - control_3 topN\n",
      "2022-12-21 12:24:58.297 | WARNING  | vimms.DDA_vs_DIA:run_simulated_exp:265 - control_4 topN\n",
      "2022-12-21 12:25:01.378 | WARNING  | vimms.DDA_vs_DIA:run_simulated_exp:265 - case_0 topN\n",
      "2022-12-21 12:25:04.035 | WARNING  | vimms.DDA_vs_DIA:run_simulated_exp:265 - case_1 topN\n",
      "2022-12-21 12:25:06.686 | WARNING  | vimms.DDA_vs_DIA:run_simulated_exp:265 - case_2 topN\n",
      "2022-12-21 12:25:09.338 | WARNING  | vimms.DDA_vs_DIA:run_simulated_exp:265 - case_3 topN\n",
      "2022-12-21 12:25:12.009 | WARNING  | vimms.DDA_vs_DIA:run_simulated_exp:265 - case_4 topN\n",
      "2022-12-21 12:25:15.017 | WARNING  | vimms.DDA_vs_DIA:run_simulated_exp:265 - control_0 SWATH\n",
      "2022-12-21 12:25:20.136 | WARNING  | vimms.DDA_vs_DIA:run_simulated_exp:265 - control_1 SWATH\n",
      "2022-12-21 12:25:25.216 | WARNING  | vimms.DDA_vs_DIA:run_simulated_exp:265 - control_2 SWATH\n",
      "2022-12-21 12:25:30.563 | WARNING  | vimms.DDA_vs_DIA:run_simulated_exp:265 - control_3 SWATH\n",
      "2022-12-21 12:25:35.659 | WARNING  | vimms.DDA_vs_DIA:run_simulated_exp:265 - control_4 SWATH\n",
      "2022-12-21 12:25:40.741 | WARNING  | vimms.DDA_vs_DIA:run_simulated_exp:265 - case_0 SWATH\n",
      "2022-12-21 12:25:45.810 | WARNING  | vimms.DDA_vs_DIA:run_simulated_exp:265 - case_1 SWATH\n",
      "2022-12-21 12:25:50.945 | WARNING  | vimms.DDA_vs_DIA:run_simulated_exp:265 - case_2 SWATH\n",
      "2022-12-21 12:25:56.305 | WARNING  | vimms.DDA_vs_DIA:run_simulated_exp:265 - case_3 SWATH\n",
      "2022-12-21 12:26:01.985 | WARNING  | vimms.DDA_vs_DIA:run_simulated_exp:265 - case_4 SWATH\n",
      "2022-12-21 12:26:07.094 | WARNING  | vimms.DDA_vs_DIA:run_simulated_exp:265 - control_0 AIF\n",
      "2022-12-21 12:26:14.189 | WARNING  | vimms.DDA_vs_DIA:run_simulated_exp:265 - control_1 AIF\n",
      "2022-12-21 12:26:21.568 | WARNING  | vimms.DDA_vs_DIA:run_simulated_exp:265 - control_2 AIF\n",
      "2022-12-21 12:26:28.665 | WARNING  | vimms.DDA_vs_DIA:run_simulated_exp:265 - control_3 AIF\n",
      "2022-12-21 12:26:35.750 | WARNING  | vimms.DDA_vs_DIA:run_simulated_exp:265 - control_4 AIF\n",
      "2022-12-21 12:26:43.162 | WARNING  | vimms.DDA_vs_DIA:run_simulated_exp:265 - case_0 AIF\n",
      "2022-12-21 12:26:50.243 | WARNING  | vimms.DDA_vs_DIA:run_simulated_exp:265 - case_1 AIF\n",
      "2022-12-21 12:26:57.471 | WARNING  | vimms.DDA_vs_DIA:run_simulated_exp:265 - case_2 AIF\n",
      "2022-12-21 12:27:04.765 | WARNING  | vimms.DDA_vs_DIA:run_simulated_exp:265 - case_3 AIF\n",
      "2022-12-21 12:27:12.430 | WARNING  | vimms.DDA_vs_DIA:run_simulated_exp:265 - case_4 AIF\n",
      "2022-12-21 12:27:19.558 | WARNING  | vimms.DDA_vs_DIA:run_once:129 - /Users/joewandy/Work/git/vimms/examples/04. DDAvsDIA (Wandy et al 2023)/results/case_v_control_chemicals/chems_1000_0_cvc.p\n",
      "2022-12-21 12:27:23.163 | WARNING  | vimms.DDA_vs_DIA:run_simulated_exp:265 - control_0 topN\n",
      "2022-12-21 12:27:32.491 | WARNING  | vimms.DDA_vs_DIA:run_simulated_exp:265 - control_1 topN\n",
      "2022-12-21 12:27:41.371 | WARNING  | vimms.DDA_vs_DIA:run_simulated_exp:265 - control_2 topN\n",
      "2022-12-21 12:27:50.227 | WARNING  | vimms.DDA_vs_DIA:run_simulated_exp:265 - control_3 topN\n",
      "2022-12-21 12:28:00.093 | WARNING  | vimms.DDA_vs_DIA:run_simulated_exp:265 - control_4 topN\n",
      "2022-12-21 12:28:08.989 | WARNING  | vimms.DDA_vs_DIA:run_simulated_exp:265 - case_0 topN\n",
      "2022-12-21 12:28:18.564 | WARNING  | vimms.DDA_vs_DIA:run_simulated_exp:265 - case_1 topN\n",
      "2022-12-21 12:28:27.397 | WARNING  | vimms.DDA_vs_DIA:run_simulated_exp:265 - case_2 topN\n",
      "2022-12-21 12:28:36.788 | WARNING  | vimms.DDA_vs_DIA:run_simulated_exp:265 - case_3 topN\n",
      "2022-12-21 12:28:45.620 | WARNING  | vimms.DDA_vs_DIA:run_simulated_exp:265 - case_4 topN\n",
      "2022-12-21 12:28:55.405 | WARNING  | vimms.DDA_vs_DIA:run_simulated_exp:265 - control_0 SWATH\n",
      "2022-12-21 12:29:15.638 | WARNING  | vimms.DDA_vs_DIA:run_simulated_exp:265 - control_1 SWATH\n",
      "2022-12-21 12:29:36.749 | WARNING  | vimms.DDA_vs_DIA:run_simulated_exp:265 - control_2 SWATH\n",
      "2022-12-21 12:29:57.837 | WARNING  | vimms.DDA_vs_DIA:run_simulated_exp:265 - control_3 SWATH\n",
      "2022-12-21 12:30:18.296 | WARNING  | vimms.DDA_vs_DIA:run_simulated_exp:265 - control_4 SWATH\n",
      "2022-12-21 12:30:39.303 | WARNING  | vimms.DDA_vs_DIA:run_simulated_exp:265 - case_0 SWATH\n",
      "2022-12-21 12:30:59.640 | WARNING  | vimms.DDA_vs_DIA:run_simulated_exp:265 - case_1 SWATH\n",
      "2022-12-21 12:31:20.628 | WARNING  | vimms.DDA_vs_DIA:run_simulated_exp:265 - case_2 SWATH\n",
      "2022-12-21 12:31:40.884 | WARNING  | vimms.DDA_vs_DIA:run_simulated_exp:265 - case_3 SWATH\n",
      "2022-12-21 12:32:02.240 | WARNING  | vimms.DDA_vs_DIA:run_simulated_exp:265 - case_4 SWATH\n",
      "2022-12-21 12:32:23.780 | WARNING  | vimms.DDA_vs_DIA:run_simulated_exp:265 - control_0 AIF\n",
      "2022-12-21 12:33:20.173 | WARNING  | vimms.DDA_vs_DIA:run_simulated_exp:265 - control_1 AIF\n",
      "2022-12-21 12:34:17.037 | WARNING  | vimms.DDA_vs_DIA:run_simulated_exp:265 - control_2 AIF\n",
      "2022-12-21 12:35:13.184 | WARNING  | vimms.DDA_vs_DIA:run_simulated_exp:265 - control_3 AIF\n",
      "2022-12-21 12:36:09.546 | WARNING  | vimms.DDA_vs_DIA:run_simulated_exp:265 - control_4 AIF\n",
      "\n",
      "KeyboardInterrupt\n",
      "\n"
     ]
    }
   ],
   "source": [
    "run_experiment(result_folder, sample_list, controller_names, experiment_params)"
   ]
  }
 ],
 "metadata": {
  "kernelspec": {
   "display_name": "Python 3 (ipykernel)",
   "language": "python",
   "name": "python3"
  },
  "language_info": {
   "codemirror_mode": {
    "name": "ipython",
    "version": 3
   },
   "file_extension": ".py",
   "mimetype": "text/x-python",
   "name": "python",
   "nbconvert_exporter": "python",
   "pygments_lexer": "ipython3",
   "version": "3.9.12"
  },
  "vscode": {
   "interpreter": {
    "hash": "ff2c47436ba75d2df821c03037528e215cd4256a43d1eb6a51eb6f9afd796f82"
   }
  }
 },
 "nbformat": 4,
 "nbformat_minor": 4
}
